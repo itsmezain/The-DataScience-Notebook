{
  "cells": [
    {
      "cell_type": "markdown",
      "metadata": {
        "id": "J88qfqQEk_sT"
      },
      "source": [
        "### `Q-1:` Create a random 4x3 matrix with value between 0-100. And perform below tasks\n",
        "\n",
        "    i. Sort this matrix. np.sort()\n",
        "    ii. Sort this matrix based on values in 2nd column.\n",
        "    iii. Sort this matrix based on max value in each row.\n",
        "    iv. Sort based on elements value.\n"
      ]
    },
    {
      "cell_type": "markdown",
      "metadata": {
        "id": "xpOwOdhqlE9R"
      },
      "source": [
        "See examples:\n",
        "```\n",
        "arr =\n",
        "    [[92 90 74]\n",
        "    [ 6 63 93]\n",
        "    [15 93 96]\n",
        "    [70 60 48]]\n",
        "```\n",
        "```\n",
        "i. np.sort\n",
        "[[74 90 92]\n",
        " [ 6 63 93]\n",
        " [15 93 96]\n",
        " [48 60 70]]\n",
        "\n",
        "ii. based on 2nd column\n",
        "[[70 60 48]\n",
        " [ 6 63 93]\n",
        " [92 90 74]\n",
        " [15 93 96]]\n",
        "\n",
        "iii. based on row max- ascending\n",
        "[[15 93 96]\n",
        " [ 6 63 93]\n",
        " [92 90 74]\n",
        " [70 60 48]]\n",
        "\n",
        "iv. based on elements value\n",
        "[[ 6 15 48]\n",
        " [60 63 70]\n",
        " [74 90 92]\n",
        " [93 93 96]]\n",
        "\n",
        "```"
      ]
    },
    {
      "cell_type": "code",
      "execution_count": 3,
      "metadata": {
        "id": "Auy-guUwlALv"
      },
      "outputs": [
        {
          "data": {
            "text/plain": [
              "array([[45, 72, 21, 99],\n",
              "       [45, 23, 63, 59],\n",
              "       [99, 13, 44, 48]])"
            ]
          },
          "execution_count": 3,
          "metadata": {},
          "output_type": "execute_result"
        }
      ],
      "source": [
        "# code here\n",
        "import numpy as np\n",
        "\n",
        "arr = np.random.randint(1,100,12).reshape(3,4)\n",
        "arr"
      ]
    },
    {
      "cell_type": "code",
      "execution_count": 4,
      "metadata": {},
      "outputs": [
        {
          "data": {
            "text/plain": [
              "array([[92, 90, 74],\n",
              "       [ 6, 63, 93],\n",
              "       [15, 93, 96],\n",
              "       [70, 60, 48]])"
            ]
          },
          "execution_count": 4,
          "metadata": {},
          "output_type": "execute_result"
        }
      ],
      "source": [
        "arr =  [[92, 90, 74],\n",
        "        [6 , 63, 93],\n",
        "        [15, 93, 96],\n",
        "        [70, 60, 48]]\n",
        "arr = np.array(arr)\n",
        "arr"
      ]
    },
    {
      "cell_type": "code",
      "execution_count": 5,
      "metadata": {},
      "outputs": [
        {
          "data": {
            "text/plain": [
              "array([[74, 90, 92],\n",
              "       [ 6, 63, 93],\n",
              "       [15, 93, 96],\n",
              "       [48, 60, 70]])"
            ]
          },
          "execution_count": 5,
          "metadata": {},
          "output_type": "execute_result"
        }
      ],
      "source": [
        "# i) Sort this matrix. np.sort()\n",
        "\n",
        "np.sort(arr, axis = 1)"
      ]
    },
    {
      "cell_type": "code",
      "execution_count": 6,
      "metadata": {},
      "outputs": [
        {
          "data": {
            "text/plain": [
              "array([[70, 60, 48],\n",
              "       [ 6, 63, 93],\n",
              "       [92, 90, 74],\n",
              "       [15, 93, 96]])"
            ]
          },
          "execution_count": 6,
          "metadata": {},
          "output_type": "execute_result"
        }
      ],
      "source": [
        "# ii) Sort this matrix based on values in 2nd column.\n",
        "\n",
        "sorted_index = np.argsort(arr[:,1])\n",
        "arr[sorted_index]"
      ]
    },
    {
      "cell_type": "code",
      "execution_count": 7,
      "metadata": {},
      "outputs": [
        {
          "data": {
            "text/plain": [
              "array([[15, 93, 96],\n",
              "       [ 6, 63, 93],\n",
              "       [92, 90, 74],\n",
              "       [70, 60, 48]])"
            ]
          },
          "execution_count": 7,
          "metadata": {},
          "output_type": "execute_result"
        }
      ],
      "source": [
        "# iii) Sort this matrix based on max value in each row.\n",
        "\n",
        "arr[np.max(arr, axis = 1).argsort()][::-1]\n"
      ]
    },
    {
      "cell_type": "code",
      "execution_count": 8,
      "metadata": {},
      "outputs": [
        {
          "data": {
            "text/plain": [
              "array([[ 6, 15, 48, 60],\n",
              "       [63, 70, 74, 90],\n",
              "       [92, 93, 93, 96]])"
            ]
          },
          "execution_count": 8,
          "metadata": {},
          "output_type": "execute_result"
        }
      ],
      "source": [
        "# iv) Sort this matrix based on elements value.\n",
        "\n",
        "np.sort(arr, axis = None).reshape(3,4)"
      ]
    },
    {
      "cell_type": "markdown",
      "metadata": {
        "id": "Jx_I3gx9lBay"
      },
      "source": [
        "### `Q-2:` There is an array of marks of 5 students in 4 subjects. Further you are asked to perform below task.\n",
        "    i. Add marks every student of an extra subject in the same array.\n",
        "    ii. Add two new students marks in respective 5 subjects.(one subject added in above task)\n",
        "    iii. Add extra column with sum of all subjects(5-subjects) marks\n",
        "    iv. Sort the array(non-ascending order) on total marks column--one added in above task. Show top 2 rows.\n",
        "\n",
        "Note: Change dimension of arrays during concatenation or appending if required."
      ]
    },
    {
      "cell_type": "markdown",
      "metadata": {
        "id": "lXF-CE6ylNIw"
      },
      "source": [
        "Given Array-\n",
        "```\n",
        "marks = [[13, 10,  9, 33],\n",
        "       [63, 46, 90, 42],\n",
        "       [39, 76, 13, 29],\n",
        "       [82,  9, 29, 78],\n",
        "       [67, 61, 59, 36]]\n",
        "\n",
        "extra_subject = [41, 87, 72, 36, 92]\n",
        "#Two extra students record-\n",
        "rec1 = [77, 83, 98, 95, 89]\n",
        "rec2 = [92, 71, 52, 61, 53]\n",
        "```"
      ]
    },
    {
      "cell_type": "code",
      "execution_count": 9,
      "metadata": {
        "id": "7YKsWO2olMkq"
      },
      "outputs": [
        {
          "name": "stdout",
          "output_type": "stream",
          "text": [
            "Marks after adding extra subjects is : \n",
            "[[13 10  9 33 41]\n",
            " [63 46 90 42 87]\n",
            " [39 76 13 29 72]\n",
            " [82  9 29 78 36]\n",
            " [67 61 59 36 92]]\n",
            "Marks after adding two subjects is : \n",
            "[[13 10  9 33 41]\n",
            " [63 46 90 42 87]\n",
            " [39 76 13 29 72]\n",
            " [82  9 29 78 36]\n",
            " [67 61 59 36 92]\n",
            " [77 83 98 95 89]\n",
            " [92 71 52 61 53]]\n",
            "Marks After Adding Total Marks : \n",
            "[[ 13  10   9  33  41 106]\n",
            " [ 63  46  90  42  87 328]\n",
            " [ 39  76  13  29  72 229]\n",
            " [ 82   9  29  78  36 234]\n",
            " [ 67  61  59  36  92 315]\n",
            " [ 77  83  98  95  89 442]\n",
            " [ 92  71  52  61  53 329]]\n",
            "Records with Maximum Marks\n"
          ]
        },
        {
          "data": {
            "text/plain": [
              "array([[ 77,  83,  98,  95,  89, 442],\n",
              "       [ 92,  71,  52,  61,  53, 329]])"
            ]
          },
          "execution_count": 9,
          "metadata": {},
          "output_type": "execute_result"
        }
      ],
      "source": [
        "# code here\n",
        "marks = [\n",
        "    [13, 10, 9, 33],\n",
        "    [63, 46, 90, 42],\n",
        "    [39, 76, 13, 29],\n",
        "    [82, 9, 29, 78],\n",
        "    [67, 61, 59, 36],\n",
        "]\n",
        "\n",
        "marks = np.array(marks)\n",
        "\n",
        "extra_subject = [41, 87, 72, 36, 92]\n",
        "extra_subject = np.array(extra_subject).reshape(-1, 1)\n",
        "# Two extra students record-\n",
        "rec1 = [77, 83, 98, 95, 89]\n",
        "rec1 = np.array(rec1)\n",
        "rec2 = [92, 71, 52, 61, 53]\n",
        "rec2 = np.array(rec2)\n",
        "\n",
        "# i) Add marks of the extra subject to each student (as a new column)\n",
        "marks = np.hstack((marks, extra_subject))\n",
        "print(\"Marks after adding extra subjects is : \")\n",
        "print(marks)\n",
        "\n",
        "# ii) Add two new students marks (each record is already of length 5)\n",
        "marks = np.vstack((marks, rec1, rec2))\n",
        "print(\"Marks after adding two subjects is : \")\n",
        "print(marks)\n",
        "\n",
        "# iii)  Add an extra column with the sum of all subject marks (for 5 subjects)\n",
        "sum_subject = np.sum(marks, axis=1).reshape(-1, 1)\n",
        "marks = np.hstack((marks, sum_subject))\n",
        "print(\"Marks After Adding Total Marks : \")\n",
        "print(marks)\n",
        "\n",
        "# iv) Sort the array in non-ascending order (i.e., descending) based on the total marks column\n",
        "print(\"Records with Maximum Marks\")\n",
        "marks_index = np.argsort(marks[:,-1])\n",
        "marks[marks_index][::-1][[0,1]]\n"
      ]
    },
    {
      "cell_type": "markdown",
      "metadata": {
        "id": "VmOyK_8klRqR"
      },
      "source": [
        "### `Q-3:` Find unique arrays from a 2D array column wise and row wise.\n",
        "```\n",
        "arr = np.array([[1,2,3,3,1,1],\n",
        "                [0,9,1,2,8,8],\n",
        "                [1,2,3,8,8,8],\n",
        "                [1,2,3,3,1,1]])\n",
        "```\n",
        "Expected Result-\n",
        "```\n",
        "Row Wise\n",
        "[[0 9 1 2 8 8]\n",
        " [1 2 3 3 1 1]\n",
        " [1 2 3 8 8 8]]\n",
        "\n",
        "Col Wise\n",
        "[[1 1 2 3 3]\n",
        " [0 8 9 1 2]\n",
        " [1 8 2 3 8]\n",
        " [1 1 2 3 3]]\n",
        "```"
      ]
    },
    {
      "cell_type": "code",
      "execution_count": 10,
      "metadata": {
        "id": "LJl10VQrlU5q"
      },
      "outputs": [
        {
          "name": "stdout",
          "output_type": "stream",
          "text": [
            "Unique Row wise:\n",
            "[[0 9 1 2 8 8]\n",
            " [1 2 3 3 1 1]\n",
            " [1 2 3 8 8 8]]\n",
            "Unique col are : \n",
            "[[1 1 2 3 3]\n",
            " [0 8 9 1 2]\n",
            " [1 8 2 3 8]\n",
            " [1 1 2 3 3]]\n"
          ]
        }
      ],
      "source": [
        "# code here\n",
        "arr = np.array([[1,2,3,3,1,1],\n",
        "                [0,9,1,2,8,8],\n",
        "                [1,2,3,8,8,8],\n",
        "                [1,2,3,3,1,1]])\n",
        "\n",
        "print(\"Unique Row wise:\")\n",
        "print(np.unique(arr,axis=0))\n",
        "\n",
        "\n",
        "print(\"Unique col are : \")\n",
        "print(np.unique(arr,axis=1))\n",
        "\n",
        "\n"
      ]
    },
    {
      "cell_type": "markdown",
      "metadata": {},
      "source": [
        "Let's walk through what happens when you call `np.unique()` on your array with `axis=0` and `axis=1`.\n",
        "\n",
        "Consider your array:\n",
        "\n",
        "```python\n",
        "arr = np.array([[1, 2, 3, 3, 1, 1],\n",
        "                [0, 9, 1, 2, 8, 8],\n",
        "                [1, 2, 3, 8, 8, 8],\n",
        "                [1, 2, 3, 3, 1, 1]])\n",
        "```\n",
        "\n",
        "---\n",
        "\n",
        "### **Unique Rows: `np.unique(arr, axis=0)`**\n",
        "\n",
        "- **Step 1: Identify Rows as Sequences**\n",
        "\n",
        "  Each row is treated as a tuple of values:\n",
        "  \n",
        "  - Row 0: `(1, 2, 3, 3, 1, 1)`\n",
        "  - Row 1: `(0, 9, 1, 2, 8, 8)`\n",
        "  - Row 2: `(1, 2, 3, 8, 8, 8)`\n",
        "  - Row 3: `(1, 2, 3, 3, 1, 1)`\n",
        "\n",
        "- **Step 2: Remove Duplicates**\n",
        "\n",
        "  Notice that row 0 and row 3 are identical. Hence only one of them will be kept.\n",
        "\n",
        "- **Step 3: Lexicographical Sorting**\n",
        "\n",
        "  When you call `np.unique`, it returns the unique rows **sorted lexicographically**. This means:\n",
        "  \n",
        "  - It compares row elements one by one from left to right.\n",
        "  - Row 1 starts with `0`, while the other rows start with `1`. Since `0 < 1`, row 1 comes first.\n",
        "  - Next, it compares the remaining rows. Between row 0 (`(1,2,3,3,1,1)`) and row 2 (`(1,2,3,8,8,8)`), the first three elements are the same. It then compares the fourth element: `3` vs. `8`. Since `3 < 8`, row 0 comes before row 2.\n",
        "\n",
        "- **Final Unique Rows:**\n",
        "\n",
        "  Thus, the unique rows returned (in sorted order) are:\n",
        "  \n",
        "  ```\n",
        "  [[0, 9, 1, 2, 8, 8],\n",
        "   [1, 2, 3, 3, 1, 1],\n",
        "   [1, 2, 3, 8, 8, 8]]\n",
        "  ```\n",
        "\n",
        "---\n",
        "\n",
        "### **Unique Columns: `np.unique(arr, axis=1)`**\n",
        "\n",
        "- **Step 1: Identify Columns as Sequences**\n",
        "\n",
        "  Each column is treated as a tuple (taken from each row):\n",
        "  \n",
        "  - Column 0: `(1, 0, 1, 1)`\n",
        "  - Column 1: `(2, 9, 2, 2)`\n",
        "  - Column 2: `(3, 1, 3, 3)`\n",
        "  - Column 3: `(3, 2, 8, 3)`\n",
        "  - Column 4: `(1, 8, 8, 1)`\n",
        "  - Column 5: `(1, 8, 8, 1)` — notice this is identical to Column 4.\n",
        "\n",
        "- **Step 2: Remove Duplicates**\n",
        "\n",
        "  Since columns 4 and 5 are identical, only one copy is kept.\n",
        "\n",
        "- **Step 3: Lexicographical Sorting of Columns**\n",
        "\n",
        "  The unique columns are then sorted by comparing each column as a sequence:\n",
        "  \n",
        "  - Compare Column 0 `(1, 0, 1, 1)` with Column 4 `(1, 8, 8, 1)`:  \n",
        "    - The first elements are equal (`1` and `1`), but the second elements differ (`0` vs. `8`), so Column 0 comes before Column 4.\n",
        "  - Then the remaining columns (Column 1, Column 2, and Column 3) are compared in a similar manner.\n",
        "  \n",
        "  The exact sorted order will be determined by these lexicographical comparisons.\n",
        "\n",
        "- **Final Unique Columns:**\n",
        "\n",
        "  For example, the sorted unique columns might appear as (depending on lexicographical order):\n",
        "  \n",
        "  ```\n",
        "  [[1, 2, 3, 1, 3],\n",
        "   [0, 9, 1, 8, 2],\n",
        "   [1, 2, 3, 8, 8],\n",
        "   [1, 2, 3, 1, 3]]\n",
        "  ```\n",
        "  \n",
        "  (The exact order might vary if you check the output, but the key idea is that duplicate columns are removed and the remaining ones are sorted by comparing their entries from top to bottom.)\n",
        "\n",
        "---\n",
        "\n",
        "### **Key Points:**\n",
        "\n",
        "- **Axis Parameter:**  \n",
        "  - `axis=0` means treat each **row** as an element.\n",
        "  - `axis=1` means treat each **column** as an element.\n",
        "  \n",
        "- **Duplicate Removal:**  \n",
        "  `np.unique` identifies duplicates by comparing the entire row or column.\n",
        "\n",
        "- **Lexicographical Sorting:**  \n",
        "  The unique rows or columns are returned in sorted order, comparing elements in order from the first element onward.\n",
        "\n",
        "---\n",
        "\n",
        "This is how NumPy computes unique rows and columns in your array. If you run your code:\n",
        "\n",
        "```python\n",
        "import numpy as np\n",
        "\n",
        "arr = np.array([[1,2,3,3,1,1],\n",
        "                [0,9,1,2,8,8],\n",
        "                [1,2,3,8,8,8],\n",
        "                [1,2,3,3,1,1]])\n",
        "\n",
        "print(\"Unique Row wise:\")\n",
        "print(np.unique(arr, axis=0))\n",
        "\n",
        "print(\"Unique col are : \")\n",
        "print(np.unique(arr, axis=1))\n",
        "```\n",
        "\n",
        "You'll see that duplicate rows (row 0 and row 3) and duplicate columns (columns 4 and 5) are removed, and the remaining unique rows/columns are sorted lexicographically."
      ]
    },
    {
      "cell_type": "markdown",
      "metadata": {
        "id": "RaXwVkywlWY2"
      },
      "source": [
        "### `Q-4:` Flip given 2-D array along both axes at the same time."
      ]
    },
    {
      "cell_type": "code",
      "execution_count": 11,
      "metadata": {
        "id": "mN7-4G8Kleeq"
      },
      "outputs": [
        {
          "name": "stdout",
          "output_type": "stream",
          "text": [
            "[[92 90 74]\n",
            " [ 6 63 93]\n",
            " [15 93 96]\n",
            " [70 60 48]]\n"
          ]
        },
        {
          "data": {
            "text/plain": [
              "array([[48, 60, 70],\n",
              "       [96, 93, 15],\n",
              "       [93, 63,  6],\n",
              "       [74, 90, 92]])"
            ]
          },
          "execution_count": 11,
          "metadata": {},
          "output_type": "execute_result"
        }
      ],
      "source": [
        "# code here\n",
        "arr =  [[92, 90, 74],\n",
        "        [6 , 63, 93],\n",
        "        [15, 93, 96],\n",
        "        [70, 60, 48]]\n",
        "arr = np.array(arr)\n",
        "print(arr)\n",
        "np.flip(arr, axis = [0,1])\n",
        "\n"
      ]
    },
    {
      "cell_type": "markdown",
      "metadata": {},
      "source": [
        "<center>OR</center>"
      ]
    },
    {
      "cell_type": "code",
      "execution_count": 12,
      "metadata": {},
      "outputs": [
        {
          "name": "stdout",
          "output_type": "stream",
          "text": [
            "Original Array:\n",
            "[[1 2 3]\n",
            " [4 5 6]\n",
            " [7 8 9]]\n",
            "\n",
            "Flipped Array (slicing):\n",
            "[[9 8 7]\n",
            " [6 5 4]\n",
            " [3 2 1]]\n"
          ]
        }
      ],
      "source": [
        "arr = np.array([[1, 2, 3],\n",
        "                [4, 5, 6],\n",
        "                [7, 8, 9]])\n",
        "\n",
        "# Flip rows and columns simultaneously using slicing\n",
        "flipped = arr[::-1, ::-1]\n",
        "\n",
        "print(\"Original Array:\")\n",
        "print(arr)\n",
        "print(\"\\nFlipped Array (slicing):\")\n",
        "print(flipped)\n"
      ]
    },
    {
      "cell_type": "markdown",
      "metadata": {
        "id": "X0S7BUNTlfoq"
      },
      "source": [
        "### `Q-5:` Get row numbers of NumPy array having element larger than X.\n",
        "```\n",
        "arr = [[1,2,3,4,5],\n",
        "      [10,-3,30,4,5],\n",
        "      [3,2,5,-4,5],\n",
        "      [9,7,3,6,5]]\n",
        "\n",
        "X = 6\n",
        "```"
      ]
    },
    {
      "cell_type": "code",
      "execution_count": 13,
      "metadata": {
        "id": "bi8jRmWhlkBU"
      },
      "outputs": [
        {
          "data": {
            "text/plain": [
              "array([1, 3], dtype=int64)"
            ]
          },
          "execution_count": 13,
          "metadata": {},
          "output_type": "execute_result"
        }
      ],
      "source": [
        "# code here\n",
        "\n",
        "arr = [[1, 2, 3, 4, 5], [10, -3, 30, 4, 5], [3, 2, 5, -4, 5], [9, 7, 3, 6, 5]]\n",
        "arr = np.array(arr)\n",
        "X = 6 \n",
        "\n",
        "# Find indices of elements larger than X\n",
        "\n",
        "indices = np.unique(np.where(arr > X)[0])\n",
        "indices"
      ]
    },
    {
      "cell_type": "markdown",
      "metadata": {
        "vscode": {
          "languageId": "html"
        }
      },
      "source": [
        "<center>OR</center>"
      ]
    },
    {
      "cell_type": "code",
      "execution_count": 14,
      "metadata": {},
      "outputs": [
        {
          "name": "stdout",
          "output_type": "stream",
          "text": [
            "[[ 1  2  3  4  5]\n",
            " [10 -3 30  4  5]\n",
            " [ 3  2  5 -4  5]\n",
            " [ 9  7  3  6  5]]\n"
          ]
        },
        {
          "data": {
            "text/plain": [
              "array([1, 3], dtype=int64)"
            ]
          },
          "execution_count": 14,
          "metadata": {},
          "output_type": "execute_result"
        }
      ],
      "source": [
        "arr = [[1, 2, 3, 4, 5], [10, -3, 30, 4, 5], [3, 2, 5, -4, 5], [9, 7, 3, 6, 5]]\n",
        "arr = np.array(arr)\n",
        "X = 6 \n",
        "\n",
        "print(arr)\n",
        "# Find indices of elements larger than X\n",
        "row_condition = np.any(arr > X, axis=1)\n",
        "indices = np.where(row_condition)[0]\n",
        "indices"
      ]
    },
    {
      "cell_type": "markdown",
      "metadata": {
        "id": "DSCQMo4mlnDG"
      },
      "source": [
        "### `Q-6:` How to convert an array of arrays into a flat 1d array?\n"
      ]
    },
    {
      "cell_type": "code",
      "execution_count": 15,
      "metadata": {
        "id": "QZhSkUT2lsJW"
      },
      "outputs": [
        {
          "data": {
            "text/plain": [
              "array([0, 1, 2, 3, 4, 5, 6, 7, 8, 9])"
            ]
          },
          "execution_count": 15,
          "metadata": {},
          "output_type": "execute_result"
        }
      ],
      "source": [
        "# These arrays are given.\n",
        "arr1 = np.arange(3)\n",
        "arr2 = np.arange(3,7)\n",
        "arr3 = np.arange(7,10)\n",
        "\n",
        "arr = np.hstack((arr1, arr2, arr3))\n",
        "arr"
      ]
    },
    {
      "cell_type": "code",
      "execution_count": 16,
      "metadata": {
        "id": "f42OXNrFls0I"
      },
      "outputs": [
        {
          "data": {
            "text/plain": [
              "array([0, 1, 2, 3, 4, 5, 6, 7, 8, 9])"
            ]
          },
          "execution_count": 16,
          "metadata": {},
          "output_type": "execute_result"
        }
      ],
      "source": [
        "# code here\n",
        "arr = np.hstack((arr1, arr2, arr3))\n",
        "arr"
      ]
    },
    {
      "cell_type": "markdown",
      "metadata": {},
      "source": [
        "<center>OR</center>"
      ]
    },
    {
      "cell_type": "code",
      "execution_count": 17,
      "metadata": {},
      "outputs": [
        {
          "data": {
            "text/plain": [
              "array([0, 1, 2, 3, 4, 5, 6, 7, 8, 9])"
            ]
          },
          "execution_count": 17,
          "metadata": {},
          "output_type": "execute_result"
        }
      ],
      "source": [
        "np.concatenate([arr1,arr2,arr3])"
      ]
    },
    {
      "cell_type": "markdown",
      "metadata": {
        "id": "A1J4oOVCluqO"
      },
      "source": [
        "### `Q-7:` You are given a array. You have to find the minimum and maximum array element and remove that from the array.\n",
        "\n",
        "```python\n",
        "import numpy as np\n",
        "\n",
        "np.random.seed(400)\n",
        "arr = np.random.randint(100, 1000, 200).reshape((1, 200))\n",
        "```"
      ]
    },
    {
      "cell_type": "code",
      "execution_count": 18,
      "metadata": {
        "id": "c6kmgtUJlybZ"
      },
      "outputs": [
        {
          "name": "stdout",
          "output_type": "stream",
          "text": [
            "Original array:\n",
            "[[448 563 418 240 507 362 345 236 719 291 298 639 458 387 262 613 267 882\n",
            "  181 425 790 635 889 818 872 967 277 470 336 920 917 295 557 830 506 385\n",
            "  353 975 592 997 137 340 222 215 472 459 617 649 935 956 914 932 645 952\n",
            "  921 490 527 972 278 307 840 958 246 449 251 957 103 627 920 824 356 825\n",
            "  173 323 372 960 710 464 244 782 763 635 436 774 171 469 178 458 624 211\n",
            "  771 270 308 231 952 514 699 702 433 900 373 318 998 265 503 320 230 324\n",
            "  922 967 620 743 527 117 566 804 123 946 587 227 853 757 944 328 855 930\n",
            "  325 729 426 514 296 879 575 936 705 209 191 743 510 513 628 559 658 528\n",
            "  395 525 922 136 496 225 895 975 263 908 420 711 800 976 786 235 930 859\n",
            "  618 226 695 460 218 483 490 803 621 453 193 607 677 637 728 724 534 748\n",
            "  291 194 761 875 687 569 228 482 781 554 654 739 885 197 266 228 892 207\n",
            "  883 588]]\n",
            "\n",
            "Array after removing min and max elements:\n",
            "[[448 563 418 240 507 362 345 236 719 291 298 639 458 387 262 613 267 882\n",
            "  181 425 790 635 889 818 872 967 277 470 336 920 917 295 557 830 506 385\n",
            "  353 975 592 997 137 340 222 215 472 459 617 649 935 956 914 932 645 952\n",
            "  921 490 527 972 278 307 840 958 246 449 251 957 627 920 824 356 825 173\n",
            "  323 372 960 710 464 244 782 763 635 436 774 171 469 178 458 624 211 771\n",
            "  270 308 231 952 514 699 702 433 900 373 318 265 503 320 230 324 922 967\n",
            "  620 743 527 117 566 804 123 946 587 227 853 757 944 328 855 930 325 729\n",
            "  426 514 296 879 575 936 705 209 191 743 510 513 628 559 658 528 395 525\n",
            "  922 136 496 225 895 975 263 908 420 711 800 976 786 235 930 859 618 226\n",
            "  695 460 218 483 490 803 621 453 193 607 677 637 728 724 534 748 291 194\n",
            "  761 875 687 569 228 482 781 554 654 739 885 197 266 228 892 207 883 588]]\n"
          ]
        }
      ],
      "source": [
        "np.random.seed(400)\n",
        "arr = np.random.randint(100, 1000, 200).reshape((1, 200))\n",
        "print(\"Original array:\")\n",
        "print(arr)\n",
        "\n",
        "# Find the minimum and maximum values\n",
        "min_value = np.min(arr)\n",
        "max_value = np.max(arr)\n",
        "\n",
        "# Create a boolean condition for elements that are either the min or the max.\n",
        "# Since arr is 2D, (arr == min_value) | (arr == max_value) will give a 2D boolean array.\n",
        "condition = (arr == min_value) | (arr == max_value)\n",
        "\n",
        "# Use np.where to get the indices where this condition is True.\n",
        "# For a (1, 200) array, this returns a tuple (row_indices, col_indices).\n",
        "_, col_indices = np.where(condition)\n",
        "\n",
        "# Remove the columns that contain the min or max values.\n",
        "# Since our array is (1, 200), we remove the elements along axis=1.\n",
        "result = np.delete(arr, col_indices, axis=1)\n",
        "\n",
        "print(\"\\nArray after removing min and max elements:\")\n",
        "print(result)\n"
      ]
    },
    {
      "cell_type": "markdown",
      "metadata": {
        "id": "0dHN1sdnl0Jy"
      },
      "source": [
        "### `Q-8:` You are given an arrays. You have to limit this array's elements between 100 to 200. $arr ∈ [100, 700]$. So replace those values accordingly with the minimum and maximum value. Then sort the array and perform the cumulative sum of that array."
      ]
    },
    {
      "cell_type": "code",
      "execution_count": 19,
      "metadata": {
        "id": "a3YF_E-Hlza7"
      },
      "outputs": [
        {
          "data": {
            "text/plain": [
              "array([ 100,  231,  364,  510,  663,  820, 1020, 1220, 1420, 1620, 1820,\n",
              "       2020, 2220, 2420, 2620, 2820, 3020, 3220, 3420, 3620, 3820, 4020,\n",
              "       4220, 4420, 4620, 4820, 5020, 5220, 5420, 5620, 5820, 6020, 6220,\n",
              "       6420, 6620, 6820, 7020, 7220, 7420, 7620, 7820, 8020, 8220, 8420,\n",
              "       8620, 8820, 9020, 9220, 9420, 9620])"
            ]
          },
          "execution_count": 19,
          "metadata": {},
          "output_type": "execute_result"
        }
      ],
      "source": [
        "# code here\n",
        "arr = np.random.randint(100,700,50)\n",
        "np.cumsum(np.sort(np.clip(arr, 100,200)))"
      ]
    },
    {
      "cell_type": "markdown",
      "metadata": {
        "id": "cXj90Susl4-I"
      },
      "source": [
        "### `Q-9:` You are given a array ($arr ∈ [0, 1]$). First you have round off the elements upto 3 decimal places and compare that\n",
        "- 0th percentile == minimum value of the array\n",
        "- 100th percentile == maximum value of the array\n",
        "- also find the difference betwen 51th percenile and 50th percentile values"
      ]
    },
    {
      "cell_type": "code",
      "execution_count": 22,
      "metadata": {
        "id": "SgBEHodgl7Lo"
      },
      "outputs": [
        {
          "name": "stdout",
          "output_type": "stream",
          "text": [
            "[0.    0.02  0.041 0.061 0.082 0.102 0.122 0.143 0.163 0.184 0.204 0.224\n",
            " 0.245 0.265 0.286 0.306 0.327 0.347 0.367 0.388 0.408 0.429 0.449 0.469\n",
            " 0.49  0.51  0.531 0.551 0.571 0.592 0.612 0.633 0.653 0.673 0.694 0.714\n",
            " 0.735 0.755 0.776 0.796 0.816 0.837 0.857 0.878 0.898 0.918 0.939 0.959\n",
            " 0.98  1.   ]\n",
            "True\n",
            "True\n",
            "0.009800000000000031\n"
          ]
        }
      ],
      "source": [
        "# code here\n",
        "\n",
        "arr = np.linspace(0,1,50)\n",
        "arr = np.round(arr, decimals=3)\n",
        "print(arr)\n",
        "print(np.percentile(arr, 0) == np.min(arr))\n",
        "print(np.percentile(arr, 100) == np.max(arr))\n",
        "print(np.percentile(arr,51) - np.percentile(arr,50))\n"
      ]
    }
  ],
  "metadata": {
    "colab": {
      "provenance": []
    },
    "kernelspec": {
      "display_name": "Python 3",
      "name": "python3"
    },
    "language_info": {
      "codemirror_mode": {
        "name": "ipython",
        "version": 3
      },
      "file_extension": ".py",
      "mimetype": "text/x-python",
      "name": "python",
      "nbconvert_exporter": "python",
      "pygments_lexer": "ipython3",
      "version": "3.12.0"
    }
  },
  "nbformat": 4,
  "nbformat_minor": 0
}
