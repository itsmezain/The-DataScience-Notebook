{
 "cells": [
  {
   "cell_type": "markdown",
   "metadata": {},
   "source": [
    "<center><h1>Numpy hidden Functions</h1></center>"
   ]
  },
  {
   "cell_type": "markdown",
   "metadata": {
    "vscode": {
     "languageId": "plaintext"
    }
   },
   "source": [
    "### np.sort\n",
    "\n",
    "Return a sorted copy of an array.\n",
    "\n",
    "https://numpy.org/doc/stable/reference/generated/numpy.sort.html"
   ]
  },
  {
   "cell_type": "markdown",
   "metadata": {},
   "source": [
    "np.sort kyu use kar rhe hai  \n",
    "kyuki agr python ka sorted use karenge too python ka list milega  \n",
    "But np.sort se numpy ka array milega"
   ]
  },
  {
   "cell_type": "code",
   "execution_count": 1,
   "metadata": {},
   "outputs": [
    {
     "data": {
      "text/plain": [
       "array([35, 93, 61, 60, 24, 85, 69, 36, 14,  5, 43, 95, 45, 17, 21])"
      ]
     },
     "execution_count": 1,
     "metadata": {},
     "output_type": "execute_result"
    }
   ],
   "source": [
    "# code\n",
    "import numpy as np\n",
    "a = np.random.randint(1,100,15)\n",
    "a"
   ]
  },
  {
   "cell_type": "code",
   "execution_count": 17,
   "metadata": {},
   "outputs": [
    {
     "data": {
      "text/plain": [
       "array([[ 4, 10, 17, 21],\n",
       "       [24, 31, 32, 71],\n",
       "       [80, 89, 80, 92],\n",
       "       [97, 84, 44, 64],\n",
       "       [63, 73, 21, 50],\n",
       "       [93, 95, 65,  8]])"
      ]
     },
     "execution_count": 17,
     "metadata": {},
     "output_type": "execute_result"
    }
   ],
   "source": [
    "b = np.random.randint(1,100,24).reshape(6,4)\n",
    "b"
   ]
  },
  {
   "cell_type": "code",
   "execution_count": 3,
   "metadata": {},
   "outputs": [
    {
     "data": {
      "text/plain": [
       "array([ 5, 14, 17, 21, 24, 35, 36, 43, 45, 60, 61, 69, 85, 93, 95])"
      ]
     },
     "execution_count": 3,
     "metadata": {},
     "output_type": "execute_result"
    }
   ],
   "source": [
    "np.sort(a)"
   ]
  },
  {
   "cell_type": "code",
   "execution_count": 4,
   "metadata": {},
   "outputs": [
    {
     "data": {
      "text/plain": [
       "array([[43, 50, 74, 96],\n",
       "       [ 2, 18, 69, 82],\n",
       "       [17, 52, 61, 89],\n",
       "       [18, 28, 51, 57],\n",
       "       [25, 64, 67, 83],\n",
       "       [33, 56, 77, 91]])"
      ]
     },
     "execution_count": 4,
     "metadata": {},
     "output_type": "execute_result"
    }
   ],
   "source": [
    "np.sort(b) # row wise sorting"
   ]
  },
  {
   "cell_type": "code",
   "execution_count": 5,
   "metadata": {},
   "outputs": [
    {
     "data": {
      "text/plain": [
       "array([[ 2, 25, 51, 18],\n",
       "       [17, 33, 52, 18],\n",
       "       [28, 57, 64, 50],\n",
       "       [43, 69, 74, 56],\n",
       "       [67, 89, 82, 61],\n",
       "       [77, 96, 91, 83]])"
      ]
     },
     "execution_count": 5,
     "metadata": {},
     "output_type": "execute_result"
    }
   ],
   "source": [
    "np.sort(b, axis = 0) # column wise sorting"
   ]
  },
  {
   "cell_type": "code",
   "execution_count": 7,
   "metadata": {},
   "outputs": [
    {
     "data": {
      "text/plain": [
       "array([[33, 56, 77, 91],\n",
       "       [25, 64, 67, 83],\n",
       "       [18, 28, 51, 57],\n",
       "       [17, 52, 61, 89],\n",
       "       [ 2, 18, 69, 82],\n",
       "       [43, 50, 74, 96]])"
      ]
     },
     "execution_count": 7,
     "metadata": {},
     "output_type": "execute_result"
    }
   ],
   "source": [
    "np.sort(b)[::-1] # for decreasing order sorting"
   ]
  },
  {
   "cell_type": "markdown",
   "metadata": {},
   "source": [
    "Here are detailed notes on `np.sort` in NumPy:\n",
    "\n",
    "---\n",
    "\n",
    "# `np.sort()` in NumPy – Hidden Function Explained\n",
    "\n",
    "## Overview\n",
    "`np.sort()` is a NumPy function used to sort elements in an array along a specified axis. It does **not** modify the original array (returns a sorted copy) unless explicitly asked to do so.\n",
    "\n",
    "## Syntax:\n",
    "```python\n",
    "np.sort(a, axis=-1, kind='quicksort', order=None)\n",
    "```\n",
    "\n",
    "## Parameters:\n",
    "1. **a**: The input array to be sorted.\n",
    "2. **axis** (default `-1`): \n",
    "   - `axis=0` → Sort column-wise (vertical sorting)\n",
    "   - `axis=1` → Sort row-wise (horizontal sorting)\n",
    "   - `axis=None` → Flatten the array and sort everything\n",
    "3. **kind** (Sorting Algorithm):\n",
    "   - `'quicksort'` (default) → Fast, but not stable.\n",
    "   - `'mergesort'` → Stable (preserves order of equal elements).\n",
    "   - `'heapsort'` → Slower, but works well in limited memory.\n",
    "   - `'stable'` → Ensures equal elements maintain their order.\n",
    "4. **order**: Used for sorting structured arrays.\n",
    "\n",
    "---\n",
    "\n",
    "## Sorting in 1D Array:\n",
    "```python\n",
    "import numpy as np\n",
    "\n",
    "arr = np.array([5, 2, 9, 1, 5, 6])\n",
    "sorted_arr = np.sort(arr)\n",
    "\n",
    "print(sorted_arr)  # Output: [1 2 5 5 6 9]\n",
    "```\n",
    "\n",
    "---\n",
    "\n",
    "## Sorting in 2D Array (Row-wise and Column-wise)\n",
    "```python\n",
    "arr_2d = np.array([[8, 3, 1], [5, 2, 9]])\n",
    "print(\"Original:\\n\", arr_2d)\n",
    "\n",
    "sorted_rows = np.sort(arr_2d, axis=1)  # Sort along rows\n",
    "print(\"Row-wise:\\n\", sorted_rows)\n",
    "\n",
    "sorted_cols = np.sort(arr_2d, axis=0)  # Sort along columns\n",
    "print(\"Column-wise:\\n\", sorted_cols)\n",
    "```\n",
    "\n",
    "### Output:\n",
    "```\n",
    "Original:\n",
    " [[8 3 1]\n",
    "  [5 2 9]]\n",
    "\n",
    "Row-wise:\n",
    " [[1 3 8]\n",
    "  [2 5 9]]\n",
    "\n",
    "Column-wise:\n",
    " [[5 2 1]\n",
    "  [8 3 9]]\n",
    "```\n",
    "\n",
    "---\n",
    "\n",
    "## Sorting with `axis=None` (Flattened Sorting)\n",
    "```python\n",
    "arr = np.array([[3, 1, 4], [5, 9, 2]])\n",
    "sorted_flat = np.sort(arr, axis=None)\n",
    "print(sorted_flat)  # Output: [1 2 3 4 5 9]\n",
    "```\n",
    "\n",
    "---\n",
    "\n",
    "## Sorting in Descending Order:\n",
    "NumPy doesn’t provide a direct descending sort, but you can reverse the result:\n",
    "```python\n",
    "arr = np.array([5, 2, 9, 1, 5, 6])\n",
    "sorted_desc = np.sort(arr)[::-1]\n",
    "print(sorted_desc)  # Output: [9 6 5 5 2 1]\n",
    "```\n",
    "\n",
    "For multidimensional sorting:\n",
    "```python\n",
    "sorted_desc_2d = np.sort(arr_2d, axis=1)[:, ::-1]  # Reverse sorted rows\n",
    "```\n",
    "\n",
    "---\n",
    "\n",
    "## Sorting a Structured Array:\n",
    "For arrays with named fields:\n",
    "```python\n",
    "dtype = [('name', 'U10'), ('age', int)]\n",
    "data = np.array([('Alice', 25), ('Bob', 22), ('Charlie', 30)], dtype=dtype)\n",
    "\n",
    "sorted_data = np.sort(data, order='age')  # Sort by age\n",
    "print(sorted_data)\n",
    "```\n",
    "\n",
    "---\n",
    "\n",
    "## Stable Sorting:\n",
    "Preserves the order of equal elements.\n",
    "```python\n",
    "arr = np.array([5, 2, 9, 5, 6, 2])\n",
    "sorted_stable = np.sort(arr, kind='stable')\n",
    "print(sorted_stable)  # Output: [2 2 5 5 6 9]\n",
    "```\n",
    "\n",
    "---\n",
    "\n",
    "## Summary:\n",
    "- `np.sort()` returns a sorted copy of an array.\n",
    "- It supports different sorting algorithms (`quicksort`, `mergesort`, etc.).\n",
    "- It can sort along different axes in multi-dimensional arrays.\n",
    "- Use `axis=None` for global sorting.\n",
    "- Reverse indexing (`[::-1]`) gives descending order.\n",
    "- `stable` sorting maintains order of equal elements.\n",
    "\n",
    "---\n",
    "\n",
    "This covers everything about `np.sort`. Let me know if you need further explanations! 🚀"
   ]
  },
  {
   "cell_type": "markdown",
   "metadata": {},
   "source": [
    "# Hidden NumPy Functions: A Comprehensive Guide to `np.sort` and Related Sorting Functions\n",
    "\n",
    "**Table of Contents**\n",
    "\n",
    "1. [Introduction](#introduction)\n",
    "2. [Understanding Sorting in NumPy](#understanding-sorting-in-numpy)\n",
    "3. [The `np.sort` Function](#the-np-sort-function)\n",
    "   - [Syntax and Parameters](#syntax-and-parameters)\n",
    "   - [Return Value](#return-value)\n",
    "   - [Sorting Algorithms (`kind` parameter)](#sorting-algorithms-kind-parameter)\n",
    "4. [Sorting Along Different Axes](#sorting-along-different-axes)\n",
    "5. [In-place vs. Out-of-place Sorting](#in-place-vs-out-of-place-sorting)\n",
    "   - [Using `np.sort`](#using-np-sort)\n",
    "   - [Using `ndarray.sort`](#using-ndarraysort)\n",
    "6. [Sorting Structured Arrays](#sorting-structured-arrays)\n",
    "   - [Sorting by Field Names](#sorting-by-field-names)\n",
    "7. [Related Sorting Functions in NumPy](#related-sorting-functions-in-numpy)\n",
    "   - [`np.argsort`](#np-argsort)\n",
    "   - [`np.lexsort`](#np-lexsort)\n",
    "   - [`np.partition` and `np.argpartition`](#np-partition-and-np-argpartition)\n",
    "8. [Advanced Sorting Techniques](#advanced-sorting-techniques)\n",
    "   - [Custom Sorting Using `order` Parameter](#custom-sorting-using-order-parameter)\n",
    "   - [Sorting Complex Numbers](#sorting-complex-numbers)\n",
    "9. [Performance Considerations](#performance-considerations)\n",
    "   - [Time Complexity of Sorting Algorithms](#time-complexity-of-sorting-algorithms)\n",
    "   - [Choosing the Right Sorting Algorithm](#choosing-the-right-sorting-algorithm)\n",
    "10. [Practical Examples and Use Cases](#practical-examples-and-use-cases)\n",
    "    - [Sorting in Data Analysis](#sorting-in-data-analysis)\n",
    "    - [Use in Machine Learning Preprocessing](#use-in-machine-learning-preprocessing)\n",
    "11. [Common Pitfalls and How to Avoid Them](#common-pitfalls-and-how-to-avoid-them)\n",
    "12. [Conclusion](#conclusion)\n",
    "13. [Further Reading and References](#further-reading-and-references)\n",
    "\n",
    "---\n",
    "\n",
    "## Introduction\n",
    "\n",
    "NumPy is a fundamental package for scientific computing in Python, providing support for large, multi-dimensional arrays and matrices, along with a vast library of high-level mathematical functions. While many of NumPy's functions are well-documented and widely used, some powerful features remain underutilized or less known.\n",
    "\n",
    "One such function is `np.sort`, a versatile tool for sorting arrays that offers various sorting algorithms and customization options. This comprehensive guide delves into the details of `np.sort` and related sorting functions in NumPy, ensuring that you acquire a deep understanding of their usage, parameters, and applications.\n",
    "\n",
    "---\n",
    "\n",
    "## Understanding Sorting in NumPy\n",
    "\n",
    "Sorting is a fundamental operation in data processing and analysis. In NumPy, sorting functions are designed to be efficient and to handle multi-dimensional arrays with ease. NumPy provides several sorting functions:\n",
    "\n",
    "- `np.sort`\n",
    "- `np.argsort`\n",
    "- `np.lexsort`\n",
    "- `np.partition`\n",
    "- `np.argpartition`\n",
    "\n",
    "Each function serves specific purposes and offers different capabilities, which we'll explore in this guide.\n",
    "\n",
    "---\n",
    "\n",
    "## The `np.sort` Function\n",
    "\n",
    "`np.sort` is the primary function for sorting arrays in NumPy. It returns a sorted copy of an array.\n",
    "\n",
    "### Syntax and Parameters\n",
    "\n",
    "```python\n",
    "numpy.sort(a, axis=-1, kind=None, order=None)\n",
    "```\n",
    "\n",
    "- **Parameters**:\n",
    "  - **`a`**: array_like\n",
    "    - The array to be sorted.\n",
    "  - **`axis`**: int or None, optional\n",
    "    - Axis along which to sort. Default is `-1` (the last axis).\n",
    "    - If `None`, the flattened array is sorted.\n",
    "  - **`kind`**: {'quicksort', 'mergesort', 'heapsort', 'stable'}, optional\n",
    "    - Sorting algorithm to use. Default is 'quicksort'.\n",
    "  - **`order`**: str or list of str, optional\n",
    "    - When `a` is an array with fields (structured array), this argument specifies which fields to compare first, second, etc.\n",
    "\n",
    "### Return Value\n",
    "\n",
    "- **`sorted_array`**: ndarray\n",
    "  - A sorted copy of `a`.\n",
    "\n",
    "### Examples\n",
    "\n",
    "#### Sorting a 1-D Array\n",
    "\n",
    "```python\n",
    "import numpy as np\n",
    "\n",
    "arr = np.array([3, 1, 4, 1, 5, 9, 2])\n",
    "sorted_arr = np.sort(arr)\n",
    "print(sorted_arr)\n",
    "# Output: [1 1 2 3 4 5 9]\n",
    "```\n",
    "\n",
    "#### Sorting a 2-D Array\n",
    "\n",
    "By default, `np.sort` sorts along the last axis (axis `-1`).\n",
    "\n",
    "```python\n",
    "arr = np.array([[3, 1, 4],\n",
    "                [1, 5, 9],\n",
    "                [2, 6, 5]])\n",
    "sorted_arr = np.sort(arr)\n",
    "print(sorted_arr)\n",
    "# Output:\n",
    "# [[1 3 4]\n",
    "#  [1 5 9]\n",
    "#  [2 5 6]]\n",
    "```\n",
    "\n",
    "Here, each row is sorted individually.\n",
    "\n",
    "---\n",
    "\n",
    "## Sorting Along Different Axes\n",
    "\n",
    "The `axis` parameter controls the axis along which the sorting is performed.\n",
    "\n",
    "- **Axis `-1`**: Sort along the last axis (default).\n",
    "- **Axis `0`**: Sort each column.\n",
    "- **Axis `1`**: Sort each row.\n",
    "\n",
    "### Sorting Along Columns (Axis `0`)\n",
    "\n",
    "```python\n",
    "arr = np.array([[3, 1, 4],\n",
    "                [1, 5, 9],\n",
    "                [2, 6, 5]])\n",
    "sorted_arr = np.sort(arr, axis=0)\n",
    "print(sorted_arr)\n",
    "# Output:\n",
    "# [[1 1 4]\n",
    "#  [2 5 5]\n",
    "#  [3 6 9]]\n",
    "```\n",
    "\n",
    "### Sorting the Entire Array (Flattened)\n",
    "\n",
    "If `axis=None`, the array is flattened before sorting.\n",
    "\n",
    "```python\n",
    "sorted_arr = np.sort(arr, axis=None)\n",
    "print(sorted_arr)\n",
    "# Output: [1 1 2 3 4 5 5 6 9]\n",
    "```\n",
    "\n",
    "---\n",
    "\n",
    "## In-place vs. Out-of-place Sorting\n",
    "\n",
    "### Using `np.sort`\n",
    "\n",
    "- **Out-of-place**: `np.sort` returns a sorted copy of the array and does not modify the original array.\n",
    "\n",
    "```python\n",
    "arr = np.array([3, 1, 4])\n",
    "sorted_arr = np.sort(arr)\n",
    "print(arr)        # Original array remains unchanged\n",
    "# Output: [3 1 4]\n",
    "print(sorted_arr) # Sorted copy\n",
    "# Output: [1 3 4]\n",
    "```\n",
    "\n",
    "### Using `ndarray.sort`\n",
    "\n",
    "- **In-place**: The `sort` method of an ndarray sorts the array in place and returns `None`.\n",
    "\n",
    "```python\n",
    "arr = np.array([3, 1, 4])\n",
    "arr.sort()\n",
    "print(arr)  # Original array is now sorted\n",
    "# Output: [1 3 4]\n",
    "```\n",
    "\n",
    "#### Example with 2-D Array\n",
    "\n",
    "```python\n",
    "arr = np.array([[3, 1, 4],\n",
    "                [1, 5, 9],\n",
    "                [2, 6, 5]])\n",
    "arr.sort(axis=1)  # Sort each row in place\n",
    "print(arr)\n",
    "# Output:\n",
    "# [[1 3 4]\n",
    "#  [1 5 9]\n",
    "#  [2 5 6]]\n",
    "```\n",
    "\n",
    "---\n",
    "\n",
    "## Sorting Structured Arrays\n",
    "\n",
    "Structured arrays (also known as record arrays) allow you to have arrays with named fields, similar to columns in a spreadsheet or database.\n",
    "\n",
    "### Creating a Structured Array\n",
    "\n",
    "```python\n",
    "dt = np.dtype([('name', 'U10'), ('age', int)])\n",
    "data = np.array([('Alice', 25), ('Bob', 30), ('Charlie', 20)], dtype=dt)\n",
    "```\n",
    "\n",
    "### Sorting by Field Names\n",
    "\n",
    "You can sort structured arrays by specifying the `order` parameter.\n",
    "\n",
    "```python\n",
    "sorted_data = np.sort(data, order='age')\n",
    "print(sorted_data)\n",
    "# Output:\n",
    "# [('Charlie', 20) ('Alice', 25) ('Bob', 30)]\n",
    "```\n",
    "\n",
    "#### Sorting by Multiple Fields\n",
    "\n",
    "```python\n",
    "dt = np.dtype([('name', 'U10'), ('age', int), ('height', float)])\n",
    "data = np.array([('Alice', 25, 5.5),\n",
    "                 ('Bob', 30, 5.8),\n",
    "                 ('Charlie', 25, 5.7)], dtype=dt)\n",
    "\n",
    "sorted_data = np.sort(data, order=['age', 'height'])\n",
    "print(sorted_data)\n",
    "# Output:\n",
    "# [('Alice', 25, 5.5) ('Charlie', 25, 5.7) ('Bob', 30, 5.8)]\n",
    "```\n",
    "\n",
    "---\n",
    "\n",
    "## Related Sorting Functions in NumPy\n",
    "\n",
    "### `np.argsort`\n",
    "\n",
    "Returns the indices that would sort an array.\n",
    "\n",
    "#### Syntax\n",
    "\n",
    "```python\n",
    "numpy.argsort(a, axis=-1, kind=None, order=None)\n",
    "```\n",
    "\n",
    "#### Example\n",
    "\n",
    "```python\n",
    "arr = np.array([3, 1, 4, 1, 5, 9, 2])\n",
    "indices = np.argsort(arr)\n",
    "print(indices)\n",
    "# Output: [1 3 6 0 2 4 5]\n",
    "print(arr[indices])\n",
    "# Output: [1 1 2 3 4 5 9]\n",
    "```\n",
    "\n",
    "### Use Case\n",
    "\n",
    "- Finding the ranking of elements.\n",
    "- Indirectly sorting other arrays based on the sorted order.\n",
    "\n",
    "### `np.lexsort`\n",
    "\n",
    "Performs an indirect stable sort using a sequence of keys.\n",
    "\n",
    "#### Syntax\n",
    "\n",
    "```python\n",
    "numpy.lexsort(keys)\n",
    "```\n",
    "\n",
    "- The last key in the sequence is the primary key.\n",
    "\n",
    "#### Example\n",
    "\n",
    "Suppose you have two arrays representing the last names and first names:\n",
    "\n",
    "```python\n",
    "last_names = np.array(['Smith', 'Jones', 'Williams', 'Taylor'])\n",
    "first_names = np.array(['Emma', 'Liam', 'Olivia', 'Noah'])\n",
    "indices = np.lexsort((first_names, last_names))\n",
    "print(indices)\n",
    "# Output: [1 3 0 2]\n",
    "print(last_names[indices])\n",
    "# Output: ['Jones' 'Taylor' 'Smith' 'Williams']\n",
    "print(first_names[indices])\n",
    "# Output: ['Liam' 'Noah' 'Emma' 'Olivia']\n",
    "```\n",
    "\n",
    "- The data is sorted first by `last_names`, then by `first_names`.\n",
    "\n",
    "### `np.partition` and `np.argpartition`\n",
    "\n",
    "Partitions an array, partially sorting it so that the smallest `k` elements are moved to the left.\n",
    "\n",
    "#### Syntax\n",
    "\n",
    "```python\n",
    "numpy.partition(a, kth, axis=-1, kind='introselect', order=None)\n",
    "numpy.argpartition(a, kth, axis=-1, kind='introselect', order=None)\n",
    "```\n",
    "\n",
    "#### Example\n",
    "\n",
    "Find the 3 smallest elements:\n",
    "\n",
    "```python\n",
    "arr = np.array([7, 2, 3, 1, 5, 6, 4])\n",
    "partitioned_arr = np.partition(arr, 3)\n",
    "print(partitioned_arr)\n",
    "# Output: [2 1 3 4 5 6 7]\n",
    "# Note: The smallest 4 elements are on the left, not necessarily sorted.\n",
    "\n",
    "# Get indices\n",
    "indices = np.argpartition(arr, 3)\n",
    "print(indices)\n",
    "# Output: [1 3 2 6 4 5 0]\n",
    "```\n",
    "\n",
    "---\n",
    "\n",
    "## Advanced Sorting Techniques\n",
    "\n",
    "### Custom Sorting Using `order` Parameter\n",
    "\n",
    "When dealing with structured arrays, you can specify the fields to sort by using the `order` parameter.\n",
    "\n",
    "#### Example\n",
    "\n",
    "```python\n",
    "# Assuming 'data' is a structured array with fields 'age' and 'name'\n",
    "sorted_data = np.sort(data, order='name')\n",
    "```\n",
    "\n",
    "### Sorting Complex Numbers\n",
    "\n",
    "By default, complex numbers are sorted first by their real part, then by their imaginary part.\n",
    "\n",
    "#### Example\n",
    "\n",
    "```python\n",
    "arr = np.array([3+4j, 1+2j, 5+0j, 2+3j])\n",
    "sorted_arr = np.sort(arr)\n",
    "print(sorted_arr)\n",
    "# Output: [1.+2.j 2.+3.j 3.+4.j 5.+0.j]\n",
    "```\n",
    "\n",
    "- To sort based on magnitude:\n",
    "\n",
    "```python\n",
    "magnitudes = np.abs(arr)\n",
    "indices = np.argsort(magnitudes)\n",
    "sorted_arr = arr[indices]\n",
    "print(sorted_arr)\n",
    "```\n",
    "\n",
    "---\n",
    "\n",
    "## Performance Considerations\n",
    "\n",
    "### Time Complexity of Sorting Algorithms\n",
    "\n",
    "NumPy offers different sorting algorithms via the `kind` parameter:\n",
    "\n",
    "- **'quicksort'**: Average O(n log n), worst-case O(n^2). Not stable.\n",
    "- **'mergesort'**: O(n log n). Stable. Preferred when stability is required.\n",
    "- **'heapsort'**: O(n log n). Not stable.\n",
    "- **'stable'**: Alias to 'mergesort' in NumPy versions before 1.15 and 'timsort' thereafter.\n",
    "\n",
    "### Choosing the Right Sorting Algorithm\n",
    "\n",
    "- Use **'quicksort'** for general-purpose sorting when the fastest average performance is desired, and stability is not important.\n",
    "- Use **'mergesort'** or **'stable'** when the original order of equal elements needs to be preserved.\n",
    "- Use **'heapsort'** when memory space is limited, as it requires less additional memory.\n",
    "\n",
    "---\n",
    "\n",
    "## Practical Examples and Use Cases\n",
    "\n",
    "### Sorting in Data Analysis\n",
    "\n",
    "- **Ranking Data**: Use `np.argsort` to rank data points.\n",
    "- **Sorting Records**: Sort structured arrays or recarrays based on fields.\n",
    "\n",
    "### Use in Machine Learning Preprocessing\n",
    "\n",
    "- **Feature Selection**: Use sorting to select top features based on importance scores.\n",
    "- **Data Normalization**: Sort data before applying certain normalization techniques.\n",
    "\n",
    "---\n",
    "\n",
    "## Common Pitfalls and How to Avoid Them\n",
    "\n",
    "1. **Assuming In-place Sorting with `np.sort`**:\n",
    "   - Remember that `np.sort` returns a sorted copy. Use `arr.sort()` for in-place sorting.\n",
    "\n",
    "2. **Sorting Multidimensional Arrays Without Specifying Axis**:\n",
    "   - Be cautious when sorting multidimensional arrays. Not specifying the correct `axis` may lead to unexpected results.\n",
    "\n",
    "3. **Expecting Stable Sorting**:\n",
    "   - By default, 'quicksort' is used, which is not stable. Use 'mergesort' or 'stable' if stability is required.\n",
    "\n",
    "4. **Incorrect Use of `order` Parameter**:\n",
    "   - The `order` parameter only applies to structured arrays with field names.\n",
    "\n",
    "5. **Sorting Arrays with NaN Values**:\n",
    "   - NaN values are treated differently by different algorithms. Ensure that NaNs are handled appropriately.\n",
    "\n",
    "---\n",
    "\n",
    "## Conclusion\n",
    "\n",
    "Sorting is a fundamental operation in data manipulation, and NumPy provides robust and flexible functions for sorting arrays efficiently. Understanding the nuances of functions like `np.sort`, `np.argsort`, and `np.lexsort`, along with their parameters and options, empowers you to handle a wide array of sorting tasks in scientific computing and data analysis.\n",
    "\n",
    "By mastering these functions and being aware of common pitfalls, you'll be better equipped to write efficient and reliable code that leverages the full capabilities of NumPy's sorting mechanisms.\n",
    "\n",
    "---"
   ]
  },
  {
   "cell_type": "markdown",
   "metadata": {},
   "source": [
    "### np.append\n",
    "\n",
    "The numpy.append() appends values along the mentioned axis at the end of the array\n",
    "\n",
    "https://numpy.org/doc/stable/reference/generated/numpy.append.html"
   ]
  },
  {
   "cell_type": "code",
   "execution_count": 8,
   "metadata": {},
   "outputs": [
    {
     "data": {
      "text/plain": [
       "array([ 35,  93,  61,  60,  24,  85,  69,  36,  14,   5,  43,  95,  45,\n",
       "        17,  21, 200])"
      ]
     },
     "execution_count": 8,
     "metadata": {},
     "output_type": "execute_result"
    }
   ],
   "source": [
    "np.append(a,200)"
   ]
  },
  {
   "cell_type": "code",
   "execution_count": 19,
   "metadata": {},
   "outputs": [
    {
     "data": {
      "text/plain": [
       "array([[ 4., 10., 17., 21.,  1.],\n",
       "       [24., 31., 32., 71.,  1.],\n",
       "       [80., 89., 80., 92.,  1.],\n",
       "       [97., 84., 44., 64.,  1.],\n",
       "       [63., 73., 21., 50.,  1.],\n",
       "       [93., 95., 65.,  8.,  1.]])"
      ]
     },
     "execution_count": 19,
     "metadata": {},
     "output_type": "execute_result"
    }
   ],
   "source": [
    "np.append(b, np.ones((b.shape[0],1)), axis = 1)"
   ]
  },
  {
   "cell_type": "code",
   "execution_count": 20,
   "metadata": {},
   "outputs": [
    {
     "data": {
      "text/plain": [
       "array([[ 4.        , 10.        , 17.        , 21.        ,  0.65472337],\n",
       "       [24.        , 31.        , 32.        , 71.        ,  0.36906764],\n",
       "       [80.        , 89.        , 80.        , 92.        ,  0.29902707],\n",
       "       [97.        , 84.        , 44.        , 64.        ,  0.33663791],\n",
       "       [63.        , 73.        , 21.        , 50.        ,  0.6449111 ],\n",
       "       [93.        , 95.        , 65.        ,  8.        ,  0.14208844]])"
      ]
     },
     "execution_count": 20,
     "metadata": {},
     "output_type": "execute_result"
    }
   ],
   "source": [
    "np.append(b,np.random.random((b.shape[0],1)),axis=1)"
   ]
  },
  {
   "cell_type": "markdown",
   "metadata": {},
   "source": [
    "Here are detailed and complete notes on **`np.append()`** in NumPy, covering all aspects, including maintaining array shape.\n",
    "\n",
    "---\n",
    "\n",
    "# **`np.append()` in NumPy – Everything You Need to Know**\n",
    "## **Overview**\n",
    "`np.append()` is used to add elements to a NumPy array. It **does not modify** the original array but **returns a new array** with the appended values.\n",
    "\n",
    "---\n",
    "\n",
    "## **Syntax**\n",
    "```python\n",
    "np.append(arr, values, axis=None)\n",
    "```\n",
    "\n",
    "## **Parameters**\n",
    "1. **arr**: The input array.\n",
    "2. **values**: The values to append (can be a scalar, list, or array).\n",
    "3. **axis**:\n",
    "   - `axis=None` (default): Flattens the array and appends values.\n",
    "   - `axis=0`: Appends along rows (vertical).\n",
    "   - `axis=1`: Appends along columns (horizontal).\n",
    "\n",
    "---\n",
    "\n",
    "## **Appending to a 1D Array**\n",
    "```python\n",
    "import numpy as np\n",
    "\n",
    "arr = np.array([1, 2, 3])\n",
    "new_arr = np.append(arr, [4, 5, 6])\n",
    "\n",
    "print(new_arr)  # Output: [1 2 3 4 5 6]\n",
    "```\n",
    "- Since `axis=None` by default, `np.append()` **flattens** arrays before appending.\n",
    "\n",
    "---\n",
    "\n",
    "## **Appending to a 2D Array**\n",
    "### **Case 1: Appending Without Specifying Axis (Flattens)**\n",
    "```python\n",
    "arr_2d = np.array([[1, 2, 3], [4, 5, 6]])\n",
    "new_arr = np.append(arr_2d, [7, 8, 9])\n",
    "\n",
    "print(new_arr)  \n",
    "# Output: [1 2 3 4 5 6 7 8 9] (Flattens into 1D array)\n",
    "```\n",
    "**Key Point:** If `axis=None`, it **flattens the 2D array** and appends values.\n",
    "\n",
    "---\n",
    "\n",
    "### **Case 2: Appending Along Rows (`axis=0`)**\n",
    "```python\n",
    "arr_2d = np.array([[1, 2, 3], [4, 5, 6]])\n",
    "values = np.array([[7, 8, 9]])  # Must match the number of columns\n",
    "\n",
    "new_arr = np.append(arr_2d, values, axis=0)\n",
    "print(new_arr)\n",
    "```\n",
    "**Output:**\n",
    "```\n",
    "[[1 2 3]\n",
    " [4 5 6]\n",
    " [7 8 9]]\n",
    "```\n",
    "- The number of **columns must match** to maintain shape.\n",
    "\n",
    "---\n",
    "\n",
    "### **Case 3: Appending Along Columns (`axis=1`)**\n",
    "```python\n",
    "arr_2d = np.array([[1, 2], [3, 4]])\n",
    "values = np.array([[5], [6]])  # Must match number of rows\n",
    "\n",
    "new_arr = np.append(arr_2d, values, axis=1)\n",
    "print(new_arr)\n",
    "```\n",
    "**Output:**\n",
    "```\n",
    "[[1 2 5]\n",
    " [3 4 6]]\n",
    "```\n",
    "- The number of **rows must match** to maintain shape.\n",
    "\n",
    "---\n",
    "\n",
    "## **Handling Shape Mismatch Errors**\n",
    "Appending along an axis requires matching dimensions:\n",
    "- If appending **along `axis=0`**, the number of **columns** must match.\n",
    "- If appending **along `axis=1`**, the number of **rows** must match.\n",
    "\n",
    "### **Example of Mismatched Shapes (Error)**\n",
    "```python\n",
    "arr = np.array([[1, 2, 3], [4, 5, 6]])\n",
    "values = np.array([7, 8, 9])  # 1D array\n",
    "np.append(arr, values, axis=0)  # ERROR: Shape mismatch\n",
    "```\n",
    "**Solution:** Reshape `values` before appending:\n",
    "```python\n",
    "values = np.array([[7, 8, 9]])  # Make it a row\n",
    "np.append(arr, values, axis=0)  # Works now\n",
    "```\n",
    "\n",
    "---\n",
    "\n",
    "## **Appending to a 3D Array**\n",
    "```python\n",
    "arr_3d = np.array([[[1, 2], [3, 4]], [[5, 6], [7, 8]]])\n",
    "values = np.array([[[9, 10], [11, 12]]])\n",
    "\n",
    "new_arr = np.append(arr_3d, values, axis=0)\n",
    "print(new_arr)\n",
    "```\n",
    "- `axis=0`: Appends along depth (adds another matrix).\n",
    "- `axis=1`: Appends along rows.\n",
    "- `axis=2`: Appends along columns.\n",
    "\n",
    "---\n",
    "\n",
    "## **Performance Consideration**\n",
    "Appending to NumPy arrays **creates a new array** every time, which is **inefficient for large datasets**. Instead, use:\n",
    "- **`np.concatenate()`** for efficient joining.\n",
    "- **Preallocate arrays** if possible.\n",
    "\n",
    "---\n",
    "\n",
    "## **Summary**\n",
    "| Case | Example | Key Point |\n",
    "|------|---------|-----------|\n",
    "| 1D Append | `np.append(arr, [4, 5])` | Flattens if `axis=None` |\n",
    "| 2D Append Row | `np.append(arr_2d, [[7, 8, 9]], axis=0)` | Columns must match |\n",
    "| 2D Append Column | `np.append(arr_2d, [[5], [6]], axis=1)` | Rows must match |\n",
    "| 3D Append | `np.append(arr_3d, values, axis=0)` | Appends along depth |\n",
    "\n",
    "---\n",
    "\n",
    "This covers everything about **`np.append()`**! 🚀 Let me know if you need any clarifications."
   ]
  },
  {
   "cell_type": "markdown",
   "metadata": {},
   "source": [
    "### np.concatenate\n",
    "\n",
    "numpy.concatenate() function concatenate a sequence of arrays along an existing axis.\n",
    "\n",
    "https://numpy.org/doc/stable/reference/generated/numpy.concatenate.html"
   ]
  },
  {
   "cell_type": "code",
   "execution_count": 22,
   "metadata": {},
   "outputs": [
    {
     "name": "stdout",
     "output_type": "stream",
     "text": [
      "[[0 1 2]\n",
      " [3 4 5]]\n",
      "**************************************************\n",
      "[[ 6  7  8]\n",
      " [ 9 10 11]]\n"
     ]
    }
   ],
   "source": [
    "# code\n",
    "c = np.arange(6).reshape(2,3)\n",
    "d = np.arange(6,12).reshape(2,3)\n",
    "\n",
    "print(c)\n",
    "print(\"*\" * 50)\n",
    "print(d)"
   ]
  },
  {
   "cell_type": "code",
   "execution_count": 23,
   "metadata": {},
   "outputs": [
    {
     "data": {
      "text/plain": [
       "array([[ 0,  1,  2],\n",
       "       [ 3,  4,  5],\n",
       "       [ 6,  7,  8],\n",
       "       [ 9, 10, 11]])"
      ]
     },
     "execution_count": 23,
     "metadata": {},
     "output_type": "execute_result"
    }
   ],
   "source": [
    "np.concatenate((c,d))"
   ]
  },
  {
   "cell_type": "code",
   "execution_count": 25,
   "metadata": {},
   "outputs": [
    {
     "data": {
      "text/plain": [
       "array([[ 0,  1,  2],\n",
       "       [ 3,  4,  5],\n",
       "       [ 6,  7,  8],\n",
       "       [ 9, 10, 11]])"
      ]
     },
     "execution_count": 25,
     "metadata": {},
     "output_type": "execute_result"
    }
   ],
   "source": [
    "np.concatenate((c,d),axis = 0) # => row concatenate"
   ]
  },
  {
   "cell_type": "code",
   "execution_count": null,
   "metadata": {},
   "outputs": [],
   "source": [
    "np.concatenate((c,d),axis = 1) # => column concatenate"
   ]
  },
  {
   "cell_type": "markdown",
   "metadata": {},
   "source": [
    "# **`np.concatenate()` in NumPy – Everything You Need to Know**  \n",
    "\n",
    "## **Introduction**  \n",
    "`np.concatenate()` is used to **join two or more arrays** along an existing axis. It is **faster and more memory-efficient** than `np.append()` because it avoids creating unnecessary intermediate arrays.\n",
    "\n",
    "---\n",
    "\n",
    "## **Syntax**  \n",
    "```python\n",
    "np.concatenate((array1, array2, ...), axis=0)\n",
    "```\n",
    "### **Parameters**  \n",
    "1. **arrays**: A tuple of arrays to concatenate.  \n",
    "2. **axis (default = 0)**:  \n",
    "   - `axis=0`: Joins along rows (vertically).  \n",
    "   - `axis=1`: Joins along columns (horizontally).  \n",
    "   - `axis=2` (for 3D arrays): Joins along depth.  \n",
    "\n",
    "---\n",
    "\n",
    "## **Concatenating 1D Arrays**  \n",
    "```python\n",
    "import numpy as np\n",
    "\n",
    "arr1 = np.array([1, 2, 3])\n",
    "arr2 = np.array([4, 5, 6])\n",
    "\n",
    "result = np.concatenate((arr1, arr2))\n",
    "print(result)  # Output: [1 2 3 4 5 6]\n",
    "```\n",
    "### **Key Points:**  \n",
    "- Since 1D arrays have only one axis, `axis=0` is the only option.  \n",
    "\n",
    "---\n",
    "\n",
    "## **Concatenating 2D Arrays**  \n",
    "### **Case 1: Concatenating Along Rows (`axis=0`)**\n",
    "```python\n",
    "arr1 = np.array([[1, 2], [3, 4]])\n",
    "arr2 = np.array([[5, 6], [7, 8]])\n",
    "\n",
    "result = np.concatenate((arr1, arr2), axis=0)\n",
    "print(result)\n",
    "```\n",
    "**Output:**\n",
    "```\n",
    "[[1 2]\n",
    " [3 4]\n",
    " [5 6]\n",
    " [7 8]]\n",
    "```\n",
    "- **Rows are added (stacked vertically).**\n",
    "- The **number of columns must match**.\n",
    "\n",
    "---\n",
    "\n",
    "### **Case 2: Concatenating Along Columns (`axis=1`)**\n",
    "```python\n",
    "arr1 = np.array([[1, 2], [3, 4]])\n",
    "arr2 = np.array([[5, 6], [7, 8]])\n",
    "\n",
    "result = np.concatenate((arr1, arr2), axis=1)\n",
    "print(result)\n",
    "```\n",
    "**Output:**\n",
    "```\n",
    "[[1 2 5 6]\n",
    " [3 4 7 8]]\n",
    "```\n",
    "- **Columns are added (stacked horizontally).**\n",
    "- The **number of rows must match**.\n",
    "\n",
    "---\n",
    "\n",
    "## **Concatenating 3D Arrays**\n",
    "```python\n",
    "arr1 = np.array([[[1, 2], [3, 4]]])\n",
    "arr2 = np.array([[[5, 6], [7, 8]]])\n",
    "\n",
    "result = np.concatenate((arr1, arr2), axis=0)\n",
    "print(result)\n",
    "```\n",
    "**Output:**\n",
    "```\n",
    "[[[1 2]\n",
    "  [3 4]]\n",
    "\n",
    " [[5 6]\n",
    "  [7 8]]]\n",
    "```\n",
    "- `axis=0`: Adds a new matrix.\n",
    "- `axis=1`: Extends rows.\n",
    "- `axis=2`: Extends columns.\n",
    "\n",
    "---\n",
    "\n",
    "## **Why Use `np.concatenate()` Instead of `np.append()`?**\n",
    "| Feature | `np.concatenate()` | `np.append()` |\n",
    "|---------|----------------|---------------|\n",
    "| **Performance** | More efficient | Creates new array each time |\n",
    "| **Axis Control** | Can concatenate along any axis | Defaults to flattening |\n",
    "| **Multiple Arrays** | Works with multiple arrays at once | Can append only one array at a time |\n",
    "\n",
    "👉 **Use `np.concatenate()` for efficiency and structured merging.**  \n",
    "👉 **Use `np.append()` for small arrays where flattening is needed.**  \n",
    "\n",
    "---\n",
    "\n",
    "## **Why Use `np.concatenate()` Instead of Stacking (`np.vstack()`, `np.hstack()`)?**\n",
    "- `np.concatenate()` gives **more flexibility** to specify an axis.  \n",
    "- Stacking functions (`vstack`, `hstack`) are **special cases** of `np.concatenate()`.  \n",
    "\n",
    "| Function | Equivalent `np.concatenate()` |\n",
    "|----------|----------------------------|\n",
    "| `np.vstack((a, b))` | `np.concatenate((a, b), axis=0)` |\n",
    "| `np.hstack((a, b))` | `np.concatenate((a, b), axis=1)` |\n",
    "| `np.dstack((a, b))` | `np.concatenate((a, b), axis=2)` |\n",
    "\n",
    "---\n",
    "\n",
    "## **Use Cases of `np.concatenate()`**\n",
    "1. **Merging Data from Multiple Sources** (e.g., combining feature sets in ML).\n",
    "2. **Appending Rows or Columns to Matrices** (e.g., adding new data).\n",
    "3. **Efficient Data Processing** (avoiding overhead from `np.append()`).\n",
    "4. **Stacking Image Data** (joining 3D arrays of image channels).\n",
    "\n",
    "---\n",
    "\n",
    "## **Summary**\n",
    "- **`np.concatenate()` is better than `np.append()`** for efficiency.  \n",
    "- **More flexible than stacking functions** like `vstack`, `hstack`.  \n",
    "- **Requires matching shapes along the concatenation axis**.  \n",
    "\n",
    "🚀 **Now you know everything about `np.concatenate()`!** Let me know if you need more explanations! 😊"
   ]
  },
  {
   "cell_type": "markdown",
   "metadata": {},
   "source": [
    "### np.unique\n",
    "\n",
    "With the help of np.unique() method, we can get the unique values from an array given as parameter in np.unique() method.\n",
    "\n",
    "https://numpy.org/doc/stable/reference/generated/numpy.unique.html"
   ]
  },
  {
   "cell_type": "code",
   "execution_count": 27,
   "metadata": {},
   "outputs": [],
   "source": [
    "# code\n",
    "e = np.array([1,1,2,2,3,3,4,4,5,5,6,6])"
   ]
  },
  {
   "cell_type": "code",
   "execution_count": 28,
   "metadata": {},
   "outputs": [
    {
     "data": {
      "text/plain": [
       "array([1, 2, 3, 4, 5, 6])"
      ]
     },
     "execution_count": 28,
     "metadata": {},
     "output_type": "execute_result"
    }
   ],
   "source": [
    "np.unique(e)"
   ]
  },
  {
   "cell_type": "markdown",
   "metadata": {},
   "source": [
    "### np.expand_dims\n",
    "\n",
    "With the help of Numpy.expand_dims() method, we can get the expanded dimensions of an array\n",
    "\n",
    "https://numpy.org/doc/stable/reference/generated/numpy.expand_dims.html"
   ]
  },
  {
   "cell_type": "code",
   "execution_count": 34,
   "metadata": {},
   "outputs": [
    {
     "name": "stdout",
     "output_type": "stream",
     "text": [
      "[35 93 61 60 24 85 69 36 14  5 43 95 45 17 21]\n",
      "(15,)\n"
     ]
    }
   ],
   "source": [
    "print(a)\n",
    "print(a.shape)"
   ]
  },
  {
   "cell_type": "code",
   "execution_count": 36,
   "metadata": {},
   "outputs": [
    {
     "name": "stdout",
     "output_type": "stream",
     "text": [
      "[[35 93 61 60 24 85 69 36 14  5 43 95 45 17 21]]\n",
      "(1, 15)\n"
     ]
    }
   ],
   "source": [
    "print(np.expand_dims(a, axis = 0))\n",
    "print(np.expand_dims(a, axis = 0).shape)"
   ]
  },
  {
   "cell_type": "code",
   "execution_count": 37,
   "metadata": {},
   "outputs": [
    {
     "name": "stdout",
     "output_type": "stream",
     "text": [
      "[[35]\n",
      " [93]\n",
      " [61]\n",
      " [60]\n",
      " [24]\n",
      " [85]\n",
      " [69]\n",
      " [36]\n",
      " [14]\n",
      " [ 5]\n",
      " [43]\n",
      " [95]\n",
      " [45]\n",
      " [17]\n",
      " [21]]\n"
     ]
    }
   ],
   "source": [
    "print(np.expand_dims(a, axis = 1))"
   ]
  },
  {
   "cell_type": "markdown",
   "metadata": {},
   "source": [
    "Useful in row and column vertorization  \n",
    "Also useful in ML when model expect batch of input but its got a single input then we convert the input into the batch of input using expand_dims"
   ]
  },
  {
   "cell_type": "markdown",
   "metadata": {},
   "source": [
    "### np.where\n",
    "\n",
    "The numpy.where() function returns the indices of elements in an input array where the given condition is satisfied.\n",
    "\n",
    "https://numpy.org/doc/stable/reference/generated/numpy.where.html"
   ]
  },
  {
   "cell_type": "code",
   "execution_count": null,
   "metadata": {},
   "outputs": [],
   "source": [
    "a"
   ]
  },
  {
   "cell_type": "code",
   "execution_count": 38,
   "metadata": {},
   "outputs": [
    {
     "data": {
      "text/plain": [
       "(array([ 1,  2,  3,  5,  6, 11], dtype=int64),)"
      ]
     },
     "execution_count": 38,
     "metadata": {},
     "output_type": "execute_result"
    }
   ],
   "source": [
    "# find all indices with values greater than 50\n",
    "np.where(a>50)"
   ]
  },
  {
   "cell_type": "code",
   "execution_count": 41,
   "metadata": {},
   "outputs": [
    {
     "data": {
      "text/plain": [
       "(array([1, 2, 2, 2, 2, 3, 3, 3, 4, 4, 5, 5, 5], dtype=int64),\n",
       " array([3, 0, 1, 2, 3, 0, 1, 3, 0, 1, 0, 1, 2], dtype=int64))"
      ]
     },
     "execution_count": 41,
     "metadata": {},
     "output_type": "execute_result"
    }
   ],
   "source": [
    "(np.where(b>50))"
   ]
  },
  {
   "cell_type": "code",
   "execution_count": 43,
   "metadata": {},
   "outputs": [
    {
     "data": {
      "text/plain": [
       "array([35,  0,  0,  0, 24,  0,  0, 36, 14,  5, 43,  0, 45, 17, 21])"
      ]
     },
     "execution_count": 43,
     "metadata": {},
     "output_type": "execute_result"
    }
   ],
   "source": [
    "# replace all values with > 50 with 0\n",
    "np.where(a > 50,0,a)"
   ]
  },
  {
   "cell_type": "code",
   "execution_count": 44,
   "metadata": {},
   "outputs": [
    {
     "data": {
      "text/plain": [
       "array([35, 93, 61,  0,  0, 85, 69,  0,  0,  5, 43, 95, 45, 17, 21])"
      ]
     },
     "execution_count": 44,
     "metadata": {},
     "output_type": "execute_result"
    }
   ],
   "source": [
    "# replace all even number with > 50 with 0\n",
    "np.where(a % 2 == 0, 0, a)"
   ]
  },
  {
   "cell_type": "markdown",
   "metadata": {},
   "source": [
    "### np.argmax\n",
    "\n",
    "The numpy.argmax() function returns indices of the max element of the array in a particular axis.\n",
    "\n",
    "https://numpy.org/doc/stable/reference/generated/numpy.argmax.html"
   ]
  },
  {
   "cell_type": "code",
   "execution_count": 45,
   "metadata": {},
   "outputs": [
    {
     "data": {
      "text/plain": [
       "array([35, 93, 61, 60, 24, 85, 69, 36, 14,  5, 43, 95, 45, 17, 21])"
      ]
     },
     "execution_count": 45,
     "metadata": {},
     "output_type": "execute_result"
    }
   ],
   "source": [
    "a"
   ]
  },
  {
   "cell_type": "code",
   "execution_count": 46,
   "metadata": {},
   "outputs": [
    {
     "data": {
      "text/plain": [
       "array([[ 4, 10, 17, 21],\n",
       "       [24, 31, 32, 71],\n",
       "       [80, 89, 80, 92],\n",
       "       [97, 84, 44, 64],\n",
       "       [63, 73, 21, 50],\n",
       "       [93, 95, 65,  8]])"
      ]
     },
     "execution_count": 46,
     "metadata": {},
     "output_type": "execute_result"
    }
   ],
   "source": [
    "b"
   ]
  },
  {
   "cell_type": "code",
   "execution_count": 47,
   "metadata": {},
   "outputs": [
    {
     "data": {
      "text/plain": [
       "11"
      ]
     },
     "execution_count": 47,
     "metadata": {},
     "output_type": "execute_result"
    }
   ],
   "source": [
    "np.argmax(a)"
   ]
  },
  {
   "cell_type": "code",
   "execution_count": 49,
   "metadata": {},
   "outputs": [
    {
     "data": {
      "text/plain": [
       "array([3, 5, 2, 2], dtype=int64)"
      ]
     },
     "execution_count": 49,
     "metadata": {},
     "output_type": "execute_result"
    }
   ],
   "source": [
    "np.argmax(b)"
   ]
  },
  {
   "cell_type": "code",
   "execution_count": 52,
   "metadata": {},
   "outputs": [
    {
     "data": {
      "text/plain": [
       "array([3, 5, 2, 2], dtype=int64)"
      ]
     },
     "execution_count": 52,
     "metadata": {},
     "output_type": "execute_result"
    }
   ],
   "source": [
    "np.argmax(b, axis = 0) # column wise"
   ]
  },
  {
   "cell_type": "code",
   "execution_count": 53,
   "metadata": {},
   "outputs": [
    {
     "data": {
      "text/plain": [
       "array([3, 3, 3, 0, 1, 1], dtype=int64)"
      ]
     },
     "execution_count": 53,
     "metadata": {},
     "output_type": "execute_result"
    }
   ],
   "source": [
    "np.argmax(b, axis = 1) # row wise"
   ]
  },
  {
   "cell_type": "markdown",
   "metadata": {},
   "source": [
    "### np.argmin => same as np.argmax but for min"
   ]
  },
  {
   "cell_type": "code",
   "execution_count": null,
   "metadata": {},
   "outputs": [],
   "source": [
    "a"
   ]
  },
  {
   "cell_type": "code",
   "execution_count": 54,
   "metadata": {},
   "outputs": [
    {
     "name": "stdout",
     "output_type": "stream",
     "text": [
      "9\n"
     ]
    }
   ],
   "source": [
    "print(np.argmin(a))"
   ]
  },
  {
   "cell_type": "markdown",
   "metadata": {},
   "source": [
    "### np.cumsum\n",
    "\n",
    "numpy.cumsum() function is used when we want to compute the cumulative sum of array elements over a given axis.\n",
    "\n",
    "https://numpy.org/doc/stable/reference/generated/numpy.cumsum.html"
   ]
  },
  {
   "cell_type": "code",
   "execution_count": 55,
   "metadata": {},
   "outputs": [
    {
     "data": {
      "text/plain": [
       "array([35, 93, 61, 60, 24, 85, 69, 36, 14,  5, 43, 95, 45, 17, 21])"
      ]
     },
     "execution_count": 55,
     "metadata": {},
     "output_type": "execute_result"
    }
   ],
   "source": [
    "a"
   ]
  },
  {
   "cell_type": "code",
   "execution_count": 56,
   "metadata": {},
   "outputs": [
    {
     "data": {
      "text/plain": [
       "array([ 35, 128, 189, 249, 273, 358, 427, 463, 477, 482, 525, 620, 665,\n",
       "       682, 703])"
      ]
     },
     "execution_count": 56,
     "metadata": {},
     "output_type": "execute_result"
    }
   ],
   "source": [
    "np.cumsum(a)"
   ]
  },
  {
   "cell_type": "code",
   "execution_count": 58,
   "metadata": {},
   "outputs": [
    {
     "data": {
      "text/plain": [
       "array([[ 4, 10, 17, 21],\n",
       "       [24, 31, 32, 71],\n",
       "       [80, 89, 80, 92],\n",
       "       [97, 84, 44, 64],\n",
       "       [63, 73, 21, 50],\n",
       "       [93, 95, 65,  8]])"
      ]
     },
     "execution_count": 58,
     "metadata": {},
     "output_type": "execute_result"
    }
   ],
   "source": [
    "b"
   ]
  },
  {
   "cell_type": "code",
   "execution_count": 60,
   "metadata": {},
   "outputs": [
    {
     "data": {
      "text/plain": [
       "array([   4,   14,   31,   52,   76,  107,  139,  210,  290,  379,  459,\n",
       "        551,  648,  732,  776,  840,  903,  976,  997, 1047, 1140, 1235,\n",
       "       1300, 1308])"
      ]
     },
     "execution_count": 60,
     "metadata": {},
     "output_type": "execute_result"
    }
   ],
   "source": [
    "np.cumsum(b)"
   ]
  },
  {
   "cell_type": "code",
   "execution_count": 61,
   "metadata": {},
   "outputs": [
    {
     "data": {
      "text/plain": [
       "array([[  4,  10,  17,  21],\n",
       "       [ 28,  41,  49,  92],\n",
       "       [108, 130, 129, 184],\n",
       "       [205, 214, 173, 248],\n",
       "       [268, 287, 194, 298],\n",
       "       [361, 382, 259, 306]])"
      ]
     },
     "execution_count": 61,
     "metadata": {},
     "output_type": "execute_result"
    }
   ],
   "source": [
    "np.cumsum(b, axis = 0) # column wise"
   ]
  },
  {
   "cell_type": "code",
   "execution_count": 62,
   "metadata": {},
   "outputs": [
    {
     "data": {
      "text/plain": [
       "array([[  4,  14,  31,  52],\n",
       "       [ 24,  55,  87, 158],\n",
       "       [ 80, 169, 249, 341],\n",
       "       [ 97, 181, 225, 289],\n",
       "       [ 63, 136, 157, 207],\n",
       "       [ 93, 188, 253, 261]])"
      ]
     },
     "execution_count": 62,
     "metadata": {},
     "output_type": "execute_result"
    }
   ],
   "source": [
    "np.cumsum(b, axis = 1) # row wise"
   ]
  },
  {
   "cell_type": "markdown",
   "metadata": {},
   "source": [
    "### np.cumprod => same as np.cumsum but for product"
   ]
  },
  {
   "cell_type": "code",
   "execution_count": 63,
   "metadata": {},
   "outputs": [
    {
     "data": {
      "text/plain": [
       "array([35, 93, 61, 60, 24, 85, 69, 36, 14,  5, 43, 95, 45, 17, 21])"
      ]
     },
     "execution_count": 63,
     "metadata": {},
     "output_type": "execute_result"
    }
   ],
   "source": [
    "a"
   ]
  },
  {
   "cell_type": "code",
   "execution_count": 64,
   "metadata": {},
   "outputs": [
    {
     "data": {
      "text/plain": [
       "array([         35,        3255,      198555,    11913300,   285919200,\n",
       "       -1466671776,  1878862560, -1080424576,  2053925120,  1679691008,\n",
       "        -787730688, -1819971328,  -294331136,  -708662016, -1997000448])"
      ]
     },
     "execution_count": 64,
     "metadata": {},
     "output_type": "execute_result"
    }
   ],
   "source": [
    "np.cumprod(a)"
   ]
  },
  {
   "cell_type": "markdown",
   "metadata": {},
   "source": [
    "### np.percentile\n",
    "\n",
    "numpy.percentile()function used to compute the nth percentile of the given data (array elements) along the specified axis. \n",
    "\n",
    "https://numpy.org/doc/stable/reference/generated/numpy.percentile.html"
   ]
  },
  {
   "cell_type": "code",
   "execution_count": 65,
   "metadata": {},
   "outputs": [
    {
     "data": {
      "text/plain": [
       "array([35, 93, 61, 60, 24, 85, 69, 36, 14,  5, 43, 95, 45, 17, 21])"
      ]
     },
     "execution_count": 65,
     "metadata": {},
     "output_type": "execute_result"
    }
   ],
   "source": [
    "a"
   ]
  },
  {
   "cell_type": "code",
   "execution_count": 66,
   "metadata": {},
   "outputs": [
    {
     "data": {
      "text/plain": [
       "95.0"
      ]
     },
     "execution_count": 66,
     "metadata": {},
     "output_type": "execute_result"
    }
   ],
   "source": [
    "np.percentile(a,100) # => same type of percentile as JEE result"
   ]
  },
  {
   "cell_type": "code",
   "execution_count": 67,
   "metadata": {},
   "outputs": [
    {
     "data": {
      "text/plain": [
       "5.0"
      ]
     },
     "execution_count": 67,
     "metadata": {},
     "output_type": "execute_result"
    }
   ],
   "source": [
    "np.percentile(a,0)"
   ]
  },
  {
   "cell_type": "code",
   "execution_count": 68,
   "metadata": {},
   "outputs": [
    {
     "data": {
      "text/plain": [
       "43.0"
      ]
     },
     "execution_count": 68,
     "metadata": {},
     "output_type": "execute_result"
    }
   ],
   "source": [
    "np.percentile(a,50)"
   ]
  },
  {
   "cell_type": "code",
   "execution_count": 69,
   "metadata": {},
   "outputs": [
    {
     "data": {
      "text/plain": [
       "43.0"
      ]
     },
     "execution_count": 69,
     "metadata": {},
     "output_type": "execute_result"
    }
   ],
   "source": [
    "np.median(a)"
   ]
  },
  {
   "cell_type": "markdown",
   "metadata": {},
   "source": [
    "### np.histogram\n",
    "\n",
    "Numpy has a built-in numpy.histogram() function which represents the frequency of data distribution in the graphical form.\n",
    "\n",
    "https://numpy.org/doc/stable/reference/generated/numpy.histogram.html"
   ]
  },
  {
   "cell_type": "code",
   "execution_count": 70,
   "metadata": {},
   "outputs": [
    {
     "data": {
      "text/plain": [
       "array([35, 93, 61, 60, 24, 85, 69, 36, 14,  5, 43, 95, 45, 17, 21])"
      ]
     },
     "execution_count": 70,
     "metadata": {},
     "output_type": "execute_result"
    }
   ],
   "source": [
    "a"
   ]
  },
  {
   "cell_type": "code",
   "execution_count": 75,
   "metadata": {},
   "outputs": [
    {
     "data": {
      "text/plain": [
       "(array([9, 6], dtype=int64), array([  0,  50, 100]))"
      ]
     },
     "execution_count": 75,
     "metadata": {},
     "output_type": "execute_result"
    }
   ],
   "source": [
    "np.histogram(a, bins = [0,50,100])"
   ]
  },
  {
   "cell_type": "markdown",
   "metadata": {},
   "source": [
    "### np.corrcoef\n",
    "\n",
    "Return Pearson product-moment correlation coefficients.\n",
    "\n",
    "https://numpy.org/doc/stable/reference/generated/numpy.corrcoef.html"
   ]
  },
  {
   "cell_type": "code",
   "execution_count": 76,
   "metadata": {},
   "outputs": [
    {
     "data": {
      "text/plain": [
       "array([[1.        , 0.25344572],\n",
       "       [0.25344572, 1.        ]])"
      ]
     },
     "execution_count": 76,
     "metadata": {},
     "output_type": "execute_result"
    }
   ],
   "source": [
    "salary = np.array([20000,40000,25000,35000,60000])\n",
    "experience = np.array([1,3,2,4,2])\n",
    "\n",
    "np.corrcoef(salary,experience)"
   ]
  },
  {
   "cell_type": "markdown",
   "metadata": {},
   "source": [
    "upar aisa ouput iss liye aaya hai kyuki phle salary ka correalation salary se hi nikla aur phir experience se  \n",
    "Then niche experience ka salary se aur phir experience se nikla"
   ]
  },
  {
   "cell_type": "markdown",
   "metadata": {},
   "source": [
    "image screenshot"
   ]
  },
  {
   "cell_type": "markdown",
   "metadata": {},
   "source": [
    "### np.isin\n",
    "\n",
    "With the help of numpy.isin() method, we can see that one array having values are checked in a different numpy array having different elements with different sizes.\n",
    "\n",
    "https://numpy.org/doc/stable/reference/generated/numpy.isin.html"
   ]
  },
  {
   "cell_type": "code",
   "execution_count": null,
   "metadata": {},
   "outputs": [],
   "source": [
    "a"
   ]
  },
  {
   "cell_type": "code",
   "execution_count": 77,
   "metadata": {},
   "outputs": [
    {
     "data": {
      "text/plain": [
       "array([False, False, False,  True, False, False, False, False, False,\n",
       "       False, False, False, False, False, False])"
      ]
     },
     "execution_count": 77,
     "metadata": {},
     "output_type": "execute_result"
    }
   ],
   "source": [
    "items = [10,20,30,40,50,60,70,80,90,100]\n",
    "np.isin(a,items)"
   ]
  },
  {
   "cell_type": "code",
   "execution_count": 78,
   "metadata": {},
   "outputs": [
    {
     "data": {
      "text/plain": [
       "array([60])"
      ]
     },
     "execution_count": 78,
     "metadata": {},
     "output_type": "execute_result"
    }
   ],
   "source": [
    "a[np.isin(a,items)]"
   ]
  },
  {
   "cell_type": "markdown",
   "metadata": {},
   "source": [
    "### np.flip\n",
    "\n",
    "The numpy.flip() function reverses the order of array elements along the specified axis, preserving the shape of the array.\n",
    "\n",
    "https://numpy.org/doc/stable/reference/generated/numpy.flip.html"
   ]
  },
  {
   "cell_type": "code",
   "execution_count": 79,
   "metadata": {},
   "outputs": [
    {
     "data": {
      "text/plain": [
       "array([35, 93, 61, 60, 24, 85, 69, 36, 14,  5, 43, 95, 45, 17, 21])"
      ]
     },
     "execution_count": 79,
     "metadata": {},
     "output_type": "execute_result"
    }
   ],
   "source": [
    "a"
   ]
  },
  {
   "cell_type": "code",
   "execution_count": 81,
   "metadata": {},
   "outputs": [
    {
     "data": {
      "text/plain": [
       "array([21, 17, 45, 95, 43,  5, 14, 36, 69, 85, 24, 60, 61, 93, 35])"
      ]
     },
     "execution_count": 81,
     "metadata": {},
     "output_type": "execute_result"
    }
   ],
   "source": [
    "np.flip(a)"
   ]
  },
  {
   "cell_type": "code",
   "execution_count": 82,
   "metadata": {},
   "outputs": [
    {
     "data": {
      "text/plain": [
       "array([[ 4, 10, 17, 21],\n",
       "       [24, 31, 32, 71],\n",
       "       [80, 89, 80, 92],\n",
       "       [97, 84, 44, 64],\n",
       "       [63, 73, 21, 50],\n",
       "       [93, 95, 65,  8]])"
      ]
     },
     "execution_count": 82,
     "metadata": {},
     "output_type": "execute_result"
    }
   ],
   "source": [
    "b"
   ]
  },
  {
   "cell_type": "code",
   "execution_count": 83,
   "metadata": {},
   "outputs": [
    {
     "data": {
      "text/plain": [
       "array([[ 8, 65, 95, 93],\n",
       "       [50, 21, 73, 63],\n",
       "       [64, 44, 84, 97],\n",
       "       [92, 80, 89, 80],\n",
       "       [71, 32, 31, 24],\n",
       "       [21, 17, 10,  4]])"
      ]
     },
     "execution_count": 83,
     "metadata": {},
     "output_type": "execute_result"
    }
   ],
   "source": [
    "np.flip(b)"
   ]
  },
  {
   "cell_type": "code",
   "execution_count": 84,
   "metadata": {},
   "outputs": [
    {
     "data": {
      "text/plain": [
       "array([[21, 17, 10,  4],\n",
       "       [71, 32, 31, 24],\n",
       "       [92, 80, 89, 80],\n",
       "       [64, 44, 84, 97],\n",
       "       [50, 21, 73, 63],\n",
       "       [ 8, 65, 95, 93]])"
      ]
     },
     "execution_count": 84,
     "metadata": {},
     "output_type": "execute_result"
    }
   ],
   "source": [
    "np.flip(b, axis = 1) # => row wise flipping"
   ]
  },
  {
   "cell_type": "code",
   "execution_count": 85,
   "metadata": {},
   "outputs": [
    {
     "data": {
      "text/plain": [
       "array([[93, 95, 65,  8],\n",
       "       [63, 73, 21, 50],\n",
       "       [97, 84, 44, 64],\n",
       "       [80, 89, 80, 92],\n",
       "       [24, 31, 32, 71],\n",
       "       [ 4, 10, 17, 21]])"
      ]
     },
     "execution_count": 85,
     "metadata": {},
     "output_type": "execute_result"
    }
   ],
   "source": [
    "np.flip(b, axis = 0) # => column wise flipping"
   ]
  },
  {
   "cell_type": "markdown",
   "metadata": {},
   "source": [
    "### np.put\n",
    "\n",
    "The numpy.put() function replaces specific elements of an array with given values of p_array. Array indexed works on flattened array. \n",
    "\n",
    "https://numpy.org/doc/stable/reference/generated/numpy.put.html"
   ]
  },
  {
   "cell_type": "code",
   "execution_count": 86,
   "metadata": {},
   "outputs": [
    {
     "data": {
      "text/plain": [
       "array([35, 93, 61, 60, 24, 85, 69, 36, 14,  5, 43, 95, 45, 17, 21])"
      ]
     },
     "execution_count": 86,
     "metadata": {},
     "output_type": "execute_result"
    }
   ],
   "source": [
    "a"
   ]
  },
  {
   "cell_type": "code",
   "execution_count": 87,
   "metadata": {},
   "outputs": [],
   "source": [
    "np.put(a,[0,1],[110,530])"
   ]
  },
  {
   "cell_type": "code",
   "execution_count": 88,
   "metadata": {},
   "outputs": [
    {
     "data": {
      "text/plain": [
       "array([110, 530,  61,  60,  24,  85,  69,  36,  14,   5,  43,  95,  45,\n",
       "        17,  21])"
      ]
     },
     "execution_count": 88,
     "metadata": {},
     "output_type": "execute_result"
    }
   ],
   "source": [
    "a"
   ]
  },
  {
   "cell_type": "markdown",
   "metadata": {},
   "source": [
    "### np.delete\n",
    "\n",
    "The numpy.delete() function returns a new array with the deletion of sub-arrays along with the mentioned axis. \n",
    "\n",
    "https://numpy.org/doc/stable/reference/generated/numpy.delete.html"
   ]
  },
  {
   "cell_type": "code",
   "execution_count": 89,
   "metadata": {},
   "outputs": [
    {
     "data": {
      "text/plain": [
       "array([110, 530,  61,  60,  24,  85,  69,  36,  14,   5,  43,  95,  45,\n",
       "        17,  21])"
      ]
     },
     "execution_count": 89,
     "metadata": {},
     "output_type": "execute_result"
    }
   ],
   "source": [
    "a"
   ]
  },
  {
   "cell_type": "code",
   "execution_count": 91,
   "metadata": {},
   "outputs": [
    {
     "data": {
      "text/plain": [
       "array([61, 60, 24, 85, 69, 36, 14,  5, 43, 95, 45, 17, 21])"
      ]
     },
     "execution_count": 91,
     "metadata": {},
     "output_type": "execute_result"
    }
   ],
   "source": [
    "np.delete(a,[0,1]) # => indices hia yee"
   ]
  },
  {
   "cell_type": "markdown",
   "metadata": {},
   "source": [
    "### Set functions\n",
    "\n",
    "- np.union1d\n",
    "- np.intersect1d\n",
    "- np.setdiff1d\n",
    "- np.setxor1d\n",
    "- np.in1d"
   ]
  },
  {
   "cell_type": "code",
   "execution_count": 92,
   "metadata": {},
   "outputs": [
    {
     "data": {
      "text/plain": [
       "array([1, 2, 3, 4, 5, 6, 7])"
      ]
     },
     "execution_count": 92,
     "metadata": {},
     "output_type": "execute_result"
    }
   ],
   "source": [
    "m = np.array([1,2,3,4,5])\n",
    "n = np.array([3,4,5,6,7])\n",
    "\n",
    "np.union1d(m,n)"
   ]
  },
  {
   "cell_type": "code",
   "execution_count": 93,
   "metadata": {},
   "outputs": [
    {
     "data": {
      "text/plain": [
       "array([3, 4, 5])"
      ]
     },
     "execution_count": 93,
     "metadata": {},
     "output_type": "execute_result"
    }
   ],
   "source": [
    "np.intersect1d(m,n)"
   ]
  },
  {
   "cell_type": "code",
   "execution_count": 95,
   "metadata": {},
   "outputs": [
    {
     "data": {
      "text/plain": [
       "array([1, 2])"
      ]
     },
     "execution_count": 95,
     "metadata": {},
     "output_type": "execute_result"
    }
   ],
   "source": [
    "np.setdiff1d(m,n)"
   ]
  },
  {
   "cell_type": "code",
   "execution_count": 98,
   "metadata": {},
   "outputs": [
    {
     "data": {
      "text/plain": [
       "array([1, 2, 6, 7])"
      ]
     },
     "execution_count": 98,
     "metadata": {},
     "output_type": "execute_result"
    }
   ],
   "source": [
    "np.setxor1d(m,n)"
   ]
  },
  {
   "cell_type": "code",
   "execution_count": 100,
   "metadata": {},
   "outputs": [
    {
     "data": {
      "text/plain": [
       "array([False, False,  True, False, False])"
      ]
     },
     "execution_count": 100,
     "metadata": {},
     "output_type": "execute_result"
    }
   ],
   "source": [
    "np.in1d(m,3)"
   ]
  },
  {
   "cell_type": "markdown",
   "metadata": {},
   "source": [
    "### np.clip\n",
    "\n",
    "numpy.clip() function is used to Clip (limit) the values in an array.\n",
    "\n",
    "https://numpy.org/doc/stable/reference/generated/numpy.clip.html"
   ]
  },
  {
   "cell_type": "code",
   "execution_count": 101,
   "metadata": {},
   "outputs": [
    {
     "data": {
      "text/plain": [
       "array([110, 530,  61,  60,  24,  85,  69,  36,  14,   5,  43,  95,  45,\n",
       "        17,  21])"
      ]
     },
     "execution_count": 101,
     "metadata": {},
     "output_type": "execute_result"
    }
   ],
   "source": [
    "a"
   ]
  },
  {
   "cell_type": "code",
   "execution_count": 102,
   "metadata": {},
   "outputs": [
    {
     "data": {
      "text/plain": [
       "array([75, 75, 61, 60, 25, 75, 69, 36, 25, 25, 43, 75, 45, 25, 25])"
      ]
     },
     "execution_count": 102,
     "metadata": {},
     "output_type": "execute_result"
    }
   ],
   "source": [
    "np.clip(a, a_min = 25, a_max= 75)"
   ]
  },
  {
   "cell_type": "markdown",
   "metadata": {},
   "source": [
    "joo value clip ke range ke bahar hai usko clip kar dega means replace kar denge given value se"
   ]
  },
  {
   "cell_type": "code",
   "execution_count": null,
   "metadata": {},
   "outputs": [],
   "source": []
  },
  {
   "cell_type": "code",
   "execution_count": null,
   "metadata": {},
   "outputs": [],
   "source": []
  }
 ],
 "metadata": {
  "kernelspec": {
   "display_name": "Python 3",
   "language": "python",
   "name": "python3"
  },
  "language_info": {
   "codemirror_mode": {
    "name": "ipython",
    "version": 3
   },
   "file_extension": ".py",
   "mimetype": "text/x-python",
   "name": "python",
   "nbconvert_exporter": "python",
   "pygments_lexer": "ipython3",
   "version": "3.12.0"
  }
 },
 "nbformat": 4,
 "nbformat_minor": 2
}
