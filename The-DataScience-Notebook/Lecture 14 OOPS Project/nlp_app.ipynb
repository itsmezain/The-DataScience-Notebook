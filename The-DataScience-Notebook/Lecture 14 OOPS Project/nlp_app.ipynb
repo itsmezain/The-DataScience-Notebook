{
 "cells": [
  {
   "cell_type": "markdown",
   "metadata": {},
   "source": [
    "This project contains three things:\n",
    "1. NER (Name Entity Recognition)\n",
    "2. Language Detection\n",
    "3. Sentiment Analysis"
   ]
  },
  {
   "cell_type": "code",
   "execution_count": 7,
   "metadata": {},
   "outputs": [
    {
     "name": "stdout",
     "output_type": "stream",
     "text": [
      "Requirement already satisfied: nlpcloud in c:\\python312\\lib\\site-packages (1.1.47)\n",
      "Requirement already satisfied: requests in c:\\python312\\lib\\site-packages (from nlpcloud) (2.32.3)\n",
      "Requirement already satisfied: charset-normalizer<4,>=2 in c:\\python312\\lib\\site-packages (from requests->nlpcloud) (3.3.2)\n",
      "Requirement already satisfied: idna<4,>=2.5 in c:\\python312\\lib\\site-packages (from requests->nlpcloud) (3.3)\n",
      "Requirement already satisfied: urllib3<3,>=1.21.1 in c:\\python312\\lib\\site-packages (from requests->nlpcloud) (2.2.1)\n",
      "Requirement already satisfied: certifi>=2017.4.17 in c:\\python312\\lib\\site-packages (from requests->nlpcloud) (2022.6.15)\n",
      "Note: you may need to restart the kernel to use updated packages.\n"
     ]
    }
   ],
   "source": [
    "%pip install nlpcloud "
   ]
  },
  {
   "cell_type": "markdown",
   "metadata": {},
   "source": [
    "### **Features of App**\n",
    "1. Login\n",
    "2. Sign Up\n",
    "3. NLP Features\n",
    "   1. NER (Named Entity Recognition)\n",
    "   2. Language Detection\n",
    "   3. Sentiment Analysis"
   ]
  },
  {
   "cell_type": "code",
   "execution_count": 8,
   "metadata": {},
   "outputs": [
    {
     "data": {
      "text/plain": [
       "{'entities': [{'start': 26,\n",
       "   'end': 36,\n",
       "   'type': 'programming languages',\n",
       "   'text': 'Javascript'},\n",
       "  {'start': 102,\n",
       "   'end': 108,\n",
       "   'type': 'programming languages',\n",
       "   'text': 'Python'},\n",
       "  {'start': 165, 'end': 167, 'type': 'programming languages', 'text': 'Go'}]}"
      ]
     },
     "execution_count": 8,
     "metadata": {},
     "output_type": "execute_result"
    }
   ],
   "source": [
    "import nlpcloud\n",
    "\n",
    "client = nlpcloud.Client(\"finetuned-llama-3-70b\", \"API_KEY\", gpu=True)\n",
    "client.entities(\n",
    "    \"\"\"John Doe started learning Javascript when he was 15 years old. After a couple of years he switched to Python and starter learning low level programming. He is now a Go expert at Google.\"\"\",\n",
    "    searched_entity=\"programming languages\"\n",
    ")"
   ]
  },
  {
   "cell_type": "markdown",
   "metadata": {},
   "source": [
    "### Entity class detection banange jisme ham ek parameter me ek string pass karenge aur usme se entity class detect karenge."
   ]
  },
  {
   "cell_type": "code",
   "execution_count": 130,
   "metadata": {},
   "outputs": [],
   "source": [
    "import nlpcloud\n",
    "import pandas as pd\n",
    "\n",
    "class NlpApp:\n",
    "    \n",
    "    def __init__(self):\n",
    "        \n",
    "        self.__database = {}\n",
    "        self.__first_menu()\n",
    "        \n",
    "    def __first_menu(self):\n",
    "        \n",
    "        print(\"Welcome to the Natural Language Processing App!\".center(50,\" \"))\n",
    "        firstinp= input(\"\"\"\n",
    "                    \n",
    "                    1. Not already register ? Register\n",
    "                    2. Already a member ? Login\n",
    "                    3. Exit\n",
    "                \"\"\")\n",
    "        \n",
    "        if firstinp == \"1\":\n",
    "            self.__register()\n",
    "        elif firstinp == \"2\":\n",
    "            self.__login()\n",
    "        else:\n",
    "            exit(0)\n",
    "            \n",
    "        \n",
    "    def __register(self):\n",
    "        print('REGISTRATION'.center(50, '-'))\n",
    "        name = input('Enter your name : ')\n",
    "        email = input('Enter your email : ')\n",
    "        password = input('Enter password : ')\n",
    "\n",
    "        if email in self.__database:\n",
    "            print('You are already registered with us :) Please Login...')\n",
    "        else:\n",
    "            self.__database[email] = {'name': name, 'password': password}\n",
    "            print('Registration successful! You can now Login.')\n",
    "            print(self.__database)\n",
    "            self.__login()\n",
    "            \n",
    "    def __login(self):\n",
    "        print('LOGIN'.center(50, '-'))\n",
    "        email = input('Enter your email : ')\n",
    "        password = input('Enter password : ')\n",
    "        \n",
    "        if email in self.__database:\n",
    "            if self.__database[email]['password'] == password:\n",
    "                print('Login successful!'.center(50,\"-\"))\n",
    "                self.__logged_in_menu()\n",
    "            else:\n",
    "                print('Incorrect password. Please try again.')\n",
    "                self.__login()\n",
    "        else:\n",
    "            print('Email not found. Please register first.')\n",
    "            self.__first_menu()\n",
    "    \n",
    "          \n",
    "    def __logged_in_menu(self):\n",
    "        \n",
    "        inp = int(input(\"\"\"\n",
    "                    What would you like to do?\n",
    "                    1. NER (Entity Extraction)\n",
    "                    2. Language Detection\n",
    "                    3. Sentiment Analysis\n",
    "                    4. Logout\n",
    "                    Enter your choice : \"\"\"))\n",
    "        \n",
    "        if inp == 1:\n",
    "            self.__ner()\n",
    "        elif inp == 2:\n",
    "            self.__lang_detection()\n",
    "        elif inp == 3:\n",
    "            self.__sentiment_analysis()\n",
    "        else:\n",
    "            pass\n",
    "        \n",
    "    def __ner(self):\n",
    "        \n",
    "        print('Entity Extraction'.center(50, '-'))\n",
    "        \n",
    "        text = input('Enter paragraph : ')\n",
    "        searched_entity = input('Which entity do you want to search in paragraph : ')\n",
    "        \n",
    "        client = nlpcloud.Client(\"finetuned-llama-3-70b\", \"API_KEY\", gpu=True)\n",
    "        response = client.entities(text, searched_entity = search9ed_entity )\n",
    "        \n",
    "        output = pd.DataFrame(response['entities'])\n",
    "        print(output)\n",
    "        self.__logged_in_menu()\n",
    "    \n",
    "    def __lang_detection(self):\n",
    "        \n",
    "        text = input('Enter paragraph : ')\n",
    "        \n",
    "        client = nlpcloud.Client(\"python-langdetect\", \"API_KEY\", gpu=False)\n",
    "        response = client.langdetection(text)\n",
    "        \n",
    "        max_language = max(response['languages'], key=lambda x: list(x.values())[0])\n",
    "        \n",
    "        max_key = list(max_language.keys())[0]\n",
    "\n",
    "        print(max_key)\n",
    "        self.__logged_in_menu()\n",
    "        \n",
    "    \n",
    "    def __sentiment_analysis(self):\n",
    "        \n",
    "        text = input('Enter paragraph : ')\n",
    "        \n",
    "        client = nlpcloud.Client(\"distilbert-base-uncased-emotion\", \"API_KEY\", gpu=False)\n",
    "        response = client.sentiment(text)\n",
    "\n",
    "        L = []\n",
    "\n",
    "        for i in response['scored_labels']:\n",
    "            L.append(i['score'])\n",
    "    \n",
    "        sorted_order = sorted(list(enumerate(L)), key=lambda x: x[1], reverse = True)\n",
    "\n",
    "        print(response['scored_labels'][sorted_order[0][0]]['label'])\n",
    "        self.__logged_in_menu()\n",
    "    \n",
    "    \n",
    "        \n",
    "        "
   ]
  },
  {
   "cell_type": "code",
   "execution_count": 131,
   "metadata": {},
   "outputs": [
    {
     "name": "stdout",
     "output_type": "stream",
     "text": [
      " Welcome to the Natural Language Processing App!  \n",
      "-------------------REGISTRATION-------------------\n",
      "Registration successful! You can now Login.\n",
      "{'zain': {'name': 'zain', 'password': '123'}}\n",
      "----------------------LOGIN-----------------------\n",
      "Incorrect password. Please try again.\n",
      "----------------------LOGIN-----------------------\n",
      "----------------Login successful!-----------------\n",
      "anger\n",
      "cy\n",
      "----------------Entity Extraction-----------------\n"
     ]
    },
    {
     "ename": "HTTPError",
     "evalue": "401 Client Error: Unauthorized for url: https://api.nlpcloud.io/v1/gpu/finetuned-llama-3-70b/entities: ",
     "output_type": "error",
     "traceback": [
      "\u001b[1;31m---------------------------------------------------------------------------\u001b[0m",
      "\u001b[1;31mHTTPError\u001b[0m                                 Traceback (most recent call last)",
      "File \u001b[1;32mc:\\Python312\\Lib\\site-packages\\nlpcloud\\__init__.py:185\u001b[0m, in \u001b[0;36mClient.entities\u001b[1;34m(self, text, searched_entity)\u001b[0m\n\u001b[0;32m    184\u001b[0m \u001b[38;5;28;01mtry\u001b[39;00m:\n\u001b[1;32m--> 185\u001b[0m     \u001b[43mr\u001b[49m\u001b[38;5;241;43m.\u001b[39;49m\u001b[43mraise_for_status\u001b[49m\u001b[43m(\u001b[49m\u001b[43m)\u001b[49m\n\u001b[0;32m    186\u001b[0m \u001b[38;5;28;01mexcept\u001b[39;00m HTTPError \u001b[38;5;28;01mas\u001b[39;00m err:\n",
      "File \u001b[1;32mc:\\Python312\\Lib\\site-packages\\requests\\models.py:1024\u001b[0m, in \u001b[0;36mResponse.raise_for_status\u001b[1;34m(self)\u001b[0m\n\u001b[0;32m   1023\u001b[0m \u001b[38;5;28;01mif\u001b[39;00m http_error_msg:\n\u001b[1;32m-> 1024\u001b[0m     \u001b[38;5;28;01mraise\u001b[39;00m HTTPError(http_error_msg, response\u001b[38;5;241m=\u001b[39m\u001b[38;5;28mself\u001b[39m)\n",
      "\u001b[1;31mHTTPError\u001b[0m: 401 Client Error: Unauthorized for url: https://api.nlpcloud.io/v1/gpu/finetuned-llama-3-70b/entities",
      "\nDuring handling of the above exception, another exception occurred:\n",
      "\u001b[1;31mHTTPError\u001b[0m                                 Traceback (most recent call last)",
      "Cell \u001b[1;32mIn[131], line 1\u001b[0m\n\u001b[1;32m----> 1\u001b[0m obj \u001b[38;5;241m=\u001b[39m \u001b[43mNlpApp\u001b[49m\u001b[43m(\u001b[49m\u001b[43m)\u001b[49m\n",
      "Cell \u001b[1;32mIn[130], line 9\u001b[0m, in \u001b[0;36mNlpApp.__init__\u001b[1;34m(self)\u001b[0m\n\u001b[0;32m      6\u001b[0m \u001b[38;5;28;01mdef\u001b[39;00m \u001b[38;5;21m__init__\u001b[39m(\u001b[38;5;28mself\u001b[39m):\n\u001b[0;32m      8\u001b[0m     \u001b[38;5;28mself\u001b[39m\u001b[38;5;241m.\u001b[39m__database \u001b[38;5;241m=\u001b[39m {}\n\u001b[1;32m----> 9\u001b[0m     \u001b[38;5;28;43mself\u001b[39;49m\u001b[38;5;241;43m.\u001b[39;49m\u001b[43m__first_menu\u001b[49m\u001b[43m(\u001b[49m\u001b[43m)\u001b[49m\n",
      "Cell \u001b[1;32mIn[130], line 22\u001b[0m, in \u001b[0;36mNlpApp.__first_menu\u001b[1;34m(self)\u001b[0m\n\u001b[0;32m     14\u001b[0m firstinp\u001b[38;5;241m=\u001b[39m \u001b[38;5;28minput\u001b[39m(\u001b[38;5;124m\"\"\"\u001b[39m\n\u001b[0;32m     15\u001b[0m \u001b[38;5;124m            \u001b[39m\n\u001b[0;32m     16\u001b[0m \u001b[38;5;124m            1. Not already register ? Register\u001b[39m\n\u001b[0;32m     17\u001b[0m \u001b[38;5;124m            2. Already a member ? Login\u001b[39m\n\u001b[0;32m     18\u001b[0m \u001b[38;5;124m            3. Exit\u001b[39m\n\u001b[0;32m     19\u001b[0m \u001b[38;5;124m        \u001b[39m\u001b[38;5;124m\"\"\"\u001b[39m)\n\u001b[0;32m     21\u001b[0m \u001b[38;5;28;01mif\u001b[39;00m firstinp \u001b[38;5;241m==\u001b[39m \u001b[38;5;124m\"\u001b[39m\u001b[38;5;124m1\u001b[39m\u001b[38;5;124m\"\u001b[39m:\n\u001b[1;32m---> 22\u001b[0m     \u001b[38;5;28;43mself\u001b[39;49m\u001b[38;5;241;43m.\u001b[39;49m\u001b[43m__register\u001b[49m\u001b[43m(\u001b[49m\u001b[43m)\u001b[49m\n\u001b[0;32m     23\u001b[0m \u001b[38;5;28;01melif\u001b[39;00m firstinp \u001b[38;5;241m==\u001b[39m \u001b[38;5;124m\"\u001b[39m\u001b[38;5;124m2\u001b[39m\u001b[38;5;124m\"\u001b[39m:\n\u001b[0;32m     24\u001b[0m     \u001b[38;5;28mself\u001b[39m\u001b[38;5;241m.\u001b[39m__login()\n",
      "Cell \u001b[1;32mIn[130], line 41\u001b[0m, in \u001b[0;36mNlpApp.__register\u001b[1;34m(self)\u001b[0m\n\u001b[0;32m     39\u001b[0m \u001b[38;5;28mprint\u001b[39m(\u001b[38;5;124m'\u001b[39m\u001b[38;5;124mRegistration successful! You can now Login.\u001b[39m\u001b[38;5;124m'\u001b[39m)\n\u001b[0;32m     40\u001b[0m \u001b[38;5;28mprint\u001b[39m(\u001b[38;5;28mself\u001b[39m\u001b[38;5;241m.\u001b[39m__database)\n\u001b[1;32m---> 41\u001b[0m \u001b[38;5;28;43mself\u001b[39;49m\u001b[38;5;241;43m.\u001b[39;49m\u001b[43m__login\u001b[49m\u001b[43m(\u001b[49m\u001b[43m)\u001b[49m\n",
      "Cell \u001b[1;32mIn[130], line 54\u001b[0m, in \u001b[0;36mNlpApp.__login\u001b[1;34m(self)\u001b[0m\n\u001b[0;32m     52\u001b[0m     \u001b[38;5;28;01melse\u001b[39;00m:\n\u001b[0;32m     53\u001b[0m         \u001b[38;5;28mprint\u001b[39m(\u001b[38;5;124m'\u001b[39m\u001b[38;5;124mIncorrect password. Please try again.\u001b[39m\u001b[38;5;124m'\u001b[39m)\n\u001b[1;32m---> 54\u001b[0m         \u001b[38;5;28;43mself\u001b[39;49m\u001b[38;5;241;43m.\u001b[39;49m\u001b[43m__login\u001b[49m\u001b[43m(\u001b[49m\u001b[43m)\u001b[49m\n\u001b[0;32m     55\u001b[0m \u001b[38;5;28;01melse\u001b[39;00m:\n\u001b[0;32m     56\u001b[0m     \u001b[38;5;28mprint\u001b[39m(\u001b[38;5;124m'\u001b[39m\u001b[38;5;124mEmail not found. Please register first.\u001b[39m\u001b[38;5;124m'\u001b[39m)\n",
      "Cell \u001b[1;32mIn[130], line 51\u001b[0m, in \u001b[0;36mNlpApp.__login\u001b[1;34m(self)\u001b[0m\n\u001b[0;32m     49\u001b[0m \u001b[38;5;28;01mif\u001b[39;00m \u001b[38;5;28mself\u001b[39m\u001b[38;5;241m.\u001b[39m__database[email][\u001b[38;5;124m'\u001b[39m\u001b[38;5;124mpassword\u001b[39m\u001b[38;5;124m'\u001b[39m] \u001b[38;5;241m==\u001b[39m password:\n\u001b[0;32m     50\u001b[0m     \u001b[38;5;28mprint\u001b[39m(\u001b[38;5;124m'\u001b[39m\u001b[38;5;124mLogin successful!\u001b[39m\u001b[38;5;124m'\u001b[39m\u001b[38;5;241m.\u001b[39mcenter(\u001b[38;5;241m50\u001b[39m,\u001b[38;5;124m\"\u001b[39m\u001b[38;5;124m-\u001b[39m\u001b[38;5;124m\"\u001b[39m))\n\u001b[1;32m---> 51\u001b[0m     \u001b[38;5;28;43mself\u001b[39;49m\u001b[38;5;241;43m.\u001b[39;49m\u001b[43m__logged_in_menu\u001b[49m\u001b[43m(\u001b[49m\u001b[43m)\u001b[49m\n\u001b[0;32m     52\u001b[0m \u001b[38;5;28;01melse\u001b[39;00m:\n\u001b[0;32m     53\u001b[0m     \u001b[38;5;28mprint\u001b[39m(\u001b[38;5;124m'\u001b[39m\u001b[38;5;124mIncorrect password. Please try again.\u001b[39m\u001b[38;5;124m'\u001b[39m)\n",
      "Cell \u001b[1;32mIn[130], line 75\u001b[0m, in \u001b[0;36mNlpApp.__logged_in_menu\u001b[1;34m(self)\u001b[0m\n\u001b[0;32m     73\u001b[0m     \u001b[38;5;28mself\u001b[39m\u001b[38;5;241m.\u001b[39m__lang_detection()\n\u001b[0;32m     74\u001b[0m \u001b[38;5;28;01melif\u001b[39;00m inp \u001b[38;5;241m==\u001b[39m \u001b[38;5;241m3\u001b[39m:\n\u001b[1;32m---> 75\u001b[0m     \u001b[38;5;28;43mself\u001b[39;49m\u001b[38;5;241;43m.\u001b[39;49m\u001b[43m__sentiment_analysis\u001b[49m\u001b[43m(\u001b[49m\u001b[43m)\u001b[49m\n\u001b[0;32m     76\u001b[0m \u001b[38;5;28;01melse\u001b[39;00m:\n\u001b[0;32m     77\u001b[0m     \u001b[38;5;28;01mpass\u001b[39;00m\n",
      "Cell \u001b[1;32mIn[130], line 123\u001b[0m, in \u001b[0;36mNlpApp.__sentiment_analysis\u001b[1;34m(self)\u001b[0m\n\u001b[0;32m    120\u001b[0m sorted_order \u001b[38;5;241m=\u001b[39m \u001b[38;5;28msorted\u001b[39m(\u001b[38;5;28mlist\u001b[39m(\u001b[38;5;28menumerate\u001b[39m(L)), key\u001b[38;5;241m=\u001b[39m\u001b[38;5;28;01mlambda\u001b[39;00m x: x[\u001b[38;5;241m1\u001b[39m], reverse \u001b[38;5;241m=\u001b[39m \u001b[38;5;28;01mTrue\u001b[39;00m)\n\u001b[0;32m    122\u001b[0m \u001b[38;5;28mprint\u001b[39m(response[\u001b[38;5;124m'\u001b[39m\u001b[38;5;124mscored_labels\u001b[39m\u001b[38;5;124m'\u001b[39m][sorted_order[\u001b[38;5;241m0\u001b[39m][\u001b[38;5;241m0\u001b[39m]][\u001b[38;5;124m'\u001b[39m\u001b[38;5;124mlabel\u001b[39m\u001b[38;5;124m'\u001b[39m])\n\u001b[1;32m--> 123\u001b[0m \u001b[38;5;28;43mself\u001b[39;49m\u001b[38;5;241;43m.\u001b[39;49m\u001b[43m__logged_in_menu\u001b[49m\u001b[43m(\u001b[49m\u001b[43m)\u001b[49m\n",
      "Cell \u001b[1;32mIn[130], line 73\u001b[0m, in \u001b[0;36mNlpApp.__logged_in_menu\u001b[1;34m(self)\u001b[0m\n\u001b[0;32m     71\u001b[0m     \u001b[38;5;28mself\u001b[39m\u001b[38;5;241m.\u001b[39m__ner()\n\u001b[0;32m     72\u001b[0m \u001b[38;5;28;01melif\u001b[39;00m inp \u001b[38;5;241m==\u001b[39m \u001b[38;5;241m2\u001b[39m:\n\u001b[1;32m---> 73\u001b[0m     \u001b[38;5;28;43mself\u001b[39;49m\u001b[38;5;241;43m.\u001b[39;49m\u001b[43m__lang_detection\u001b[49m\u001b[43m(\u001b[49m\u001b[43m)\u001b[49m\n\u001b[0;32m     74\u001b[0m \u001b[38;5;28;01melif\u001b[39;00m inp \u001b[38;5;241m==\u001b[39m \u001b[38;5;241m3\u001b[39m:\n\u001b[0;32m     75\u001b[0m     \u001b[38;5;28mself\u001b[39m\u001b[38;5;241m.\u001b[39m__sentiment_analysis()\n",
      "Cell \u001b[1;32mIn[130], line 105\u001b[0m, in \u001b[0;36mNlpApp.__lang_detection\u001b[1;34m(self)\u001b[0m\n\u001b[0;32m    102\u001b[0m max_key \u001b[38;5;241m=\u001b[39m \u001b[38;5;28mlist\u001b[39m(max_language\u001b[38;5;241m.\u001b[39mkeys())[\u001b[38;5;241m0\u001b[39m]\n\u001b[0;32m    104\u001b[0m \u001b[38;5;28mprint\u001b[39m(max_key)\n\u001b[1;32m--> 105\u001b[0m \u001b[38;5;28;43mself\u001b[39;49m\u001b[38;5;241;43m.\u001b[39;49m\u001b[43m__logged_in_menu\u001b[49m\u001b[43m(\u001b[49m\u001b[43m)\u001b[49m\n",
      "Cell \u001b[1;32mIn[130], line 71\u001b[0m, in \u001b[0;36mNlpApp.__logged_in_menu\u001b[1;34m(self)\u001b[0m\n\u001b[0;32m     62\u001b[0m inp \u001b[38;5;241m=\u001b[39m \u001b[38;5;28mint\u001b[39m(\u001b[38;5;28minput\u001b[39m(\u001b[38;5;124m\"\"\"\u001b[39m\n\u001b[0;32m     63\u001b[0m \u001b[38;5;124m            What would you like to do?\u001b[39m\n\u001b[0;32m     64\u001b[0m \u001b[38;5;124m            1. NER (Entity Extraction)\u001b[39m\n\u001b[1;32m   (...)\u001b[0m\n\u001b[0;32m     67\u001b[0m \u001b[38;5;124m            4. Logout\u001b[39m\n\u001b[0;32m     68\u001b[0m \u001b[38;5;124m            Enter your choice : \u001b[39m\u001b[38;5;124m\"\"\"\u001b[39m))\n\u001b[0;32m     70\u001b[0m \u001b[38;5;28;01mif\u001b[39;00m inp \u001b[38;5;241m==\u001b[39m \u001b[38;5;241m1\u001b[39m:\n\u001b[1;32m---> 71\u001b[0m     \u001b[38;5;28;43mself\u001b[39;49m\u001b[38;5;241;43m.\u001b[39;49m\u001b[43m__ner\u001b[49m\u001b[43m(\u001b[49m\u001b[43m)\u001b[49m\n\u001b[0;32m     72\u001b[0m \u001b[38;5;28;01melif\u001b[39;00m inp \u001b[38;5;241m==\u001b[39m \u001b[38;5;241m2\u001b[39m:\n\u001b[0;32m     73\u001b[0m     \u001b[38;5;28mself\u001b[39m\u001b[38;5;241m.\u001b[39m__lang_detection()\n",
      "Cell \u001b[1;32mIn[130], line 87\u001b[0m, in \u001b[0;36mNlpApp.__ner\u001b[1;34m(self)\u001b[0m\n\u001b[0;32m     84\u001b[0m searched_entity \u001b[38;5;241m=\u001b[39m \u001b[38;5;28minput\u001b[39m(\u001b[38;5;124m'\u001b[39m\u001b[38;5;124mWhich entity do you want to search in paragraph : \u001b[39m\u001b[38;5;124m'\u001b[39m)\n\u001b[0;32m     86\u001b[0m client \u001b[38;5;241m=\u001b[39m nlpcloud\u001b[38;5;241m.\u001b[39mClient(\u001b[38;5;124m\"\u001b[39m\u001b[38;5;124mfinetuned-llama-3-70b\u001b[39m\u001b[38;5;124m\"\u001b[39m, \u001b[38;5;124m\"\u001b[39m\u001b[38;5;124m2e75392128a63a3f4fe18dc3726d20650da85e65\u001b[39m\u001b[38;5;124m\"\u001b[39m, gpu\u001b[38;5;241m=\u001b[39m\u001b[38;5;28;01mTrue\u001b[39;00m)\n\u001b[1;32m---> 87\u001b[0m response \u001b[38;5;241m=\u001b[39m \u001b[43mclient\u001b[49m\u001b[38;5;241;43m.\u001b[39;49m\u001b[43mentities\u001b[49m\u001b[43m(\u001b[49m\u001b[43mtext\u001b[49m\u001b[43m,\u001b[49m\u001b[43m \u001b[49m\u001b[43msearched_entity\u001b[49m\u001b[43m \u001b[49m\u001b[38;5;241;43m=\u001b[39;49m\u001b[43m \u001b[49m\u001b[43msearched_entity\u001b[49m\u001b[43m \u001b[49m\u001b[43m)\u001b[49m\n\u001b[0;32m     89\u001b[0m output \u001b[38;5;241m=\u001b[39m pd\u001b[38;5;241m.\u001b[39mDataFrame(response[\u001b[38;5;124m'\u001b[39m\u001b[38;5;124mentities\u001b[39m\u001b[38;5;124m'\u001b[39m])\n\u001b[0;32m     90\u001b[0m \u001b[38;5;28mprint\u001b[39m(output)\n",
      "File \u001b[1;32mc:\\Python312\\Lib\\site-packages\\nlpcloud\\__init__.py:190\u001b[0m, in \u001b[0;36mClient.entities\u001b[1;34m(self, text, searched_entity)\u001b[0m\n\u001b[0;32m    187\u001b[0m     \u001b[38;5;28;01mif\u001b[39;00m \u001b[38;5;124m\"\u001b[39m\u001b[38;5;124m<!DOCTYPE html>\u001b[39m\u001b[38;5;124m\"\u001b[39m \u001b[38;5;129;01min\u001b[39;00m r\u001b[38;5;241m.\u001b[39mtext:\n\u001b[0;32m    188\u001b[0m         \u001b[38;5;28;01mraise\u001b[39;00m HTTPError(\u001b[38;5;28mstr\u001b[39m(err))\n\u001b[1;32m--> 190\u001b[0m     \u001b[38;5;28;01mraise\u001b[39;00m HTTPError(\u001b[38;5;28mstr\u001b[39m(err) \u001b[38;5;241m+\u001b[39m \u001b[38;5;124m\"\u001b[39m\u001b[38;5;124m: \u001b[39m\u001b[38;5;124m\"\u001b[39m \u001b[38;5;241m+\u001b[39m \u001b[38;5;28mstr\u001b[39m(r\u001b[38;5;241m.\u001b[39mtext))\n\u001b[0;32m    192\u001b[0m \u001b[38;5;28;01mreturn\u001b[39;00m r\u001b[38;5;241m.\u001b[39mjson()\n",
      "\u001b[1;31mHTTPError\u001b[0m: 401 Client Error: Unauthorized for url: https://api.nlpcloud.io/v1/gpu/finetuned-llama-3-70b/entities: "
     ]
    }
   ],
   "source": [
    "obj = NlpApp()"
   ]
  }
 ],
 "metadata": {
  "kernelspec": {
   "display_name": "Python 3",
   "language": "python",
   "name": "python3"
  },
  "language_info": {
   "codemirror_mode": {
    "name": "ipython",
    "version": 3
   },
   "file_extension": ".py",
   "mimetype": "text/x-python",
   "name": "python",
   "nbconvert_exporter": "python",
   "pygments_lexer": "ipython3",
   "version": "3.12.0"
  }
 },
 "nbformat": 4,
 "nbformat_minor": 2
}
