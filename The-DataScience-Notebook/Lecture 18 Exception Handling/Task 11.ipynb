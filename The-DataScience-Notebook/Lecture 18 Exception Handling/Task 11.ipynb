{
  "cells": [
    {
      "cell_type": "markdown",
      "metadata": {
        "id": "ajVfqio_GinI"
      },
      "source": [
        "## Exception Handling\n"
      ]
    },
    {
      "cell_type": "markdown",
      "metadata": {
        "id": "0qnQkJtnGozz"
      },
      "source": [
        "### `Q-1`: You are given a function definition. There might be several issues on execution of this function. You are asked to do exception handling for diffrent errors that this function goes in to `without altering this function`. And print error text.\n",
        "\n"
      ]
    },
    {
      "cell_type": "markdown",
      "metadata": {
        "id": "2no_EB2fGyGq"
      },
      "source": [
        "Function parameters `l -> list, s -> could be anything`\n",
        "\n",
        "```\n",
        "def function(l: list, s, **args):\n",
        "    last_element = l[-1]\n",
        "    \n",
        "    l[int(s)]=10\n",
        "    any_element = l[int(s)+10]\n",
        "    l[s]=10\n",
        "    \n",
        "    res = sum(l)\n",
        "    \n",
        "    p = args['p']\n",
        "    # print(p)\n",
        "    return res/last_element * p + any_element\n",
        "\n",
        "```\n",
        "Check for different function calls:-\n",
        "\n",
        "```\n",
        "function([1,2,1], 12)\n",
        "function([1,2,1]*9, '1-2')\n",
        "function([1,'2',1]*9, 12)\n",
        "function([1,'2',1]*9, 12)\n",
        "function([1,2,0]*9, 12  )\n",
        "function([1,2,1]*9, 12, p=None)\n",
        "function([1,2,0]*9, 12, p=10)\n",
        "```"
      ]
    },
    {
      "cell_type": "code",
      "execution_count": 12,
      "metadata": {
        "id": "VoaL4_9eGjFU"
      },
      "outputs": [],
      "source": [
        "# Write code here\n",
        "def function(l: list, s, **args):\n",
        "    last_element = l[-1]\n",
        "    \n",
        "    l[int(s)]=10\n",
        "    \n",
        "    any_element = l[int(s)+10]\n",
        "    \n",
        "    l[s]=10\n",
        "    \n",
        "    res = sum(l)\n",
        "    \n",
        "    p = args['p']\n",
        "    # print(p)\n",
        "    return res/last_element * p + any_element"
      ]
    },
    {
      "cell_type": "code",
      "execution_count": 36,
      "metadata": {},
      "outputs": [
        {
          "name": "stdout",
          "output_type": "stream",
          "text": [
            "Zero Division Error: division by zero\n",
            "<class 'ZeroDivisionError'>\n",
            "Thank you code run fully\n"
          ]
        }
      ],
      "source": [
        "try:\n",
        "    res = function([1,2,0]*9, 12, p=10)\n",
        "except IndexError as e:\n",
        "    print(f'Index Error: {e}')\n",
        "    print(type(e))    \n",
        "except ValueError as e:\n",
        "    print(f\"Value Error: {e}\")\n",
        "    print(type(e))\n",
        "except TypeError as e:\n",
        "    print(f'Type Error: {e}')\n",
        "    print(type(e))\n",
        "except KeyError as e:\n",
        "    print(f'Key Error: {e}')\n",
        "    print(type(e))\n",
        "except ZeroDivisionError as e:\n",
        "    print(f'Zero Division Error: {e}')\n",
        "    print(type(e))\n",
        "except Exception as e:\n",
        "    print(f'An Error Occured: {e}')\n",
        "    print(type(e))\n",
        "else:\n",
        "    print(f\"Result: {res}\")\n",
        "finally:\n",
        "    print(f\"Thank you code run fully\")"
      ]
    },
    {
      "cell_type": "markdown",
      "metadata": {
        "id": "HuLMy2fVG9sL"
      },
      "source": [
        "### `Q-2:` You are given a code snippet. There might be several issues on execution of this code. You are asked to do exception handling for diffrent errors, condition is what ever happens we need to execute last line printing correct result of `sum of elements`.\n",
        "\n",
        "List have elemnts as any no of  `key-pair dict with key as list index and value as any integer`, `integers` and `numeric-strings`. There is always only one element in the dict.\n",
        "\n",
        "\n",
        "```\n",
        "l = [{0:2},2,3,4,'5', {5:10}]\n",
        "# For calculating sum of above list\n",
        "s=0\n",
        "for i in range(len(l)):\n",
        "    #You can Edit code from here\n",
        "    s += l[i].get(i)\n",
        "    s += l[i]\n",
        "    s += int(l[i])\n",
        "\n",
        "\n",
        "print(s)\n",
        "```"
      ]
    },
    {
      "cell_type": "code",
      "execution_count": 52,
      "metadata": {
        "id": "pEP8JU0qHAf8"
      },
      "outputs": [
        {
          "name": "stdout",
          "output_type": "stream",
          "text": [
            "26\n"
          ]
        }
      ],
      "source": [
        "# Write code here\n",
        "\n",
        "l = [{0:2},2,3,4,'5', {5:10}]\n",
        "# For calculating sum of above list\n",
        "s = 0\n",
        "\n",
        "for i in range(len(l)):\n",
        "    #You can Edit code from here\n",
        "    try:\n",
        "        s += l[i].get(i)\n",
        "    except AttributeError:\n",
        "        try:\n",
        "            s += l[i]\n",
        "        except TypeError:    \n",
        "            s += int(l[i])\n",
        "\n",
        "print(s)"
      ]
    },
    {
      "cell_type": "markdown",
      "metadata": {
        "id": "ohE2fDTXHIan"
      },
      "source": [
        "### `Q-3:`: File Handling with Exception handling\n",
        "\n",
        "Write a program that opens a text file and write data to it as \"Hello, Good Morning!!!\". Handle exceptions that can be generated during the I/O operations. Do not show the success message on the main exception handling block (write inside the else block)."
      ]
    },
    {
      "cell_type": "code",
      "execution_count": 56,
      "metadata": {
        "id": "iOeiWrcIHPlY"
      },
      "outputs": [
        {
          "name": "stdout",
          "output_type": "stream",
          "text": [
            "File written succesfully\n"
          ]
        }
      ],
      "source": [
        "# write code here\n",
        "\n",
        "try:\n",
        "    with open(\"text.txt\", 'w') as f:\n",
        "        f.write(f\"Hello, Good Morning!!!\")\n",
        "except IOError as e:\n",
        "        print(f\"Error working with file {e}\")\n",
        "else:\n",
        "    print(\"File written successfully\")"
      ]
    },
    {
      "cell_type": "markdown",
      "metadata": {
        "id": "ru8g8-_bHTUf"
      },
      "source": [
        "### `Q-4`: Number game program.\n",
        "\n",
        "Write a number game program. Ask the user to enter a number. If the number is greater than number to be guessed, raise a **ValueTooLarge** exception. If the value is smaller the number to be guessed the, raise a **ValueTooSmall** exception and prompt the user to enter again. Quit the program only when the user enters the correct number. Also raise **GuessError** if user guess a number less than 1."
      ]
    },
    {
      "cell_type": "code",
      "execution_count": 76,
      "metadata": {
        "id": "QftlN5LJHZSX"
      },
      "outputs": [
        {
          "name": "stdout",
          "output_type": "stream",
          "text": [
            "Number is too small\n",
            "Number is too small\n",
            "Number is too large\n",
            "Number is too large\n",
            "Number is too large\n",
            "Number is too large\n",
            "Number is too large\n",
            "Number is too small\n",
            "Number is too small\n",
            "Number is too large\n",
            "'Jeez!! You guessed the right number... :)\n"
          ]
        }
      ],
      "source": [
        "# Write code here\n",
        "\n",
        "class ValueTooLarge(Exception):\n",
        "    \n",
        "    def __init__(self, message=\"Number is too large\"):\n",
        "        super().__init__(message)\n",
        "        \n",
        "class ValueTooSmall(Exception):\n",
        "    \n",
        "    def __init__(self, message=\"Number is too small\"):\n",
        "        super().__init__(message)\n",
        "\n",
        "class GuessError(Exception):\n",
        "    \n",
        "    def __init__(self, message=\"he guess should not be less than 1...\"):\n",
        "        super().__init__(message)\n",
        "        \n",
        "        \n",
        "import random\n",
        "random_num = random.randint(1, 100)\n",
        "\n",
        "while True:\n",
        "    try:\n",
        "        num = int(input(\"Guess the number between 1 and 100:\"))\n",
        "    \n",
        "        if num < random_num:\n",
        "            raise ValueTooSmall()\n",
        "        elif num > random_num:\n",
        "            raise ValueTooLarge()\n",
        "        elif num < 1:\n",
        "            raise GuessError()\n",
        "    \n",
        "    except (ValueTooLarge, ValueTooSmall, GuessError) as e:\n",
        "        pass \n",
        "    \n",
        "    else:\n",
        "        \n",
        "        print(f\"'Jeez!! You guessed the right number... :)\")\n",
        "        break\n",
        "    "
      ]
    },
    {
      "cell_type": "markdown",
      "metadata": {
        "id": "ZsGI_40fHcsd"
      },
      "source": [
        "### `Q-5:` Cast vote\n",
        "\n",
        "Write a program that validate name and age as entered by the user to determine whether the person can cast vote or not. To handle the age, create **InvalidAge** exception and for name, create **InvalidName** exception. The name will be invalid when the string will be empty or name has only one word.\n",
        "\n",
        "Example 1:\n",
        "\n",
        "Input:\n",
        "\n",
        "```bash\n",
        "Enter the name:               goransh singh\n",
        "Enter the age: 25\n",
        "```\n",
        "\n",
        "Output:\n",
        "\n",
        "```bash\n",
        "Goransh Singh  Congratulation !!! You can vote.\n",
        "```"
      ]
    },
    {
      "cell_type": "code",
      "execution_count": 89,
      "metadata": {
        "id": "OHL3UiS4Hi3U"
      },
      "outputs": [
        {
          "name": "stdout",
          "output_type": "stream",
          "text": [
            "Ali Zain Congratulations!!! You can vote.\n"
          ]
        }
      ],
      "source": [
        "# Write code here\n",
        "\n",
        "class InvalidAge(Exception):\n",
        "    def __init__(self, message=\"Invalid Age: You must be at least 18 to vote.\"):\n",
        "        super().__init__(message)\n",
        "\n",
        "class InvalidName(Exception):\n",
        "    def __init__(self, message=\"Invalid Name: Name must have at least two words.\"):\n",
        "        super().__init__(message)\n",
        "\n",
        "    \n",
        "try:\n",
        "    name = input(\"Enter your name : \").strip()\n",
        "    age = int(input(\"Enter your age: \"))\n",
        "\n",
        "    if len(name) == 0 or len(name.split()) <= 1:\n",
        "        raise InvalidName\n",
        "    elif age < 18:\n",
        "        raise InvalidAge\n",
        "except (InvalidName, InvalidAge) as e:\n",
        "    print(e)\n",
        "else:\n",
        "    print(f\"{name.title()} Congratulations!!! You can vote.\")"
      ]
    },
    {
      "cell_type": "markdown",
      "metadata": {
        "id": "SCvs0QjgHlOG"
      },
      "source": [
        "### `Q-6`: Write a python function which infinitely prints natural numbers in a single line. Raise the **StopIteration** exception after displaying first 20 numnbers to exit from the program."
      ]
    },
    {
      "cell_type": "code",
      "execution_count": 94,
      "metadata": {
        "id": "Lc5ilNgNHoSx"
      },
      "outputs": [
        {
          "name": "stdout",
          "output_type": "stream",
          "text": [
            "1 2 3 4 5 6 7 8 9 10 11 12 13 14 15 16 17 18 19 20 \n",
            "We cannot print more numbers as StopIteration Exception is raised...\n"
          ]
        }
      ],
      "source": [
        "# Write code here\n",
        "class StopIteration(Exception):\n",
        "    def __init__(self,message=\"We cannot print more numbers as StopIteration Exception is raised...\"):\n",
        "        super().__init__(message)\n",
        "    \n",
        "def natural_number_generator():\n",
        "    \n",
        "    num = 1 \n",
        "    while True:\n",
        "        try:\n",
        "            print(num,end=\" \")\n",
        "            num += 1\n",
        "            if num > 20:\n",
        "                raise StopIteration\n",
        "        except StopIteration as e:\n",
        "            print()\n",
        "            print(e)\n",
        "            break\n",
        "\n",
        "natural_number_generator()"
      ]
    }
  ],
  "metadata": {
    "colab": {
      "provenance": []
    },
    "kernelspec": {
      "display_name": "Python 3",
      "name": "python3"
    },
    "language_info": {
      "codemirror_mode": {
        "name": "ipython",
        "version": 3
      },
      "file_extension": ".py",
      "mimetype": "text/x-python",
      "name": "python",
      "nbconvert_exporter": "python",
      "pygments_lexer": "ipython3",
      "version": "3.12.0"
    }
  },
  "nbformat": 4,
  "nbformat_minor": 0
}
