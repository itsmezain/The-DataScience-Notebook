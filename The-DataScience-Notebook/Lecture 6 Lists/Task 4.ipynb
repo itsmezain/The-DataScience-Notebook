{
  "cells": [
    {
      "cell_type": "markdown",
      "metadata": {
        "id": "kLZ_vCeE0lsM"
      },
      "source": [
        "### `Problem 1:` Combine two lists index-wise(columns wise)\n",
        "\n",
        "Write a program to add two lists index-wise. Create a new list that contains the 0th index item from both the list, then the 1st index item, and so on till the last element. any leftover items will get added at the end of the new list.\n",
        "\n",
        "`Given List:`\n",
        "```\n",
        "list1 = [\"M\", \"na\", \"i\", \"Kh\"]\n",
        "list2 = [\"y\", \"me\", \"s\", \"an\"]\n",
        "```\n",
        "\n",
        "`Output:`\n",
        "```\n",
        "[['M','y'], ['na', me'], ['i', 's'], ['Kh', 'an']]\n",
        "```"
      ]
    },
    {
      "cell_type": "code",
      "execution_count": 204,
      "metadata": {
        "id": "cDO3Yv6p0nnG"
      },
      "outputs": [
        {
          "name": "stdout",
          "output_type": "stream",
          "text": [
            "[['s,fjbas', 'fjhakf'], ['dfmgsdf', 'jksfha'], ['dkfgk', 'ksfhak']]\n"
          ]
        }
      ],
      "source": [
        "# Write code here\n",
        "from itertools import zip_longest\n",
        "\n",
        "list1 = [ i for i in input(\"Enter a string\").split()]\n",
        "list2 = [ i for i in input(\"Enter a string\").split()]\n",
        "\n",
        "merge_list = [ [i,j] for i,j in zip_longest(list1,list2, fillvalue=None)]\n",
        "print(merge_list)"
      ]
    },
    {
      "cell_type": "markdown",
      "metadata": {
        "id": "bnRwRgf_0qLu"
      },
      "source": [
        "### `Problem 2:` Add new item to list after a specified item\n",
        "Write a program to add item 7000 after 6000 in the following Python List\n",
        "```\n",
        "list1 = [10, 20, [300, 400, [5000, 6000], 500], 30, 40]\n",
        "```\n",
        "`Output:`\n",
        "```\n",
        "[10, 20, [300, 400, [5000, 6000, 7000], 500], 30, 40]\n",
        "```"
      ]
    },
    {
      "cell_type": "code",
      "execution_count": 95,
      "metadata": {
        "id": "yW5lLPns00q9"
      },
      "outputs": [
        {
          "name": "stdout",
          "output_type": "stream",
          "text": [
            "[10, 20, [300, 400, [5000, 6000, 7000], 500], 30, 40]\n"
          ]
        }
      ],
      "source": [
        "# Write code here\n",
        "list1 = [10, 20, [300, 400, [5000, 6000], 500], 30, 40]\n",
        "\n",
        "list1[2][2].append(7000)\n",
        "print(list1)\n"
      ]
    },
    {
      "cell_type": "markdown",
      "metadata": {
        "id": "w7fC8oHk02fH"
      },
      "source": [
        "### `Problem 3:` Update no of items available\n",
        "\n",
        "Suppose you are given a list of candy and another list of same size representing no of items of respective candy.\n",
        "\n",
        "i.e -  \n",
        "```\n",
        "candy_list = ['Jelly Belly','Kit Kat','Double Bubble','Milky Way','Three Musketeers']\n",
        "no_of_items = [10,20,34,74,32]\n",
        "```\n",
        "\n",
        "Write a program to show no. of items of each candy type.\n",
        "\n",
        "`Output:`\n",
        "\n",
        "```\n",
        "Jelly Belly-10\n",
        "Kit Kat-20\n",
        "Double Bubble-34\n",
        "Milky Way-74\n",
        "Three Musketeers-32\n",
        "\n",
        "```"
      ]
    },
    {
      "cell_type": "code",
      "execution_count": 96,
      "metadata": {
        "id": "gg5JEX1a09q8"
      },
      "outputs": [
        {
          "name": "stdout",
          "output_type": "stream",
          "text": [
            "Jelly Belly-10\n",
            "Kit Kat-20\n",
            "Double Bubble-34\n",
            "Milky Way-74\n",
            "Three Musketeers-32\n"
          ]
        }
      ],
      "source": [
        "# Write code here\n",
        "candy_list = ['Jelly Belly','Kit Kat','Double Bubble','Milky Way','Three Musketeers']\n",
        "no_of_items = [10,20,34,74,32]\n",
        "\n",
        "for i,j in zip(candy_list,no_of_items):\n",
        "    print(f\"{i}-{j}\")"
      ]
    },
    {
      "cell_type": "markdown",
      "metadata": {
        "id": "mFGZAvnB1D3N"
      },
      "source": [
        "### `Problem 4:` Running Sum on list\n",
        "Write a program to print a list after performing running sum on it.\n",
        "\n",
        "i.e:\n",
        "\n",
        "`Input:`\n",
        "```\n",
        "list1 = [1,2,3,4,5,6]\n",
        "```\n",
        "`Output:`\n",
        "```\n",
        "[1,3,6,10,15,21]\n",
        "```"
      ]
    },
    {
      "cell_type": "code",
      "execution_count": 97,
      "metadata": {
        "id": "8LPS6DaD1FTs"
      },
      "outputs": [
        {
          "name": "stdout",
          "output_type": "stream",
          "text": [
            "[1, 3, 6, 10, 15, 21]\n"
          ]
        }
      ],
      "source": [
        "# Write code here\n",
        "list = [1,2,3,4,5,6]\n",
        "\n",
        "for i in range(1,len(list)):\n",
        "    list[i] = list[i] + list[i-1]\n",
        "print(list)"
      ]
    },
    {
      "cell_type": "markdown",
      "metadata": {
        "id": "2ztcZ-EW1HEU"
      },
      "source": [
        "### `Problem 5:` You are given a list of integers. You are asked to make a list by running through elements of the list by adding all elements greater and itself.\n",
        "\n",
        "i.e. Say given list is `[2,4,6,10,1]`\n",
        "resultant list will be `[22,20,10,23]`.\n",
        "\n",
        "For 1st element `2` ->> these are greater `(4+6+10)` values and `2` itself so on adding becomes `22`.\n",
        "\n",
        "For 2nd element `4` ->> greater elements are `(6, 10)` and `4` itself, so on adding `20`\n",
        "\n",
        "like wise for all other elememts.\n",
        "\n",
        "`[2,4,6,10,1]`-->`[22,20,16,10,23]`\n",
        "\n",
        "\n"
      ]
    },
    {
      "cell_type": "code",
      "execution_count": 98,
      "metadata": {
        "id": "UJuWqzj31UD2"
      },
      "outputs": [
        {
          "name": "stdout",
          "output_type": "stream",
          "text": [
            "[22, 20, 16, 10, 23]\n"
          ]
        }
      ],
      "source": [
        "# Write code here\n",
        "list = [2,4,6,10,1]\n",
        "answer = []\n",
        "for i in range(len(list)):\n",
        "    sum = list[i]\n",
        "    for j in range(len(list)):\n",
        "        if list[i] < list[j]:\n",
        "            sum += list[j]\n",
        "    answer.append(sum)\n",
        "print(answer)\n"
      ]
    },
    {
      "cell_type": "markdown",
      "metadata": {
        "id": "c9H6tYTx1ZYo"
      },
      "source": [
        "### `Problem 6:` Find list of common unique items from two list. and show in increasing order\n",
        "\n",
        "`Input`\n",
        "\n",
        "```\n",
        "num1 = [23,45,67,78,89,34]\n",
        "num2 = [34,89,55,56,39,67]\n",
        "```\n",
        "\n",
        "`Output:`\n",
        "```\n",
        "[34, 67, 89]\n",
        "```\n"
      ]
    },
    {
      "cell_type": "code",
      "execution_count": 99,
      "metadata": {
        "id": "dDxdi7eE1e1W"
      },
      "outputs": [
        {
          "name": "stdout",
          "output_type": "stream",
          "text": [
            "[34, 67, 89]\n"
          ]
        }
      ],
      "source": [
        "# Write code here\n",
        "num1 = [23,45,67,78,89,34]\n",
        "num2 = [34,89,55,56,39,67]\n",
        "common_element_list = []\n",
        "\n",
        "common_element_list = [ i for i in num1 if i in num2]\n",
        "common_element_list.sort()\n",
        "print(common_element_list)"
      ]
    },
    {
      "cell_type": "markdown",
      "metadata": {
        "id": "i3Izok2i1gRD"
      },
      "source": [
        "### `Problem 7:` Sort a list of alphanumeric strings based on product value of numeric character in it. If in any string there is no numeric character take it's product value as 1.\n",
        "\n",
        "`Input:`\n",
        "```\n",
        "['1ac21', '23fg', '456', '098d','1','kls']\n",
        "```\n",
        "\n",
        "`Output:`\n",
        "```\n",
        "['456', '23fg', '1ac21', '1', 'kls', '098d']\n",
        "\n",
        "```"
      ]
    },
    {
      "cell_type": "code",
      "execution_count": 100,
      "metadata": {
        "id": "eiXSanG11oq6"
      },
      "outputs": [
        {
          "name": "stdout",
          "output_type": "stream",
          "text": [
            "['456', '23fg', '1ac21', 'kls', '1', '098d']\n"
          ]
        }
      ],
      "source": [
        "# Write code here\n",
        "list = ['1ac21', '23fg', '456', '098d','1','kls']\n",
        "numeric_character_product = []\n",
        "\n",
        "for element in list:\n",
        "    product = 1\n",
        "    for digit in element:\n",
        "        if digit.isdigit():\n",
        "            product *= int(digit)\n",
        "    numeric_character_product.append(product)\n",
        "list = [(j,i) for i,j in zip(list,numeric_character_product)]\n",
        "list.sort(reverse=True)\n",
        "list = [ i[1] for i in list]\n",
        "print(list)"
      ]
    },
    {
      "cell_type": "markdown",
      "metadata": {
        "id": "McMaNSpB1zJB"
      },
      "source": [
        "`Problem 8:` Split String of list on K character.\n",
        "\n",
        "**Example :**\n",
        "\n",
        "Input:\n",
        "```bash\n",
        "['CampusX is a channel', 'for data-science', 'aspirants.']\n",
        "```\n",
        "\n",
        "Output:\n",
        "```bash\n",
        "['CampusX', 'is', 'a', 'channel', 'for', 'data-science', 'aspirants.']\n",
        "```"
      ]
    },
    {
      "cell_type": "code",
      "execution_count": 205,
      "metadata": {
        "id": "rLg6AUhf14wI"
      },
      "outputs": [
        {
          "name": "stdout",
          "output_type": "stream",
          "text": [
            "['CampusX', 'is', 'a', 'channel', 'for', 'data-science', 'aspirants.']\n"
          ]
        }
      ],
      "source": [
        "# Write code here\n",
        "list1 = ['CampusX is a channel', 'for data-science', 'aspirants.']\n",
        "K = input(\"Enter the character you want to split the string of the list : \")\n",
        "answer = []\n",
        "for i in list1:\n",
        "    answer.extend(i.split(K))\n",
        "print(answer)\n"
      ]
    },
    {
      "cell_type": "markdown",
      "metadata": {
        "id": "ebqIC0Xa16dG"
      },
      "source": [
        "### `Problem 9:` Convert Character Matrix to single String using string comprehension.\n",
        "\n",
        "**Example 1:**\n",
        "\n",
        "Input:\n",
        "```bash\n",
        "[['c', 'a', 'm', 'p', 'u', 'x'], ['i', 's'], ['b', 'e', 's', 't'], ['c', 'h', 'a', 'n', 'n', 'e', 'l']]\n",
        "```\n",
        "\n",
        "Output:\n",
        "```bash\n",
        "campux is best channel\n",
        "```"
      ]
    },
    {
      "cell_type": "code",
      "execution_count": 91,
      "metadata": {
        "id": "KLKxzyZf2BLr"
      },
      "outputs": [
        {
          "name": "stdout",
          "output_type": "stream",
          "text": [
            "campux is best channel\n"
          ]
        }
      ],
      "source": [
        "# Write code here\n",
        "list1 = [['c', 'a', 'm', 'p', 'u', 'x'], ['i', 's'], ['b', 'e', 's', 't'], ['c', 'h', 'a', 'n', 'n', 'e', 'l']]\n",
        "str1 = \" \".join( \"\".join(sublist) for sublist in list1) \n",
        "print(str1)\n"
      ]
    },
    {
      "cell_type": "code",
      "execution_count": 92,
      "metadata": {},
      "outputs": [
        {
          "name": "stdout",
          "output_type": "stream",
          "text": [
            "['campux', 'is', 'best', 'channel']\n",
            "campux is best channel\n"
          ]
        }
      ],
      "source": [
        "# Solution - Question 09\n",
        "\n",
        "list1 = [['c', 'a', 'm', 'p', 'u', 'x'], ['i', 's'], ['b', 'e', 's', 't'], ['c', 'h', 'a', 'n', 'n', 'e', 'l']]\n",
        "\n",
        "words = [''.join(x) for x in list1]\n",
        "print(words)\n",
        "string = ' '.join(words)\n",
        "\n",
        "print(string)"
      ]
    },
    {
      "cell_type": "markdown",
      "metadata": {
        "id": "0v1Z3Snp2DAm"
      },
      "source": [
        "### `Problem 10:` Add Space between Potential Words.\n",
        "\n",
        "**Example:**\n",
        "\n",
        "Input:\n",
        "\n",
        "```bash\n",
        "['campusxIs', 'bestFor', 'dataScientist']\n",
        "```\n",
        "\n",
        "Output:\n",
        "```bash\n",
        "['campusx Is', 'best For', 'data Scientist']\n",
        "```"
      ]
    },
    {
      "cell_type": "code",
      "execution_count": 77,
      "metadata": {
        "id": "pltvqSXa2IxP"
      },
      "outputs": [
        {
          "name": "stdout",
          "output_type": "stream",
          "text": [
            "['campusx Is', 'best For', 'data Scientist']\n"
          ]
        }
      ],
      "source": [
        "# Code here\n",
        "words = ['campusxIs', 'bestFor', 'dataScientist']\n",
        "\n",
        "for i in range(len(words)):\n",
        "    updated_word = \"\"\n",
        "    for char in words[i]:\n",
        "        if char.isupper():\n",
        "            updated_word += \" \"  # Add space before uppercase characters\n",
        "        updated_word += char  # Append the character itself\n",
        "    words[i] = updated_word.strip()  # Update list element with new word\n",
        "\n",
        "print(words)\n"
      ]
    },
    {
      "cell_type": "markdown",
      "metadata": {
        "id": "tnmBk1M52KXW"
      },
      "source": [
        "### `Problem 11:` Write a program that can perform union operation on 2 lists\n",
        "\n",
        "**Example:**\n",
        "\n",
        "Input:\n",
        "\n",
        "```bash\n",
        "[1,2,3,4,5,1]\n",
        "[2,3,5,7,8]\n",
        "```\n",
        "\n",
        "Output:\n",
        "```bash\n",
        "[1,2,3,4,5,7,8]\n",
        "```"
      ]
    },
    {
      "cell_type": "code",
      "execution_count": 89,
      "metadata": {
        "id": "u0AgIToU2-Ht"
      },
      "outputs": [
        {
          "name": "stdout",
          "output_type": "stream",
          "text": [
            "[1, 2, 3, 4, 5, 7, 8]\n"
          ]
        }
      ],
      "source": [
        "# Write code here\n",
        "list1 = [1,2,3,4,5,1]\n",
        "list2 = [2,3,5,7,8]\n",
        "union_list = []\n",
        "[union_list.append(i) for i in list1 if i not in union_list]\n",
        "[union_list.append(i) for i in list2 if i not in union_list]\n",
        "\n",
        "print(union_list)\n",
        "\n"
      ]
    },
    {
      "cell_type": "code",
      "execution_count": 103,
      "metadata": {},
      "outputs": [
        {
          "name": "stdout",
          "output_type": "stream",
          "text": [
            "[1, 2, 3, 4, 5, 7, 8]\n"
          ]
        }
      ],
      "source": [
        "del list\n",
        "list1 = [1, 2, 3, 4, 5, 1]\n",
        "list2 = [2, 3, 5, 7, 8]\n",
        "\n",
        "# Make sure 'list' is not overridden\n",
        "union_list_result = list(set(list1) | set(list2))\n",
        "\n",
        "print(union_list_result)\n",
        "\n"
      ]
    },
    {
      "cell_type": "markdown",
      "metadata": {
        "id": "Yt8x67Ch3Ow1"
      },
      "source": [
        "### `Problem 12:` Write a program that can find the max number of each row of a matrix\n",
        "\n",
        "**Example:**\n",
        "\n",
        "Input:\n",
        "\n",
        "```bash\n",
        "[[1,2,3],[4,5,6],[7,8,9]]\n",
        "```\n",
        "\n",
        "Output:\n",
        "```bash\n",
        "[3,6,9]\n",
        "```"
      ]
    },
    {
      "cell_type": "code",
      "execution_count": 104,
      "metadata": {
        "id": "7QopAaAI3noh"
      },
      "outputs": [
        {
          "name": "stdout",
          "output_type": "stream",
          "text": [
            "[3, 6, 9]\n"
          ]
        }
      ],
      "source": [
        "# Write code here\n",
        "num = [[1,2,3],[4,5,6],[7,8,9]]\n",
        "max_num = [max(i) for i in num ]\n",
        "print(max_num)"
      ]
    },
    {
      "cell_type": "markdown",
      "metadata": {
        "id": "DBZlUmnt3pGT"
      },
      "source": [
        "### `Problem 13:` Write a list comprehension to print the following matrix\n",
        "\n",
        "[[0, 1, 2], [3, 4, 5], [6, 7, 8]]"
      ]
    },
    {
      "cell_type": "code",
      "execution_count": 165,
      "metadata": {
        "id": "Ip4e8M-S356h"
      },
      "outputs": [
        {
          "name": "stdout",
          "output_type": "stream",
          "text": [
            "[[0, 1, 2], [3, 4, 5], [6, 7, 8]]\n"
          ]
        }
      ],
      "source": [
        "# Write code here\n",
        "matrix = [[ 3*i+j for j in range(3)] for i in range(3)]\n",
        "print(matrix)\n"
      ]
    },
    {
      "cell_type": "markdown",
      "metadata": {
        "id": "j3vTuFC737kG"
      },
      "source": [
        "### `Problem 14:` Write a list comprehension that can transpose a given matrix\n",
        "\n",
        "matrix = [<br>\n",
        "  [1,2,3],<br>\n",
        "          [4,5,6],<br>\n",
        "          [7,8,9]<br>]<br>\n",
        "\n",
        "[1, 4, 7]<br>\n",
        "[2, 5, 8]<br>\n",
        "[3, 6, 9]<br>"
      ]
    },
    {
      "cell_type": "code",
      "execution_count": 194,
      "metadata": {
        "id": "CcBNu0gk4XsR"
      },
      "outputs": [
        {
          "name": "stdout",
          "output_type": "stream",
          "text": [
            "[1, 4, 7]\n",
            "[2, 5, 8]\n",
            "[3, 6, 9]\n"
          ]
        }
      ],
      "source": [
        "# Given matrix\n",
        "matrix = [\n",
        "    [1, 2, 3],\n",
        "    [4, 5, 6],\n",
        "    [7, 8, 9]\n",
        "]\n",
        "\n",
        "# Transpose the matrix using list comprehension\n",
        "transposed_matrix = [[matrix[j][i] for j in range(len(matrix))] for i in range(len(matrix[0]))]\n",
        "\n",
        "# Print the transposed matrix\n",
        "for row in transposed_matrix:\n",
        "    print(row)\n"
      ]
    },
    {
      "cell_type": "markdown",
      "metadata": {
        "id": "wRkSWFb74eOt"
      },
      "source": [
        "### `Problem 15:` Write a list comprehension that can flatten a nested list\n",
        "\n",
        "Input<br>\n",
        "matrix = [<br>\n",
        "  [1,2,3],<br>\n",
        "          [4,5,6],<br>\n",
        "          [7,8,9]<br>]<br>\n",
        "\n",
        "Output:<br>\n",
        "[1, 2, 3, 4, 5, 6, 7, 8, 9]"
      ]
    },
    {
      "cell_type": "code",
      "execution_count": 199,
      "metadata": {
        "id": "jZGQ5el25HFr"
      },
      "outputs": [
        {
          "name": "stdout",
          "output_type": "stream",
          "text": [
            "[1, 2, 3, 4, 5, 6, 7, 8, 9]\n"
          ]
        }
      ],
      "source": [
        "# Write code here\n",
        "# Given matrix\n",
        "matrix = [\n",
        "    [1, 2, 3],\n",
        "    [4, 5, 6],\n",
        "    [7, 8, 9]\n",
        "]\n",
        "\n",
        "flaten_list = [ num for sublist in matrix for num in sublist]\n",
        "print(flaten_list)"
      ]
    },
    {
      "cell_type": "code",
      "execution_count": 202,
      "metadata": {},
      "outputs": [
        {
          "name": "stdout",
          "output_type": "stream",
          "text": [
            "[1, 2, 3, 4, 5, 6, 7, 8, 9]\n"
          ]
        }
      ],
      "source": [
        "matrix = [\n",
        "    [1, 2, 3],\n",
        "    [4, 5, 6],\n",
        "    [7, 8, 9]\n",
        "]\n",
        "\n",
        "flatten_list = sum(matrix, [])\n",
        "print(flatten_list)\n"
      ]
    },
    {
      "cell_type": "markdown",
      "metadata": {},
      "source": [
        "Let’s break this code down step by step to understand how it works:\n",
        "\n",
        "---\n",
        "\n",
        "### Code:\n",
        "```python\n",
        "matrix = [\n",
        "    [1, 2, 3],\n",
        "    [4, 5, 6],\n",
        "    [7, 8, 9]\n",
        "]\n",
        "\n",
        "flatten_list = sum(matrix, [])\n",
        "print(flatten_list)\n",
        "```\n",
        "\n",
        "---\n",
        "\n",
        "### Explanation:\n",
        "\n",
        "1. **`matrix` Initialization**:\n",
        "   - `matrix` is a 2D list (a list of lists), representing a table-like structure:\n",
        "     ```python\n",
        "     [\n",
        "         [1, 2, 3],\n",
        "         [4, 5, 6],\n",
        "         [7, 8, 9]\n",
        "     ]\n",
        "     ```\n",
        "   - It contains 3 sublists (rows), each holding 3 integers.\n",
        "\n",
        "---\n",
        "\n",
        "2. **Using `sum(matrix, [])`**:\n",
        "   - **`sum()` Function**:\n",
        "     - The `sum()` function is typically used for summing numbers in a list. However, when used with lists, it concatenates the elements (or sublists) into a single list if an empty list (`[]`) is provided as the starting value.\n",
        "\n",
        "   - **Arguments**:\n",
        "     - `matrix`: The list of lists to process.\n",
        "     - `[]`: The initial value (empty list) to start the concatenation.\n",
        "\n",
        "   - **What Happens Internally**:\n",
        "     - `sum()` begins with the initial value (`[]`) and then iteratively \"adds\" each sublist to it using list concatenation (`+`).\n",
        "     \n",
        "     Step-by-Step Process:\n",
        "     - Start with `[]` (empty list).\n",
        "     - Add the first sublist `[1, 2, 3]`: Result → `[1, 2, 3]`\n",
        "     - Add the second sublist `[4, 5, 6]`: Result → `[1, 2, 3, 4, 5, 6]`\n",
        "     - Add the third sublist `[7, 8, 9]`: Result → `[1, 2, 3, 4, 5, 6, 7, 8, 9]`\n",
        "\n",
        "---\n",
        "\n",
        "3. **Assigning to `flatten_list`**:\n",
        "   - The result of `sum(matrix, [])` is assigned to `flatten_list`, which becomes:\n",
        "     ```python\n",
        "     [1, 2, 3, 4, 5, 6, 7, 8, 9]\n",
        "     ```\n",
        "\n",
        "---\n",
        "\n",
        "4. **Printing the Result**:\n",
        "   - `print(flatten_list)` outputs the flattened 1D list:\n",
        "     ```bash\n",
        "     [1, 2, 3, 4, 5, 6, 7, 8, 9]\n",
        "     ```\n",
        "\n",
        "---\n",
        "\n",
        "### Key Notes:\n",
        "- **Efficiency**: This method is simple and concise but can be less efficient for large matrices because list concatenation (`+`) creates intermediate lists at every step.\n",
        "- **Alternative**: For large data, consider `itertools.chain`, which avoids creating intermediate lists.\n",
        "\n",
        "Would you like to explore how this compares to other methods like `itertools.chain` or nested loops?"
      ]
    }
  ],
  "metadata": {
    "colab": {
      "provenance": []
    },
    "kernelspec": {
      "display_name": "Python 3",
      "name": "python3"
    },
    "language_info": {
      "codemirror_mode": {
        "name": "ipython",
        "version": 3
      },
      "file_extension": ".py",
      "mimetype": "text/x-python",
      "name": "python",
      "nbconvert_exporter": "python",
      "pygments_lexer": "ipython3",
      "version": "3.12.0"
    }
  },
  "nbformat": 4,
  "nbformat_minor": 0
}
