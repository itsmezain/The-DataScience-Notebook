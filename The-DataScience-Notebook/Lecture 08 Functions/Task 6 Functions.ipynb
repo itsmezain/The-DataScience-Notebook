{
  "cells": [
    {
      "cell_type": "markdown",
      "metadata": {
        "id": "h6dDSW5XGZFi"
      },
      "source": [
        "### **`Problem-1:`** Write a Python function that takes a list and returns a new list with unique elements of the first list.\n",
        "\n",
        "**Exercise 1:**\n",
        "\n",
        "Input:\n",
        "\n",
        "```bash\n",
        "[1,2,3,3,3,3,4,5]\n",
        "```\n",
        "\n",
        "Output:\n",
        "\n",
        "```bash\n",
        "[1, 2, 3, 4, 5]\n",
        "```"
      ]
    },
    {
      "cell_type": "code",
      "execution_count": 7,
      "metadata": {
        "id": "R5pq1C9LGe1y"
      },
      "outputs": [
        {
          "name": "stdout",
          "output_type": "stream",
          "text": [
            "[1, 2, 3, 4, 5]\n"
          ]
        }
      ],
      "source": [
        "L = [int(i) for i in input(\"Enter number space between them\").split()]\n",
        "\n",
        "def unique_elm(L):\n",
        "    return list(set(L))\n",
        "\n",
        "print(unique_elm(L))"
      ]
    },
    {
      "cell_type": "markdown",
      "metadata": {
        "id": "UxQ_VoyJGwHj"
      },
      "source": [
        "### **`Problem-2:`** Write a Python function that accepts a hyphen-separated sequence of words as parameter and returns the words in a hyphen-separated sequence after sorting them alphabetically.\n",
        "\n",
        "**Example 1:**\n",
        "\n",
        "Input:\n",
        "```bash\n",
        "green-red-yellow-black-white\n",
        "```\n",
        "\n",
        "Output:\n",
        "```bash\n",
        "black-green-red-white-yellow\n",
        "```"
      ]
    },
    {
      "cell_type": "code",
      "execution_count": 12,
      "metadata": {
        "id": "AAts2m5zGwiQ"
      },
      "outputs": [
        {
          "data": {
            "text/plain": [
              "'black-green-red-white-yellow'"
            ]
          },
          "execution_count": 12,
          "metadata": {},
          "output_type": "execute_result"
        }
      ],
      "source": [
        "# Write code here\n",
        "str = \"green-red-yellow-black-white\"\n",
        "\n",
        "def sorting_str(str):\n",
        "    split_str = str.split(\"-\")\n",
        "    return \"-\".join(sorted(split_str))\n",
        "    \n",
        "sorting_str(str)"
      ]
    },
    {
      "cell_type": "markdown",
      "metadata": {
        "id": "IRGH62S7Gx_n"
      },
      "source": [
        "### **`Problem 3:`** Write a Python function that accepts a string and calculate the number of upper case letters and lower case letters.\n",
        "\n",
        "```\n",
        "Sample String : 'CampusX is an Online Mentorship Program fOr EnginEering studentS.'\n",
        "Expected Output :\n",
        "No. of Upper case characters :  9\n",
        "No. of Lower case Characters :  47\n",
        "```"
      ]
    },
    {
      "cell_type": "code",
      "execution_count": 16,
      "metadata": {
        "id": "OaUrD8vVG5o8"
      },
      "outputs": [
        {
          "name": "stdout",
          "output_type": "stream",
          "text": [
            "No. of Upper case characters : 9\n",
            "No. of Lower case characters : 47\n"
          ]
        }
      ],
      "source": [
        "# Write code here\n",
        "\n",
        "def count_upper_lower(string):\n",
        "    upper = lower = 0\n",
        "    for i in s:\n",
        "        if i.isupper():\n",
        "            upper += 1\n",
        "        elif i.islower():\n",
        "            lower +=1\n",
        "    return upper,lower\n",
        "\n",
        "s= 'CampusX is an Online Mentorship Program fOr EnginEering studentS.'\n",
        "\n",
        "upper,lower = count_upper_lower(s)\n",
        "print(f\"No. of Upper case characters : {upper}\\nNo. of Lower case characters : {lower}\")"
      ]
    },
    {
      "cell_type": "markdown",
      "metadata": {
        "id": "V1BFFdYQG7Sn"
      },
      "source": [
        "### **`Problem 4:`** Write a Python program to print the even numbers from a given list.\n",
        "```\n",
        "Sample List : [1, 2, 3, 4, 5, 6, 7, 8, 9]\n",
        "Expected Result : [2, 4, 6, 8]\n",
        "```"
      ]
    },
    {
      "cell_type": "code",
      "execution_count": 17,
      "metadata": {
        "id": "VvAReLoDG_Z3"
      },
      "outputs": [
        {
          "data": {
            "text/plain": [
              "[2, 4, 6, 8]"
            ]
          },
          "execution_count": 17,
          "metadata": {},
          "output_type": "execute_result"
        }
      ],
      "source": [
        "# Write code here\n",
        "\n",
        "lst = [1,2,3,4,5,6,7,8,9]\n",
        "list(filter(lambda x: x%2 == 0, lst))"
      ]
    },
    {
      "cell_type": "markdown",
      "metadata": {
        "id": "qrK39Gn-HHb4"
      },
      "source": [
        "### **`Problem 5:`** Write a Python function to check whether a number is perfect or not.\n",
        "\n",
        "A Perfect number is a number that is half the sum of all of its positive divisors (including itself).\n",
        "\n",
        "Example :\n",
        "\n",
        "```\n",
        "The first perfect number is 6, because 1, 2, and 3 are its proper positive divisors, and 1 + 2 + 3 = 6.\n",
        "Equivalently, the number 6 is equal to half the sum of all its positive divisors: ( 1 + 2 + 3 + 6 ) / 2 = 6.\n",
        "\n",
        "The next perfect number is 28 = 1 + 2 + 4 + 7 + 14. This is followed by the perfect numbers 496 and 8128.\n",
        "```\n"
      ]
    },
    {
      "cell_type": "code",
      "execution_count": 132,
      "metadata": {
        "id": "P-OI7H78HICs"
      },
      "outputs": [
        {
          "name": "stdout",
          "output_type": "stream",
          "text": [
            "6 is a perfect number\n"
          ]
        }
      ],
      "source": [
        "# Write code here\n",
        "def check_perfect_num (num):\n",
        "    div_sum = 0\n",
        "    for i in range(1,num+1):\n",
        "        if num % i == 0:\n",
        "            div_sum += i\n",
        "    if div_sum/2 == num:\n",
        "        print(f\"{num} is a perfect number\")\n",
        "    else:\n",
        "        print(f\"{num} is not a perfect number\")\n",
        "        \n",
        "num = int(input(\"Enter the number you want to check is a positive number \"))\n",
        "check_perfect_num(num)"
      ]
    },
    {
      "cell_type": "markdown",
      "metadata": {
        "id": "oZdpcG77HO-6"
      },
      "source": [
        "### **`Problem-6:`** Write a Python function to concatenate any no of dictionaries to create a new one.\n",
        "\n",
        "```\n",
        "Sample Dictionary :\n",
        "dic1={1:10, 2:20}\n",
        "dic2={3:30, 4:40}\n",
        "dic3={5:50,6:60}\n",
        "Expected Result : {1: 10, 2: 20, 3: 30, 4: 40, 5: 50, 6: 60}\n",
        "```"
      ]
    },
    {
      "cell_type": "code",
      "execution_count": 66,
      "metadata": {
        "id": "LQgfAY4ZHPhj"
      },
      "outputs": [
        {
          "name": "stdout",
          "output_type": "stream",
          "text": [
            "{1: 10, 2: 20, 3: 30, 4: 40, 5: 50, 6: 60}\n"
          ]
        }
      ],
      "source": [
        "# Write code here\n",
        "def concatenate_dict(**input_dict):\n",
        "    output = {}\n",
        "    for key, val in input_dict.items():\n",
        "        output.update(val)\n",
        "    \n",
        "    return output\n",
        "\n",
        "dic1 = {1: 10, 2: 20}\n",
        "dic2 = {3: 30, 4: 40}\n",
        "dic3 = {5: 50, 6: 60}\n",
        "\n",
        "print( concatenate_dict(dic1=dic1, dic2=dic2, dic3=dic3) )"
      ]
    },
    {
      "cell_type": "code",
      "execution_count": 83,
      "metadata": {},
      "outputs": [
        {
          "name": "stdout",
          "output_type": "stream",
          "text": [
            "{1: 10, 2: 20, 3: 30, 4: 40, 5: 50, 6: 60}\n"
          ]
        }
      ],
      "source": [
        "def concatenate_dict(*input_dict):\n",
        "    output = {}\n",
        "    for dic in input_dict:\n",
        "        output.update(dic)\n",
        "    return output\n",
        "dic1 = {1: 10, 2: 20}\n",
        "dic2 = {3: 30, 4: 40}\n",
        "dic3 = {5: 50, 6: 60}  \n",
        "\n",
        "print( concatenate_dict(dic1,dic2,dic3) )"
      ]
    },
    {
      "cell_type": "markdown",
      "metadata": {
        "id": "jQ6SzbCkHRd0"
      },
      "source": [
        "`Problem-7` Write a python function that accepts a string as input and returns the word with most occurence.\n",
        "\n",
        "```\n",
        "Input:\n",
        "hello how are you i am fine thank you\n",
        "```\n",
        "\n",
        "```\n",
        "Output\n",
        "you -> 2\n",
        "```"
      ]
    },
    {
      "cell_type": "code",
      "execution_count": 92,
      "metadata": {
        "id": "Lh04JHLzIW7Z"
      },
      "outputs": [
        {
          "name": "stdout",
          "output_type": "stream",
          "text": [
            "you -> 2\n"
          ]
        }
      ],
      "source": [
        "# Write code here\n",
        "from functools import reduce\n",
        "str1 = \"hello how are you i am fine thank you\"\n",
        "\n",
        "def max_occurence(str1):\n",
        "    counter_dict = {}\n",
        "\n",
        "    for word in str1.split():\n",
        "        if word in counter_dict:\n",
        "            counter_dict[word] += 1\n",
        "        else:\n",
        "            counter_dict[word] = 1\n",
        "            \n",
        "    return list(reduce(lambda x,y: x if x[1] > y[1] else y,counter_dict.items() ))\n",
        "\n",
        "word,count = max_occurence(str1)\n",
        "print(f\"{word} -> {count}\")"
      ]
    },
    {
      "cell_type": "markdown",
      "metadata": {
        "id": "1r8SpVntI-IW"
      },
      "source": [
        "`Problem-8` Write a python function that receives a list of integers and prints out a histogram of bin size 10\n",
        "\n",
        "```\n",
        "Input:\n",
        "[13,42,15,37,22,39,41,50]\n",
        "```\n",
        "\n",
        "```\n",
        "Output:\n",
        "{11-20:2,21-30:1,31-40:2,41-50:3}\n",
        "```"
      ]
    },
    {
      "cell_type": "code",
      "execution_count": 288,
      "metadata": {
        "id": "7W0J8rUjJovg"
      },
      "outputs": [
        {
          "name": "stdout",
          "output_type": "stream",
          "text": [
            "{11-20:2,21-30:1,31-40:2,41-50:3}\n"
          ]
        }
      ],
      "source": [
        "# Write code here\n",
        "def histogram_maker(lst):\n",
        "    hist = {}\n",
        "    for i in lst:\n",
        "        lower_range = (i // 10) * 10 + 1 \n",
        "        upper_range = lower_range + 9\n",
        "        key = str(lower_range) + \"-\" + str(upper_range)\n",
        "        if key in hist:\n",
        "            hist[key] += 1\n",
        "        else:\n",
        "            hist[key] = 1\n",
        "            \n",
        "    hist = dict(sorted(hist.items()))\n",
        "\n",
        "    return hist\n",
        "\n",
        "lst = [13,42,15,37,22,39,41,50]\n",
        "hist = histogram_maker(lst)\n",
        "\n",
        "print(hist)"
      ]
    },
    {
      "cell_type": "code",
      "execution_count": 289,
      "metadata": {},
      "outputs": [
        {
          "name": "stdout",
          "output_type": "stream",
          "text": [
            "{11-20:2,21-30:1,31-40:2,41-50:3}\n"
          ]
        }
      ],
      "source": [
        "def histogram_maker(lst):\n",
        "    hist = {}\n",
        "    for i in lst:\n",
        "        if i % 10 == 0:\n",
        "            # If the number is a multiple of 10, adjust it to fall into the correct bin\n",
        "            lower_range = ((i // 10) - 1) * 10 + 1\n",
        "        else:\n",
        "            lower_range = (i // 10) * 10 + 1\n",
        "        upper_range = lower_range + 9\n",
        "        key = f\"{lower_range}-{upper_range}\"\n",
        "        if key in hist:\n",
        "            hist[key] += 1\n",
        "        else:\n",
        "            hist[key] = 1\n",
        "                \n",
        "    # Sort the histogram by the lower range\n",
        "    sorted_hist = dict(sorted(hist.items(), key=lambda x: int(x[0].split('-')[0])))\n",
        "    \n",
        "    # Format the histogram to match the desired output without quotes\n",
        "    formatted_hist = \"{\"\n",
        "    formatted_hist += \",\".join([f\"{k}:{v}\" for k, v in sorted_hist.items()])\n",
        "    formatted_hist += \"}\"\n",
        "    \n",
        "    return formatted_hist\n",
        "\n",
        "# Example usage\n",
        "lst = [13, 42, 15, 37, 22, 39, 41, 50]\n",
        "hist = histogram_maker(lst)\n",
        "print(hist)"
      ]
    },
    {
      "cell_type": "markdown",
      "metadata": {
        "id": "1P2-rbgXKE53"
      },
      "source": [
        "`Problem-9` Write a python function that accepts a list of 2D co-ordinates and a query point, and then finds the the co-ordinate which is closest in terms of distance from the query point.\n",
        "\n",
        "```\n",
        "List of Coordinates\n",
        "[(1,1),(2,2),(3,3),(4,4)]\n",
        "Query Point\n",
        "(0,0)\n",
        "```\n",
        "\n",
        "```\n",
        "Output\n",
        "Nearest to (0,0) is (1,1)\n",
        "```"
      ]
    },
    {
      "cell_type": "code",
      "execution_count": 62,
      "metadata": {
        "id": "zjn7vSTIJ81G"
      },
      "outputs": [
        {
          "name": "stdout",
          "output_type": "stream",
          "text": [
            "Nearest to (0, 0) is (1, 1)\n"
          ]
        }
      ],
      "source": [
        "# Write code here\n",
        "def input_coordinates():\n",
        "    list_of_coord = []\n",
        "    while True:\n",
        "        coord = input(\"Enter a coordinate as 'x y' (or type 'done' to finish): \")\n",
        "        if coord.lower() == 'done':\n",
        "            break\n",
        "        x, y = map(int, coord.split())\n",
        "        list_of_coord.append((x, y))\n",
        "    return list_of_coord\n",
        "\n",
        "def find_nearest_coordinate(coordinates, query):\n",
        "    min_dis = float('inf')  # Fix: Use a large positive number for comparison\n",
        "    nearest_point = None\n",
        "\n",
        "    for i in coordinates:\n",
        "        dist_bet_que_to_coord = ( (query[0] - i[0])**2 - (query[1] - i[1])**2 ) ** 0.5\n",
        "        if dist_bet_que_to_coord < min_dis:\n",
        "            min_dis = dist_bet_que_to_coord\n",
        "            nearest_point = i\n",
        "    return nearest_point\n",
        "\n",
        "coordinates = input_coordinates()\n",
        "\n",
        "query = query = tuple(map(int, input(\"Enter query point: \").split()))\n",
        "\n",
        "nearest_point = find_nearest_coordinate(coordinates,query)\n",
        "print(f\"Nearest to {query} is {nearest_point}\")"
      ]
    },
    {
      "cell_type": "markdown",
      "metadata": {
        "id": "i-B6igmyK9hB"
      },
      "source": [
        "`Problem-10`:Write a python program that receives a list of strings and performs bag of word operation on those strings\n",
        "\n",
        "https://en.wikipedia.org/wiki/Bag-of-words_model"
      ]
    },
    {
      "cell_type": "code",
      "execution_count": 69,
      "metadata": {
        "id": "N2l1_AWULT-z"
      },
      "outputs": [
        {
          "name": "stdout",
          "output_type": "stream",
          "text": [
            "{'hello': 2, 'world': 2, 'from': 1, 'the': 1, 'other': 1, 'side': 1, 'of': 1, 'Python': 1}\n"
          ]
        }
      ],
      "source": [
        "# Write code here Wrong\n",
        "def bag_of_word(l):\n",
        "    bow = {}\n",
        "    for strings in l:\n",
        "        for word in strings.split():\n",
        "            if word in bow:\n",
        "                bow[word] += 1\n",
        "            else:\n",
        "                bow[word] = 1\n",
        "    return bow\n",
        "l = [\"hello world\", \"hello from the other side\", \"world of Python\"]\n",
        "bow = bag_of_word(l)\n",
        "print(bow)"
      ]
    },
    {
      "cell_type": "code",
      "execution_count": 293,
      "metadata": {},
      "outputs": [
        {
          "name": "stdout",
          "output_type": "stream",
          "text": [
            "{'pat', 'mat', 'bat', 'sat', 'cat', 'fat', 'rat'}\n",
            "[[0, 1, 0, 0, 2, 0, 1], [0, 0, 1, 1, 1, 1, 1], [1, 1, 0, 0, 1, 0, 1]]\n",
            "{'pat', 'mat', 'bat', 'sat', 'cat', 'fat', 'rat'}\n"
          ]
        }
      ],
      "source": [
        "def bag_of_word(l):\n",
        "    vocab = set()\n",
        "    for i in l:\n",
        "        vocab.update(i.split())\n",
        "    result = []\n",
        "    \n",
        "    for i in l:\n",
        "        result.append([])\n",
        "        for j in vocab:\n",
        "            result[-1].append(i.count(j))\n",
        "            \n",
        "    print(vocab)\n",
        "    print(result)\n",
        "    \n",
        "\n",
        "l = [\n",
        "    'cat mat rat cat',\n",
        "    'sat bat fat cat rat',\n",
        "    'pat cat mat rat'\n",
        "    ]\n",
        "bow = bag_of_word(l)\n",
        "print(bow)"
      ]
    },
    {
      "cell_type": "markdown",
      "metadata": {
        "id": "dHTRKb-DqMLw"
      },
      "source": [
        "### `Problem 11:` Write a Python program to add three given lists using Python map and lambda."
      ]
    },
    {
      "cell_type": "code",
      "execution_count": 90,
      "metadata": {
        "id": "NfJdzyNZqNW-"
      },
      "outputs": [
        {
          "name": "stdout",
          "output_type": "stream",
          "text": [
            "[12, 15, 18]\n"
          ]
        }
      ],
      "source": [
        "# Write code here\n",
        "list1 = [1, 2, 3]\n",
        "list2 = [4, 5, 6]\n",
        "list3 = [7, 8, 9]\n",
        "\n",
        "addition = list( map(lambda x,y,z : x+y+z , list1,list2,list3))\n",
        "print(addition)"
      ]
    },
    {
      "cell_type": "markdown",
      "metadata": {
        "id": "MgHP7mbUqO8l"
      },
      "source": [
        "### `Problem-12:`Write a Python program to create a list containing the power of said number in bases raised to the corresponding number in the index using Python map.\n",
        "`Input:`\n",
        "```\n",
        "list1 = [1,2,3,4,5,6]\n",
        "```\n",
        "`Output:`\n",
        "```\n",
        "[1,2,9,64,625,-]\n",
        "```\n"
      ]
    },
    {
      "cell_type": "code",
      "execution_count": 304,
      "metadata": {
        "id": "gG3Dc6N3qbvN"
      },
      "outputs": [
        {
          "name": "stdout",
          "output_type": "stream",
          "text": [
            "[1, 2, 9, 64, 625, 7776]\n"
          ]
        }
      ],
      "source": [
        "# Write code here\n",
        "list1 = [1,2,3,4,5,6]\n",
        "\n",
        "# power_list = list(map(lambda x: x ** list1.index(x), list1))\n",
        "power_list = list(map(lambda x,y : x**y, list1,range(len(list1))))\n",
        "print(power_list)"
      ]
    },
    {
      "cell_type": "markdown",
      "metadata": {
        "id": "G26SYq6vqdLN"
      },
      "source": [
        "### `Problem-13` Using filter() and list() functions and .lower() method filter all the vowels in a given string.\n",
        "\n"
      ]
    },
    {
      "cell_type": "code",
      "execution_count": 94,
      "metadata": {
        "id": "zurga3DIqmEx"
      },
      "outputs": [
        {
          "name": "stdout",
          "output_type": "stream",
          "text": [
            "['E', 'o', 'o']\n"
          ]
        }
      ],
      "source": [
        "# Write code here\n",
        "s = \"HEllo World\"\n",
        "vowels = list(filter(lambda x: x.lower() in 'aeiou',s))\n",
        "print(vowels)"
      ]
    },
    {
      "cell_type": "markdown",
      "metadata": {
        "id": "uQrsunZSqoYu"
      },
      "source": [
        "`Problem-14`: Use reduce to convert a 2D list to 1D"
      ]
    },
    {
      "cell_type": "code",
      "execution_count": 115,
      "metadata": {
        "id": "E1YUwnfgqnka"
      },
      "outputs": [
        {
          "name": "stdout",
          "output_type": "stream",
          "text": [
            "[1, 2, 3, 4, 5, 6, 7, 8]\n"
          ]
        }
      ],
      "source": [
        "# Write code here\n",
        "from functools import reduce\n",
        "\n",
        "l = [[1, 2, 3], [4, 5], [6, 7, 8]]\n",
        "\n",
        "output = list(reduce(lambda x,y: x+y, l))\n",
        "print(output)"
      ]
    },
    {
      "cell_type": "markdown",
      "metadata": {
        "id": "8-DLQEawt-_t"
      },
      "source": [
        "`Problem 15`- A dictionary contains following information about 5 employees:\n",
        "- First name\n",
        "- Last name\n",
        "- Age\n",
        "- Grade(Skilled,Semi-skilled,Highly skilled)<br>\n",
        "Write a program using map/filter/reduce to a list of employees(first name + last name) who are highly skilled"
      ]
    },
    {
      "cell_type": "code",
      "execution_count": 117,
      "metadata": {
        "id": "OLvptttLs6OU"
      },
      "outputs": [],
      "source": [
        "# Write code here\n",
        "employees = [\n",
        "    {\n",
        "        'fname':'Nitish',\n",
        "        'lname':'Singh',\n",
        "        'age' : 33,\n",
        "        'grade':'skilled'\n",
        "    },\n",
        "    {\n",
        "        'fname':'Ankit',\n",
        "        'lname':'Verma',\n",
        "        'age' : 34,\n",
        "        'grade':'semi-skilled'\n",
        "    },\n",
        "    {\n",
        "        'fname':'Neha',\n",
        "        'lname':'Singh',\n",
        "        'age' : 35,\n",
        "        'grade':'highly-skilled'\n",
        "    },\n",
        "    {\n",
        "        'fname':'Anurag',\n",
        "        'lname':'Kumar',\n",
        "        'age' : 30,\n",
        "        'grade':'skilled'\n",
        "    },\n",
        "    {\n",
        "        'fname':'Abhinav',\n",
        "        'lname':'Sharma',\n",
        "        'age' : 37,\n",
        "        'grade':'highly-skilled'\n",
        "    }\n",
        "\n",
        "]"
      ]
    },
    {
      "cell_type": "code",
      "execution_count": 308,
      "metadata": {},
      "outputs": [
        {
          "name": "stdout",
          "output_type": "stream",
          "text": [
            "['Neha Singh', 'Abhinav Sharma']\n"
          ]
        }
      ],
      "source": [
        "output = list(map(lambda x: x['fname'] + ' ' + x['lname'],list(filter(lambda x:  x['grade'] == 'highly-skilled', employees))))\n",
        "print(output)"
      ]
    },
    {
      "cell_type": "code",
      "execution_count": null,
      "metadata": {
        "colab": {
          "base_uri": "https://localhost:8080/"
        },
        "id": "vLX0FAQkui3y",
        "outputId": "e7d50543-c30e-4a20-c793-756f5a435df7"
      },
      "outputs": [
        {
          "data": {
            "text/plain": [
              "['Neha Singh', 'Abhinav Sharma']"
            ]
          },
          "execution_count": 17,
          "metadata": {},
          "output_type": "execute_result"
        }
      ],
      "source": [
        "list(map(lambda x:x['fname'] + ' ' + x['lname'],list(filter(lambda x:True if x['grade'] == 'highly-skilled' else False,employees))))"
      ]
    }
  ],
  "metadata": {
    "colab": {
      "provenance": []
    },
    "kernelspec": {
      "display_name": "Python 3",
      "name": "python3"
    },
    "language_info": {
      "codemirror_mode": {
        "name": "ipython",
        "version": 3
      },
      "file_extension": ".py",
      "mimetype": "text/x-python",
      "name": "python",
      "nbconvert_exporter": "python",
      "pygments_lexer": "ipython3",
      "version": "3.12.0"
    }
  },
  "nbformat": 4,
  "nbformat_minor": 0
}
