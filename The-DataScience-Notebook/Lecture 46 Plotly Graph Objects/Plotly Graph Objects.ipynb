{
 "cells": [
  {
   "cell_type": "markdown",
   "id": "8f12506b",
   "metadata": {},
   "source": [
    "# <b> <center>Plotly Graph Object (GO)</b></center>  \n",
    "- Introduction to Plotly\n",
    "1. Scatter Plots\n",
    "2. Line Charts\n",
    "3. Bar Plots\n",
    "4. Bubble Plots\n",
    "5. Box Plots\n",
    "6. Histograms\n",
    "7. Distplots\n",
    "8. Heatmaps"
   ]
  },
  {
   "cell_type": "markdown",
   "id": "90fc8c0d",
   "metadata": {},
   "source": [
    "<span style=\"font-size: 24px;\"> <b> 📦 Importing the Libraries"
   ]
  },
  {
   "cell_type": "code",
   "execution_count": 201,
   "id": "b52f0975",
   "metadata": {},
   "outputs": [],
   "source": [
    "import numpy as np\n",
    "import pandas as pd\n",
    "import plotly.graph_objs as go\n",
    "import plotly.offline as pyo\n",
    "import plotly.express as px"
   ]
  },
  {
   "cell_type": "markdown",
   "id": "cf8253c4",
   "metadata": {},
   "source": [
    "<span style=\"font-size: 24px;\"> <b> 📩 Importing the IPL Dataset"
   ]
  },
  {
   "cell_type": "code",
   "execution_count": 202,
   "id": "71080078",
   "metadata": {},
   "outputs": [
    {
     "data": {
      "text/html": [
       "<div>\n",
       "<style scoped>\n",
       "    .dataframe tbody tr th:only-of-type {\n",
       "        vertical-align: middle;\n",
       "    }\n",
       "\n",
       "    .dataframe tbody tr th {\n",
       "        vertical-align: top;\n",
       "    }\n",
       "\n",
       "    .dataframe thead th {\n",
       "        text-align: right;\n",
       "    }\n",
       "</style>\n",
       "<table border=\"1\" class=\"dataframe\">\n",
       "  <thead>\n",
       "    <tr style=\"text-align: right;\">\n",
       "      <th></th>\n",
       "      <th>id</th>\n",
       "      <th>season</th>\n",
       "      <th>city</th>\n",
       "      <th>date</th>\n",
       "      <th>match_type</th>\n",
       "      <th>player_of_match</th>\n",
       "      <th>venue</th>\n",
       "      <th>team1</th>\n",
       "      <th>team2</th>\n",
       "      <th>toss_winner</th>\n",
       "      <th>toss_decision</th>\n",
       "      <th>winner</th>\n",
       "      <th>result</th>\n",
       "      <th>result_margin</th>\n",
       "      <th>target_runs</th>\n",
       "      <th>target_overs</th>\n",
       "      <th>super_over</th>\n",
       "      <th>method</th>\n",
       "      <th>umpire1</th>\n",
       "      <th>umpire2</th>\n",
       "    </tr>\n",
       "  </thead>\n",
       "  <tbody>\n",
       "    <tr>\n",
       "      <th>0</th>\n",
       "      <td>335982</td>\n",
       "      <td>2007/08</td>\n",
       "      <td>Bangalore</td>\n",
       "      <td>2008-04-18</td>\n",
       "      <td>League</td>\n",
       "      <td>BB McCullum</td>\n",
       "      <td>M Chinnaswamy Stadium</td>\n",
       "      <td>Royal Challengers Bangalore</td>\n",
       "      <td>Kolkata Knight Riders</td>\n",
       "      <td>Royal Challengers Bangalore</td>\n",
       "      <td>field</td>\n",
       "      <td>Kolkata Knight Riders</td>\n",
       "      <td>runs</td>\n",
       "      <td>140.0</td>\n",
       "      <td>223.0</td>\n",
       "      <td>20.0</td>\n",
       "      <td>N</td>\n",
       "      <td>NaN</td>\n",
       "      <td>Asad Rauf</td>\n",
       "      <td>RE Koertzen</td>\n",
       "    </tr>\n",
       "    <tr>\n",
       "      <th>1</th>\n",
       "      <td>335983</td>\n",
       "      <td>2007/08</td>\n",
       "      <td>Chandigarh</td>\n",
       "      <td>2008-04-19</td>\n",
       "      <td>League</td>\n",
       "      <td>MEK Hussey</td>\n",
       "      <td>Punjab Cricket Association Stadium, Mohali</td>\n",
       "      <td>Kings XI Punjab</td>\n",
       "      <td>Chennai Super Kings</td>\n",
       "      <td>Chennai Super Kings</td>\n",
       "      <td>bat</td>\n",
       "      <td>Chennai Super Kings</td>\n",
       "      <td>runs</td>\n",
       "      <td>33.0</td>\n",
       "      <td>241.0</td>\n",
       "      <td>20.0</td>\n",
       "      <td>N</td>\n",
       "      <td>NaN</td>\n",
       "      <td>MR Benson</td>\n",
       "      <td>SL Shastri</td>\n",
       "    </tr>\n",
       "    <tr>\n",
       "      <th>2</th>\n",
       "      <td>335984</td>\n",
       "      <td>2007/08</td>\n",
       "      <td>Delhi</td>\n",
       "      <td>2008-04-19</td>\n",
       "      <td>League</td>\n",
       "      <td>MF Maharoof</td>\n",
       "      <td>Feroz Shah Kotla</td>\n",
       "      <td>Delhi Daredevils</td>\n",
       "      <td>Rajasthan Royals</td>\n",
       "      <td>Rajasthan Royals</td>\n",
       "      <td>bat</td>\n",
       "      <td>Delhi Daredevils</td>\n",
       "      <td>wickets</td>\n",
       "      <td>9.0</td>\n",
       "      <td>130.0</td>\n",
       "      <td>20.0</td>\n",
       "      <td>N</td>\n",
       "      <td>NaN</td>\n",
       "      <td>Aleem Dar</td>\n",
       "      <td>GA Pratapkumar</td>\n",
       "    </tr>\n",
       "  </tbody>\n",
       "</table>\n",
       "</div>"
      ],
      "text/plain": [
       "       id   season        city        date match_type player_of_match  \\\n",
       "0  335982  2007/08   Bangalore  2008-04-18     League     BB McCullum   \n",
       "1  335983  2007/08  Chandigarh  2008-04-19     League      MEK Hussey   \n",
       "2  335984  2007/08       Delhi  2008-04-19     League     MF Maharoof   \n",
       "\n",
       "                                        venue                        team1  \\\n",
       "0                       M Chinnaswamy Stadium  Royal Challengers Bangalore   \n",
       "1  Punjab Cricket Association Stadium, Mohali              Kings XI Punjab   \n",
       "2                            Feroz Shah Kotla             Delhi Daredevils   \n",
       "\n",
       "                   team2                  toss_winner toss_decision  \\\n",
       "0  Kolkata Knight Riders  Royal Challengers Bangalore         field   \n",
       "1    Chennai Super Kings          Chennai Super Kings           bat   \n",
       "2       Rajasthan Royals             Rajasthan Royals           bat   \n",
       "\n",
       "                  winner   result  result_margin  target_runs  target_overs  \\\n",
       "0  Kolkata Knight Riders     runs          140.0        223.0          20.0   \n",
       "1    Chennai Super Kings     runs           33.0        241.0          20.0   \n",
       "2       Delhi Daredevils  wickets            9.0        130.0          20.0   \n",
       "\n",
       "  super_over method    umpire1         umpire2  \n",
       "0          N    NaN  Asad Rauf     RE Koertzen  \n",
       "1          N    NaN  MR Benson      SL Shastri  \n",
       "2          N    NaN  Aleem Dar  GA Pratapkumar  "
      ]
     },
     "execution_count": 202,
     "metadata": {},
     "output_type": "execute_result"
    }
   ],
   "source": [
    "match = pd.read_csv('matches.csv')\n",
    "\n",
    "match.head(3)"
   ]
  },
  {
   "cell_type": "code",
   "execution_count": 203,
   "id": "98c351d7",
   "metadata": {},
   "outputs": [
    {
     "data": {
      "text/html": [
       "<div>\n",
       "<style scoped>\n",
       "    .dataframe tbody tr th:only-of-type {\n",
       "        vertical-align: middle;\n",
       "    }\n",
       "\n",
       "    .dataframe tbody tr th {\n",
       "        vertical-align: top;\n",
       "    }\n",
       "\n",
       "    .dataframe thead th {\n",
       "        text-align: right;\n",
       "    }\n",
       "</style>\n",
       "<table border=\"1\" class=\"dataframe\">\n",
       "  <thead>\n",
       "    <tr style=\"text-align: right;\">\n",
       "      <th></th>\n",
       "      <th>match_id</th>\n",
       "      <th>inning</th>\n",
       "      <th>batting_team</th>\n",
       "      <th>bowling_team</th>\n",
       "      <th>over</th>\n",
       "      <th>ball</th>\n",
       "      <th>batter</th>\n",
       "      <th>bowler</th>\n",
       "      <th>non_striker</th>\n",
       "      <th>batsman_runs</th>\n",
       "      <th>extra_runs</th>\n",
       "      <th>total_runs</th>\n",
       "      <th>extras_type</th>\n",
       "      <th>is_wicket</th>\n",
       "      <th>player_dismissed</th>\n",
       "      <th>dismissal_kind</th>\n",
       "      <th>fielder</th>\n",
       "    </tr>\n",
       "  </thead>\n",
       "  <tbody>\n",
       "    <tr>\n",
       "      <th>0</th>\n",
       "      <td>335982</td>\n",
       "      <td>1</td>\n",
       "      <td>Kolkata Knight Riders</td>\n",
       "      <td>Royal Challengers Bangalore</td>\n",
       "      <td>0</td>\n",
       "      <td>1</td>\n",
       "      <td>SC Ganguly</td>\n",
       "      <td>P Kumar</td>\n",
       "      <td>BB McCullum</td>\n",
       "      <td>0</td>\n",
       "      <td>1</td>\n",
       "      <td>1</td>\n",
       "      <td>legbyes</td>\n",
       "      <td>0</td>\n",
       "      <td>NaN</td>\n",
       "      <td>NaN</td>\n",
       "      <td>NaN</td>\n",
       "    </tr>\n",
       "    <tr>\n",
       "      <th>1</th>\n",
       "      <td>335982</td>\n",
       "      <td>1</td>\n",
       "      <td>Kolkata Knight Riders</td>\n",
       "      <td>Royal Challengers Bangalore</td>\n",
       "      <td>0</td>\n",
       "      <td>2</td>\n",
       "      <td>BB McCullum</td>\n",
       "      <td>P Kumar</td>\n",
       "      <td>SC Ganguly</td>\n",
       "      <td>0</td>\n",
       "      <td>0</td>\n",
       "      <td>0</td>\n",
       "      <td>NaN</td>\n",
       "      <td>0</td>\n",
       "      <td>NaN</td>\n",
       "      <td>NaN</td>\n",
       "      <td>NaN</td>\n",
       "    </tr>\n",
       "    <tr>\n",
       "      <th>2</th>\n",
       "      <td>335982</td>\n",
       "      <td>1</td>\n",
       "      <td>Kolkata Knight Riders</td>\n",
       "      <td>Royal Challengers Bangalore</td>\n",
       "      <td>0</td>\n",
       "      <td>3</td>\n",
       "      <td>BB McCullum</td>\n",
       "      <td>P Kumar</td>\n",
       "      <td>SC Ganguly</td>\n",
       "      <td>0</td>\n",
       "      <td>1</td>\n",
       "      <td>1</td>\n",
       "      <td>wides</td>\n",
       "      <td>0</td>\n",
       "      <td>NaN</td>\n",
       "      <td>NaN</td>\n",
       "      <td>NaN</td>\n",
       "    </tr>\n",
       "  </tbody>\n",
       "</table>\n",
       "</div>"
      ],
      "text/plain": [
       "   match_id  inning           batting_team                 bowling_team  over  \\\n",
       "0    335982       1  Kolkata Knight Riders  Royal Challengers Bangalore     0   \n",
       "1    335982       1  Kolkata Knight Riders  Royal Challengers Bangalore     0   \n",
       "2    335982       1  Kolkata Knight Riders  Royal Challengers Bangalore     0   \n",
       "\n",
       "   ball       batter   bowler  non_striker  batsman_runs  extra_runs  \\\n",
       "0     1   SC Ganguly  P Kumar  BB McCullum             0           1   \n",
       "1     2  BB McCullum  P Kumar   SC Ganguly             0           0   \n",
       "2     3  BB McCullum  P Kumar   SC Ganguly             0           1   \n",
       "\n",
       "   total_runs extras_type  is_wicket player_dismissed dismissal_kind fielder  \n",
       "0           1     legbyes          0              NaN            NaN     NaN  \n",
       "1           0         NaN          0              NaN            NaN     NaN  \n",
       "2           1       wides          0              NaN            NaN     NaN  "
      ]
     },
     "execution_count": 203,
     "metadata": {},
     "output_type": "execute_result"
    }
   ],
   "source": [
    "delivery = pd.read_csv('deliveries.csv')\n",
    "\n",
    "delivery.head(3)"
   ]
  },
  {
   "cell_type": "markdown",
   "id": "b127fe48",
   "metadata": {},
   "source": [
    "<span style=\"font-size: 24px;\"> <b> ➕ Merging both datasets"
   ]
  },
  {
   "cell_type": "code",
   "execution_count": 204,
   "id": "ba8a6fec",
   "metadata": {},
   "outputs": [
    {
     "data": {
      "text/html": [
       "<div>\n",
       "<style scoped>\n",
       "    .dataframe tbody tr th:only-of-type {\n",
       "        vertical-align: middle;\n",
       "    }\n",
       "\n",
       "    .dataframe tbody tr th {\n",
       "        vertical-align: top;\n",
       "    }\n",
       "\n",
       "    .dataframe thead th {\n",
       "        text-align: right;\n",
       "    }\n",
       "</style>\n",
       "<table border=\"1\" class=\"dataframe\">\n",
       "  <thead>\n",
       "    <tr style=\"text-align: right;\">\n",
       "      <th></th>\n",
       "      <th>match_id</th>\n",
       "      <th>inning</th>\n",
       "      <th>batting_team</th>\n",
       "      <th>bowling_team</th>\n",
       "      <th>over</th>\n",
       "      <th>ball</th>\n",
       "      <th>batter</th>\n",
       "      <th>bowler</th>\n",
       "      <th>non_striker</th>\n",
       "      <th>batsman_runs</th>\n",
       "      <th>...</th>\n",
       "      <th>toss_decision</th>\n",
       "      <th>winner</th>\n",
       "      <th>result</th>\n",
       "      <th>result_margin</th>\n",
       "      <th>target_runs</th>\n",
       "      <th>target_overs</th>\n",
       "      <th>super_over</th>\n",
       "      <th>method</th>\n",
       "      <th>umpire1</th>\n",
       "      <th>umpire2</th>\n",
       "    </tr>\n",
       "  </thead>\n",
       "  <tbody>\n",
       "    <tr>\n",
       "      <th>0</th>\n",
       "      <td>335982</td>\n",
       "      <td>1</td>\n",
       "      <td>Kolkata Knight Riders</td>\n",
       "      <td>Royal Challengers Bangalore</td>\n",
       "      <td>0</td>\n",
       "      <td>1</td>\n",
       "      <td>SC Ganguly</td>\n",
       "      <td>P Kumar</td>\n",
       "      <td>BB McCullum</td>\n",
       "      <td>0</td>\n",
       "      <td>...</td>\n",
       "      <td>field</td>\n",
       "      <td>Kolkata Knight Riders</td>\n",
       "      <td>runs</td>\n",
       "      <td>140.0</td>\n",
       "      <td>223.0</td>\n",
       "      <td>20.0</td>\n",
       "      <td>N</td>\n",
       "      <td>NaN</td>\n",
       "      <td>Asad Rauf</td>\n",
       "      <td>RE Koertzen</td>\n",
       "    </tr>\n",
       "    <tr>\n",
       "      <th>1</th>\n",
       "      <td>335982</td>\n",
       "      <td>1</td>\n",
       "      <td>Kolkata Knight Riders</td>\n",
       "      <td>Royal Challengers Bangalore</td>\n",
       "      <td>0</td>\n",
       "      <td>2</td>\n",
       "      <td>BB McCullum</td>\n",
       "      <td>P Kumar</td>\n",
       "      <td>SC Ganguly</td>\n",
       "      <td>0</td>\n",
       "      <td>...</td>\n",
       "      <td>field</td>\n",
       "      <td>Kolkata Knight Riders</td>\n",
       "      <td>runs</td>\n",
       "      <td>140.0</td>\n",
       "      <td>223.0</td>\n",
       "      <td>20.0</td>\n",
       "      <td>N</td>\n",
       "      <td>NaN</td>\n",
       "      <td>Asad Rauf</td>\n",
       "      <td>RE Koertzen</td>\n",
       "    </tr>\n",
       "    <tr>\n",
       "      <th>2</th>\n",
       "      <td>335982</td>\n",
       "      <td>1</td>\n",
       "      <td>Kolkata Knight Riders</td>\n",
       "      <td>Royal Challengers Bangalore</td>\n",
       "      <td>0</td>\n",
       "      <td>3</td>\n",
       "      <td>BB McCullum</td>\n",
       "      <td>P Kumar</td>\n",
       "      <td>SC Ganguly</td>\n",
       "      <td>0</td>\n",
       "      <td>...</td>\n",
       "      <td>field</td>\n",
       "      <td>Kolkata Knight Riders</td>\n",
       "      <td>runs</td>\n",
       "      <td>140.0</td>\n",
       "      <td>223.0</td>\n",
       "      <td>20.0</td>\n",
       "      <td>N</td>\n",
       "      <td>NaN</td>\n",
       "      <td>Asad Rauf</td>\n",
       "      <td>RE Koertzen</td>\n",
       "    </tr>\n",
       "    <tr>\n",
       "      <th>3</th>\n",
       "      <td>335982</td>\n",
       "      <td>1</td>\n",
       "      <td>Kolkata Knight Riders</td>\n",
       "      <td>Royal Challengers Bangalore</td>\n",
       "      <td>0</td>\n",
       "      <td>4</td>\n",
       "      <td>BB McCullum</td>\n",
       "      <td>P Kumar</td>\n",
       "      <td>SC Ganguly</td>\n",
       "      <td>0</td>\n",
       "      <td>...</td>\n",
       "      <td>field</td>\n",
       "      <td>Kolkata Knight Riders</td>\n",
       "      <td>runs</td>\n",
       "      <td>140.0</td>\n",
       "      <td>223.0</td>\n",
       "      <td>20.0</td>\n",
       "      <td>N</td>\n",
       "      <td>NaN</td>\n",
       "      <td>Asad Rauf</td>\n",
       "      <td>RE Koertzen</td>\n",
       "    </tr>\n",
       "    <tr>\n",
       "      <th>4</th>\n",
       "      <td>335982</td>\n",
       "      <td>1</td>\n",
       "      <td>Kolkata Knight Riders</td>\n",
       "      <td>Royal Challengers Bangalore</td>\n",
       "      <td>0</td>\n",
       "      <td>5</td>\n",
       "      <td>BB McCullum</td>\n",
       "      <td>P Kumar</td>\n",
       "      <td>SC Ganguly</td>\n",
       "      <td>0</td>\n",
       "      <td>...</td>\n",
       "      <td>field</td>\n",
       "      <td>Kolkata Knight Riders</td>\n",
       "      <td>runs</td>\n",
       "      <td>140.0</td>\n",
       "      <td>223.0</td>\n",
       "      <td>20.0</td>\n",
       "      <td>N</td>\n",
       "      <td>NaN</td>\n",
       "      <td>Asad Rauf</td>\n",
       "      <td>RE Koertzen</td>\n",
       "    </tr>\n",
       "  </tbody>\n",
       "</table>\n",
       "<p>5 rows × 37 columns</p>\n",
       "</div>"
      ],
      "text/plain": [
       "   match_id  inning           batting_team                 bowling_team  over  \\\n",
       "0    335982       1  Kolkata Knight Riders  Royal Challengers Bangalore     0   \n",
       "1    335982       1  Kolkata Knight Riders  Royal Challengers Bangalore     0   \n",
       "2    335982       1  Kolkata Knight Riders  Royal Challengers Bangalore     0   \n",
       "3    335982       1  Kolkata Knight Riders  Royal Challengers Bangalore     0   \n",
       "4    335982       1  Kolkata Knight Riders  Royal Challengers Bangalore     0   \n",
       "\n",
       "   ball       batter   bowler  non_striker  batsman_runs  ...  toss_decision  \\\n",
       "0     1   SC Ganguly  P Kumar  BB McCullum             0  ...          field   \n",
       "1     2  BB McCullum  P Kumar   SC Ganguly             0  ...          field   \n",
       "2     3  BB McCullum  P Kumar   SC Ganguly             0  ...          field   \n",
       "3     4  BB McCullum  P Kumar   SC Ganguly             0  ...          field   \n",
       "4     5  BB McCullum  P Kumar   SC Ganguly             0  ...          field   \n",
       "\n",
       "                  winner result  result_margin target_runs target_overs  \\\n",
       "0  Kolkata Knight Riders   runs          140.0       223.0         20.0   \n",
       "1  Kolkata Knight Riders   runs          140.0       223.0         20.0   \n",
       "2  Kolkata Knight Riders   runs          140.0       223.0         20.0   \n",
       "3  Kolkata Knight Riders   runs          140.0       223.0         20.0   \n",
       "4  Kolkata Knight Riders   runs          140.0       223.0         20.0   \n",
       "\n",
       "  super_over  method    umpire1      umpire2  \n",
       "0          N     NaN  Asad Rauf  RE Koertzen  \n",
       "1          N     NaN  Asad Rauf  RE Koertzen  \n",
       "2          N     NaN  Asad Rauf  RE Koertzen  \n",
       "3          N     NaN  Asad Rauf  RE Koertzen  \n",
       "4          N     NaN  Asad Rauf  RE Koertzen  \n",
       "\n",
       "[5 rows x 37 columns]"
      ]
     },
     "execution_count": 204,
     "metadata": {},
     "output_type": "execute_result"
    }
   ],
   "source": [
    "ipl = delivery.merge(match, left_on='match_id', right_on='id')\n",
    "\n",
    "ipl.head(5)"
   ]
  },
  {
   "cell_type": "markdown",
   "id": "bd7071c6",
   "metadata": {},
   "source": [
    "## <b> <center> 1. Scatter Plots"
   ]
  },
  {
   "cell_type": "markdown",
   "id": "3f55f1fc",
   "metadata": {},
   "source": [
    "<span style=\"font-size: 16px;\"> <b> 🎯 ***Question:*** Plot the scatter plot between the batsman Avg(X axis) and batsman Strike Rate(Y axis) of the top 50 batsman in IPL (All time) </span> </b>\n",
    "\n",
    "***Answer:***  Firstly we have to extract the batsman dataframe, then we have to calculate Strike Rate and the Avg, in the end plot on this. "
   ]
  },
  {
   "cell_type": "code",
   "execution_count": 205,
   "id": "248ba296",
   "metadata": {},
   "outputs": [
    {
     "data": {
      "text/html": [
       "<div>\n",
       "<style scoped>\n",
       "    .dataframe tbody tr th:only-of-type {\n",
       "        vertical-align: middle;\n",
       "    }\n",
       "\n",
       "    .dataframe tbody tr th {\n",
       "        vertical-align: top;\n",
       "    }\n",
       "\n",
       "    .dataframe thead th {\n",
       "        text-align: right;\n",
       "    }\n",
       "</style>\n",
       "<table border=\"1\" class=\"dataframe\">\n",
       "  <thead>\n",
       "    <tr style=\"text-align: right;\">\n",
       "      <th></th>\n",
       "      <th>match_id</th>\n",
       "      <th>inning</th>\n",
       "      <th>batting_team</th>\n",
       "      <th>batter</th>\n",
       "      <th>batsman_runs</th>\n",
       "      <th>is_wicket</th>\n",
       "    </tr>\n",
       "  </thead>\n",
       "  <tbody>\n",
       "    <tr>\n",
       "      <th>0</th>\n",
       "      <td>335982</td>\n",
       "      <td>1</td>\n",
       "      <td>Kolkata Knight Riders</td>\n",
       "      <td>SC Ganguly</td>\n",
       "      <td>0</td>\n",
       "      <td>0</td>\n",
       "    </tr>\n",
       "    <tr>\n",
       "      <th>1</th>\n",
       "      <td>335982</td>\n",
       "      <td>1</td>\n",
       "      <td>Kolkata Knight Riders</td>\n",
       "      <td>BB McCullum</td>\n",
       "      <td>0</td>\n",
       "      <td>0</td>\n",
       "    </tr>\n",
       "    <tr>\n",
       "      <th>2</th>\n",
       "      <td>335982</td>\n",
       "      <td>1</td>\n",
       "      <td>Kolkata Knight Riders</td>\n",
       "      <td>BB McCullum</td>\n",
       "      <td>0</td>\n",
       "      <td>0</td>\n",
       "    </tr>\n",
       "    <tr>\n",
       "      <th>3</th>\n",
       "      <td>335982</td>\n",
       "      <td>1</td>\n",
       "      <td>Kolkata Knight Riders</td>\n",
       "      <td>BB McCullum</td>\n",
       "      <td>0</td>\n",
       "      <td>0</td>\n",
       "    </tr>\n",
       "    <tr>\n",
       "      <th>4</th>\n",
       "      <td>335982</td>\n",
       "      <td>1</td>\n",
       "      <td>Kolkata Knight Riders</td>\n",
       "      <td>BB McCullum</td>\n",
       "      <td>0</td>\n",
       "      <td>0</td>\n",
       "    </tr>\n",
       "  </tbody>\n",
       "</table>\n",
       "</div>"
      ],
      "text/plain": [
       "   match_id  inning           batting_team       batter  batsman_runs  \\\n",
       "0    335982       1  Kolkata Knight Riders   SC Ganguly             0   \n",
       "1    335982       1  Kolkata Knight Riders  BB McCullum             0   \n",
       "2    335982       1  Kolkata Knight Riders  BB McCullum             0   \n",
       "3    335982       1  Kolkata Knight Riders  BB McCullum             0   \n",
       "4    335982       1  Kolkata Knight Riders  BB McCullum             0   \n",
       "\n",
       "   is_wicket  \n",
       "0          0  \n",
       "1          0  \n",
       "2          0  \n",
       "3          0  \n",
       "4          0  "
      ]
     },
     "execution_count": 205,
     "metadata": {},
     "output_type": "execute_result"
    }
   ],
   "source": [
    "# 🏏 Step 1: Extract Batsman Dataframe\n",
    "batsman_df = ipl[['match_id', 'inning', 'batting_team', 'batter', 'batsman_runs', 'is_wicket']]\n",
    "\n",
    "batsman_df.head() \n",
    "\n",
    "# batsman_runs → runs scored on each ball by the batter\n",
    "# is_wicket → helps to calculate dismissals for batting average\n"
   ]
  },
  {
   "cell_type": "code",
   "execution_count": 206,
   "id": "008e2ab3",
   "metadata": {},
   "outputs": [
    {
     "data": {
      "text/html": [
       "<div>\n",
       "<style scoped>\n",
       "    .dataframe tbody tr th:only-of-type {\n",
       "        vertical-align: middle;\n",
       "    }\n",
       "\n",
       "    .dataframe tbody tr th {\n",
       "        vertical-align: top;\n",
       "    }\n",
       "\n",
       "    .dataframe thead th {\n",
       "        text-align: right;\n",
       "    }\n",
       "</style>\n",
       "<table border=\"1\" class=\"dataframe\">\n",
       "  <thead>\n",
       "    <tr style=\"text-align: right;\">\n",
       "      <th></th>\n",
       "      <th>batter</th>\n",
       "      <th>runs</th>\n",
       "      <th>balls</th>\n",
       "      <th>outs</th>\n",
       "    </tr>\n",
       "  </thead>\n",
       "  <tbody>\n",
       "    <tr>\n",
       "      <th>0</th>\n",
       "      <td>A Ashish Reddy</td>\n",
       "      <td>280</td>\n",
       "      <td>196</td>\n",
       "      <td>15</td>\n",
       "    </tr>\n",
       "    <tr>\n",
       "      <th>1</th>\n",
       "      <td>A Badoni</td>\n",
       "      <td>634</td>\n",
       "      <td>505</td>\n",
       "      <td>26</td>\n",
       "    </tr>\n",
       "    <tr>\n",
       "      <th>2</th>\n",
       "      <td>A Chandila</td>\n",
       "      <td>4</td>\n",
       "      <td>7</td>\n",
       "      <td>1</td>\n",
       "    </tr>\n",
       "    <tr>\n",
       "      <th>3</th>\n",
       "      <td>A Chopra</td>\n",
       "      <td>53</td>\n",
       "      <td>75</td>\n",
       "      <td>5</td>\n",
       "    </tr>\n",
       "    <tr>\n",
       "      <th>4</th>\n",
       "      <td>A Choudhary</td>\n",
       "      <td>25</td>\n",
       "      <td>20</td>\n",
       "      <td>2</td>\n",
       "    </tr>\n",
       "  </tbody>\n",
       "</table>\n",
       "</div>"
      ],
      "text/plain": [
       "           batter  runs  balls  outs\n",
       "0  A Ashish Reddy   280    196    15\n",
       "1        A Badoni   634    505    26\n",
       "2      A Chandila     4      7     1\n",
       "3        A Chopra    53     75     5\n",
       "4     A Choudhary    25     20     2"
      ]
     },
     "execution_count": 206,
     "metadata": {},
     "output_type": "execute_result"
    }
   ],
   "source": [
    "# 🏏 Step 2: Calculate Total Runs & Balls\n",
    "\n",
    "batsman_summary = batsman_df.groupby('batter').agg(\n",
    "    runs = ('batsman_runs', 'sum'),\n",
    "    balls = ('batsman_runs', 'count'),\n",
    "    outs = ('is_wicket', 'sum')\n",
    ").reset_index()\n",
    "\n",
    "batsman_summary.head()\n",
    "\n",
    "\n",
    "# runs → total runs scored\n",
    "# balls → total balls faced\n",
    "# outs → number of times dismissed"
   ]
  },
  {
   "cell_type": "code",
   "execution_count": 207,
   "id": "5200c963",
   "metadata": {},
   "outputs": [
    {
     "data": {
      "text/html": [
       "<div>\n",
       "<style scoped>\n",
       "    .dataframe tbody tr th:only-of-type {\n",
       "        vertical-align: middle;\n",
       "    }\n",
       "\n",
       "    .dataframe tbody tr th {\n",
       "        vertical-align: top;\n",
       "    }\n",
       "\n",
       "    .dataframe thead th {\n",
       "        text-align: right;\n",
       "    }\n",
       "</style>\n",
       "<table border=\"1\" class=\"dataframe\">\n",
       "  <thead>\n",
       "    <tr style=\"text-align: right;\">\n",
       "      <th></th>\n",
       "      <th>batter</th>\n",
       "      <th>runs</th>\n",
       "      <th>balls</th>\n",
       "      <th>outs</th>\n",
       "      <th>strike_rate</th>\n",
       "      <th>average</th>\n",
       "    </tr>\n",
       "  </thead>\n",
       "  <tbody>\n",
       "    <tr>\n",
       "      <th>0</th>\n",
       "      <td>A Ashish Reddy</td>\n",
       "      <td>280</td>\n",
       "      <td>196</td>\n",
       "      <td>15</td>\n",
       "      <td>142.857143</td>\n",
       "      <td>18.666667</td>\n",
       "    </tr>\n",
       "    <tr>\n",
       "      <th>1</th>\n",
       "      <td>A Badoni</td>\n",
       "      <td>634</td>\n",
       "      <td>505</td>\n",
       "      <td>26</td>\n",
       "      <td>125.544554</td>\n",
       "      <td>24.384615</td>\n",
       "    </tr>\n",
       "    <tr>\n",
       "      <th>2</th>\n",
       "      <td>A Chandila</td>\n",
       "      <td>4</td>\n",
       "      <td>7</td>\n",
       "      <td>1</td>\n",
       "      <td>57.142857</td>\n",
       "      <td>4.000000</td>\n",
       "    </tr>\n",
       "    <tr>\n",
       "      <th>3</th>\n",
       "      <td>A Chopra</td>\n",
       "      <td>53</td>\n",
       "      <td>75</td>\n",
       "      <td>5</td>\n",
       "      <td>70.666667</td>\n",
       "      <td>10.600000</td>\n",
       "    </tr>\n",
       "    <tr>\n",
       "      <th>4</th>\n",
       "      <td>A Choudhary</td>\n",
       "      <td>25</td>\n",
       "      <td>20</td>\n",
       "      <td>2</td>\n",
       "      <td>125.000000</td>\n",
       "      <td>12.500000</td>\n",
       "    </tr>\n",
       "  </tbody>\n",
       "</table>\n",
       "</div>"
      ],
      "text/plain": [
       "           batter  runs  balls  outs  strike_rate    average\n",
       "0  A Ashish Reddy   280    196    15   142.857143  18.666667\n",
       "1        A Badoni   634    505    26   125.544554  24.384615\n",
       "2      A Chandila     4      7     1    57.142857   4.000000\n",
       "3        A Chopra    53     75     5    70.666667  10.600000\n",
       "4     A Choudhary    25     20     2   125.000000  12.500000"
      ]
     },
     "execution_count": 207,
     "metadata": {},
     "output_type": "execute_result"
    }
   ],
   "source": [
    "# 🏏 Step 3: Calculate Strike Rate (SR) & Batting Average (Avg)\n",
    "\n",
    "batsman_summary['strike_rate'] = (batsman_summary['runs']/ batsman_summary['balls']) * 100\n",
    "\n",
    "batsman_summary['average'] = batsman_summary['runs']/ batsman_summary['outs']\n",
    "\n",
    "batsman_summary.head()"
   ]
  },
  {
   "cell_type": "code",
   "execution_count": 208,
   "id": "a15e2d23",
   "metadata": {},
   "outputs": [
    {
     "data": {
      "text/html": [
       "<div>\n",
       "<style scoped>\n",
       "    .dataframe tbody tr th:only-of-type {\n",
       "        vertical-align: middle;\n",
       "    }\n",
       "\n",
       "    .dataframe tbody tr th {\n",
       "        vertical-align: top;\n",
       "    }\n",
       "\n",
       "    .dataframe thead th {\n",
       "        text-align: right;\n",
       "    }\n",
       "</style>\n",
       "<table border=\"1\" class=\"dataframe\">\n",
       "  <thead>\n",
       "    <tr style=\"text-align: right;\">\n",
       "      <th></th>\n",
       "      <th>batter</th>\n",
       "      <th>runs</th>\n",
       "      <th>balls</th>\n",
       "      <th>outs</th>\n",
       "      <th>strike_rate</th>\n",
       "      <th>average</th>\n",
       "    </tr>\n",
       "  </thead>\n",
       "  <tbody>\n",
       "    <tr>\n",
       "      <th>631</th>\n",
       "      <td>V Kohli</td>\n",
       "      <td>8014</td>\n",
       "      <td>6236</td>\n",
       "      <td>218</td>\n",
       "      <td>128.511867</td>\n",
       "      <td>36.761468</td>\n",
       "    </tr>\n",
       "    <tr>\n",
       "      <th>512</th>\n",
       "      <td>S Dhawan</td>\n",
       "      <td>6769</td>\n",
       "      <td>5483</td>\n",
       "      <td>194</td>\n",
       "      <td>123.454313</td>\n",
       "      <td>34.891753</td>\n",
       "    </tr>\n",
       "    <tr>\n",
       "      <th>477</th>\n",
       "      <td>RG Sharma</td>\n",
       "      <td>6630</td>\n",
       "      <td>5183</td>\n",
       "      <td>232</td>\n",
       "      <td>127.918194</td>\n",
       "      <td>28.577586</td>\n",
       "    </tr>\n",
       "    <tr>\n",
       "      <th>147</th>\n",
       "      <td>DA Warner</td>\n",
       "      <td>6567</td>\n",
       "      <td>4849</td>\n",
       "      <td>164</td>\n",
       "      <td>135.429986</td>\n",
       "      <td>40.042683</td>\n",
       "    </tr>\n",
       "    <tr>\n",
       "      <th>546</th>\n",
       "      <td>SK Raina</td>\n",
       "      <td>5536</td>\n",
       "      <td>4177</td>\n",
       "      <td>168</td>\n",
       "      <td>132.535312</td>\n",
       "      <td>32.952381</td>\n",
       "    </tr>\n",
       "  </tbody>\n",
       "</table>\n",
       "</div>"
      ],
      "text/plain": [
       "        batter  runs  balls  outs  strike_rate    average\n",
       "631    V Kohli  8014   6236   218   128.511867  36.761468\n",
       "512   S Dhawan  6769   5483   194   123.454313  34.891753\n",
       "477  RG Sharma  6630   5183   232   127.918194  28.577586\n",
       "147  DA Warner  6567   4849   164   135.429986  40.042683\n",
       "546   SK Raina  5536   4177   168   132.535312  32.952381"
      ]
     },
     "execution_count": 208,
     "metadata": {},
     "output_type": "execute_result"
    }
   ],
   "source": [
    "# step 4: Top 50 batsman run wise\n",
    "\n",
    "top50_batsman_summary = batsman_summary.sort_values(by ='runs', ascending = False).iloc[:50]\n",
    "\n",
    "top50_batsman_summary.head()"
   ]
  },
  {
   "cell_type": "code",
   "execution_count": 209,
   "id": "3b78bf33",
   "metadata": {},
   "outputs": [
    {
     "data": {
      "application/vnd.plotly.v1+json": {
       "config": {
        "plotlyServerURL": "https://plot.ly"
       },
       "data": [
        {
         "customdata": [
          [
           "V Kohli"
          ],
          [
           "S Dhawan"
          ],
          [
           "RG Sharma"
          ],
          [
           "DA Warner"
          ],
          [
           "SK Raina"
          ],
          [
           "MS Dhoni"
          ],
          [
           "AB de Villiers"
          ],
          [
           "CH Gayle"
          ],
          [
           "RV Uthappa"
          ],
          [
           "KD Karthik"
          ],
          [
           "KL Rahul"
          ],
          [
           "AM Rahane"
          ],
          [
           "F du Plessis"
          ],
          [
           "SV Samson"
          ],
          [
           "AT Rayudu"
          ],
          [
           "G Gambhir"
          ],
          [
           "SR Watson"
          ],
          [
           "MK Pandey"
          ],
          [
           "SA Yadav"
          ],
          [
           "JC Buttler"
          ],
          [
           "KA Pollard"
          ],
          [
           "RR Pant"
          ],
          [
           "YK Pathan"
          ],
          [
           "Shubman Gill"
          ],
          [
           "Q de Kock"
          ],
          [
           "SS Iyer"
          ],
          [
           "RA Jadeja"
          ],
          [
           "WP Saha"
          ],
          [
           "DA Miller"
          ],
          [
           "BB McCullum"
          ],
          [
           "PA Patel"
          ],
          [
           "GJ Maxwell"
          ],
          [
           "Yuvraj Singh"
          ],
          [
           "V Sehwag"
          ],
          [
           "MA Agarwal"
          ],
          [
           "Ishan Kishan"
          ],
          [
           "N Rana"
          ],
          [
           "M Vijay"
          ],
          [
           "HH Pandya"
          ],
          [
           "SPD Smith"
          ],
          [
           "SE Marsh"
          ],
          [
           "AD Russell"
          ],
          [
           "JH Kallis"
          ],
          [
           "DR Smith"
          ],
          [
           "RD Gaikwad"
          ],
          [
           "SR Tendulkar"
          ],
          [
           "RA Tripathi"
          ],
          [
           "R Dravid"
          ],
          [
           "KS Williamson"
          ],
          [
           "AJ Finch"
          ]
         ],
         "hovertemplate": "average=%{x}<br>strike_rate=%{y}<br>batter=%{customdata[0]}<extra></extra>",
         "legendgroup": "",
         "marker": {
          "color": "#636efa",
          "symbol": "circle"
         },
         "mode": "markers",
         "name": "",
         "orientation": "v",
         "showlegend": false,
         "type": "scatter",
         "x": {
          "bdata": "Fw6ix3dhQkAN283yJHJBQMs9jbDckzxAJWpXonYFRECe53me53lAQO0etr4NmEFA001iEFi5REAAAAAAAIVDQEMWspCF7DpA/Sn1p9SfOUDtc0hNMB5GQBqkQRqkwT1AYhBYObRIQkDVk/HbpR4/QK+hvIbymjxAywOSda48P0CzLMuyLMs+QD5g9oDZAz1At23btm0LQEBVVVVVValCQGlL2pK2pDpAAAAAAAAsQUBvMEU+6wY9QK0pa8qaskJAVoZvRIFJP0AyMjIyMrI+QExnMZ3F9DlAy6BUmHg/OEB6nud5nmdBQK7sc0hNMDtAm81ms9lsNkCRz7rBFPk4QEL0+C4cRDlA9qGxPjTWO0BPIyz3NAI3QOEQDuEQDj1AiMkVxOQKPEAAAAAAAAA7QGg84xnPeDxAy7d8y7f8P0BXaqVWaiVDQOh5nud5nj1AhCIUoQhFO0Acx3Ecx3E9QAAAAAAAQEVA+e1ST8ZvQEBYpAw83Zo7QGDvmBrYOzxAJ3VfHlsRQkB6nud5nuc4QA==",
          "dtype": "f8"
         },
         "xaxis": "x",
         "y": {
          "bdata": "aj0GNmEQYEAz5Tl4E91eQLuDK7HD+l9A4OgVccLtYEAP6oVHIZFgQEKeaNm4mmBAM9VY+pKSYkAV5rY05cNhQGWQz/C+iV9AOf2XFU9rYEDcrZWyoGFgQJzhfPuRFF5AzOSGSkiiYEBHKuZWZ+RgQKwO3ORoJV9A6b7f3pHqXUABOcUBOcVgQM5ccX5vV11AqfYluTDQYUAnsjHBpcdhQDmPaYGljmFAg/MxOB/zYUBA03MQe0FhQHkN5TWUh2BAwtljwtljYEBGhK1zosFeQJMeCr2qG19AG0yRz7r5XkB6T7o859VgQMr47VJPtl9ADQG/vQsoXUCk2Rmbos9iQGox6sM5Ml9A03FpRXeaYkBpDTNBLghgQNj+rtmFmWBAH1XeFjRaYECoN73pTaddQLj/IgwfdmFA4FiWdv4zX0Blo1NHg0NgQK09+Xcuh2RAsnry4ut7WkD5eITx8YhgQMncANI/tGBAwIABAwaMXEDxwQcffPBgQE7hTCA5VlxA6a1xNfm8XkBDaoLxVtZeQA==",
          "dtype": "f8"
         },
         "yaxis": "y"
        }
       ],
       "layout": {
        "legend": {
         "tracegroupgap": 0
        },
        "margin": {
         "t": 60
        },
        "template": {
         "data": {
          "bar": [
           {
            "error_x": {
             "color": "#2a3f5f"
            },
            "error_y": {
             "color": "#2a3f5f"
            },
            "marker": {
             "line": {
              "color": "#E5ECF6",
              "width": 0.5
             },
             "pattern": {
              "fillmode": "overlay",
              "size": 10,
              "solidity": 0.2
             }
            },
            "type": "bar"
           }
          ],
          "barpolar": [
           {
            "marker": {
             "line": {
              "color": "#E5ECF6",
              "width": 0.5
             },
             "pattern": {
              "fillmode": "overlay",
              "size": 10,
              "solidity": 0.2
             }
            },
            "type": "barpolar"
           }
          ],
          "carpet": [
           {
            "aaxis": {
             "endlinecolor": "#2a3f5f",
             "gridcolor": "white",
             "linecolor": "white",
             "minorgridcolor": "white",
             "startlinecolor": "#2a3f5f"
            },
            "baxis": {
             "endlinecolor": "#2a3f5f",
             "gridcolor": "white",
             "linecolor": "white",
             "minorgridcolor": "white",
             "startlinecolor": "#2a3f5f"
            },
            "type": "carpet"
           }
          ],
          "choropleth": [
           {
            "colorbar": {
             "outlinewidth": 0,
             "ticks": ""
            },
            "type": "choropleth"
           }
          ],
          "contour": [
           {
            "colorbar": {
             "outlinewidth": 0,
             "ticks": ""
            },
            "colorscale": [
             [
              0,
              "#0d0887"
             ],
             [
              0.1111111111111111,
              "#46039f"
             ],
             [
              0.2222222222222222,
              "#7201a8"
             ],
             [
              0.3333333333333333,
              "#9c179e"
             ],
             [
              0.4444444444444444,
              "#bd3786"
             ],
             [
              0.5555555555555556,
              "#d8576b"
             ],
             [
              0.6666666666666666,
              "#ed7953"
             ],
             [
              0.7777777777777778,
              "#fb9f3a"
             ],
             [
              0.8888888888888888,
              "#fdca26"
             ],
             [
              1,
              "#f0f921"
             ]
            ],
            "type": "contour"
           }
          ],
          "contourcarpet": [
           {
            "colorbar": {
             "outlinewidth": 0,
             "ticks": ""
            },
            "type": "contourcarpet"
           }
          ],
          "heatmap": [
           {
            "colorbar": {
             "outlinewidth": 0,
             "ticks": ""
            },
            "colorscale": [
             [
              0,
              "#0d0887"
             ],
             [
              0.1111111111111111,
              "#46039f"
             ],
             [
              0.2222222222222222,
              "#7201a8"
             ],
             [
              0.3333333333333333,
              "#9c179e"
             ],
             [
              0.4444444444444444,
              "#bd3786"
             ],
             [
              0.5555555555555556,
              "#d8576b"
             ],
             [
              0.6666666666666666,
              "#ed7953"
             ],
             [
              0.7777777777777778,
              "#fb9f3a"
             ],
             [
              0.8888888888888888,
              "#fdca26"
             ],
             [
              1,
              "#f0f921"
             ]
            ],
            "type": "heatmap"
           }
          ],
          "histogram": [
           {
            "marker": {
             "pattern": {
              "fillmode": "overlay",
              "size": 10,
              "solidity": 0.2
             }
            },
            "type": "histogram"
           }
          ],
          "histogram2d": [
           {
            "colorbar": {
             "outlinewidth": 0,
             "ticks": ""
            },
            "colorscale": [
             [
              0,
              "#0d0887"
             ],
             [
              0.1111111111111111,
              "#46039f"
             ],
             [
              0.2222222222222222,
              "#7201a8"
             ],
             [
              0.3333333333333333,
              "#9c179e"
             ],
             [
              0.4444444444444444,
              "#bd3786"
             ],
             [
              0.5555555555555556,
              "#d8576b"
             ],
             [
              0.6666666666666666,
              "#ed7953"
             ],
             [
              0.7777777777777778,
              "#fb9f3a"
             ],
             [
              0.8888888888888888,
              "#fdca26"
             ],
             [
              1,
              "#f0f921"
             ]
            ],
            "type": "histogram2d"
           }
          ],
          "histogram2dcontour": [
           {
            "colorbar": {
             "outlinewidth": 0,
             "ticks": ""
            },
            "colorscale": [
             [
              0,
              "#0d0887"
             ],
             [
              0.1111111111111111,
              "#46039f"
             ],
             [
              0.2222222222222222,
              "#7201a8"
             ],
             [
              0.3333333333333333,
              "#9c179e"
             ],
             [
              0.4444444444444444,
              "#bd3786"
             ],
             [
              0.5555555555555556,
              "#d8576b"
             ],
             [
              0.6666666666666666,
              "#ed7953"
             ],
             [
              0.7777777777777778,
              "#fb9f3a"
             ],
             [
              0.8888888888888888,
              "#fdca26"
             ],
             [
              1,
              "#f0f921"
             ]
            ],
            "type": "histogram2dcontour"
           }
          ],
          "mesh3d": [
           {
            "colorbar": {
             "outlinewidth": 0,
             "ticks": ""
            },
            "type": "mesh3d"
           }
          ],
          "parcoords": [
           {
            "line": {
             "colorbar": {
              "outlinewidth": 0,
              "ticks": ""
             }
            },
            "type": "parcoords"
           }
          ],
          "pie": [
           {
            "automargin": true,
            "type": "pie"
           }
          ],
          "scatter": [
           {
            "fillpattern": {
             "fillmode": "overlay",
             "size": 10,
             "solidity": 0.2
            },
            "type": "scatter"
           }
          ],
          "scatter3d": [
           {
            "line": {
             "colorbar": {
              "outlinewidth": 0,
              "ticks": ""
             }
            },
            "marker": {
             "colorbar": {
              "outlinewidth": 0,
              "ticks": ""
             }
            },
            "type": "scatter3d"
           }
          ],
          "scattercarpet": [
           {
            "marker": {
             "colorbar": {
              "outlinewidth": 0,
              "ticks": ""
             }
            },
            "type": "scattercarpet"
           }
          ],
          "scattergeo": [
           {
            "marker": {
             "colorbar": {
              "outlinewidth": 0,
              "ticks": ""
             }
            },
            "type": "scattergeo"
           }
          ],
          "scattergl": [
           {
            "marker": {
             "colorbar": {
              "outlinewidth": 0,
              "ticks": ""
             }
            },
            "type": "scattergl"
           }
          ],
          "scattermap": [
           {
            "marker": {
             "colorbar": {
              "outlinewidth": 0,
              "ticks": ""
             }
            },
            "type": "scattermap"
           }
          ],
          "scattermapbox": [
           {
            "marker": {
             "colorbar": {
              "outlinewidth": 0,
              "ticks": ""
             }
            },
            "type": "scattermapbox"
           }
          ],
          "scatterpolar": [
           {
            "marker": {
             "colorbar": {
              "outlinewidth": 0,
              "ticks": ""
             }
            },
            "type": "scatterpolar"
           }
          ],
          "scatterpolargl": [
           {
            "marker": {
             "colorbar": {
              "outlinewidth": 0,
              "ticks": ""
             }
            },
            "type": "scatterpolargl"
           }
          ],
          "scatterternary": [
           {
            "marker": {
             "colorbar": {
              "outlinewidth": 0,
              "ticks": ""
             }
            },
            "type": "scatterternary"
           }
          ],
          "surface": [
           {
            "colorbar": {
             "outlinewidth": 0,
             "ticks": ""
            },
            "colorscale": [
             [
              0,
              "#0d0887"
             ],
             [
              0.1111111111111111,
              "#46039f"
             ],
             [
              0.2222222222222222,
              "#7201a8"
             ],
             [
              0.3333333333333333,
              "#9c179e"
             ],
             [
              0.4444444444444444,
              "#bd3786"
             ],
             [
              0.5555555555555556,
              "#d8576b"
             ],
             [
              0.6666666666666666,
              "#ed7953"
             ],
             [
              0.7777777777777778,
              "#fb9f3a"
             ],
             [
              0.8888888888888888,
              "#fdca26"
             ],
             [
              1,
              "#f0f921"
             ]
            ],
            "type": "surface"
           }
          ],
          "table": [
           {
            "cells": {
             "fill": {
              "color": "#EBF0F8"
             },
             "line": {
              "color": "white"
             }
            },
            "header": {
             "fill": {
              "color": "#C8D4E3"
             },
             "line": {
              "color": "white"
             }
            },
            "type": "table"
           }
          ]
         },
         "layout": {
          "annotationdefaults": {
           "arrowcolor": "#2a3f5f",
           "arrowhead": 0,
           "arrowwidth": 1
          },
          "autotypenumbers": "strict",
          "coloraxis": {
           "colorbar": {
            "outlinewidth": 0,
            "ticks": ""
           }
          },
          "colorscale": {
           "diverging": [
            [
             0,
             "#8e0152"
            ],
            [
             0.1,
             "#c51b7d"
            ],
            [
             0.2,
             "#de77ae"
            ],
            [
             0.3,
             "#f1b6da"
            ],
            [
             0.4,
             "#fde0ef"
            ],
            [
             0.5,
             "#f7f7f7"
            ],
            [
             0.6,
             "#e6f5d0"
            ],
            [
             0.7,
             "#b8e186"
            ],
            [
             0.8,
             "#7fbc41"
            ],
            [
             0.9,
             "#4d9221"
            ],
            [
             1,
             "#276419"
            ]
           ],
           "sequential": [
            [
             0,
             "#0d0887"
            ],
            [
             0.1111111111111111,
             "#46039f"
            ],
            [
             0.2222222222222222,
             "#7201a8"
            ],
            [
             0.3333333333333333,
             "#9c179e"
            ],
            [
             0.4444444444444444,
             "#bd3786"
            ],
            [
             0.5555555555555556,
             "#d8576b"
            ],
            [
             0.6666666666666666,
             "#ed7953"
            ],
            [
             0.7777777777777778,
             "#fb9f3a"
            ],
            [
             0.8888888888888888,
             "#fdca26"
            ],
            [
             1,
             "#f0f921"
            ]
           ],
           "sequentialminus": [
            [
             0,
             "#0d0887"
            ],
            [
             0.1111111111111111,
             "#46039f"
            ],
            [
             0.2222222222222222,
             "#7201a8"
            ],
            [
             0.3333333333333333,
             "#9c179e"
            ],
            [
             0.4444444444444444,
             "#bd3786"
            ],
            [
             0.5555555555555556,
             "#d8576b"
            ],
            [
             0.6666666666666666,
             "#ed7953"
            ],
            [
             0.7777777777777778,
             "#fb9f3a"
            ],
            [
             0.8888888888888888,
             "#fdca26"
            ],
            [
             1,
             "#f0f921"
            ]
           ]
          },
          "colorway": [
           "#636efa",
           "#EF553B",
           "#00cc96",
           "#ab63fa",
           "#FFA15A",
           "#19d3f3",
           "#FF6692",
           "#B6E880",
           "#FF97FF",
           "#FECB52"
          ],
          "font": {
           "color": "#2a3f5f"
          },
          "geo": {
           "bgcolor": "white",
           "lakecolor": "white",
           "landcolor": "#E5ECF6",
           "showlakes": true,
           "showland": true,
           "subunitcolor": "white"
          },
          "hoverlabel": {
           "align": "left"
          },
          "hovermode": "closest",
          "mapbox": {
           "style": "light"
          },
          "paper_bgcolor": "white",
          "plot_bgcolor": "#E5ECF6",
          "polar": {
           "angularaxis": {
            "gridcolor": "white",
            "linecolor": "white",
            "ticks": ""
           },
           "bgcolor": "#E5ECF6",
           "radialaxis": {
            "gridcolor": "white",
            "linecolor": "white",
            "ticks": ""
           }
          },
          "scene": {
           "xaxis": {
            "backgroundcolor": "#E5ECF6",
            "gridcolor": "white",
            "gridwidth": 2,
            "linecolor": "white",
            "showbackground": true,
            "ticks": "",
            "zerolinecolor": "white"
           },
           "yaxis": {
            "backgroundcolor": "#E5ECF6",
            "gridcolor": "white",
            "gridwidth": 2,
            "linecolor": "white",
            "showbackground": true,
            "ticks": "",
            "zerolinecolor": "white"
           },
           "zaxis": {
            "backgroundcolor": "#E5ECF6",
            "gridcolor": "white",
            "gridwidth": 2,
            "linecolor": "white",
            "showbackground": true,
            "ticks": "",
            "zerolinecolor": "white"
           }
          },
          "shapedefaults": {
           "line": {
            "color": "#2a3f5f"
           }
          },
          "ternary": {
           "aaxis": {
            "gridcolor": "white",
            "linecolor": "white",
            "ticks": ""
           },
           "baxis": {
            "gridcolor": "white",
            "linecolor": "white",
            "ticks": ""
           },
           "bgcolor": "#E5ECF6",
           "caxis": {
            "gridcolor": "white",
            "linecolor": "white",
            "ticks": ""
           }
          },
          "title": {
           "x": 0.05
          },
          "xaxis": {
           "automargin": true,
           "gridcolor": "white",
           "linecolor": "white",
           "ticks": "",
           "title": {
            "standoff": 15
           },
           "zerolinecolor": "white",
           "zerolinewidth": 2
          },
          "yaxis": {
           "automargin": true,
           "gridcolor": "white",
           "linecolor": "white",
           "ticks": "",
           "title": {
            "standoff": 15
           },
           "zerolinecolor": "white",
           "zerolinewidth": 2
          }
         }
        },
        "xaxis": {
         "anchor": "y",
         "domain": [
          0,
          1
         ],
         "title": {
          "text": "average"
         }
        },
        "yaxis": {
         "anchor": "x",
         "domain": [
          0,
          1
         ],
         "title": {
          "text": "strike_rate"
         }
        }
       }
      }
     },
     "metadata": {},
     "output_type": "display_data"
    }
   ],
   "source": [
    "# 🏏 Step 5: Plotting\n",
    "\n",
    "px.scatter(top50_batsman_summary, x = 'average', y = 'strike_rate', hover_data= 'batter')"
   ]
  },
  {
   "cell_type": "code",
   "execution_count": 210,
   "id": "3399e647",
   "metadata": {},
   "outputs": [
    {
     "data": {
      "application/vnd.plotly.v1+json": {
       "config": {
        "plotlyServerURL": "https://plot.ly"
       },
       "data": [
        {
         "mode": "markers",
         "type": "scatter",
         "x": {
          "bdata": "Fw6ix3dhQkAN283yJHJBQMs9jbDckzxAJWpXonYFRECe53me53lAQO0etr4NmEFA001iEFi5REAAAAAAAIVDQEMWspCF7DpA/Sn1p9SfOUDtc0hNMB5GQBqkQRqkwT1AYhBYObRIQkDVk/HbpR4/QK+hvIbymjxAywOSda48P0CzLMuyLMs+QD5g9oDZAz1At23btm0LQEBVVVVVValCQGlL2pK2pDpAAAAAAAAsQUBvMEU+6wY9QK0pa8qaskJAVoZvRIFJP0AyMjIyMrI+QExnMZ3F9DlAy6BUmHg/OEB6nud5nmdBQK7sc0hNMDtAm81ms9lsNkCRz7rBFPk4QEL0+C4cRDlA9qGxPjTWO0BPIyz3NAI3QOEQDuEQDj1AiMkVxOQKPEAAAAAAAAA7QGg84xnPeDxAy7d8y7f8P0BXaqVWaiVDQOh5nud5nj1AhCIUoQhFO0Acx3Ecx3E9QAAAAAAAQEVA+e1ST8ZvQEBYpAw83Zo7QGDvmBrYOzxAJ3VfHlsRQkB6nud5nuc4QA==",
          "dtype": "f8"
         },
         "y": {
          "bdata": "aj0GNmEQYEAz5Tl4E91eQLuDK7HD+l9A4OgVccLtYEAP6oVHIZFgQEKeaNm4mmBAM9VY+pKSYkAV5rY05cNhQGWQz/C+iV9AOf2XFU9rYEDcrZWyoGFgQJzhfPuRFF5AzOSGSkiiYEBHKuZWZ+RgQKwO3ORoJV9A6b7f3pHqXUABOcUBOcVgQM5ccX5vV11AqfYluTDQYUAnsjHBpcdhQDmPaYGljmFAg/MxOB/zYUBA03MQe0FhQHkN5TWUh2BAwtljwtljYEBGhK1zosFeQJMeCr2qG19AG0yRz7r5XkB6T7o859VgQMr47VJPtl9ADQG/vQsoXUCk2Rmbos9iQGox6sM5Ml9A03FpRXeaYkBpDTNBLghgQNj+rtmFmWBAH1XeFjRaYECoN73pTaddQLj/IgwfdmFA4FiWdv4zX0Blo1NHg0NgQK09+Xcuh2RAsnry4ut7WkD5eITx8YhgQMncANI/tGBAwIABAwaMXEDxwQcffPBgQE7hTCA5VlxA6a1xNfm8XkBDaoLxVtZeQA==",
          "dtype": "f8"
         }
        }
       ],
       "layout": {
        "template": {
         "data": {
          "bar": [
           {
            "error_x": {
             "color": "#2a3f5f"
            },
            "error_y": {
             "color": "#2a3f5f"
            },
            "marker": {
             "line": {
              "color": "#E5ECF6",
              "width": 0.5
             },
             "pattern": {
              "fillmode": "overlay",
              "size": 10,
              "solidity": 0.2
             }
            },
            "type": "bar"
           }
          ],
          "barpolar": [
           {
            "marker": {
             "line": {
              "color": "#E5ECF6",
              "width": 0.5
             },
             "pattern": {
              "fillmode": "overlay",
              "size": 10,
              "solidity": 0.2
             }
            },
            "type": "barpolar"
           }
          ],
          "carpet": [
           {
            "aaxis": {
             "endlinecolor": "#2a3f5f",
             "gridcolor": "white",
             "linecolor": "white",
             "minorgridcolor": "white",
             "startlinecolor": "#2a3f5f"
            },
            "baxis": {
             "endlinecolor": "#2a3f5f",
             "gridcolor": "white",
             "linecolor": "white",
             "minorgridcolor": "white",
             "startlinecolor": "#2a3f5f"
            },
            "type": "carpet"
           }
          ],
          "choropleth": [
           {
            "colorbar": {
             "outlinewidth": 0,
             "ticks": ""
            },
            "type": "choropleth"
           }
          ],
          "contour": [
           {
            "colorbar": {
             "outlinewidth": 0,
             "ticks": ""
            },
            "colorscale": [
             [
              0,
              "#0d0887"
             ],
             [
              0.1111111111111111,
              "#46039f"
             ],
             [
              0.2222222222222222,
              "#7201a8"
             ],
             [
              0.3333333333333333,
              "#9c179e"
             ],
             [
              0.4444444444444444,
              "#bd3786"
             ],
             [
              0.5555555555555556,
              "#d8576b"
             ],
             [
              0.6666666666666666,
              "#ed7953"
             ],
             [
              0.7777777777777778,
              "#fb9f3a"
             ],
             [
              0.8888888888888888,
              "#fdca26"
             ],
             [
              1,
              "#f0f921"
             ]
            ],
            "type": "contour"
           }
          ],
          "contourcarpet": [
           {
            "colorbar": {
             "outlinewidth": 0,
             "ticks": ""
            },
            "type": "contourcarpet"
           }
          ],
          "heatmap": [
           {
            "colorbar": {
             "outlinewidth": 0,
             "ticks": ""
            },
            "colorscale": [
             [
              0,
              "#0d0887"
             ],
             [
              0.1111111111111111,
              "#46039f"
             ],
             [
              0.2222222222222222,
              "#7201a8"
             ],
             [
              0.3333333333333333,
              "#9c179e"
             ],
             [
              0.4444444444444444,
              "#bd3786"
             ],
             [
              0.5555555555555556,
              "#d8576b"
             ],
             [
              0.6666666666666666,
              "#ed7953"
             ],
             [
              0.7777777777777778,
              "#fb9f3a"
             ],
             [
              0.8888888888888888,
              "#fdca26"
             ],
             [
              1,
              "#f0f921"
             ]
            ],
            "type": "heatmap"
           }
          ],
          "histogram": [
           {
            "marker": {
             "pattern": {
              "fillmode": "overlay",
              "size": 10,
              "solidity": 0.2
             }
            },
            "type": "histogram"
           }
          ],
          "histogram2d": [
           {
            "colorbar": {
             "outlinewidth": 0,
             "ticks": ""
            },
            "colorscale": [
             [
              0,
              "#0d0887"
             ],
             [
              0.1111111111111111,
              "#46039f"
             ],
             [
              0.2222222222222222,
              "#7201a8"
             ],
             [
              0.3333333333333333,
              "#9c179e"
             ],
             [
              0.4444444444444444,
              "#bd3786"
             ],
             [
              0.5555555555555556,
              "#d8576b"
             ],
             [
              0.6666666666666666,
              "#ed7953"
             ],
             [
              0.7777777777777778,
              "#fb9f3a"
             ],
             [
              0.8888888888888888,
              "#fdca26"
             ],
             [
              1,
              "#f0f921"
             ]
            ],
            "type": "histogram2d"
           }
          ],
          "histogram2dcontour": [
           {
            "colorbar": {
             "outlinewidth": 0,
             "ticks": ""
            },
            "colorscale": [
             [
              0,
              "#0d0887"
             ],
             [
              0.1111111111111111,
              "#46039f"
             ],
             [
              0.2222222222222222,
              "#7201a8"
             ],
             [
              0.3333333333333333,
              "#9c179e"
             ],
             [
              0.4444444444444444,
              "#bd3786"
             ],
             [
              0.5555555555555556,
              "#d8576b"
             ],
             [
              0.6666666666666666,
              "#ed7953"
             ],
             [
              0.7777777777777778,
              "#fb9f3a"
             ],
             [
              0.8888888888888888,
              "#fdca26"
             ],
             [
              1,
              "#f0f921"
             ]
            ],
            "type": "histogram2dcontour"
           }
          ],
          "mesh3d": [
           {
            "colorbar": {
             "outlinewidth": 0,
             "ticks": ""
            },
            "type": "mesh3d"
           }
          ],
          "parcoords": [
           {
            "line": {
             "colorbar": {
              "outlinewidth": 0,
              "ticks": ""
             }
            },
            "type": "parcoords"
           }
          ],
          "pie": [
           {
            "automargin": true,
            "type": "pie"
           }
          ],
          "scatter": [
           {
            "fillpattern": {
             "fillmode": "overlay",
             "size": 10,
             "solidity": 0.2
            },
            "type": "scatter"
           }
          ],
          "scatter3d": [
           {
            "line": {
             "colorbar": {
              "outlinewidth": 0,
              "ticks": ""
             }
            },
            "marker": {
             "colorbar": {
              "outlinewidth": 0,
              "ticks": ""
             }
            },
            "type": "scatter3d"
           }
          ],
          "scattercarpet": [
           {
            "marker": {
             "colorbar": {
              "outlinewidth": 0,
              "ticks": ""
             }
            },
            "type": "scattercarpet"
           }
          ],
          "scattergeo": [
           {
            "marker": {
             "colorbar": {
              "outlinewidth": 0,
              "ticks": ""
             }
            },
            "type": "scattergeo"
           }
          ],
          "scattergl": [
           {
            "marker": {
             "colorbar": {
              "outlinewidth": 0,
              "ticks": ""
             }
            },
            "type": "scattergl"
           }
          ],
          "scattermap": [
           {
            "marker": {
             "colorbar": {
              "outlinewidth": 0,
              "ticks": ""
             }
            },
            "type": "scattermap"
           }
          ],
          "scattermapbox": [
           {
            "marker": {
             "colorbar": {
              "outlinewidth": 0,
              "ticks": ""
             }
            },
            "type": "scattermapbox"
           }
          ],
          "scatterpolar": [
           {
            "marker": {
             "colorbar": {
              "outlinewidth": 0,
              "ticks": ""
             }
            },
            "type": "scatterpolar"
           }
          ],
          "scatterpolargl": [
           {
            "marker": {
             "colorbar": {
              "outlinewidth": 0,
              "ticks": ""
             }
            },
            "type": "scatterpolargl"
           }
          ],
          "scatterternary": [
           {
            "marker": {
             "colorbar": {
              "outlinewidth": 0,
              "ticks": ""
             }
            },
            "type": "scatterternary"
           }
          ],
          "surface": [
           {
            "colorbar": {
             "outlinewidth": 0,
             "ticks": ""
            },
            "colorscale": [
             [
              0,
              "#0d0887"
             ],
             [
              0.1111111111111111,
              "#46039f"
             ],
             [
              0.2222222222222222,
              "#7201a8"
             ],
             [
              0.3333333333333333,
              "#9c179e"
             ],
             [
              0.4444444444444444,
              "#bd3786"
             ],
             [
              0.5555555555555556,
              "#d8576b"
             ],
             [
              0.6666666666666666,
              "#ed7953"
             ],
             [
              0.7777777777777778,
              "#fb9f3a"
             ],
             [
              0.8888888888888888,
              "#fdca26"
             ],
             [
              1,
              "#f0f921"
             ]
            ],
            "type": "surface"
           }
          ],
          "table": [
           {
            "cells": {
             "fill": {
              "color": "#EBF0F8"
             },
             "line": {
              "color": "white"
             }
            },
            "header": {
             "fill": {
              "color": "#C8D4E3"
             },
             "line": {
              "color": "white"
             }
            },
            "type": "table"
           }
          ]
         },
         "layout": {
          "annotationdefaults": {
           "arrowcolor": "#2a3f5f",
           "arrowhead": 0,
           "arrowwidth": 1
          },
          "autotypenumbers": "strict",
          "coloraxis": {
           "colorbar": {
            "outlinewidth": 0,
            "ticks": ""
           }
          },
          "colorscale": {
           "diverging": [
            [
             0,
             "#8e0152"
            ],
            [
             0.1,
             "#c51b7d"
            ],
            [
             0.2,
             "#de77ae"
            ],
            [
             0.3,
             "#f1b6da"
            ],
            [
             0.4,
             "#fde0ef"
            ],
            [
             0.5,
             "#f7f7f7"
            ],
            [
             0.6,
             "#e6f5d0"
            ],
            [
             0.7,
             "#b8e186"
            ],
            [
             0.8,
             "#7fbc41"
            ],
            [
             0.9,
             "#4d9221"
            ],
            [
             1,
             "#276419"
            ]
           ],
           "sequential": [
            [
             0,
             "#0d0887"
            ],
            [
             0.1111111111111111,
             "#46039f"
            ],
            [
             0.2222222222222222,
             "#7201a8"
            ],
            [
             0.3333333333333333,
             "#9c179e"
            ],
            [
             0.4444444444444444,
             "#bd3786"
            ],
            [
             0.5555555555555556,
             "#d8576b"
            ],
            [
             0.6666666666666666,
             "#ed7953"
            ],
            [
             0.7777777777777778,
             "#fb9f3a"
            ],
            [
             0.8888888888888888,
             "#fdca26"
            ],
            [
             1,
             "#f0f921"
            ]
           ],
           "sequentialminus": [
            [
             0,
             "#0d0887"
            ],
            [
             0.1111111111111111,
             "#46039f"
            ],
            [
             0.2222222222222222,
             "#7201a8"
            ],
            [
             0.3333333333333333,
             "#9c179e"
            ],
            [
             0.4444444444444444,
             "#bd3786"
            ],
            [
             0.5555555555555556,
             "#d8576b"
            ],
            [
             0.6666666666666666,
             "#ed7953"
            ],
            [
             0.7777777777777778,
             "#fb9f3a"
            ],
            [
             0.8888888888888888,
             "#fdca26"
            ],
            [
             1,
             "#f0f921"
            ]
           ]
          },
          "colorway": [
           "#636efa",
           "#EF553B",
           "#00cc96",
           "#ab63fa",
           "#FFA15A",
           "#19d3f3",
           "#FF6692",
           "#B6E880",
           "#FF97FF",
           "#FECB52"
          ],
          "font": {
           "color": "#2a3f5f"
          },
          "geo": {
           "bgcolor": "white",
           "lakecolor": "white",
           "landcolor": "#E5ECF6",
           "showlakes": true,
           "showland": true,
           "subunitcolor": "white"
          },
          "hoverlabel": {
           "align": "left"
          },
          "hovermode": "closest",
          "mapbox": {
           "style": "light"
          },
          "paper_bgcolor": "white",
          "plot_bgcolor": "#E5ECF6",
          "polar": {
           "angularaxis": {
            "gridcolor": "white",
            "linecolor": "white",
            "ticks": ""
           },
           "bgcolor": "#E5ECF6",
           "radialaxis": {
            "gridcolor": "white",
            "linecolor": "white",
            "ticks": ""
           }
          },
          "scene": {
           "xaxis": {
            "backgroundcolor": "#E5ECF6",
            "gridcolor": "white",
            "gridwidth": 2,
            "linecolor": "white",
            "showbackground": true,
            "ticks": "",
            "zerolinecolor": "white"
           },
           "yaxis": {
            "backgroundcolor": "#E5ECF6",
            "gridcolor": "white",
            "gridwidth": 2,
            "linecolor": "white",
            "showbackground": true,
            "ticks": "",
            "zerolinecolor": "white"
           },
           "zaxis": {
            "backgroundcolor": "#E5ECF6",
            "gridcolor": "white",
            "gridwidth": 2,
            "linecolor": "white",
            "showbackground": true,
            "ticks": "",
            "zerolinecolor": "white"
           }
          },
          "shapedefaults": {
           "line": {
            "color": "#2a3f5f"
           }
          },
          "ternary": {
           "aaxis": {
            "gridcolor": "white",
            "linecolor": "white",
            "ticks": ""
           },
           "baxis": {
            "gridcolor": "white",
            "linecolor": "white",
            "ticks": ""
           },
           "bgcolor": "#E5ECF6",
           "caxis": {
            "gridcolor": "white",
            "linecolor": "white",
            "ticks": ""
           }
          },
          "title": {
           "x": 0.05
          },
          "xaxis": {
           "automargin": true,
           "gridcolor": "white",
           "linecolor": "white",
           "ticks": "",
           "title": {
            "standoff": 15
           },
           "zerolinecolor": "white",
           "zerolinewidth": 2
          },
          "yaxis": {
           "automargin": true,
           "gridcolor": "white",
           "linecolor": "white",
           "ticks": "",
           "title": {
            "standoff": 15
           },
           "zerolinecolor": "white",
           "zerolinewidth": 2
          }
         }
        },
        "title": {
         "text": "Strike Rate Vs Average"
        },
        "xaxis": {
         "title": {
          "text": "Average"
         }
        },
        "yaxis": {
         "title": {
          "text": "Strike Rate"
         }
        }
       }
      }
     },
     "metadata": {},
     "output_type": "display_data"
    }
   ],
   "source": [
    "# Scatter PLot using GO\n",
    "\n",
    "trace1 = go.Scatter(x= top50_batsman_summary['average'],\n",
    "                    y= top50_batsman_summary['strike_rate'],\n",
    "                    mode= 'markers',\n",
    "                    )\n",
    "\n",
    "layout = go.Layout(title= 'Strike Rate Vs Average',\n",
    "                   xaxis={'title' : 'Average'},\n",
    "                   yaxis={'title': 'Strike Rate'})\n",
    "\n",
    "fig = go.Figure(data = [trace1], layout = layout)\n",
    "\n",
    "fig.show()"
   ]
  },
  {
   "cell_type": "markdown",
   "id": "ac885287",
   "metadata": {},
   "source": [
    "<span style=\"font-size: 16px;\"> <b> 🎯 ***Question:*** How can we add batsman name when hovering over the datapoint? </span> </b>\n",
    "***Answer:*** hovertext"
   ]
  },
  {
   "cell_type": "code",
   "execution_count": 211,
   "id": "29d5fec4",
   "metadata": {},
   "outputs": [
    {
     "data": {
      "application/vnd.plotly.v1+json": {
       "config": {
        "plotlyServerURL": "https://plot.ly"
       },
       "data": [
        {
         "hovertext": [
          "V Kohli",
          "S Dhawan",
          "RG Sharma",
          "DA Warner",
          "SK Raina",
          "MS Dhoni",
          "AB de Villiers",
          "CH Gayle",
          "RV Uthappa",
          "KD Karthik",
          "KL Rahul",
          "AM Rahane",
          "F du Plessis",
          "SV Samson",
          "AT Rayudu",
          "G Gambhir",
          "SR Watson",
          "MK Pandey",
          "SA Yadav",
          "JC Buttler",
          "KA Pollard",
          "RR Pant",
          "YK Pathan",
          "Shubman Gill",
          "Q de Kock",
          "SS Iyer",
          "RA Jadeja",
          "WP Saha",
          "DA Miller",
          "BB McCullum",
          "PA Patel",
          "GJ Maxwell",
          "Yuvraj Singh",
          "V Sehwag",
          "MA Agarwal",
          "Ishan Kishan",
          "N Rana",
          "M Vijay",
          "HH Pandya",
          "SPD Smith",
          "SE Marsh",
          "AD Russell",
          "JH Kallis",
          "DR Smith",
          "RD Gaikwad",
          "SR Tendulkar",
          "RA Tripathi",
          "R Dravid",
          "KS Williamson",
          "AJ Finch"
         ],
         "mode": "markers",
         "type": "scatter",
         "x": {
          "bdata": "Fw6ix3dhQkAN283yJHJBQMs9jbDckzxAJWpXonYFRECe53me53lAQO0etr4NmEFA001iEFi5REAAAAAAAIVDQEMWspCF7DpA/Sn1p9SfOUDtc0hNMB5GQBqkQRqkwT1AYhBYObRIQkDVk/HbpR4/QK+hvIbymjxAywOSda48P0CzLMuyLMs+QD5g9oDZAz1At23btm0LQEBVVVVVValCQGlL2pK2pDpAAAAAAAAsQUBvMEU+6wY9QK0pa8qaskJAVoZvRIFJP0AyMjIyMrI+QExnMZ3F9DlAy6BUmHg/OEB6nud5nmdBQK7sc0hNMDtAm81ms9lsNkCRz7rBFPk4QEL0+C4cRDlA9qGxPjTWO0BPIyz3NAI3QOEQDuEQDj1AiMkVxOQKPEAAAAAAAAA7QGg84xnPeDxAy7d8y7f8P0BXaqVWaiVDQOh5nud5nj1AhCIUoQhFO0Acx3Ecx3E9QAAAAAAAQEVA+e1ST8ZvQEBYpAw83Zo7QGDvmBrYOzxAJ3VfHlsRQkB6nud5nuc4QA==",
          "dtype": "f8"
         },
         "y": {
          "bdata": "aj0GNmEQYEAz5Tl4E91eQLuDK7HD+l9A4OgVccLtYEAP6oVHIZFgQEKeaNm4mmBAM9VY+pKSYkAV5rY05cNhQGWQz/C+iV9AOf2XFU9rYEDcrZWyoGFgQJzhfPuRFF5AzOSGSkiiYEBHKuZWZ+RgQKwO3ORoJV9A6b7f3pHqXUABOcUBOcVgQM5ccX5vV11AqfYluTDQYUAnsjHBpcdhQDmPaYGljmFAg/MxOB/zYUBA03MQe0FhQHkN5TWUh2BAwtljwtljYEBGhK1zosFeQJMeCr2qG19AG0yRz7r5XkB6T7o859VgQMr47VJPtl9ADQG/vQsoXUCk2Rmbos9iQGox6sM5Ml9A03FpRXeaYkBpDTNBLghgQNj+rtmFmWBAH1XeFjRaYECoN73pTaddQLj/IgwfdmFA4FiWdv4zX0Blo1NHg0NgQK09+Xcuh2RAsnry4ut7WkD5eITx8YhgQMncANI/tGBAwIABAwaMXEDxwQcffPBgQE7hTCA5VlxA6a1xNfm8XkBDaoLxVtZeQA==",
          "dtype": "f8"
         }
        }
       ],
       "layout": {
        "template": {
         "data": {
          "bar": [
           {
            "error_x": {
             "color": "#2a3f5f"
            },
            "error_y": {
             "color": "#2a3f5f"
            },
            "marker": {
             "line": {
              "color": "#E5ECF6",
              "width": 0.5
             },
             "pattern": {
              "fillmode": "overlay",
              "size": 10,
              "solidity": 0.2
             }
            },
            "type": "bar"
           }
          ],
          "barpolar": [
           {
            "marker": {
             "line": {
              "color": "#E5ECF6",
              "width": 0.5
             },
             "pattern": {
              "fillmode": "overlay",
              "size": 10,
              "solidity": 0.2
             }
            },
            "type": "barpolar"
           }
          ],
          "carpet": [
           {
            "aaxis": {
             "endlinecolor": "#2a3f5f",
             "gridcolor": "white",
             "linecolor": "white",
             "minorgridcolor": "white",
             "startlinecolor": "#2a3f5f"
            },
            "baxis": {
             "endlinecolor": "#2a3f5f",
             "gridcolor": "white",
             "linecolor": "white",
             "minorgridcolor": "white",
             "startlinecolor": "#2a3f5f"
            },
            "type": "carpet"
           }
          ],
          "choropleth": [
           {
            "colorbar": {
             "outlinewidth": 0,
             "ticks": ""
            },
            "type": "choropleth"
           }
          ],
          "contour": [
           {
            "colorbar": {
             "outlinewidth": 0,
             "ticks": ""
            },
            "colorscale": [
             [
              0,
              "#0d0887"
             ],
             [
              0.1111111111111111,
              "#46039f"
             ],
             [
              0.2222222222222222,
              "#7201a8"
             ],
             [
              0.3333333333333333,
              "#9c179e"
             ],
             [
              0.4444444444444444,
              "#bd3786"
             ],
             [
              0.5555555555555556,
              "#d8576b"
             ],
             [
              0.6666666666666666,
              "#ed7953"
             ],
             [
              0.7777777777777778,
              "#fb9f3a"
             ],
             [
              0.8888888888888888,
              "#fdca26"
             ],
             [
              1,
              "#f0f921"
             ]
            ],
            "type": "contour"
           }
          ],
          "contourcarpet": [
           {
            "colorbar": {
             "outlinewidth": 0,
             "ticks": ""
            },
            "type": "contourcarpet"
           }
          ],
          "heatmap": [
           {
            "colorbar": {
             "outlinewidth": 0,
             "ticks": ""
            },
            "colorscale": [
             [
              0,
              "#0d0887"
             ],
             [
              0.1111111111111111,
              "#46039f"
             ],
             [
              0.2222222222222222,
              "#7201a8"
             ],
             [
              0.3333333333333333,
              "#9c179e"
             ],
             [
              0.4444444444444444,
              "#bd3786"
             ],
             [
              0.5555555555555556,
              "#d8576b"
             ],
             [
              0.6666666666666666,
              "#ed7953"
             ],
             [
              0.7777777777777778,
              "#fb9f3a"
             ],
             [
              0.8888888888888888,
              "#fdca26"
             ],
             [
              1,
              "#f0f921"
             ]
            ],
            "type": "heatmap"
           }
          ],
          "histogram": [
           {
            "marker": {
             "pattern": {
              "fillmode": "overlay",
              "size": 10,
              "solidity": 0.2
             }
            },
            "type": "histogram"
           }
          ],
          "histogram2d": [
           {
            "colorbar": {
             "outlinewidth": 0,
             "ticks": ""
            },
            "colorscale": [
             [
              0,
              "#0d0887"
             ],
             [
              0.1111111111111111,
              "#46039f"
             ],
             [
              0.2222222222222222,
              "#7201a8"
             ],
             [
              0.3333333333333333,
              "#9c179e"
             ],
             [
              0.4444444444444444,
              "#bd3786"
             ],
             [
              0.5555555555555556,
              "#d8576b"
             ],
             [
              0.6666666666666666,
              "#ed7953"
             ],
             [
              0.7777777777777778,
              "#fb9f3a"
             ],
             [
              0.8888888888888888,
              "#fdca26"
             ],
             [
              1,
              "#f0f921"
             ]
            ],
            "type": "histogram2d"
           }
          ],
          "histogram2dcontour": [
           {
            "colorbar": {
             "outlinewidth": 0,
             "ticks": ""
            },
            "colorscale": [
             [
              0,
              "#0d0887"
             ],
             [
              0.1111111111111111,
              "#46039f"
             ],
             [
              0.2222222222222222,
              "#7201a8"
             ],
             [
              0.3333333333333333,
              "#9c179e"
             ],
             [
              0.4444444444444444,
              "#bd3786"
             ],
             [
              0.5555555555555556,
              "#d8576b"
             ],
             [
              0.6666666666666666,
              "#ed7953"
             ],
             [
              0.7777777777777778,
              "#fb9f3a"
             ],
             [
              0.8888888888888888,
              "#fdca26"
             ],
             [
              1,
              "#f0f921"
             ]
            ],
            "type": "histogram2dcontour"
           }
          ],
          "mesh3d": [
           {
            "colorbar": {
             "outlinewidth": 0,
             "ticks": ""
            },
            "type": "mesh3d"
           }
          ],
          "parcoords": [
           {
            "line": {
             "colorbar": {
              "outlinewidth": 0,
              "ticks": ""
             }
            },
            "type": "parcoords"
           }
          ],
          "pie": [
           {
            "automargin": true,
            "type": "pie"
           }
          ],
          "scatter": [
           {
            "fillpattern": {
             "fillmode": "overlay",
             "size": 10,
             "solidity": 0.2
            },
            "type": "scatter"
           }
          ],
          "scatter3d": [
           {
            "line": {
             "colorbar": {
              "outlinewidth": 0,
              "ticks": ""
             }
            },
            "marker": {
             "colorbar": {
              "outlinewidth": 0,
              "ticks": ""
             }
            },
            "type": "scatter3d"
           }
          ],
          "scattercarpet": [
           {
            "marker": {
             "colorbar": {
              "outlinewidth": 0,
              "ticks": ""
             }
            },
            "type": "scattercarpet"
           }
          ],
          "scattergeo": [
           {
            "marker": {
             "colorbar": {
              "outlinewidth": 0,
              "ticks": ""
             }
            },
            "type": "scattergeo"
           }
          ],
          "scattergl": [
           {
            "marker": {
             "colorbar": {
              "outlinewidth": 0,
              "ticks": ""
             }
            },
            "type": "scattergl"
           }
          ],
          "scattermap": [
           {
            "marker": {
             "colorbar": {
              "outlinewidth": 0,
              "ticks": ""
             }
            },
            "type": "scattermap"
           }
          ],
          "scattermapbox": [
           {
            "marker": {
             "colorbar": {
              "outlinewidth": 0,
              "ticks": ""
             }
            },
            "type": "scattermapbox"
           }
          ],
          "scatterpolar": [
           {
            "marker": {
             "colorbar": {
              "outlinewidth": 0,
              "ticks": ""
             }
            },
            "type": "scatterpolar"
           }
          ],
          "scatterpolargl": [
           {
            "marker": {
             "colorbar": {
              "outlinewidth": 0,
              "ticks": ""
             }
            },
            "type": "scatterpolargl"
           }
          ],
          "scatterternary": [
           {
            "marker": {
             "colorbar": {
              "outlinewidth": 0,
              "ticks": ""
             }
            },
            "type": "scatterternary"
           }
          ],
          "surface": [
           {
            "colorbar": {
             "outlinewidth": 0,
             "ticks": ""
            },
            "colorscale": [
             [
              0,
              "#0d0887"
             ],
             [
              0.1111111111111111,
              "#46039f"
             ],
             [
              0.2222222222222222,
              "#7201a8"
             ],
             [
              0.3333333333333333,
              "#9c179e"
             ],
             [
              0.4444444444444444,
              "#bd3786"
             ],
             [
              0.5555555555555556,
              "#d8576b"
             ],
             [
              0.6666666666666666,
              "#ed7953"
             ],
             [
              0.7777777777777778,
              "#fb9f3a"
             ],
             [
              0.8888888888888888,
              "#fdca26"
             ],
             [
              1,
              "#f0f921"
             ]
            ],
            "type": "surface"
           }
          ],
          "table": [
           {
            "cells": {
             "fill": {
              "color": "#EBF0F8"
             },
             "line": {
              "color": "white"
             }
            },
            "header": {
             "fill": {
              "color": "#C8D4E3"
             },
             "line": {
              "color": "white"
             }
            },
            "type": "table"
           }
          ]
         },
         "layout": {
          "annotationdefaults": {
           "arrowcolor": "#2a3f5f",
           "arrowhead": 0,
           "arrowwidth": 1
          },
          "autotypenumbers": "strict",
          "coloraxis": {
           "colorbar": {
            "outlinewidth": 0,
            "ticks": ""
           }
          },
          "colorscale": {
           "diverging": [
            [
             0,
             "#8e0152"
            ],
            [
             0.1,
             "#c51b7d"
            ],
            [
             0.2,
             "#de77ae"
            ],
            [
             0.3,
             "#f1b6da"
            ],
            [
             0.4,
             "#fde0ef"
            ],
            [
             0.5,
             "#f7f7f7"
            ],
            [
             0.6,
             "#e6f5d0"
            ],
            [
             0.7,
             "#b8e186"
            ],
            [
             0.8,
             "#7fbc41"
            ],
            [
             0.9,
             "#4d9221"
            ],
            [
             1,
             "#276419"
            ]
           ],
           "sequential": [
            [
             0,
             "#0d0887"
            ],
            [
             0.1111111111111111,
             "#46039f"
            ],
            [
             0.2222222222222222,
             "#7201a8"
            ],
            [
             0.3333333333333333,
             "#9c179e"
            ],
            [
             0.4444444444444444,
             "#bd3786"
            ],
            [
             0.5555555555555556,
             "#d8576b"
            ],
            [
             0.6666666666666666,
             "#ed7953"
            ],
            [
             0.7777777777777778,
             "#fb9f3a"
            ],
            [
             0.8888888888888888,
             "#fdca26"
            ],
            [
             1,
             "#f0f921"
            ]
           ],
           "sequentialminus": [
            [
             0,
             "#0d0887"
            ],
            [
             0.1111111111111111,
             "#46039f"
            ],
            [
             0.2222222222222222,
             "#7201a8"
            ],
            [
             0.3333333333333333,
             "#9c179e"
            ],
            [
             0.4444444444444444,
             "#bd3786"
            ],
            [
             0.5555555555555556,
             "#d8576b"
            ],
            [
             0.6666666666666666,
             "#ed7953"
            ],
            [
             0.7777777777777778,
             "#fb9f3a"
            ],
            [
             0.8888888888888888,
             "#fdca26"
            ],
            [
             1,
             "#f0f921"
            ]
           ]
          },
          "colorway": [
           "#636efa",
           "#EF553B",
           "#00cc96",
           "#ab63fa",
           "#FFA15A",
           "#19d3f3",
           "#FF6692",
           "#B6E880",
           "#FF97FF",
           "#FECB52"
          ],
          "font": {
           "color": "#2a3f5f"
          },
          "geo": {
           "bgcolor": "white",
           "lakecolor": "white",
           "landcolor": "#E5ECF6",
           "showlakes": true,
           "showland": true,
           "subunitcolor": "white"
          },
          "hoverlabel": {
           "align": "left"
          },
          "hovermode": "closest",
          "mapbox": {
           "style": "light"
          },
          "paper_bgcolor": "white",
          "plot_bgcolor": "#E5ECF6",
          "polar": {
           "angularaxis": {
            "gridcolor": "white",
            "linecolor": "white",
            "ticks": ""
           },
           "bgcolor": "#E5ECF6",
           "radialaxis": {
            "gridcolor": "white",
            "linecolor": "white",
            "ticks": ""
           }
          },
          "scene": {
           "xaxis": {
            "backgroundcolor": "#E5ECF6",
            "gridcolor": "white",
            "gridwidth": 2,
            "linecolor": "white",
            "showbackground": true,
            "ticks": "",
            "zerolinecolor": "white"
           },
           "yaxis": {
            "backgroundcolor": "#E5ECF6",
            "gridcolor": "white",
            "gridwidth": 2,
            "linecolor": "white",
            "showbackground": true,
            "ticks": "",
            "zerolinecolor": "white"
           },
           "zaxis": {
            "backgroundcolor": "#E5ECF6",
            "gridcolor": "white",
            "gridwidth": 2,
            "linecolor": "white",
            "showbackground": true,
            "ticks": "",
            "zerolinecolor": "white"
           }
          },
          "shapedefaults": {
           "line": {
            "color": "#2a3f5f"
           }
          },
          "ternary": {
           "aaxis": {
            "gridcolor": "white",
            "linecolor": "white",
            "ticks": ""
           },
           "baxis": {
            "gridcolor": "white",
            "linecolor": "white",
            "ticks": ""
           },
           "bgcolor": "#E5ECF6",
           "caxis": {
            "gridcolor": "white",
            "linecolor": "white",
            "ticks": ""
           }
          },
          "title": {
           "x": 0.05
          },
          "xaxis": {
           "automargin": true,
           "gridcolor": "white",
           "linecolor": "white",
           "ticks": "",
           "title": {
            "standoff": 15
           },
           "zerolinecolor": "white",
           "zerolinewidth": 2
          },
          "yaxis": {
           "automargin": true,
           "gridcolor": "white",
           "linecolor": "white",
           "ticks": "",
           "title": {
            "standoff": 15
           },
           "zerolinecolor": "white",
           "zerolinewidth": 2
          }
         }
        },
        "title": {
         "text": "Strike Rate Vs Average"
        },
        "xaxis": {
         "title": {
          "text": "Average"
         }
        },
        "yaxis": {
         "title": {
          "text": "Strike Rate"
         }
        }
       }
      }
     },
     "metadata": {},
     "output_type": "display_data"
    }
   ],
   "source": [
    "trace1 = go.Scatter(x= top50_batsman_summary['average'],\n",
    "                    y= top50_batsman_summary['strike_rate'],\n",
    "                    mode= 'markers',\n",
    "                    hovertext=top50_batsman_summary['batter'])\n",
    "\n",
    "layout = go.Layout(title= 'Strike Rate Vs Average',\n",
    "                   xaxis={'title' : 'Average'},\n",
    "                   yaxis={'title': 'Strike Rate'})\n",
    "\n",
    "fig = go.Figure(data = [trace1], layout = layout)\n",
    "\n",
    "fig.show()"
   ]
  },
  {
   "cell_type": "markdown",
   "id": "727850fe",
   "metadata": {},
   "source": [
    "<span style=\"font-size: 18px;\"> <b> 🎯 ***Question:*** How can we change the color of the data point? </span> </b>"
   ]
  },
  {
   "cell_type": "code",
   "execution_count": 212,
   "id": "b97ca90c",
   "metadata": {},
   "outputs": [
    {
     "data": {
      "application/vnd.plotly.v1+json": {
       "config": {
        "plotlyServerURL": "https://plot.ly"
       },
       "data": [
        {
         "hovertext": [
          "V Kohli",
          "S Dhawan",
          "RG Sharma",
          "DA Warner",
          "SK Raina",
          "MS Dhoni",
          "AB de Villiers",
          "CH Gayle",
          "RV Uthappa",
          "KD Karthik",
          "KL Rahul",
          "AM Rahane",
          "F du Plessis",
          "SV Samson",
          "AT Rayudu",
          "G Gambhir",
          "SR Watson",
          "MK Pandey",
          "SA Yadav",
          "JC Buttler",
          "KA Pollard",
          "RR Pant",
          "YK Pathan",
          "Shubman Gill",
          "Q de Kock",
          "SS Iyer",
          "RA Jadeja",
          "WP Saha",
          "DA Miller",
          "BB McCullum",
          "PA Patel",
          "GJ Maxwell",
          "Yuvraj Singh",
          "V Sehwag",
          "MA Agarwal",
          "Ishan Kishan",
          "N Rana",
          "M Vijay",
          "HH Pandya",
          "SPD Smith",
          "SE Marsh",
          "AD Russell",
          "JH Kallis",
          "DR Smith",
          "RD Gaikwad",
          "SR Tendulkar",
          "RA Tripathi",
          "R Dravid",
          "KS Williamson",
          "AJ Finch"
         ],
         "marker": {
          "color": {
           "bdata": "Th9xGuYZpxmgFXsUPRSFE1oT6xJREiIS2xFDEfwQeRAoDxMPCg7/DW0N4QyWDJAMWAw7DI8LdgtsC0ILIAvUCsIKqAptClQKTAo7CuYJvwm5CbgJewlRCUwJHgm8CH4IVAgsCA==",
           "dtype": "i2"
          },
          "showscale": true
         },
         "mode": "markers",
         "type": "scatter",
         "x": {
          "bdata": "Fw6ix3dhQkAN283yJHJBQMs9jbDckzxAJWpXonYFRECe53me53lAQO0etr4NmEFA001iEFi5REAAAAAAAIVDQEMWspCF7DpA/Sn1p9SfOUDtc0hNMB5GQBqkQRqkwT1AYhBYObRIQkDVk/HbpR4/QK+hvIbymjxAywOSda48P0CzLMuyLMs+QD5g9oDZAz1At23btm0LQEBVVVVVValCQGlL2pK2pDpAAAAAAAAsQUBvMEU+6wY9QK0pa8qaskJAVoZvRIFJP0AyMjIyMrI+QExnMZ3F9DlAy6BUmHg/OEB6nud5nmdBQK7sc0hNMDtAm81ms9lsNkCRz7rBFPk4QEL0+C4cRDlA9qGxPjTWO0BPIyz3NAI3QOEQDuEQDj1AiMkVxOQKPEAAAAAAAAA7QGg84xnPeDxAy7d8y7f8P0BXaqVWaiVDQOh5nud5nj1AhCIUoQhFO0Acx3Ecx3E9QAAAAAAAQEVA+e1ST8ZvQEBYpAw83Zo7QGDvmBrYOzxAJ3VfHlsRQkB6nud5nuc4QA==",
          "dtype": "f8"
         },
         "y": {
          "bdata": "aj0GNmEQYEAz5Tl4E91eQLuDK7HD+l9A4OgVccLtYEAP6oVHIZFgQEKeaNm4mmBAM9VY+pKSYkAV5rY05cNhQGWQz/C+iV9AOf2XFU9rYEDcrZWyoGFgQJzhfPuRFF5AzOSGSkiiYEBHKuZWZ+RgQKwO3ORoJV9A6b7f3pHqXUABOcUBOcVgQM5ccX5vV11AqfYluTDQYUAnsjHBpcdhQDmPaYGljmFAg/MxOB/zYUBA03MQe0FhQHkN5TWUh2BAwtljwtljYEBGhK1zosFeQJMeCr2qG19AG0yRz7r5XkB6T7o859VgQMr47VJPtl9ADQG/vQsoXUCk2Rmbos9iQGox6sM5Ml9A03FpRXeaYkBpDTNBLghgQNj+rtmFmWBAH1XeFjRaYECoN73pTaddQLj/IgwfdmFA4FiWdv4zX0Blo1NHg0NgQK09+Xcuh2RAsnry4ut7WkD5eITx8YhgQMncANI/tGBAwIABAwaMXEDxwQcffPBgQE7hTCA5VlxA6a1xNfm8XkBDaoLxVtZeQA==",
          "dtype": "f8"
         }
        }
       ],
       "layout": {
        "template": {
         "data": {
          "bar": [
           {
            "error_x": {
             "color": "#2a3f5f"
            },
            "error_y": {
             "color": "#2a3f5f"
            },
            "marker": {
             "line": {
              "color": "#E5ECF6",
              "width": 0.5
             },
             "pattern": {
              "fillmode": "overlay",
              "size": 10,
              "solidity": 0.2
             }
            },
            "type": "bar"
           }
          ],
          "barpolar": [
           {
            "marker": {
             "line": {
              "color": "#E5ECF6",
              "width": 0.5
             },
             "pattern": {
              "fillmode": "overlay",
              "size": 10,
              "solidity": 0.2
             }
            },
            "type": "barpolar"
           }
          ],
          "carpet": [
           {
            "aaxis": {
             "endlinecolor": "#2a3f5f",
             "gridcolor": "white",
             "linecolor": "white",
             "minorgridcolor": "white",
             "startlinecolor": "#2a3f5f"
            },
            "baxis": {
             "endlinecolor": "#2a3f5f",
             "gridcolor": "white",
             "linecolor": "white",
             "minorgridcolor": "white",
             "startlinecolor": "#2a3f5f"
            },
            "type": "carpet"
           }
          ],
          "choropleth": [
           {
            "colorbar": {
             "outlinewidth": 0,
             "ticks": ""
            },
            "type": "choropleth"
           }
          ],
          "contour": [
           {
            "colorbar": {
             "outlinewidth": 0,
             "ticks": ""
            },
            "colorscale": [
             [
              0,
              "#0d0887"
             ],
             [
              0.1111111111111111,
              "#46039f"
             ],
             [
              0.2222222222222222,
              "#7201a8"
             ],
             [
              0.3333333333333333,
              "#9c179e"
             ],
             [
              0.4444444444444444,
              "#bd3786"
             ],
             [
              0.5555555555555556,
              "#d8576b"
             ],
             [
              0.6666666666666666,
              "#ed7953"
             ],
             [
              0.7777777777777778,
              "#fb9f3a"
             ],
             [
              0.8888888888888888,
              "#fdca26"
             ],
             [
              1,
              "#f0f921"
             ]
            ],
            "type": "contour"
           }
          ],
          "contourcarpet": [
           {
            "colorbar": {
             "outlinewidth": 0,
             "ticks": ""
            },
            "type": "contourcarpet"
           }
          ],
          "heatmap": [
           {
            "colorbar": {
             "outlinewidth": 0,
             "ticks": ""
            },
            "colorscale": [
             [
              0,
              "#0d0887"
             ],
             [
              0.1111111111111111,
              "#46039f"
             ],
             [
              0.2222222222222222,
              "#7201a8"
             ],
             [
              0.3333333333333333,
              "#9c179e"
             ],
             [
              0.4444444444444444,
              "#bd3786"
             ],
             [
              0.5555555555555556,
              "#d8576b"
             ],
             [
              0.6666666666666666,
              "#ed7953"
             ],
             [
              0.7777777777777778,
              "#fb9f3a"
             ],
             [
              0.8888888888888888,
              "#fdca26"
             ],
             [
              1,
              "#f0f921"
             ]
            ],
            "type": "heatmap"
           }
          ],
          "histogram": [
           {
            "marker": {
             "pattern": {
              "fillmode": "overlay",
              "size": 10,
              "solidity": 0.2
             }
            },
            "type": "histogram"
           }
          ],
          "histogram2d": [
           {
            "colorbar": {
             "outlinewidth": 0,
             "ticks": ""
            },
            "colorscale": [
             [
              0,
              "#0d0887"
             ],
             [
              0.1111111111111111,
              "#46039f"
             ],
             [
              0.2222222222222222,
              "#7201a8"
             ],
             [
              0.3333333333333333,
              "#9c179e"
             ],
             [
              0.4444444444444444,
              "#bd3786"
             ],
             [
              0.5555555555555556,
              "#d8576b"
             ],
             [
              0.6666666666666666,
              "#ed7953"
             ],
             [
              0.7777777777777778,
              "#fb9f3a"
             ],
             [
              0.8888888888888888,
              "#fdca26"
             ],
             [
              1,
              "#f0f921"
             ]
            ],
            "type": "histogram2d"
           }
          ],
          "histogram2dcontour": [
           {
            "colorbar": {
             "outlinewidth": 0,
             "ticks": ""
            },
            "colorscale": [
             [
              0,
              "#0d0887"
             ],
             [
              0.1111111111111111,
              "#46039f"
             ],
             [
              0.2222222222222222,
              "#7201a8"
             ],
             [
              0.3333333333333333,
              "#9c179e"
             ],
             [
              0.4444444444444444,
              "#bd3786"
             ],
             [
              0.5555555555555556,
              "#d8576b"
             ],
             [
              0.6666666666666666,
              "#ed7953"
             ],
             [
              0.7777777777777778,
              "#fb9f3a"
             ],
             [
              0.8888888888888888,
              "#fdca26"
             ],
             [
              1,
              "#f0f921"
             ]
            ],
            "type": "histogram2dcontour"
           }
          ],
          "mesh3d": [
           {
            "colorbar": {
             "outlinewidth": 0,
             "ticks": ""
            },
            "type": "mesh3d"
           }
          ],
          "parcoords": [
           {
            "line": {
             "colorbar": {
              "outlinewidth": 0,
              "ticks": ""
             }
            },
            "type": "parcoords"
           }
          ],
          "pie": [
           {
            "automargin": true,
            "type": "pie"
           }
          ],
          "scatter": [
           {
            "fillpattern": {
             "fillmode": "overlay",
             "size": 10,
             "solidity": 0.2
            },
            "type": "scatter"
           }
          ],
          "scatter3d": [
           {
            "line": {
             "colorbar": {
              "outlinewidth": 0,
              "ticks": ""
             }
            },
            "marker": {
             "colorbar": {
              "outlinewidth": 0,
              "ticks": ""
             }
            },
            "type": "scatter3d"
           }
          ],
          "scattercarpet": [
           {
            "marker": {
             "colorbar": {
              "outlinewidth": 0,
              "ticks": ""
             }
            },
            "type": "scattercarpet"
           }
          ],
          "scattergeo": [
           {
            "marker": {
             "colorbar": {
              "outlinewidth": 0,
              "ticks": ""
             }
            },
            "type": "scattergeo"
           }
          ],
          "scattergl": [
           {
            "marker": {
             "colorbar": {
              "outlinewidth": 0,
              "ticks": ""
             }
            },
            "type": "scattergl"
           }
          ],
          "scattermap": [
           {
            "marker": {
             "colorbar": {
              "outlinewidth": 0,
              "ticks": ""
             }
            },
            "type": "scattermap"
           }
          ],
          "scattermapbox": [
           {
            "marker": {
             "colorbar": {
              "outlinewidth": 0,
              "ticks": ""
             }
            },
            "type": "scattermapbox"
           }
          ],
          "scatterpolar": [
           {
            "marker": {
             "colorbar": {
              "outlinewidth": 0,
              "ticks": ""
             }
            },
            "type": "scatterpolar"
           }
          ],
          "scatterpolargl": [
           {
            "marker": {
             "colorbar": {
              "outlinewidth": 0,
              "ticks": ""
             }
            },
            "type": "scatterpolargl"
           }
          ],
          "scatterternary": [
           {
            "marker": {
             "colorbar": {
              "outlinewidth": 0,
              "ticks": ""
             }
            },
            "type": "scatterternary"
           }
          ],
          "surface": [
           {
            "colorbar": {
             "outlinewidth": 0,
             "ticks": ""
            },
            "colorscale": [
             [
              0,
              "#0d0887"
             ],
             [
              0.1111111111111111,
              "#46039f"
             ],
             [
              0.2222222222222222,
              "#7201a8"
             ],
             [
              0.3333333333333333,
              "#9c179e"
             ],
             [
              0.4444444444444444,
              "#bd3786"
             ],
             [
              0.5555555555555556,
              "#d8576b"
             ],
             [
              0.6666666666666666,
              "#ed7953"
             ],
             [
              0.7777777777777778,
              "#fb9f3a"
             ],
             [
              0.8888888888888888,
              "#fdca26"
             ],
             [
              1,
              "#f0f921"
             ]
            ],
            "type": "surface"
           }
          ],
          "table": [
           {
            "cells": {
             "fill": {
              "color": "#EBF0F8"
             },
             "line": {
              "color": "white"
             }
            },
            "header": {
             "fill": {
              "color": "#C8D4E3"
             },
             "line": {
              "color": "white"
             }
            },
            "type": "table"
           }
          ]
         },
         "layout": {
          "annotationdefaults": {
           "arrowcolor": "#2a3f5f",
           "arrowhead": 0,
           "arrowwidth": 1
          },
          "autotypenumbers": "strict",
          "coloraxis": {
           "colorbar": {
            "outlinewidth": 0,
            "ticks": ""
           }
          },
          "colorscale": {
           "diverging": [
            [
             0,
             "#8e0152"
            ],
            [
             0.1,
             "#c51b7d"
            ],
            [
             0.2,
             "#de77ae"
            ],
            [
             0.3,
             "#f1b6da"
            ],
            [
             0.4,
             "#fde0ef"
            ],
            [
             0.5,
             "#f7f7f7"
            ],
            [
             0.6,
             "#e6f5d0"
            ],
            [
             0.7,
             "#b8e186"
            ],
            [
             0.8,
             "#7fbc41"
            ],
            [
             0.9,
             "#4d9221"
            ],
            [
             1,
             "#276419"
            ]
           ],
           "sequential": [
            [
             0,
             "#0d0887"
            ],
            [
             0.1111111111111111,
             "#46039f"
            ],
            [
             0.2222222222222222,
             "#7201a8"
            ],
            [
             0.3333333333333333,
             "#9c179e"
            ],
            [
             0.4444444444444444,
             "#bd3786"
            ],
            [
             0.5555555555555556,
             "#d8576b"
            ],
            [
             0.6666666666666666,
             "#ed7953"
            ],
            [
             0.7777777777777778,
             "#fb9f3a"
            ],
            [
             0.8888888888888888,
             "#fdca26"
            ],
            [
             1,
             "#f0f921"
            ]
           ],
           "sequentialminus": [
            [
             0,
             "#0d0887"
            ],
            [
             0.1111111111111111,
             "#46039f"
            ],
            [
             0.2222222222222222,
             "#7201a8"
            ],
            [
             0.3333333333333333,
             "#9c179e"
            ],
            [
             0.4444444444444444,
             "#bd3786"
            ],
            [
             0.5555555555555556,
             "#d8576b"
            ],
            [
             0.6666666666666666,
             "#ed7953"
            ],
            [
             0.7777777777777778,
             "#fb9f3a"
            ],
            [
             0.8888888888888888,
             "#fdca26"
            ],
            [
             1,
             "#f0f921"
            ]
           ]
          },
          "colorway": [
           "#636efa",
           "#EF553B",
           "#00cc96",
           "#ab63fa",
           "#FFA15A",
           "#19d3f3",
           "#FF6692",
           "#B6E880",
           "#FF97FF",
           "#FECB52"
          ],
          "font": {
           "color": "#2a3f5f"
          },
          "geo": {
           "bgcolor": "white",
           "lakecolor": "white",
           "landcolor": "#E5ECF6",
           "showlakes": true,
           "showland": true,
           "subunitcolor": "white"
          },
          "hoverlabel": {
           "align": "left"
          },
          "hovermode": "closest",
          "mapbox": {
           "style": "light"
          },
          "paper_bgcolor": "white",
          "plot_bgcolor": "#E5ECF6",
          "polar": {
           "angularaxis": {
            "gridcolor": "white",
            "linecolor": "white",
            "ticks": ""
           },
           "bgcolor": "#E5ECF6",
           "radialaxis": {
            "gridcolor": "white",
            "linecolor": "white",
            "ticks": ""
           }
          },
          "scene": {
           "xaxis": {
            "backgroundcolor": "#E5ECF6",
            "gridcolor": "white",
            "gridwidth": 2,
            "linecolor": "white",
            "showbackground": true,
            "ticks": "",
            "zerolinecolor": "white"
           },
           "yaxis": {
            "backgroundcolor": "#E5ECF6",
            "gridcolor": "white",
            "gridwidth": 2,
            "linecolor": "white",
            "showbackground": true,
            "ticks": "",
            "zerolinecolor": "white"
           },
           "zaxis": {
            "backgroundcolor": "#E5ECF6",
            "gridcolor": "white",
            "gridwidth": 2,
            "linecolor": "white",
            "showbackground": true,
            "ticks": "",
            "zerolinecolor": "white"
           }
          },
          "shapedefaults": {
           "line": {
            "color": "#2a3f5f"
           }
          },
          "ternary": {
           "aaxis": {
            "gridcolor": "white",
            "linecolor": "white",
            "ticks": ""
           },
           "baxis": {
            "gridcolor": "white",
            "linecolor": "white",
            "ticks": ""
           },
           "bgcolor": "#E5ECF6",
           "caxis": {
            "gridcolor": "white",
            "linecolor": "white",
            "ticks": ""
           }
          },
          "title": {
           "x": 0.05
          },
          "xaxis": {
           "automargin": true,
           "gridcolor": "white",
           "linecolor": "white",
           "ticks": "",
           "title": {
            "standoff": 15
           },
           "zerolinecolor": "white",
           "zerolinewidth": 2
          },
          "yaxis": {
           "automargin": true,
           "gridcolor": "white",
           "linecolor": "white",
           "ticks": "",
           "title": {
            "standoff": 15
           },
           "zerolinecolor": "white",
           "zerolinewidth": 2
          }
         }
        },
        "title": {
         "text": "Strike Rate Vs Average"
        },
        "xaxis": {
         "title": {
          "text": "Average"
         }
        },
        "yaxis": {
         "title": {
          "text": "Strike Rate"
         }
        }
       }
      }
     },
     "metadata": {},
     "output_type": "display_data"
    }
   ],
   "source": [
    "trace1 = go.Scatter(x= top50_batsman_summary['average'],\n",
    "                    y= top50_batsman_summary['strike_rate'],\n",
    "                    mode= 'markers',\n",
    "                    hovertext=top50_batsman_summary['batter'],\n",
    "                    marker = {'color': top50_batsman_summary['runs'], 'showscale': True},\n",
    "                    )\n",
    "\n",
    "layout = go.Layout(title= 'Strike Rate Vs Average',\n",
    "                   xaxis={'title' : 'Average'},\n",
    "                   yaxis={'title': 'Strike Rate'})\n",
    "\n",
    "fig = go.Figure(data = [trace1], layout = layout)\n",
    "\n",
    "fig.show()"
   ]
  },
  {
   "cell_type": "markdown",
   "id": "afc61fc4",
   "metadata": {},
   "source": [
    "<span style=\"font-size: 18px;\"> <b> 🔥 Enhance Your Scatter Plot to the max</span> </b>"
   ]
  },
  {
   "cell_type": "markdown",
   "id": "57cfba9b",
   "metadata": {},
   "source": [
    "<b>Popular Parameters in marker</b>\n",
    "\n",
    "color → Single color or array of values for each point.\n",
    "\n",
    "colorscale → Continuous scale (Viridis, Plasma, Cividis, Rainbow, etc.).\n",
    "\n",
    "cmin / cmax → Normalize the color scale.\n",
    "\n",
    "showscale → Whether to show the color bar.\n",
    "\n",
    "size → Size of markers (can also be an array, e.g. proportional to runs).\n",
    "\n",
    "opacity → Transparency.\n",
    "\n",
    "symbol → Shape of points (circle, square, diamond, triangle-up, star, hexagon, etc.).\n",
    "\n",
    "line → Border around markers (with width and color)."
   ]
  },
  {
   "cell_type": "code",
   "execution_count": 213,
   "id": "9582dc61",
   "metadata": {},
   "outputs": [
    {
     "data": {
      "application/vnd.plotly.v1+json": {
       "config": {
        "plotlyServerURL": "https://plot.ly"
       },
       "data": [
        {
         "hovertext": [
          "V Kohli",
          "S Dhawan",
          "RG Sharma",
          "DA Warner",
          "SK Raina",
          "MS Dhoni",
          "AB de Villiers",
          "CH Gayle",
          "RV Uthappa",
          "KD Karthik",
          "KL Rahul",
          "AM Rahane",
          "F du Plessis",
          "SV Samson",
          "AT Rayudu",
          "G Gambhir",
          "SR Watson",
          "MK Pandey",
          "SA Yadav",
          "JC Buttler",
          "KA Pollard",
          "RR Pant",
          "YK Pathan",
          "Shubman Gill",
          "Q de Kock",
          "SS Iyer",
          "RA Jadeja",
          "WP Saha",
          "DA Miller",
          "BB McCullum",
          "PA Patel",
          "GJ Maxwell",
          "Yuvraj Singh",
          "V Sehwag",
          "MA Agarwal",
          "Ishan Kishan",
          "N Rana",
          "M Vijay",
          "HH Pandya",
          "SPD Smith",
          "SE Marsh",
          "AD Russell",
          "JH Kallis",
          "DR Smith",
          "RD Gaikwad",
          "SR Tendulkar",
          "RA Tripathi",
          "R Dravid",
          "KS Williamson",
          "AJ Finch"
         ],
         "marker": {
          "color": {
           "bdata": "Th9xGuYZpxmgFXsUPRSFE1oT6xJREiIS2xFDEfwQeRAoDxMPCg7/DW0N4QyWDJAMWAw7DI8LdgtsC0ILIAvUCsIKqAptClQKTAo7CuYJvwm5CbgJewlRCUwJHgm8CH4IVAgsCA==",
           "dtype": "i2"
          },
          "colorscale": [
           [
            0,
            "#0d0887"
           ],
           [
            0.1111111111111111,
            "#46039f"
           ],
           [
            0.2222222222222222,
            "#7201a8"
           ],
           [
            0.3333333333333333,
            "#9c179e"
           ],
           [
            0.4444444444444444,
            "#bd3786"
           ],
           [
            0.5555555555555556,
            "#d8576b"
           ],
           [
            0.6666666666666666,
            "#ed7953"
           ],
           [
            0.7777777777777778,
            "#fb9f3a"
           ],
           [
            0.8888888888888888,
            "#fdca26"
           ],
           [
            1,
            "#f0f921"
           ]
          ],
          "line": {
           "color": "black",
           "width": 2
          },
          "opacity": 0.8,
          "showscale": true,
          "size": {
           "bdata": "wUR/J6vlNkDXo3A9ClczQBZf8RVf8TJAaBcQm0rDMkBZLW+MYKIvQPYoXI/C9S1A5NxnFxCbLUBFfyer5Y0sQL0xgon+TixAYwQT/Z2sK0CCif5OVssqQNAuIDaVhipAH4XrUbgeKkDTkHOfXUApQCLnPruA2ChA9HeyWt4YKEC+4iu+4ismQJ9dQGwqDSZAZbW8MYKJJEAw0d/JankkQKRwPQrXoyNA16NwPQrXIkD87AJiU2kiQDxZLW+MYCJA6qAO6qAOIkB2AbGpNOQhQFbLGyOY6CBADTn32QXEIEAjmOjvZLUgQOaNEUz0dyBA/Z2sljdGIECuR+F6FK4fQDDR38lqeR9ACSb6O1ktH0ClIec+u4AeQBP9nayWNx5Aaci5zy4gHkCB2FQacu4dQPYoXI/C9RxAO6iDOqiDHEC7gNhUGnIcQCb6O1ktbxxAmOjvZLW8G0Ad1EEd1EEbQDMzMzMzMxtAYwQT/Z2sGkBFfyer5Y0ZQCLnPruA2BhAp9KQc59dGEBWyxsjmOgXQA==",
           "dtype": "f8"
          },
          "symbol": "circle"
         },
         "mode": "markers",
         "type": "scatter",
         "x": {
          "bdata": "Fw6ix3dhQkAN283yJHJBQMs9jbDckzxAJWpXonYFRECe53me53lAQO0etr4NmEFA001iEFi5REAAAAAAAIVDQEMWspCF7DpA/Sn1p9SfOUDtc0hNMB5GQBqkQRqkwT1AYhBYObRIQkDVk/HbpR4/QK+hvIbymjxAywOSda48P0CzLMuyLMs+QD5g9oDZAz1At23btm0LQEBVVVVVValCQGlL2pK2pDpAAAAAAAAsQUBvMEU+6wY9QK0pa8qaskJAVoZvRIFJP0AyMjIyMrI+QExnMZ3F9DlAy6BUmHg/OEB6nud5nmdBQK7sc0hNMDtAm81ms9lsNkCRz7rBFPk4QEL0+C4cRDlA9qGxPjTWO0BPIyz3NAI3QOEQDuEQDj1AiMkVxOQKPEAAAAAAAAA7QGg84xnPeDxAy7d8y7f8P0BXaqVWaiVDQOh5nud5nj1AhCIUoQhFO0Acx3Ecx3E9QAAAAAAAQEVA+e1ST8ZvQEBYpAw83Zo7QGDvmBrYOzxAJ3VfHlsRQkB6nud5nuc4QA==",
          "dtype": "f8"
         },
         "y": {
          "bdata": "aj0GNmEQYEAz5Tl4E91eQLuDK7HD+l9A4OgVccLtYEAP6oVHIZFgQEKeaNm4mmBAM9VY+pKSYkAV5rY05cNhQGWQz/C+iV9AOf2XFU9rYEDcrZWyoGFgQJzhfPuRFF5AzOSGSkiiYEBHKuZWZ+RgQKwO3ORoJV9A6b7f3pHqXUABOcUBOcVgQM5ccX5vV11AqfYluTDQYUAnsjHBpcdhQDmPaYGljmFAg/MxOB/zYUBA03MQe0FhQHkN5TWUh2BAwtljwtljYEBGhK1zosFeQJMeCr2qG19AG0yRz7r5XkB6T7o859VgQMr47VJPtl9ADQG/vQsoXUCk2Rmbos9iQGox6sM5Ml9A03FpRXeaYkBpDTNBLghgQNj+rtmFmWBAH1XeFjRaYECoN73pTaddQLj/IgwfdmFA4FiWdv4zX0Blo1NHg0NgQK09+Xcuh2RAsnry4ut7WkD5eITx8YhgQMncANI/tGBAwIABAwaMXEDxwQcffPBgQE7hTCA5VlxA6a1xNfm8XkBDaoLxVtZeQA==",
          "dtype": "f8"
         }
        }
       ],
       "layout": {
        "template": {
         "data": {
          "bar": [
           {
            "error_x": {
             "color": "#2a3f5f"
            },
            "error_y": {
             "color": "#2a3f5f"
            },
            "marker": {
             "line": {
              "color": "#E5ECF6",
              "width": 0.5
             },
             "pattern": {
              "fillmode": "overlay",
              "size": 10,
              "solidity": 0.2
             }
            },
            "type": "bar"
           }
          ],
          "barpolar": [
           {
            "marker": {
             "line": {
              "color": "#E5ECF6",
              "width": 0.5
             },
             "pattern": {
              "fillmode": "overlay",
              "size": 10,
              "solidity": 0.2
             }
            },
            "type": "barpolar"
           }
          ],
          "carpet": [
           {
            "aaxis": {
             "endlinecolor": "#2a3f5f",
             "gridcolor": "white",
             "linecolor": "white",
             "minorgridcolor": "white",
             "startlinecolor": "#2a3f5f"
            },
            "baxis": {
             "endlinecolor": "#2a3f5f",
             "gridcolor": "white",
             "linecolor": "white",
             "minorgridcolor": "white",
             "startlinecolor": "#2a3f5f"
            },
            "type": "carpet"
           }
          ],
          "choropleth": [
           {
            "colorbar": {
             "outlinewidth": 0,
             "ticks": ""
            },
            "type": "choropleth"
           }
          ],
          "contour": [
           {
            "colorbar": {
             "outlinewidth": 0,
             "ticks": ""
            },
            "colorscale": [
             [
              0,
              "#0d0887"
             ],
             [
              0.1111111111111111,
              "#46039f"
             ],
             [
              0.2222222222222222,
              "#7201a8"
             ],
             [
              0.3333333333333333,
              "#9c179e"
             ],
             [
              0.4444444444444444,
              "#bd3786"
             ],
             [
              0.5555555555555556,
              "#d8576b"
             ],
             [
              0.6666666666666666,
              "#ed7953"
             ],
             [
              0.7777777777777778,
              "#fb9f3a"
             ],
             [
              0.8888888888888888,
              "#fdca26"
             ],
             [
              1,
              "#f0f921"
             ]
            ],
            "type": "contour"
           }
          ],
          "contourcarpet": [
           {
            "colorbar": {
             "outlinewidth": 0,
             "ticks": ""
            },
            "type": "contourcarpet"
           }
          ],
          "heatmap": [
           {
            "colorbar": {
             "outlinewidth": 0,
             "ticks": ""
            },
            "colorscale": [
             [
              0,
              "#0d0887"
             ],
             [
              0.1111111111111111,
              "#46039f"
             ],
             [
              0.2222222222222222,
              "#7201a8"
             ],
             [
              0.3333333333333333,
              "#9c179e"
             ],
             [
              0.4444444444444444,
              "#bd3786"
             ],
             [
              0.5555555555555556,
              "#d8576b"
             ],
             [
              0.6666666666666666,
              "#ed7953"
             ],
             [
              0.7777777777777778,
              "#fb9f3a"
             ],
             [
              0.8888888888888888,
              "#fdca26"
             ],
             [
              1,
              "#f0f921"
             ]
            ],
            "type": "heatmap"
           }
          ],
          "histogram": [
           {
            "marker": {
             "pattern": {
              "fillmode": "overlay",
              "size": 10,
              "solidity": 0.2
             }
            },
            "type": "histogram"
           }
          ],
          "histogram2d": [
           {
            "colorbar": {
             "outlinewidth": 0,
             "ticks": ""
            },
            "colorscale": [
             [
              0,
              "#0d0887"
             ],
             [
              0.1111111111111111,
              "#46039f"
             ],
             [
              0.2222222222222222,
              "#7201a8"
             ],
             [
              0.3333333333333333,
              "#9c179e"
             ],
             [
              0.4444444444444444,
              "#bd3786"
             ],
             [
              0.5555555555555556,
              "#d8576b"
             ],
             [
              0.6666666666666666,
              "#ed7953"
             ],
             [
              0.7777777777777778,
              "#fb9f3a"
             ],
             [
              0.8888888888888888,
              "#fdca26"
             ],
             [
              1,
              "#f0f921"
             ]
            ],
            "type": "histogram2d"
           }
          ],
          "histogram2dcontour": [
           {
            "colorbar": {
             "outlinewidth": 0,
             "ticks": ""
            },
            "colorscale": [
             [
              0,
              "#0d0887"
             ],
             [
              0.1111111111111111,
              "#46039f"
             ],
             [
              0.2222222222222222,
              "#7201a8"
             ],
             [
              0.3333333333333333,
              "#9c179e"
             ],
             [
              0.4444444444444444,
              "#bd3786"
             ],
             [
              0.5555555555555556,
              "#d8576b"
             ],
             [
              0.6666666666666666,
              "#ed7953"
             ],
             [
              0.7777777777777778,
              "#fb9f3a"
             ],
             [
              0.8888888888888888,
              "#fdca26"
             ],
             [
              1,
              "#f0f921"
             ]
            ],
            "type": "histogram2dcontour"
           }
          ],
          "mesh3d": [
           {
            "colorbar": {
             "outlinewidth": 0,
             "ticks": ""
            },
            "type": "mesh3d"
           }
          ],
          "parcoords": [
           {
            "line": {
             "colorbar": {
              "outlinewidth": 0,
              "ticks": ""
             }
            },
            "type": "parcoords"
           }
          ],
          "pie": [
           {
            "automargin": true,
            "type": "pie"
           }
          ],
          "scatter": [
           {
            "fillpattern": {
             "fillmode": "overlay",
             "size": 10,
             "solidity": 0.2
            },
            "type": "scatter"
           }
          ],
          "scatter3d": [
           {
            "line": {
             "colorbar": {
              "outlinewidth": 0,
              "ticks": ""
             }
            },
            "marker": {
             "colorbar": {
              "outlinewidth": 0,
              "ticks": ""
             }
            },
            "type": "scatter3d"
           }
          ],
          "scattercarpet": [
           {
            "marker": {
             "colorbar": {
              "outlinewidth": 0,
              "ticks": ""
             }
            },
            "type": "scattercarpet"
           }
          ],
          "scattergeo": [
           {
            "marker": {
             "colorbar": {
              "outlinewidth": 0,
              "ticks": ""
             }
            },
            "type": "scattergeo"
           }
          ],
          "scattergl": [
           {
            "marker": {
             "colorbar": {
              "outlinewidth": 0,
              "ticks": ""
             }
            },
            "type": "scattergl"
           }
          ],
          "scattermap": [
           {
            "marker": {
             "colorbar": {
              "outlinewidth": 0,
              "ticks": ""
             }
            },
            "type": "scattermap"
           }
          ],
          "scattermapbox": [
           {
            "marker": {
             "colorbar": {
              "outlinewidth": 0,
              "ticks": ""
             }
            },
            "type": "scattermapbox"
           }
          ],
          "scatterpolar": [
           {
            "marker": {
             "colorbar": {
              "outlinewidth": 0,
              "ticks": ""
             }
            },
            "type": "scatterpolar"
           }
          ],
          "scatterpolargl": [
           {
            "marker": {
             "colorbar": {
              "outlinewidth": 0,
              "ticks": ""
             }
            },
            "type": "scatterpolargl"
           }
          ],
          "scatterternary": [
           {
            "marker": {
             "colorbar": {
              "outlinewidth": 0,
              "ticks": ""
             }
            },
            "type": "scatterternary"
           }
          ],
          "surface": [
           {
            "colorbar": {
             "outlinewidth": 0,
             "ticks": ""
            },
            "colorscale": [
             [
              0,
              "#0d0887"
             ],
             [
              0.1111111111111111,
              "#46039f"
             ],
             [
              0.2222222222222222,
              "#7201a8"
             ],
             [
              0.3333333333333333,
              "#9c179e"
             ],
             [
              0.4444444444444444,
              "#bd3786"
             ],
             [
              0.5555555555555556,
              "#d8576b"
             ],
             [
              0.6666666666666666,
              "#ed7953"
             ],
             [
              0.7777777777777778,
              "#fb9f3a"
             ],
             [
              0.8888888888888888,
              "#fdca26"
             ],
             [
              1,
              "#f0f921"
             ]
            ],
            "type": "surface"
           }
          ],
          "table": [
           {
            "cells": {
             "fill": {
              "color": "#EBF0F8"
             },
             "line": {
              "color": "white"
             }
            },
            "header": {
             "fill": {
              "color": "#C8D4E3"
             },
             "line": {
              "color": "white"
             }
            },
            "type": "table"
           }
          ]
         },
         "layout": {
          "annotationdefaults": {
           "arrowcolor": "#2a3f5f",
           "arrowhead": 0,
           "arrowwidth": 1
          },
          "autotypenumbers": "strict",
          "coloraxis": {
           "colorbar": {
            "outlinewidth": 0,
            "ticks": ""
           }
          },
          "colorscale": {
           "diverging": [
            [
             0,
             "#8e0152"
            ],
            [
             0.1,
             "#c51b7d"
            ],
            [
             0.2,
             "#de77ae"
            ],
            [
             0.3,
             "#f1b6da"
            ],
            [
             0.4,
             "#fde0ef"
            ],
            [
             0.5,
             "#f7f7f7"
            ],
            [
             0.6,
             "#e6f5d0"
            ],
            [
             0.7,
             "#b8e186"
            ],
            [
             0.8,
             "#7fbc41"
            ],
            [
             0.9,
             "#4d9221"
            ],
            [
             1,
             "#276419"
            ]
           ],
           "sequential": [
            [
             0,
             "#0d0887"
            ],
            [
             0.1111111111111111,
             "#46039f"
            ],
            [
             0.2222222222222222,
             "#7201a8"
            ],
            [
             0.3333333333333333,
             "#9c179e"
            ],
            [
             0.4444444444444444,
             "#bd3786"
            ],
            [
             0.5555555555555556,
             "#d8576b"
            ],
            [
             0.6666666666666666,
             "#ed7953"
            ],
            [
             0.7777777777777778,
             "#fb9f3a"
            ],
            [
             0.8888888888888888,
             "#fdca26"
            ],
            [
             1,
             "#f0f921"
            ]
           ],
           "sequentialminus": [
            [
             0,
             "#0d0887"
            ],
            [
             0.1111111111111111,
             "#46039f"
            ],
            [
             0.2222222222222222,
             "#7201a8"
            ],
            [
             0.3333333333333333,
             "#9c179e"
            ],
            [
             0.4444444444444444,
             "#bd3786"
            ],
            [
             0.5555555555555556,
             "#d8576b"
            ],
            [
             0.6666666666666666,
             "#ed7953"
            ],
            [
             0.7777777777777778,
             "#fb9f3a"
            ],
            [
             0.8888888888888888,
             "#fdca26"
            ],
            [
             1,
             "#f0f921"
            ]
           ]
          },
          "colorway": [
           "#636efa",
           "#EF553B",
           "#00cc96",
           "#ab63fa",
           "#FFA15A",
           "#19d3f3",
           "#FF6692",
           "#B6E880",
           "#FF97FF",
           "#FECB52"
          ],
          "font": {
           "color": "#2a3f5f"
          },
          "geo": {
           "bgcolor": "white",
           "lakecolor": "white",
           "landcolor": "#E5ECF6",
           "showlakes": true,
           "showland": true,
           "subunitcolor": "white"
          },
          "hoverlabel": {
           "align": "left"
          },
          "hovermode": "closest",
          "mapbox": {
           "style": "light"
          },
          "paper_bgcolor": "white",
          "plot_bgcolor": "#E5ECF6",
          "polar": {
           "angularaxis": {
            "gridcolor": "white",
            "linecolor": "white",
            "ticks": ""
           },
           "bgcolor": "#E5ECF6",
           "radialaxis": {
            "gridcolor": "white",
            "linecolor": "white",
            "ticks": ""
           }
          },
          "scene": {
           "xaxis": {
            "backgroundcolor": "#E5ECF6",
            "gridcolor": "white",
            "gridwidth": 2,
            "linecolor": "white",
            "showbackground": true,
            "ticks": "",
            "zerolinecolor": "white"
           },
           "yaxis": {
            "backgroundcolor": "#E5ECF6",
            "gridcolor": "white",
            "gridwidth": 2,
            "linecolor": "white",
            "showbackground": true,
            "ticks": "",
            "zerolinecolor": "white"
           },
           "zaxis": {
            "backgroundcolor": "#E5ECF6",
            "gridcolor": "white",
            "gridwidth": 2,
            "linecolor": "white",
            "showbackground": true,
            "ticks": "",
            "zerolinecolor": "white"
           }
          },
          "shapedefaults": {
           "line": {
            "color": "#2a3f5f"
           }
          },
          "ternary": {
           "aaxis": {
            "gridcolor": "white",
            "linecolor": "white",
            "ticks": ""
           },
           "baxis": {
            "gridcolor": "white",
            "linecolor": "white",
            "ticks": ""
           },
           "bgcolor": "#E5ECF6",
           "caxis": {
            "gridcolor": "white",
            "linecolor": "white",
            "ticks": ""
           }
          },
          "title": {
           "x": 0.05
          },
          "xaxis": {
           "automargin": true,
           "gridcolor": "white",
           "linecolor": "white",
           "ticks": "",
           "title": {
            "standoff": 15
           },
           "zerolinecolor": "white",
           "zerolinewidth": 2
          },
          "yaxis": {
           "automargin": true,
           "gridcolor": "white",
           "linecolor": "white",
           "ticks": "",
           "title": {
            "standoff": 15
           },
           "zerolinecolor": "white",
           "zerolinewidth": 2
          }
         }
        },
        "title": {
         "text": "Strike Rate vs Average (Top 50 Batsmen)"
        },
        "xaxis": {
         "title": {
          "text": "Average"
         }
        },
        "yaxis": {
         "title": {
          "text": "Strike Rate"
         }
        }
       }
      }
     },
     "metadata": {},
     "output_type": "display_data"
    }
   ],
   "source": [
    "trace1 = go.Scatter(\n",
    "    x = top50_batsman_summary['average'],\n",
    "    y = top50_batsman_summary['strike_rate'],\n",
    "    mode = 'markers',\n",
    "    hovertext = top50_batsman_summary['batter'],\n",
    "    marker = dict(\n",
    "        size = top50_batsman_summary['runs'] / 350,  # bigger bubble = more runs\n",
    "        color = top50_batsman_summary['runs'],       # color by runs\n",
    "        colorscale = 'Plasma',                       # colormap\n",
    "        showscale = True,                            # show colorbar\n",
    "        opacity = 0.8,\n",
    "        symbol = 'circle',\n",
    "        line = dict(width=2, color='black')\n",
    "    )\n",
    ")\n",
    "\n",
    "layout = go.Layout(\n",
    "    title = 'Strike Rate vs Average (Top 50 Batsmen)',\n",
    "    xaxis = {'title': 'Average'},\n",
    "    yaxis = {'title': 'Strike Rate'}\n",
    ")\n",
    "\n",
    "fig = go.Figure(data=[trace1], layout=layout)\n",
    "fig.show()\n"
   ]
  },
  {
   "cell_type": "markdown",
   "id": "f9e8351e",
   "metadata": {},
   "source": [
    "## <center> <b> 2. Line Chart"
   ]
  },
  {
   "cell_type": "markdown",
   "id": "0f957946",
   "metadata": {},
   "source": [
    "<span style=\"font-size: 18px;\"> <b> 🎯 ***Question:*** Virat Kohli Year by Year Performance </span> </b>"
   ]
  },
  {
   "cell_type": "code",
   "execution_count": 214,
   "id": "1552aa73",
   "metadata": {},
   "outputs": [
    {
     "data": {
      "text/html": [
       "<div>\n",
       "<style scoped>\n",
       "    .dataframe tbody tr th:only-of-type {\n",
       "        vertical-align: middle;\n",
       "    }\n",
       "\n",
       "    .dataframe tbody tr th {\n",
       "        vertical-align: top;\n",
       "    }\n",
       "\n",
       "    .dataframe thead th {\n",
       "        text-align: right;\n",
       "    }\n",
       "</style>\n",
       "<table border=\"1\" class=\"dataframe\">\n",
       "  <thead>\n",
       "    <tr style=\"text-align: right;\">\n",
       "      <th></th>\n",
       "      <th>season</th>\n",
       "      <th>batsman_runs</th>\n",
       "    </tr>\n",
       "  </thead>\n",
       "  <tbody>\n",
       "    <tr>\n",
       "      <th>0</th>\n",
       "      <td>2007/08</td>\n",
       "      <td>165</td>\n",
       "    </tr>\n",
       "    <tr>\n",
       "      <th>1</th>\n",
       "      <td>2009</td>\n",
       "      <td>246</td>\n",
       "    </tr>\n",
       "    <tr>\n",
       "      <th>2</th>\n",
       "      <td>2009/10</td>\n",
       "      <td>307</td>\n",
       "    </tr>\n",
       "    <tr>\n",
       "      <th>3</th>\n",
       "      <td>2011</td>\n",
       "      <td>557</td>\n",
       "    </tr>\n",
       "    <tr>\n",
       "      <th>4</th>\n",
       "      <td>2012</td>\n",
       "      <td>364</td>\n",
       "    </tr>\n",
       "    <tr>\n",
       "      <th>5</th>\n",
       "      <td>2013</td>\n",
       "      <td>639</td>\n",
       "    </tr>\n",
       "    <tr>\n",
       "      <th>6</th>\n",
       "      <td>2014</td>\n",
       "      <td>359</td>\n",
       "    </tr>\n",
       "    <tr>\n",
       "      <th>7</th>\n",
       "      <td>2015</td>\n",
       "      <td>505</td>\n",
       "    </tr>\n",
       "    <tr>\n",
       "      <th>8</th>\n",
       "      <td>2016</td>\n",
       "      <td>973</td>\n",
       "    </tr>\n",
       "    <tr>\n",
       "      <th>9</th>\n",
       "      <td>2017</td>\n",
       "      <td>308</td>\n",
       "    </tr>\n",
       "    <tr>\n",
       "      <th>10</th>\n",
       "      <td>2018</td>\n",
       "      <td>530</td>\n",
       "    </tr>\n",
       "    <tr>\n",
       "      <th>11</th>\n",
       "      <td>2019</td>\n",
       "      <td>464</td>\n",
       "    </tr>\n",
       "    <tr>\n",
       "      <th>12</th>\n",
       "      <td>2020/21</td>\n",
       "      <td>471</td>\n",
       "    </tr>\n",
       "    <tr>\n",
       "      <th>13</th>\n",
       "      <td>2021</td>\n",
       "      <td>405</td>\n",
       "    </tr>\n",
       "    <tr>\n",
       "      <th>14</th>\n",
       "      <td>2022</td>\n",
       "      <td>341</td>\n",
       "    </tr>\n",
       "    <tr>\n",
       "      <th>15</th>\n",
       "      <td>2023</td>\n",
       "      <td>639</td>\n",
       "    </tr>\n",
       "    <tr>\n",
       "      <th>16</th>\n",
       "      <td>2024</td>\n",
       "      <td>741</td>\n",
       "    </tr>\n",
       "  </tbody>\n",
       "</table>\n",
       "</div>"
      ],
      "text/plain": [
       "     season  batsman_runs\n",
       "0   2007/08           165\n",
       "1      2009           246\n",
       "2   2009/10           307\n",
       "3      2011           557\n",
       "4      2012           364\n",
       "5      2013           639\n",
       "6      2014           359\n",
       "7      2015           505\n",
       "8      2016           973\n",
       "9      2017           308\n",
       "10     2018           530\n",
       "11     2019           464\n",
       "12  2020/21           471\n",
       "13     2021           405\n",
       "14     2022           341\n",
       "15     2023           639\n",
       "16     2024           741"
      ]
     },
     "execution_count": 214,
     "metadata": {},
     "output_type": "execute_result"
    }
   ],
   "source": [
    "single_batsman = ipl[ipl['batter'] == 'V Kohli']\n",
    "\n",
    "single_batsman_year_by_year = single_batsman.groupby('season')['batsman_runs'].sum().reset_index()\n",
    "\n",
    "single_batsman_year_by_year\n"
   ]
  },
  {
   "cell_type": "code",
   "execution_count": 215,
   "id": "0d286f8a",
   "metadata": {},
   "outputs": [
    {
     "data": {
      "application/vnd.plotly.v1+json": {
       "config": {
        "plotlyServerURL": "https://plot.ly"
       },
       "data": [
        {
         "hovertemplate": "Runs: %{y}<extra></extra>",
         "mode": "markers+lines",
         "text": {
          "bdata": "AAAAAACgZEAAAAAAAMBuQAAAAAAAMHNAAAAAAABogUAAAAAAAMB2QAAAAAAA+INAAAAAAABwdkAAAAAAAJB/QAAAAAAAaI5AAAAAAABAc0AAAAAAAJCAQAAAAAAAAH1AAAAAAABwfUAAAAAAAFB5QAAAAAAAUHVAAAAAAAD4g0AAAAAAACiHQA==",
          "dtype": "f8"
         },
         "type": "scatter",
         "x": [
          "2007/08",
          "2009",
          "2009/10",
          "2011",
          "2012",
          "2013",
          "2014",
          "2015",
          "2016",
          "2017",
          "2018",
          "2019",
          "2020/21",
          "2021",
          "2022",
          "2023",
          "2024"
         ],
         "y": {
          "bdata": "pQD2ADMBLQJsAX8CZwH5Ac0DNAESAtAB1wGVAVUBfwLlAg==",
          "dtype": "i2"
         }
        }
       ],
       "layout": {
        "template": {
         "data": {
          "bar": [
           {
            "error_x": {
             "color": "#2a3f5f"
            },
            "error_y": {
             "color": "#2a3f5f"
            },
            "marker": {
             "line": {
              "color": "#E5ECF6",
              "width": 0.5
             },
             "pattern": {
              "fillmode": "overlay",
              "size": 10,
              "solidity": 0.2
             }
            },
            "type": "bar"
           }
          ],
          "barpolar": [
           {
            "marker": {
             "line": {
              "color": "#E5ECF6",
              "width": 0.5
             },
             "pattern": {
              "fillmode": "overlay",
              "size": 10,
              "solidity": 0.2
             }
            },
            "type": "barpolar"
           }
          ],
          "carpet": [
           {
            "aaxis": {
             "endlinecolor": "#2a3f5f",
             "gridcolor": "white",
             "linecolor": "white",
             "minorgridcolor": "white",
             "startlinecolor": "#2a3f5f"
            },
            "baxis": {
             "endlinecolor": "#2a3f5f",
             "gridcolor": "white",
             "linecolor": "white",
             "minorgridcolor": "white",
             "startlinecolor": "#2a3f5f"
            },
            "type": "carpet"
           }
          ],
          "choropleth": [
           {
            "colorbar": {
             "outlinewidth": 0,
             "ticks": ""
            },
            "type": "choropleth"
           }
          ],
          "contour": [
           {
            "colorbar": {
             "outlinewidth": 0,
             "ticks": ""
            },
            "colorscale": [
             [
              0,
              "#0d0887"
             ],
             [
              0.1111111111111111,
              "#46039f"
             ],
             [
              0.2222222222222222,
              "#7201a8"
             ],
             [
              0.3333333333333333,
              "#9c179e"
             ],
             [
              0.4444444444444444,
              "#bd3786"
             ],
             [
              0.5555555555555556,
              "#d8576b"
             ],
             [
              0.6666666666666666,
              "#ed7953"
             ],
             [
              0.7777777777777778,
              "#fb9f3a"
             ],
             [
              0.8888888888888888,
              "#fdca26"
             ],
             [
              1,
              "#f0f921"
             ]
            ],
            "type": "contour"
           }
          ],
          "contourcarpet": [
           {
            "colorbar": {
             "outlinewidth": 0,
             "ticks": ""
            },
            "type": "contourcarpet"
           }
          ],
          "heatmap": [
           {
            "colorbar": {
             "outlinewidth": 0,
             "ticks": ""
            },
            "colorscale": [
             [
              0,
              "#0d0887"
             ],
             [
              0.1111111111111111,
              "#46039f"
             ],
             [
              0.2222222222222222,
              "#7201a8"
             ],
             [
              0.3333333333333333,
              "#9c179e"
             ],
             [
              0.4444444444444444,
              "#bd3786"
             ],
             [
              0.5555555555555556,
              "#d8576b"
             ],
             [
              0.6666666666666666,
              "#ed7953"
             ],
             [
              0.7777777777777778,
              "#fb9f3a"
             ],
             [
              0.8888888888888888,
              "#fdca26"
             ],
             [
              1,
              "#f0f921"
             ]
            ],
            "type": "heatmap"
           }
          ],
          "histogram": [
           {
            "marker": {
             "pattern": {
              "fillmode": "overlay",
              "size": 10,
              "solidity": 0.2
             }
            },
            "type": "histogram"
           }
          ],
          "histogram2d": [
           {
            "colorbar": {
             "outlinewidth": 0,
             "ticks": ""
            },
            "colorscale": [
             [
              0,
              "#0d0887"
             ],
             [
              0.1111111111111111,
              "#46039f"
             ],
             [
              0.2222222222222222,
              "#7201a8"
             ],
             [
              0.3333333333333333,
              "#9c179e"
             ],
             [
              0.4444444444444444,
              "#bd3786"
             ],
             [
              0.5555555555555556,
              "#d8576b"
             ],
             [
              0.6666666666666666,
              "#ed7953"
             ],
             [
              0.7777777777777778,
              "#fb9f3a"
             ],
             [
              0.8888888888888888,
              "#fdca26"
             ],
             [
              1,
              "#f0f921"
             ]
            ],
            "type": "histogram2d"
           }
          ],
          "histogram2dcontour": [
           {
            "colorbar": {
             "outlinewidth": 0,
             "ticks": ""
            },
            "colorscale": [
             [
              0,
              "#0d0887"
             ],
             [
              0.1111111111111111,
              "#46039f"
             ],
             [
              0.2222222222222222,
              "#7201a8"
             ],
             [
              0.3333333333333333,
              "#9c179e"
             ],
             [
              0.4444444444444444,
              "#bd3786"
             ],
             [
              0.5555555555555556,
              "#d8576b"
             ],
             [
              0.6666666666666666,
              "#ed7953"
             ],
             [
              0.7777777777777778,
              "#fb9f3a"
             ],
             [
              0.8888888888888888,
              "#fdca26"
             ],
             [
              1,
              "#f0f921"
             ]
            ],
            "type": "histogram2dcontour"
           }
          ],
          "mesh3d": [
           {
            "colorbar": {
             "outlinewidth": 0,
             "ticks": ""
            },
            "type": "mesh3d"
           }
          ],
          "parcoords": [
           {
            "line": {
             "colorbar": {
              "outlinewidth": 0,
              "ticks": ""
             }
            },
            "type": "parcoords"
           }
          ],
          "pie": [
           {
            "automargin": true,
            "type": "pie"
           }
          ],
          "scatter": [
           {
            "fillpattern": {
             "fillmode": "overlay",
             "size": 10,
             "solidity": 0.2
            },
            "type": "scatter"
           }
          ],
          "scatter3d": [
           {
            "line": {
             "colorbar": {
              "outlinewidth": 0,
              "ticks": ""
             }
            },
            "marker": {
             "colorbar": {
              "outlinewidth": 0,
              "ticks": ""
             }
            },
            "type": "scatter3d"
           }
          ],
          "scattercarpet": [
           {
            "marker": {
             "colorbar": {
              "outlinewidth": 0,
              "ticks": ""
             }
            },
            "type": "scattercarpet"
           }
          ],
          "scattergeo": [
           {
            "marker": {
             "colorbar": {
              "outlinewidth": 0,
              "ticks": ""
             }
            },
            "type": "scattergeo"
           }
          ],
          "scattergl": [
           {
            "marker": {
             "colorbar": {
              "outlinewidth": 0,
              "ticks": ""
             }
            },
            "type": "scattergl"
           }
          ],
          "scattermap": [
           {
            "marker": {
             "colorbar": {
              "outlinewidth": 0,
              "ticks": ""
             }
            },
            "type": "scattermap"
           }
          ],
          "scattermapbox": [
           {
            "marker": {
             "colorbar": {
              "outlinewidth": 0,
              "ticks": ""
             }
            },
            "type": "scattermapbox"
           }
          ],
          "scatterpolar": [
           {
            "marker": {
             "colorbar": {
              "outlinewidth": 0,
              "ticks": ""
             }
            },
            "type": "scatterpolar"
           }
          ],
          "scatterpolargl": [
           {
            "marker": {
             "colorbar": {
              "outlinewidth": 0,
              "ticks": ""
             }
            },
            "type": "scatterpolargl"
           }
          ],
          "scatterternary": [
           {
            "marker": {
             "colorbar": {
              "outlinewidth": 0,
              "ticks": ""
             }
            },
            "type": "scatterternary"
           }
          ],
          "surface": [
           {
            "colorbar": {
             "outlinewidth": 0,
             "ticks": ""
            },
            "colorscale": [
             [
              0,
              "#0d0887"
             ],
             [
              0.1111111111111111,
              "#46039f"
             ],
             [
              0.2222222222222222,
              "#7201a8"
             ],
             [
              0.3333333333333333,
              "#9c179e"
             ],
             [
              0.4444444444444444,
              "#bd3786"
             ],
             [
              0.5555555555555556,
              "#d8576b"
             ],
             [
              0.6666666666666666,
              "#ed7953"
             ],
             [
              0.7777777777777778,
              "#fb9f3a"
             ],
             [
              0.8888888888888888,
              "#fdca26"
             ],
             [
              1,
              "#f0f921"
             ]
            ],
            "type": "surface"
           }
          ],
          "table": [
           {
            "cells": {
             "fill": {
              "color": "#EBF0F8"
             },
             "line": {
              "color": "white"
             }
            },
            "header": {
             "fill": {
              "color": "#C8D4E3"
             },
             "line": {
              "color": "white"
             }
            },
            "type": "table"
           }
          ]
         },
         "layout": {
          "annotationdefaults": {
           "arrowcolor": "#2a3f5f",
           "arrowhead": 0,
           "arrowwidth": 1
          },
          "autotypenumbers": "strict",
          "coloraxis": {
           "colorbar": {
            "outlinewidth": 0,
            "ticks": ""
           }
          },
          "colorscale": {
           "diverging": [
            [
             0,
             "#8e0152"
            ],
            [
             0.1,
             "#c51b7d"
            ],
            [
             0.2,
             "#de77ae"
            ],
            [
             0.3,
             "#f1b6da"
            ],
            [
             0.4,
             "#fde0ef"
            ],
            [
             0.5,
             "#f7f7f7"
            ],
            [
             0.6,
             "#e6f5d0"
            ],
            [
             0.7,
             "#b8e186"
            ],
            [
             0.8,
             "#7fbc41"
            ],
            [
             0.9,
             "#4d9221"
            ],
            [
             1,
             "#276419"
            ]
           ],
           "sequential": [
            [
             0,
             "#0d0887"
            ],
            [
             0.1111111111111111,
             "#46039f"
            ],
            [
             0.2222222222222222,
             "#7201a8"
            ],
            [
             0.3333333333333333,
             "#9c179e"
            ],
            [
             0.4444444444444444,
             "#bd3786"
            ],
            [
             0.5555555555555556,
             "#d8576b"
            ],
            [
             0.6666666666666666,
             "#ed7953"
            ],
            [
             0.7777777777777778,
             "#fb9f3a"
            ],
            [
             0.8888888888888888,
             "#fdca26"
            ],
            [
             1,
             "#f0f921"
            ]
           ],
           "sequentialminus": [
            [
             0,
             "#0d0887"
            ],
            [
             0.1111111111111111,
             "#46039f"
            ],
            [
             0.2222222222222222,
             "#7201a8"
            ],
            [
             0.3333333333333333,
             "#9c179e"
            ],
            [
             0.4444444444444444,
             "#bd3786"
            ],
            [
             0.5555555555555556,
             "#d8576b"
            ],
            [
             0.6666666666666666,
             "#ed7953"
            ],
            [
             0.7777777777777778,
             "#fb9f3a"
            ],
            [
             0.8888888888888888,
             "#fdca26"
            ],
            [
             1,
             "#f0f921"
            ]
           ]
          },
          "colorway": [
           "#636efa",
           "#EF553B",
           "#00cc96",
           "#ab63fa",
           "#FFA15A",
           "#19d3f3",
           "#FF6692",
           "#B6E880",
           "#FF97FF",
           "#FECB52"
          ],
          "font": {
           "color": "#2a3f5f"
          },
          "geo": {
           "bgcolor": "white",
           "lakecolor": "white",
           "landcolor": "#E5ECF6",
           "showlakes": true,
           "showland": true,
           "subunitcolor": "white"
          },
          "hoverlabel": {
           "align": "left"
          },
          "hovermode": "closest",
          "mapbox": {
           "style": "light"
          },
          "paper_bgcolor": "white",
          "plot_bgcolor": "#E5ECF6",
          "polar": {
           "angularaxis": {
            "gridcolor": "white",
            "linecolor": "white",
            "ticks": ""
           },
           "bgcolor": "#E5ECF6",
           "radialaxis": {
            "gridcolor": "white",
            "linecolor": "white",
            "ticks": ""
           }
          },
          "scene": {
           "xaxis": {
            "backgroundcolor": "#E5ECF6",
            "gridcolor": "white",
            "gridwidth": 2,
            "linecolor": "white",
            "showbackground": true,
            "ticks": "",
            "zerolinecolor": "white"
           },
           "yaxis": {
            "backgroundcolor": "#E5ECF6",
            "gridcolor": "white",
            "gridwidth": 2,
            "linecolor": "white",
            "showbackground": true,
            "ticks": "",
            "zerolinecolor": "white"
           },
           "zaxis": {
            "backgroundcolor": "#E5ECF6",
            "gridcolor": "white",
            "gridwidth": 2,
            "linecolor": "white",
            "showbackground": true,
            "ticks": "",
            "zerolinecolor": "white"
           }
          },
          "shapedefaults": {
           "line": {
            "color": "#2a3f5f"
           }
          },
          "ternary": {
           "aaxis": {
            "gridcolor": "white",
            "linecolor": "white",
            "ticks": ""
           },
           "baxis": {
            "gridcolor": "white",
            "linecolor": "white",
            "ticks": ""
           },
           "bgcolor": "#E5ECF6",
           "caxis": {
            "gridcolor": "white",
            "linecolor": "white",
            "ticks": ""
           }
          },
          "title": {
           "x": 0.05
          },
          "xaxis": {
           "automargin": true,
           "gridcolor": "white",
           "linecolor": "white",
           "ticks": "",
           "title": {
            "standoff": 15
           },
           "zerolinecolor": "white",
           "zerolinewidth": 2
          },
          "yaxis": {
           "automargin": true,
           "gridcolor": "white",
           "linecolor": "white",
           "ticks": "",
           "title": {
            "standoff": 15
           },
           "zerolinecolor": "white",
           "zerolinewidth": 2
          }
         }
        },
        "title": {
         "text": "Virat Kohli Runs per year"
        },
        "xaxis": {
         "title": {
          "text": "Year"
         }
        },
        "yaxis": {
         "title": {
          "text": "Runs"
         }
        }
       }
      }
     },
     "metadata": {},
     "output_type": "display_data"
    }
   ],
   "source": [
    "data = go.Scatter(x = single_batsman_year_by_year['season'],\n",
    "                  y= single_batsman_year_by_year['batsman_runs'],\n",
    "                  mode ='markers+lines',\n",
    "                  text =  single_batsman_year_by_year['batsman_runs'],\n",
    "                  hovertemplate='Runs: %{y}<extra></extra>'\n",
    "                  )\n",
    "\n",
    "layout = go.Layout(title='Virat Kohli Runs per year',\n",
    "                   xaxis= dict(title = 'Year'),\n",
    "                   yaxis=dict(title = 'Runs'))\n",
    "\n",
    "fig = go.Figure(data, layout)\n",
    "\n",
    "fig.show()\n",
    "\n",
    "# Explanation:\n",
    "# hovertemplate='Runs: %{y}<extra></extra>'\n",
    "\n",
    "# %{y} → shows only the y-axis value (runs in your case).\n",
    "# <extra></extra> → removes the default trace info (like “trace 0”)."
   ]
  },
  {
   "cell_type": "markdown",
   "id": "78f08e27",
   "metadata": {},
   "source": [
    "<span style=\"font-size: 20px;\"> <b> Multiple Line Charts"
   ]
  },
  {
   "cell_type": "code",
   "execution_count": 216,
   "id": "c292652c",
   "metadata": {},
   "outputs": [
    {
     "data": {
      "text/html": [
       "<div>\n",
       "<style scoped>\n",
       "    .dataframe tbody tr th:only-of-type {\n",
       "        vertical-align: middle;\n",
       "    }\n",
       "\n",
       "    .dataframe tbody tr th {\n",
       "        vertical-align: top;\n",
       "    }\n",
       "\n",
       "    .dataframe thead th {\n",
       "        text-align: right;\n",
       "    }\n",
       "</style>\n",
       "<table border=\"1\" class=\"dataframe\">\n",
       "  <thead>\n",
       "    <tr style=\"text-align: right;\">\n",
       "      <th></th>\n",
       "      <th>season</th>\n",
       "      <th>batsman_runs</th>\n",
       "    </tr>\n",
       "  </thead>\n",
       "  <tbody>\n",
       "    <tr>\n",
       "      <th>0</th>\n",
       "      <td>2007/08</td>\n",
       "      <td>414</td>\n",
       "    </tr>\n",
       "    <tr>\n",
       "      <th>1</th>\n",
       "      <td>2009</td>\n",
       "      <td>332</td>\n",
       "    </tr>\n",
       "    <tr>\n",
       "      <th>2</th>\n",
       "      <td>2009/10</td>\n",
       "      <td>287</td>\n",
       "    </tr>\n",
       "    <tr>\n",
       "      <th>3</th>\n",
       "      <td>2011</td>\n",
       "      <td>392</td>\n",
       "    </tr>\n",
       "    <tr>\n",
       "      <th>4</th>\n",
       "      <td>2012</td>\n",
       "      <td>358</td>\n",
       "    </tr>\n",
       "    <tr>\n",
       "      <th>5</th>\n",
       "      <td>2013</td>\n",
       "      <td>461</td>\n",
       "    </tr>\n",
       "    <tr>\n",
       "      <th>6</th>\n",
       "      <td>2014</td>\n",
       "      <td>371</td>\n",
       "    </tr>\n",
       "    <tr>\n",
       "      <th>7</th>\n",
       "      <td>2015</td>\n",
       "      <td>372</td>\n",
       "    </tr>\n",
       "    <tr>\n",
       "      <th>8</th>\n",
       "      <td>2016</td>\n",
       "      <td>284</td>\n",
       "    </tr>\n",
       "    <tr>\n",
       "      <th>9</th>\n",
       "      <td>2017</td>\n",
       "      <td>290</td>\n",
       "    </tr>\n",
       "    <tr>\n",
       "      <th>10</th>\n",
       "      <td>2018</td>\n",
       "      <td>455</td>\n",
       "    </tr>\n",
       "    <tr>\n",
       "      <th>11</th>\n",
       "      <td>2019</td>\n",
       "      <td>416</td>\n",
       "    </tr>\n",
       "    <tr>\n",
       "      <th>12</th>\n",
       "      <td>2020/21</td>\n",
       "      <td>200</td>\n",
       "    </tr>\n",
       "    <tr>\n",
       "      <th>13</th>\n",
       "      <td>2021</td>\n",
       "      <td>114</td>\n",
       "    </tr>\n",
       "    <tr>\n",
       "      <th>14</th>\n",
       "      <td>2022</td>\n",
       "      <td>232</td>\n",
       "    </tr>\n",
       "    <tr>\n",
       "      <th>15</th>\n",
       "      <td>2023</td>\n",
       "      <td>104</td>\n",
       "    </tr>\n",
       "    <tr>\n",
       "      <th>16</th>\n",
       "      <td>2024</td>\n",
       "      <td>161</td>\n",
       "    </tr>\n",
       "  </tbody>\n",
       "</table>\n",
       "</div>"
      ],
      "text/plain": [
       "     season  batsman_runs\n",
       "0   2007/08           414\n",
       "1      2009           332\n",
       "2   2009/10           287\n",
       "3      2011           392\n",
       "4      2012           358\n",
       "5      2013           461\n",
       "6      2014           371\n",
       "7      2015           372\n",
       "8      2016           284\n",
       "9      2017           290\n",
       "10     2018           455\n",
       "11     2019           416\n",
       "12  2020/21           200\n",
       "13     2021           114\n",
       "14     2022           232\n",
       "15     2023           104\n",
       "16     2024           161"
      ]
     },
     "execution_count": 216,
     "metadata": {},
     "output_type": "execute_result"
    }
   ],
   "source": [
    "single_batsman1 = ipl[ipl['batter'] == 'MS Dhoni']\n",
    "\n",
    "single_batsman_year_by_year1 = single_batsman1.groupby('season')['batsman_runs'].sum().reset_index()\n",
    "\n",
    "single_batsman_year_by_year1"
   ]
  },
  {
   "cell_type": "code",
   "execution_count": 217,
   "id": "58c6ba7f",
   "metadata": {},
   "outputs": [
    {
     "data": {
      "application/vnd.plotly.v1+json": {
       "config": {
        "plotlyServerURL": "https://plot.ly"
       },
       "data": [
        {
         "hovertemplate": "Runs: %{y}<extra></extra>",
         "mode": "markers+lines",
         "text": {
          "bdata": "AAAAAACgZEAAAAAAAMBuQAAAAAAAMHNAAAAAAABogUAAAAAAAMB2QAAAAAAA+INAAAAAAABwdkAAAAAAAJB/QAAAAAAAaI5AAAAAAABAc0AAAAAAAJCAQAAAAAAAAH1AAAAAAABwfUAAAAAAAFB5QAAAAAAAUHVAAAAAAAD4g0AAAAAAACiHQA==",
          "dtype": "f8"
         },
         "type": "scatter",
         "x": [
          "2007/08",
          "2009",
          "2009/10",
          "2011",
          "2012",
          "2013",
          "2014",
          "2015",
          "2016",
          "2017",
          "2018",
          "2019",
          "2020/21",
          "2021",
          "2022",
          "2023",
          "2024"
         ],
         "y": {
          "bdata": "pQD2ADMBLQJsAX8CZwH5Ac0DNAESAtAB1wGVAVUBfwLlAg==",
          "dtype": "i2"
         }
        },
        {
         "hovertemplate": "Runs: %{y}<extra></extra>",
         "mode": "markers+lines",
         "text": {
          "bdata": "AAAAAADgeUAAAAAAAMB0QAAAAAAA8HFAAAAAAACAeEAAAAAAAGB2QAAAAAAA0HxAAAAAAAAwd0AAAAAAAEB3QAAAAAAAwHFAAAAAAAAgckAAAAAAAHB8QAAAAAAAAHpAAAAAAAAAaUAAAAAAAIBcQAAAAAAAAG1AAAAAAAAAWkAAAAAAACBkQA==",
          "dtype": "f8"
         },
         "type": "scatter",
         "x": [
          "2007/08",
          "2009",
          "2009/10",
          "2011",
          "2012",
          "2013",
          "2014",
          "2015",
          "2016",
          "2017",
          "2018",
          "2019",
          "2020/21",
          "2021",
          "2022",
          "2023",
          "2024"
         ],
         "y": {
          "bdata": "ngFMAR8BiAFmAc0BcwF0ARwBIgHHAaAByAByAOgAaAChAA==",
          "dtype": "i2"
         }
        }
       ],
       "layout": {
        "template": {
         "data": {
          "bar": [
           {
            "error_x": {
             "color": "#2a3f5f"
            },
            "error_y": {
             "color": "#2a3f5f"
            },
            "marker": {
             "line": {
              "color": "#E5ECF6",
              "width": 0.5
             },
             "pattern": {
              "fillmode": "overlay",
              "size": 10,
              "solidity": 0.2
             }
            },
            "type": "bar"
           }
          ],
          "barpolar": [
           {
            "marker": {
             "line": {
              "color": "#E5ECF6",
              "width": 0.5
             },
             "pattern": {
              "fillmode": "overlay",
              "size": 10,
              "solidity": 0.2
             }
            },
            "type": "barpolar"
           }
          ],
          "carpet": [
           {
            "aaxis": {
             "endlinecolor": "#2a3f5f",
             "gridcolor": "white",
             "linecolor": "white",
             "minorgridcolor": "white",
             "startlinecolor": "#2a3f5f"
            },
            "baxis": {
             "endlinecolor": "#2a3f5f",
             "gridcolor": "white",
             "linecolor": "white",
             "minorgridcolor": "white",
             "startlinecolor": "#2a3f5f"
            },
            "type": "carpet"
           }
          ],
          "choropleth": [
           {
            "colorbar": {
             "outlinewidth": 0,
             "ticks": ""
            },
            "type": "choropleth"
           }
          ],
          "contour": [
           {
            "colorbar": {
             "outlinewidth": 0,
             "ticks": ""
            },
            "colorscale": [
             [
              0,
              "#0d0887"
             ],
             [
              0.1111111111111111,
              "#46039f"
             ],
             [
              0.2222222222222222,
              "#7201a8"
             ],
             [
              0.3333333333333333,
              "#9c179e"
             ],
             [
              0.4444444444444444,
              "#bd3786"
             ],
             [
              0.5555555555555556,
              "#d8576b"
             ],
             [
              0.6666666666666666,
              "#ed7953"
             ],
             [
              0.7777777777777778,
              "#fb9f3a"
             ],
             [
              0.8888888888888888,
              "#fdca26"
             ],
             [
              1,
              "#f0f921"
             ]
            ],
            "type": "contour"
           }
          ],
          "contourcarpet": [
           {
            "colorbar": {
             "outlinewidth": 0,
             "ticks": ""
            },
            "type": "contourcarpet"
           }
          ],
          "heatmap": [
           {
            "colorbar": {
             "outlinewidth": 0,
             "ticks": ""
            },
            "colorscale": [
             [
              0,
              "#0d0887"
             ],
             [
              0.1111111111111111,
              "#46039f"
             ],
             [
              0.2222222222222222,
              "#7201a8"
             ],
             [
              0.3333333333333333,
              "#9c179e"
             ],
             [
              0.4444444444444444,
              "#bd3786"
             ],
             [
              0.5555555555555556,
              "#d8576b"
             ],
             [
              0.6666666666666666,
              "#ed7953"
             ],
             [
              0.7777777777777778,
              "#fb9f3a"
             ],
             [
              0.8888888888888888,
              "#fdca26"
             ],
             [
              1,
              "#f0f921"
             ]
            ],
            "type": "heatmap"
           }
          ],
          "histogram": [
           {
            "marker": {
             "pattern": {
              "fillmode": "overlay",
              "size": 10,
              "solidity": 0.2
             }
            },
            "type": "histogram"
           }
          ],
          "histogram2d": [
           {
            "colorbar": {
             "outlinewidth": 0,
             "ticks": ""
            },
            "colorscale": [
             [
              0,
              "#0d0887"
             ],
             [
              0.1111111111111111,
              "#46039f"
             ],
             [
              0.2222222222222222,
              "#7201a8"
             ],
             [
              0.3333333333333333,
              "#9c179e"
             ],
             [
              0.4444444444444444,
              "#bd3786"
             ],
             [
              0.5555555555555556,
              "#d8576b"
             ],
             [
              0.6666666666666666,
              "#ed7953"
             ],
             [
              0.7777777777777778,
              "#fb9f3a"
             ],
             [
              0.8888888888888888,
              "#fdca26"
             ],
             [
              1,
              "#f0f921"
             ]
            ],
            "type": "histogram2d"
           }
          ],
          "histogram2dcontour": [
           {
            "colorbar": {
             "outlinewidth": 0,
             "ticks": ""
            },
            "colorscale": [
             [
              0,
              "#0d0887"
             ],
             [
              0.1111111111111111,
              "#46039f"
             ],
             [
              0.2222222222222222,
              "#7201a8"
             ],
             [
              0.3333333333333333,
              "#9c179e"
             ],
             [
              0.4444444444444444,
              "#bd3786"
             ],
             [
              0.5555555555555556,
              "#d8576b"
             ],
             [
              0.6666666666666666,
              "#ed7953"
             ],
             [
              0.7777777777777778,
              "#fb9f3a"
             ],
             [
              0.8888888888888888,
              "#fdca26"
             ],
             [
              1,
              "#f0f921"
             ]
            ],
            "type": "histogram2dcontour"
           }
          ],
          "mesh3d": [
           {
            "colorbar": {
             "outlinewidth": 0,
             "ticks": ""
            },
            "type": "mesh3d"
           }
          ],
          "parcoords": [
           {
            "line": {
             "colorbar": {
              "outlinewidth": 0,
              "ticks": ""
             }
            },
            "type": "parcoords"
           }
          ],
          "pie": [
           {
            "automargin": true,
            "type": "pie"
           }
          ],
          "scatter": [
           {
            "fillpattern": {
             "fillmode": "overlay",
             "size": 10,
             "solidity": 0.2
            },
            "type": "scatter"
           }
          ],
          "scatter3d": [
           {
            "line": {
             "colorbar": {
              "outlinewidth": 0,
              "ticks": ""
             }
            },
            "marker": {
             "colorbar": {
              "outlinewidth": 0,
              "ticks": ""
             }
            },
            "type": "scatter3d"
           }
          ],
          "scattercarpet": [
           {
            "marker": {
             "colorbar": {
              "outlinewidth": 0,
              "ticks": ""
             }
            },
            "type": "scattercarpet"
           }
          ],
          "scattergeo": [
           {
            "marker": {
             "colorbar": {
              "outlinewidth": 0,
              "ticks": ""
             }
            },
            "type": "scattergeo"
           }
          ],
          "scattergl": [
           {
            "marker": {
             "colorbar": {
              "outlinewidth": 0,
              "ticks": ""
             }
            },
            "type": "scattergl"
           }
          ],
          "scattermap": [
           {
            "marker": {
             "colorbar": {
              "outlinewidth": 0,
              "ticks": ""
             }
            },
            "type": "scattermap"
           }
          ],
          "scattermapbox": [
           {
            "marker": {
             "colorbar": {
              "outlinewidth": 0,
              "ticks": ""
             }
            },
            "type": "scattermapbox"
           }
          ],
          "scatterpolar": [
           {
            "marker": {
             "colorbar": {
              "outlinewidth": 0,
              "ticks": ""
             }
            },
            "type": "scatterpolar"
           }
          ],
          "scatterpolargl": [
           {
            "marker": {
             "colorbar": {
              "outlinewidth": 0,
              "ticks": ""
             }
            },
            "type": "scatterpolargl"
           }
          ],
          "scatterternary": [
           {
            "marker": {
             "colorbar": {
              "outlinewidth": 0,
              "ticks": ""
             }
            },
            "type": "scatterternary"
           }
          ],
          "surface": [
           {
            "colorbar": {
             "outlinewidth": 0,
             "ticks": ""
            },
            "colorscale": [
             [
              0,
              "#0d0887"
             ],
             [
              0.1111111111111111,
              "#46039f"
             ],
             [
              0.2222222222222222,
              "#7201a8"
             ],
             [
              0.3333333333333333,
              "#9c179e"
             ],
             [
              0.4444444444444444,
              "#bd3786"
             ],
             [
              0.5555555555555556,
              "#d8576b"
             ],
             [
              0.6666666666666666,
              "#ed7953"
             ],
             [
              0.7777777777777778,
              "#fb9f3a"
             ],
             [
              0.8888888888888888,
              "#fdca26"
             ],
             [
              1,
              "#f0f921"
             ]
            ],
            "type": "surface"
           }
          ],
          "table": [
           {
            "cells": {
             "fill": {
              "color": "#EBF0F8"
             },
             "line": {
              "color": "white"
             }
            },
            "header": {
             "fill": {
              "color": "#C8D4E3"
             },
             "line": {
              "color": "white"
             }
            },
            "type": "table"
           }
          ]
         },
         "layout": {
          "annotationdefaults": {
           "arrowcolor": "#2a3f5f",
           "arrowhead": 0,
           "arrowwidth": 1
          },
          "autotypenumbers": "strict",
          "coloraxis": {
           "colorbar": {
            "outlinewidth": 0,
            "ticks": ""
           }
          },
          "colorscale": {
           "diverging": [
            [
             0,
             "#8e0152"
            ],
            [
             0.1,
             "#c51b7d"
            ],
            [
             0.2,
             "#de77ae"
            ],
            [
             0.3,
             "#f1b6da"
            ],
            [
             0.4,
             "#fde0ef"
            ],
            [
             0.5,
             "#f7f7f7"
            ],
            [
             0.6,
             "#e6f5d0"
            ],
            [
             0.7,
             "#b8e186"
            ],
            [
             0.8,
             "#7fbc41"
            ],
            [
             0.9,
             "#4d9221"
            ],
            [
             1,
             "#276419"
            ]
           ],
           "sequential": [
            [
             0,
             "#0d0887"
            ],
            [
             0.1111111111111111,
             "#46039f"
            ],
            [
             0.2222222222222222,
             "#7201a8"
            ],
            [
             0.3333333333333333,
             "#9c179e"
            ],
            [
             0.4444444444444444,
             "#bd3786"
            ],
            [
             0.5555555555555556,
             "#d8576b"
            ],
            [
             0.6666666666666666,
             "#ed7953"
            ],
            [
             0.7777777777777778,
             "#fb9f3a"
            ],
            [
             0.8888888888888888,
             "#fdca26"
            ],
            [
             1,
             "#f0f921"
            ]
           ],
           "sequentialminus": [
            [
             0,
             "#0d0887"
            ],
            [
             0.1111111111111111,
             "#46039f"
            ],
            [
             0.2222222222222222,
             "#7201a8"
            ],
            [
             0.3333333333333333,
             "#9c179e"
            ],
            [
             0.4444444444444444,
             "#bd3786"
            ],
            [
             0.5555555555555556,
             "#d8576b"
            ],
            [
             0.6666666666666666,
             "#ed7953"
            ],
            [
             0.7777777777777778,
             "#fb9f3a"
            ],
            [
             0.8888888888888888,
             "#fdca26"
            ],
            [
             1,
             "#f0f921"
            ]
           ]
          },
          "colorway": [
           "#636efa",
           "#EF553B",
           "#00cc96",
           "#ab63fa",
           "#FFA15A",
           "#19d3f3",
           "#FF6692",
           "#B6E880",
           "#FF97FF",
           "#FECB52"
          ],
          "font": {
           "color": "#2a3f5f"
          },
          "geo": {
           "bgcolor": "white",
           "lakecolor": "white",
           "landcolor": "#E5ECF6",
           "showlakes": true,
           "showland": true,
           "subunitcolor": "white"
          },
          "hoverlabel": {
           "align": "left"
          },
          "hovermode": "closest",
          "mapbox": {
           "style": "light"
          },
          "paper_bgcolor": "white",
          "plot_bgcolor": "#E5ECF6",
          "polar": {
           "angularaxis": {
            "gridcolor": "white",
            "linecolor": "white",
            "ticks": ""
           },
           "bgcolor": "#E5ECF6",
           "radialaxis": {
            "gridcolor": "white",
            "linecolor": "white",
            "ticks": ""
           }
          },
          "scene": {
           "xaxis": {
            "backgroundcolor": "#E5ECF6",
            "gridcolor": "white",
            "gridwidth": 2,
            "linecolor": "white",
            "showbackground": true,
            "ticks": "",
            "zerolinecolor": "white"
           },
           "yaxis": {
            "backgroundcolor": "#E5ECF6",
            "gridcolor": "white",
            "gridwidth": 2,
            "linecolor": "white",
            "showbackground": true,
            "ticks": "",
            "zerolinecolor": "white"
           },
           "zaxis": {
            "backgroundcolor": "#E5ECF6",
            "gridcolor": "white",
            "gridwidth": 2,
            "linecolor": "white",
            "showbackground": true,
            "ticks": "",
            "zerolinecolor": "white"
           }
          },
          "shapedefaults": {
           "line": {
            "color": "#2a3f5f"
           }
          },
          "ternary": {
           "aaxis": {
            "gridcolor": "white",
            "linecolor": "white",
            "ticks": ""
           },
           "baxis": {
            "gridcolor": "white",
            "linecolor": "white",
            "ticks": ""
           },
           "bgcolor": "#E5ECF6",
           "caxis": {
            "gridcolor": "white",
            "linecolor": "white",
            "ticks": ""
           }
          },
          "title": {
           "x": 0.05
          },
          "xaxis": {
           "automargin": true,
           "gridcolor": "white",
           "linecolor": "white",
           "ticks": "",
           "title": {
            "standoff": 15
           },
           "zerolinecolor": "white",
           "zerolinewidth": 2
          },
          "yaxis": {
           "automargin": true,
           "gridcolor": "white",
           "linecolor": "white",
           "ticks": "",
           "title": {
            "standoff": 15
           },
           "zerolinecolor": "white",
           "zerolinewidth": 2
          }
         }
        },
        "title": {
         "text": "Virat Kohli Runs per year"
        },
        "xaxis": {
         "title": {
          "text": "Year"
         }
        },
        "yaxis": {
         "title": {
          "text": "Runs"
         }
        }
       }
      }
     },
     "metadata": {},
     "output_type": "display_data"
    }
   ],
   "source": [
    "trace1 = go.Scatter(x = single_batsman_year_by_year['season'],\n",
    "                  y= single_batsman_year_by_year['batsman_runs'],\n",
    "                  mode ='markers+lines',\n",
    "                  text =  single_batsman_year_by_year['batsman_runs'],\n",
    "                  hovertemplate='Runs: %{y}<extra></extra>'\n",
    "                  )\n",
    "\n",
    "trace2 = go.Scatter(x = single_batsman_year_by_year1['season'],\n",
    "                  y= single_batsman_year_by_year1['batsman_runs'],\n",
    "                  mode ='markers+lines',\n",
    "                  text =  single_batsman_year_by_year1['batsman_runs'],\n",
    "                  hovertemplate='Runs: %{y}<extra></extra>')\n",
    "\n",
    "data = [trace1, trace2]\n",
    "\n",
    "layout = go.Layout(title='Virat Kohli Runs per year',\n",
    "                   xaxis= dict(title = 'Year'),\n",
    "                   yaxis=dict(title = 'Runs'))\n",
    "\n",
    "fig = go.Figure(data = data, layout = layout)\n",
    "\n",
    "fig.show()"
   ]
  },
  {
   "cell_type": "markdown",
   "id": "4ea675aa",
   "metadata": {},
   "source": [
    "<span style=\"font-size: 16px;\"> <b> ***Question:*** Which color represent which batsman it is difficult to say, so we are gonna use name parameter."
   ]
  },
  {
   "cell_type": "code",
   "execution_count": 218,
   "id": "b0bc8d49",
   "metadata": {},
   "outputs": [
    {
     "data": {
      "application/vnd.plotly.v1+json": {
       "config": {
        "plotlyServerURL": "https://plot.ly"
       },
       "data": [
        {
         "hovertemplate": "Runs: %{y}<extra></extra>",
         "mode": "markers+lines",
         "name": "Virat Kholi",
         "text": {
          "bdata": "AAAAAACgZEAAAAAAAMBuQAAAAAAAMHNAAAAAAABogUAAAAAAAMB2QAAAAAAA+INAAAAAAABwdkAAAAAAAJB/QAAAAAAAaI5AAAAAAABAc0AAAAAAAJCAQAAAAAAAAH1AAAAAAABwfUAAAAAAAFB5QAAAAAAAUHVAAAAAAAD4g0AAAAAAACiHQA==",
          "dtype": "f8"
         },
         "type": "scatter",
         "x": [
          "2007/08",
          "2009",
          "2009/10",
          "2011",
          "2012",
          "2013",
          "2014",
          "2015",
          "2016",
          "2017",
          "2018",
          "2019",
          "2020/21",
          "2021",
          "2022",
          "2023",
          "2024"
         ],
         "y": {
          "bdata": "pQD2ADMBLQJsAX8CZwH5Ac0DNAESAtAB1wGVAVUBfwLlAg==",
          "dtype": "i2"
         }
        },
        {
         "hovertemplate": "Runs: %{y}<extra></extra>",
         "mode": "markers+lines",
         "name": "MS Dhoni",
         "text": {
          "bdata": "AAAAAADgeUAAAAAAAMB0QAAAAAAA8HFAAAAAAACAeEAAAAAAAGB2QAAAAAAA0HxAAAAAAAAwd0AAAAAAAEB3QAAAAAAAwHFAAAAAAAAgckAAAAAAAHB8QAAAAAAAAHpAAAAAAAAAaUAAAAAAAIBcQAAAAAAAAG1AAAAAAAAAWkAAAAAAACBkQA==",
          "dtype": "f8"
         },
         "type": "scatter",
         "x": [
          "2007/08",
          "2009",
          "2009/10",
          "2011",
          "2012",
          "2013",
          "2014",
          "2015",
          "2016",
          "2017",
          "2018",
          "2019",
          "2020/21",
          "2021",
          "2022",
          "2023",
          "2024"
         ],
         "y": {
          "bdata": "ngFMAR8BiAFmAc0BcwF0ARwBIgHHAaAByAByAOgAaAChAA==",
          "dtype": "i2"
         }
        }
       ],
       "layout": {
        "template": {
         "data": {
          "bar": [
           {
            "error_x": {
             "color": "#2a3f5f"
            },
            "error_y": {
             "color": "#2a3f5f"
            },
            "marker": {
             "line": {
              "color": "#E5ECF6",
              "width": 0.5
             },
             "pattern": {
              "fillmode": "overlay",
              "size": 10,
              "solidity": 0.2
             }
            },
            "type": "bar"
           }
          ],
          "barpolar": [
           {
            "marker": {
             "line": {
              "color": "#E5ECF6",
              "width": 0.5
             },
             "pattern": {
              "fillmode": "overlay",
              "size": 10,
              "solidity": 0.2
             }
            },
            "type": "barpolar"
           }
          ],
          "carpet": [
           {
            "aaxis": {
             "endlinecolor": "#2a3f5f",
             "gridcolor": "white",
             "linecolor": "white",
             "minorgridcolor": "white",
             "startlinecolor": "#2a3f5f"
            },
            "baxis": {
             "endlinecolor": "#2a3f5f",
             "gridcolor": "white",
             "linecolor": "white",
             "minorgridcolor": "white",
             "startlinecolor": "#2a3f5f"
            },
            "type": "carpet"
           }
          ],
          "choropleth": [
           {
            "colorbar": {
             "outlinewidth": 0,
             "ticks": ""
            },
            "type": "choropleth"
           }
          ],
          "contour": [
           {
            "colorbar": {
             "outlinewidth": 0,
             "ticks": ""
            },
            "colorscale": [
             [
              0,
              "#0d0887"
             ],
             [
              0.1111111111111111,
              "#46039f"
             ],
             [
              0.2222222222222222,
              "#7201a8"
             ],
             [
              0.3333333333333333,
              "#9c179e"
             ],
             [
              0.4444444444444444,
              "#bd3786"
             ],
             [
              0.5555555555555556,
              "#d8576b"
             ],
             [
              0.6666666666666666,
              "#ed7953"
             ],
             [
              0.7777777777777778,
              "#fb9f3a"
             ],
             [
              0.8888888888888888,
              "#fdca26"
             ],
             [
              1,
              "#f0f921"
             ]
            ],
            "type": "contour"
           }
          ],
          "contourcarpet": [
           {
            "colorbar": {
             "outlinewidth": 0,
             "ticks": ""
            },
            "type": "contourcarpet"
           }
          ],
          "heatmap": [
           {
            "colorbar": {
             "outlinewidth": 0,
             "ticks": ""
            },
            "colorscale": [
             [
              0,
              "#0d0887"
             ],
             [
              0.1111111111111111,
              "#46039f"
             ],
             [
              0.2222222222222222,
              "#7201a8"
             ],
             [
              0.3333333333333333,
              "#9c179e"
             ],
             [
              0.4444444444444444,
              "#bd3786"
             ],
             [
              0.5555555555555556,
              "#d8576b"
             ],
             [
              0.6666666666666666,
              "#ed7953"
             ],
             [
              0.7777777777777778,
              "#fb9f3a"
             ],
             [
              0.8888888888888888,
              "#fdca26"
             ],
             [
              1,
              "#f0f921"
             ]
            ],
            "type": "heatmap"
           }
          ],
          "histogram": [
           {
            "marker": {
             "pattern": {
              "fillmode": "overlay",
              "size": 10,
              "solidity": 0.2
             }
            },
            "type": "histogram"
           }
          ],
          "histogram2d": [
           {
            "colorbar": {
             "outlinewidth": 0,
             "ticks": ""
            },
            "colorscale": [
             [
              0,
              "#0d0887"
             ],
             [
              0.1111111111111111,
              "#46039f"
             ],
             [
              0.2222222222222222,
              "#7201a8"
             ],
             [
              0.3333333333333333,
              "#9c179e"
             ],
             [
              0.4444444444444444,
              "#bd3786"
             ],
             [
              0.5555555555555556,
              "#d8576b"
             ],
             [
              0.6666666666666666,
              "#ed7953"
             ],
             [
              0.7777777777777778,
              "#fb9f3a"
             ],
             [
              0.8888888888888888,
              "#fdca26"
             ],
             [
              1,
              "#f0f921"
             ]
            ],
            "type": "histogram2d"
           }
          ],
          "histogram2dcontour": [
           {
            "colorbar": {
             "outlinewidth": 0,
             "ticks": ""
            },
            "colorscale": [
             [
              0,
              "#0d0887"
             ],
             [
              0.1111111111111111,
              "#46039f"
             ],
             [
              0.2222222222222222,
              "#7201a8"
             ],
             [
              0.3333333333333333,
              "#9c179e"
             ],
             [
              0.4444444444444444,
              "#bd3786"
             ],
             [
              0.5555555555555556,
              "#d8576b"
             ],
             [
              0.6666666666666666,
              "#ed7953"
             ],
             [
              0.7777777777777778,
              "#fb9f3a"
             ],
             [
              0.8888888888888888,
              "#fdca26"
             ],
             [
              1,
              "#f0f921"
             ]
            ],
            "type": "histogram2dcontour"
           }
          ],
          "mesh3d": [
           {
            "colorbar": {
             "outlinewidth": 0,
             "ticks": ""
            },
            "type": "mesh3d"
           }
          ],
          "parcoords": [
           {
            "line": {
             "colorbar": {
              "outlinewidth": 0,
              "ticks": ""
             }
            },
            "type": "parcoords"
           }
          ],
          "pie": [
           {
            "automargin": true,
            "type": "pie"
           }
          ],
          "scatter": [
           {
            "fillpattern": {
             "fillmode": "overlay",
             "size": 10,
             "solidity": 0.2
            },
            "type": "scatter"
           }
          ],
          "scatter3d": [
           {
            "line": {
             "colorbar": {
              "outlinewidth": 0,
              "ticks": ""
             }
            },
            "marker": {
             "colorbar": {
              "outlinewidth": 0,
              "ticks": ""
             }
            },
            "type": "scatter3d"
           }
          ],
          "scattercarpet": [
           {
            "marker": {
             "colorbar": {
              "outlinewidth": 0,
              "ticks": ""
             }
            },
            "type": "scattercarpet"
           }
          ],
          "scattergeo": [
           {
            "marker": {
             "colorbar": {
              "outlinewidth": 0,
              "ticks": ""
             }
            },
            "type": "scattergeo"
           }
          ],
          "scattergl": [
           {
            "marker": {
             "colorbar": {
              "outlinewidth": 0,
              "ticks": ""
             }
            },
            "type": "scattergl"
           }
          ],
          "scattermap": [
           {
            "marker": {
             "colorbar": {
              "outlinewidth": 0,
              "ticks": ""
             }
            },
            "type": "scattermap"
           }
          ],
          "scattermapbox": [
           {
            "marker": {
             "colorbar": {
              "outlinewidth": 0,
              "ticks": ""
             }
            },
            "type": "scattermapbox"
           }
          ],
          "scatterpolar": [
           {
            "marker": {
             "colorbar": {
              "outlinewidth": 0,
              "ticks": ""
             }
            },
            "type": "scatterpolar"
           }
          ],
          "scatterpolargl": [
           {
            "marker": {
             "colorbar": {
              "outlinewidth": 0,
              "ticks": ""
             }
            },
            "type": "scatterpolargl"
           }
          ],
          "scatterternary": [
           {
            "marker": {
             "colorbar": {
              "outlinewidth": 0,
              "ticks": ""
             }
            },
            "type": "scatterternary"
           }
          ],
          "surface": [
           {
            "colorbar": {
             "outlinewidth": 0,
             "ticks": ""
            },
            "colorscale": [
             [
              0,
              "#0d0887"
             ],
             [
              0.1111111111111111,
              "#46039f"
             ],
             [
              0.2222222222222222,
              "#7201a8"
             ],
             [
              0.3333333333333333,
              "#9c179e"
             ],
             [
              0.4444444444444444,
              "#bd3786"
             ],
             [
              0.5555555555555556,
              "#d8576b"
             ],
             [
              0.6666666666666666,
              "#ed7953"
             ],
             [
              0.7777777777777778,
              "#fb9f3a"
             ],
             [
              0.8888888888888888,
              "#fdca26"
             ],
             [
              1,
              "#f0f921"
             ]
            ],
            "type": "surface"
           }
          ],
          "table": [
           {
            "cells": {
             "fill": {
              "color": "#EBF0F8"
             },
             "line": {
              "color": "white"
             }
            },
            "header": {
             "fill": {
              "color": "#C8D4E3"
             },
             "line": {
              "color": "white"
             }
            },
            "type": "table"
           }
          ]
         },
         "layout": {
          "annotationdefaults": {
           "arrowcolor": "#2a3f5f",
           "arrowhead": 0,
           "arrowwidth": 1
          },
          "autotypenumbers": "strict",
          "coloraxis": {
           "colorbar": {
            "outlinewidth": 0,
            "ticks": ""
           }
          },
          "colorscale": {
           "diverging": [
            [
             0,
             "#8e0152"
            ],
            [
             0.1,
             "#c51b7d"
            ],
            [
             0.2,
             "#de77ae"
            ],
            [
             0.3,
             "#f1b6da"
            ],
            [
             0.4,
             "#fde0ef"
            ],
            [
             0.5,
             "#f7f7f7"
            ],
            [
             0.6,
             "#e6f5d0"
            ],
            [
             0.7,
             "#b8e186"
            ],
            [
             0.8,
             "#7fbc41"
            ],
            [
             0.9,
             "#4d9221"
            ],
            [
             1,
             "#276419"
            ]
           ],
           "sequential": [
            [
             0,
             "#0d0887"
            ],
            [
             0.1111111111111111,
             "#46039f"
            ],
            [
             0.2222222222222222,
             "#7201a8"
            ],
            [
             0.3333333333333333,
             "#9c179e"
            ],
            [
             0.4444444444444444,
             "#bd3786"
            ],
            [
             0.5555555555555556,
             "#d8576b"
            ],
            [
             0.6666666666666666,
             "#ed7953"
            ],
            [
             0.7777777777777778,
             "#fb9f3a"
            ],
            [
             0.8888888888888888,
             "#fdca26"
            ],
            [
             1,
             "#f0f921"
            ]
           ],
           "sequentialminus": [
            [
             0,
             "#0d0887"
            ],
            [
             0.1111111111111111,
             "#46039f"
            ],
            [
             0.2222222222222222,
             "#7201a8"
            ],
            [
             0.3333333333333333,
             "#9c179e"
            ],
            [
             0.4444444444444444,
             "#bd3786"
            ],
            [
             0.5555555555555556,
             "#d8576b"
            ],
            [
             0.6666666666666666,
             "#ed7953"
            ],
            [
             0.7777777777777778,
             "#fb9f3a"
            ],
            [
             0.8888888888888888,
             "#fdca26"
            ],
            [
             1,
             "#f0f921"
            ]
           ]
          },
          "colorway": [
           "#636efa",
           "#EF553B",
           "#00cc96",
           "#ab63fa",
           "#FFA15A",
           "#19d3f3",
           "#FF6692",
           "#B6E880",
           "#FF97FF",
           "#FECB52"
          ],
          "font": {
           "color": "#2a3f5f"
          },
          "geo": {
           "bgcolor": "white",
           "lakecolor": "white",
           "landcolor": "#E5ECF6",
           "showlakes": true,
           "showland": true,
           "subunitcolor": "white"
          },
          "hoverlabel": {
           "align": "left"
          },
          "hovermode": "closest",
          "mapbox": {
           "style": "light"
          },
          "paper_bgcolor": "white",
          "plot_bgcolor": "#E5ECF6",
          "polar": {
           "angularaxis": {
            "gridcolor": "white",
            "linecolor": "white",
            "ticks": ""
           },
           "bgcolor": "#E5ECF6",
           "radialaxis": {
            "gridcolor": "white",
            "linecolor": "white",
            "ticks": ""
           }
          },
          "scene": {
           "xaxis": {
            "backgroundcolor": "#E5ECF6",
            "gridcolor": "white",
            "gridwidth": 2,
            "linecolor": "white",
            "showbackground": true,
            "ticks": "",
            "zerolinecolor": "white"
           },
           "yaxis": {
            "backgroundcolor": "#E5ECF6",
            "gridcolor": "white",
            "gridwidth": 2,
            "linecolor": "white",
            "showbackground": true,
            "ticks": "",
            "zerolinecolor": "white"
           },
           "zaxis": {
            "backgroundcolor": "#E5ECF6",
            "gridcolor": "white",
            "gridwidth": 2,
            "linecolor": "white",
            "showbackground": true,
            "ticks": "",
            "zerolinecolor": "white"
           }
          },
          "shapedefaults": {
           "line": {
            "color": "#2a3f5f"
           }
          },
          "ternary": {
           "aaxis": {
            "gridcolor": "white",
            "linecolor": "white",
            "ticks": ""
           },
           "baxis": {
            "gridcolor": "white",
            "linecolor": "white",
            "ticks": ""
           },
           "bgcolor": "#E5ECF6",
           "caxis": {
            "gridcolor": "white",
            "linecolor": "white",
            "ticks": ""
           }
          },
          "title": {
           "x": 0.05
          },
          "xaxis": {
           "automargin": true,
           "gridcolor": "white",
           "linecolor": "white",
           "ticks": "",
           "title": {
            "standoff": 15
           },
           "zerolinecolor": "white",
           "zerolinewidth": 2
          },
          "yaxis": {
           "automargin": true,
           "gridcolor": "white",
           "linecolor": "white",
           "ticks": "",
           "title": {
            "standoff": 15
           },
           "zerolinecolor": "white",
           "zerolinewidth": 2
          }
         }
        },
        "title": {
         "text": "Virat Kohli Runs per year"
        },
        "xaxis": {
         "title": {
          "text": "Year"
         }
        },
        "yaxis": {
         "title": {
          "text": "Runs"
         }
        }
       }
      }
     },
     "metadata": {},
     "output_type": "display_data"
    }
   ],
   "source": [
    "trace1 = go.Scatter(x = single_batsman_year_by_year['season'],\n",
    "                  y= single_batsman_year_by_year['batsman_runs'],\n",
    "                  mode ='markers+lines',\n",
    "                  text =  single_batsman_year_by_year['batsman_runs'],\n",
    "                  hovertemplate='Runs: %{y}<extra></extra>',\n",
    "                  name = 'Virat Kholi'\n",
    "                  )\n",
    "\n",
    "trace2 = go.Scatter(x = single_batsman_year_by_year1['season'],\n",
    "                  y= single_batsman_year_by_year1['batsman_runs'],\n",
    "                  mode ='markers+lines',\n",
    "                  text =  single_batsman_year_by_year1['batsman_runs'],\n",
    "                  hovertemplate='Runs: %{y}<extra></extra>',\n",
    "                  name = 'MS Dhoni')\n",
    "\n",
    "data = [trace1, trace2]\n",
    "\n",
    "layout = go.Layout(title='Virat Kohli Runs per year',\n",
    "                   xaxis= dict(title = 'Year'),\n",
    "                   yaxis=dict(title = 'Runs'))\n",
    "\n",
    "fig = go.Figure(data = data, layout = layout)\n",
    "\n",
    "fig.show()"
   ]
  },
  {
   "cell_type": "markdown",
   "id": "09b029f1",
   "metadata": {},
   "source": [
    "<span style=\"font-size: 18px;\"> <b> 🎯 ***Question:*** </b> Make a function, in which you pass the batsman name in tuple and display the line plot of all the batsman of the tuple. "
   ]
  },
  {
   "cell_type": "code",
   "execution_count": 219,
   "id": "69f0afbe",
   "metadata": {},
   "outputs": [],
   "source": [
    "def batsman_line_chart_comparison(*name):\n",
    "    ''' Function to Visualize the line plot of all the batsman present in the tuple'''\n",
    "    data = []\n",
    "    for i in name:\n",
    "        \n",
    "        single_batsman = ipl[ipl['batter'] == i]\n",
    "        single_batsman_year_by_year = single_batsman.groupby('season')['batsman_runs'].sum().reset_index()\n",
    "        \n",
    "        trace = go.Scatter(x = single_batsman_year_by_year['season'],\n",
    "                  y= single_batsman_year_by_year['batsman_runs'],\n",
    "                  mode ='markers+lines',\n",
    "                  text =  single_batsman_year_by_year['batsman_runs'],\n",
    "                  hovertemplate='Runs: %{y}<extra></extra>',\n",
    "                  name = i\n",
    "        )\n",
    "        \n",
    "        data.append(trace)\n",
    "        \n",
    "    layout = go.Layout(title='Virat Kohli Runs per year',\n",
    "                   xaxis= dict(title = 'Year'),\n",
    "                   yaxis=dict(title = 'Runs'))\n",
    "\n",
    "    fig = go.Figure(data = data, layout = layout)\n",
    "\n",
    "    fig.show()\n",
    "    "
   ]
  },
  {
   "cell_type": "code",
   "execution_count": 220,
   "id": "28770e0d",
   "metadata": {},
   "outputs": [
    {
     "data": {
      "application/vnd.plotly.v1+json": {
       "config": {
        "plotlyServerURL": "https://plot.ly"
       },
       "data": [
        {
         "hovertemplate": "Runs: %{y}<extra></extra>",
         "mode": "markers+lines",
         "name": "V Kohli",
         "text": {
          "bdata": "AAAAAACgZEAAAAAAAMBuQAAAAAAAMHNAAAAAAABogUAAAAAAAMB2QAAAAAAA+INAAAAAAABwdkAAAAAAAJB/QAAAAAAAaI5AAAAAAABAc0AAAAAAAJCAQAAAAAAAAH1AAAAAAABwfUAAAAAAAFB5QAAAAAAAUHVAAAAAAAD4g0AAAAAAACiHQA==",
          "dtype": "f8"
         },
         "type": "scatter",
         "x": [
          "2007/08",
          "2009",
          "2009/10",
          "2011",
          "2012",
          "2013",
          "2014",
          "2015",
          "2016",
          "2017",
          "2018",
          "2019",
          "2020/21",
          "2021",
          "2022",
          "2023",
          "2024"
         ],
         "y": {
          "bdata": "pQD2ADMBLQJsAX8CZwH5Ac0DNAESAtAB1wGVAVUBfwLlAg==",
          "dtype": "i2"
         }
        },
        {
         "hovertemplate": "Runs: %{y}<extra></extra>",
         "mode": "markers+lines",
         "name": "MS Dhoni",
         "text": {
          "bdata": "AAAAAADgeUAAAAAAAMB0QAAAAAAA8HFAAAAAAACAeEAAAAAAAGB2QAAAAAAA0HxAAAAAAAAwd0AAAAAAAEB3QAAAAAAAwHFAAAAAAAAgckAAAAAAAHB8QAAAAAAAAHpAAAAAAAAAaUAAAAAAAIBcQAAAAAAAAG1AAAAAAAAAWkAAAAAAACBkQA==",
          "dtype": "f8"
         },
         "type": "scatter",
         "x": [
          "2007/08",
          "2009",
          "2009/10",
          "2011",
          "2012",
          "2013",
          "2014",
          "2015",
          "2016",
          "2017",
          "2018",
          "2019",
          "2020/21",
          "2021",
          "2022",
          "2023",
          "2024"
         ],
         "y": {
          "bdata": "ngFMAR8BiAFmAc0BcwF0ARwBIgHHAaAByAByAOgAaAChAA==",
          "dtype": "i2"
         }
        },
        {
         "hovertemplate": "Runs: %{y}<extra></extra>",
         "mode": "markers+lines",
         "name": "DA Warner",
         "text": {
          "bdata": "AAAAAABgZEAAAAAAAKBxQAAAAAAAQHRAAAAAAAAAcEAAAAAAAKB5QAAAAAAAgIBAAAAAAACQgUAAAAAAAICKQAAAAAAACIRAAAAAAACghUAAAAAAACCBQAAAAAAAoGhAAAAAAAAAe0AAAAAAACCAQAAAAAAAAGVA",
          "dtype": "f8"
         },
         "type": "scatter",
         "x": [
          "2009",
          "2009/10",
          "2011",
          "2012",
          "2013",
          "2014",
          "2015",
          "2016",
          "2017",
          "2019",
          "2020/21",
          "2021",
          "2022",
          "2023",
          "2024"
         ],
         "y": {
          "bdata": "owAaAUQBAAGaARACMgJQA4ECtAIkAsUAsAEEAqgA",
          "dtype": "i2"
         }
        },
        {
         "hovertemplate": "Runs: %{y}<extra></extra>",
         "mode": "markers+lines",
         "name": "SK Raina",
         "text": {
          "bdata": "AAAAAABQekAAAAAAACB7QAAAAAAAgIBAAAAAAABge0AAAAAAAJB7QAAAAAAAIIFAAAAAAABYgEAAAAAAAGB3QAAAAAAA8HhAAAAAAACge0AAAAAAANB7QAAAAAAA8HdAAAAAAAAAZEA=",
          "dtype": "f8"
         },
         "type": "scatter",
         "x": [
          "2007/08",
          "2009",
          "2009/10",
          "2011",
          "2012",
          "2013",
          "2014",
          "2015",
          "2016",
          "2017",
          "2018",
          "2019",
          "2021"
         ],
         "y": {
          "bdata": "pQGyARACtgG5ASQCCwJ2AY8BugG9AX8BoAA=",
          "dtype": "i2"
         }
        }
       ],
       "layout": {
        "template": {
         "data": {
          "bar": [
           {
            "error_x": {
             "color": "#2a3f5f"
            },
            "error_y": {
             "color": "#2a3f5f"
            },
            "marker": {
             "line": {
              "color": "#E5ECF6",
              "width": 0.5
             },
             "pattern": {
              "fillmode": "overlay",
              "size": 10,
              "solidity": 0.2
             }
            },
            "type": "bar"
           }
          ],
          "barpolar": [
           {
            "marker": {
             "line": {
              "color": "#E5ECF6",
              "width": 0.5
             },
             "pattern": {
              "fillmode": "overlay",
              "size": 10,
              "solidity": 0.2
             }
            },
            "type": "barpolar"
           }
          ],
          "carpet": [
           {
            "aaxis": {
             "endlinecolor": "#2a3f5f",
             "gridcolor": "white",
             "linecolor": "white",
             "minorgridcolor": "white",
             "startlinecolor": "#2a3f5f"
            },
            "baxis": {
             "endlinecolor": "#2a3f5f",
             "gridcolor": "white",
             "linecolor": "white",
             "minorgridcolor": "white",
             "startlinecolor": "#2a3f5f"
            },
            "type": "carpet"
           }
          ],
          "choropleth": [
           {
            "colorbar": {
             "outlinewidth": 0,
             "ticks": ""
            },
            "type": "choropleth"
           }
          ],
          "contour": [
           {
            "colorbar": {
             "outlinewidth": 0,
             "ticks": ""
            },
            "colorscale": [
             [
              0,
              "#0d0887"
             ],
             [
              0.1111111111111111,
              "#46039f"
             ],
             [
              0.2222222222222222,
              "#7201a8"
             ],
             [
              0.3333333333333333,
              "#9c179e"
             ],
             [
              0.4444444444444444,
              "#bd3786"
             ],
             [
              0.5555555555555556,
              "#d8576b"
             ],
             [
              0.6666666666666666,
              "#ed7953"
             ],
             [
              0.7777777777777778,
              "#fb9f3a"
             ],
             [
              0.8888888888888888,
              "#fdca26"
             ],
             [
              1,
              "#f0f921"
             ]
            ],
            "type": "contour"
           }
          ],
          "contourcarpet": [
           {
            "colorbar": {
             "outlinewidth": 0,
             "ticks": ""
            },
            "type": "contourcarpet"
           }
          ],
          "heatmap": [
           {
            "colorbar": {
             "outlinewidth": 0,
             "ticks": ""
            },
            "colorscale": [
             [
              0,
              "#0d0887"
             ],
             [
              0.1111111111111111,
              "#46039f"
             ],
             [
              0.2222222222222222,
              "#7201a8"
             ],
             [
              0.3333333333333333,
              "#9c179e"
             ],
             [
              0.4444444444444444,
              "#bd3786"
             ],
             [
              0.5555555555555556,
              "#d8576b"
             ],
             [
              0.6666666666666666,
              "#ed7953"
             ],
             [
              0.7777777777777778,
              "#fb9f3a"
             ],
             [
              0.8888888888888888,
              "#fdca26"
             ],
             [
              1,
              "#f0f921"
             ]
            ],
            "type": "heatmap"
           }
          ],
          "histogram": [
           {
            "marker": {
             "pattern": {
              "fillmode": "overlay",
              "size": 10,
              "solidity": 0.2
             }
            },
            "type": "histogram"
           }
          ],
          "histogram2d": [
           {
            "colorbar": {
             "outlinewidth": 0,
             "ticks": ""
            },
            "colorscale": [
             [
              0,
              "#0d0887"
             ],
             [
              0.1111111111111111,
              "#46039f"
             ],
             [
              0.2222222222222222,
              "#7201a8"
             ],
             [
              0.3333333333333333,
              "#9c179e"
             ],
             [
              0.4444444444444444,
              "#bd3786"
             ],
             [
              0.5555555555555556,
              "#d8576b"
             ],
             [
              0.6666666666666666,
              "#ed7953"
             ],
             [
              0.7777777777777778,
              "#fb9f3a"
             ],
             [
              0.8888888888888888,
              "#fdca26"
             ],
             [
              1,
              "#f0f921"
             ]
            ],
            "type": "histogram2d"
           }
          ],
          "histogram2dcontour": [
           {
            "colorbar": {
             "outlinewidth": 0,
             "ticks": ""
            },
            "colorscale": [
             [
              0,
              "#0d0887"
             ],
             [
              0.1111111111111111,
              "#46039f"
             ],
             [
              0.2222222222222222,
              "#7201a8"
             ],
             [
              0.3333333333333333,
              "#9c179e"
             ],
             [
              0.4444444444444444,
              "#bd3786"
             ],
             [
              0.5555555555555556,
              "#d8576b"
             ],
             [
              0.6666666666666666,
              "#ed7953"
             ],
             [
              0.7777777777777778,
              "#fb9f3a"
             ],
             [
              0.8888888888888888,
              "#fdca26"
             ],
             [
              1,
              "#f0f921"
             ]
            ],
            "type": "histogram2dcontour"
           }
          ],
          "mesh3d": [
           {
            "colorbar": {
             "outlinewidth": 0,
             "ticks": ""
            },
            "type": "mesh3d"
           }
          ],
          "parcoords": [
           {
            "line": {
             "colorbar": {
              "outlinewidth": 0,
              "ticks": ""
             }
            },
            "type": "parcoords"
           }
          ],
          "pie": [
           {
            "automargin": true,
            "type": "pie"
           }
          ],
          "scatter": [
           {
            "fillpattern": {
             "fillmode": "overlay",
             "size": 10,
             "solidity": 0.2
            },
            "type": "scatter"
           }
          ],
          "scatter3d": [
           {
            "line": {
             "colorbar": {
              "outlinewidth": 0,
              "ticks": ""
             }
            },
            "marker": {
             "colorbar": {
              "outlinewidth": 0,
              "ticks": ""
             }
            },
            "type": "scatter3d"
           }
          ],
          "scattercarpet": [
           {
            "marker": {
             "colorbar": {
              "outlinewidth": 0,
              "ticks": ""
             }
            },
            "type": "scattercarpet"
           }
          ],
          "scattergeo": [
           {
            "marker": {
             "colorbar": {
              "outlinewidth": 0,
              "ticks": ""
             }
            },
            "type": "scattergeo"
           }
          ],
          "scattergl": [
           {
            "marker": {
             "colorbar": {
              "outlinewidth": 0,
              "ticks": ""
             }
            },
            "type": "scattergl"
           }
          ],
          "scattermap": [
           {
            "marker": {
             "colorbar": {
              "outlinewidth": 0,
              "ticks": ""
             }
            },
            "type": "scattermap"
           }
          ],
          "scattermapbox": [
           {
            "marker": {
             "colorbar": {
              "outlinewidth": 0,
              "ticks": ""
             }
            },
            "type": "scattermapbox"
           }
          ],
          "scatterpolar": [
           {
            "marker": {
             "colorbar": {
              "outlinewidth": 0,
              "ticks": ""
             }
            },
            "type": "scatterpolar"
           }
          ],
          "scatterpolargl": [
           {
            "marker": {
             "colorbar": {
              "outlinewidth": 0,
              "ticks": ""
             }
            },
            "type": "scatterpolargl"
           }
          ],
          "scatterternary": [
           {
            "marker": {
             "colorbar": {
              "outlinewidth": 0,
              "ticks": ""
             }
            },
            "type": "scatterternary"
           }
          ],
          "surface": [
           {
            "colorbar": {
             "outlinewidth": 0,
             "ticks": ""
            },
            "colorscale": [
             [
              0,
              "#0d0887"
             ],
             [
              0.1111111111111111,
              "#46039f"
             ],
             [
              0.2222222222222222,
              "#7201a8"
             ],
             [
              0.3333333333333333,
              "#9c179e"
             ],
             [
              0.4444444444444444,
              "#bd3786"
             ],
             [
              0.5555555555555556,
              "#d8576b"
             ],
             [
              0.6666666666666666,
              "#ed7953"
             ],
             [
              0.7777777777777778,
              "#fb9f3a"
             ],
             [
              0.8888888888888888,
              "#fdca26"
             ],
             [
              1,
              "#f0f921"
             ]
            ],
            "type": "surface"
           }
          ],
          "table": [
           {
            "cells": {
             "fill": {
              "color": "#EBF0F8"
             },
             "line": {
              "color": "white"
             }
            },
            "header": {
             "fill": {
              "color": "#C8D4E3"
             },
             "line": {
              "color": "white"
             }
            },
            "type": "table"
           }
          ]
         },
         "layout": {
          "annotationdefaults": {
           "arrowcolor": "#2a3f5f",
           "arrowhead": 0,
           "arrowwidth": 1
          },
          "autotypenumbers": "strict",
          "coloraxis": {
           "colorbar": {
            "outlinewidth": 0,
            "ticks": ""
           }
          },
          "colorscale": {
           "diverging": [
            [
             0,
             "#8e0152"
            ],
            [
             0.1,
             "#c51b7d"
            ],
            [
             0.2,
             "#de77ae"
            ],
            [
             0.3,
             "#f1b6da"
            ],
            [
             0.4,
             "#fde0ef"
            ],
            [
             0.5,
             "#f7f7f7"
            ],
            [
             0.6,
             "#e6f5d0"
            ],
            [
             0.7,
             "#b8e186"
            ],
            [
             0.8,
             "#7fbc41"
            ],
            [
             0.9,
             "#4d9221"
            ],
            [
             1,
             "#276419"
            ]
           ],
           "sequential": [
            [
             0,
             "#0d0887"
            ],
            [
             0.1111111111111111,
             "#46039f"
            ],
            [
             0.2222222222222222,
             "#7201a8"
            ],
            [
             0.3333333333333333,
             "#9c179e"
            ],
            [
             0.4444444444444444,
             "#bd3786"
            ],
            [
             0.5555555555555556,
             "#d8576b"
            ],
            [
             0.6666666666666666,
             "#ed7953"
            ],
            [
             0.7777777777777778,
             "#fb9f3a"
            ],
            [
             0.8888888888888888,
             "#fdca26"
            ],
            [
             1,
             "#f0f921"
            ]
           ],
           "sequentialminus": [
            [
             0,
             "#0d0887"
            ],
            [
             0.1111111111111111,
             "#46039f"
            ],
            [
             0.2222222222222222,
             "#7201a8"
            ],
            [
             0.3333333333333333,
             "#9c179e"
            ],
            [
             0.4444444444444444,
             "#bd3786"
            ],
            [
             0.5555555555555556,
             "#d8576b"
            ],
            [
             0.6666666666666666,
             "#ed7953"
            ],
            [
             0.7777777777777778,
             "#fb9f3a"
            ],
            [
             0.8888888888888888,
             "#fdca26"
            ],
            [
             1,
             "#f0f921"
            ]
           ]
          },
          "colorway": [
           "#636efa",
           "#EF553B",
           "#00cc96",
           "#ab63fa",
           "#FFA15A",
           "#19d3f3",
           "#FF6692",
           "#B6E880",
           "#FF97FF",
           "#FECB52"
          ],
          "font": {
           "color": "#2a3f5f"
          },
          "geo": {
           "bgcolor": "white",
           "lakecolor": "white",
           "landcolor": "#E5ECF6",
           "showlakes": true,
           "showland": true,
           "subunitcolor": "white"
          },
          "hoverlabel": {
           "align": "left"
          },
          "hovermode": "closest",
          "mapbox": {
           "style": "light"
          },
          "paper_bgcolor": "white",
          "plot_bgcolor": "#E5ECF6",
          "polar": {
           "angularaxis": {
            "gridcolor": "white",
            "linecolor": "white",
            "ticks": ""
           },
           "bgcolor": "#E5ECF6",
           "radialaxis": {
            "gridcolor": "white",
            "linecolor": "white",
            "ticks": ""
           }
          },
          "scene": {
           "xaxis": {
            "backgroundcolor": "#E5ECF6",
            "gridcolor": "white",
            "gridwidth": 2,
            "linecolor": "white",
            "showbackground": true,
            "ticks": "",
            "zerolinecolor": "white"
           },
           "yaxis": {
            "backgroundcolor": "#E5ECF6",
            "gridcolor": "white",
            "gridwidth": 2,
            "linecolor": "white",
            "showbackground": true,
            "ticks": "",
            "zerolinecolor": "white"
           },
           "zaxis": {
            "backgroundcolor": "#E5ECF6",
            "gridcolor": "white",
            "gridwidth": 2,
            "linecolor": "white",
            "showbackground": true,
            "ticks": "",
            "zerolinecolor": "white"
           }
          },
          "shapedefaults": {
           "line": {
            "color": "#2a3f5f"
           }
          },
          "ternary": {
           "aaxis": {
            "gridcolor": "white",
            "linecolor": "white",
            "ticks": ""
           },
           "baxis": {
            "gridcolor": "white",
            "linecolor": "white",
            "ticks": ""
           },
           "bgcolor": "#E5ECF6",
           "caxis": {
            "gridcolor": "white",
            "linecolor": "white",
            "ticks": ""
           }
          },
          "title": {
           "x": 0.05
          },
          "xaxis": {
           "automargin": true,
           "gridcolor": "white",
           "linecolor": "white",
           "ticks": "",
           "title": {
            "standoff": 15
           },
           "zerolinecolor": "white",
           "zerolinewidth": 2
          },
          "yaxis": {
           "automargin": true,
           "gridcolor": "white",
           "linecolor": "white",
           "ticks": "",
           "title": {
            "standoff": 15
           },
           "zerolinecolor": "white",
           "zerolinewidth": 2
          }
         }
        },
        "title": {
         "text": "Virat Kohli Runs per year"
        },
        "xaxis": {
         "title": {
          "text": "Year"
         }
        },
        "yaxis": {
         "title": {
          "text": "Runs"
         }
        }
       }
      }
     },
     "metadata": {},
     "output_type": "display_data"
    }
   ],
   "source": [
    "batsman_line_chart_comparison('V Kohli', 'MS Dhoni', 'DA Warner', 'SK Raina')"
   ]
  },
  {
   "cell_type": "markdown",
   "id": "7c0e0e40",
   "metadata": {},
   "source": [
    "## <b> <center> 3. Bar Plot"
   ]
  },
  {
   "cell_type": "code",
   "execution_count": 221,
   "id": "39d27d21",
   "metadata": {},
   "outputs": [
    {
     "data": {
      "text/html": [
       "<div>\n",
       "<style scoped>\n",
       "    .dataframe tbody tr th:only-of-type {\n",
       "        vertical-align: middle;\n",
       "    }\n",
       "\n",
       "    .dataframe tbody tr th {\n",
       "        vertical-align: top;\n",
       "    }\n",
       "\n",
       "    .dataframe thead th {\n",
       "        text-align: right;\n",
       "    }\n",
       "</style>\n",
       "<table border=\"1\" class=\"dataframe\">\n",
       "  <thead>\n",
       "    <tr style=\"text-align: right;\">\n",
       "      <th></th>\n",
       "      <th>batter</th>\n",
       "      <th>batsman_runs</th>\n",
       "    </tr>\n",
       "  </thead>\n",
       "  <tbody>\n",
       "    <tr>\n",
       "      <th>0</th>\n",
       "      <td>V Kohli</td>\n",
       "      <td>8014</td>\n",
       "    </tr>\n",
       "    <tr>\n",
       "      <th>1</th>\n",
       "      <td>S Dhawan</td>\n",
       "      <td>6769</td>\n",
       "    </tr>\n",
       "    <tr>\n",
       "      <th>2</th>\n",
       "      <td>RG Sharma</td>\n",
       "      <td>6630</td>\n",
       "    </tr>\n",
       "    <tr>\n",
       "      <th>3</th>\n",
       "      <td>DA Warner</td>\n",
       "      <td>6567</td>\n",
       "    </tr>\n",
       "    <tr>\n",
       "      <th>4</th>\n",
       "      <td>SK Raina</td>\n",
       "      <td>5536</td>\n",
       "    </tr>\n",
       "    <tr>\n",
       "      <th>5</th>\n",
       "      <td>MS Dhoni</td>\n",
       "      <td>5243</td>\n",
       "    </tr>\n",
       "    <tr>\n",
       "      <th>6</th>\n",
       "      <td>AB de Villiers</td>\n",
       "      <td>5181</td>\n",
       "    </tr>\n",
       "    <tr>\n",
       "      <th>7</th>\n",
       "      <td>CH Gayle</td>\n",
       "      <td>4997</td>\n",
       "    </tr>\n",
       "    <tr>\n",
       "      <th>8</th>\n",
       "      <td>RV Uthappa</td>\n",
       "      <td>4954</td>\n",
       "    </tr>\n",
       "    <tr>\n",
       "      <th>9</th>\n",
       "      <td>KD Karthik</td>\n",
       "      <td>4843</td>\n",
       "    </tr>\n",
       "  </tbody>\n",
       "</table>\n",
       "</div>"
      ],
      "text/plain": [
       "           batter  batsman_runs\n",
       "0         V Kohli          8014\n",
       "1        S Dhawan          6769\n",
       "2       RG Sharma          6630\n",
       "3       DA Warner          6567\n",
       "4        SK Raina          5536\n",
       "5        MS Dhoni          5243\n",
       "6  AB de Villiers          5181\n",
       "7        CH Gayle          4997\n",
       "8      RV Uthappa          4954\n",
       "9      KD Karthik          4843"
      ]
     },
     "execution_count": 221,
     "metadata": {},
     "output_type": "execute_result"
    }
   ],
   "source": [
    "top10_batsman_run_wise = ipl.groupby('batter')['batsman_runs'].sum().sort_values(ascending=False).iloc[:10].reset_index()\n",
    "\n",
    "top10_batsman_run_wise"
   ]
  },
  {
   "cell_type": "code",
   "execution_count": 222,
   "id": "bcbd8b2c",
   "metadata": {},
   "outputs": [
    {
     "data": {
      "application/vnd.plotly.v1+json": {
       "config": {
        "plotlyServerURL": "https://plot.ly"
       },
       "data": [
        {
         "marker": {
          "color": [
           "#636EFA",
           "#EF553B",
           "#00CC96",
           "#AB63FA",
           "#FFA15A",
           "#19D3F3",
           "#FF6692",
           "#B6E880",
           "#FF97FF",
           "#FECB52"
          ]
         },
         "type": "bar",
         "x": [
          "V Kohli",
          "S Dhawan",
          "RG Sharma",
          "DA Warner",
          "SK Raina",
          "MS Dhoni",
          "AB de Villiers",
          "CH Gayle",
          "RV Uthappa",
          "KD Karthik"
         ],
         "y": {
          "bdata": "Th9xGuYZpxmgFXsUPRSFE1oT6xI=",
          "dtype": "i2"
         }
        }
       ],
       "layout": {
        "template": {
         "data": {
          "bar": [
           {
            "error_x": {
             "color": "#2a3f5f"
            },
            "error_y": {
             "color": "#2a3f5f"
            },
            "marker": {
             "line": {
              "color": "#E5ECF6",
              "width": 0.5
             },
             "pattern": {
              "fillmode": "overlay",
              "size": 10,
              "solidity": 0.2
             }
            },
            "type": "bar"
           }
          ],
          "barpolar": [
           {
            "marker": {
             "line": {
              "color": "#E5ECF6",
              "width": 0.5
             },
             "pattern": {
              "fillmode": "overlay",
              "size": 10,
              "solidity": 0.2
             }
            },
            "type": "barpolar"
           }
          ],
          "carpet": [
           {
            "aaxis": {
             "endlinecolor": "#2a3f5f",
             "gridcolor": "white",
             "linecolor": "white",
             "minorgridcolor": "white",
             "startlinecolor": "#2a3f5f"
            },
            "baxis": {
             "endlinecolor": "#2a3f5f",
             "gridcolor": "white",
             "linecolor": "white",
             "minorgridcolor": "white",
             "startlinecolor": "#2a3f5f"
            },
            "type": "carpet"
           }
          ],
          "choropleth": [
           {
            "colorbar": {
             "outlinewidth": 0,
             "ticks": ""
            },
            "type": "choropleth"
           }
          ],
          "contour": [
           {
            "colorbar": {
             "outlinewidth": 0,
             "ticks": ""
            },
            "colorscale": [
             [
              0,
              "#0d0887"
             ],
             [
              0.1111111111111111,
              "#46039f"
             ],
             [
              0.2222222222222222,
              "#7201a8"
             ],
             [
              0.3333333333333333,
              "#9c179e"
             ],
             [
              0.4444444444444444,
              "#bd3786"
             ],
             [
              0.5555555555555556,
              "#d8576b"
             ],
             [
              0.6666666666666666,
              "#ed7953"
             ],
             [
              0.7777777777777778,
              "#fb9f3a"
             ],
             [
              0.8888888888888888,
              "#fdca26"
             ],
             [
              1,
              "#f0f921"
             ]
            ],
            "type": "contour"
           }
          ],
          "contourcarpet": [
           {
            "colorbar": {
             "outlinewidth": 0,
             "ticks": ""
            },
            "type": "contourcarpet"
           }
          ],
          "heatmap": [
           {
            "colorbar": {
             "outlinewidth": 0,
             "ticks": ""
            },
            "colorscale": [
             [
              0,
              "#0d0887"
             ],
             [
              0.1111111111111111,
              "#46039f"
             ],
             [
              0.2222222222222222,
              "#7201a8"
             ],
             [
              0.3333333333333333,
              "#9c179e"
             ],
             [
              0.4444444444444444,
              "#bd3786"
             ],
             [
              0.5555555555555556,
              "#d8576b"
             ],
             [
              0.6666666666666666,
              "#ed7953"
             ],
             [
              0.7777777777777778,
              "#fb9f3a"
             ],
             [
              0.8888888888888888,
              "#fdca26"
             ],
             [
              1,
              "#f0f921"
             ]
            ],
            "type": "heatmap"
           }
          ],
          "histogram": [
           {
            "marker": {
             "pattern": {
              "fillmode": "overlay",
              "size": 10,
              "solidity": 0.2
             }
            },
            "type": "histogram"
           }
          ],
          "histogram2d": [
           {
            "colorbar": {
             "outlinewidth": 0,
             "ticks": ""
            },
            "colorscale": [
             [
              0,
              "#0d0887"
             ],
             [
              0.1111111111111111,
              "#46039f"
             ],
             [
              0.2222222222222222,
              "#7201a8"
             ],
             [
              0.3333333333333333,
              "#9c179e"
             ],
             [
              0.4444444444444444,
              "#bd3786"
             ],
             [
              0.5555555555555556,
              "#d8576b"
             ],
             [
              0.6666666666666666,
              "#ed7953"
             ],
             [
              0.7777777777777778,
              "#fb9f3a"
             ],
             [
              0.8888888888888888,
              "#fdca26"
             ],
             [
              1,
              "#f0f921"
             ]
            ],
            "type": "histogram2d"
           }
          ],
          "histogram2dcontour": [
           {
            "colorbar": {
             "outlinewidth": 0,
             "ticks": ""
            },
            "colorscale": [
             [
              0,
              "#0d0887"
             ],
             [
              0.1111111111111111,
              "#46039f"
             ],
             [
              0.2222222222222222,
              "#7201a8"
             ],
             [
              0.3333333333333333,
              "#9c179e"
             ],
             [
              0.4444444444444444,
              "#bd3786"
             ],
             [
              0.5555555555555556,
              "#d8576b"
             ],
             [
              0.6666666666666666,
              "#ed7953"
             ],
             [
              0.7777777777777778,
              "#fb9f3a"
             ],
             [
              0.8888888888888888,
              "#fdca26"
             ],
             [
              1,
              "#f0f921"
             ]
            ],
            "type": "histogram2dcontour"
           }
          ],
          "mesh3d": [
           {
            "colorbar": {
             "outlinewidth": 0,
             "ticks": ""
            },
            "type": "mesh3d"
           }
          ],
          "parcoords": [
           {
            "line": {
             "colorbar": {
              "outlinewidth": 0,
              "ticks": ""
             }
            },
            "type": "parcoords"
           }
          ],
          "pie": [
           {
            "automargin": true,
            "type": "pie"
           }
          ],
          "scatter": [
           {
            "fillpattern": {
             "fillmode": "overlay",
             "size": 10,
             "solidity": 0.2
            },
            "type": "scatter"
           }
          ],
          "scatter3d": [
           {
            "line": {
             "colorbar": {
              "outlinewidth": 0,
              "ticks": ""
             }
            },
            "marker": {
             "colorbar": {
              "outlinewidth": 0,
              "ticks": ""
             }
            },
            "type": "scatter3d"
           }
          ],
          "scattercarpet": [
           {
            "marker": {
             "colorbar": {
              "outlinewidth": 0,
              "ticks": ""
             }
            },
            "type": "scattercarpet"
           }
          ],
          "scattergeo": [
           {
            "marker": {
             "colorbar": {
              "outlinewidth": 0,
              "ticks": ""
             }
            },
            "type": "scattergeo"
           }
          ],
          "scattergl": [
           {
            "marker": {
             "colorbar": {
              "outlinewidth": 0,
              "ticks": ""
             }
            },
            "type": "scattergl"
           }
          ],
          "scattermap": [
           {
            "marker": {
             "colorbar": {
              "outlinewidth": 0,
              "ticks": ""
             }
            },
            "type": "scattermap"
           }
          ],
          "scattermapbox": [
           {
            "marker": {
             "colorbar": {
              "outlinewidth": 0,
              "ticks": ""
             }
            },
            "type": "scattermapbox"
           }
          ],
          "scatterpolar": [
           {
            "marker": {
             "colorbar": {
              "outlinewidth": 0,
              "ticks": ""
             }
            },
            "type": "scatterpolar"
           }
          ],
          "scatterpolargl": [
           {
            "marker": {
             "colorbar": {
              "outlinewidth": 0,
              "ticks": ""
             }
            },
            "type": "scatterpolargl"
           }
          ],
          "scatterternary": [
           {
            "marker": {
             "colorbar": {
              "outlinewidth": 0,
              "ticks": ""
             }
            },
            "type": "scatterternary"
           }
          ],
          "surface": [
           {
            "colorbar": {
             "outlinewidth": 0,
             "ticks": ""
            },
            "colorscale": [
             [
              0,
              "#0d0887"
             ],
             [
              0.1111111111111111,
              "#46039f"
             ],
             [
              0.2222222222222222,
              "#7201a8"
             ],
             [
              0.3333333333333333,
              "#9c179e"
             ],
             [
              0.4444444444444444,
              "#bd3786"
             ],
             [
              0.5555555555555556,
              "#d8576b"
             ],
             [
              0.6666666666666666,
              "#ed7953"
             ],
             [
              0.7777777777777778,
              "#fb9f3a"
             ],
             [
              0.8888888888888888,
              "#fdca26"
             ],
             [
              1,
              "#f0f921"
             ]
            ],
            "type": "surface"
           }
          ],
          "table": [
           {
            "cells": {
             "fill": {
              "color": "#EBF0F8"
             },
             "line": {
              "color": "white"
             }
            },
            "header": {
             "fill": {
              "color": "#C8D4E3"
             },
             "line": {
              "color": "white"
             }
            },
            "type": "table"
           }
          ]
         },
         "layout": {
          "annotationdefaults": {
           "arrowcolor": "#2a3f5f",
           "arrowhead": 0,
           "arrowwidth": 1
          },
          "autotypenumbers": "strict",
          "coloraxis": {
           "colorbar": {
            "outlinewidth": 0,
            "ticks": ""
           }
          },
          "colorscale": {
           "diverging": [
            [
             0,
             "#8e0152"
            ],
            [
             0.1,
             "#c51b7d"
            ],
            [
             0.2,
             "#de77ae"
            ],
            [
             0.3,
             "#f1b6da"
            ],
            [
             0.4,
             "#fde0ef"
            ],
            [
             0.5,
             "#f7f7f7"
            ],
            [
             0.6,
             "#e6f5d0"
            ],
            [
             0.7,
             "#b8e186"
            ],
            [
             0.8,
             "#7fbc41"
            ],
            [
             0.9,
             "#4d9221"
            ],
            [
             1,
             "#276419"
            ]
           ],
           "sequential": [
            [
             0,
             "#0d0887"
            ],
            [
             0.1111111111111111,
             "#46039f"
            ],
            [
             0.2222222222222222,
             "#7201a8"
            ],
            [
             0.3333333333333333,
             "#9c179e"
            ],
            [
             0.4444444444444444,
             "#bd3786"
            ],
            [
             0.5555555555555556,
             "#d8576b"
            ],
            [
             0.6666666666666666,
             "#ed7953"
            ],
            [
             0.7777777777777778,
             "#fb9f3a"
            ],
            [
             0.8888888888888888,
             "#fdca26"
            ],
            [
             1,
             "#f0f921"
            ]
           ],
           "sequentialminus": [
            [
             0,
             "#0d0887"
            ],
            [
             0.1111111111111111,
             "#46039f"
            ],
            [
             0.2222222222222222,
             "#7201a8"
            ],
            [
             0.3333333333333333,
             "#9c179e"
            ],
            [
             0.4444444444444444,
             "#bd3786"
            ],
            [
             0.5555555555555556,
             "#d8576b"
            ],
            [
             0.6666666666666666,
             "#ed7953"
            ],
            [
             0.7777777777777778,
             "#fb9f3a"
            ],
            [
             0.8888888888888888,
             "#fdca26"
            ],
            [
             1,
             "#f0f921"
            ]
           ]
          },
          "colorway": [
           "#636efa",
           "#EF553B",
           "#00cc96",
           "#ab63fa",
           "#FFA15A",
           "#19d3f3",
           "#FF6692",
           "#B6E880",
           "#FF97FF",
           "#FECB52"
          ],
          "font": {
           "color": "#2a3f5f"
          },
          "geo": {
           "bgcolor": "white",
           "lakecolor": "white",
           "landcolor": "#E5ECF6",
           "showlakes": true,
           "showland": true,
           "subunitcolor": "white"
          },
          "hoverlabel": {
           "align": "left"
          },
          "hovermode": "closest",
          "mapbox": {
           "style": "light"
          },
          "paper_bgcolor": "white",
          "plot_bgcolor": "#E5ECF6",
          "polar": {
           "angularaxis": {
            "gridcolor": "white",
            "linecolor": "white",
            "ticks": ""
           },
           "bgcolor": "#E5ECF6",
           "radialaxis": {
            "gridcolor": "white",
            "linecolor": "white",
            "ticks": ""
           }
          },
          "scene": {
           "xaxis": {
            "backgroundcolor": "#E5ECF6",
            "gridcolor": "white",
            "gridwidth": 2,
            "linecolor": "white",
            "showbackground": true,
            "ticks": "",
            "zerolinecolor": "white"
           },
           "yaxis": {
            "backgroundcolor": "#E5ECF6",
            "gridcolor": "white",
            "gridwidth": 2,
            "linecolor": "white",
            "showbackground": true,
            "ticks": "",
            "zerolinecolor": "white"
           },
           "zaxis": {
            "backgroundcolor": "#E5ECF6",
            "gridcolor": "white",
            "gridwidth": 2,
            "linecolor": "white",
            "showbackground": true,
            "ticks": "",
            "zerolinecolor": "white"
           }
          },
          "shapedefaults": {
           "line": {
            "color": "#2a3f5f"
           }
          },
          "ternary": {
           "aaxis": {
            "gridcolor": "white",
            "linecolor": "white",
            "ticks": ""
           },
           "baxis": {
            "gridcolor": "white",
            "linecolor": "white",
            "ticks": ""
           },
           "bgcolor": "#E5ECF6",
           "caxis": {
            "gridcolor": "white",
            "linecolor": "white",
            "ticks": ""
           }
          },
          "title": {
           "x": 0.05
          },
          "xaxis": {
           "automargin": true,
           "gridcolor": "white",
           "linecolor": "white",
           "ticks": "",
           "title": {
            "standoff": 15
           },
           "zerolinecolor": "white",
           "zerolinewidth": 2
          },
          "yaxis": {
           "automargin": true,
           "gridcolor": "white",
           "linecolor": "white",
           "ticks": "",
           "title": {
            "standoff": 15
           },
           "zerolinecolor": "white",
           "zerolinewidth": 2
          }
         }
        },
        "title": {
         "text": "Top 10 Run Scorer"
        },
        "xaxis": {
         "title": {
          "text": "Batsman Name"
         }
        },
        "yaxis": {
         "title": {
          "text": "Runs"
         }
        }
       }
      }
     },
     "metadata": {},
     "output_type": "display_data"
    }
   ],
   "source": [
    "colors = px.colors.qualitative.Plotly\n",
    "\n",
    "trace = go.Bar(x= top10_batsman_run_wise['batter'],\n",
    "               y= top10_batsman_run_wise['batsman_runs'],\n",
    "               marker = dict(color=colors[:len(top10_batsman_run_wise)])\n",
    "               )\n",
    "\n",
    "data = [trace]\n",
    "\n",
    "layout = go.Layout(title='Top 10 Run Scorer',\n",
    "                   xaxis= dict(title = 'Batsman Name'),\n",
    "                   yaxis=dict(title = 'Runs'))\n",
    "\n",
    "fig = go.Figure(data = data, layout = layout)\n",
    "\n",
    "fig.show()"
   ]
  },
  {
   "cell_type": "markdown",
   "id": "e1f58fd2",
   "metadata": {},
   "source": [
    "<span style=\"font-size: 20px;\"> <b>There are 2 types of Bar Graphs</b>  \n",
    "1. Nested Bar Graph\n",
    "2. Stacked Bar Graph\n",
    "3. Overlaid Bar Graph"
   ]
  },
  {
   "cell_type": "markdown",
   "id": "13e858d5",
   "metadata": {},
   "source": [
    "<span style=\"font-size: 16px;\"> <b> 🎯***Question:*** Plot the bar graph of top 10 runs scorer in 2 inning (Nested, Stacked, Overlaid Bar Graph)."
   ]
  },
  {
   "cell_type": "code",
   "execution_count": 223,
   "id": "1ec665b7",
   "metadata": {},
   "outputs": [
    {
     "data": {
      "text/html": [
       "<div>\n",
       "<style scoped>\n",
       "    .dataframe tbody tr th:only-of-type {\n",
       "        vertical-align: middle;\n",
       "    }\n",
       "\n",
       "    .dataframe tbody tr th {\n",
       "        vertical-align: top;\n",
       "    }\n",
       "\n",
       "    .dataframe thead th {\n",
       "        text-align: right;\n",
       "    }\n",
       "</style>\n",
       "<table border=\"1\" class=\"dataframe\">\n",
       "  <thead>\n",
       "    <tr style=\"text-align: right;\">\n",
       "      <th></th>\n",
       "      <th>batter</th>\n",
       "      <th>1st innings</th>\n",
       "      <th>2nd innings</th>\n",
       "      <th>Total Runs</th>\n",
       "    </tr>\n",
       "  </thead>\n",
       "  <tbody>\n",
       "    <tr>\n",
       "      <th>0</th>\n",
       "      <td>A Ashish Reddy</td>\n",
       "      <td>166</td>\n",
       "      <td>114</td>\n",
       "      <td>280</td>\n",
       "    </tr>\n",
       "    <tr>\n",
       "      <th>1</th>\n",
       "      <td>A Badoni</td>\n",
       "      <td>464</td>\n",
       "      <td>170</td>\n",
       "      <td>634</td>\n",
       "    </tr>\n",
       "    <tr>\n",
       "      <th>2</th>\n",
       "      <td>A Chopra</td>\n",
       "      <td>51</td>\n",
       "      <td>2</td>\n",
       "      <td>53</td>\n",
       "    </tr>\n",
       "    <tr>\n",
       "      <th>3</th>\n",
       "      <td>A Choudhary</td>\n",
       "      <td>15</td>\n",
       "      <td>10</td>\n",
       "      <td>25</td>\n",
       "    </tr>\n",
       "    <tr>\n",
       "      <th>4</th>\n",
       "      <td>A Flintoff</td>\n",
       "      <td>22</td>\n",
       "      <td>40</td>\n",
       "      <td>62</td>\n",
       "    </tr>\n",
       "    <tr>\n",
       "      <th>...</th>\n",
       "      <td>...</td>\n",
       "      <td>...</td>\n",
       "      <td>...</td>\n",
       "      <td>...</td>\n",
       "    </tr>\n",
       "    <tr>\n",
       "      <th>533</th>\n",
       "      <td>YV Takawale</td>\n",
       "      <td>62</td>\n",
       "      <td>130</td>\n",
       "      <td>192</td>\n",
       "    </tr>\n",
       "    <tr>\n",
       "      <th>534</th>\n",
       "      <td>Yashpal Singh</td>\n",
       "      <td>13</td>\n",
       "      <td>34</td>\n",
       "      <td>47</td>\n",
       "    </tr>\n",
       "    <tr>\n",
       "      <th>535</th>\n",
       "      <td>Yudhvir Singh</td>\n",
       "      <td>1</td>\n",
       "      <td>21</td>\n",
       "      <td>22</td>\n",
       "    </tr>\n",
       "    <tr>\n",
       "      <th>536</th>\n",
       "      <td>Yuvraj Singh</td>\n",
       "      <td>1510</td>\n",
       "      <td>1240</td>\n",
       "      <td>2750</td>\n",
       "    </tr>\n",
       "    <tr>\n",
       "      <th>537</th>\n",
       "      <td>Z Khan</td>\n",
       "      <td>61</td>\n",
       "      <td>56</td>\n",
       "      <td>117</td>\n",
       "    </tr>\n",
       "  </tbody>\n",
       "</table>\n",
       "<p>538 rows × 4 columns</p>\n",
       "</div>"
      ],
      "text/plain": [
       "             batter  1st innings  2nd innings  Total Runs\n",
       "0    A Ashish Reddy          166          114         280\n",
       "1          A Badoni          464          170         634\n",
       "2          A Chopra           51            2          53\n",
       "3       A Choudhary           15           10          25\n",
       "4        A Flintoff           22           40          62\n",
       "..              ...          ...          ...         ...\n",
       "533     YV Takawale           62          130         192\n",
       "534   Yashpal Singh           13           34          47\n",
       "535   Yudhvir Singh            1           21          22\n",
       "536    Yuvraj Singh         1510         1240        2750\n",
       "537          Z Khan           61           56         117\n",
       "\n",
       "[538 rows x 4 columns]"
      ]
     },
     "execution_count": 223,
     "metadata": {},
     "output_type": "execute_result"
    }
   ],
   "source": [
    "# Calculating all batsman runs\n",
    "batsman_run_wise = ipl.groupby(['batter', 'inning'])['batsman_runs'].sum().reset_index()\n",
    "\n",
    "# Calculating first inning runs\n",
    "inning_1st = batsman_run_wise[batsman_run_wise['inning'] == 1].copy()\n",
    "inning_1st.rename(columns=dict(batsman_runs = '1st innings'), inplace = True)\n",
    "\n",
    "# Calculating second inning runs\n",
    "inning_2nd = batsman_run_wise[batsman_run_wise['inning'] == 2].copy()\n",
    "inning_2nd.rename(columns=dict(batsman_runs = '2nd innings'), inplace = True)\n",
    "\n",
    "# Merging the first and second dataframe\n",
    "batsman_run_wise_and_inning_wise = inning_1st.merge(inning_2nd, on='batter')[['batter','1st innings','2nd innings']]\n",
    "\n",
    "# Adding Total Runs column\n",
    "batsman_run_wise_and_inning_wise['Total Runs'] = batsman_run_wise_and_inning_wise['1st innings'] + batsman_run_wise_and_inning_wise['2nd innings']\n",
    "\n",
    "batsman_run_wise_and_inning_wise"
   ]
  },
  {
   "cell_type": "code",
   "execution_count": 224,
   "id": "505e1f78",
   "metadata": {},
   "outputs": [
    {
     "data": {
      "text/html": [
       "<div>\n",
       "<style scoped>\n",
       "    .dataframe tbody tr th:only-of-type {\n",
       "        vertical-align: middle;\n",
       "    }\n",
       "\n",
       "    .dataframe tbody tr th {\n",
       "        vertical-align: top;\n",
       "    }\n",
       "\n",
       "    .dataframe thead th {\n",
       "        text-align: right;\n",
       "    }\n",
       "</style>\n",
       "<table border=\"1\" class=\"dataframe\">\n",
       "  <thead>\n",
       "    <tr style=\"text-align: right;\">\n",
       "      <th></th>\n",
       "      <th>batter</th>\n",
       "      <th>1st innings</th>\n",
       "      <th>2nd innings</th>\n",
       "      <th>Total Runs</th>\n",
       "    </tr>\n",
       "  </thead>\n",
       "  <tbody>\n",
       "    <tr>\n",
       "      <th>508</th>\n",
       "      <td>V Kohli</td>\n",
       "      <td>4400</td>\n",
       "      <td>3604</td>\n",
       "      <td>8004</td>\n",
       "    </tr>\n",
       "    <tr>\n",
       "      <th>412</th>\n",
       "      <td>S Dhawan</td>\n",
       "      <td>3926</td>\n",
       "      <td>2843</td>\n",
       "      <td>6769</td>\n",
       "    </tr>\n",
       "    <tr>\n",
       "      <th>383</th>\n",
       "      <td>RG Sharma</td>\n",
       "      <td>3600</td>\n",
       "      <td>3028</td>\n",
       "      <td>6628</td>\n",
       "    </tr>\n",
       "    <tr>\n",
       "      <th>121</th>\n",
       "      <td>DA Warner</td>\n",
       "      <td>3280</td>\n",
       "      <td>3285</td>\n",
       "      <td>6565</td>\n",
       "    </tr>\n",
       "    <tr>\n",
       "      <th>437</th>\n",
       "      <td>SK Raina</td>\n",
       "      <td>3194</td>\n",
       "      <td>2334</td>\n",
       "      <td>5528</td>\n",
       "    </tr>\n",
       "    <tr>\n",
       "      <th>299</th>\n",
       "      <td>MS Dhoni</td>\n",
       "      <td>3065</td>\n",
       "      <td>2178</td>\n",
       "      <td>5243</td>\n",
       "    </tr>\n",
       "    <tr>\n",
       "      <th>23</th>\n",
       "      <td>AB de Villiers</td>\n",
       "      <td>3163</td>\n",
       "      <td>1999</td>\n",
       "      <td>5162</td>\n",
       "    </tr>\n",
       "    <tr>\n",
       "      <th>103</th>\n",
       "      <td>CH Gayle</td>\n",
       "      <td>2873</td>\n",
       "      <td>2092</td>\n",
       "      <td>4965</td>\n",
       "    </tr>\n",
       "    <tr>\n",
       "      <th>401</th>\n",
       "      <td>RV Uthappa</td>\n",
       "      <td>2120</td>\n",
       "      <td>2832</td>\n",
       "      <td>4952</td>\n",
       "    </tr>\n",
       "    <tr>\n",
       "      <th>221</th>\n",
       "      <td>KD Karthik</td>\n",
       "      <td>2743</td>\n",
       "      <td>2099</td>\n",
       "      <td>4842</td>\n",
       "    </tr>\n",
       "  </tbody>\n",
       "</table>\n",
       "</div>"
      ],
      "text/plain": [
       "             batter  1st innings  2nd innings  Total Runs\n",
       "508         V Kohli         4400         3604        8004\n",
       "412        S Dhawan         3926         2843        6769\n",
       "383       RG Sharma         3600         3028        6628\n",
       "121       DA Warner         3280         3285        6565\n",
       "437        SK Raina         3194         2334        5528\n",
       "299        MS Dhoni         3065         2178        5243\n",
       "23   AB de Villiers         3163         1999        5162\n",
       "103        CH Gayle         2873         2092        4965\n",
       "401      RV Uthappa         2120         2832        4952\n",
       "221      KD Karthik         2743         2099        4842"
      ]
     },
     "execution_count": 224,
     "metadata": {},
     "output_type": "execute_result"
    }
   ],
   "source": [
    "# Extracting top 10 batsman\n",
    "batsman_run_wise_and_inning_wise = batsman_run_wise_and_inning_wise.sort_values(by='Total Runs', ascending=False).iloc[:10]\n",
    "\n",
    "batsman_run_wise_and_inning_wise"
   ]
  },
  {
   "cell_type": "markdown",
   "id": "0cd97b49",
   "metadata": {},
   "source": [
    "<span style=\"font-size: 18px;\"> <b>3.1 Overlay Bar Graph"
   ]
  },
  {
   "cell_type": "code",
   "execution_count": 225,
   "id": "4d230127",
   "metadata": {},
   "outputs": [
    {
     "data": {
      "application/vnd.plotly.v1+json": {
       "config": {
        "plotlyServerURL": "https://plot.ly"
       },
       "data": [
        {
         "hovertemplate": "1st innings Runs: %{y}<extra></extra>",
         "name": "1st innings",
         "type": "bar",
         "x": [
          "V Kohli",
          "S Dhawan",
          "RG Sharma",
          "DA Warner",
          "SK Raina",
          "MS Dhoni",
          "AB de Villiers",
          "CH Gayle",
          "RV Uthappa",
          "KD Karthik"
         ],
         "y": {
          "bdata": "MBFWDxAO0Ax6DPkLWww5C0gItwo=",
          "dtype": "i2"
         }
        },
        {
         "hovertemplate": "2nd innings Runs: %{y}<extra></extra>",
         "name": "2nd innings",
         "type": "bar",
         "x": [
          "V Kohli",
          "S Dhawan",
          "RG Sharma",
          "DA Warner",
          "SK Raina",
          "MS Dhoni",
          "AB de Villiers",
          "CH Gayle",
          "RV Uthappa",
          "KD Karthik"
         ],
         "y": {
          "bdata": "FA4bC9QL1QweCYIIzwcsCBALMwg=",
          "dtype": "i2"
         }
        }
       ],
       "layout": {
        "barmode": "overlay",
        "template": {
         "data": {
          "bar": [
           {
            "error_x": {
             "color": "#2a3f5f"
            },
            "error_y": {
             "color": "#2a3f5f"
            },
            "marker": {
             "line": {
              "color": "#E5ECF6",
              "width": 0.5
             },
             "pattern": {
              "fillmode": "overlay",
              "size": 10,
              "solidity": 0.2
             }
            },
            "type": "bar"
           }
          ],
          "barpolar": [
           {
            "marker": {
             "line": {
              "color": "#E5ECF6",
              "width": 0.5
             },
             "pattern": {
              "fillmode": "overlay",
              "size": 10,
              "solidity": 0.2
             }
            },
            "type": "barpolar"
           }
          ],
          "carpet": [
           {
            "aaxis": {
             "endlinecolor": "#2a3f5f",
             "gridcolor": "white",
             "linecolor": "white",
             "minorgridcolor": "white",
             "startlinecolor": "#2a3f5f"
            },
            "baxis": {
             "endlinecolor": "#2a3f5f",
             "gridcolor": "white",
             "linecolor": "white",
             "minorgridcolor": "white",
             "startlinecolor": "#2a3f5f"
            },
            "type": "carpet"
           }
          ],
          "choropleth": [
           {
            "colorbar": {
             "outlinewidth": 0,
             "ticks": ""
            },
            "type": "choropleth"
           }
          ],
          "contour": [
           {
            "colorbar": {
             "outlinewidth": 0,
             "ticks": ""
            },
            "colorscale": [
             [
              0,
              "#0d0887"
             ],
             [
              0.1111111111111111,
              "#46039f"
             ],
             [
              0.2222222222222222,
              "#7201a8"
             ],
             [
              0.3333333333333333,
              "#9c179e"
             ],
             [
              0.4444444444444444,
              "#bd3786"
             ],
             [
              0.5555555555555556,
              "#d8576b"
             ],
             [
              0.6666666666666666,
              "#ed7953"
             ],
             [
              0.7777777777777778,
              "#fb9f3a"
             ],
             [
              0.8888888888888888,
              "#fdca26"
             ],
             [
              1,
              "#f0f921"
             ]
            ],
            "type": "contour"
           }
          ],
          "contourcarpet": [
           {
            "colorbar": {
             "outlinewidth": 0,
             "ticks": ""
            },
            "type": "contourcarpet"
           }
          ],
          "heatmap": [
           {
            "colorbar": {
             "outlinewidth": 0,
             "ticks": ""
            },
            "colorscale": [
             [
              0,
              "#0d0887"
             ],
             [
              0.1111111111111111,
              "#46039f"
             ],
             [
              0.2222222222222222,
              "#7201a8"
             ],
             [
              0.3333333333333333,
              "#9c179e"
             ],
             [
              0.4444444444444444,
              "#bd3786"
             ],
             [
              0.5555555555555556,
              "#d8576b"
             ],
             [
              0.6666666666666666,
              "#ed7953"
             ],
             [
              0.7777777777777778,
              "#fb9f3a"
             ],
             [
              0.8888888888888888,
              "#fdca26"
             ],
             [
              1,
              "#f0f921"
             ]
            ],
            "type": "heatmap"
           }
          ],
          "histogram": [
           {
            "marker": {
             "pattern": {
              "fillmode": "overlay",
              "size": 10,
              "solidity": 0.2
             }
            },
            "type": "histogram"
           }
          ],
          "histogram2d": [
           {
            "colorbar": {
             "outlinewidth": 0,
             "ticks": ""
            },
            "colorscale": [
             [
              0,
              "#0d0887"
             ],
             [
              0.1111111111111111,
              "#46039f"
             ],
             [
              0.2222222222222222,
              "#7201a8"
             ],
             [
              0.3333333333333333,
              "#9c179e"
             ],
             [
              0.4444444444444444,
              "#bd3786"
             ],
             [
              0.5555555555555556,
              "#d8576b"
             ],
             [
              0.6666666666666666,
              "#ed7953"
             ],
             [
              0.7777777777777778,
              "#fb9f3a"
             ],
             [
              0.8888888888888888,
              "#fdca26"
             ],
             [
              1,
              "#f0f921"
             ]
            ],
            "type": "histogram2d"
           }
          ],
          "histogram2dcontour": [
           {
            "colorbar": {
             "outlinewidth": 0,
             "ticks": ""
            },
            "colorscale": [
             [
              0,
              "#0d0887"
             ],
             [
              0.1111111111111111,
              "#46039f"
             ],
             [
              0.2222222222222222,
              "#7201a8"
             ],
             [
              0.3333333333333333,
              "#9c179e"
             ],
             [
              0.4444444444444444,
              "#bd3786"
             ],
             [
              0.5555555555555556,
              "#d8576b"
             ],
             [
              0.6666666666666666,
              "#ed7953"
             ],
             [
              0.7777777777777778,
              "#fb9f3a"
             ],
             [
              0.8888888888888888,
              "#fdca26"
             ],
             [
              1,
              "#f0f921"
             ]
            ],
            "type": "histogram2dcontour"
           }
          ],
          "mesh3d": [
           {
            "colorbar": {
             "outlinewidth": 0,
             "ticks": ""
            },
            "type": "mesh3d"
           }
          ],
          "parcoords": [
           {
            "line": {
             "colorbar": {
              "outlinewidth": 0,
              "ticks": ""
             }
            },
            "type": "parcoords"
           }
          ],
          "pie": [
           {
            "automargin": true,
            "type": "pie"
           }
          ],
          "scatter": [
           {
            "fillpattern": {
             "fillmode": "overlay",
             "size": 10,
             "solidity": 0.2
            },
            "type": "scatter"
           }
          ],
          "scatter3d": [
           {
            "line": {
             "colorbar": {
              "outlinewidth": 0,
              "ticks": ""
             }
            },
            "marker": {
             "colorbar": {
              "outlinewidth": 0,
              "ticks": ""
             }
            },
            "type": "scatter3d"
           }
          ],
          "scattercarpet": [
           {
            "marker": {
             "colorbar": {
              "outlinewidth": 0,
              "ticks": ""
             }
            },
            "type": "scattercarpet"
           }
          ],
          "scattergeo": [
           {
            "marker": {
             "colorbar": {
              "outlinewidth": 0,
              "ticks": ""
             }
            },
            "type": "scattergeo"
           }
          ],
          "scattergl": [
           {
            "marker": {
             "colorbar": {
              "outlinewidth": 0,
              "ticks": ""
             }
            },
            "type": "scattergl"
           }
          ],
          "scattermap": [
           {
            "marker": {
             "colorbar": {
              "outlinewidth": 0,
              "ticks": ""
             }
            },
            "type": "scattermap"
           }
          ],
          "scattermapbox": [
           {
            "marker": {
             "colorbar": {
              "outlinewidth": 0,
              "ticks": ""
             }
            },
            "type": "scattermapbox"
           }
          ],
          "scatterpolar": [
           {
            "marker": {
             "colorbar": {
              "outlinewidth": 0,
              "ticks": ""
             }
            },
            "type": "scatterpolar"
           }
          ],
          "scatterpolargl": [
           {
            "marker": {
             "colorbar": {
              "outlinewidth": 0,
              "ticks": ""
             }
            },
            "type": "scatterpolargl"
           }
          ],
          "scatterternary": [
           {
            "marker": {
             "colorbar": {
              "outlinewidth": 0,
              "ticks": ""
             }
            },
            "type": "scatterternary"
           }
          ],
          "surface": [
           {
            "colorbar": {
             "outlinewidth": 0,
             "ticks": ""
            },
            "colorscale": [
             [
              0,
              "#0d0887"
             ],
             [
              0.1111111111111111,
              "#46039f"
             ],
             [
              0.2222222222222222,
              "#7201a8"
             ],
             [
              0.3333333333333333,
              "#9c179e"
             ],
             [
              0.4444444444444444,
              "#bd3786"
             ],
             [
              0.5555555555555556,
              "#d8576b"
             ],
             [
              0.6666666666666666,
              "#ed7953"
             ],
             [
              0.7777777777777778,
              "#fb9f3a"
             ],
             [
              0.8888888888888888,
              "#fdca26"
             ],
             [
              1,
              "#f0f921"
             ]
            ],
            "type": "surface"
           }
          ],
          "table": [
           {
            "cells": {
             "fill": {
              "color": "#EBF0F8"
             },
             "line": {
              "color": "white"
             }
            },
            "header": {
             "fill": {
              "color": "#C8D4E3"
             },
             "line": {
              "color": "white"
             }
            },
            "type": "table"
           }
          ]
         },
         "layout": {
          "annotationdefaults": {
           "arrowcolor": "#2a3f5f",
           "arrowhead": 0,
           "arrowwidth": 1
          },
          "autotypenumbers": "strict",
          "coloraxis": {
           "colorbar": {
            "outlinewidth": 0,
            "ticks": ""
           }
          },
          "colorscale": {
           "diverging": [
            [
             0,
             "#8e0152"
            ],
            [
             0.1,
             "#c51b7d"
            ],
            [
             0.2,
             "#de77ae"
            ],
            [
             0.3,
             "#f1b6da"
            ],
            [
             0.4,
             "#fde0ef"
            ],
            [
             0.5,
             "#f7f7f7"
            ],
            [
             0.6,
             "#e6f5d0"
            ],
            [
             0.7,
             "#b8e186"
            ],
            [
             0.8,
             "#7fbc41"
            ],
            [
             0.9,
             "#4d9221"
            ],
            [
             1,
             "#276419"
            ]
           ],
           "sequential": [
            [
             0,
             "#0d0887"
            ],
            [
             0.1111111111111111,
             "#46039f"
            ],
            [
             0.2222222222222222,
             "#7201a8"
            ],
            [
             0.3333333333333333,
             "#9c179e"
            ],
            [
             0.4444444444444444,
             "#bd3786"
            ],
            [
             0.5555555555555556,
             "#d8576b"
            ],
            [
             0.6666666666666666,
             "#ed7953"
            ],
            [
             0.7777777777777778,
             "#fb9f3a"
            ],
            [
             0.8888888888888888,
             "#fdca26"
            ],
            [
             1,
             "#f0f921"
            ]
           ],
           "sequentialminus": [
            [
             0,
             "#0d0887"
            ],
            [
             0.1111111111111111,
             "#46039f"
            ],
            [
             0.2222222222222222,
             "#7201a8"
            ],
            [
             0.3333333333333333,
             "#9c179e"
            ],
            [
             0.4444444444444444,
             "#bd3786"
            ],
            [
             0.5555555555555556,
             "#d8576b"
            ],
            [
             0.6666666666666666,
             "#ed7953"
            ],
            [
             0.7777777777777778,
             "#fb9f3a"
            ],
            [
             0.8888888888888888,
             "#fdca26"
            ],
            [
             1,
             "#f0f921"
            ]
           ]
          },
          "colorway": [
           "#636efa",
           "#EF553B",
           "#00cc96",
           "#ab63fa",
           "#FFA15A",
           "#19d3f3",
           "#FF6692",
           "#B6E880",
           "#FF97FF",
           "#FECB52"
          ],
          "font": {
           "color": "#2a3f5f"
          },
          "geo": {
           "bgcolor": "white",
           "lakecolor": "white",
           "landcolor": "#E5ECF6",
           "showlakes": true,
           "showland": true,
           "subunitcolor": "white"
          },
          "hoverlabel": {
           "align": "left"
          },
          "hovermode": "closest",
          "mapbox": {
           "style": "light"
          },
          "paper_bgcolor": "white",
          "plot_bgcolor": "#E5ECF6",
          "polar": {
           "angularaxis": {
            "gridcolor": "white",
            "linecolor": "white",
            "ticks": ""
           },
           "bgcolor": "#E5ECF6",
           "radialaxis": {
            "gridcolor": "white",
            "linecolor": "white",
            "ticks": ""
           }
          },
          "scene": {
           "xaxis": {
            "backgroundcolor": "#E5ECF6",
            "gridcolor": "white",
            "gridwidth": 2,
            "linecolor": "white",
            "showbackground": true,
            "ticks": "",
            "zerolinecolor": "white"
           },
           "yaxis": {
            "backgroundcolor": "#E5ECF6",
            "gridcolor": "white",
            "gridwidth": 2,
            "linecolor": "white",
            "showbackground": true,
            "ticks": "",
            "zerolinecolor": "white"
           },
           "zaxis": {
            "backgroundcolor": "#E5ECF6",
            "gridcolor": "white",
            "gridwidth": 2,
            "linecolor": "white",
            "showbackground": true,
            "ticks": "",
            "zerolinecolor": "white"
           }
          },
          "shapedefaults": {
           "line": {
            "color": "#2a3f5f"
           }
          },
          "ternary": {
           "aaxis": {
            "gridcolor": "white",
            "linecolor": "white",
            "ticks": ""
           },
           "baxis": {
            "gridcolor": "white",
            "linecolor": "white",
            "ticks": ""
           },
           "bgcolor": "#E5ECF6",
           "caxis": {
            "gridcolor": "white",
            "linecolor": "white",
            "ticks": ""
           }
          },
          "title": {
           "x": 0.05
          },
          "xaxis": {
           "automargin": true,
           "gridcolor": "white",
           "linecolor": "white",
           "ticks": "",
           "title": {
            "standoff": 15
           },
           "zerolinecolor": "white",
           "zerolinewidth": 2
          },
          "yaxis": {
           "automargin": true,
           "gridcolor": "white",
           "linecolor": "white",
           "ticks": "",
           "title": {
            "standoff": 15
           },
           "zerolinecolor": "white",
           "zerolinewidth": 2
          }
         }
        },
        "title": {
         "text": "Top 10 Run Scorer"
        },
        "xaxis": {
         "title": {
          "text": "Batsman Name"
         }
        },
        "yaxis": {
         "title": {
          "text": "Runs"
         }
        }
       }
      }
     },
     "metadata": {},
     "output_type": "display_data"
    }
   ],
   "source": [
    "trace1 = go.Bar(x=batsman_run_wise_and_inning_wise['batter'],\n",
    "              y= batsman_run_wise_and_inning_wise['1st innings'],\n",
    "              name = '1st innings',\n",
    "              hovertemplate='1st innings Runs: %{y}<extra></extra>')\n",
    "\n",
    "trace2 = go.Bar(x=batsman_run_wise_and_inning_wise['batter'],\n",
    "              y= batsman_run_wise_and_inning_wise['2nd innings'],\n",
    "              name = '2nd innings',\n",
    "              hovertemplate='2nd innings Runs: %{y}<extra></extra>')\n",
    "\n",
    "data = [trace1, trace2]\n",
    "\n",
    "layout = go.Layout(title='Top 10 Run Scorer',\n",
    "                   xaxis= dict(title = 'Batsman Name'),\n",
    "                   yaxis=dict(title = 'Runs'),\n",
    "                   barmode= 'overlay')\n",
    "\n",
    "fig = go.Figure(data = data, layout = layout)\n",
    "\n",
    "fig.show()"
   ]
  },
  {
   "cell_type": "markdown",
   "id": "67a98515",
   "metadata": {},
   "source": [
    "<span style=\"font-size: 18px;\"> <b>3.2 Stacked Bar Graph"
   ]
  },
  {
   "cell_type": "code",
   "execution_count": 226,
   "id": "80e5e164",
   "metadata": {},
   "outputs": [
    {
     "data": {
      "application/vnd.plotly.v1+json": {
       "config": {
        "plotlyServerURL": "https://plot.ly"
       },
       "data": [
        {
         "hovertemplate": "1st innings Runs: %{y}<extra></extra>",
         "name": "1st innings",
         "text": {
          "bdata": "AAAAAAAwsUAAAAAAAKyuQAAAAAAAIKxAAAAAAACgqUAAAAAAAPSoQAAAAAAA8qdAAAAAAAC2qEAAAAAAAHKmQAAAAAAAkKBAAAAAAABupUA=",
          "dtype": "f8"
         },
         "type": "bar",
         "x": [
          "V Kohli",
          "S Dhawan",
          "RG Sharma",
          "DA Warner",
          "SK Raina",
          "MS Dhoni",
          "AB de Villiers",
          "CH Gayle",
          "RV Uthappa",
          "KD Karthik"
         ],
         "y": {
          "bdata": "MBFWDxAO0Ax6DPkLWww5C0gItwo=",
          "dtype": "i2"
         }
        },
        {
         "hovertemplate": "2nd innings Runs: %{y}<extra></extra>",
         "name": "2nd innings",
         "text": {
          "bdata": "AAAAAAAorEAAAAAAADamQAAAAAAAqKdAAAAAAACqqUAAAAAAADyiQAAAAAAABKFAAAAAAAA8n0AAAAAAAFigQAAAAAAAIKZAAAAAAABmoEA=",
          "dtype": "f8"
         },
         "textposition": "inside",
         "type": "bar",
         "x": [
          "V Kohli",
          "S Dhawan",
          "RG Sharma",
          "DA Warner",
          "SK Raina",
          "MS Dhoni",
          "AB de Villiers",
          "CH Gayle",
          "RV Uthappa",
          "KD Karthik"
         ],
         "y": {
          "bdata": "FA4bC9QL1QweCYIIzwcsCBALMwg=",
          "dtype": "i2"
         }
        }
       ],
       "layout": {
        "bargap": 0.2,
        "barmode": "stack",
        "template": {
         "data": {
          "bar": [
           {
            "error_x": {
             "color": "#2a3f5f"
            },
            "error_y": {
             "color": "#2a3f5f"
            },
            "marker": {
             "line": {
              "color": "#E5ECF6",
              "width": 0.5
             },
             "pattern": {
              "fillmode": "overlay",
              "size": 10,
              "solidity": 0.2
             }
            },
            "type": "bar"
           }
          ],
          "barpolar": [
           {
            "marker": {
             "line": {
              "color": "#E5ECF6",
              "width": 0.5
             },
             "pattern": {
              "fillmode": "overlay",
              "size": 10,
              "solidity": 0.2
             }
            },
            "type": "barpolar"
           }
          ],
          "carpet": [
           {
            "aaxis": {
             "endlinecolor": "#2a3f5f",
             "gridcolor": "white",
             "linecolor": "white",
             "minorgridcolor": "white",
             "startlinecolor": "#2a3f5f"
            },
            "baxis": {
             "endlinecolor": "#2a3f5f",
             "gridcolor": "white",
             "linecolor": "white",
             "minorgridcolor": "white",
             "startlinecolor": "#2a3f5f"
            },
            "type": "carpet"
           }
          ],
          "choropleth": [
           {
            "colorbar": {
             "outlinewidth": 0,
             "ticks": ""
            },
            "type": "choropleth"
           }
          ],
          "contour": [
           {
            "colorbar": {
             "outlinewidth": 0,
             "ticks": ""
            },
            "colorscale": [
             [
              0,
              "#0d0887"
             ],
             [
              0.1111111111111111,
              "#46039f"
             ],
             [
              0.2222222222222222,
              "#7201a8"
             ],
             [
              0.3333333333333333,
              "#9c179e"
             ],
             [
              0.4444444444444444,
              "#bd3786"
             ],
             [
              0.5555555555555556,
              "#d8576b"
             ],
             [
              0.6666666666666666,
              "#ed7953"
             ],
             [
              0.7777777777777778,
              "#fb9f3a"
             ],
             [
              0.8888888888888888,
              "#fdca26"
             ],
             [
              1,
              "#f0f921"
             ]
            ],
            "type": "contour"
           }
          ],
          "contourcarpet": [
           {
            "colorbar": {
             "outlinewidth": 0,
             "ticks": ""
            },
            "type": "contourcarpet"
           }
          ],
          "heatmap": [
           {
            "colorbar": {
             "outlinewidth": 0,
             "ticks": ""
            },
            "colorscale": [
             [
              0,
              "#0d0887"
             ],
             [
              0.1111111111111111,
              "#46039f"
             ],
             [
              0.2222222222222222,
              "#7201a8"
             ],
             [
              0.3333333333333333,
              "#9c179e"
             ],
             [
              0.4444444444444444,
              "#bd3786"
             ],
             [
              0.5555555555555556,
              "#d8576b"
             ],
             [
              0.6666666666666666,
              "#ed7953"
             ],
             [
              0.7777777777777778,
              "#fb9f3a"
             ],
             [
              0.8888888888888888,
              "#fdca26"
             ],
             [
              1,
              "#f0f921"
             ]
            ],
            "type": "heatmap"
           }
          ],
          "histogram": [
           {
            "marker": {
             "pattern": {
              "fillmode": "overlay",
              "size": 10,
              "solidity": 0.2
             }
            },
            "type": "histogram"
           }
          ],
          "histogram2d": [
           {
            "colorbar": {
             "outlinewidth": 0,
             "ticks": ""
            },
            "colorscale": [
             [
              0,
              "#0d0887"
             ],
             [
              0.1111111111111111,
              "#46039f"
             ],
             [
              0.2222222222222222,
              "#7201a8"
             ],
             [
              0.3333333333333333,
              "#9c179e"
             ],
             [
              0.4444444444444444,
              "#bd3786"
             ],
             [
              0.5555555555555556,
              "#d8576b"
             ],
             [
              0.6666666666666666,
              "#ed7953"
             ],
             [
              0.7777777777777778,
              "#fb9f3a"
             ],
             [
              0.8888888888888888,
              "#fdca26"
             ],
             [
              1,
              "#f0f921"
             ]
            ],
            "type": "histogram2d"
           }
          ],
          "histogram2dcontour": [
           {
            "colorbar": {
             "outlinewidth": 0,
             "ticks": ""
            },
            "colorscale": [
             [
              0,
              "#0d0887"
             ],
             [
              0.1111111111111111,
              "#46039f"
             ],
             [
              0.2222222222222222,
              "#7201a8"
             ],
             [
              0.3333333333333333,
              "#9c179e"
             ],
             [
              0.4444444444444444,
              "#bd3786"
             ],
             [
              0.5555555555555556,
              "#d8576b"
             ],
             [
              0.6666666666666666,
              "#ed7953"
             ],
             [
              0.7777777777777778,
              "#fb9f3a"
             ],
             [
              0.8888888888888888,
              "#fdca26"
             ],
             [
              1,
              "#f0f921"
             ]
            ],
            "type": "histogram2dcontour"
           }
          ],
          "mesh3d": [
           {
            "colorbar": {
             "outlinewidth": 0,
             "ticks": ""
            },
            "type": "mesh3d"
           }
          ],
          "parcoords": [
           {
            "line": {
             "colorbar": {
              "outlinewidth": 0,
              "ticks": ""
             }
            },
            "type": "parcoords"
           }
          ],
          "pie": [
           {
            "automargin": true,
            "type": "pie"
           }
          ],
          "scatter": [
           {
            "fillpattern": {
             "fillmode": "overlay",
             "size": 10,
             "solidity": 0.2
            },
            "type": "scatter"
           }
          ],
          "scatter3d": [
           {
            "line": {
             "colorbar": {
              "outlinewidth": 0,
              "ticks": ""
             }
            },
            "marker": {
             "colorbar": {
              "outlinewidth": 0,
              "ticks": ""
             }
            },
            "type": "scatter3d"
           }
          ],
          "scattercarpet": [
           {
            "marker": {
             "colorbar": {
              "outlinewidth": 0,
              "ticks": ""
             }
            },
            "type": "scattercarpet"
           }
          ],
          "scattergeo": [
           {
            "marker": {
             "colorbar": {
              "outlinewidth": 0,
              "ticks": ""
             }
            },
            "type": "scattergeo"
           }
          ],
          "scattergl": [
           {
            "marker": {
             "colorbar": {
              "outlinewidth": 0,
              "ticks": ""
             }
            },
            "type": "scattergl"
           }
          ],
          "scattermap": [
           {
            "marker": {
             "colorbar": {
              "outlinewidth": 0,
              "ticks": ""
             }
            },
            "type": "scattermap"
           }
          ],
          "scattermapbox": [
           {
            "marker": {
             "colorbar": {
              "outlinewidth": 0,
              "ticks": ""
             }
            },
            "type": "scattermapbox"
           }
          ],
          "scatterpolar": [
           {
            "marker": {
             "colorbar": {
              "outlinewidth": 0,
              "ticks": ""
             }
            },
            "type": "scatterpolar"
           }
          ],
          "scatterpolargl": [
           {
            "marker": {
             "colorbar": {
              "outlinewidth": 0,
              "ticks": ""
             }
            },
            "type": "scatterpolargl"
           }
          ],
          "scatterternary": [
           {
            "marker": {
             "colorbar": {
              "outlinewidth": 0,
              "ticks": ""
             }
            },
            "type": "scatterternary"
           }
          ],
          "surface": [
           {
            "colorbar": {
             "outlinewidth": 0,
             "ticks": ""
            },
            "colorscale": [
             [
              0,
              "#0d0887"
             ],
             [
              0.1111111111111111,
              "#46039f"
             ],
             [
              0.2222222222222222,
              "#7201a8"
             ],
             [
              0.3333333333333333,
              "#9c179e"
             ],
             [
              0.4444444444444444,
              "#bd3786"
             ],
             [
              0.5555555555555556,
              "#d8576b"
             ],
             [
              0.6666666666666666,
              "#ed7953"
             ],
             [
              0.7777777777777778,
              "#fb9f3a"
             ],
             [
              0.8888888888888888,
              "#fdca26"
             ],
             [
              1,
              "#f0f921"
             ]
            ],
            "type": "surface"
           }
          ],
          "table": [
           {
            "cells": {
             "fill": {
              "color": "#EBF0F8"
             },
             "line": {
              "color": "white"
             }
            },
            "header": {
             "fill": {
              "color": "#C8D4E3"
             },
             "line": {
              "color": "white"
             }
            },
            "type": "table"
           }
          ]
         },
         "layout": {
          "annotationdefaults": {
           "arrowcolor": "#2a3f5f",
           "arrowhead": 0,
           "arrowwidth": 1
          },
          "autotypenumbers": "strict",
          "coloraxis": {
           "colorbar": {
            "outlinewidth": 0,
            "ticks": ""
           }
          },
          "colorscale": {
           "diverging": [
            [
             0,
             "#8e0152"
            ],
            [
             0.1,
             "#c51b7d"
            ],
            [
             0.2,
             "#de77ae"
            ],
            [
             0.3,
             "#f1b6da"
            ],
            [
             0.4,
             "#fde0ef"
            ],
            [
             0.5,
             "#f7f7f7"
            ],
            [
             0.6,
             "#e6f5d0"
            ],
            [
             0.7,
             "#b8e186"
            ],
            [
             0.8,
             "#7fbc41"
            ],
            [
             0.9,
             "#4d9221"
            ],
            [
             1,
             "#276419"
            ]
           ],
           "sequential": [
            [
             0,
             "#0d0887"
            ],
            [
             0.1111111111111111,
             "#46039f"
            ],
            [
             0.2222222222222222,
             "#7201a8"
            ],
            [
             0.3333333333333333,
             "#9c179e"
            ],
            [
             0.4444444444444444,
             "#bd3786"
            ],
            [
             0.5555555555555556,
             "#d8576b"
            ],
            [
             0.6666666666666666,
             "#ed7953"
            ],
            [
             0.7777777777777778,
             "#fb9f3a"
            ],
            [
             0.8888888888888888,
             "#fdca26"
            ],
            [
             1,
             "#f0f921"
            ]
           ],
           "sequentialminus": [
            [
             0,
             "#0d0887"
            ],
            [
             0.1111111111111111,
             "#46039f"
            ],
            [
             0.2222222222222222,
             "#7201a8"
            ],
            [
             0.3333333333333333,
             "#9c179e"
            ],
            [
             0.4444444444444444,
             "#bd3786"
            ],
            [
             0.5555555555555556,
             "#d8576b"
            ],
            [
             0.6666666666666666,
             "#ed7953"
            ],
            [
             0.7777777777777778,
             "#fb9f3a"
            ],
            [
             0.8888888888888888,
             "#fdca26"
            ],
            [
             1,
             "#f0f921"
            ]
           ]
          },
          "colorway": [
           "#636efa",
           "#EF553B",
           "#00cc96",
           "#ab63fa",
           "#FFA15A",
           "#19d3f3",
           "#FF6692",
           "#B6E880",
           "#FF97FF",
           "#FECB52"
          ],
          "font": {
           "color": "#2a3f5f"
          },
          "geo": {
           "bgcolor": "white",
           "lakecolor": "white",
           "landcolor": "#E5ECF6",
           "showlakes": true,
           "showland": true,
           "subunitcolor": "white"
          },
          "hoverlabel": {
           "align": "left"
          },
          "hovermode": "closest",
          "mapbox": {
           "style": "light"
          },
          "paper_bgcolor": "white",
          "plot_bgcolor": "#E5ECF6",
          "polar": {
           "angularaxis": {
            "gridcolor": "white",
            "linecolor": "white",
            "ticks": ""
           },
           "bgcolor": "#E5ECF6",
           "radialaxis": {
            "gridcolor": "white",
            "linecolor": "white",
            "ticks": ""
           }
          },
          "scene": {
           "xaxis": {
            "backgroundcolor": "#E5ECF6",
            "gridcolor": "white",
            "gridwidth": 2,
            "linecolor": "white",
            "showbackground": true,
            "ticks": "",
            "zerolinecolor": "white"
           },
           "yaxis": {
            "backgroundcolor": "#E5ECF6",
            "gridcolor": "white",
            "gridwidth": 2,
            "linecolor": "white",
            "showbackground": true,
            "ticks": "",
            "zerolinecolor": "white"
           },
           "zaxis": {
            "backgroundcolor": "#E5ECF6",
            "gridcolor": "white",
            "gridwidth": 2,
            "linecolor": "white",
            "showbackground": true,
            "ticks": "",
            "zerolinecolor": "white"
           }
          },
          "shapedefaults": {
           "line": {
            "color": "#2a3f5f"
           }
          },
          "ternary": {
           "aaxis": {
            "gridcolor": "white",
            "linecolor": "white",
            "ticks": ""
           },
           "baxis": {
            "gridcolor": "white",
            "linecolor": "white",
            "ticks": ""
           },
           "bgcolor": "#E5ECF6",
           "caxis": {
            "gridcolor": "white",
            "linecolor": "white",
            "ticks": ""
           }
          },
          "title": {
           "x": 0.05
          },
          "xaxis": {
           "automargin": true,
           "gridcolor": "white",
           "linecolor": "white",
           "ticks": "",
           "title": {
            "standoff": 15
           },
           "zerolinecolor": "white",
           "zerolinewidth": 2
          },
          "yaxis": {
           "automargin": true,
           "gridcolor": "white",
           "linecolor": "white",
           "ticks": "",
           "title": {
            "standoff": 15
           },
           "zerolinecolor": "white",
           "zerolinewidth": 2
          }
         }
        },
        "title": {
         "text": "Top 10 Run Scorer"
        },
        "xaxis": {
         "title": {
          "text": "Batsman Name"
         }
        },
        "yaxis": {
         "title": {
          "text": "Runs"
         }
        }
       }
      }
     },
     "metadata": {},
     "output_type": "display_data"
    }
   ],
   "source": [
    "trace1 = go.Bar(x=batsman_run_wise_and_inning_wise['batter'],\n",
    "              y= batsman_run_wise_and_inning_wise['1st innings'],\n",
    "              name = '1st innings',\n",
    "              text=batsman_run_wise_and_inning_wise['1st innings'],\n",
    "              hovertemplate='1st innings Runs: %{y}<extra></extra>')\n",
    "\n",
    "trace2 = go.Bar(x=batsman_run_wise_and_inning_wise['batter'],\n",
    "              y= batsman_run_wise_and_inning_wise['2nd innings'],\n",
    "              name= '2nd innings',\n",
    "              text= batsman_run_wise_and_inning_wise['2nd innings'],\n",
    "              textposition='inside', #inside and outside\n",
    "              hovertemplate='2nd innings Runs: %{y}<extra></extra>')\n",
    "\n",
    "data = [trace1, trace2]\n",
    "\n",
    "layout = go.Layout(title='Top 10 Run Scorer',\n",
    "                   xaxis= dict(title = 'Batsman Name'),\n",
    "                   yaxis=dict(title = 'Runs'),\n",
    "                   barmode= 'stack',\n",
    "                   bargap=0.2)\n",
    "\n",
    "fig = go.Figure(data = data, layout = layout)\n",
    "\n",
    "fig.show()"
   ]
  },
  {
   "cell_type": "markdown",
   "id": "6c58ec64",
   "metadata": {},
   "source": [
    "<span style=\"font-size: 18px;\"> <b>3.3 Grouped Bar Graph"
   ]
  },
  {
   "cell_type": "code",
   "execution_count": 227,
   "id": "51de9a7a",
   "metadata": {},
   "outputs": [
    {
     "data": {
      "application/vnd.plotly.v1+json": {
       "config": {
        "plotlyServerURL": "https://plot.ly"
       },
       "data": [
        {
         "hovertemplate": "1st innings Runs: %{y}<extra></extra>",
         "name": "1st innings",
         "text": {
          "bdata": "AAAAAAAwsUAAAAAAAKyuQAAAAAAAIKxAAAAAAACgqUAAAAAAAPSoQAAAAAAA8qdAAAAAAAC2qEAAAAAAAHKmQAAAAAAAkKBAAAAAAABupUA=",
          "dtype": "f8"
         },
         "type": "bar",
         "x": [
          "V Kohli",
          "S Dhawan",
          "RG Sharma",
          "DA Warner",
          "SK Raina",
          "MS Dhoni",
          "AB de Villiers",
          "CH Gayle",
          "RV Uthappa",
          "KD Karthik"
         ],
         "y": {
          "bdata": "MBFWDxAO0Ax6DPkLWww5C0gItwo=",
          "dtype": "i2"
         }
        },
        {
         "hovertemplate": "2nd innings Runs: %{y}<extra></extra>",
         "name": "2nd innings",
         "text": {
          "bdata": "AAAAAAAorEAAAAAAADamQAAAAAAAqKdAAAAAAACqqUAAAAAAADyiQAAAAAAABKFAAAAAAAA8n0AAAAAAAFigQAAAAAAAIKZAAAAAAABmoEA=",
          "dtype": "f8"
         },
         "textposition": "inside",
         "type": "bar",
         "x": [
          "V Kohli",
          "S Dhawan",
          "RG Sharma",
          "DA Warner",
          "SK Raina",
          "MS Dhoni",
          "AB de Villiers",
          "CH Gayle",
          "RV Uthappa",
          "KD Karthik"
         ],
         "y": {
          "bdata": "FA4bC9QL1QweCYIIzwcsCBALMwg=",
          "dtype": "i2"
         }
        }
       ],
       "layout": {
        "bargap": 0.2,
        "barmode": "group",
        "template": {
         "data": {
          "bar": [
           {
            "error_x": {
             "color": "#2a3f5f"
            },
            "error_y": {
             "color": "#2a3f5f"
            },
            "marker": {
             "line": {
              "color": "#E5ECF6",
              "width": 0.5
             },
             "pattern": {
              "fillmode": "overlay",
              "size": 10,
              "solidity": 0.2
             }
            },
            "type": "bar"
           }
          ],
          "barpolar": [
           {
            "marker": {
             "line": {
              "color": "#E5ECF6",
              "width": 0.5
             },
             "pattern": {
              "fillmode": "overlay",
              "size": 10,
              "solidity": 0.2
             }
            },
            "type": "barpolar"
           }
          ],
          "carpet": [
           {
            "aaxis": {
             "endlinecolor": "#2a3f5f",
             "gridcolor": "white",
             "linecolor": "white",
             "minorgridcolor": "white",
             "startlinecolor": "#2a3f5f"
            },
            "baxis": {
             "endlinecolor": "#2a3f5f",
             "gridcolor": "white",
             "linecolor": "white",
             "minorgridcolor": "white",
             "startlinecolor": "#2a3f5f"
            },
            "type": "carpet"
           }
          ],
          "choropleth": [
           {
            "colorbar": {
             "outlinewidth": 0,
             "ticks": ""
            },
            "type": "choropleth"
           }
          ],
          "contour": [
           {
            "colorbar": {
             "outlinewidth": 0,
             "ticks": ""
            },
            "colorscale": [
             [
              0,
              "#0d0887"
             ],
             [
              0.1111111111111111,
              "#46039f"
             ],
             [
              0.2222222222222222,
              "#7201a8"
             ],
             [
              0.3333333333333333,
              "#9c179e"
             ],
             [
              0.4444444444444444,
              "#bd3786"
             ],
             [
              0.5555555555555556,
              "#d8576b"
             ],
             [
              0.6666666666666666,
              "#ed7953"
             ],
             [
              0.7777777777777778,
              "#fb9f3a"
             ],
             [
              0.8888888888888888,
              "#fdca26"
             ],
             [
              1,
              "#f0f921"
             ]
            ],
            "type": "contour"
           }
          ],
          "contourcarpet": [
           {
            "colorbar": {
             "outlinewidth": 0,
             "ticks": ""
            },
            "type": "contourcarpet"
           }
          ],
          "heatmap": [
           {
            "colorbar": {
             "outlinewidth": 0,
             "ticks": ""
            },
            "colorscale": [
             [
              0,
              "#0d0887"
             ],
             [
              0.1111111111111111,
              "#46039f"
             ],
             [
              0.2222222222222222,
              "#7201a8"
             ],
             [
              0.3333333333333333,
              "#9c179e"
             ],
             [
              0.4444444444444444,
              "#bd3786"
             ],
             [
              0.5555555555555556,
              "#d8576b"
             ],
             [
              0.6666666666666666,
              "#ed7953"
             ],
             [
              0.7777777777777778,
              "#fb9f3a"
             ],
             [
              0.8888888888888888,
              "#fdca26"
             ],
             [
              1,
              "#f0f921"
             ]
            ],
            "type": "heatmap"
           }
          ],
          "histogram": [
           {
            "marker": {
             "pattern": {
              "fillmode": "overlay",
              "size": 10,
              "solidity": 0.2
             }
            },
            "type": "histogram"
           }
          ],
          "histogram2d": [
           {
            "colorbar": {
             "outlinewidth": 0,
             "ticks": ""
            },
            "colorscale": [
             [
              0,
              "#0d0887"
             ],
             [
              0.1111111111111111,
              "#46039f"
             ],
             [
              0.2222222222222222,
              "#7201a8"
             ],
             [
              0.3333333333333333,
              "#9c179e"
             ],
             [
              0.4444444444444444,
              "#bd3786"
             ],
             [
              0.5555555555555556,
              "#d8576b"
             ],
             [
              0.6666666666666666,
              "#ed7953"
             ],
             [
              0.7777777777777778,
              "#fb9f3a"
             ],
             [
              0.8888888888888888,
              "#fdca26"
             ],
             [
              1,
              "#f0f921"
             ]
            ],
            "type": "histogram2d"
           }
          ],
          "histogram2dcontour": [
           {
            "colorbar": {
             "outlinewidth": 0,
             "ticks": ""
            },
            "colorscale": [
             [
              0,
              "#0d0887"
             ],
             [
              0.1111111111111111,
              "#46039f"
             ],
             [
              0.2222222222222222,
              "#7201a8"
             ],
             [
              0.3333333333333333,
              "#9c179e"
             ],
             [
              0.4444444444444444,
              "#bd3786"
             ],
             [
              0.5555555555555556,
              "#d8576b"
             ],
             [
              0.6666666666666666,
              "#ed7953"
             ],
             [
              0.7777777777777778,
              "#fb9f3a"
             ],
             [
              0.8888888888888888,
              "#fdca26"
             ],
             [
              1,
              "#f0f921"
             ]
            ],
            "type": "histogram2dcontour"
           }
          ],
          "mesh3d": [
           {
            "colorbar": {
             "outlinewidth": 0,
             "ticks": ""
            },
            "type": "mesh3d"
           }
          ],
          "parcoords": [
           {
            "line": {
             "colorbar": {
              "outlinewidth": 0,
              "ticks": ""
             }
            },
            "type": "parcoords"
           }
          ],
          "pie": [
           {
            "automargin": true,
            "type": "pie"
           }
          ],
          "scatter": [
           {
            "fillpattern": {
             "fillmode": "overlay",
             "size": 10,
             "solidity": 0.2
            },
            "type": "scatter"
           }
          ],
          "scatter3d": [
           {
            "line": {
             "colorbar": {
              "outlinewidth": 0,
              "ticks": ""
             }
            },
            "marker": {
             "colorbar": {
              "outlinewidth": 0,
              "ticks": ""
             }
            },
            "type": "scatter3d"
           }
          ],
          "scattercarpet": [
           {
            "marker": {
             "colorbar": {
              "outlinewidth": 0,
              "ticks": ""
             }
            },
            "type": "scattercarpet"
           }
          ],
          "scattergeo": [
           {
            "marker": {
             "colorbar": {
              "outlinewidth": 0,
              "ticks": ""
             }
            },
            "type": "scattergeo"
           }
          ],
          "scattergl": [
           {
            "marker": {
             "colorbar": {
              "outlinewidth": 0,
              "ticks": ""
             }
            },
            "type": "scattergl"
           }
          ],
          "scattermap": [
           {
            "marker": {
             "colorbar": {
              "outlinewidth": 0,
              "ticks": ""
             }
            },
            "type": "scattermap"
           }
          ],
          "scattermapbox": [
           {
            "marker": {
             "colorbar": {
              "outlinewidth": 0,
              "ticks": ""
             }
            },
            "type": "scattermapbox"
           }
          ],
          "scatterpolar": [
           {
            "marker": {
             "colorbar": {
              "outlinewidth": 0,
              "ticks": ""
             }
            },
            "type": "scatterpolar"
           }
          ],
          "scatterpolargl": [
           {
            "marker": {
             "colorbar": {
              "outlinewidth": 0,
              "ticks": ""
             }
            },
            "type": "scatterpolargl"
           }
          ],
          "scatterternary": [
           {
            "marker": {
             "colorbar": {
              "outlinewidth": 0,
              "ticks": ""
             }
            },
            "type": "scatterternary"
           }
          ],
          "surface": [
           {
            "colorbar": {
             "outlinewidth": 0,
             "ticks": ""
            },
            "colorscale": [
             [
              0,
              "#0d0887"
             ],
             [
              0.1111111111111111,
              "#46039f"
             ],
             [
              0.2222222222222222,
              "#7201a8"
             ],
             [
              0.3333333333333333,
              "#9c179e"
             ],
             [
              0.4444444444444444,
              "#bd3786"
             ],
             [
              0.5555555555555556,
              "#d8576b"
             ],
             [
              0.6666666666666666,
              "#ed7953"
             ],
             [
              0.7777777777777778,
              "#fb9f3a"
             ],
             [
              0.8888888888888888,
              "#fdca26"
             ],
             [
              1,
              "#f0f921"
             ]
            ],
            "type": "surface"
           }
          ],
          "table": [
           {
            "cells": {
             "fill": {
              "color": "#EBF0F8"
             },
             "line": {
              "color": "white"
             }
            },
            "header": {
             "fill": {
              "color": "#C8D4E3"
             },
             "line": {
              "color": "white"
             }
            },
            "type": "table"
           }
          ]
         },
         "layout": {
          "annotationdefaults": {
           "arrowcolor": "#2a3f5f",
           "arrowhead": 0,
           "arrowwidth": 1
          },
          "autotypenumbers": "strict",
          "coloraxis": {
           "colorbar": {
            "outlinewidth": 0,
            "ticks": ""
           }
          },
          "colorscale": {
           "diverging": [
            [
             0,
             "#8e0152"
            ],
            [
             0.1,
             "#c51b7d"
            ],
            [
             0.2,
             "#de77ae"
            ],
            [
             0.3,
             "#f1b6da"
            ],
            [
             0.4,
             "#fde0ef"
            ],
            [
             0.5,
             "#f7f7f7"
            ],
            [
             0.6,
             "#e6f5d0"
            ],
            [
             0.7,
             "#b8e186"
            ],
            [
             0.8,
             "#7fbc41"
            ],
            [
             0.9,
             "#4d9221"
            ],
            [
             1,
             "#276419"
            ]
           ],
           "sequential": [
            [
             0,
             "#0d0887"
            ],
            [
             0.1111111111111111,
             "#46039f"
            ],
            [
             0.2222222222222222,
             "#7201a8"
            ],
            [
             0.3333333333333333,
             "#9c179e"
            ],
            [
             0.4444444444444444,
             "#bd3786"
            ],
            [
             0.5555555555555556,
             "#d8576b"
            ],
            [
             0.6666666666666666,
             "#ed7953"
            ],
            [
             0.7777777777777778,
             "#fb9f3a"
            ],
            [
             0.8888888888888888,
             "#fdca26"
            ],
            [
             1,
             "#f0f921"
            ]
           ],
           "sequentialminus": [
            [
             0,
             "#0d0887"
            ],
            [
             0.1111111111111111,
             "#46039f"
            ],
            [
             0.2222222222222222,
             "#7201a8"
            ],
            [
             0.3333333333333333,
             "#9c179e"
            ],
            [
             0.4444444444444444,
             "#bd3786"
            ],
            [
             0.5555555555555556,
             "#d8576b"
            ],
            [
             0.6666666666666666,
             "#ed7953"
            ],
            [
             0.7777777777777778,
             "#fb9f3a"
            ],
            [
             0.8888888888888888,
             "#fdca26"
            ],
            [
             1,
             "#f0f921"
            ]
           ]
          },
          "colorway": [
           "#636efa",
           "#EF553B",
           "#00cc96",
           "#ab63fa",
           "#FFA15A",
           "#19d3f3",
           "#FF6692",
           "#B6E880",
           "#FF97FF",
           "#FECB52"
          ],
          "font": {
           "color": "#2a3f5f"
          },
          "geo": {
           "bgcolor": "white",
           "lakecolor": "white",
           "landcolor": "#E5ECF6",
           "showlakes": true,
           "showland": true,
           "subunitcolor": "white"
          },
          "hoverlabel": {
           "align": "left"
          },
          "hovermode": "closest",
          "mapbox": {
           "style": "light"
          },
          "paper_bgcolor": "white",
          "plot_bgcolor": "#E5ECF6",
          "polar": {
           "angularaxis": {
            "gridcolor": "white",
            "linecolor": "white",
            "ticks": ""
           },
           "bgcolor": "#E5ECF6",
           "radialaxis": {
            "gridcolor": "white",
            "linecolor": "white",
            "ticks": ""
           }
          },
          "scene": {
           "xaxis": {
            "backgroundcolor": "#E5ECF6",
            "gridcolor": "white",
            "gridwidth": 2,
            "linecolor": "white",
            "showbackground": true,
            "ticks": "",
            "zerolinecolor": "white"
           },
           "yaxis": {
            "backgroundcolor": "#E5ECF6",
            "gridcolor": "white",
            "gridwidth": 2,
            "linecolor": "white",
            "showbackground": true,
            "ticks": "",
            "zerolinecolor": "white"
           },
           "zaxis": {
            "backgroundcolor": "#E5ECF6",
            "gridcolor": "white",
            "gridwidth": 2,
            "linecolor": "white",
            "showbackground": true,
            "ticks": "",
            "zerolinecolor": "white"
           }
          },
          "shapedefaults": {
           "line": {
            "color": "#2a3f5f"
           }
          },
          "ternary": {
           "aaxis": {
            "gridcolor": "white",
            "linecolor": "white",
            "ticks": ""
           },
           "baxis": {
            "gridcolor": "white",
            "linecolor": "white",
            "ticks": ""
           },
           "bgcolor": "#E5ECF6",
           "caxis": {
            "gridcolor": "white",
            "linecolor": "white",
            "ticks": ""
           }
          },
          "title": {
           "x": 0.05
          },
          "xaxis": {
           "automargin": true,
           "gridcolor": "white",
           "linecolor": "white",
           "ticks": "",
           "title": {
            "standoff": 15
           },
           "zerolinecolor": "white",
           "zerolinewidth": 2
          },
          "yaxis": {
           "automargin": true,
           "gridcolor": "white",
           "linecolor": "white",
           "ticks": "",
           "title": {
            "standoff": 15
           },
           "zerolinecolor": "white",
           "zerolinewidth": 2
          }
         }
        },
        "title": {
         "text": "Top 10 Run Scorer"
        },
        "uniformtext": {
         "minsize": 8,
         "mode": "hide"
        },
        "xaxis": {
         "tickangle": -45,
         "title": {
          "text": "Batsman Name"
         }
        },
        "yaxis": {
         "title": {
          "text": "Runs"
         }
        }
       }
      }
     },
     "metadata": {},
     "output_type": "display_data"
    }
   ],
   "source": [
    "fig.update_layout(\n",
    "    title='Top 10 Run Scorer',\n",
    "    xaxis=dict(title='Batsman Name', tickangle=-45),\n",
    "    yaxis=dict(title='Runs'),\n",
    "    barmode='group',    # 'stack' if you prefer stacked\n",
    "    bargap=0.2,\n",
    "    uniformtext_minsize=8,\n",
    "    uniformtext_mode='hide'   # prevents overlapping labels\n",
    ")\n",
    "\n",
    "fig.show()"
   ]
  },
  {
   "cell_type": "markdown",
   "id": "bb11c002",
   "metadata": {},
   "source": [
    "## <b> <center> 4. Bubble Plot </b></center>  \n",
    "A bubble chart is a scatter plot in which a third dimension of the data is shown through the size of markers."
   ]
  },
  {
   "cell_type": "markdown",
   "id": "7cbbee7d",
   "metadata": {},
   "source": [
    ">Bubble is same as scatter plot, the only difference is bubble plot will always have size parameter value."
   ]
  },
  {
   "cell_type": "markdown",
   "id": "8c2ceaf4",
   "metadata": {},
   "source": [
    "<span style=\"font-size: 18px;\"> <b> 🎯***Question:*** Plot bubble plot on the Strike Rate Vs Average columns"
   ]
  },
  {
   "cell_type": "code",
   "execution_count": 228,
   "id": "40152767",
   "metadata": {},
   "outputs": [
    {
     "data": {
      "text/html": [
       "<div>\n",
       "<style scoped>\n",
       "    .dataframe tbody tr th:only-of-type {\n",
       "        vertical-align: middle;\n",
       "    }\n",
       "\n",
       "    .dataframe tbody tr th {\n",
       "        vertical-align: top;\n",
       "    }\n",
       "\n",
       "    .dataframe thead th {\n",
       "        text-align: right;\n",
       "    }\n",
       "</style>\n",
       "<table border=\"1\" class=\"dataframe\">\n",
       "  <thead>\n",
       "    <tr style=\"text-align: right;\">\n",
       "      <th></th>\n",
       "      <th>batter</th>\n",
       "      <th>runs</th>\n",
       "      <th>balls</th>\n",
       "      <th>outs</th>\n",
       "      <th>strike_rate</th>\n",
       "      <th>average</th>\n",
       "    </tr>\n",
       "  </thead>\n",
       "  <tbody>\n",
       "    <tr>\n",
       "      <th>631</th>\n",
       "      <td>V Kohli</td>\n",
       "      <td>8014</td>\n",
       "      <td>6236</td>\n",
       "      <td>218</td>\n",
       "      <td>128.511867</td>\n",
       "      <td>36.761468</td>\n",
       "    </tr>\n",
       "    <tr>\n",
       "      <th>512</th>\n",
       "      <td>S Dhawan</td>\n",
       "      <td>6769</td>\n",
       "      <td>5483</td>\n",
       "      <td>194</td>\n",
       "      <td>123.454313</td>\n",
       "      <td>34.891753</td>\n",
       "    </tr>\n",
       "    <tr>\n",
       "      <th>477</th>\n",
       "      <td>RG Sharma</td>\n",
       "      <td>6630</td>\n",
       "      <td>5183</td>\n",
       "      <td>232</td>\n",
       "      <td>127.918194</td>\n",
       "      <td>28.577586</td>\n",
       "    </tr>\n",
       "    <tr>\n",
       "      <th>147</th>\n",
       "      <td>DA Warner</td>\n",
       "      <td>6567</td>\n",
       "      <td>4849</td>\n",
       "      <td>164</td>\n",
       "      <td>135.429986</td>\n",
       "      <td>40.042683</td>\n",
       "    </tr>\n",
       "    <tr>\n",
       "      <th>546</th>\n",
       "      <td>SK Raina</td>\n",
       "      <td>5536</td>\n",
       "      <td>4177</td>\n",
       "      <td>168</td>\n",
       "      <td>132.535312</td>\n",
       "      <td>32.952381</td>\n",
       "    </tr>\n",
       "  </tbody>\n",
       "</table>\n",
       "</div>"
      ],
      "text/plain": [
       "        batter  runs  balls  outs  strike_rate    average\n",
       "631    V Kohli  8014   6236   218   128.511867  36.761468\n",
       "512   S Dhawan  6769   5483   194   123.454313  34.891753\n",
       "477  RG Sharma  6630   5183   232   127.918194  28.577586\n",
       "147  DA Warner  6567   4849   164   135.429986  40.042683\n",
       "546   SK Raina  5536   4177   168   132.535312  32.952381"
      ]
     },
     "execution_count": 228,
     "metadata": {},
     "output_type": "execute_result"
    }
   ],
   "source": [
    "top50_batsman_summary.head()"
   ]
  },
  {
   "cell_type": "code",
   "execution_count": 229,
   "id": "2aa93624",
   "metadata": {},
   "outputs": [
    {
     "data": {
      "application/vnd.plotly.v1+json": {
       "config": {
        "plotlyServerURL": "https://plot.ly"
       },
       "data": [
        {
         "hovertemplate": "%{text}<br>Avg: %{y}<br>SR: %{x}<br>Runs: %{marker.color}<extra></extra>",
         "marker": {
          "color": {
           "bdata": "Th9xGuYZpxmgFXsUPRSFE1oT6xJREiIS2xFDEfwQeRAoDxMPCg7/DW0N4QyWDJAMWAw7DI8LdgtsC0ILIAvUCsIKqAptClQKTAo7CuYJvwm5CbgJewlRCUwJHgm8CH4IVAgsCA==",
           "dtype": "i2"
          },
          "colorscale": [
           [
            0,
            "#0d0887"
           ],
           [
            0.1111111111111111,
            "#46039f"
           ],
           [
            0.2222222222222222,
            "#7201a8"
           ],
           [
            0.3333333333333333,
            "#9c179e"
           ],
           [
            0.4444444444444444,
            "#bd3786"
           ],
           [
            0.5555555555555556,
            "#d8576b"
           ],
           [
            0.6666666666666666,
            "#ed7953"
           ],
           [
            0.7777777777777778,
            "#fb9f3a"
           ],
           [
            0.8888888888888888,
            "#fdca26"
           ],
           [
            1,
            "#f0f921"
           ]
          ],
          "line": {
           "color": "black",
           "width": 2
          },
          "opacity": 0.6,
          "showscale": true,
          "size": {
           "bdata": "N9BpA522SkDQaQOdNpBGQJqZmZmZGUZApHA9CtfjRUB02kCnDXRCQDptoNMGekFAhetRuB5FQUDotIFOG6hAQAOdNtBpg0BA5RdLfrEkQEDD9Shcj0I/QPKLJb9Y8j5A+cWSXyx5PkD2KFyPwnU9QP1iyS+W/DxAnTbQaQMdPEDe3d3d3d05QDptoNMGujlA9ihcj8L1N0BjyS+W/OI3QGoDnTbQ6TZAexSuR+H6NUB7FK5H4Xo1QHE9CtejcDVAERERERERNUBgLPnFkt80QDptoNMGujNAj8L1KFyPM0B+seQXS34zQDfQaQOdNjNA/WLJL5b8MkB7FK5H4XoyQFyPwvUoXDJAMJb8YskvMkBLfrHkF8sxQKDTBjptoDFAk18s+cWSMUD2KFyPwnUxQOUXS36x5DBAIiIiIiKiMEAYS36x5JcwQJb8YskvljBArkfhehQuMEDNzMzMzMwvQLy7u7u7uy9AH4XrUbgeL0DQaQOdNtAtQP1iyS+W/CxAbaDTBjptLEDlF0t+seQrQA==",
           "dtype": "f8"
          }
         },
         "mode": "markers",
         "text": [
          "V Kohli",
          "S Dhawan",
          "RG Sharma",
          "DA Warner",
          "SK Raina",
          "MS Dhoni",
          "AB de Villiers",
          "CH Gayle",
          "RV Uthappa",
          "KD Karthik",
          "KL Rahul",
          "AM Rahane",
          "F du Plessis",
          "SV Samson",
          "AT Rayudu",
          "G Gambhir",
          "SR Watson",
          "MK Pandey",
          "SA Yadav",
          "JC Buttler",
          "KA Pollard",
          "RR Pant",
          "YK Pathan",
          "Shubman Gill",
          "Q de Kock",
          "SS Iyer",
          "RA Jadeja",
          "WP Saha",
          "DA Miller",
          "BB McCullum",
          "PA Patel",
          "GJ Maxwell",
          "Yuvraj Singh",
          "V Sehwag",
          "MA Agarwal",
          "Ishan Kishan",
          "N Rana",
          "M Vijay",
          "HH Pandya",
          "SPD Smith",
          "SE Marsh",
          "AD Russell",
          "JH Kallis",
          "DR Smith",
          "RD Gaikwad",
          "SR Tendulkar",
          "RA Tripathi",
          "R Dravid",
          "KS Williamson",
          "AJ Finch"
         ],
         "type": "scatter",
         "x": {
          "bdata": "Fw6ix3dhQkAN283yJHJBQMs9jbDckzxAJWpXonYFRECe53me53lAQO0etr4NmEFA001iEFi5REAAAAAAAIVDQEMWspCF7DpA/Sn1p9SfOUDtc0hNMB5GQBqkQRqkwT1AYhBYObRIQkDVk/HbpR4/QK+hvIbymjxAywOSda48P0CzLMuyLMs+QD5g9oDZAz1At23btm0LQEBVVVVVValCQGlL2pK2pDpAAAAAAAAsQUBvMEU+6wY9QK0pa8qaskJAVoZvRIFJP0AyMjIyMrI+QExnMZ3F9DlAy6BUmHg/OEB6nud5nmdBQK7sc0hNMDtAm81ms9lsNkCRz7rBFPk4QEL0+C4cRDlA9qGxPjTWO0BPIyz3NAI3QOEQDuEQDj1AiMkVxOQKPEAAAAAAAAA7QGg84xnPeDxAy7d8y7f8P0BXaqVWaiVDQOh5nud5nj1AhCIUoQhFO0Acx3Ecx3E9QAAAAAAAQEVA+e1ST8ZvQEBYpAw83Zo7QGDvmBrYOzxAJ3VfHlsRQkB6nud5nuc4QA==",
          "dtype": "f8"
         },
         "y": {
          "bdata": "aj0GNmEQYEAz5Tl4E91eQLuDK7HD+l9A4OgVccLtYEAP6oVHIZFgQEKeaNm4mmBAM9VY+pKSYkAV5rY05cNhQGWQz/C+iV9AOf2XFU9rYEDcrZWyoGFgQJzhfPuRFF5AzOSGSkiiYEBHKuZWZ+RgQKwO3ORoJV9A6b7f3pHqXUABOcUBOcVgQM5ccX5vV11AqfYluTDQYUAnsjHBpcdhQDmPaYGljmFAg/MxOB/zYUBA03MQe0FhQHkN5TWUh2BAwtljwtljYEBGhK1zosFeQJMeCr2qG19AG0yRz7r5XkB6T7o859VgQMr47VJPtl9ADQG/vQsoXUCk2Rmbos9iQGox6sM5Ml9A03FpRXeaYkBpDTNBLghgQNj+rtmFmWBAH1XeFjRaYECoN73pTaddQLj/IgwfdmFA4FiWdv4zX0Blo1NHg0NgQK09+Xcuh2RAsnry4ut7WkD5eITx8YhgQMncANI/tGBAwIABAwaMXEDxwQcffPBgQE7hTCA5VlxA6a1xNfm8XkBDaoLxVtZeQA==",
          "dtype": "f8"
         }
        }
       ],
       "layout": {
        "template": {
         "data": {
          "bar": [
           {
            "error_x": {
             "color": "#2a3f5f"
            },
            "error_y": {
             "color": "#2a3f5f"
            },
            "marker": {
             "line": {
              "color": "#E5ECF6",
              "width": 0.5
             },
             "pattern": {
              "fillmode": "overlay",
              "size": 10,
              "solidity": 0.2
             }
            },
            "type": "bar"
           }
          ],
          "barpolar": [
           {
            "marker": {
             "line": {
              "color": "#E5ECF6",
              "width": 0.5
             },
             "pattern": {
              "fillmode": "overlay",
              "size": 10,
              "solidity": 0.2
             }
            },
            "type": "barpolar"
           }
          ],
          "carpet": [
           {
            "aaxis": {
             "endlinecolor": "#2a3f5f",
             "gridcolor": "white",
             "linecolor": "white",
             "minorgridcolor": "white",
             "startlinecolor": "#2a3f5f"
            },
            "baxis": {
             "endlinecolor": "#2a3f5f",
             "gridcolor": "white",
             "linecolor": "white",
             "minorgridcolor": "white",
             "startlinecolor": "#2a3f5f"
            },
            "type": "carpet"
           }
          ],
          "choropleth": [
           {
            "colorbar": {
             "outlinewidth": 0,
             "ticks": ""
            },
            "type": "choropleth"
           }
          ],
          "contour": [
           {
            "colorbar": {
             "outlinewidth": 0,
             "ticks": ""
            },
            "colorscale": [
             [
              0,
              "#0d0887"
             ],
             [
              0.1111111111111111,
              "#46039f"
             ],
             [
              0.2222222222222222,
              "#7201a8"
             ],
             [
              0.3333333333333333,
              "#9c179e"
             ],
             [
              0.4444444444444444,
              "#bd3786"
             ],
             [
              0.5555555555555556,
              "#d8576b"
             ],
             [
              0.6666666666666666,
              "#ed7953"
             ],
             [
              0.7777777777777778,
              "#fb9f3a"
             ],
             [
              0.8888888888888888,
              "#fdca26"
             ],
             [
              1,
              "#f0f921"
             ]
            ],
            "type": "contour"
           }
          ],
          "contourcarpet": [
           {
            "colorbar": {
             "outlinewidth": 0,
             "ticks": ""
            },
            "type": "contourcarpet"
           }
          ],
          "heatmap": [
           {
            "colorbar": {
             "outlinewidth": 0,
             "ticks": ""
            },
            "colorscale": [
             [
              0,
              "#0d0887"
             ],
             [
              0.1111111111111111,
              "#46039f"
             ],
             [
              0.2222222222222222,
              "#7201a8"
             ],
             [
              0.3333333333333333,
              "#9c179e"
             ],
             [
              0.4444444444444444,
              "#bd3786"
             ],
             [
              0.5555555555555556,
              "#d8576b"
             ],
             [
              0.6666666666666666,
              "#ed7953"
             ],
             [
              0.7777777777777778,
              "#fb9f3a"
             ],
             [
              0.8888888888888888,
              "#fdca26"
             ],
             [
              1,
              "#f0f921"
             ]
            ],
            "type": "heatmap"
           }
          ],
          "histogram": [
           {
            "marker": {
             "pattern": {
              "fillmode": "overlay",
              "size": 10,
              "solidity": 0.2
             }
            },
            "type": "histogram"
           }
          ],
          "histogram2d": [
           {
            "colorbar": {
             "outlinewidth": 0,
             "ticks": ""
            },
            "colorscale": [
             [
              0,
              "#0d0887"
             ],
             [
              0.1111111111111111,
              "#46039f"
             ],
             [
              0.2222222222222222,
              "#7201a8"
             ],
             [
              0.3333333333333333,
              "#9c179e"
             ],
             [
              0.4444444444444444,
              "#bd3786"
             ],
             [
              0.5555555555555556,
              "#d8576b"
             ],
             [
              0.6666666666666666,
              "#ed7953"
             ],
             [
              0.7777777777777778,
              "#fb9f3a"
             ],
             [
              0.8888888888888888,
              "#fdca26"
             ],
             [
              1,
              "#f0f921"
             ]
            ],
            "type": "histogram2d"
           }
          ],
          "histogram2dcontour": [
           {
            "colorbar": {
             "outlinewidth": 0,
             "ticks": ""
            },
            "colorscale": [
             [
              0,
              "#0d0887"
             ],
             [
              0.1111111111111111,
              "#46039f"
             ],
             [
              0.2222222222222222,
              "#7201a8"
             ],
             [
              0.3333333333333333,
              "#9c179e"
             ],
             [
              0.4444444444444444,
              "#bd3786"
             ],
             [
              0.5555555555555556,
              "#d8576b"
             ],
             [
              0.6666666666666666,
              "#ed7953"
             ],
             [
              0.7777777777777778,
              "#fb9f3a"
             ],
             [
              0.8888888888888888,
              "#fdca26"
             ],
             [
              1,
              "#f0f921"
             ]
            ],
            "type": "histogram2dcontour"
           }
          ],
          "mesh3d": [
           {
            "colorbar": {
             "outlinewidth": 0,
             "ticks": ""
            },
            "type": "mesh3d"
           }
          ],
          "parcoords": [
           {
            "line": {
             "colorbar": {
              "outlinewidth": 0,
              "ticks": ""
             }
            },
            "type": "parcoords"
           }
          ],
          "pie": [
           {
            "automargin": true,
            "type": "pie"
           }
          ],
          "scatter": [
           {
            "fillpattern": {
             "fillmode": "overlay",
             "size": 10,
             "solidity": 0.2
            },
            "type": "scatter"
           }
          ],
          "scatter3d": [
           {
            "line": {
             "colorbar": {
              "outlinewidth": 0,
              "ticks": ""
             }
            },
            "marker": {
             "colorbar": {
              "outlinewidth": 0,
              "ticks": ""
             }
            },
            "type": "scatter3d"
           }
          ],
          "scattercarpet": [
           {
            "marker": {
             "colorbar": {
              "outlinewidth": 0,
              "ticks": ""
             }
            },
            "type": "scattercarpet"
           }
          ],
          "scattergeo": [
           {
            "marker": {
             "colorbar": {
              "outlinewidth": 0,
              "ticks": ""
             }
            },
            "type": "scattergeo"
           }
          ],
          "scattergl": [
           {
            "marker": {
             "colorbar": {
              "outlinewidth": 0,
              "ticks": ""
             }
            },
            "type": "scattergl"
           }
          ],
          "scattermap": [
           {
            "marker": {
             "colorbar": {
              "outlinewidth": 0,
              "ticks": ""
             }
            },
            "type": "scattermap"
           }
          ],
          "scattermapbox": [
           {
            "marker": {
             "colorbar": {
              "outlinewidth": 0,
              "ticks": ""
             }
            },
            "type": "scattermapbox"
           }
          ],
          "scatterpolar": [
           {
            "marker": {
             "colorbar": {
              "outlinewidth": 0,
              "ticks": ""
             }
            },
            "type": "scatterpolar"
           }
          ],
          "scatterpolargl": [
           {
            "marker": {
             "colorbar": {
              "outlinewidth": 0,
              "ticks": ""
             }
            },
            "type": "scatterpolargl"
           }
          ],
          "scatterternary": [
           {
            "marker": {
             "colorbar": {
              "outlinewidth": 0,
              "ticks": ""
             }
            },
            "type": "scatterternary"
           }
          ],
          "surface": [
           {
            "colorbar": {
             "outlinewidth": 0,
             "ticks": ""
            },
            "colorscale": [
             [
              0,
              "#0d0887"
             ],
             [
              0.1111111111111111,
              "#46039f"
             ],
             [
              0.2222222222222222,
              "#7201a8"
             ],
             [
              0.3333333333333333,
              "#9c179e"
             ],
             [
              0.4444444444444444,
              "#bd3786"
             ],
             [
              0.5555555555555556,
              "#d8576b"
             ],
             [
              0.6666666666666666,
              "#ed7953"
             ],
             [
              0.7777777777777778,
              "#fb9f3a"
             ],
             [
              0.8888888888888888,
              "#fdca26"
             ],
             [
              1,
              "#f0f921"
             ]
            ],
            "type": "surface"
           }
          ],
          "table": [
           {
            "cells": {
             "fill": {
              "color": "#EBF0F8"
             },
             "line": {
              "color": "white"
             }
            },
            "header": {
             "fill": {
              "color": "#C8D4E3"
             },
             "line": {
              "color": "white"
             }
            },
            "type": "table"
           }
          ]
         },
         "layout": {
          "annotationdefaults": {
           "arrowcolor": "#2a3f5f",
           "arrowhead": 0,
           "arrowwidth": 1
          },
          "autotypenumbers": "strict",
          "coloraxis": {
           "colorbar": {
            "outlinewidth": 0,
            "ticks": ""
           }
          },
          "colorscale": {
           "diverging": [
            [
             0,
             "#8e0152"
            ],
            [
             0.1,
             "#c51b7d"
            ],
            [
             0.2,
             "#de77ae"
            ],
            [
             0.3,
             "#f1b6da"
            ],
            [
             0.4,
             "#fde0ef"
            ],
            [
             0.5,
             "#f7f7f7"
            ],
            [
             0.6,
             "#e6f5d0"
            ],
            [
             0.7,
             "#b8e186"
            ],
            [
             0.8,
             "#7fbc41"
            ],
            [
             0.9,
             "#4d9221"
            ],
            [
             1,
             "#276419"
            ]
           ],
           "sequential": [
            [
             0,
             "#0d0887"
            ],
            [
             0.1111111111111111,
             "#46039f"
            ],
            [
             0.2222222222222222,
             "#7201a8"
            ],
            [
             0.3333333333333333,
             "#9c179e"
            ],
            [
             0.4444444444444444,
             "#bd3786"
            ],
            [
             0.5555555555555556,
             "#d8576b"
            ],
            [
             0.6666666666666666,
             "#ed7953"
            ],
            [
             0.7777777777777778,
             "#fb9f3a"
            ],
            [
             0.8888888888888888,
             "#fdca26"
            ],
            [
             1,
             "#f0f921"
            ]
           ],
           "sequentialminus": [
            [
             0,
             "#0d0887"
            ],
            [
             0.1111111111111111,
             "#46039f"
            ],
            [
             0.2222222222222222,
             "#7201a8"
            ],
            [
             0.3333333333333333,
             "#9c179e"
            ],
            [
             0.4444444444444444,
             "#bd3786"
            ],
            [
             0.5555555555555556,
             "#d8576b"
            ],
            [
             0.6666666666666666,
             "#ed7953"
            ],
            [
             0.7777777777777778,
             "#fb9f3a"
            ],
            [
             0.8888888888888888,
             "#fdca26"
            ],
            [
             1,
             "#f0f921"
            ]
           ]
          },
          "colorway": [
           "#636efa",
           "#EF553B",
           "#00cc96",
           "#ab63fa",
           "#FFA15A",
           "#19d3f3",
           "#FF6692",
           "#B6E880",
           "#FF97FF",
           "#FECB52"
          ],
          "font": {
           "color": "#2a3f5f"
          },
          "geo": {
           "bgcolor": "white",
           "lakecolor": "white",
           "landcolor": "#E5ECF6",
           "showlakes": true,
           "showland": true,
           "subunitcolor": "white"
          },
          "hoverlabel": {
           "align": "left"
          },
          "hovermode": "closest",
          "mapbox": {
           "style": "light"
          },
          "paper_bgcolor": "white",
          "plot_bgcolor": "#E5ECF6",
          "polar": {
           "angularaxis": {
            "gridcolor": "white",
            "linecolor": "white",
            "ticks": ""
           },
           "bgcolor": "#E5ECF6",
           "radialaxis": {
            "gridcolor": "white",
            "linecolor": "white",
            "ticks": ""
           }
          },
          "scene": {
           "xaxis": {
            "backgroundcolor": "#E5ECF6",
            "gridcolor": "white",
            "gridwidth": 2,
            "linecolor": "white",
            "showbackground": true,
            "ticks": "",
            "zerolinecolor": "white"
           },
           "yaxis": {
            "backgroundcolor": "#E5ECF6",
            "gridcolor": "white",
            "gridwidth": 2,
            "linecolor": "white",
            "showbackground": true,
            "ticks": "",
            "zerolinecolor": "white"
           },
           "zaxis": {
            "backgroundcolor": "#E5ECF6",
            "gridcolor": "white",
            "gridwidth": 2,
            "linecolor": "white",
            "showbackground": true,
            "ticks": "",
            "zerolinecolor": "white"
           }
          },
          "shapedefaults": {
           "line": {
            "color": "#2a3f5f"
           }
          },
          "ternary": {
           "aaxis": {
            "gridcolor": "white",
            "linecolor": "white",
            "ticks": ""
           },
           "baxis": {
            "gridcolor": "white",
            "linecolor": "white",
            "ticks": ""
           },
           "bgcolor": "#E5ECF6",
           "caxis": {
            "gridcolor": "white",
            "linecolor": "white",
            "ticks": ""
           }
          },
          "title": {
           "x": 0.05
          },
          "xaxis": {
           "automargin": true,
           "gridcolor": "white",
           "linecolor": "white",
           "ticks": "",
           "title": {
            "standoff": 15
           },
           "zerolinecolor": "white",
           "zerolinewidth": 2
          },
          "yaxis": {
           "automargin": true,
           "gridcolor": "white",
           "linecolor": "white",
           "ticks": "",
           "title": {
            "standoff": 15
           },
           "zerolinecolor": "white",
           "zerolinewidth": 2
          }
         }
        },
        "title": {
         "text": "Strike Rate vs Average (Top 50 Batsmen)"
        },
        "xaxis": {
         "title": {
          "text": "Average"
         }
        },
        "yaxis": {
         "title": {
          "text": "Strike Rate"
         }
        }
       }
      }
     },
     "metadata": {},
     "output_type": "display_data"
    }
   ],
   "source": [
    "trace1 = go.Scatter(x= top50_batsman_summary['average'],\n",
    "                    y= top50_batsman_summary['strike_rate'],\n",
    "                    mode = 'markers', \n",
    "                    marker = dict(\n",
    "                        size = top50_batsman_summary['runs'] / 150,\n",
    "                        color = top50_batsman_summary['runs'],\n",
    "                        colorscale = 'Plasma', \n",
    "                        showscale = True,\n",
    "                        opacity = 0.6,\n",
    "                        line=dict(width=2, color='black')\n",
    "                        ),\n",
    "                    \n",
    "                    text= top50_batsman_summary['batter'],\n",
    "                    hovertemplate='%{text}<br>Avg: %{y}<br>SR: %{x}<br>Runs: %{marker.color}<extra></extra>',\n",
    "                    )\n",
    "                    \n",
    "\n",
    "data = [trace1]\n",
    "\n",
    "layout = go.Layout(\n",
    "    title = 'Strike Rate vs Average (Top 50 Batsmen)',\n",
    "    xaxis = {'title': 'Average'},\n",
    "    yaxis = {'title': 'Strike Rate'},\n",
    "    \n",
    ")\n",
    "\n",
    "fig = go.Figure(data = data, layout = layout)\n",
    "\n",
    "fig.show()"
   ]
  },
  {
   "cell_type": "markdown",
   "id": "45568744",
   "metadata": {},
   "source": [
    " ## <b> <center> 5. Box Plot </b></center>  "
   ]
  },
  {
   "cell_type": "markdown",
   "id": "62618136",
   "metadata": {},
   "source": [
    "<h3> 📦 Box Plot (a.k.a. Whisker Plot) </h3>\n",
    "\n",
    "A **box plot** is a statistical visualization used to show the **distribution** of a dataset.\n",
    "It highlights **central tendency**, **spread**, and **outliers**.\n",
    "\n",
    "---\n",
    "\n",
    "<h3> 📊 Key Components</h3>\n",
    "\n",
    "1. **Median (Q2)**\n",
    "\n",
    "   * The line inside the box.\n",
    "   * Splits the data into two halves.\n",
    "\n",
    "2. **Quartiles**\n",
    "\n",
    "   * **Q1 (25th percentile):** lower edge of the box → 25% of data below.\n",
    "   * **Q3 (75th percentile):** upper edge of the box → 75% of data below.\n",
    "   * The **box height** = **IQR (Interquartile Range) = Q3 − Q1** → shows middle 50% of data.\n",
    "\n",
    "3. **Whiskers**\n",
    "\n",
    "   * Lines extending from the box.\n",
    "   * Typically go to the **smallest and largest values within 1.5 × IQR** from Q1 and Q3.\n",
    "   * Show the general spread of the data.\n",
    "\n",
    "4. **Outliers**\n",
    "\n",
    "   * Points beyond whiskers (i.e., below Q1 − 1.5×IQR or above Q3 + 1.5×IQR).\n",
    "   * Represent unusually high/low values.\n",
    "\n",
    "---\n",
    "\n",
    "<h3> ✅ What Box Plots Are Good For</h3>\n",
    "\n",
    "* Comparing **distributions** across multiple groups.\n",
    "* Detecting **skewness** (median not centered in box).\n",
    "* Spotting **outliers** quickly.\n",
    "* Seeing **spread/variability** in data.\n",
    "\n",
    "---\n",
    "\n",
    "<h3> ⚡ Quick Example</h3>\n",
    "\n",
    "If you plot batsmen runs per match:\n",
    "\n",
    "* The box shows the **middle 50% of runs** scored.\n",
    "* Median tells the “typical” score.\n",
    "* Outliers highlight **exceptional high/low innings**.\n",
    "\n",
    "---\n",
    "\n",
    "👉 In short: **A box plot = 5-number summary (min, Q1, median, Q3, max) + outliers.**\n",
    "\n"
   ]
  },
  {
   "cell_type": "code",
   "execution_count": null,
   "id": "669b9032",
   "metadata": {},
   "outputs": [],
   "source": []
  },
  {
   "cell_type": "markdown",
   "id": "1d6711ed",
   "metadata": {},
   "source": [
    ">In box column should be numerical."
   ]
  },
  {
   "cell_type": "markdown",
   "id": "f7bb3387",
   "metadata": {},
   "source": [
    "Extract total runs scored in a match"
   ]
  },
  {
   "cell_type": "code",
   "execution_count": 230,
   "id": "05f3e1f0",
   "metadata": {},
   "outputs": [
    {
     "data": {
      "text/html": [
       "<div>\n",
       "<style scoped>\n",
       "    .dataframe tbody tr th:only-of-type {\n",
       "        vertical-align: middle;\n",
       "    }\n",
       "\n",
       "    .dataframe tbody tr th {\n",
       "        vertical-align: top;\n",
       "    }\n",
       "\n",
       "    .dataframe thead th {\n",
       "        text-align: right;\n",
       "    }\n",
       "</style>\n",
       "<table border=\"1\" class=\"dataframe\">\n",
       "  <thead>\n",
       "    <tr style=\"text-align: right;\">\n",
       "      <th></th>\n",
       "      <th>match_id</th>\n",
       "      <th>total_runs</th>\n",
       "      <th>season</th>\n",
       "    </tr>\n",
       "  </thead>\n",
       "  <tbody>\n",
       "    <tr>\n",
       "      <th>0</th>\n",
       "      <td>335982</td>\n",
       "      <td>304</td>\n",
       "      <td>2007/08</td>\n",
       "    </tr>\n",
       "    <tr>\n",
       "      <th>1</th>\n",
       "      <td>335983</td>\n",
       "      <td>447</td>\n",
       "      <td>2007/08</td>\n",
       "    </tr>\n",
       "    <tr>\n",
       "      <th>2</th>\n",
       "      <td>335984</td>\n",
       "      <td>261</td>\n",
       "      <td>2007/08</td>\n",
       "    </tr>\n",
       "    <tr>\n",
       "      <th>3</th>\n",
       "      <td>335985</td>\n",
       "      <td>331</td>\n",
       "      <td>2007/08</td>\n",
       "    </tr>\n",
       "    <tr>\n",
       "      <th>4</th>\n",
       "      <td>335986</td>\n",
       "      <td>222</td>\n",
       "      <td>2007/08</td>\n",
       "    </tr>\n",
       "    <tr>\n",
       "      <th>...</th>\n",
       "      <td>...</td>\n",
       "      <td>...</td>\n",
       "      <td>...</td>\n",
       "    </tr>\n",
       "    <tr>\n",
       "      <th>1090</th>\n",
       "      <td>1426307</td>\n",
       "      <td>429</td>\n",
       "      <td>2024</td>\n",
       "    </tr>\n",
       "    <tr>\n",
       "      <th>1091</th>\n",
       "      <td>1426309</td>\n",
       "      <td>323</td>\n",
       "      <td>2024</td>\n",
       "    </tr>\n",
       "    <tr>\n",
       "      <th>1092</th>\n",
       "      <td>1426310</td>\n",
       "      <td>346</td>\n",
       "      <td>2024</td>\n",
       "    </tr>\n",
       "    <tr>\n",
       "      <th>1093</th>\n",
       "      <td>1426311</td>\n",
       "      <td>314</td>\n",
       "      <td>2024</td>\n",
       "    </tr>\n",
       "    <tr>\n",
       "      <th>1094</th>\n",
       "      <td>1426312</td>\n",
       "      <td>227</td>\n",
       "      <td>2024</td>\n",
       "    </tr>\n",
       "  </tbody>\n",
       "</table>\n",
       "<p>1095 rows × 3 columns</p>\n",
       "</div>"
      ],
      "text/plain": [
       "      match_id  total_runs   season\n",
       "0       335982         304  2007/08\n",
       "1       335983         447  2007/08\n",
       "2       335984         261  2007/08\n",
       "3       335985         331  2007/08\n",
       "4       335986         222  2007/08\n",
       "...        ...         ...      ...\n",
       "1090   1426307         429     2024\n",
       "1091   1426309         323     2024\n",
       "1092   1426310         346     2024\n",
       "1093   1426311         314     2024\n",
       "1094   1426312         227     2024\n",
       "\n",
       "[1095 rows x 3 columns]"
      ]
     },
     "execution_count": 230,
     "metadata": {},
     "output_type": "execute_result"
    }
   ],
   "source": [
    "each_match_runs = ipl.groupby(['match_id'])['total_runs'].sum().reset_index()\n",
    "\n",
    "season_wise = each_match_runs.merge(match, left_on='match_id', right_on='id')[['match_id', 'total_runs', 'season']]\n",
    "\n",
    "season_wise"
   ]
  },
  {
   "cell_type": "markdown",
   "id": "054276a3",
   "metadata": {},
   "source": [
    "<span style=\"font-size: 18px;\"> <b>Plot Box plot on the Total runs"
   ]
  },
  {
   "cell_type": "code",
   "execution_count": 231,
   "id": "506d4e58",
   "metadata": {},
   "outputs": [
    {
     "data": {
      "application/vnd.plotly.v1+json": {
       "config": {
        "plotlyServerURL": "https://plot.ly"
       },
       "data": [
        {
         "hovertemplate": "Runs: %{x} <br>Season:%{hovertext}<extra></extra>",
         "hovertext": [
          "2007/08",
          "2007/08",
          "2007/08",
          "2007/08",
          "2007/08",
          "2007/08",
          "2007/08",
          "2007/08",
          "2007/08",
          "2007/08",
          "2007/08",
          "2007/08",
          "2007/08",
          "2007/08",
          "2007/08",
          "2007/08",
          "2007/08",
          "2007/08",
          "2007/08",
          "2007/08",
          "2007/08",
          "2007/08",
          "2007/08",
          "2007/08",
          "2007/08",
          "2007/08",
          "2007/08",
          "2007/08",
          "2007/08",
          "2007/08",
          "2007/08",
          "2007/08",
          "2007/08",
          "2007/08",
          "2007/08",
          "2007/08",
          "2007/08",
          "2007/08",
          "2007/08",
          "2007/08",
          "2007/08",
          "2007/08",
          "2007/08",
          "2007/08",
          "2007/08",
          "2007/08",
          "2007/08",
          "2007/08",
          "2007/08",
          "2007/08",
          "2007/08",
          "2007/08",
          "2007/08",
          "2007/08",
          "2007/08",
          "2007/08",
          "2007/08",
          "2007/08",
          "2009",
          "2009",
          "2009",
          "2009",
          "2009",
          "2009",
          "2009",
          "2009",
          "2009",
          "2009",
          "2009",
          "2009",
          "2009",
          "2009",
          "2009",
          "2009",
          "2009",
          "2009",
          "2009",
          "2009",
          "2009",
          "2009",
          "2009",
          "2009",
          "2009",
          "2009",
          "2009",
          "2009",
          "2009",
          "2009",
          "2009",
          "2009",
          "2009",
          "2009",
          "2009",
          "2009",
          "2009",
          "2009",
          "2009",
          "2009",
          "2009",
          "2009",
          "2009",
          "2009",
          "2009",
          "2009",
          "2009",
          "2009",
          "2009",
          "2009",
          "2009",
          "2009",
          "2009",
          "2009",
          "2009",
          "2009",
          "2009",
          "2009/10",
          "2009/10",
          "2009/10",
          "2009/10",
          "2009/10",
          "2009/10",
          "2009/10",
          "2009/10",
          "2009/10",
          "2009/10",
          "2009/10",
          "2009/10",
          "2009/10",
          "2009/10",
          "2009/10",
          "2009/10",
          "2009/10",
          "2009/10",
          "2009/10",
          "2009/10",
          "2009/10",
          "2009/10",
          "2009/10",
          "2009/10",
          "2009/10",
          "2009/10",
          "2009/10",
          "2009/10",
          "2009/10",
          "2009/10",
          "2009/10",
          "2009/10",
          "2009/10",
          "2009/10",
          "2009/10",
          "2009/10",
          "2009/10",
          "2009/10",
          "2009/10",
          "2009/10",
          "2009/10",
          "2009/10",
          "2009/10",
          "2009/10",
          "2009/10",
          "2009/10",
          "2009/10",
          "2009/10",
          "2009/10",
          "2009/10",
          "2009/10",
          "2009/10",
          "2009/10",
          "2009/10",
          "2009/10",
          "2009/10",
          "2009/10",
          "2009/10",
          "2009/10",
          "2009/10",
          "2011",
          "2011",
          "2011",
          "2011",
          "2011",
          "2011",
          "2011",
          "2011",
          "2011",
          "2011",
          "2011",
          "2011",
          "2011",
          "2011",
          "2011",
          "2011",
          "2011",
          "2011",
          "2011",
          "2011",
          "2011",
          "2011",
          "2011",
          "2011",
          "2011",
          "2011",
          "2011",
          "2011",
          "2011",
          "2011",
          "2011",
          "2011",
          "2011",
          "2011",
          "2011",
          "2011",
          "2011",
          "2011",
          "2011",
          "2011",
          "2011",
          "2011",
          "2011",
          "2011",
          "2011",
          "2011",
          "2011",
          "2011",
          "2011",
          "2011",
          "2011",
          "2011",
          "2011",
          "2011",
          "2011",
          "2011",
          "2011",
          "2011",
          "2011",
          "2011",
          "2011",
          "2011",
          "2011",
          "2011",
          "2011",
          "2011",
          "2011",
          "2011",
          "2011",
          "2011",
          "2011",
          "2011",
          "2011",
          "2012",
          "2012",
          "2012",
          "2012",
          "2012",
          "2012",
          "2012",
          "2012",
          "2012",
          "2012",
          "2012",
          "2012",
          "2012",
          "2012",
          "2012",
          "2012",
          "2012",
          "2012",
          "2012",
          "2012",
          "2012",
          "2012",
          "2012",
          "2012",
          "2012",
          "2012",
          "2012",
          "2012",
          "2012",
          "2012",
          "2012",
          "2012",
          "2012",
          "2012",
          "2012",
          "2012",
          "2012",
          "2012",
          "2012",
          "2012",
          "2012",
          "2012",
          "2012",
          "2012",
          "2012",
          "2012",
          "2012",
          "2012",
          "2012",
          "2012",
          "2012",
          "2012",
          "2012",
          "2012",
          "2012",
          "2012",
          "2012",
          "2012",
          "2012",
          "2012",
          "2012",
          "2012",
          "2012",
          "2012",
          "2012",
          "2012",
          "2012",
          "2012",
          "2012",
          "2012",
          "2012",
          "2012",
          "2012",
          "2012",
          "2013",
          "2013",
          "2013",
          "2013",
          "2013",
          "2013",
          "2013",
          "2013",
          "2013",
          "2013",
          "2013",
          "2013",
          "2013",
          "2013",
          "2013",
          "2013",
          "2013",
          "2013",
          "2013",
          "2013",
          "2013",
          "2013",
          "2013",
          "2013",
          "2013",
          "2013",
          "2013",
          "2013",
          "2013",
          "2013",
          "2013",
          "2013",
          "2013",
          "2013",
          "2013",
          "2013",
          "2013",
          "2013",
          "2013",
          "2013",
          "2013",
          "2013",
          "2013",
          "2013",
          "2013",
          "2013",
          "2013",
          "2013",
          "2013",
          "2013",
          "2013",
          "2013",
          "2013",
          "2013",
          "2013",
          "2013",
          "2013",
          "2013",
          "2013",
          "2013",
          "2013",
          "2013",
          "2013",
          "2013",
          "2013",
          "2013",
          "2013",
          "2013",
          "2013",
          "2013",
          "2013",
          "2013",
          "2013",
          "2013",
          "2013",
          "2013",
          "2014",
          "2014",
          "2014",
          "2014",
          "2014",
          "2014",
          "2014",
          "2014",
          "2014",
          "2014",
          "2014",
          "2014",
          "2014",
          "2014",
          "2014",
          "2014",
          "2014",
          "2014",
          "2014",
          "2014",
          "2014",
          "2014",
          "2014",
          "2014",
          "2014",
          "2014",
          "2014",
          "2014",
          "2014",
          "2014",
          "2014",
          "2014",
          "2014",
          "2014",
          "2014",
          "2014",
          "2014",
          "2014",
          "2014",
          "2014",
          "2014",
          "2014",
          "2014",
          "2014",
          "2014",
          "2014",
          "2014",
          "2014",
          "2014",
          "2014",
          "2014",
          "2014",
          "2014",
          "2014",
          "2014",
          "2014",
          "2014",
          "2014",
          "2014",
          "2014",
          "2015",
          "2015",
          "2015",
          "2015",
          "2015",
          "2015",
          "2015",
          "2015",
          "2015",
          "2015",
          "2015",
          "2015",
          "2015",
          "2015",
          "2015",
          "2015",
          "2015",
          "2015",
          "2015",
          "2015",
          "2015",
          "2015",
          "2015",
          "2015",
          "2015",
          "2015",
          "2015",
          "2015",
          "2015",
          "2015",
          "2015",
          "2015",
          "2015",
          "2015",
          "2015",
          "2015",
          "2015",
          "2015",
          "2015",
          "2015",
          "2015",
          "2015",
          "2015",
          "2015",
          "2015",
          "2015",
          "2015",
          "2015",
          "2015",
          "2015",
          "2015",
          "2015",
          "2015",
          "2015",
          "2015",
          "2015",
          "2015",
          "2015",
          "2015",
          "2016",
          "2016",
          "2016",
          "2016",
          "2016",
          "2016",
          "2016",
          "2016",
          "2016",
          "2016",
          "2016",
          "2016",
          "2016",
          "2016",
          "2016",
          "2016",
          "2016",
          "2016",
          "2016",
          "2016",
          "2016",
          "2016",
          "2016",
          "2016",
          "2016",
          "2016",
          "2016",
          "2016",
          "2016",
          "2016",
          "2016",
          "2016",
          "2016",
          "2016",
          "2016",
          "2016",
          "2016",
          "2016",
          "2016",
          "2016",
          "2016",
          "2016",
          "2016",
          "2016",
          "2016",
          "2016",
          "2016",
          "2016",
          "2016",
          "2016",
          "2016",
          "2016",
          "2016",
          "2016",
          "2016",
          "2016",
          "2016",
          "2016",
          "2016",
          "2016",
          "2017",
          "2017",
          "2017",
          "2017",
          "2017",
          "2017",
          "2017",
          "2017",
          "2017",
          "2017",
          "2017",
          "2017",
          "2017",
          "2017",
          "2017",
          "2017",
          "2017",
          "2017",
          "2017",
          "2017",
          "2017",
          "2017",
          "2017",
          "2017",
          "2017",
          "2017",
          "2017",
          "2017",
          "2017",
          "2017",
          "2017",
          "2017",
          "2017",
          "2017",
          "2017",
          "2017",
          "2017",
          "2017",
          "2017",
          "2017",
          "2017",
          "2017",
          "2017",
          "2017",
          "2017",
          "2017",
          "2017",
          "2017",
          "2017",
          "2017",
          "2017",
          "2017",
          "2017",
          "2017",
          "2017",
          "2017",
          "2017",
          "2017",
          "2017",
          "2018",
          "2018",
          "2018",
          "2018",
          "2018",
          "2018",
          "2018",
          "2018",
          "2018",
          "2018",
          "2018",
          "2018",
          "2018",
          "2018",
          "2018",
          "2018",
          "2018",
          "2018",
          "2018",
          "2018",
          "2018",
          "2018",
          "2018",
          "2018",
          "2018",
          "2018",
          "2018",
          "2018",
          "2018",
          "2018",
          "2018",
          "2018",
          "2018",
          "2018",
          "2018",
          "2018",
          "2018",
          "2018",
          "2018",
          "2018",
          "2018",
          "2018",
          "2018",
          "2018",
          "2018",
          "2018",
          "2018",
          "2018",
          "2018",
          "2018",
          "2018",
          "2018",
          "2018",
          "2018",
          "2018",
          "2018",
          "2018",
          "2018",
          "2018",
          "2018",
          "2019",
          "2019",
          "2019",
          "2019",
          "2019",
          "2019",
          "2019",
          "2019",
          "2019",
          "2019",
          "2019",
          "2019",
          "2019",
          "2019",
          "2019",
          "2019",
          "2019",
          "2019",
          "2019",
          "2019",
          "2019",
          "2019",
          "2019",
          "2019",
          "2019",
          "2019",
          "2019",
          "2019",
          "2019",
          "2019",
          "2019",
          "2019",
          "2019",
          "2019",
          "2019",
          "2019",
          "2019",
          "2019",
          "2019",
          "2019",
          "2019",
          "2019",
          "2019",
          "2019",
          "2019",
          "2019",
          "2019",
          "2019",
          "2019",
          "2019",
          "2019",
          "2019",
          "2019",
          "2019",
          "2019",
          "2019",
          "2019",
          "2019",
          "2019",
          "2019",
          "2020/21",
          "2020/21",
          "2020/21",
          "2020/21",
          "2020/21",
          "2020/21",
          "2020/21",
          "2020/21",
          "2020/21",
          "2020/21",
          "2020/21",
          "2020/21",
          "2020/21",
          "2020/21",
          "2020/21",
          "2020/21",
          "2020/21",
          "2020/21",
          "2020/21",
          "2020/21",
          "2020/21",
          "2020/21",
          "2020/21",
          "2020/21",
          "2020/21",
          "2020/21",
          "2020/21",
          "2020/21",
          "2020/21",
          "2020/21",
          "2020/21",
          "2020/21",
          "2020/21",
          "2020/21",
          "2020/21",
          "2020/21",
          "2020/21",
          "2020/21",
          "2020/21",
          "2020/21",
          "2020/21",
          "2020/21",
          "2020/21",
          "2020/21",
          "2020/21",
          "2020/21",
          "2020/21",
          "2020/21",
          "2020/21",
          "2020/21",
          "2020/21",
          "2020/21",
          "2020/21",
          "2020/21",
          "2020/21",
          "2020/21",
          "2020/21",
          "2020/21",
          "2020/21",
          "2020/21",
          "2021",
          "2021",
          "2021",
          "2021",
          "2021",
          "2021",
          "2021",
          "2021",
          "2021",
          "2021",
          "2021",
          "2021",
          "2021",
          "2021",
          "2021",
          "2021",
          "2021",
          "2021",
          "2021",
          "2021",
          "2021",
          "2021",
          "2021",
          "2021",
          "2021",
          "2021",
          "2021",
          "2021",
          "2021",
          "2021",
          "2021",
          "2021",
          "2021",
          "2021",
          "2021",
          "2021",
          "2021",
          "2021",
          "2021",
          "2021",
          "2021",
          "2021",
          "2021",
          "2021",
          "2021",
          "2021",
          "2021",
          "2021",
          "2021",
          "2021",
          "2021",
          "2021",
          "2021",
          "2021",
          "2021",
          "2021",
          "2021",
          "2021",
          "2021",
          "2021",
          "2022",
          "2022",
          "2022",
          "2022",
          "2022",
          "2022",
          "2022",
          "2022",
          "2022",
          "2022",
          "2022",
          "2022",
          "2022",
          "2022",
          "2022",
          "2022",
          "2022",
          "2022",
          "2022",
          "2022",
          "2022",
          "2022",
          "2022",
          "2022",
          "2022",
          "2022",
          "2022",
          "2022",
          "2022",
          "2022",
          "2022",
          "2022",
          "2022",
          "2022",
          "2022",
          "2022",
          "2022",
          "2022",
          "2022",
          "2022",
          "2022",
          "2022",
          "2022",
          "2022",
          "2022",
          "2022",
          "2022",
          "2022",
          "2022",
          "2022",
          "2022",
          "2022",
          "2022",
          "2022",
          "2022",
          "2022",
          "2022",
          "2022",
          "2022",
          "2022",
          "2022",
          "2022",
          "2022",
          "2022",
          "2022",
          "2022",
          "2022",
          "2022",
          "2022",
          "2022",
          "2022",
          "2022",
          "2022",
          "2022",
          "2023",
          "2023",
          "2023",
          "2023",
          "2023",
          "2023",
          "2023",
          "2023",
          "2023",
          "2023",
          "2023",
          "2023",
          "2023",
          "2023",
          "2023",
          "2023",
          "2023",
          "2023",
          "2023",
          "2023",
          "2023",
          "2023",
          "2023",
          "2023",
          "2023",
          "2023",
          "2023",
          "2023",
          "2023",
          "2023",
          "2023",
          "2023",
          "2023",
          "2023",
          "2023",
          "2023",
          "2023",
          "2023",
          "2023",
          "2023",
          "2023",
          "2023",
          "2023",
          "2023",
          "2023",
          "2023",
          "2023",
          "2023",
          "2023",
          "2023",
          "2023",
          "2023",
          "2023",
          "2023",
          "2023",
          "2023",
          "2023",
          "2023",
          "2023",
          "2023",
          "2023",
          "2023",
          "2023",
          "2023",
          "2023",
          "2023",
          "2023",
          "2023",
          "2023",
          "2023",
          "2023",
          "2023",
          "2023",
          "2023",
          "2024",
          "2024",
          "2024",
          "2024",
          "2024",
          "2024",
          "2024",
          "2024",
          "2024",
          "2024",
          "2024",
          "2024",
          "2024",
          "2024",
          "2024",
          "2024",
          "2024",
          "2024",
          "2024",
          "2024",
          "2024",
          "2024",
          "2024",
          "2024",
          "2024",
          "2024",
          "2024",
          "2024",
          "2024",
          "2024",
          "2024",
          "2024",
          "2024",
          "2024",
          "2024",
          "2024",
          "2024",
          "2024",
          "2024",
          "2024",
          "2024",
          "2024",
          "2024",
          "2024",
          "2024",
          "2024",
          "2024",
          "2024",
          "2024",
          "2024",
          "2024",
          "2024",
          "2024",
          "2024",
          "2024",
          "2024",
          "2024",
          "2024",
          "2024",
          "2024",
          "2024",
          "2024",
          "2024",
          "2024",
          "2024",
          "2024",
          "2024",
          "2024",
          "2024",
          "2024",
          "2024"
         ],
         "marker": {
          "color": " green"
         },
         "name": "",
         "type": "box",
         "x": {
          "bdata": "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",
          "dtype": "i2"
         }
        }
       ],
       "layout": {
        "template": {
         "data": {
          "bar": [
           {
            "error_x": {
             "color": "#2a3f5f"
            },
            "error_y": {
             "color": "#2a3f5f"
            },
            "marker": {
             "line": {
              "color": "#E5ECF6",
              "width": 0.5
             },
             "pattern": {
              "fillmode": "overlay",
              "size": 10,
              "solidity": 0.2
             }
            },
            "type": "bar"
           }
          ],
          "barpolar": [
           {
            "marker": {
             "line": {
              "color": "#E5ECF6",
              "width": 0.5
             },
             "pattern": {
              "fillmode": "overlay",
              "size": 10,
              "solidity": 0.2
             }
            },
            "type": "barpolar"
           }
          ],
          "carpet": [
           {
            "aaxis": {
             "endlinecolor": "#2a3f5f",
             "gridcolor": "white",
             "linecolor": "white",
             "minorgridcolor": "white",
             "startlinecolor": "#2a3f5f"
            },
            "baxis": {
             "endlinecolor": "#2a3f5f",
             "gridcolor": "white",
             "linecolor": "white",
             "minorgridcolor": "white",
             "startlinecolor": "#2a3f5f"
            },
            "type": "carpet"
           }
          ],
          "choropleth": [
           {
            "colorbar": {
             "outlinewidth": 0,
             "ticks": ""
            },
            "type": "choropleth"
           }
          ],
          "contour": [
           {
            "colorbar": {
             "outlinewidth": 0,
             "ticks": ""
            },
            "colorscale": [
             [
              0,
              "#0d0887"
             ],
             [
              0.1111111111111111,
              "#46039f"
             ],
             [
              0.2222222222222222,
              "#7201a8"
             ],
             [
              0.3333333333333333,
              "#9c179e"
             ],
             [
              0.4444444444444444,
              "#bd3786"
             ],
             [
              0.5555555555555556,
              "#d8576b"
             ],
             [
              0.6666666666666666,
              "#ed7953"
             ],
             [
              0.7777777777777778,
              "#fb9f3a"
             ],
             [
              0.8888888888888888,
              "#fdca26"
             ],
             [
              1,
              "#f0f921"
             ]
            ],
            "type": "contour"
           }
          ],
          "contourcarpet": [
           {
            "colorbar": {
             "outlinewidth": 0,
             "ticks": ""
            },
            "type": "contourcarpet"
           }
          ],
          "heatmap": [
           {
            "colorbar": {
             "outlinewidth": 0,
             "ticks": ""
            },
            "colorscale": [
             [
              0,
              "#0d0887"
             ],
             [
              0.1111111111111111,
              "#46039f"
             ],
             [
              0.2222222222222222,
              "#7201a8"
             ],
             [
              0.3333333333333333,
              "#9c179e"
             ],
             [
              0.4444444444444444,
              "#bd3786"
             ],
             [
              0.5555555555555556,
              "#d8576b"
             ],
             [
              0.6666666666666666,
              "#ed7953"
             ],
             [
              0.7777777777777778,
              "#fb9f3a"
             ],
             [
              0.8888888888888888,
              "#fdca26"
             ],
             [
              1,
              "#f0f921"
             ]
            ],
            "type": "heatmap"
           }
          ],
          "histogram": [
           {
            "marker": {
             "pattern": {
              "fillmode": "overlay",
              "size": 10,
              "solidity": 0.2
             }
            },
            "type": "histogram"
           }
          ],
          "histogram2d": [
           {
            "colorbar": {
             "outlinewidth": 0,
             "ticks": ""
            },
            "colorscale": [
             [
              0,
              "#0d0887"
             ],
             [
              0.1111111111111111,
              "#46039f"
             ],
             [
              0.2222222222222222,
              "#7201a8"
             ],
             [
              0.3333333333333333,
              "#9c179e"
             ],
             [
              0.4444444444444444,
              "#bd3786"
             ],
             [
              0.5555555555555556,
              "#d8576b"
             ],
             [
              0.6666666666666666,
              "#ed7953"
             ],
             [
              0.7777777777777778,
              "#fb9f3a"
             ],
             [
              0.8888888888888888,
              "#fdca26"
             ],
             [
              1,
              "#f0f921"
             ]
            ],
            "type": "histogram2d"
           }
          ],
          "histogram2dcontour": [
           {
            "colorbar": {
             "outlinewidth": 0,
             "ticks": ""
            },
            "colorscale": [
             [
              0,
              "#0d0887"
             ],
             [
              0.1111111111111111,
              "#46039f"
             ],
             [
              0.2222222222222222,
              "#7201a8"
             ],
             [
              0.3333333333333333,
              "#9c179e"
             ],
             [
              0.4444444444444444,
              "#bd3786"
             ],
             [
              0.5555555555555556,
              "#d8576b"
             ],
             [
              0.6666666666666666,
              "#ed7953"
             ],
             [
              0.7777777777777778,
              "#fb9f3a"
             ],
             [
              0.8888888888888888,
              "#fdca26"
             ],
             [
              1,
              "#f0f921"
             ]
            ],
            "type": "histogram2dcontour"
           }
          ],
          "mesh3d": [
           {
            "colorbar": {
             "outlinewidth": 0,
             "ticks": ""
            },
            "type": "mesh3d"
           }
          ],
          "parcoords": [
           {
            "line": {
             "colorbar": {
              "outlinewidth": 0,
              "ticks": ""
             }
            },
            "type": "parcoords"
           }
          ],
          "pie": [
           {
            "automargin": true,
            "type": "pie"
           }
          ],
          "scatter": [
           {
            "fillpattern": {
             "fillmode": "overlay",
             "size": 10,
             "solidity": 0.2
            },
            "type": "scatter"
           }
          ],
          "scatter3d": [
           {
            "line": {
             "colorbar": {
              "outlinewidth": 0,
              "ticks": ""
             }
            },
            "marker": {
             "colorbar": {
              "outlinewidth": 0,
              "ticks": ""
             }
            },
            "type": "scatter3d"
           }
          ],
          "scattercarpet": [
           {
            "marker": {
             "colorbar": {
              "outlinewidth": 0,
              "ticks": ""
             }
            },
            "type": "scattercarpet"
           }
          ],
          "scattergeo": [
           {
            "marker": {
             "colorbar": {
              "outlinewidth": 0,
              "ticks": ""
             }
            },
            "type": "scattergeo"
           }
          ],
          "scattergl": [
           {
            "marker": {
             "colorbar": {
              "outlinewidth": 0,
              "ticks": ""
             }
            },
            "type": "scattergl"
           }
          ],
          "scattermap": [
           {
            "marker": {
             "colorbar": {
              "outlinewidth": 0,
              "ticks": ""
             }
            },
            "type": "scattermap"
           }
          ],
          "scattermapbox": [
           {
            "marker": {
             "colorbar": {
              "outlinewidth": 0,
              "ticks": ""
             }
            },
            "type": "scattermapbox"
           }
          ],
          "scatterpolar": [
           {
            "marker": {
             "colorbar": {
              "outlinewidth": 0,
              "ticks": ""
             }
            },
            "type": "scatterpolar"
           }
          ],
          "scatterpolargl": [
           {
            "marker": {
             "colorbar": {
              "outlinewidth": 0,
              "ticks": ""
             }
            },
            "type": "scatterpolargl"
           }
          ],
          "scatterternary": [
           {
            "marker": {
             "colorbar": {
              "outlinewidth": 0,
              "ticks": ""
             }
            },
            "type": "scatterternary"
           }
          ],
          "surface": [
           {
            "colorbar": {
             "outlinewidth": 0,
             "ticks": ""
            },
            "colorscale": [
             [
              0,
              "#0d0887"
             ],
             [
              0.1111111111111111,
              "#46039f"
             ],
             [
              0.2222222222222222,
              "#7201a8"
             ],
             [
              0.3333333333333333,
              "#9c179e"
             ],
             [
              0.4444444444444444,
              "#bd3786"
             ],
             [
              0.5555555555555556,
              "#d8576b"
             ],
             [
              0.6666666666666666,
              "#ed7953"
             ],
             [
              0.7777777777777778,
              "#fb9f3a"
             ],
             [
              0.8888888888888888,
              "#fdca26"
             ],
             [
              1,
              "#f0f921"
             ]
            ],
            "type": "surface"
           }
          ],
          "table": [
           {
            "cells": {
             "fill": {
              "color": "#EBF0F8"
             },
             "line": {
              "color": "white"
             }
            },
            "header": {
             "fill": {
              "color": "#C8D4E3"
             },
             "line": {
              "color": "white"
             }
            },
            "type": "table"
           }
          ]
         },
         "layout": {
          "annotationdefaults": {
           "arrowcolor": "#2a3f5f",
           "arrowhead": 0,
           "arrowwidth": 1
          },
          "autotypenumbers": "strict",
          "coloraxis": {
           "colorbar": {
            "outlinewidth": 0,
            "ticks": ""
           }
          },
          "colorscale": {
           "diverging": [
            [
             0,
             "#8e0152"
            ],
            [
             0.1,
             "#c51b7d"
            ],
            [
             0.2,
             "#de77ae"
            ],
            [
             0.3,
             "#f1b6da"
            ],
            [
             0.4,
             "#fde0ef"
            ],
            [
             0.5,
             "#f7f7f7"
            ],
            [
             0.6,
             "#e6f5d0"
            ],
            [
             0.7,
             "#b8e186"
            ],
            [
             0.8,
             "#7fbc41"
            ],
            [
             0.9,
             "#4d9221"
            ],
            [
             1,
             "#276419"
            ]
           ],
           "sequential": [
            [
             0,
             "#0d0887"
            ],
            [
             0.1111111111111111,
             "#46039f"
            ],
            [
             0.2222222222222222,
             "#7201a8"
            ],
            [
             0.3333333333333333,
             "#9c179e"
            ],
            [
             0.4444444444444444,
             "#bd3786"
            ],
            [
             0.5555555555555556,
             "#d8576b"
            ],
            [
             0.6666666666666666,
             "#ed7953"
            ],
            [
             0.7777777777777778,
             "#fb9f3a"
            ],
            [
             0.8888888888888888,
             "#fdca26"
            ],
            [
             1,
             "#f0f921"
            ]
           ],
           "sequentialminus": [
            [
             0,
             "#0d0887"
            ],
            [
             0.1111111111111111,
             "#46039f"
            ],
            [
             0.2222222222222222,
             "#7201a8"
            ],
            [
             0.3333333333333333,
             "#9c179e"
            ],
            [
             0.4444444444444444,
             "#bd3786"
            ],
            [
             0.5555555555555556,
             "#d8576b"
            ],
            [
             0.6666666666666666,
             "#ed7953"
            ],
            [
             0.7777777777777778,
             "#fb9f3a"
            ],
            [
             0.8888888888888888,
             "#fdca26"
            ],
            [
             1,
             "#f0f921"
            ]
           ]
          },
          "colorway": [
           "#636efa",
           "#EF553B",
           "#00cc96",
           "#ab63fa",
           "#FFA15A",
           "#19d3f3",
           "#FF6692",
           "#B6E880",
           "#FF97FF",
           "#FECB52"
          ],
          "font": {
           "color": "#2a3f5f"
          },
          "geo": {
           "bgcolor": "white",
           "lakecolor": "white",
           "landcolor": "#E5ECF6",
           "showlakes": true,
           "showland": true,
           "subunitcolor": "white"
          },
          "hoverlabel": {
           "align": "left"
          },
          "hovermode": "closest",
          "mapbox": {
           "style": "light"
          },
          "paper_bgcolor": "white",
          "plot_bgcolor": "#E5ECF6",
          "polar": {
           "angularaxis": {
            "gridcolor": "white",
            "linecolor": "white",
            "ticks": ""
           },
           "bgcolor": "#E5ECF6",
           "radialaxis": {
            "gridcolor": "white",
            "linecolor": "white",
            "ticks": ""
           }
          },
          "scene": {
           "xaxis": {
            "backgroundcolor": "#E5ECF6",
            "gridcolor": "white",
            "gridwidth": 2,
            "linecolor": "white",
            "showbackground": true,
            "ticks": "",
            "zerolinecolor": "white"
           },
           "yaxis": {
            "backgroundcolor": "#E5ECF6",
            "gridcolor": "white",
            "gridwidth": 2,
            "linecolor": "white",
            "showbackground": true,
            "ticks": "",
            "zerolinecolor": "white"
           },
           "zaxis": {
            "backgroundcolor": "#E5ECF6",
            "gridcolor": "white",
            "gridwidth": 2,
            "linecolor": "white",
            "showbackground": true,
            "ticks": "",
            "zerolinecolor": "white"
           }
          },
          "shapedefaults": {
           "line": {
            "color": "#2a3f5f"
           }
          },
          "ternary": {
           "aaxis": {
            "gridcolor": "white",
            "linecolor": "white",
            "ticks": ""
           },
           "baxis": {
            "gridcolor": "white",
            "linecolor": "white",
            "ticks": ""
           },
           "bgcolor": "#E5ECF6",
           "caxis": {
            "gridcolor": "white",
            "linecolor": "white",
            "ticks": ""
           }
          },
          "title": {
           "x": 0.05
          },
          "xaxis": {
           "automargin": true,
           "gridcolor": "white",
           "linecolor": "white",
           "ticks": "",
           "title": {
            "standoff": 15
           },
           "zerolinecolor": "white",
           "zerolinewidth": 2
          },
          "yaxis": {
           "automargin": true,
           "gridcolor": "white",
           "linecolor": "white",
           "ticks": "",
           "title": {
            "standoff": 15
           },
           "zerolinecolor": "white",
           "zerolinewidth": 2
          }
         }
        },
        "title": {
         "text": "Total Score Analysis"
        },
        "xaxis": {
         "title": {
          "text": "Total Score"
         }
        },
        "yaxis": {
         "title": {
          "text": "All season"
         }
        }
       }
      }
     },
     "metadata": {},
     "output_type": "display_data"
    }
   ],
   "source": [
    "trace = go.Box(x=season_wise['total_runs'],\n",
    "                hovertext= season_wise['season'],\n",
    "                hovertemplate='Runs: %{x} <br>Season:%{hovertext}<extra></extra>',\n",
    "                marker= dict(color= ' green'), # box plot only takes single color\n",
    "                name='',\n",
    ")\n",
    "                \n",
    "data = [trace]\n",
    "\n",
    "layout = go.Layout(title=\"Total Score Analysis\",\n",
    "                   xaxis=dict(title = 'Total Score'),\n",
    "                   yaxis=dict(title = 'All season')\n",
    ")\n",
    "\n",
    "fig = go.Figure(data = data, layout = layout)\n",
    "\n",
    "fig.show()"
   ]
  },
  {
   "cell_type": "markdown",
   "id": "a40cc3ab",
   "metadata": {},
   "source": [
    "***Now create 2 Box Plots: first one 2007 season and second one for 2024 season***"
   ]
  },
  {
   "cell_type": "code",
   "execution_count": 232,
   "id": "3db65f77",
   "metadata": {},
   "outputs": [
    {
     "data": {
      "application/vnd.plotly.v1+json": {
       "config": {
        "plotlyServerURL": "https://plot.ly"
       },
       "data": [
        {
         "hovertemplate": "Runs: %{x} <br>Season:%{hovertext}<extra></extra>",
         "hovertext": [
          "2007/08",
          "2007/08",
          "2007/08",
          "2007/08",
          "2007/08",
          "2007/08",
          "2007/08",
          "2007/08",
          "2007/08",
          "2007/08",
          "2007/08",
          "2007/08",
          "2007/08",
          "2007/08",
          "2007/08",
          "2007/08",
          "2007/08",
          "2007/08",
          "2007/08",
          "2007/08",
          "2007/08",
          "2007/08",
          "2007/08",
          "2007/08",
          "2007/08",
          "2007/08",
          "2007/08",
          "2007/08",
          "2007/08",
          "2007/08",
          "2007/08",
          "2007/08",
          "2007/08",
          "2007/08",
          "2007/08",
          "2007/08",
          "2007/08",
          "2007/08",
          "2007/08",
          "2007/08",
          "2007/08",
          "2007/08",
          "2007/08",
          "2007/08",
          "2007/08",
          "2007/08",
          "2007/08",
          "2007/08",
          "2007/08",
          "2007/08",
          "2007/08",
          "2007/08",
          "2007/08",
          "2007/08",
          "2007/08",
          "2007/08",
          "2007/08",
          "2007/08",
          "2009",
          "2009",
          "2009",
          "2009",
          "2009",
          "2009",
          "2009",
          "2009",
          "2009",
          "2009",
          "2009",
          "2009",
          "2009",
          "2009",
          "2009",
          "2009",
          "2009",
          "2009",
          "2009",
          "2009",
          "2009",
          "2009",
          "2009",
          "2009",
          "2009",
          "2009",
          "2009",
          "2009",
          "2009",
          "2009",
          "2009",
          "2009",
          "2009",
          "2009",
          "2009",
          "2009",
          "2009",
          "2009",
          "2009",
          "2009",
          "2009",
          "2009",
          "2009",
          "2009",
          "2009",
          "2009",
          "2009",
          "2009",
          "2009",
          "2009",
          "2009",
          "2009",
          "2009",
          "2009",
          "2009",
          "2009",
          "2009",
          "2009/10",
          "2009/10",
          "2009/10",
          "2009/10",
          "2009/10",
          "2009/10",
          "2009/10",
          "2009/10",
          "2009/10",
          "2009/10",
          "2009/10",
          "2009/10",
          "2009/10",
          "2009/10",
          "2009/10",
          "2009/10",
          "2009/10",
          "2009/10",
          "2009/10",
          "2009/10",
          "2009/10",
          "2009/10",
          "2009/10",
          "2009/10",
          "2009/10",
          "2009/10",
          "2009/10",
          "2009/10",
          "2009/10",
          "2009/10",
          "2009/10",
          "2009/10",
          "2009/10",
          "2009/10",
          "2009/10",
          "2009/10",
          "2009/10",
          "2009/10",
          "2009/10",
          "2009/10",
          "2009/10",
          "2009/10",
          "2009/10",
          "2009/10",
          "2009/10",
          "2009/10",
          "2009/10",
          "2009/10",
          "2009/10",
          "2009/10",
          "2009/10",
          "2009/10",
          "2009/10",
          "2009/10",
          "2009/10",
          "2009/10",
          "2009/10",
          "2009/10",
          "2009/10",
          "2009/10",
          "2011",
          "2011",
          "2011",
          "2011",
          "2011",
          "2011",
          "2011",
          "2011",
          "2011",
          "2011",
          "2011",
          "2011",
          "2011",
          "2011",
          "2011",
          "2011",
          "2011",
          "2011",
          "2011",
          "2011",
          "2011",
          "2011",
          "2011",
          "2011",
          "2011",
          "2011",
          "2011",
          "2011",
          "2011",
          "2011",
          "2011",
          "2011",
          "2011",
          "2011",
          "2011",
          "2011",
          "2011",
          "2011",
          "2011",
          "2011",
          "2011",
          "2011",
          "2011",
          "2011",
          "2011",
          "2011",
          "2011",
          "2011",
          "2011",
          "2011",
          "2011",
          "2011",
          "2011",
          "2011",
          "2011",
          "2011",
          "2011",
          "2011",
          "2011",
          "2011",
          "2011",
          "2011",
          "2011",
          "2011",
          "2011",
          "2011",
          "2011",
          "2011",
          "2011",
          "2011",
          "2011",
          "2011",
          "2011",
          "2012",
          "2012",
          "2012",
          "2012",
          "2012",
          "2012",
          "2012",
          "2012",
          "2012",
          "2012",
          "2012",
          "2012",
          "2012",
          "2012",
          "2012",
          "2012",
          "2012",
          "2012",
          "2012",
          "2012",
          "2012",
          "2012",
          "2012",
          "2012",
          "2012",
          "2012",
          "2012",
          "2012",
          "2012",
          "2012",
          "2012",
          "2012",
          "2012",
          "2012",
          "2012",
          "2012",
          "2012",
          "2012",
          "2012",
          "2012",
          "2012",
          "2012",
          "2012",
          "2012",
          "2012",
          "2012",
          "2012",
          "2012",
          "2012",
          "2012",
          "2012",
          "2012",
          "2012",
          "2012",
          "2012",
          "2012",
          "2012",
          "2012",
          "2012",
          "2012",
          "2012",
          "2012",
          "2012",
          "2012",
          "2012",
          "2012",
          "2012",
          "2012",
          "2012",
          "2012",
          "2012",
          "2012",
          "2012",
          "2012",
          "2013",
          "2013",
          "2013",
          "2013",
          "2013",
          "2013",
          "2013",
          "2013",
          "2013",
          "2013",
          "2013",
          "2013",
          "2013",
          "2013",
          "2013",
          "2013",
          "2013",
          "2013",
          "2013",
          "2013",
          "2013",
          "2013",
          "2013",
          "2013",
          "2013",
          "2013",
          "2013",
          "2013",
          "2013",
          "2013",
          "2013",
          "2013",
          "2013",
          "2013",
          "2013",
          "2013",
          "2013",
          "2013",
          "2013",
          "2013",
          "2013",
          "2013",
          "2013",
          "2013",
          "2013",
          "2013",
          "2013",
          "2013",
          "2013",
          "2013",
          "2013",
          "2013",
          "2013",
          "2013",
          "2013",
          "2013",
          "2013",
          "2013",
          "2013",
          "2013",
          "2013",
          "2013",
          "2013",
          "2013",
          "2013",
          "2013",
          "2013",
          "2013",
          "2013",
          "2013",
          "2013",
          "2013",
          "2013",
          "2013",
          "2013",
          "2013",
          "2014",
          "2014",
          "2014",
          "2014",
          "2014",
          "2014",
          "2014",
          "2014",
          "2014",
          "2014",
          "2014",
          "2014",
          "2014",
          "2014",
          "2014",
          "2014",
          "2014",
          "2014",
          "2014",
          "2014",
          "2014",
          "2014",
          "2014",
          "2014",
          "2014",
          "2014",
          "2014",
          "2014",
          "2014",
          "2014",
          "2014",
          "2014",
          "2014",
          "2014",
          "2014",
          "2014",
          "2014",
          "2014",
          "2014",
          "2014",
          "2014",
          "2014",
          "2014",
          "2014",
          "2014",
          "2014",
          "2014",
          "2014",
          "2014",
          "2014",
          "2014",
          "2014",
          "2014",
          "2014",
          "2014",
          "2014",
          "2014",
          "2014",
          "2014",
          "2014",
          "2015",
          "2015",
          "2015",
          "2015",
          "2015",
          "2015",
          "2015",
          "2015",
          "2015",
          "2015",
          "2015",
          "2015",
          "2015",
          "2015",
          "2015",
          "2015",
          "2015",
          "2015",
          "2015",
          "2015",
          "2015",
          "2015",
          "2015",
          "2015",
          "2015",
          "2015",
          "2015",
          "2015",
          "2015",
          "2015",
          "2015",
          "2015",
          "2015",
          "2015",
          "2015",
          "2015",
          "2015",
          "2015",
          "2015",
          "2015",
          "2015",
          "2015",
          "2015",
          "2015",
          "2015",
          "2015",
          "2015",
          "2015",
          "2015",
          "2015",
          "2015",
          "2015",
          "2015",
          "2015",
          "2015",
          "2015",
          "2015",
          "2015",
          "2015",
          "2016",
          "2016",
          "2016",
          "2016",
          "2016",
          "2016",
          "2016",
          "2016",
          "2016",
          "2016",
          "2016",
          "2016",
          "2016",
          "2016",
          "2016",
          "2016",
          "2016",
          "2016",
          "2016",
          "2016",
          "2016",
          "2016",
          "2016",
          "2016",
          "2016",
          "2016",
          "2016",
          "2016",
          "2016",
          "2016",
          "2016",
          "2016",
          "2016",
          "2016",
          "2016",
          "2016",
          "2016",
          "2016",
          "2016",
          "2016",
          "2016",
          "2016",
          "2016",
          "2016",
          "2016",
          "2016",
          "2016",
          "2016",
          "2016",
          "2016",
          "2016",
          "2016",
          "2016",
          "2016",
          "2016",
          "2016",
          "2016",
          "2016",
          "2016",
          "2016",
          "2017",
          "2017",
          "2017",
          "2017",
          "2017",
          "2017",
          "2017",
          "2017",
          "2017",
          "2017",
          "2017",
          "2017",
          "2017",
          "2017",
          "2017",
          "2017",
          "2017",
          "2017",
          "2017",
          "2017",
          "2017",
          "2017",
          "2017",
          "2017",
          "2017",
          "2017",
          "2017",
          "2017",
          "2017",
          "2017",
          "2017",
          "2017",
          "2017",
          "2017",
          "2017",
          "2017",
          "2017",
          "2017",
          "2017",
          "2017",
          "2017",
          "2017",
          "2017",
          "2017",
          "2017",
          "2017",
          "2017",
          "2017",
          "2017",
          "2017",
          "2017",
          "2017",
          "2017",
          "2017",
          "2017",
          "2017",
          "2017",
          "2017",
          "2017",
          "2018",
          "2018",
          "2018",
          "2018",
          "2018",
          "2018",
          "2018",
          "2018",
          "2018",
          "2018",
          "2018",
          "2018",
          "2018",
          "2018",
          "2018",
          "2018",
          "2018",
          "2018",
          "2018",
          "2018",
          "2018",
          "2018",
          "2018",
          "2018",
          "2018",
          "2018",
          "2018",
          "2018",
          "2018",
          "2018",
          "2018",
          "2018",
          "2018",
          "2018",
          "2018",
          "2018",
          "2018",
          "2018",
          "2018",
          "2018",
          "2018",
          "2018",
          "2018",
          "2018",
          "2018",
          "2018",
          "2018",
          "2018",
          "2018",
          "2018",
          "2018",
          "2018",
          "2018",
          "2018",
          "2018",
          "2018",
          "2018",
          "2018",
          "2018",
          "2018",
          "2019",
          "2019",
          "2019",
          "2019",
          "2019",
          "2019",
          "2019",
          "2019",
          "2019",
          "2019",
          "2019",
          "2019",
          "2019",
          "2019",
          "2019",
          "2019",
          "2019",
          "2019",
          "2019",
          "2019",
          "2019",
          "2019",
          "2019",
          "2019",
          "2019",
          "2019",
          "2019",
          "2019",
          "2019",
          "2019",
          "2019",
          "2019",
          "2019",
          "2019",
          "2019",
          "2019",
          "2019",
          "2019",
          "2019",
          "2019",
          "2019",
          "2019",
          "2019",
          "2019",
          "2019",
          "2019",
          "2019",
          "2019",
          "2019",
          "2019",
          "2019",
          "2019",
          "2019",
          "2019",
          "2019",
          "2019",
          "2019",
          "2019",
          "2019",
          "2019",
          "2020/21",
          "2020/21",
          "2020/21",
          "2020/21",
          "2020/21",
          "2020/21",
          "2020/21",
          "2020/21",
          "2020/21",
          "2020/21",
          "2020/21",
          "2020/21",
          "2020/21",
          "2020/21",
          "2020/21",
          "2020/21",
          "2020/21",
          "2020/21",
          "2020/21",
          "2020/21",
          "2020/21",
          "2020/21",
          "2020/21",
          "2020/21",
          "2020/21",
          "2020/21",
          "2020/21",
          "2020/21",
          "2020/21",
          "2020/21",
          "2020/21",
          "2020/21",
          "2020/21",
          "2020/21",
          "2020/21",
          "2020/21",
          "2020/21",
          "2020/21",
          "2020/21",
          "2020/21",
          "2020/21",
          "2020/21",
          "2020/21",
          "2020/21",
          "2020/21",
          "2020/21",
          "2020/21",
          "2020/21",
          "2020/21",
          "2020/21",
          "2020/21",
          "2020/21",
          "2020/21",
          "2020/21",
          "2020/21",
          "2020/21",
          "2020/21",
          "2020/21",
          "2020/21",
          "2020/21",
          "2021",
          "2021",
          "2021",
          "2021",
          "2021",
          "2021",
          "2021",
          "2021",
          "2021",
          "2021",
          "2021",
          "2021",
          "2021",
          "2021",
          "2021",
          "2021",
          "2021",
          "2021",
          "2021",
          "2021",
          "2021",
          "2021",
          "2021",
          "2021",
          "2021",
          "2021",
          "2021",
          "2021",
          "2021",
          "2021",
          "2021",
          "2021",
          "2021",
          "2021",
          "2021",
          "2021",
          "2021",
          "2021",
          "2021",
          "2021",
          "2021",
          "2021",
          "2021",
          "2021",
          "2021",
          "2021",
          "2021",
          "2021",
          "2021",
          "2021",
          "2021",
          "2021",
          "2021",
          "2021",
          "2021",
          "2021",
          "2021",
          "2021",
          "2021",
          "2021",
          "2022",
          "2022",
          "2022",
          "2022",
          "2022",
          "2022",
          "2022",
          "2022",
          "2022",
          "2022",
          "2022",
          "2022",
          "2022",
          "2022",
          "2022",
          "2022",
          "2022",
          "2022",
          "2022",
          "2022",
          "2022",
          "2022",
          "2022",
          "2022",
          "2022",
          "2022",
          "2022",
          "2022",
          "2022",
          "2022",
          "2022",
          "2022",
          "2022",
          "2022",
          "2022",
          "2022",
          "2022",
          "2022",
          "2022",
          "2022",
          "2022",
          "2022",
          "2022",
          "2022",
          "2022",
          "2022",
          "2022",
          "2022",
          "2022",
          "2022",
          "2022",
          "2022",
          "2022",
          "2022",
          "2022",
          "2022",
          "2022",
          "2022",
          "2022",
          "2022",
          "2022",
          "2022",
          "2022",
          "2022",
          "2022",
          "2022",
          "2022",
          "2022",
          "2022",
          "2022",
          "2022",
          "2022",
          "2022",
          "2022",
          "2023",
          "2023",
          "2023",
          "2023",
          "2023",
          "2023",
          "2023",
          "2023",
          "2023",
          "2023",
          "2023",
          "2023",
          "2023",
          "2023",
          "2023",
          "2023",
          "2023",
          "2023",
          "2023",
          "2023",
          "2023",
          "2023",
          "2023",
          "2023",
          "2023",
          "2023",
          "2023",
          "2023",
          "2023",
          "2023",
          "2023",
          "2023",
          "2023",
          "2023",
          "2023",
          "2023",
          "2023",
          "2023",
          "2023",
          "2023",
          "2023",
          "2023",
          "2023",
          "2023",
          "2023",
          "2023",
          "2023",
          "2023",
          "2023",
          "2023",
          "2023",
          "2023",
          "2023",
          "2023",
          "2023",
          "2023",
          "2023",
          "2023",
          "2023",
          "2023",
          "2023",
          "2023",
          "2023",
          "2023",
          "2023",
          "2023",
          "2023",
          "2023",
          "2023",
          "2023",
          "2023",
          "2023",
          "2023",
          "2023",
          "2024",
          "2024",
          "2024",
          "2024",
          "2024",
          "2024",
          "2024",
          "2024",
          "2024",
          "2024",
          "2024",
          "2024",
          "2024",
          "2024",
          "2024",
          "2024",
          "2024",
          "2024",
          "2024",
          "2024",
          "2024",
          "2024",
          "2024",
          "2024",
          "2024",
          "2024",
          "2024",
          "2024",
          "2024",
          "2024",
          "2024",
          "2024",
          "2024",
          "2024",
          "2024",
          "2024",
          "2024",
          "2024",
          "2024",
          "2024",
          "2024",
          "2024",
          "2024",
          "2024",
          "2024",
          "2024",
          "2024",
          "2024",
          "2024",
          "2024",
          "2024",
          "2024",
          "2024",
          "2024",
          "2024",
          "2024",
          "2024",
          "2024",
          "2024",
          "2024",
          "2024",
          "2024",
          "2024",
          "2024",
          "2024",
          "2024",
          "2024",
          "2024",
          "2024",
          "2024",
          "2024"
         ],
         "marker": {
          "color": " green"
         },
         "name": "Season: 2007",
         "type": "box",
         "x": {
          "bdata": "MAG/AQUBSwHeAE4BHQGaAa8BKgERASsBNQFAAVcBEwF0AUsBWwFVAVABWwEnAdsA/QAkAc8AdwH9ABkB+ABYAYEBOwEfAfMAOgGRAXgBhwDUAEkBSwHMADgBKQF5Ae4AYQFjAZwBNQFdASMBJwEXAeQARwE=",
          "dtype": "i2"
         }
        },
        {
         "hovertemplate": "Runs: %{x} <br>Season:%{hovertext}<extra></extra>",
         "hovertext": [
          "2007/08",
          "2007/08",
          "2007/08",
          "2007/08",
          "2007/08",
          "2007/08",
          "2007/08",
          "2007/08",
          "2007/08",
          "2007/08",
          "2007/08",
          "2007/08",
          "2007/08",
          "2007/08",
          "2007/08",
          "2007/08",
          "2007/08",
          "2007/08",
          "2007/08",
          "2007/08",
          "2007/08",
          "2007/08",
          "2007/08",
          "2007/08",
          "2007/08",
          "2007/08",
          "2007/08",
          "2007/08",
          "2007/08",
          "2007/08",
          "2007/08",
          "2007/08",
          "2007/08",
          "2007/08",
          "2007/08",
          "2007/08",
          "2007/08",
          "2007/08",
          "2007/08",
          "2007/08",
          "2007/08",
          "2007/08",
          "2007/08",
          "2007/08",
          "2007/08",
          "2007/08",
          "2007/08",
          "2007/08",
          "2007/08",
          "2007/08",
          "2007/08",
          "2007/08",
          "2007/08",
          "2007/08",
          "2007/08",
          "2007/08",
          "2007/08",
          "2007/08",
          "2009",
          "2009",
          "2009",
          "2009",
          "2009",
          "2009",
          "2009",
          "2009",
          "2009",
          "2009",
          "2009",
          "2009",
          "2009",
          "2009",
          "2009",
          "2009",
          "2009",
          "2009",
          "2009",
          "2009",
          "2009",
          "2009",
          "2009",
          "2009",
          "2009",
          "2009",
          "2009",
          "2009",
          "2009",
          "2009",
          "2009",
          "2009",
          "2009",
          "2009",
          "2009",
          "2009",
          "2009",
          "2009",
          "2009",
          "2009",
          "2009",
          "2009",
          "2009",
          "2009",
          "2009",
          "2009",
          "2009",
          "2009",
          "2009",
          "2009",
          "2009",
          "2009",
          "2009",
          "2009",
          "2009",
          "2009",
          "2009",
          "2009/10",
          "2009/10",
          "2009/10",
          "2009/10",
          "2009/10",
          "2009/10",
          "2009/10",
          "2009/10",
          "2009/10",
          "2009/10",
          "2009/10",
          "2009/10",
          "2009/10",
          "2009/10",
          "2009/10",
          "2009/10",
          "2009/10",
          "2009/10",
          "2009/10",
          "2009/10",
          "2009/10",
          "2009/10",
          "2009/10",
          "2009/10",
          "2009/10",
          "2009/10",
          "2009/10",
          "2009/10",
          "2009/10",
          "2009/10",
          "2009/10",
          "2009/10",
          "2009/10",
          "2009/10",
          "2009/10",
          "2009/10",
          "2009/10",
          "2009/10",
          "2009/10",
          "2009/10",
          "2009/10",
          "2009/10",
          "2009/10",
          "2009/10",
          "2009/10",
          "2009/10",
          "2009/10",
          "2009/10",
          "2009/10",
          "2009/10",
          "2009/10",
          "2009/10",
          "2009/10",
          "2009/10",
          "2009/10",
          "2009/10",
          "2009/10",
          "2009/10",
          "2009/10",
          "2009/10",
          "2011",
          "2011",
          "2011",
          "2011",
          "2011",
          "2011",
          "2011",
          "2011",
          "2011",
          "2011",
          "2011",
          "2011",
          "2011",
          "2011",
          "2011",
          "2011",
          "2011",
          "2011",
          "2011",
          "2011",
          "2011",
          "2011",
          "2011",
          "2011",
          "2011",
          "2011",
          "2011",
          "2011",
          "2011",
          "2011",
          "2011",
          "2011",
          "2011",
          "2011",
          "2011",
          "2011",
          "2011",
          "2011",
          "2011",
          "2011",
          "2011",
          "2011",
          "2011",
          "2011",
          "2011",
          "2011",
          "2011",
          "2011",
          "2011",
          "2011",
          "2011",
          "2011",
          "2011",
          "2011",
          "2011",
          "2011",
          "2011",
          "2011",
          "2011",
          "2011",
          "2011",
          "2011",
          "2011",
          "2011",
          "2011",
          "2011",
          "2011",
          "2011",
          "2011",
          "2011",
          "2011",
          "2011",
          "2011",
          "2012",
          "2012",
          "2012",
          "2012",
          "2012",
          "2012",
          "2012",
          "2012",
          "2012",
          "2012",
          "2012",
          "2012",
          "2012",
          "2012",
          "2012",
          "2012",
          "2012",
          "2012",
          "2012",
          "2012",
          "2012",
          "2012",
          "2012",
          "2012",
          "2012",
          "2012",
          "2012",
          "2012",
          "2012",
          "2012",
          "2012",
          "2012",
          "2012",
          "2012",
          "2012",
          "2012",
          "2012",
          "2012",
          "2012",
          "2012",
          "2012",
          "2012",
          "2012",
          "2012",
          "2012",
          "2012",
          "2012",
          "2012",
          "2012",
          "2012",
          "2012",
          "2012",
          "2012",
          "2012",
          "2012",
          "2012",
          "2012",
          "2012",
          "2012",
          "2012",
          "2012",
          "2012",
          "2012",
          "2012",
          "2012",
          "2012",
          "2012",
          "2012",
          "2012",
          "2012",
          "2012",
          "2012",
          "2012",
          "2012",
          "2013",
          "2013",
          "2013",
          "2013",
          "2013",
          "2013",
          "2013",
          "2013",
          "2013",
          "2013",
          "2013",
          "2013",
          "2013",
          "2013",
          "2013",
          "2013",
          "2013",
          "2013",
          "2013",
          "2013",
          "2013",
          "2013",
          "2013",
          "2013",
          "2013",
          "2013",
          "2013",
          "2013",
          "2013",
          "2013",
          "2013",
          "2013",
          "2013",
          "2013",
          "2013",
          "2013",
          "2013",
          "2013",
          "2013",
          "2013",
          "2013",
          "2013",
          "2013",
          "2013",
          "2013",
          "2013",
          "2013",
          "2013",
          "2013",
          "2013",
          "2013",
          "2013",
          "2013",
          "2013",
          "2013",
          "2013",
          "2013",
          "2013",
          "2013",
          "2013",
          "2013",
          "2013",
          "2013",
          "2013",
          "2013",
          "2013",
          "2013",
          "2013",
          "2013",
          "2013",
          "2013",
          "2013",
          "2013",
          "2013",
          "2013",
          "2013",
          "2014",
          "2014",
          "2014",
          "2014",
          "2014",
          "2014",
          "2014",
          "2014",
          "2014",
          "2014",
          "2014",
          "2014",
          "2014",
          "2014",
          "2014",
          "2014",
          "2014",
          "2014",
          "2014",
          "2014",
          "2014",
          "2014",
          "2014",
          "2014",
          "2014",
          "2014",
          "2014",
          "2014",
          "2014",
          "2014",
          "2014",
          "2014",
          "2014",
          "2014",
          "2014",
          "2014",
          "2014",
          "2014",
          "2014",
          "2014",
          "2014",
          "2014",
          "2014",
          "2014",
          "2014",
          "2014",
          "2014",
          "2014",
          "2014",
          "2014",
          "2014",
          "2014",
          "2014",
          "2014",
          "2014",
          "2014",
          "2014",
          "2014",
          "2014",
          "2014",
          "2015",
          "2015",
          "2015",
          "2015",
          "2015",
          "2015",
          "2015",
          "2015",
          "2015",
          "2015",
          "2015",
          "2015",
          "2015",
          "2015",
          "2015",
          "2015",
          "2015",
          "2015",
          "2015",
          "2015",
          "2015",
          "2015",
          "2015",
          "2015",
          "2015",
          "2015",
          "2015",
          "2015",
          "2015",
          "2015",
          "2015",
          "2015",
          "2015",
          "2015",
          "2015",
          "2015",
          "2015",
          "2015",
          "2015",
          "2015",
          "2015",
          "2015",
          "2015",
          "2015",
          "2015",
          "2015",
          "2015",
          "2015",
          "2015",
          "2015",
          "2015",
          "2015",
          "2015",
          "2015",
          "2015",
          "2015",
          "2015",
          "2015",
          "2015",
          "2016",
          "2016",
          "2016",
          "2016",
          "2016",
          "2016",
          "2016",
          "2016",
          "2016",
          "2016",
          "2016",
          "2016",
          "2016",
          "2016",
          "2016",
          "2016",
          "2016",
          "2016",
          "2016",
          "2016",
          "2016",
          "2016",
          "2016",
          "2016",
          "2016",
          "2016",
          "2016",
          "2016",
          "2016",
          "2016",
          "2016",
          "2016",
          "2016",
          "2016",
          "2016",
          "2016",
          "2016",
          "2016",
          "2016",
          "2016",
          "2016",
          "2016",
          "2016",
          "2016",
          "2016",
          "2016",
          "2016",
          "2016",
          "2016",
          "2016",
          "2016",
          "2016",
          "2016",
          "2016",
          "2016",
          "2016",
          "2016",
          "2016",
          "2016",
          "2016",
          "2017",
          "2017",
          "2017",
          "2017",
          "2017",
          "2017",
          "2017",
          "2017",
          "2017",
          "2017",
          "2017",
          "2017",
          "2017",
          "2017",
          "2017",
          "2017",
          "2017",
          "2017",
          "2017",
          "2017",
          "2017",
          "2017",
          "2017",
          "2017",
          "2017",
          "2017",
          "2017",
          "2017",
          "2017",
          "2017",
          "2017",
          "2017",
          "2017",
          "2017",
          "2017",
          "2017",
          "2017",
          "2017",
          "2017",
          "2017",
          "2017",
          "2017",
          "2017",
          "2017",
          "2017",
          "2017",
          "2017",
          "2017",
          "2017",
          "2017",
          "2017",
          "2017",
          "2017",
          "2017",
          "2017",
          "2017",
          "2017",
          "2017",
          "2017",
          "2018",
          "2018",
          "2018",
          "2018",
          "2018",
          "2018",
          "2018",
          "2018",
          "2018",
          "2018",
          "2018",
          "2018",
          "2018",
          "2018",
          "2018",
          "2018",
          "2018",
          "2018",
          "2018",
          "2018",
          "2018",
          "2018",
          "2018",
          "2018",
          "2018",
          "2018",
          "2018",
          "2018",
          "2018",
          "2018",
          "2018",
          "2018",
          "2018",
          "2018",
          "2018",
          "2018",
          "2018",
          "2018",
          "2018",
          "2018",
          "2018",
          "2018",
          "2018",
          "2018",
          "2018",
          "2018",
          "2018",
          "2018",
          "2018",
          "2018",
          "2018",
          "2018",
          "2018",
          "2018",
          "2018",
          "2018",
          "2018",
          "2018",
          "2018",
          "2018",
          "2019",
          "2019",
          "2019",
          "2019",
          "2019",
          "2019",
          "2019",
          "2019",
          "2019",
          "2019",
          "2019",
          "2019",
          "2019",
          "2019",
          "2019",
          "2019",
          "2019",
          "2019",
          "2019",
          "2019",
          "2019",
          "2019",
          "2019",
          "2019",
          "2019",
          "2019",
          "2019",
          "2019",
          "2019",
          "2019",
          "2019",
          "2019",
          "2019",
          "2019",
          "2019",
          "2019",
          "2019",
          "2019",
          "2019",
          "2019",
          "2019",
          "2019",
          "2019",
          "2019",
          "2019",
          "2019",
          "2019",
          "2019",
          "2019",
          "2019",
          "2019",
          "2019",
          "2019",
          "2019",
          "2019",
          "2019",
          "2019",
          "2019",
          "2019",
          "2019",
          "2020/21",
          "2020/21",
          "2020/21",
          "2020/21",
          "2020/21",
          "2020/21",
          "2020/21",
          "2020/21",
          "2020/21",
          "2020/21",
          "2020/21",
          "2020/21",
          "2020/21",
          "2020/21",
          "2020/21",
          "2020/21",
          "2020/21",
          "2020/21",
          "2020/21",
          "2020/21",
          "2020/21",
          "2020/21",
          "2020/21",
          "2020/21",
          "2020/21",
          "2020/21",
          "2020/21",
          "2020/21",
          "2020/21",
          "2020/21",
          "2020/21",
          "2020/21",
          "2020/21",
          "2020/21",
          "2020/21",
          "2020/21",
          "2020/21",
          "2020/21",
          "2020/21",
          "2020/21",
          "2020/21",
          "2020/21",
          "2020/21",
          "2020/21",
          "2020/21",
          "2020/21",
          "2020/21",
          "2020/21",
          "2020/21",
          "2020/21",
          "2020/21",
          "2020/21",
          "2020/21",
          "2020/21",
          "2020/21",
          "2020/21",
          "2020/21",
          "2020/21",
          "2020/21",
          "2020/21",
          "2021",
          "2021",
          "2021",
          "2021",
          "2021",
          "2021",
          "2021",
          "2021",
          "2021",
          "2021",
          "2021",
          "2021",
          "2021",
          "2021",
          "2021",
          "2021",
          "2021",
          "2021",
          "2021",
          "2021",
          "2021",
          "2021",
          "2021",
          "2021",
          "2021",
          "2021",
          "2021",
          "2021",
          "2021",
          "2021",
          "2021",
          "2021",
          "2021",
          "2021",
          "2021",
          "2021",
          "2021",
          "2021",
          "2021",
          "2021",
          "2021",
          "2021",
          "2021",
          "2021",
          "2021",
          "2021",
          "2021",
          "2021",
          "2021",
          "2021",
          "2021",
          "2021",
          "2021",
          "2021",
          "2021",
          "2021",
          "2021",
          "2021",
          "2021",
          "2021",
          "2022",
          "2022",
          "2022",
          "2022",
          "2022",
          "2022",
          "2022",
          "2022",
          "2022",
          "2022",
          "2022",
          "2022",
          "2022",
          "2022",
          "2022",
          "2022",
          "2022",
          "2022",
          "2022",
          "2022",
          "2022",
          "2022",
          "2022",
          "2022",
          "2022",
          "2022",
          "2022",
          "2022",
          "2022",
          "2022",
          "2022",
          "2022",
          "2022",
          "2022",
          "2022",
          "2022",
          "2022",
          "2022",
          "2022",
          "2022",
          "2022",
          "2022",
          "2022",
          "2022",
          "2022",
          "2022",
          "2022",
          "2022",
          "2022",
          "2022",
          "2022",
          "2022",
          "2022",
          "2022",
          "2022",
          "2022",
          "2022",
          "2022",
          "2022",
          "2022",
          "2022",
          "2022",
          "2022",
          "2022",
          "2022",
          "2022",
          "2022",
          "2022",
          "2022",
          "2022",
          "2022",
          "2022",
          "2022",
          "2022",
          "2023",
          "2023",
          "2023",
          "2023",
          "2023",
          "2023",
          "2023",
          "2023",
          "2023",
          "2023",
          "2023",
          "2023",
          "2023",
          "2023",
          "2023",
          "2023",
          "2023",
          "2023",
          "2023",
          "2023",
          "2023",
          "2023",
          "2023",
          "2023",
          "2023",
          "2023",
          "2023",
          "2023",
          "2023",
          "2023",
          "2023",
          "2023",
          "2023",
          "2023",
          "2023",
          "2023",
          "2023",
          "2023",
          "2023",
          "2023",
          "2023",
          "2023",
          "2023",
          "2023",
          "2023",
          "2023",
          "2023",
          "2023",
          "2023",
          "2023",
          "2023",
          "2023",
          "2023",
          "2023",
          "2023",
          "2023",
          "2023",
          "2023",
          "2023",
          "2023",
          "2023",
          "2023",
          "2023",
          "2023",
          "2023",
          "2023",
          "2023",
          "2023",
          "2023",
          "2023",
          "2023",
          "2023",
          "2023",
          "2023",
          "2024",
          "2024",
          "2024",
          "2024",
          "2024",
          "2024",
          "2024",
          "2024",
          "2024",
          "2024",
          "2024",
          "2024",
          "2024",
          "2024",
          "2024",
          "2024",
          "2024",
          "2024",
          "2024",
          "2024",
          "2024",
          "2024",
          "2024",
          "2024",
          "2024",
          "2024",
          "2024",
          "2024",
          "2024",
          "2024",
          "2024",
          "2024",
          "2024",
          "2024",
          "2024",
          "2024",
          "2024",
          "2024",
          "2024",
          "2024",
          "2024",
          "2024",
          "2024",
          "2024",
          "2024",
          "2024",
          "2024",
          "2024",
          "2024",
          "2024",
          "2024",
          "2024",
          "2024",
          "2024",
          "2024",
          "2024",
          "2024",
          "2024",
          "2024",
          "2024",
          "2024",
          "2024",
          "2024",
          "2024",
          "2024",
          "2024",
          "2024",
          "2024",
          "2024",
          "2024",
          "2024"
         ],
         "marker": {
          "color": "red"
         },
         "name": "Season: 2024",
         "type": "box",
         "x": {
          "bdata": "XQFfAZwBbgFKAWIBXQELAmYBcAF5AUoBagH8AE4BtgGPAUsBdAG3ASUBFgFqAYsBiwFRASsBQwGIASUCvwG1AHcBZAHRAbsBIAFqAacBvAF5AQsC+AGLAZYBWgE2ASEBRQGRAToBKwEyAXQBWwGmAUwBpgGrASgBHgFHAY0BIQGaAZkBrQFDAVoBOgHjAA==",
          "dtype": "i2"
         }
        }
       ],
       "layout": {
        "template": {
         "data": {
          "bar": [
           {
            "error_x": {
             "color": "#2a3f5f"
            },
            "error_y": {
             "color": "#2a3f5f"
            },
            "marker": {
             "line": {
              "color": "#E5ECF6",
              "width": 0.5
             },
             "pattern": {
              "fillmode": "overlay",
              "size": 10,
              "solidity": 0.2
             }
            },
            "type": "bar"
           }
          ],
          "barpolar": [
           {
            "marker": {
             "line": {
              "color": "#E5ECF6",
              "width": 0.5
             },
             "pattern": {
              "fillmode": "overlay",
              "size": 10,
              "solidity": 0.2
             }
            },
            "type": "barpolar"
           }
          ],
          "carpet": [
           {
            "aaxis": {
             "endlinecolor": "#2a3f5f",
             "gridcolor": "white",
             "linecolor": "white",
             "minorgridcolor": "white",
             "startlinecolor": "#2a3f5f"
            },
            "baxis": {
             "endlinecolor": "#2a3f5f",
             "gridcolor": "white",
             "linecolor": "white",
             "minorgridcolor": "white",
             "startlinecolor": "#2a3f5f"
            },
            "type": "carpet"
           }
          ],
          "choropleth": [
           {
            "colorbar": {
             "outlinewidth": 0,
             "ticks": ""
            },
            "type": "choropleth"
           }
          ],
          "contour": [
           {
            "colorbar": {
             "outlinewidth": 0,
             "ticks": ""
            },
            "colorscale": [
             [
              0,
              "#0d0887"
             ],
             [
              0.1111111111111111,
              "#46039f"
             ],
             [
              0.2222222222222222,
              "#7201a8"
             ],
             [
              0.3333333333333333,
              "#9c179e"
             ],
             [
              0.4444444444444444,
              "#bd3786"
             ],
             [
              0.5555555555555556,
              "#d8576b"
             ],
             [
              0.6666666666666666,
              "#ed7953"
             ],
             [
              0.7777777777777778,
              "#fb9f3a"
             ],
             [
              0.8888888888888888,
              "#fdca26"
             ],
             [
              1,
              "#f0f921"
             ]
            ],
            "type": "contour"
           }
          ],
          "contourcarpet": [
           {
            "colorbar": {
             "outlinewidth": 0,
             "ticks": ""
            },
            "type": "contourcarpet"
           }
          ],
          "heatmap": [
           {
            "colorbar": {
             "outlinewidth": 0,
             "ticks": ""
            },
            "colorscale": [
             [
              0,
              "#0d0887"
             ],
             [
              0.1111111111111111,
              "#46039f"
             ],
             [
              0.2222222222222222,
              "#7201a8"
             ],
             [
              0.3333333333333333,
              "#9c179e"
             ],
             [
              0.4444444444444444,
              "#bd3786"
             ],
             [
              0.5555555555555556,
              "#d8576b"
             ],
             [
              0.6666666666666666,
              "#ed7953"
             ],
             [
              0.7777777777777778,
              "#fb9f3a"
             ],
             [
              0.8888888888888888,
              "#fdca26"
             ],
             [
              1,
              "#f0f921"
             ]
            ],
            "type": "heatmap"
           }
          ],
          "histogram": [
           {
            "marker": {
             "pattern": {
              "fillmode": "overlay",
              "size": 10,
              "solidity": 0.2
             }
            },
            "type": "histogram"
           }
          ],
          "histogram2d": [
           {
            "colorbar": {
             "outlinewidth": 0,
             "ticks": ""
            },
            "colorscale": [
             [
              0,
              "#0d0887"
             ],
             [
              0.1111111111111111,
              "#46039f"
             ],
             [
              0.2222222222222222,
              "#7201a8"
             ],
             [
              0.3333333333333333,
              "#9c179e"
             ],
             [
              0.4444444444444444,
              "#bd3786"
             ],
             [
              0.5555555555555556,
              "#d8576b"
             ],
             [
              0.6666666666666666,
              "#ed7953"
             ],
             [
              0.7777777777777778,
              "#fb9f3a"
             ],
             [
              0.8888888888888888,
              "#fdca26"
             ],
             [
              1,
              "#f0f921"
             ]
            ],
            "type": "histogram2d"
           }
          ],
          "histogram2dcontour": [
           {
            "colorbar": {
             "outlinewidth": 0,
             "ticks": ""
            },
            "colorscale": [
             [
              0,
              "#0d0887"
             ],
             [
              0.1111111111111111,
              "#46039f"
             ],
             [
              0.2222222222222222,
              "#7201a8"
             ],
             [
              0.3333333333333333,
              "#9c179e"
             ],
             [
              0.4444444444444444,
              "#bd3786"
             ],
             [
              0.5555555555555556,
              "#d8576b"
             ],
             [
              0.6666666666666666,
              "#ed7953"
             ],
             [
              0.7777777777777778,
              "#fb9f3a"
             ],
             [
              0.8888888888888888,
              "#fdca26"
             ],
             [
              1,
              "#f0f921"
             ]
            ],
            "type": "histogram2dcontour"
           }
          ],
          "mesh3d": [
           {
            "colorbar": {
             "outlinewidth": 0,
             "ticks": ""
            },
            "type": "mesh3d"
           }
          ],
          "parcoords": [
           {
            "line": {
             "colorbar": {
              "outlinewidth": 0,
              "ticks": ""
             }
            },
            "type": "parcoords"
           }
          ],
          "pie": [
           {
            "automargin": true,
            "type": "pie"
           }
          ],
          "scatter": [
           {
            "fillpattern": {
             "fillmode": "overlay",
             "size": 10,
             "solidity": 0.2
            },
            "type": "scatter"
           }
          ],
          "scatter3d": [
           {
            "line": {
             "colorbar": {
              "outlinewidth": 0,
              "ticks": ""
             }
            },
            "marker": {
             "colorbar": {
              "outlinewidth": 0,
              "ticks": ""
             }
            },
            "type": "scatter3d"
           }
          ],
          "scattercarpet": [
           {
            "marker": {
             "colorbar": {
              "outlinewidth": 0,
              "ticks": ""
             }
            },
            "type": "scattercarpet"
           }
          ],
          "scattergeo": [
           {
            "marker": {
             "colorbar": {
              "outlinewidth": 0,
              "ticks": ""
             }
            },
            "type": "scattergeo"
           }
          ],
          "scattergl": [
           {
            "marker": {
             "colorbar": {
              "outlinewidth": 0,
              "ticks": ""
             }
            },
            "type": "scattergl"
           }
          ],
          "scattermap": [
           {
            "marker": {
             "colorbar": {
              "outlinewidth": 0,
              "ticks": ""
             }
            },
            "type": "scattermap"
           }
          ],
          "scattermapbox": [
           {
            "marker": {
             "colorbar": {
              "outlinewidth": 0,
              "ticks": ""
             }
            },
            "type": "scattermapbox"
           }
          ],
          "scatterpolar": [
           {
            "marker": {
             "colorbar": {
              "outlinewidth": 0,
              "ticks": ""
             }
            },
            "type": "scatterpolar"
           }
          ],
          "scatterpolargl": [
           {
            "marker": {
             "colorbar": {
              "outlinewidth": 0,
              "ticks": ""
             }
            },
            "type": "scatterpolargl"
           }
          ],
          "scatterternary": [
           {
            "marker": {
             "colorbar": {
              "outlinewidth": 0,
              "ticks": ""
             }
            },
            "type": "scatterternary"
           }
          ],
          "surface": [
           {
            "colorbar": {
             "outlinewidth": 0,
             "ticks": ""
            },
            "colorscale": [
             [
              0,
              "#0d0887"
             ],
             [
              0.1111111111111111,
              "#46039f"
             ],
             [
              0.2222222222222222,
              "#7201a8"
             ],
             [
              0.3333333333333333,
              "#9c179e"
             ],
             [
              0.4444444444444444,
              "#bd3786"
             ],
             [
              0.5555555555555556,
              "#d8576b"
             ],
             [
              0.6666666666666666,
              "#ed7953"
             ],
             [
              0.7777777777777778,
              "#fb9f3a"
             ],
             [
              0.8888888888888888,
              "#fdca26"
             ],
             [
              1,
              "#f0f921"
             ]
            ],
            "type": "surface"
           }
          ],
          "table": [
           {
            "cells": {
             "fill": {
              "color": "#EBF0F8"
             },
             "line": {
              "color": "white"
             }
            },
            "header": {
             "fill": {
              "color": "#C8D4E3"
             },
             "line": {
              "color": "white"
             }
            },
            "type": "table"
           }
          ]
         },
         "layout": {
          "annotationdefaults": {
           "arrowcolor": "#2a3f5f",
           "arrowhead": 0,
           "arrowwidth": 1
          },
          "autotypenumbers": "strict",
          "coloraxis": {
           "colorbar": {
            "outlinewidth": 0,
            "ticks": ""
           }
          },
          "colorscale": {
           "diverging": [
            [
             0,
             "#8e0152"
            ],
            [
             0.1,
             "#c51b7d"
            ],
            [
             0.2,
             "#de77ae"
            ],
            [
             0.3,
             "#f1b6da"
            ],
            [
             0.4,
             "#fde0ef"
            ],
            [
             0.5,
             "#f7f7f7"
            ],
            [
             0.6,
             "#e6f5d0"
            ],
            [
             0.7,
             "#b8e186"
            ],
            [
             0.8,
             "#7fbc41"
            ],
            [
             0.9,
             "#4d9221"
            ],
            [
             1,
             "#276419"
            ]
           ],
           "sequential": [
            [
             0,
             "#0d0887"
            ],
            [
             0.1111111111111111,
             "#46039f"
            ],
            [
             0.2222222222222222,
             "#7201a8"
            ],
            [
             0.3333333333333333,
             "#9c179e"
            ],
            [
             0.4444444444444444,
             "#bd3786"
            ],
            [
             0.5555555555555556,
             "#d8576b"
            ],
            [
             0.6666666666666666,
             "#ed7953"
            ],
            [
             0.7777777777777778,
             "#fb9f3a"
            ],
            [
             0.8888888888888888,
             "#fdca26"
            ],
            [
             1,
             "#f0f921"
            ]
           ],
           "sequentialminus": [
            [
             0,
             "#0d0887"
            ],
            [
             0.1111111111111111,
             "#46039f"
            ],
            [
             0.2222222222222222,
             "#7201a8"
            ],
            [
             0.3333333333333333,
             "#9c179e"
            ],
            [
             0.4444444444444444,
             "#bd3786"
            ],
            [
             0.5555555555555556,
             "#d8576b"
            ],
            [
             0.6666666666666666,
             "#ed7953"
            ],
            [
             0.7777777777777778,
             "#fb9f3a"
            ],
            [
             0.8888888888888888,
             "#fdca26"
            ],
            [
             1,
             "#f0f921"
            ]
           ]
          },
          "colorway": [
           "#636efa",
           "#EF553B",
           "#00cc96",
           "#ab63fa",
           "#FFA15A",
           "#19d3f3",
           "#FF6692",
           "#B6E880",
           "#FF97FF",
           "#FECB52"
          ],
          "font": {
           "color": "#2a3f5f"
          },
          "geo": {
           "bgcolor": "white",
           "lakecolor": "white",
           "landcolor": "#E5ECF6",
           "showlakes": true,
           "showland": true,
           "subunitcolor": "white"
          },
          "hoverlabel": {
           "align": "left"
          },
          "hovermode": "closest",
          "mapbox": {
           "style": "light"
          },
          "paper_bgcolor": "white",
          "plot_bgcolor": "#E5ECF6",
          "polar": {
           "angularaxis": {
            "gridcolor": "white",
            "linecolor": "white",
            "ticks": ""
           },
           "bgcolor": "#E5ECF6",
           "radialaxis": {
            "gridcolor": "white",
            "linecolor": "white",
            "ticks": ""
           }
          },
          "scene": {
           "xaxis": {
            "backgroundcolor": "#E5ECF6",
            "gridcolor": "white",
            "gridwidth": 2,
            "linecolor": "white",
            "showbackground": true,
            "ticks": "",
            "zerolinecolor": "white"
           },
           "yaxis": {
            "backgroundcolor": "#E5ECF6",
            "gridcolor": "white",
            "gridwidth": 2,
            "linecolor": "white",
            "showbackground": true,
            "ticks": "",
            "zerolinecolor": "white"
           },
           "zaxis": {
            "backgroundcolor": "#E5ECF6",
            "gridcolor": "white",
            "gridwidth": 2,
            "linecolor": "white",
            "showbackground": true,
            "ticks": "",
            "zerolinecolor": "white"
           }
          },
          "shapedefaults": {
           "line": {
            "color": "#2a3f5f"
           }
          },
          "ternary": {
           "aaxis": {
            "gridcolor": "white",
            "linecolor": "white",
            "ticks": ""
           },
           "baxis": {
            "gridcolor": "white",
            "linecolor": "white",
            "ticks": ""
           },
           "bgcolor": "#E5ECF6",
           "caxis": {
            "gridcolor": "white",
            "linecolor": "white",
            "ticks": ""
           }
          },
          "title": {
           "x": 0.05
          },
          "xaxis": {
           "automargin": true,
           "gridcolor": "white",
           "linecolor": "white",
           "ticks": "",
           "title": {
            "standoff": 15
           },
           "zerolinecolor": "white",
           "zerolinewidth": 2
          },
          "yaxis": {
           "automargin": true,
           "gridcolor": "white",
           "linecolor": "white",
           "ticks": "",
           "title": {
            "standoff": 15
           },
           "zerolinecolor": "white",
           "zerolinewidth": 2
          }
         }
        },
        "title": {
         "text": "Total Score Analysis"
        },
        "xaxis": {
         "title": {
          "text": "Total Score"
         }
        },
        "yaxis": {
         "title": {
          "text": "All season"
         }
        }
       }
      }
     },
     "metadata": {},
     "output_type": "display_data"
    }
   ],
   "source": [
    "trace1 = go.Box(x=season_wise[season_wise['season'] == '2007/08']['total_runs'],\n",
    "                hovertext= season_wise['season'],\n",
    "                hovertemplate='Runs: %{x} <br>Season:%{hovertext}<extra></extra>',\n",
    "                marker= dict(color= ' green'), # box plot only takes single color\n",
    "                name='Season: 2007',\n",
    ")\n",
    "\n",
    "trace2 = go.Box(x=season_wise[season_wise['season'] == '2024']['total_runs'],\n",
    "                hovertext= season_wise['season'],\n",
    "                hovertemplate='Runs: %{x} <br>Season:%{hovertext}<extra></extra>',\n",
    "                marker= dict(color= 'red'), # box plot only takes single color\n",
    "                name='Season: 2024',\n",
    ")\n",
    "\n",
    "              \n",
    "data = [trace1, trace2]\n",
    "\n",
    "layout = go.Layout(title=\"Total Score Analysis\",\n",
    "                   xaxis=dict(title = 'Total Score'),\n",
    "                   yaxis=dict(title = 'All season')\n",
    ")\n",
    "\n",
    "fig = go.Figure(data = data, layout = layout)\n",
    "\n",
    "fig.show()"
   ]
  },
  {
   "cell_type": "markdown",
   "id": "b5ee245c",
   "metadata": {},
   "source": [
    "Comparing first and last season with all season"
   ]
  },
  {
   "cell_type": "code",
   "execution_count": 233,
   "id": "9c899063",
   "metadata": {},
   "outputs": [
    {
     "data": {
      "application/vnd.plotly.v1+json": {
       "config": {
        "plotlyServerURL": "https://plot.ly"
       },
       "data": [
        {
         "hovertemplate": "Runs: %{x} <br>Season:%{hovertext}<extra></extra>",
         "hovertext": [
          "2007/08",
          "2007/08",
          "2007/08",
          "2007/08",
          "2007/08",
          "2007/08",
          "2007/08",
          "2007/08",
          "2007/08",
          "2007/08",
          "2007/08",
          "2007/08",
          "2007/08",
          "2007/08",
          "2007/08",
          "2007/08",
          "2007/08",
          "2007/08",
          "2007/08",
          "2007/08",
          "2007/08",
          "2007/08",
          "2007/08",
          "2007/08",
          "2007/08",
          "2007/08",
          "2007/08",
          "2007/08",
          "2007/08",
          "2007/08",
          "2007/08",
          "2007/08",
          "2007/08",
          "2007/08",
          "2007/08",
          "2007/08",
          "2007/08",
          "2007/08",
          "2007/08",
          "2007/08",
          "2007/08",
          "2007/08",
          "2007/08",
          "2007/08",
          "2007/08",
          "2007/08",
          "2007/08",
          "2007/08",
          "2007/08",
          "2007/08",
          "2007/08",
          "2007/08",
          "2007/08",
          "2007/08",
          "2007/08",
          "2007/08",
          "2007/08",
          "2007/08",
          "2009",
          "2009",
          "2009",
          "2009",
          "2009",
          "2009",
          "2009",
          "2009",
          "2009",
          "2009",
          "2009",
          "2009",
          "2009",
          "2009",
          "2009",
          "2009",
          "2009",
          "2009",
          "2009",
          "2009",
          "2009",
          "2009",
          "2009",
          "2009",
          "2009",
          "2009",
          "2009",
          "2009",
          "2009",
          "2009",
          "2009",
          "2009",
          "2009",
          "2009",
          "2009",
          "2009",
          "2009",
          "2009",
          "2009",
          "2009",
          "2009",
          "2009",
          "2009",
          "2009",
          "2009",
          "2009",
          "2009",
          "2009",
          "2009",
          "2009",
          "2009",
          "2009",
          "2009",
          "2009",
          "2009",
          "2009",
          "2009",
          "2009/10",
          "2009/10",
          "2009/10",
          "2009/10",
          "2009/10",
          "2009/10",
          "2009/10",
          "2009/10",
          "2009/10",
          "2009/10",
          "2009/10",
          "2009/10",
          "2009/10",
          "2009/10",
          "2009/10",
          "2009/10",
          "2009/10",
          "2009/10",
          "2009/10",
          "2009/10",
          "2009/10",
          "2009/10",
          "2009/10",
          "2009/10",
          "2009/10",
          "2009/10",
          "2009/10",
          "2009/10",
          "2009/10",
          "2009/10",
          "2009/10",
          "2009/10",
          "2009/10",
          "2009/10",
          "2009/10",
          "2009/10",
          "2009/10",
          "2009/10",
          "2009/10",
          "2009/10",
          "2009/10",
          "2009/10",
          "2009/10",
          "2009/10",
          "2009/10",
          "2009/10",
          "2009/10",
          "2009/10",
          "2009/10",
          "2009/10",
          "2009/10",
          "2009/10",
          "2009/10",
          "2009/10",
          "2009/10",
          "2009/10",
          "2009/10",
          "2009/10",
          "2009/10",
          "2009/10",
          "2011",
          "2011",
          "2011",
          "2011",
          "2011",
          "2011",
          "2011",
          "2011",
          "2011",
          "2011",
          "2011",
          "2011",
          "2011",
          "2011",
          "2011",
          "2011",
          "2011",
          "2011",
          "2011",
          "2011",
          "2011",
          "2011",
          "2011",
          "2011",
          "2011",
          "2011",
          "2011",
          "2011",
          "2011",
          "2011",
          "2011",
          "2011",
          "2011",
          "2011",
          "2011",
          "2011",
          "2011",
          "2011",
          "2011",
          "2011",
          "2011",
          "2011",
          "2011",
          "2011",
          "2011",
          "2011",
          "2011",
          "2011",
          "2011",
          "2011",
          "2011",
          "2011",
          "2011",
          "2011",
          "2011",
          "2011",
          "2011",
          "2011",
          "2011",
          "2011",
          "2011",
          "2011",
          "2011",
          "2011",
          "2011",
          "2011",
          "2011",
          "2011",
          "2011",
          "2011",
          "2011",
          "2011",
          "2011",
          "2012",
          "2012",
          "2012",
          "2012",
          "2012",
          "2012",
          "2012",
          "2012",
          "2012",
          "2012",
          "2012",
          "2012",
          "2012",
          "2012",
          "2012",
          "2012",
          "2012",
          "2012",
          "2012",
          "2012",
          "2012",
          "2012",
          "2012",
          "2012",
          "2012",
          "2012",
          "2012",
          "2012",
          "2012",
          "2012",
          "2012",
          "2012",
          "2012",
          "2012",
          "2012",
          "2012",
          "2012",
          "2012",
          "2012",
          "2012",
          "2012",
          "2012",
          "2012",
          "2012",
          "2012",
          "2012",
          "2012",
          "2012",
          "2012",
          "2012",
          "2012",
          "2012",
          "2012",
          "2012",
          "2012",
          "2012",
          "2012",
          "2012",
          "2012",
          "2012",
          "2012",
          "2012",
          "2012",
          "2012",
          "2012",
          "2012",
          "2012",
          "2012",
          "2012",
          "2012",
          "2012",
          "2012",
          "2012",
          "2012",
          "2013",
          "2013",
          "2013",
          "2013",
          "2013",
          "2013",
          "2013",
          "2013",
          "2013",
          "2013",
          "2013",
          "2013",
          "2013",
          "2013",
          "2013",
          "2013",
          "2013",
          "2013",
          "2013",
          "2013",
          "2013",
          "2013",
          "2013",
          "2013",
          "2013",
          "2013",
          "2013",
          "2013",
          "2013",
          "2013",
          "2013",
          "2013",
          "2013",
          "2013",
          "2013",
          "2013",
          "2013",
          "2013",
          "2013",
          "2013",
          "2013",
          "2013",
          "2013",
          "2013",
          "2013",
          "2013",
          "2013",
          "2013",
          "2013",
          "2013",
          "2013",
          "2013",
          "2013",
          "2013",
          "2013",
          "2013",
          "2013",
          "2013",
          "2013",
          "2013",
          "2013",
          "2013",
          "2013",
          "2013",
          "2013",
          "2013",
          "2013",
          "2013",
          "2013",
          "2013",
          "2013",
          "2013",
          "2013",
          "2013",
          "2013",
          "2013",
          "2014",
          "2014",
          "2014",
          "2014",
          "2014",
          "2014",
          "2014",
          "2014",
          "2014",
          "2014",
          "2014",
          "2014",
          "2014",
          "2014",
          "2014",
          "2014",
          "2014",
          "2014",
          "2014",
          "2014",
          "2014",
          "2014",
          "2014",
          "2014",
          "2014",
          "2014",
          "2014",
          "2014",
          "2014",
          "2014",
          "2014",
          "2014",
          "2014",
          "2014",
          "2014",
          "2014",
          "2014",
          "2014",
          "2014",
          "2014",
          "2014",
          "2014",
          "2014",
          "2014",
          "2014",
          "2014",
          "2014",
          "2014",
          "2014",
          "2014",
          "2014",
          "2014",
          "2014",
          "2014",
          "2014",
          "2014",
          "2014",
          "2014",
          "2014",
          "2014",
          "2015",
          "2015",
          "2015",
          "2015",
          "2015",
          "2015",
          "2015",
          "2015",
          "2015",
          "2015",
          "2015",
          "2015",
          "2015",
          "2015",
          "2015",
          "2015",
          "2015",
          "2015",
          "2015",
          "2015",
          "2015",
          "2015",
          "2015",
          "2015",
          "2015",
          "2015",
          "2015",
          "2015",
          "2015",
          "2015",
          "2015",
          "2015",
          "2015",
          "2015",
          "2015",
          "2015",
          "2015",
          "2015",
          "2015",
          "2015",
          "2015",
          "2015",
          "2015",
          "2015",
          "2015",
          "2015",
          "2015",
          "2015",
          "2015",
          "2015",
          "2015",
          "2015",
          "2015",
          "2015",
          "2015",
          "2015",
          "2015",
          "2015",
          "2015",
          "2016",
          "2016",
          "2016",
          "2016",
          "2016",
          "2016",
          "2016",
          "2016",
          "2016",
          "2016",
          "2016",
          "2016",
          "2016",
          "2016",
          "2016",
          "2016",
          "2016",
          "2016",
          "2016",
          "2016",
          "2016",
          "2016",
          "2016",
          "2016",
          "2016",
          "2016",
          "2016",
          "2016",
          "2016",
          "2016",
          "2016",
          "2016",
          "2016",
          "2016",
          "2016",
          "2016",
          "2016",
          "2016",
          "2016",
          "2016",
          "2016",
          "2016",
          "2016",
          "2016",
          "2016",
          "2016",
          "2016",
          "2016",
          "2016",
          "2016",
          "2016",
          "2016",
          "2016",
          "2016",
          "2016",
          "2016",
          "2016",
          "2016",
          "2016",
          "2016",
          "2017",
          "2017",
          "2017",
          "2017",
          "2017",
          "2017",
          "2017",
          "2017",
          "2017",
          "2017",
          "2017",
          "2017",
          "2017",
          "2017",
          "2017",
          "2017",
          "2017",
          "2017",
          "2017",
          "2017",
          "2017",
          "2017",
          "2017",
          "2017",
          "2017",
          "2017",
          "2017",
          "2017",
          "2017",
          "2017",
          "2017",
          "2017",
          "2017",
          "2017",
          "2017",
          "2017",
          "2017",
          "2017",
          "2017",
          "2017",
          "2017",
          "2017",
          "2017",
          "2017",
          "2017",
          "2017",
          "2017",
          "2017",
          "2017",
          "2017",
          "2017",
          "2017",
          "2017",
          "2017",
          "2017",
          "2017",
          "2017",
          "2017",
          "2017",
          "2018",
          "2018",
          "2018",
          "2018",
          "2018",
          "2018",
          "2018",
          "2018",
          "2018",
          "2018",
          "2018",
          "2018",
          "2018",
          "2018",
          "2018",
          "2018",
          "2018",
          "2018",
          "2018",
          "2018",
          "2018",
          "2018",
          "2018",
          "2018",
          "2018",
          "2018",
          "2018",
          "2018",
          "2018",
          "2018",
          "2018",
          "2018",
          "2018",
          "2018",
          "2018",
          "2018",
          "2018",
          "2018",
          "2018",
          "2018",
          "2018",
          "2018",
          "2018",
          "2018",
          "2018",
          "2018",
          "2018",
          "2018",
          "2018",
          "2018",
          "2018",
          "2018",
          "2018",
          "2018",
          "2018",
          "2018",
          "2018",
          "2018",
          "2018",
          "2018",
          "2019",
          "2019",
          "2019",
          "2019",
          "2019",
          "2019",
          "2019",
          "2019",
          "2019",
          "2019",
          "2019",
          "2019",
          "2019",
          "2019",
          "2019",
          "2019",
          "2019",
          "2019",
          "2019",
          "2019",
          "2019",
          "2019",
          "2019",
          "2019",
          "2019",
          "2019",
          "2019",
          "2019",
          "2019",
          "2019",
          "2019",
          "2019",
          "2019",
          "2019",
          "2019",
          "2019",
          "2019",
          "2019",
          "2019",
          "2019",
          "2019",
          "2019",
          "2019",
          "2019",
          "2019",
          "2019",
          "2019",
          "2019",
          "2019",
          "2019",
          "2019",
          "2019",
          "2019",
          "2019",
          "2019",
          "2019",
          "2019",
          "2019",
          "2019",
          "2019",
          "2020/21",
          "2020/21",
          "2020/21",
          "2020/21",
          "2020/21",
          "2020/21",
          "2020/21",
          "2020/21",
          "2020/21",
          "2020/21",
          "2020/21",
          "2020/21",
          "2020/21",
          "2020/21",
          "2020/21",
          "2020/21",
          "2020/21",
          "2020/21",
          "2020/21",
          "2020/21",
          "2020/21",
          "2020/21",
          "2020/21",
          "2020/21",
          "2020/21",
          "2020/21",
          "2020/21",
          "2020/21",
          "2020/21",
          "2020/21",
          "2020/21",
          "2020/21",
          "2020/21",
          "2020/21",
          "2020/21",
          "2020/21",
          "2020/21",
          "2020/21",
          "2020/21",
          "2020/21",
          "2020/21",
          "2020/21",
          "2020/21",
          "2020/21",
          "2020/21",
          "2020/21",
          "2020/21",
          "2020/21",
          "2020/21",
          "2020/21",
          "2020/21",
          "2020/21",
          "2020/21",
          "2020/21",
          "2020/21",
          "2020/21",
          "2020/21",
          "2020/21",
          "2020/21",
          "2020/21",
          "2021",
          "2021",
          "2021",
          "2021",
          "2021",
          "2021",
          "2021",
          "2021",
          "2021",
          "2021",
          "2021",
          "2021",
          "2021",
          "2021",
          "2021",
          "2021",
          "2021",
          "2021",
          "2021",
          "2021",
          "2021",
          "2021",
          "2021",
          "2021",
          "2021",
          "2021",
          "2021",
          "2021",
          "2021",
          "2021",
          "2021",
          "2021",
          "2021",
          "2021",
          "2021",
          "2021",
          "2021",
          "2021",
          "2021",
          "2021",
          "2021",
          "2021",
          "2021",
          "2021",
          "2021",
          "2021",
          "2021",
          "2021",
          "2021",
          "2021",
          "2021",
          "2021",
          "2021",
          "2021",
          "2021",
          "2021",
          "2021",
          "2021",
          "2021",
          "2021",
          "2022",
          "2022",
          "2022",
          "2022",
          "2022",
          "2022",
          "2022",
          "2022",
          "2022",
          "2022",
          "2022",
          "2022",
          "2022",
          "2022",
          "2022",
          "2022",
          "2022",
          "2022",
          "2022",
          "2022",
          "2022",
          "2022",
          "2022",
          "2022",
          "2022",
          "2022",
          "2022",
          "2022",
          "2022",
          "2022",
          "2022",
          "2022",
          "2022",
          "2022",
          "2022",
          "2022",
          "2022",
          "2022",
          "2022",
          "2022",
          "2022",
          "2022",
          "2022",
          "2022",
          "2022",
          "2022",
          "2022",
          "2022",
          "2022",
          "2022",
          "2022",
          "2022",
          "2022",
          "2022",
          "2022",
          "2022",
          "2022",
          "2022",
          "2022",
          "2022",
          "2022",
          "2022",
          "2022",
          "2022",
          "2022",
          "2022",
          "2022",
          "2022",
          "2022",
          "2022",
          "2022",
          "2022",
          "2022",
          "2022",
          "2023",
          "2023",
          "2023",
          "2023",
          "2023",
          "2023",
          "2023",
          "2023",
          "2023",
          "2023",
          "2023",
          "2023",
          "2023",
          "2023",
          "2023",
          "2023",
          "2023",
          "2023",
          "2023",
          "2023",
          "2023",
          "2023",
          "2023",
          "2023",
          "2023",
          "2023",
          "2023",
          "2023",
          "2023",
          "2023",
          "2023",
          "2023",
          "2023",
          "2023",
          "2023",
          "2023",
          "2023",
          "2023",
          "2023",
          "2023",
          "2023",
          "2023",
          "2023",
          "2023",
          "2023",
          "2023",
          "2023",
          "2023",
          "2023",
          "2023",
          "2023",
          "2023",
          "2023",
          "2023",
          "2023",
          "2023",
          "2023",
          "2023",
          "2023",
          "2023",
          "2023",
          "2023",
          "2023",
          "2023",
          "2023",
          "2023",
          "2023",
          "2023",
          "2023",
          "2023",
          "2023",
          "2023",
          "2023",
          "2023",
          "2024",
          "2024",
          "2024",
          "2024",
          "2024",
          "2024",
          "2024",
          "2024",
          "2024",
          "2024",
          "2024",
          "2024",
          "2024",
          "2024",
          "2024",
          "2024",
          "2024",
          "2024",
          "2024",
          "2024",
          "2024",
          "2024",
          "2024",
          "2024",
          "2024",
          "2024",
          "2024",
          "2024",
          "2024",
          "2024",
          "2024",
          "2024",
          "2024",
          "2024",
          "2024",
          "2024",
          "2024",
          "2024",
          "2024",
          "2024",
          "2024",
          "2024",
          "2024",
          "2024",
          "2024",
          "2024",
          "2024",
          "2024",
          "2024",
          "2024",
          "2024",
          "2024",
          "2024",
          "2024",
          "2024",
          "2024",
          "2024",
          "2024",
          "2024",
          "2024",
          "2024",
          "2024",
          "2024",
          "2024",
          "2024",
          "2024",
          "2024",
          "2024",
          "2024",
          "2024",
          "2024"
         ],
         "marker": {
          "color": " green"
         },
         "name": "Season: 2007",
         "type": "box",
         "x": {
          "bdata": "MAG/AQUBSwHeAE4BHQGaAa8BKgERASsBNQFAAVcBEwF0AUsBWwFVAVABWwEnAdsA/QAkAc8AdwH9ABkB+ABYAYEBOwEfAfMAOgGRAXgBhwDUAEkBSwHMADgBKQF5Ae4AYQFjAZwBNQFdASMBJwEXAeQARwE=",
          "dtype": "i2"
         }
        },
        {
         "hovertemplate": "Runs: %{x} <br>Season:%{hovertext}<extra></extra>",
         "hovertext": [
          "2007/08",
          "2007/08",
          "2007/08",
          "2007/08",
          "2007/08",
          "2007/08",
          "2007/08",
          "2007/08",
          "2007/08",
          "2007/08",
          "2007/08",
          "2007/08",
          "2007/08",
          "2007/08",
          "2007/08",
          "2007/08",
          "2007/08",
          "2007/08",
          "2007/08",
          "2007/08",
          "2007/08",
          "2007/08",
          "2007/08",
          "2007/08",
          "2007/08",
          "2007/08",
          "2007/08",
          "2007/08",
          "2007/08",
          "2007/08",
          "2007/08",
          "2007/08",
          "2007/08",
          "2007/08",
          "2007/08",
          "2007/08",
          "2007/08",
          "2007/08",
          "2007/08",
          "2007/08",
          "2007/08",
          "2007/08",
          "2007/08",
          "2007/08",
          "2007/08",
          "2007/08",
          "2007/08",
          "2007/08",
          "2007/08",
          "2007/08",
          "2007/08",
          "2007/08",
          "2007/08",
          "2007/08",
          "2007/08",
          "2007/08",
          "2007/08",
          "2007/08",
          "2009",
          "2009",
          "2009",
          "2009",
          "2009",
          "2009",
          "2009",
          "2009",
          "2009",
          "2009",
          "2009",
          "2009",
          "2009",
          "2009",
          "2009",
          "2009",
          "2009",
          "2009",
          "2009",
          "2009",
          "2009",
          "2009",
          "2009",
          "2009",
          "2009",
          "2009",
          "2009",
          "2009",
          "2009",
          "2009",
          "2009",
          "2009",
          "2009",
          "2009",
          "2009",
          "2009",
          "2009",
          "2009",
          "2009",
          "2009",
          "2009",
          "2009",
          "2009",
          "2009",
          "2009",
          "2009",
          "2009",
          "2009",
          "2009",
          "2009",
          "2009",
          "2009",
          "2009",
          "2009",
          "2009",
          "2009",
          "2009",
          "2009/10",
          "2009/10",
          "2009/10",
          "2009/10",
          "2009/10",
          "2009/10",
          "2009/10",
          "2009/10",
          "2009/10",
          "2009/10",
          "2009/10",
          "2009/10",
          "2009/10",
          "2009/10",
          "2009/10",
          "2009/10",
          "2009/10",
          "2009/10",
          "2009/10",
          "2009/10",
          "2009/10",
          "2009/10",
          "2009/10",
          "2009/10",
          "2009/10",
          "2009/10",
          "2009/10",
          "2009/10",
          "2009/10",
          "2009/10",
          "2009/10",
          "2009/10",
          "2009/10",
          "2009/10",
          "2009/10",
          "2009/10",
          "2009/10",
          "2009/10",
          "2009/10",
          "2009/10",
          "2009/10",
          "2009/10",
          "2009/10",
          "2009/10",
          "2009/10",
          "2009/10",
          "2009/10",
          "2009/10",
          "2009/10",
          "2009/10",
          "2009/10",
          "2009/10",
          "2009/10",
          "2009/10",
          "2009/10",
          "2009/10",
          "2009/10",
          "2009/10",
          "2009/10",
          "2009/10",
          "2011",
          "2011",
          "2011",
          "2011",
          "2011",
          "2011",
          "2011",
          "2011",
          "2011",
          "2011",
          "2011",
          "2011",
          "2011",
          "2011",
          "2011",
          "2011",
          "2011",
          "2011",
          "2011",
          "2011",
          "2011",
          "2011",
          "2011",
          "2011",
          "2011",
          "2011",
          "2011",
          "2011",
          "2011",
          "2011",
          "2011",
          "2011",
          "2011",
          "2011",
          "2011",
          "2011",
          "2011",
          "2011",
          "2011",
          "2011",
          "2011",
          "2011",
          "2011",
          "2011",
          "2011",
          "2011",
          "2011",
          "2011",
          "2011",
          "2011",
          "2011",
          "2011",
          "2011",
          "2011",
          "2011",
          "2011",
          "2011",
          "2011",
          "2011",
          "2011",
          "2011",
          "2011",
          "2011",
          "2011",
          "2011",
          "2011",
          "2011",
          "2011",
          "2011",
          "2011",
          "2011",
          "2011",
          "2011",
          "2012",
          "2012",
          "2012",
          "2012",
          "2012",
          "2012",
          "2012",
          "2012",
          "2012",
          "2012",
          "2012",
          "2012",
          "2012",
          "2012",
          "2012",
          "2012",
          "2012",
          "2012",
          "2012",
          "2012",
          "2012",
          "2012",
          "2012",
          "2012",
          "2012",
          "2012",
          "2012",
          "2012",
          "2012",
          "2012",
          "2012",
          "2012",
          "2012",
          "2012",
          "2012",
          "2012",
          "2012",
          "2012",
          "2012",
          "2012",
          "2012",
          "2012",
          "2012",
          "2012",
          "2012",
          "2012",
          "2012",
          "2012",
          "2012",
          "2012",
          "2012",
          "2012",
          "2012",
          "2012",
          "2012",
          "2012",
          "2012",
          "2012",
          "2012",
          "2012",
          "2012",
          "2012",
          "2012",
          "2012",
          "2012",
          "2012",
          "2012",
          "2012",
          "2012",
          "2012",
          "2012",
          "2012",
          "2012",
          "2012",
          "2013",
          "2013",
          "2013",
          "2013",
          "2013",
          "2013",
          "2013",
          "2013",
          "2013",
          "2013",
          "2013",
          "2013",
          "2013",
          "2013",
          "2013",
          "2013",
          "2013",
          "2013",
          "2013",
          "2013",
          "2013",
          "2013",
          "2013",
          "2013",
          "2013",
          "2013",
          "2013",
          "2013",
          "2013",
          "2013",
          "2013",
          "2013",
          "2013",
          "2013",
          "2013",
          "2013",
          "2013",
          "2013",
          "2013",
          "2013",
          "2013",
          "2013",
          "2013",
          "2013",
          "2013",
          "2013",
          "2013",
          "2013",
          "2013",
          "2013",
          "2013",
          "2013",
          "2013",
          "2013",
          "2013",
          "2013",
          "2013",
          "2013",
          "2013",
          "2013",
          "2013",
          "2013",
          "2013",
          "2013",
          "2013",
          "2013",
          "2013",
          "2013",
          "2013",
          "2013",
          "2013",
          "2013",
          "2013",
          "2013",
          "2013",
          "2013",
          "2014",
          "2014",
          "2014",
          "2014",
          "2014",
          "2014",
          "2014",
          "2014",
          "2014",
          "2014",
          "2014",
          "2014",
          "2014",
          "2014",
          "2014",
          "2014",
          "2014",
          "2014",
          "2014",
          "2014",
          "2014",
          "2014",
          "2014",
          "2014",
          "2014",
          "2014",
          "2014",
          "2014",
          "2014",
          "2014",
          "2014",
          "2014",
          "2014",
          "2014",
          "2014",
          "2014",
          "2014",
          "2014",
          "2014",
          "2014",
          "2014",
          "2014",
          "2014",
          "2014",
          "2014",
          "2014",
          "2014",
          "2014",
          "2014",
          "2014",
          "2014",
          "2014",
          "2014",
          "2014",
          "2014",
          "2014",
          "2014",
          "2014",
          "2014",
          "2014",
          "2015",
          "2015",
          "2015",
          "2015",
          "2015",
          "2015",
          "2015",
          "2015",
          "2015",
          "2015",
          "2015",
          "2015",
          "2015",
          "2015",
          "2015",
          "2015",
          "2015",
          "2015",
          "2015",
          "2015",
          "2015",
          "2015",
          "2015",
          "2015",
          "2015",
          "2015",
          "2015",
          "2015",
          "2015",
          "2015",
          "2015",
          "2015",
          "2015",
          "2015",
          "2015",
          "2015",
          "2015",
          "2015",
          "2015",
          "2015",
          "2015",
          "2015",
          "2015",
          "2015",
          "2015",
          "2015",
          "2015",
          "2015",
          "2015",
          "2015",
          "2015",
          "2015",
          "2015",
          "2015",
          "2015",
          "2015",
          "2015",
          "2015",
          "2015",
          "2016",
          "2016",
          "2016",
          "2016",
          "2016",
          "2016",
          "2016",
          "2016",
          "2016",
          "2016",
          "2016",
          "2016",
          "2016",
          "2016",
          "2016",
          "2016",
          "2016",
          "2016",
          "2016",
          "2016",
          "2016",
          "2016",
          "2016",
          "2016",
          "2016",
          "2016",
          "2016",
          "2016",
          "2016",
          "2016",
          "2016",
          "2016",
          "2016",
          "2016",
          "2016",
          "2016",
          "2016",
          "2016",
          "2016",
          "2016",
          "2016",
          "2016",
          "2016",
          "2016",
          "2016",
          "2016",
          "2016",
          "2016",
          "2016",
          "2016",
          "2016",
          "2016",
          "2016",
          "2016",
          "2016",
          "2016",
          "2016",
          "2016",
          "2016",
          "2016",
          "2017",
          "2017",
          "2017",
          "2017",
          "2017",
          "2017",
          "2017",
          "2017",
          "2017",
          "2017",
          "2017",
          "2017",
          "2017",
          "2017",
          "2017",
          "2017",
          "2017",
          "2017",
          "2017",
          "2017",
          "2017",
          "2017",
          "2017",
          "2017",
          "2017",
          "2017",
          "2017",
          "2017",
          "2017",
          "2017",
          "2017",
          "2017",
          "2017",
          "2017",
          "2017",
          "2017",
          "2017",
          "2017",
          "2017",
          "2017",
          "2017",
          "2017",
          "2017",
          "2017",
          "2017",
          "2017",
          "2017",
          "2017",
          "2017",
          "2017",
          "2017",
          "2017",
          "2017",
          "2017",
          "2017",
          "2017",
          "2017",
          "2017",
          "2017",
          "2018",
          "2018",
          "2018",
          "2018",
          "2018",
          "2018",
          "2018",
          "2018",
          "2018",
          "2018",
          "2018",
          "2018",
          "2018",
          "2018",
          "2018",
          "2018",
          "2018",
          "2018",
          "2018",
          "2018",
          "2018",
          "2018",
          "2018",
          "2018",
          "2018",
          "2018",
          "2018",
          "2018",
          "2018",
          "2018",
          "2018",
          "2018",
          "2018",
          "2018",
          "2018",
          "2018",
          "2018",
          "2018",
          "2018",
          "2018",
          "2018",
          "2018",
          "2018",
          "2018",
          "2018",
          "2018",
          "2018",
          "2018",
          "2018",
          "2018",
          "2018",
          "2018",
          "2018",
          "2018",
          "2018",
          "2018",
          "2018",
          "2018",
          "2018",
          "2018",
          "2019",
          "2019",
          "2019",
          "2019",
          "2019",
          "2019",
          "2019",
          "2019",
          "2019",
          "2019",
          "2019",
          "2019",
          "2019",
          "2019",
          "2019",
          "2019",
          "2019",
          "2019",
          "2019",
          "2019",
          "2019",
          "2019",
          "2019",
          "2019",
          "2019",
          "2019",
          "2019",
          "2019",
          "2019",
          "2019",
          "2019",
          "2019",
          "2019",
          "2019",
          "2019",
          "2019",
          "2019",
          "2019",
          "2019",
          "2019",
          "2019",
          "2019",
          "2019",
          "2019",
          "2019",
          "2019",
          "2019",
          "2019",
          "2019",
          "2019",
          "2019",
          "2019",
          "2019",
          "2019",
          "2019",
          "2019",
          "2019",
          "2019",
          "2019",
          "2019",
          "2020/21",
          "2020/21",
          "2020/21",
          "2020/21",
          "2020/21",
          "2020/21",
          "2020/21",
          "2020/21",
          "2020/21",
          "2020/21",
          "2020/21",
          "2020/21",
          "2020/21",
          "2020/21",
          "2020/21",
          "2020/21",
          "2020/21",
          "2020/21",
          "2020/21",
          "2020/21",
          "2020/21",
          "2020/21",
          "2020/21",
          "2020/21",
          "2020/21",
          "2020/21",
          "2020/21",
          "2020/21",
          "2020/21",
          "2020/21",
          "2020/21",
          "2020/21",
          "2020/21",
          "2020/21",
          "2020/21",
          "2020/21",
          "2020/21",
          "2020/21",
          "2020/21",
          "2020/21",
          "2020/21",
          "2020/21",
          "2020/21",
          "2020/21",
          "2020/21",
          "2020/21",
          "2020/21",
          "2020/21",
          "2020/21",
          "2020/21",
          "2020/21",
          "2020/21",
          "2020/21",
          "2020/21",
          "2020/21",
          "2020/21",
          "2020/21",
          "2020/21",
          "2020/21",
          "2020/21",
          "2021",
          "2021",
          "2021",
          "2021",
          "2021",
          "2021",
          "2021",
          "2021",
          "2021",
          "2021",
          "2021",
          "2021",
          "2021",
          "2021",
          "2021",
          "2021",
          "2021",
          "2021",
          "2021",
          "2021",
          "2021",
          "2021",
          "2021",
          "2021",
          "2021",
          "2021",
          "2021",
          "2021",
          "2021",
          "2021",
          "2021",
          "2021",
          "2021",
          "2021",
          "2021",
          "2021",
          "2021",
          "2021",
          "2021",
          "2021",
          "2021",
          "2021",
          "2021",
          "2021",
          "2021",
          "2021",
          "2021",
          "2021",
          "2021",
          "2021",
          "2021",
          "2021",
          "2021",
          "2021",
          "2021",
          "2021",
          "2021",
          "2021",
          "2021",
          "2021",
          "2022",
          "2022",
          "2022",
          "2022",
          "2022",
          "2022",
          "2022",
          "2022",
          "2022",
          "2022",
          "2022",
          "2022",
          "2022",
          "2022",
          "2022",
          "2022",
          "2022",
          "2022",
          "2022",
          "2022",
          "2022",
          "2022",
          "2022",
          "2022",
          "2022",
          "2022",
          "2022",
          "2022",
          "2022",
          "2022",
          "2022",
          "2022",
          "2022",
          "2022",
          "2022",
          "2022",
          "2022",
          "2022",
          "2022",
          "2022",
          "2022",
          "2022",
          "2022",
          "2022",
          "2022",
          "2022",
          "2022",
          "2022",
          "2022",
          "2022",
          "2022",
          "2022",
          "2022",
          "2022",
          "2022",
          "2022",
          "2022",
          "2022",
          "2022",
          "2022",
          "2022",
          "2022",
          "2022",
          "2022",
          "2022",
          "2022",
          "2022",
          "2022",
          "2022",
          "2022",
          "2022",
          "2022",
          "2022",
          "2022",
          "2023",
          "2023",
          "2023",
          "2023",
          "2023",
          "2023",
          "2023",
          "2023",
          "2023",
          "2023",
          "2023",
          "2023",
          "2023",
          "2023",
          "2023",
          "2023",
          "2023",
          "2023",
          "2023",
          "2023",
          "2023",
          "2023",
          "2023",
          "2023",
          "2023",
          "2023",
          "2023",
          "2023",
          "2023",
          "2023",
          "2023",
          "2023",
          "2023",
          "2023",
          "2023",
          "2023",
          "2023",
          "2023",
          "2023",
          "2023",
          "2023",
          "2023",
          "2023",
          "2023",
          "2023",
          "2023",
          "2023",
          "2023",
          "2023",
          "2023",
          "2023",
          "2023",
          "2023",
          "2023",
          "2023",
          "2023",
          "2023",
          "2023",
          "2023",
          "2023",
          "2023",
          "2023",
          "2023",
          "2023",
          "2023",
          "2023",
          "2023",
          "2023",
          "2023",
          "2023",
          "2023",
          "2023",
          "2023",
          "2023",
          "2024",
          "2024",
          "2024",
          "2024",
          "2024",
          "2024",
          "2024",
          "2024",
          "2024",
          "2024",
          "2024",
          "2024",
          "2024",
          "2024",
          "2024",
          "2024",
          "2024",
          "2024",
          "2024",
          "2024",
          "2024",
          "2024",
          "2024",
          "2024",
          "2024",
          "2024",
          "2024",
          "2024",
          "2024",
          "2024",
          "2024",
          "2024",
          "2024",
          "2024",
          "2024",
          "2024",
          "2024",
          "2024",
          "2024",
          "2024",
          "2024",
          "2024",
          "2024",
          "2024",
          "2024",
          "2024",
          "2024",
          "2024",
          "2024",
          "2024",
          "2024",
          "2024",
          "2024",
          "2024",
          "2024",
          "2024",
          "2024",
          "2024",
          "2024",
          "2024",
          "2024",
          "2024",
          "2024",
          "2024",
          "2024",
          "2024",
          "2024",
          "2024",
          "2024",
          "2024",
          "2024"
         ],
         "marker": {
          "color": "red"
         },
         "name": "Season: 2024",
         "type": "box",
         "x": {
          "bdata": "XQFfAZwBbgFKAWIBXQELAmYBcAF5AUoBagH8AE4BtgGPAUsBdAG3ASUBFgFqAYsBiwFRASsBQwGIASUCvwG1AHcBZAHRAbsBIAFqAacBvAF5AQsC+AGLAZYBWgE2ASEBRQGRAToBKwEyAXQBWwGmAUwBpgGrASgBHgFHAY0BIQGaAZkBrQFDAVoBOgHjAA==",
          "dtype": "i2"
         }
        },
        {
         "hovertemplate": "Runs: %{x} <br>Season:%{hovertext}<extra></extra>",
         "hovertext": [
          "2007/08",
          "2007/08",
          "2007/08",
          "2007/08",
          "2007/08",
          "2007/08",
          "2007/08",
          "2007/08",
          "2007/08",
          "2007/08",
          "2007/08",
          "2007/08",
          "2007/08",
          "2007/08",
          "2007/08",
          "2007/08",
          "2007/08",
          "2007/08",
          "2007/08",
          "2007/08",
          "2007/08",
          "2007/08",
          "2007/08",
          "2007/08",
          "2007/08",
          "2007/08",
          "2007/08",
          "2007/08",
          "2007/08",
          "2007/08",
          "2007/08",
          "2007/08",
          "2007/08",
          "2007/08",
          "2007/08",
          "2007/08",
          "2007/08",
          "2007/08",
          "2007/08",
          "2007/08",
          "2007/08",
          "2007/08",
          "2007/08",
          "2007/08",
          "2007/08",
          "2007/08",
          "2007/08",
          "2007/08",
          "2007/08",
          "2007/08",
          "2007/08",
          "2007/08",
          "2007/08",
          "2007/08",
          "2007/08",
          "2007/08",
          "2007/08",
          "2007/08",
          "2009",
          "2009",
          "2009",
          "2009",
          "2009",
          "2009",
          "2009",
          "2009",
          "2009",
          "2009",
          "2009",
          "2009",
          "2009",
          "2009",
          "2009",
          "2009",
          "2009",
          "2009",
          "2009",
          "2009",
          "2009",
          "2009",
          "2009",
          "2009",
          "2009",
          "2009",
          "2009",
          "2009",
          "2009",
          "2009",
          "2009",
          "2009",
          "2009",
          "2009",
          "2009",
          "2009",
          "2009",
          "2009",
          "2009",
          "2009",
          "2009",
          "2009",
          "2009",
          "2009",
          "2009",
          "2009",
          "2009",
          "2009",
          "2009",
          "2009",
          "2009",
          "2009",
          "2009",
          "2009",
          "2009",
          "2009",
          "2009",
          "2009/10",
          "2009/10",
          "2009/10",
          "2009/10",
          "2009/10",
          "2009/10",
          "2009/10",
          "2009/10",
          "2009/10",
          "2009/10",
          "2009/10",
          "2009/10",
          "2009/10",
          "2009/10",
          "2009/10",
          "2009/10",
          "2009/10",
          "2009/10",
          "2009/10",
          "2009/10",
          "2009/10",
          "2009/10",
          "2009/10",
          "2009/10",
          "2009/10",
          "2009/10",
          "2009/10",
          "2009/10",
          "2009/10",
          "2009/10",
          "2009/10",
          "2009/10",
          "2009/10",
          "2009/10",
          "2009/10",
          "2009/10",
          "2009/10",
          "2009/10",
          "2009/10",
          "2009/10",
          "2009/10",
          "2009/10",
          "2009/10",
          "2009/10",
          "2009/10",
          "2009/10",
          "2009/10",
          "2009/10",
          "2009/10",
          "2009/10",
          "2009/10",
          "2009/10",
          "2009/10",
          "2009/10",
          "2009/10",
          "2009/10",
          "2009/10",
          "2009/10",
          "2009/10",
          "2009/10",
          "2011",
          "2011",
          "2011",
          "2011",
          "2011",
          "2011",
          "2011",
          "2011",
          "2011",
          "2011",
          "2011",
          "2011",
          "2011",
          "2011",
          "2011",
          "2011",
          "2011",
          "2011",
          "2011",
          "2011",
          "2011",
          "2011",
          "2011",
          "2011",
          "2011",
          "2011",
          "2011",
          "2011",
          "2011",
          "2011",
          "2011",
          "2011",
          "2011",
          "2011",
          "2011",
          "2011",
          "2011",
          "2011",
          "2011",
          "2011",
          "2011",
          "2011",
          "2011",
          "2011",
          "2011",
          "2011",
          "2011",
          "2011",
          "2011",
          "2011",
          "2011",
          "2011",
          "2011",
          "2011",
          "2011",
          "2011",
          "2011",
          "2011",
          "2011",
          "2011",
          "2011",
          "2011",
          "2011",
          "2011",
          "2011",
          "2011",
          "2011",
          "2011",
          "2011",
          "2011",
          "2011",
          "2011",
          "2011",
          "2012",
          "2012",
          "2012",
          "2012",
          "2012",
          "2012",
          "2012",
          "2012",
          "2012",
          "2012",
          "2012",
          "2012",
          "2012",
          "2012",
          "2012",
          "2012",
          "2012",
          "2012",
          "2012",
          "2012",
          "2012",
          "2012",
          "2012",
          "2012",
          "2012",
          "2012",
          "2012",
          "2012",
          "2012",
          "2012",
          "2012",
          "2012",
          "2012",
          "2012",
          "2012",
          "2012",
          "2012",
          "2012",
          "2012",
          "2012",
          "2012",
          "2012",
          "2012",
          "2012",
          "2012",
          "2012",
          "2012",
          "2012",
          "2012",
          "2012",
          "2012",
          "2012",
          "2012",
          "2012",
          "2012",
          "2012",
          "2012",
          "2012",
          "2012",
          "2012",
          "2012",
          "2012",
          "2012",
          "2012",
          "2012",
          "2012",
          "2012",
          "2012",
          "2012",
          "2012",
          "2012",
          "2012",
          "2012",
          "2012",
          "2013",
          "2013",
          "2013",
          "2013",
          "2013",
          "2013",
          "2013",
          "2013",
          "2013",
          "2013",
          "2013",
          "2013",
          "2013",
          "2013",
          "2013",
          "2013",
          "2013",
          "2013",
          "2013",
          "2013",
          "2013",
          "2013",
          "2013",
          "2013",
          "2013",
          "2013",
          "2013",
          "2013",
          "2013",
          "2013",
          "2013",
          "2013",
          "2013",
          "2013",
          "2013",
          "2013",
          "2013",
          "2013",
          "2013",
          "2013",
          "2013",
          "2013",
          "2013",
          "2013",
          "2013",
          "2013",
          "2013",
          "2013",
          "2013",
          "2013",
          "2013",
          "2013",
          "2013",
          "2013",
          "2013",
          "2013",
          "2013",
          "2013",
          "2013",
          "2013",
          "2013",
          "2013",
          "2013",
          "2013",
          "2013",
          "2013",
          "2013",
          "2013",
          "2013",
          "2013",
          "2013",
          "2013",
          "2013",
          "2013",
          "2013",
          "2013",
          "2014",
          "2014",
          "2014",
          "2014",
          "2014",
          "2014",
          "2014",
          "2014",
          "2014",
          "2014",
          "2014",
          "2014",
          "2014",
          "2014",
          "2014",
          "2014",
          "2014",
          "2014",
          "2014",
          "2014",
          "2014",
          "2014",
          "2014",
          "2014",
          "2014",
          "2014",
          "2014",
          "2014",
          "2014",
          "2014",
          "2014",
          "2014",
          "2014",
          "2014",
          "2014",
          "2014",
          "2014",
          "2014",
          "2014",
          "2014",
          "2014",
          "2014",
          "2014",
          "2014",
          "2014",
          "2014",
          "2014",
          "2014",
          "2014",
          "2014",
          "2014",
          "2014",
          "2014",
          "2014",
          "2014",
          "2014",
          "2014",
          "2014",
          "2014",
          "2014",
          "2015",
          "2015",
          "2015",
          "2015",
          "2015",
          "2015",
          "2015",
          "2015",
          "2015",
          "2015",
          "2015",
          "2015",
          "2015",
          "2015",
          "2015",
          "2015",
          "2015",
          "2015",
          "2015",
          "2015",
          "2015",
          "2015",
          "2015",
          "2015",
          "2015",
          "2015",
          "2015",
          "2015",
          "2015",
          "2015",
          "2015",
          "2015",
          "2015",
          "2015",
          "2015",
          "2015",
          "2015",
          "2015",
          "2015",
          "2015",
          "2015",
          "2015",
          "2015",
          "2015",
          "2015",
          "2015",
          "2015",
          "2015",
          "2015",
          "2015",
          "2015",
          "2015",
          "2015",
          "2015",
          "2015",
          "2015",
          "2015",
          "2015",
          "2015",
          "2016",
          "2016",
          "2016",
          "2016",
          "2016",
          "2016",
          "2016",
          "2016",
          "2016",
          "2016",
          "2016",
          "2016",
          "2016",
          "2016",
          "2016",
          "2016",
          "2016",
          "2016",
          "2016",
          "2016",
          "2016",
          "2016",
          "2016",
          "2016",
          "2016",
          "2016",
          "2016",
          "2016",
          "2016",
          "2016",
          "2016",
          "2016",
          "2016",
          "2016",
          "2016",
          "2016",
          "2016",
          "2016",
          "2016",
          "2016",
          "2016",
          "2016",
          "2016",
          "2016",
          "2016",
          "2016",
          "2016",
          "2016",
          "2016",
          "2016",
          "2016",
          "2016",
          "2016",
          "2016",
          "2016",
          "2016",
          "2016",
          "2016",
          "2016",
          "2016",
          "2017",
          "2017",
          "2017",
          "2017",
          "2017",
          "2017",
          "2017",
          "2017",
          "2017",
          "2017",
          "2017",
          "2017",
          "2017",
          "2017",
          "2017",
          "2017",
          "2017",
          "2017",
          "2017",
          "2017",
          "2017",
          "2017",
          "2017",
          "2017",
          "2017",
          "2017",
          "2017",
          "2017",
          "2017",
          "2017",
          "2017",
          "2017",
          "2017",
          "2017",
          "2017",
          "2017",
          "2017",
          "2017",
          "2017",
          "2017",
          "2017",
          "2017",
          "2017",
          "2017",
          "2017",
          "2017",
          "2017",
          "2017",
          "2017",
          "2017",
          "2017",
          "2017",
          "2017",
          "2017",
          "2017",
          "2017",
          "2017",
          "2017",
          "2017",
          "2018",
          "2018",
          "2018",
          "2018",
          "2018",
          "2018",
          "2018",
          "2018",
          "2018",
          "2018",
          "2018",
          "2018",
          "2018",
          "2018",
          "2018",
          "2018",
          "2018",
          "2018",
          "2018",
          "2018",
          "2018",
          "2018",
          "2018",
          "2018",
          "2018",
          "2018",
          "2018",
          "2018",
          "2018",
          "2018",
          "2018",
          "2018",
          "2018",
          "2018",
          "2018",
          "2018",
          "2018",
          "2018",
          "2018",
          "2018",
          "2018",
          "2018",
          "2018",
          "2018",
          "2018",
          "2018",
          "2018",
          "2018",
          "2018",
          "2018",
          "2018",
          "2018",
          "2018",
          "2018",
          "2018",
          "2018",
          "2018",
          "2018",
          "2018",
          "2018",
          "2019",
          "2019",
          "2019",
          "2019",
          "2019",
          "2019",
          "2019",
          "2019",
          "2019",
          "2019",
          "2019",
          "2019",
          "2019",
          "2019",
          "2019",
          "2019",
          "2019",
          "2019",
          "2019",
          "2019",
          "2019",
          "2019",
          "2019",
          "2019",
          "2019",
          "2019",
          "2019",
          "2019",
          "2019",
          "2019",
          "2019",
          "2019",
          "2019",
          "2019",
          "2019",
          "2019",
          "2019",
          "2019",
          "2019",
          "2019",
          "2019",
          "2019",
          "2019",
          "2019",
          "2019",
          "2019",
          "2019",
          "2019",
          "2019",
          "2019",
          "2019",
          "2019",
          "2019",
          "2019",
          "2019",
          "2019",
          "2019",
          "2019",
          "2019",
          "2019",
          "2020/21",
          "2020/21",
          "2020/21",
          "2020/21",
          "2020/21",
          "2020/21",
          "2020/21",
          "2020/21",
          "2020/21",
          "2020/21",
          "2020/21",
          "2020/21",
          "2020/21",
          "2020/21",
          "2020/21",
          "2020/21",
          "2020/21",
          "2020/21",
          "2020/21",
          "2020/21",
          "2020/21",
          "2020/21",
          "2020/21",
          "2020/21",
          "2020/21",
          "2020/21",
          "2020/21",
          "2020/21",
          "2020/21",
          "2020/21",
          "2020/21",
          "2020/21",
          "2020/21",
          "2020/21",
          "2020/21",
          "2020/21",
          "2020/21",
          "2020/21",
          "2020/21",
          "2020/21",
          "2020/21",
          "2020/21",
          "2020/21",
          "2020/21",
          "2020/21",
          "2020/21",
          "2020/21",
          "2020/21",
          "2020/21",
          "2020/21",
          "2020/21",
          "2020/21",
          "2020/21",
          "2020/21",
          "2020/21",
          "2020/21",
          "2020/21",
          "2020/21",
          "2020/21",
          "2020/21",
          "2021",
          "2021",
          "2021",
          "2021",
          "2021",
          "2021",
          "2021",
          "2021",
          "2021",
          "2021",
          "2021",
          "2021",
          "2021",
          "2021",
          "2021",
          "2021",
          "2021",
          "2021",
          "2021",
          "2021",
          "2021",
          "2021",
          "2021",
          "2021",
          "2021",
          "2021",
          "2021",
          "2021",
          "2021",
          "2021",
          "2021",
          "2021",
          "2021",
          "2021",
          "2021",
          "2021",
          "2021",
          "2021",
          "2021",
          "2021",
          "2021",
          "2021",
          "2021",
          "2021",
          "2021",
          "2021",
          "2021",
          "2021",
          "2021",
          "2021",
          "2021",
          "2021",
          "2021",
          "2021",
          "2021",
          "2021",
          "2021",
          "2021",
          "2021",
          "2021",
          "2022",
          "2022",
          "2022",
          "2022",
          "2022",
          "2022",
          "2022",
          "2022",
          "2022",
          "2022",
          "2022",
          "2022",
          "2022",
          "2022",
          "2022",
          "2022",
          "2022",
          "2022",
          "2022",
          "2022",
          "2022",
          "2022",
          "2022",
          "2022",
          "2022",
          "2022",
          "2022",
          "2022",
          "2022",
          "2022",
          "2022",
          "2022",
          "2022",
          "2022",
          "2022",
          "2022",
          "2022",
          "2022",
          "2022",
          "2022",
          "2022",
          "2022",
          "2022",
          "2022",
          "2022",
          "2022",
          "2022",
          "2022",
          "2022",
          "2022",
          "2022",
          "2022",
          "2022",
          "2022",
          "2022",
          "2022",
          "2022",
          "2022",
          "2022",
          "2022",
          "2022",
          "2022",
          "2022",
          "2022",
          "2022",
          "2022",
          "2022",
          "2022",
          "2022",
          "2022",
          "2022",
          "2022",
          "2022",
          "2022",
          "2023",
          "2023",
          "2023",
          "2023",
          "2023",
          "2023",
          "2023",
          "2023",
          "2023",
          "2023",
          "2023",
          "2023",
          "2023",
          "2023",
          "2023",
          "2023",
          "2023",
          "2023",
          "2023",
          "2023",
          "2023",
          "2023",
          "2023",
          "2023",
          "2023",
          "2023",
          "2023",
          "2023",
          "2023",
          "2023",
          "2023",
          "2023",
          "2023",
          "2023",
          "2023",
          "2023",
          "2023",
          "2023",
          "2023",
          "2023",
          "2023",
          "2023",
          "2023",
          "2023",
          "2023",
          "2023",
          "2023",
          "2023",
          "2023",
          "2023",
          "2023",
          "2023",
          "2023",
          "2023",
          "2023",
          "2023",
          "2023",
          "2023",
          "2023",
          "2023",
          "2023",
          "2023",
          "2023",
          "2023",
          "2023",
          "2023",
          "2023",
          "2023",
          "2023",
          "2023",
          "2023",
          "2023",
          "2023",
          "2023",
          "2024",
          "2024",
          "2024",
          "2024",
          "2024",
          "2024",
          "2024",
          "2024",
          "2024",
          "2024",
          "2024",
          "2024",
          "2024",
          "2024",
          "2024",
          "2024",
          "2024",
          "2024",
          "2024",
          "2024",
          "2024",
          "2024",
          "2024",
          "2024",
          "2024",
          "2024",
          "2024",
          "2024",
          "2024",
          "2024",
          "2024",
          "2024",
          "2024",
          "2024",
          "2024",
          "2024",
          "2024",
          "2024",
          "2024",
          "2024",
          "2024",
          "2024",
          "2024",
          "2024",
          "2024",
          "2024",
          "2024",
          "2024",
          "2024",
          "2024",
          "2024",
          "2024",
          "2024",
          "2024",
          "2024",
          "2024",
          "2024",
          "2024",
          "2024",
          "2024",
          "2024",
          "2024",
          "2024",
          "2024",
          "2024",
          "2024",
          "2024",
          "2024",
          "2024",
          "2024",
          "2024"
         ],
         "marker": {
          "color": "blue"
         },
         "name": "Season: All",
         "type": "box",
         "x": {
          "bdata": "MAG/AQUBSwHeAE4BHQGaAa8BKgERASsBNQFAAVcBEwF0AUsBWwFVAVABWwEnAdsA/QAkAc8AdwH9ABkB+ABYAYEBOwEfAfMAOgGRAXgBhwDUAEkBSwHMADgBKQF5Ae4AYQFjAZwBNQFdASMBJwEXAeQARwE3Ab8AogDNAAoB7QBYAXEBTQFVAUQBKwH7AE4BGgEiARoB6wAqASIBHwEaARsBNAEzASsBFgFYATcBDwHUAGcB6gBRARkBKgH4ABcBXQHxAE4BBQEgAfMAKgFGAQsBHgF5AQ0BywDQAEsBSAEzAScBGAE3AaQBIAEPAV0BGwGXAREBUgG5AHcBTgEuATIBTAEjATcBMgFPAWkBKwFHAV0BUQEvAToBRwFDATUBUgFtAdUBJQGUAUsBPAEyATYBXAFyATgBFQFCAd8ANwEhAUcBGgEGAeEAYAFFAQkBgwEXAQwBTQH2AKgAOgEwARYBQwHCAOEAPQEvARsBfQErAT0BPwFuAVkBSwF5AaYACgFAAfIAAgFWAUABWgGxATMB3AADAUEBHgHLABcBvQBQARQB7wAfATcBJwEZAT4BKAErAScBYgFFAa8ARAH9AO8ASQERAfoAKQFOAWcBwgAEATcBwwASAWEBJQHtAAsBOgE4AAEBYQFgAScBRwFgAeMAxQDmAF8BJgE4ATIBNgEYASAB3QBvAZ0B5wAMAT8BNwEKAUsBuQCJAXAB+wB8ATsBSQElAWwBRwH9AEwBJgFTAVABeQExAU0BLwHJABcBZwEdAUEB7wA2ASUBNwFbAW4BMwH7ADsBGwH9ADcBUQHlACcBgAFYAT4BFAH4APMAmQH+AB4B7gD/AEUBMgFQAWYBfgEBATYB5gBFAR8BxwAnAQ0BdgEVATgBJQHlAEUBSwE4AfoAJgE2AUoB4wAPAfwA+gDzAPAARgFzAXMBjAFPAUEBPwErASIBSgGCATkBWAFYASMBAwERAWUBZQEJAaEAXgHaAGgBQwE1ARMBcQEkAQIBagHkAA4B5wAdAfEAagFNAS8BPgGAAfkAPAEyAbwABgFQAQsBTgERAR0BIwGbAQwB5wBNAYABBQE6AREBKgFsARsBjQDxAPsAIwH7AEYBSQEGAVIBNAE5AUoBZwFjAUEBogHsAGwBuwA9ASsBfQE9ASkBZAGgARsBVAEYASABSwFJAUEBNgE7AWgBdgFLAVYBOgFBAeoAgAEqAV0BrAGPAVIBKwEqAXUBZAFyAVABUgFJAU4BTgECAXQBSgE6ATkBkAElAZMBFQFPAVcBCAEmAR8BwgAYAUkByAAKAe0AbgHiAGoBQQFsARABKwExAToBiwE9AW8BQAGvAS4BbQHvAL4AUQHaAAgBhQG9AOMAXQEhARcBawH3AMUAQwGZAXcBRwHgACABIgExAX8BHwEXAVUBEAFlAT4BIQFqAUIBYQHUAFcBYAGHAVkBdQEdAUABdgErAUEBSAH/AIIBYQENAUIBXQEOATABKAH7AGABqQBnAUwBcQHFAEsB+QA/AVkBWQFAARUBPQEuAUUBmAF7AXMBbwFHASsBEwFmASoBOQE9AVUBHwFXAUcBRQFhAScBUQE5AZUBbwGNAXcBDgFjAV4BtAA9AW4BDQFBAYQB/QBDAYcAcgFHAUgBdgE5AaYBAQEcARYBPQF9ARYBQAGIAcUBSQE4AVEBlwA4ATABsADaAAEBTgFNAWEB/ACXAdUAKgE6AYUBFQGfAYYBSQF8AUMBcwFYAT0BXgFoAU8BGgHNAJwB+wB/AVMBIwFfAZkBQAFWAWUBXgH/AEcBXQEzAR8BLQE+AXoBYQHLAXABZwFTAbQAHwFxAaYBIgEqAVkBUQE4ARcBOQFOAWcBjQBsAYUBYgEpAZgBcAGPAWEBgwFYAVYBPgFCAS8BBAGbASoB6AAtARcBLQHbAIsBMgFmAXcBWwFDAQ8BVwFgAQ0BKAGgAUMBSQFAAUEBgAFfAYMBYAEIAUEBZgGuAXsBZwAWAVUBcAHsAGEBVwELAQcBRwEqASkBSAE/AakALAGgAUkB8ABKAUIBRAHxAE4BNwEyATMBQQFVAWwBOwFJAUsBZwE4AbYBQQGEATYBTQErAeYAZAFGAV4BLQEpAcEBOgFIAUIBXAE1AfsAPAHdAF4BcwF+ATIBMgGHAU0BNQEnAR8BSwGkAVcBBwFpATkBPwF6AWwBtgEmASQBKQHVAB8BcgGJAUsBEwHxAKYBZgEHAQsBOQFNAfkAVQFYAVcBNgFEAbUBgQFNAboArAF7AUIBEQEBAbgAEQEWAToBEwFXARABSwFKAU0BLgEkAREBAAH1ABQB6gATAXABBQE5AVkBFQEPAWUBCAFkAZ0BPwFnAQQBpQEWAWsBSAEyAUYBVgFDATABewE1AS8BggFHAUoBmQGAAVsBXwF8AWoBLwFTAasBWAHqADcBrQEwAYwALAFrAQMBigEoAR4BWAE/AYABhwE2ASABTQGJAV0BewEVAT0BRQEWAeIAQQHIAGwBLAEOAUwBLQF/AaIBUgEtAT8BPQF7AZABPgEHAWgBUQFQAU4BVwGmAUUBhQFHAfgAVQE8AZsBIAGpAVkBWwEzAbEBRQFAAXMBZAG8AXIBKgFEAf8AEAEHAZ8BcwGlARkBZwF7AXQBygFnAYEBkQGqAeoA/wB9AK4BUQHtABcBcAGOAa8BaQGPATMBLAGZAW8BLwHmACMBVgFdAZsBdQF4AXEBXwGRAYsBSQEbAZQBgQFdAV8BnAFuAUoBYgFdAQsCZgFwAXkBSgFqAfwATgG2AY8BSwF0AbcBJQEWAWoBiwGLAVEBKwFDAYgBJQK/AbUAdwFkAdEBuwEgAWoBpwG8AXkBCwL4AYsBlgFaATYBIQFFAZEBOgErATIBdAFbAaYBTAGmAasBKAEeAUcBjQEhAZoBmQGtAUMBWgE6AeMA",
          "dtype": "i2"
         }
        }
       ],
       "layout": {
        "template": {
         "data": {
          "bar": [
           {
            "error_x": {
             "color": "#2a3f5f"
            },
            "error_y": {
             "color": "#2a3f5f"
            },
            "marker": {
             "line": {
              "color": "#E5ECF6",
              "width": 0.5
             },
             "pattern": {
              "fillmode": "overlay",
              "size": 10,
              "solidity": 0.2
             }
            },
            "type": "bar"
           }
          ],
          "barpolar": [
           {
            "marker": {
             "line": {
              "color": "#E5ECF6",
              "width": 0.5
             },
             "pattern": {
              "fillmode": "overlay",
              "size": 10,
              "solidity": 0.2
             }
            },
            "type": "barpolar"
           }
          ],
          "carpet": [
           {
            "aaxis": {
             "endlinecolor": "#2a3f5f",
             "gridcolor": "white",
             "linecolor": "white",
             "minorgridcolor": "white",
             "startlinecolor": "#2a3f5f"
            },
            "baxis": {
             "endlinecolor": "#2a3f5f",
             "gridcolor": "white",
             "linecolor": "white",
             "minorgridcolor": "white",
             "startlinecolor": "#2a3f5f"
            },
            "type": "carpet"
           }
          ],
          "choropleth": [
           {
            "colorbar": {
             "outlinewidth": 0,
             "ticks": ""
            },
            "type": "choropleth"
           }
          ],
          "contour": [
           {
            "colorbar": {
             "outlinewidth": 0,
             "ticks": ""
            },
            "colorscale": [
             [
              0,
              "#0d0887"
             ],
             [
              0.1111111111111111,
              "#46039f"
             ],
             [
              0.2222222222222222,
              "#7201a8"
             ],
             [
              0.3333333333333333,
              "#9c179e"
             ],
             [
              0.4444444444444444,
              "#bd3786"
             ],
             [
              0.5555555555555556,
              "#d8576b"
             ],
             [
              0.6666666666666666,
              "#ed7953"
             ],
             [
              0.7777777777777778,
              "#fb9f3a"
             ],
             [
              0.8888888888888888,
              "#fdca26"
             ],
             [
              1,
              "#f0f921"
             ]
            ],
            "type": "contour"
           }
          ],
          "contourcarpet": [
           {
            "colorbar": {
             "outlinewidth": 0,
             "ticks": ""
            },
            "type": "contourcarpet"
           }
          ],
          "heatmap": [
           {
            "colorbar": {
             "outlinewidth": 0,
             "ticks": ""
            },
            "colorscale": [
             [
              0,
              "#0d0887"
             ],
             [
              0.1111111111111111,
              "#46039f"
             ],
             [
              0.2222222222222222,
              "#7201a8"
             ],
             [
              0.3333333333333333,
              "#9c179e"
             ],
             [
              0.4444444444444444,
              "#bd3786"
             ],
             [
              0.5555555555555556,
              "#d8576b"
             ],
             [
              0.6666666666666666,
              "#ed7953"
             ],
             [
              0.7777777777777778,
              "#fb9f3a"
             ],
             [
              0.8888888888888888,
              "#fdca26"
             ],
             [
              1,
              "#f0f921"
             ]
            ],
            "type": "heatmap"
           }
          ],
          "histogram": [
           {
            "marker": {
             "pattern": {
              "fillmode": "overlay",
              "size": 10,
              "solidity": 0.2
             }
            },
            "type": "histogram"
           }
          ],
          "histogram2d": [
           {
            "colorbar": {
             "outlinewidth": 0,
             "ticks": ""
            },
            "colorscale": [
             [
              0,
              "#0d0887"
             ],
             [
              0.1111111111111111,
              "#46039f"
             ],
             [
              0.2222222222222222,
              "#7201a8"
             ],
             [
              0.3333333333333333,
              "#9c179e"
             ],
             [
              0.4444444444444444,
              "#bd3786"
             ],
             [
              0.5555555555555556,
              "#d8576b"
             ],
             [
              0.6666666666666666,
              "#ed7953"
             ],
             [
              0.7777777777777778,
              "#fb9f3a"
             ],
             [
              0.8888888888888888,
              "#fdca26"
             ],
             [
              1,
              "#f0f921"
             ]
            ],
            "type": "histogram2d"
           }
          ],
          "histogram2dcontour": [
           {
            "colorbar": {
             "outlinewidth": 0,
             "ticks": ""
            },
            "colorscale": [
             [
              0,
              "#0d0887"
             ],
             [
              0.1111111111111111,
              "#46039f"
             ],
             [
              0.2222222222222222,
              "#7201a8"
             ],
             [
              0.3333333333333333,
              "#9c179e"
             ],
             [
              0.4444444444444444,
              "#bd3786"
             ],
             [
              0.5555555555555556,
              "#d8576b"
             ],
             [
              0.6666666666666666,
              "#ed7953"
             ],
             [
              0.7777777777777778,
              "#fb9f3a"
             ],
             [
              0.8888888888888888,
              "#fdca26"
             ],
             [
              1,
              "#f0f921"
             ]
            ],
            "type": "histogram2dcontour"
           }
          ],
          "mesh3d": [
           {
            "colorbar": {
             "outlinewidth": 0,
             "ticks": ""
            },
            "type": "mesh3d"
           }
          ],
          "parcoords": [
           {
            "line": {
             "colorbar": {
              "outlinewidth": 0,
              "ticks": ""
             }
            },
            "type": "parcoords"
           }
          ],
          "pie": [
           {
            "automargin": true,
            "type": "pie"
           }
          ],
          "scatter": [
           {
            "fillpattern": {
             "fillmode": "overlay",
             "size": 10,
             "solidity": 0.2
            },
            "type": "scatter"
           }
          ],
          "scatter3d": [
           {
            "line": {
             "colorbar": {
              "outlinewidth": 0,
              "ticks": ""
             }
            },
            "marker": {
             "colorbar": {
              "outlinewidth": 0,
              "ticks": ""
             }
            },
            "type": "scatter3d"
           }
          ],
          "scattercarpet": [
           {
            "marker": {
             "colorbar": {
              "outlinewidth": 0,
              "ticks": ""
             }
            },
            "type": "scattercarpet"
           }
          ],
          "scattergeo": [
           {
            "marker": {
             "colorbar": {
              "outlinewidth": 0,
              "ticks": ""
             }
            },
            "type": "scattergeo"
           }
          ],
          "scattergl": [
           {
            "marker": {
             "colorbar": {
              "outlinewidth": 0,
              "ticks": ""
             }
            },
            "type": "scattergl"
           }
          ],
          "scattermap": [
           {
            "marker": {
             "colorbar": {
              "outlinewidth": 0,
              "ticks": ""
             }
            },
            "type": "scattermap"
           }
          ],
          "scattermapbox": [
           {
            "marker": {
             "colorbar": {
              "outlinewidth": 0,
              "ticks": ""
             }
            },
            "type": "scattermapbox"
           }
          ],
          "scatterpolar": [
           {
            "marker": {
             "colorbar": {
              "outlinewidth": 0,
              "ticks": ""
             }
            },
            "type": "scatterpolar"
           }
          ],
          "scatterpolargl": [
           {
            "marker": {
             "colorbar": {
              "outlinewidth": 0,
              "ticks": ""
             }
            },
            "type": "scatterpolargl"
           }
          ],
          "scatterternary": [
           {
            "marker": {
             "colorbar": {
              "outlinewidth": 0,
              "ticks": ""
             }
            },
            "type": "scatterternary"
           }
          ],
          "surface": [
           {
            "colorbar": {
             "outlinewidth": 0,
             "ticks": ""
            },
            "colorscale": [
             [
              0,
              "#0d0887"
             ],
             [
              0.1111111111111111,
              "#46039f"
             ],
             [
              0.2222222222222222,
              "#7201a8"
             ],
             [
              0.3333333333333333,
              "#9c179e"
             ],
             [
              0.4444444444444444,
              "#bd3786"
             ],
             [
              0.5555555555555556,
              "#d8576b"
             ],
             [
              0.6666666666666666,
              "#ed7953"
             ],
             [
              0.7777777777777778,
              "#fb9f3a"
             ],
             [
              0.8888888888888888,
              "#fdca26"
             ],
             [
              1,
              "#f0f921"
             ]
            ],
            "type": "surface"
           }
          ],
          "table": [
           {
            "cells": {
             "fill": {
              "color": "#EBF0F8"
             },
             "line": {
              "color": "white"
             }
            },
            "header": {
             "fill": {
              "color": "#C8D4E3"
             },
             "line": {
              "color": "white"
             }
            },
            "type": "table"
           }
          ]
         },
         "layout": {
          "annotationdefaults": {
           "arrowcolor": "#2a3f5f",
           "arrowhead": 0,
           "arrowwidth": 1
          },
          "autotypenumbers": "strict",
          "coloraxis": {
           "colorbar": {
            "outlinewidth": 0,
            "ticks": ""
           }
          },
          "colorscale": {
           "diverging": [
            [
             0,
             "#8e0152"
            ],
            [
             0.1,
             "#c51b7d"
            ],
            [
             0.2,
             "#de77ae"
            ],
            [
             0.3,
             "#f1b6da"
            ],
            [
             0.4,
             "#fde0ef"
            ],
            [
             0.5,
             "#f7f7f7"
            ],
            [
             0.6,
             "#e6f5d0"
            ],
            [
             0.7,
             "#b8e186"
            ],
            [
             0.8,
             "#7fbc41"
            ],
            [
             0.9,
             "#4d9221"
            ],
            [
             1,
             "#276419"
            ]
           ],
           "sequential": [
            [
             0,
             "#0d0887"
            ],
            [
             0.1111111111111111,
             "#46039f"
            ],
            [
             0.2222222222222222,
             "#7201a8"
            ],
            [
             0.3333333333333333,
             "#9c179e"
            ],
            [
             0.4444444444444444,
             "#bd3786"
            ],
            [
             0.5555555555555556,
             "#d8576b"
            ],
            [
             0.6666666666666666,
             "#ed7953"
            ],
            [
             0.7777777777777778,
             "#fb9f3a"
            ],
            [
             0.8888888888888888,
             "#fdca26"
            ],
            [
             1,
             "#f0f921"
            ]
           ],
           "sequentialminus": [
            [
             0,
             "#0d0887"
            ],
            [
             0.1111111111111111,
             "#46039f"
            ],
            [
             0.2222222222222222,
             "#7201a8"
            ],
            [
             0.3333333333333333,
             "#9c179e"
            ],
            [
             0.4444444444444444,
             "#bd3786"
            ],
            [
             0.5555555555555556,
             "#d8576b"
            ],
            [
             0.6666666666666666,
             "#ed7953"
            ],
            [
             0.7777777777777778,
             "#fb9f3a"
            ],
            [
             0.8888888888888888,
             "#fdca26"
            ],
            [
             1,
             "#f0f921"
            ]
           ]
          },
          "colorway": [
           "#636efa",
           "#EF553B",
           "#00cc96",
           "#ab63fa",
           "#FFA15A",
           "#19d3f3",
           "#FF6692",
           "#B6E880",
           "#FF97FF",
           "#FECB52"
          ],
          "font": {
           "color": "#2a3f5f"
          },
          "geo": {
           "bgcolor": "white",
           "lakecolor": "white",
           "landcolor": "#E5ECF6",
           "showlakes": true,
           "showland": true,
           "subunitcolor": "white"
          },
          "hoverlabel": {
           "align": "left"
          },
          "hovermode": "closest",
          "mapbox": {
           "style": "light"
          },
          "paper_bgcolor": "white",
          "plot_bgcolor": "#E5ECF6",
          "polar": {
           "angularaxis": {
            "gridcolor": "white",
            "linecolor": "white",
            "ticks": ""
           },
           "bgcolor": "#E5ECF6",
           "radialaxis": {
            "gridcolor": "white",
            "linecolor": "white",
            "ticks": ""
           }
          },
          "scene": {
           "xaxis": {
            "backgroundcolor": "#E5ECF6",
            "gridcolor": "white",
            "gridwidth": 2,
            "linecolor": "white",
            "showbackground": true,
            "ticks": "",
            "zerolinecolor": "white"
           },
           "yaxis": {
            "backgroundcolor": "#E5ECF6",
            "gridcolor": "white",
            "gridwidth": 2,
            "linecolor": "white",
            "showbackground": true,
            "ticks": "",
            "zerolinecolor": "white"
           },
           "zaxis": {
            "backgroundcolor": "#E5ECF6",
            "gridcolor": "white",
            "gridwidth": 2,
            "linecolor": "white",
            "showbackground": true,
            "ticks": "",
            "zerolinecolor": "white"
           }
          },
          "shapedefaults": {
           "line": {
            "color": "#2a3f5f"
           }
          },
          "ternary": {
           "aaxis": {
            "gridcolor": "white",
            "linecolor": "white",
            "ticks": ""
           },
           "baxis": {
            "gridcolor": "white",
            "linecolor": "white",
            "ticks": ""
           },
           "bgcolor": "#E5ECF6",
           "caxis": {
            "gridcolor": "white",
            "linecolor": "white",
            "ticks": ""
           }
          },
          "title": {
           "x": 0.05
          },
          "xaxis": {
           "automargin": true,
           "gridcolor": "white",
           "linecolor": "white",
           "ticks": "",
           "title": {
            "standoff": 15
           },
           "zerolinecolor": "white",
           "zerolinewidth": 2
          },
          "yaxis": {
           "automargin": true,
           "gridcolor": "white",
           "linecolor": "white",
           "ticks": "",
           "title": {
            "standoff": 15
           },
           "zerolinecolor": "white",
           "zerolinewidth": 2
          }
         }
        },
        "title": {
         "text": "Total Score Analysis"
        },
        "xaxis": {
         "title": {
          "text": "Total Score"
         }
        },
        "yaxis": {
         "title": {
          "text": "All season"
         }
        }
       }
      }
     },
     "metadata": {},
     "output_type": "display_data"
    }
   ],
   "source": [
    "trace1 = go.Box(x=season_wise[season_wise['season'] == '2007/08']['total_runs'],\n",
    "                hovertext= season_wise['season'],\n",
    "                hovertemplate='Runs: %{x} <br>Season:%{hovertext}<extra></extra>',\n",
    "                marker= dict(color= ' green'), # box plot only takes single color\n",
    "                name='Season: 2007',\n",
    ")\n",
    "\n",
    "trace2 = go.Box(x=season_wise[season_wise['season'] == '2024']['total_runs'],\n",
    "                hovertext= season_wise['season'],\n",
    "                hovertemplate='Runs: %{x} <br>Season:%{hovertext}<extra></extra>',\n",
    "                marker= dict(color= 'red'), # box plot only takes single color\n",
    "                name='Season: 2024',\n",
    ")\n",
    "\n",
    "trace3 = go.Box(x=season_wise['total_runs'],\n",
    "                hovertext= season_wise['season'],\n",
    "                hovertemplate='Runs: %{x} <br>Season:%{hovertext}<extra></extra>',\n",
    "                marker= dict(color= 'blue'), # box plot only takes single color\n",
    "                name='Season: All',\n",
    ")\n",
    "\n",
    "              \n",
    "data = [trace1, trace2, trace3]\n",
    "\n",
    "layout = go.Layout(title=\"Total Score Analysis\",\n",
    "                   xaxis=dict(title = 'Total Score'),\n",
    "                   yaxis=dict(title = 'All season')\n",
    ")\n",
    "\n",
    "fig = go.Figure(data = data, layout = layout)\n",
    "\n",
    "fig.show()"
   ]
  },
  {
   "cell_type": "markdown",
   "id": "26b6121c",
   "metadata": {},
   "source": [
    "## <b> <center> 6. Distplots"
   ]
  },
  {
   "cell_type": "markdown",
   "id": "a99baeef",
   "metadata": {},
   "source": [
    "<b>Distplot or distribution plot: We plot Dist plot on single continuous variable.  \n",
    "Distplot is combination of 3 plots: Histogram, kde, rough plot (niche joo rahega)  "
   ]
  },
  {
   "cell_type": "markdown",
   "id": "2b4da382",
   "metadata": {},
   "source": [
    "<b>In plot Rough plot, we just put the marker in the respective entry bin. The dense area means data is more in that bin.  \n",
    "Rough also give the information about distribution between the bins which histogram do not give"
   ]
  },
  {
   "cell_type": "code",
   "execution_count": 234,
   "id": "5245a09e",
   "metadata": {},
   "outputs": [],
   "source": [
    "# Distplot import \n",
    "\n",
    "import plotly.figure_factory as ff"
   ]
  },
  {
   "cell_type": "code",
   "execution_count": 235,
   "id": "40430f78",
   "metadata": {},
   "outputs": [
    {
     "data": {
      "text/html": [
       "<div>\n",
       "<style scoped>\n",
       "    .dataframe tbody tr th:only-of-type {\n",
       "        vertical-align: middle;\n",
       "    }\n",
       "\n",
       "    .dataframe tbody tr th {\n",
       "        vertical-align: top;\n",
       "    }\n",
       "\n",
       "    .dataframe thead th {\n",
       "        text-align: right;\n",
       "    }\n",
       "</style>\n",
       "<table border=\"1\" class=\"dataframe\">\n",
       "  <thead>\n",
       "    <tr style=\"text-align: right;\">\n",
       "      <th></th>\n",
       "      <th>batter</th>\n",
       "      <th>runs</th>\n",
       "      <th>balls</th>\n",
       "      <th>outs</th>\n",
       "      <th>strike_rate</th>\n",
       "      <th>average</th>\n",
       "    </tr>\n",
       "  </thead>\n",
       "  <tbody>\n",
       "    <tr>\n",
       "      <th>631</th>\n",
       "      <td>V Kohli</td>\n",
       "      <td>8014</td>\n",
       "      <td>6236</td>\n",
       "      <td>218</td>\n",
       "      <td>128.511867</td>\n",
       "      <td>36.761468</td>\n",
       "    </tr>\n",
       "    <tr>\n",
       "      <th>512</th>\n",
       "      <td>S Dhawan</td>\n",
       "      <td>6769</td>\n",
       "      <td>5483</td>\n",
       "      <td>194</td>\n",
       "      <td>123.454313</td>\n",
       "      <td>34.891753</td>\n",
       "    </tr>\n",
       "    <tr>\n",
       "      <th>477</th>\n",
       "      <td>RG Sharma</td>\n",
       "      <td>6630</td>\n",
       "      <td>5183</td>\n",
       "      <td>232</td>\n",
       "      <td>127.918194</td>\n",
       "      <td>28.577586</td>\n",
       "    </tr>\n",
       "    <tr>\n",
       "      <th>147</th>\n",
       "      <td>DA Warner</td>\n",
       "      <td>6567</td>\n",
       "      <td>4849</td>\n",
       "      <td>164</td>\n",
       "      <td>135.429986</td>\n",
       "      <td>40.042683</td>\n",
       "    </tr>\n",
       "    <tr>\n",
       "      <th>546</th>\n",
       "      <td>SK Raina</td>\n",
       "      <td>5536</td>\n",
       "      <td>4177</td>\n",
       "      <td>168</td>\n",
       "      <td>132.535312</td>\n",
       "      <td>32.952381</td>\n",
       "    </tr>\n",
       "  </tbody>\n",
       "</table>\n",
       "</div>"
      ],
      "text/plain": [
       "        batter  runs  balls  outs  strike_rate    average\n",
       "631    V Kohli  8014   6236   218   128.511867  36.761468\n",
       "512   S Dhawan  6769   5483   194   123.454313  34.891753\n",
       "477  RG Sharma  6630   5183   232   127.918194  28.577586\n",
       "147  DA Warner  6567   4849   164   135.429986  40.042683\n",
       "546   SK Raina  5536   4177   168   132.535312  32.952381"
      ]
     },
     "execution_count": 235,
     "metadata": {},
     "output_type": "execute_result"
    }
   ],
   "source": [
    "top50_batsman_summary.head() # avg of top 50 batsman"
   ]
  },
  {
   "cell_type": "markdown",
   "id": "525c6e00",
   "metadata": {},
   "source": [
    "<span style=\"font-size: 18px;\"> <b> Plotting the Distplot"
   ]
  },
  {
   "cell_type": "code",
   "execution_count": 236,
   "id": "b104594c",
   "metadata": {},
   "outputs": [
    {
     "data": {
      "application/vnd.plotly.v1+json": {
       "config": {
        "plotlyServerURL": "https://plot.ly"
       },
       "data": [
        {
         "autobinx": false,
         "histnorm": "probability density",
         "legendgroup": "Average",
         "marker": {
          "color": "rgb(31, 119, 180)"
         },
         "name": "Average",
         "opacity": 0.7,
         "type": "histogram",
         "x": {
          "bdata": "Fw6ix3dhQkAN283yJHJBQMs9jbDckzxAJWpXonYFRECe53me53lAQO0etr4NmEFA001iEFi5REAAAAAAAIVDQEMWspCF7DpA/Sn1p9SfOUDtc0hNMB5GQBqkQRqkwT1AYhBYObRIQkDVk/HbpR4/QK+hvIbymjxAywOSda48P0CzLMuyLMs+QD5g9oDZAz1At23btm0LQEBVVVVVValCQGlL2pK2pDpAAAAAAAAsQUBvMEU+6wY9QK0pa8qaskJAVoZvRIFJP0AyMjIyMrI+QExnMZ3F9DlAy6BUmHg/OEB6nud5nmdBQK7sc0hNMDtAm81ms9lsNkCRz7rBFPk4QEL0+C4cRDlA9qGxPjTWO0BPIyz3NAI3QOEQDuEQDj1AiMkVxOQKPEAAAAAAAAA7QGg84xnPeDxAy7d8y7f8P0BXaqVWaiVDQOh5nud5nj1AhCIUoQhFO0Acx3Ecx3E9QAAAAAAAQEVA+e1ST8ZvQEBYpAw83Zo7QGDvmBrYOzxAJ3VfHlsRQkB6nud5nuc4QA==",
          "dtype": "f8"
         },
         "xaxis": "x",
         "xbins": {
          "end": 44.235849056603776,
          "size": 1,
          "start": 22.4251968503937
         },
         "yaxis": "y"
        },
        {
         "legendgroup": "Average",
         "marker": {
          "color": "rgb(31, 119, 180)"
         },
         "mode": "lines",
         "name": "Average",
         "showlegend": false,
         "type": "scatter",
         "x": [
          22.4251968503937,
          22.46881815480612,
          22.51243945921854,
          22.55606076363096,
          22.599682068043382,
          22.6433033724558,
          22.68692467686822,
          22.730545981280642,
          22.77416728569306,
          22.817788590105483,
          22.8614098945179,
          22.90503119893032,
          22.948652503342743,
          22.99227380775516,
          23.035895112167584,
          23.079516416580002,
          23.12313772099242,
          23.166759025404843,
          23.210380329817262,
          23.254001634229684,
          23.297622938642103,
          23.341244243054522,
          23.384865547466944,
          23.428486851879363,
          23.472108156291785,
          23.515729460704204,
          23.559350765116623,
          23.602972069529045,
          23.646593373941464,
          23.690214678353886,
          23.733835982766305,
          23.777457287178724,
          23.821078591591146,
          23.864699896003565,
          23.908321200415987,
          23.951942504828406,
          23.995563809240824,
          24.039185113653247,
          24.082806418065665,
          24.126427722478088,
          24.170049026890506,
          24.213670331302925,
          24.257291635715347,
          24.300912940127766,
          24.34453424454019,
          24.388155548952607,
          24.431776853365026,
          24.475398157777448,
          24.519019462189867,
          24.562640766602286,
          24.606262071014708,
          24.649883375427127,
          24.69350467983955,
          24.737125984251968,
          24.780747288664386,
          24.82436859307681,
          24.867989897489228,
          24.91161120190165,
          24.95523250631407,
          24.998853810726487,
          25.04247511513891,
          25.08609641955133,
          25.12971772396375,
          25.17333902837617,
          25.216960332788588,
          25.26058163720101,
          25.30420294161343,
          25.34782424602585,
          25.39144555043827,
          25.43506685485069,
          25.47868815926311,
          25.52230946367553,
          25.565930768087952,
          25.60955207250037,
          25.65317337691279,
          25.696794681325212,
          25.74041598573763,
          25.784037290150053,
          25.82765859456247,
          25.87127989897489,
          25.914901203387313,
          25.95852250779973,
          26.002143812212154,
          26.045765116624572,
          26.08938642103699,
          26.133007725449414,
          26.176629029861832,
          26.220250334274255,
          26.263871638686673,
          26.307492943099092,
          26.351114247511514,
          26.394735551923933,
          26.438356856336355,
          26.481978160748774,
          26.525599465161193,
          26.569220769573615,
          26.612842073986034,
          26.656463378398456,
          26.700084682810875,
          26.743705987223294,
          26.787327291635716,
          26.830948596048135,
          26.874569900460557,
          26.918191204872976,
          26.961812509285394,
          27.005433813697817,
          27.049055118110235,
          27.092676422522658,
          27.136297726935076,
          27.179919031347495,
          27.223540335759917,
          27.267161640172336,
          27.31078294458476,
          27.354404248997177,
          27.398025553409596,
          27.44164685782202,
          27.485268162234437,
          27.52888946664686,
          27.572510771059278,
          27.616132075471697,
          27.65975337988412,
          27.703374684296538,
          27.74699598870896,
          27.79061729312138,
          27.834238597533798,
          27.87785990194622,
          27.92148120635864,
          27.96510251077106,
          28.00872381518348,
          28.0523451195959,
          28.09596642400832,
          28.13958772842074,
          28.18320903283316,
          28.22683033724558,
          28.270451641658,
          28.314072946070418,
          28.35769425048284,
          28.401315554895262,
          28.44493685930768,
          28.4885581637201,
          28.532179468132522,
          28.57580077254494,
          28.619422076957363,
          28.663043381369782,
          28.7066646857822,
          28.75028599019462,
          28.793907294607042,
          28.837528599019464,
          28.881149903431883,
          28.9247712078443,
          28.968392512256724,
          29.012013816669143,
          29.055635121081565,
          29.099256425493984,
          29.142877729906402,
          29.18649903431882,
          29.230120338731243,
          29.273741643143666,
          29.317362947556084,
          29.360984251968503,
          29.404605556380925,
          29.448226860793344,
          29.491848165205766,
          29.535469469618185,
          29.579090774030604,
          29.622712078443023,
          29.666333382855445,
          29.709954687267867,
          29.753575991680286,
          29.797197296092705,
          29.840818600505127,
          29.884439904917546,
          29.928061209329968,
          29.971682513742387,
          30.015303818154806,
          30.058925122567224,
          30.102546426979647,
          30.14616773139207,
          30.189789035804488,
          30.233410340216906,
          30.27703164462933,
          30.320652949041747,
          30.36427425345417,
          30.40789555786659,
          30.451516862279007,
          30.495138166691426,
          30.538759471103848,
          30.58238077551627,
          30.62600207992869,
          30.669623384341108,
          30.713244688753527,
          30.75686599316595,
          30.80048729757837,
          30.84410860199079,
          30.88772990640321,
          30.931351210815627,
          30.97497251522805,
          31.01859381964047,
          31.06221512405289,
          31.10583642846531,
          31.14945773287773,
          31.19307903729015,
          31.236700341702573,
          31.28032164611499,
          31.32394295052741,
          31.36756425493983,
          31.41118555935225,
          31.454806863764674,
          31.498428168177092,
          31.54204947258951,
          31.58567077700193,
          31.629292081414352,
          31.672913385826774,
          31.716534690239193,
          31.760155994651612,
          31.80377729906403,
          31.847398603476453,
          31.89101990788887,
          31.934641212301294,
          31.978262516713713,
          32.02188382112613,
          32.06550512553855,
          32.109126429950976,
          32.152747734363395,
          32.19636903877581,
          32.23999034318823,
          32.28361164760065,
          32.32723295201308,
          32.370854256425496,
          32.414475560837914,
          32.45809686525033,
          32.50171816966275,
          32.54533947407518,
          32.588960778487596,
          32.632582082900015,
          32.676203387312434,
          32.71982469172485,
          32.76344599613728,
          32.8070673005497,
          32.850688604962116,
          32.894309909374535,
          32.93793121378695,
          32.98155251819938,
          33.0251738226118,
          33.06879512702422,
          33.112416431436635,
          33.156037735849054,
          33.19965904026148,
          33.2432803446739,
          33.28690164908632,
          33.330522953498736,
          33.374144257911155,
          33.41776556232358,
          33.461386866736,
          33.50500817114842,
          33.54862947556084,
          33.592250779973256,
          33.63587208438568,
          33.6794933887981,
          33.72311469321052,
          33.76673599762294,
          33.81035730203536,
          33.85397860644778,
          33.8975999108602,
          33.94122121527262,
          33.98484251968504,
          34.02846382409746,
          34.07208512850988,
          34.1157064329223,
          34.15932773733472,
          34.20294904174714,
          34.24657034615956,
          34.290191650571984,
          34.3338129549844,
          34.37743425939682,
          34.42105556380924,
          34.46467686822166,
          34.508298172634085,
          34.5519194770465,
          34.59554078145892,
          34.63916208587134,
          34.68278339028376,
          34.726404694696186,
          34.770025999108604,
          34.81364730352102,
          34.85726860793344,
          34.90088991234586,
          34.944511216758286,
          34.988132521170705,
          35.031753825583124,
          35.07537512999554,
          35.11899643440796,
          35.16261773882039,
          35.206239043232806,
          35.249860347645225,
          35.29348165205764,
          35.33710295647006,
          35.38072426088249,
          35.42434556529491,
          35.467966869707325,
          35.511588174119744,
          35.55520947853216,
          35.59883078294459,
          35.64245208735701,
          35.686073391769426,
          35.729694696181845,
          35.773316000594264,
          35.81693730500669,
          35.86055860941911,
          35.90417991383153,
          35.947801218243946,
          35.991422522656364,
          36.03504382706879,
          36.07866513148121,
          36.12228643589363,
          36.16590774030605,
          36.209529044718465,
          36.25315034913089,
          36.29677165354331,
          36.34039295795573,
          36.38401426236815,
          36.427635566780566,
          36.47125687119299,
          36.51487817560541,
          36.55849948001783,
          36.60212078443025,
          36.64574208884267,
          36.68936339325509,
          36.73298469766751,
          36.77660600207993,
          36.82022730649235,
          36.86384861090477,
          36.90746991531719,
          36.95109121972961,
          36.99471252414203,
          37.03833382855445,
          37.08195513296687,
          37.125576437379294,
          37.16919774179171,
          37.21281904620413,
          37.25644035061655,
          37.30006165502897,
          37.343682959441395,
          37.387304263853814,
          37.43092556826623,
          37.47454687267865,
          37.51816817709107,
          37.561789481503496,
          37.605410785915915,
          37.64903209032833,
          37.69265339474075,
          37.73627469915317,
          37.7798960035656,
          37.823517307978015,
          37.867138612390434,
          37.91075991680285,
          37.95438122121527,
          37.9980025256277,
          38.041623830040116,
          38.085245134452535,
          38.128866438864954,
          38.17248774327737,
          38.2161090476898,
          38.25973035210222,
          38.303351656514636,
          38.346972960927054,
          38.39059426533947,
          38.4342155697519,
          38.47783687416432,
          38.52145817857674,
          38.565079482989155,
          38.608700787401574,
          38.652322091814,
          38.69594339622642,
          38.73956470063884,
          38.783186005051256,
          38.826807309463675,
          38.8704286138761,
          38.91404991828852,
          38.95767122270094,
          39.00129252711336,
          39.044913831525776,
          39.0885351359382,
          39.13215644035061,
          39.17577774476304,
          39.21939904917546,
          39.263020353587876,
          39.3066416580003,
          39.35026296241272,
          39.39388426682514,
          39.43750557123756,
          39.48112687564998,
          39.5247481800624,
          39.568369484474815,
          39.61199078888724,
          39.655612093299666,
          39.69923339771208,
          39.742854702124504,
          39.786476006536915,
          39.83009731094934,
          39.87371861536176,
          39.91733991977418,
          39.960961224186605,
          40.00458252859902,
          40.04820383301144,
          40.09182513742386,
          40.13544644183628,
          40.179067746248705,
          40.22268905066112,
          40.26631035507354,
          40.30993165948596,
          40.35355296389838,
          40.397174268310806,
          40.440795572723225,
          40.484416877135644,
          40.52803818154806,
          40.57165948596048,
          40.61528079037291,
          40.65890209478532,
          40.702523399197744,
          40.74614470361016,
          40.78976600802258,
          40.83338731243501,
          40.87700861684742,
          40.920629921259845,
          40.964251225672264,
          41.00787253008468,
          41.05149383449711,
          41.09511513890953,
          41.138736443321946,
          41.182357747734365,
          41.22597905214678,
          41.26960035655921,
          41.31322166097162,
          41.35684296538405,
          41.40046426979647,
          41.444085574208884,
          41.48770687862131,
          41.53132818303372,
          41.57494948744615,
          41.618570791858566,
          41.662192096270985,
          41.70581340068341,
          41.74943470509583,
          41.79305600950825,
          41.83667731392067,
          41.880298618333086,
          41.92391992274551,
          41.96754122715792,
          42.01116253157035,
          42.05478383598277,
          42.09840514039519,
          42.14202644480761,
          42.18564774922003,
          42.22926905363245,
          42.27289035804487,
          42.31651166245729,
          42.36013296686971,
          42.403754271282125,
          42.44737557569455,
          42.49099688010697,
          42.53461818451939,
          42.578239488931814,
          42.621860793344226,
          42.66548209775665,
          42.70910340216907,
          42.75272470658149,
          42.79634601099391,
          42.839967315406334,
          42.88358861981875,
          42.92720992423117,
          42.97083122864359,
          43.014452533056016,
          43.05807383746843,
          43.10169514188085,
          43.14531644629327,
          43.18893775070569,
          43.23255905511812,
          43.27618035953053,
          43.319801663942954,
          43.36342296835537,
          43.40704427276779,
          43.45066557718022,
          43.49428688159263,
          43.537908186005055,
          43.58152949041747,
          43.62515079482989,
          43.66877209924232,
          43.71239340365473,
          43.756014708067156,
          43.799636012479574,
          43.84325731689199,
          43.88687862130442,
          43.93049992571684,
          43.974121230129256,
          44.017742534541675,
          44.061363838954094,
          44.10498514336652,
          44.14860644777893,
          44.19222775219136
         ],
         "xaxis": "x",
         "y": {
          "bdata": "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",
          "dtype": "f8"
         },
         "yaxis": "y"
        },
        {
         "legendgroup": "Average",
         "marker": {
          "color": "rgb(31, 119, 180)",
          "symbol": "line-ns-open"
         },
         "mode": "markers",
         "name": "Average",
         "showlegend": false,
         "type": "scatter",
         "x": {
          "bdata": "Fw6ix3dhQkAN283yJHJBQMs9jbDckzxAJWpXonYFRECe53me53lAQO0etr4NmEFA001iEFi5REAAAAAAAIVDQEMWspCF7DpA/Sn1p9SfOUDtc0hNMB5GQBqkQRqkwT1AYhBYObRIQkDVk/HbpR4/QK+hvIbymjxAywOSda48P0CzLMuyLMs+QD5g9oDZAz1At23btm0LQEBVVVVVValCQGlL2pK2pDpAAAAAAAAsQUBvMEU+6wY9QK0pa8qaskJAVoZvRIFJP0AyMjIyMrI+QExnMZ3F9DlAy6BUmHg/OEB6nud5nmdBQK7sc0hNMDtAm81ms9lsNkCRz7rBFPk4QEL0+C4cRDlA9qGxPjTWO0BPIyz3NAI3QOEQDuEQDj1AiMkVxOQKPEAAAAAAAAA7QGg84xnPeDxAy7d8y7f8P0BXaqVWaiVDQOh5nud5nj1AhCIUoQhFO0Acx3Ecx3E9QAAAAAAAQEVA+e1ST8ZvQEBYpAw83Zo7QGDvmBrYOzxAJ3VfHlsRQkB6nud5nuc4QA==",
          "dtype": "f8"
         },
         "xaxis": "x",
         "y": [
          "Average",
          "Average",
          "Average",
          "Average",
          "Average",
          "Average",
          "Average",
          "Average",
          "Average",
          "Average",
          "Average",
          "Average",
          "Average",
          "Average",
          "Average",
          "Average",
          "Average",
          "Average",
          "Average",
          "Average",
          "Average",
          "Average",
          "Average",
          "Average",
          "Average",
          "Average",
          "Average",
          "Average",
          "Average",
          "Average",
          "Average",
          "Average",
          "Average",
          "Average",
          "Average",
          "Average",
          "Average",
          "Average",
          "Average",
          "Average",
          "Average",
          "Average",
          "Average",
          "Average",
          "Average",
          "Average",
          "Average",
          "Average",
          "Average",
          "Average"
         ],
         "yaxis": "y2"
        }
       ],
       "layout": {
        "barmode": "overlay",
        "hovermode": "closest",
        "legend": {
         "traceorder": "reversed"
        },
        "template": {
         "data": {
          "bar": [
           {
            "error_x": {
             "color": "#2a3f5f"
            },
            "error_y": {
             "color": "#2a3f5f"
            },
            "marker": {
             "line": {
              "color": "#E5ECF6",
              "width": 0.5
             },
             "pattern": {
              "fillmode": "overlay",
              "size": 10,
              "solidity": 0.2
             }
            },
            "type": "bar"
           }
          ],
          "barpolar": [
           {
            "marker": {
             "line": {
              "color": "#E5ECF6",
              "width": 0.5
             },
             "pattern": {
              "fillmode": "overlay",
              "size": 10,
              "solidity": 0.2
             }
            },
            "type": "barpolar"
           }
          ],
          "carpet": [
           {
            "aaxis": {
             "endlinecolor": "#2a3f5f",
             "gridcolor": "white",
             "linecolor": "white",
             "minorgridcolor": "white",
             "startlinecolor": "#2a3f5f"
            },
            "baxis": {
             "endlinecolor": "#2a3f5f",
             "gridcolor": "white",
             "linecolor": "white",
             "minorgridcolor": "white",
             "startlinecolor": "#2a3f5f"
            },
            "type": "carpet"
           }
          ],
          "choropleth": [
           {
            "colorbar": {
             "outlinewidth": 0,
             "ticks": ""
            },
            "type": "choropleth"
           }
          ],
          "contour": [
           {
            "colorbar": {
             "outlinewidth": 0,
             "ticks": ""
            },
            "colorscale": [
             [
              0,
              "#0d0887"
             ],
             [
              0.1111111111111111,
              "#46039f"
             ],
             [
              0.2222222222222222,
              "#7201a8"
             ],
             [
              0.3333333333333333,
              "#9c179e"
             ],
             [
              0.4444444444444444,
              "#bd3786"
             ],
             [
              0.5555555555555556,
              "#d8576b"
             ],
             [
              0.6666666666666666,
              "#ed7953"
             ],
             [
              0.7777777777777778,
              "#fb9f3a"
             ],
             [
              0.8888888888888888,
              "#fdca26"
             ],
             [
              1,
              "#f0f921"
             ]
            ],
            "type": "contour"
           }
          ],
          "contourcarpet": [
           {
            "colorbar": {
             "outlinewidth": 0,
             "ticks": ""
            },
            "type": "contourcarpet"
           }
          ],
          "heatmap": [
           {
            "colorbar": {
             "outlinewidth": 0,
             "ticks": ""
            },
            "colorscale": [
             [
              0,
              "#0d0887"
             ],
             [
              0.1111111111111111,
              "#46039f"
             ],
             [
              0.2222222222222222,
              "#7201a8"
             ],
             [
              0.3333333333333333,
              "#9c179e"
             ],
             [
              0.4444444444444444,
              "#bd3786"
             ],
             [
              0.5555555555555556,
              "#d8576b"
             ],
             [
              0.6666666666666666,
              "#ed7953"
             ],
             [
              0.7777777777777778,
              "#fb9f3a"
             ],
             [
              0.8888888888888888,
              "#fdca26"
             ],
             [
              1,
              "#f0f921"
             ]
            ],
            "type": "heatmap"
           }
          ],
          "histogram": [
           {
            "marker": {
             "pattern": {
              "fillmode": "overlay",
              "size": 10,
              "solidity": 0.2
             }
            },
            "type": "histogram"
           }
          ],
          "histogram2d": [
           {
            "colorbar": {
             "outlinewidth": 0,
             "ticks": ""
            },
            "colorscale": [
             [
              0,
              "#0d0887"
             ],
             [
              0.1111111111111111,
              "#46039f"
             ],
             [
              0.2222222222222222,
              "#7201a8"
             ],
             [
              0.3333333333333333,
              "#9c179e"
             ],
             [
              0.4444444444444444,
              "#bd3786"
             ],
             [
              0.5555555555555556,
              "#d8576b"
             ],
             [
              0.6666666666666666,
              "#ed7953"
             ],
             [
              0.7777777777777778,
              "#fb9f3a"
             ],
             [
              0.8888888888888888,
              "#fdca26"
             ],
             [
              1,
              "#f0f921"
             ]
            ],
            "type": "histogram2d"
           }
          ],
          "histogram2dcontour": [
           {
            "colorbar": {
             "outlinewidth": 0,
             "ticks": ""
            },
            "colorscale": [
             [
              0,
              "#0d0887"
             ],
             [
              0.1111111111111111,
              "#46039f"
             ],
             [
              0.2222222222222222,
              "#7201a8"
             ],
             [
              0.3333333333333333,
              "#9c179e"
             ],
             [
              0.4444444444444444,
              "#bd3786"
             ],
             [
              0.5555555555555556,
              "#d8576b"
             ],
             [
              0.6666666666666666,
              "#ed7953"
             ],
             [
              0.7777777777777778,
              "#fb9f3a"
             ],
             [
              0.8888888888888888,
              "#fdca26"
             ],
             [
              1,
              "#f0f921"
             ]
            ],
            "type": "histogram2dcontour"
           }
          ],
          "mesh3d": [
           {
            "colorbar": {
             "outlinewidth": 0,
             "ticks": ""
            },
            "type": "mesh3d"
           }
          ],
          "parcoords": [
           {
            "line": {
             "colorbar": {
              "outlinewidth": 0,
              "ticks": ""
             }
            },
            "type": "parcoords"
           }
          ],
          "pie": [
           {
            "automargin": true,
            "type": "pie"
           }
          ],
          "scatter": [
           {
            "fillpattern": {
             "fillmode": "overlay",
             "size": 10,
             "solidity": 0.2
            },
            "type": "scatter"
           }
          ],
          "scatter3d": [
           {
            "line": {
             "colorbar": {
              "outlinewidth": 0,
              "ticks": ""
             }
            },
            "marker": {
             "colorbar": {
              "outlinewidth": 0,
              "ticks": ""
             }
            },
            "type": "scatter3d"
           }
          ],
          "scattercarpet": [
           {
            "marker": {
             "colorbar": {
              "outlinewidth": 0,
              "ticks": ""
             }
            },
            "type": "scattercarpet"
           }
          ],
          "scattergeo": [
           {
            "marker": {
             "colorbar": {
              "outlinewidth": 0,
              "ticks": ""
             }
            },
            "type": "scattergeo"
           }
          ],
          "scattergl": [
           {
            "marker": {
             "colorbar": {
              "outlinewidth": 0,
              "ticks": ""
             }
            },
            "type": "scattergl"
           }
          ],
          "scattermap": [
           {
            "marker": {
             "colorbar": {
              "outlinewidth": 0,
              "ticks": ""
             }
            },
            "type": "scattermap"
           }
          ],
          "scattermapbox": [
           {
            "marker": {
             "colorbar": {
              "outlinewidth": 0,
              "ticks": ""
             }
            },
            "type": "scattermapbox"
           }
          ],
          "scatterpolar": [
           {
            "marker": {
             "colorbar": {
              "outlinewidth": 0,
              "ticks": ""
             }
            },
            "type": "scatterpolar"
           }
          ],
          "scatterpolargl": [
           {
            "marker": {
             "colorbar": {
              "outlinewidth": 0,
              "ticks": ""
             }
            },
            "type": "scatterpolargl"
           }
          ],
          "scatterternary": [
           {
            "marker": {
             "colorbar": {
              "outlinewidth": 0,
              "ticks": ""
             }
            },
            "type": "scatterternary"
           }
          ],
          "surface": [
           {
            "colorbar": {
             "outlinewidth": 0,
             "ticks": ""
            },
            "colorscale": [
             [
              0,
              "#0d0887"
             ],
             [
              0.1111111111111111,
              "#46039f"
             ],
             [
              0.2222222222222222,
              "#7201a8"
             ],
             [
              0.3333333333333333,
              "#9c179e"
             ],
             [
              0.4444444444444444,
              "#bd3786"
             ],
             [
              0.5555555555555556,
              "#d8576b"
             ],
             [
              0.6666666666666666,
              "#ed7953"
             ],
             [
              0.7777777777777778,
              "#fb9f3a"
             ],
             [
              0.8888888888888888,
              "#fdca26"
             ],
             [
              1,
              "#f0f921"
             ]
            ],
            "type": "surface"
           }
          ],
          "table": [
           {
            "cells": {
             "fill": {
              "color": "#EBF0F8"
             },
             "line": {
              "color": "white"
             }
            },
            "header": {
             "fill": {
              "color": "#C8D4E3"
             },
             "line": {
              "color": "white"
             }
            },
            "type": "table"
           }
          ]
         },
         "layout": {
          "annotationdefaults": {
           "arrowcolor": "#2a3f5f",
           "arrowhead": 0,
           "arrowwidth": 1
          },
          "autotypenumbers": "strict",
          "coloraxis": {
           "colorbar": {
            "outlinewidth": 0,
            "ticks": ""
           }
          },
          "colorscale": {
           "diverging": [
            [
             0,
             "#8e0152"
            ],
            [
             0.1,
             "#c51b7d"
            ],
            [
             0.2,
             "#de77ae"
            ],
            [
             0.3,
             "#f1b6da"
            ],
            [
             0.4,
             "#fde0ef"
            ],
            [
             0.5,
             "#f7f7f7"
            ],
            [
             0.6,
             "#e6f5d0"
            ],
            [
             0.7,
             "#b8e186"
            ],
            [
             0.8,
             "#7fbc41"
            ],
            [
             0.9,
             "#4d9221"
            ],
            [
             1,
             "#276419"
            ]
           ],
           "sequential": [
            [
             0,
             "#0d0887"
            ],
            [
             0.1111111111111111,
             "#46039f"
            ],
            [
             0.2222222222222222,
             "#7201a8"
            ],
            [
             0.3333333333333333,
             "#9c179e"
            ],
            [
             0.4444444444444444,
             "#bd3786"
            ],
            [
             0.5555555555555556,
             "#d8576b"
            ],
            [
             0.6666666666666666,
             "#ed7953"
            ],
            [
             0.7777777777777778,
             "#fb9f3a"
            ],
            [
             0.8888888888888888,
             "#fdca26"
            ],
            [
             1,
             "#f0f921"
            ]
           ],
           "sequentialminus": [
            [
             0,
             "#0d0887"
            ],
            [
             0.1111111111111111,
             "#46039f"
            ],
            [
             0.2222222222222222,
             "#7201a8"
            ],
            [
             0.3333333333333333,
             "#9c179e"
            ],
            [
             0.4444444444444444,
             "#bd3786"
            ],
            [
             0.5555555555555556,
             "#d8576b"
            ],
            [
             0.6666666666666666,
             "#ed7953"
            ],
            [
             0.7777777777777778,
             "#fb9f3a"
            ],
            [
             0.8888888888888888,
             "#fdca26"
            ],
            [
             1,
             "#f0f921"
            ]
           ]
          },
          "colorway": [
           "#636efa",
           "#EF553B",
           "#00cc96",
           "#ab63fa",
           "#FFA15A",
           "#19d3f3",
           "#FF6692",
           "#B6E880",
           "#FF97FF",
           "#FECB52"
          ],
          "font": {
           "color": "#2a3f5f"
          },
          "geo": {
           "bgcolor": "white",
           "lakecolor": "white",
           "landcolor": "#E5ECF6",
           "showlakes": true,
           "showland": true,
           "subunitcolor": "white"
          },
          "hoverlabel": {
           "align": "left"
          },
          "hovermode": "closest",
          "mapbox": {
           "style": "light"
          },
          "paper_bgcolor": "white",
          "plot_bgcolor": "#E5ECF6",
          "polar": {
           "angularaxis": {
            "gridcolor": "white",
            "linecolor": "white",
            "ticks": ""
           },
           "bgcolor": "#E5ECF6",
           "radialaxis": {
            "gridcolor": "white",
            "linecolor": "white",
            "ticks": ""
           }
          },
          "scene": {
           "xaxis": {
            "backgroundcolor": "#E5ECF6",
            "gridcolor": "white",
            "gridwidth": 2,
            "linecolor": "white",
            "showbackground": true,
            "ticks": "",
            "zerolinecolor": "white"
           },
           "yaxis": {
            "backgroundcolor": "#E5ECF6",
            "gridcolor": "white",
            "gridwidth": 2,
            "linecolor": "white",
            "showbackground": true,
            "ticks": "",
            "zerolinecolor": "white"
           },
           "zaxis": {
            "backgroundcolor": "#E5ECF6",
            "gridcolor": "white",
            "gridwidth": 2,
            "linecolor": "white",
            "showbackground": true,
            "ticks": "",
            "zerolinecolor": "white"
           }
          },
          "shapedefaults": {
           "line": {
            "color": "#2a3f5f"
           }
          },
          "ternary": {
           "aaxis": {
            "gridcolor": "white",
            "linecolor": "white",
            "ticks": ""
           },
           "baxis": {
            "gridcolor": "white",
            "linecolor": "white",
            "ticks": ""
           },
           "bgcolor": "#E5ECF6",
           "caxis": {
            "gridcolor": "white",
            "linecolor": "white",
            "ticks": ""
           }
          },
          "title": {
           "x": 0.05
          },
          "xaxis": {
           "automargin": true,
           "gridcolor": "white",
           "linecolor": "white",
           "ticks": "",
           "title": {
            "standoff": 15
           },
           "zerolinecolor": "white",
           "zerolinewidth": 2
          },
          "yaxis": {
           "automargin": true,
           "gridcolor": "white",
           "linecolor": "white",
           "ticks": "",
           "title": {
            "standoff": 15
           },
           "zerolinecolor": "white",
           "zerolinewidth": 2
          }
         }
        },
        "xaxis": {
         "anchor": "y2",
         "domain": [
          0,
          1
         ],
         "zeroline": false
        },
        "yaxis": {
         "anchor": "free",
         "domain": [
          0.35,
          1
         ],
         "position": 0
        },
        "yaxis2": {
         "anchor": "x",
         "domain": [
          0,
          0.25
         ],
         "dtick": 1,
         "showticklabels": false
        }
       }
      }
     },
     "metadata": {},
     "output_type": "display_data"
    }
   ],
   "source": [
    "hist_data= [top50_batsman_summary['average']]\n",
    "\n",
    "group_labels = ['Average']\n",
    "\n",
    "fig = ff.create_distplot(hist_data, group_labels)\n",
    "\n",
    "\n",
    "fig.show()"
   ]
  },
  {
   "cell_type": "markdown",
   "id": "c2f673a8",
   "metadata": {},
   "source": [
    "<span style=\"font-size: 18px;\"> <b> Improved Distplot"
   ]
  },
  {
   "cell_type": "code",
   "execution_count": 237,
   "id": "8578d60e",
   "metadata": {},
   "outputs": [
    {
     "data": {
      "application/vnd.plotly.v1+json": {
       "config": {
        "plotlyServerURL": "https://plot.ly"
       },
       "data": [
        {
         "autobinx": false,
         "histnorm": "probability density",
         "legendgroup": "Average",
         "marker": {
          "color": "#636EFA"
         },
         "name": "Average",
         "opacity": 0.7,
         "type": "histogram",
         "x": {
          "bdata": "Fw6ix3dhQkAN283yJHJBQMs9jbDckzxAJWpXonYFRECe53me53lAQO0etr4NmEFA001iEFi5REAAAAAAAIVDQEMWspCF7DpA/Sn1p9SfOUDtc0hNMB5GQBqkQRqkwT1AYhBYObRIQkDVk/HbpR4/QK+hvIbymjxAywOSda48P0CzLMuyLMs+QD5g9oDZAz1At23btm0LQEBVVVVVValCQGlL2pK2pDpAAAAAAAAsQUBvMEU+6wY9QK0pa8qaskJAVoZvRIFJP0AyMjIyMrI+QExnMZ3F9DlAy6BUmHg/OEB6nud5nmdBQK7sc0hNMDtAm81ms9lsNkCRz7rBFPk4QEL0+C4cRDlA9qGxPjTWO0BPIyz3NAI3QOEQDuEQDj1AiMkVxOQKPEAAAAAAAAA7QGg84xnPeDxAy7d8y7f8P0BXaqVWaiVDQOh5nud5nj1AhCIUoQhFO0Acx3Ecx3E9QAAAAAAAQEVA+e1ST8ZvQEBYpAw83Zo7QGDvmBrYOzxAJ3VfHlsRQkB6nud5nuc4QA==",
          "dtype": "f8"
         },
         "xaxis": "x",
         "xbins": {
          "end": 44.235849056603776,
          "size": 5,
          "start": 22.4251968503937
         },
         "yaxis": "y"
        },
        {
         "legendgroup": "Average",
         "marker": {
          "color": "#636EFA"
         },
         "mode": "lines",
         "name": "Average",
         "showlegend": false,
         "type": "scatter",
         "x": [
          22.4251968503937,
          22.46881815480612,
          22.51243945921854,
          22.55606076363096,
          22.599682068043382,
          22.6433033724558,
          22.68692467686822,
          22.730545981280642,
          22.77416728569306,
          22.817788590105483,
          22.8614098945179,
          22.90503119893032,
          22.948652503342743,
          22.99227380775516,
          23.035895112167584,
          23.079516416580002,
          23.12313772099242,
          23.166759025404843,
          23.210380329817262,
          23.254001634229684,
          23.297622938642103,
          23.341244243054522,
          23.384865547466944,
          23.428486851879363,
          23.472108156291785,
          23.515729460704204,
          23.559350765116623,
          23.602972069529045,
          23.646593373941464,
          23.690214678353886,
          23.733835982766305,
          23.777457287178724,
          23.821078591591146,
          23.864699896003565,
          23.908321200415987,
          23.951942504828406,
          23.995563809240824,
          24.039185113653247,
          24.082806418065665,
          24.126427722478088,
          24.170049026890506,
          24.213670331302925,
          24.257291635715347,
          24.300912940127766,
          24.34453424454019,
          24.388155548952607,
          24.431776853365026,
          24.475398157777448,
          24.519019462189867,
          24.562640766602286,
          24.606262071014708,
          24.649883375427127,
          24.69350467983955,
          24.737125984251968,
          24.780747288664386,
          24.82436859307681,
          24.867989897489228,
          24.91161120190165,
          24.95523250631407,
          24.998853810726487,
          25.04247511513891,
          25.08609641955133,
          25.12971772396375,
          25.17333902837617,
          25.216960332788588,
          25.26058163720101,
          25.30420294161343,
          25.34782424602585,
          25.39144555043827,
          25.43506685485069,
          25.47868815926311,
          25.52230946367553,
          25.565930768087952,
          25.60955207250037,
          25.65317337691279,
          25.696794681325212,
          25.74041598573763,
          25.784037290150053,
          25.82765859456247,
          25.87127989897489,
          25.914901203387313,
          25.95852250779973,
          26.002143812212154,
          26.045765116624572,
          26.08938642103699,
          26.133007725449414,
          26.176629029861832,
          26.220250334274255,
          26.263871638686673,
          26.307492943099092,
          26.351114247511514,
          26.394735551923933,
          26.438356856336355,
          26.481978160748774,
          26.525599465161193,
          26.569220769573615,
          26.612842073986034,
          26.656463378398456,
          26.700084682810875,
          26.743705987223294,
          26.787327291635716,
          26.830948596048135,
          26.874569900460557,
          26.918191204872976,
          26.961812509285394,
          27.005433813697817,
          27.049055118110235,
          27.092676422522658,
          27.136297726935076,
          27.179919031347495,
          27.223540335759917,
          27.267161640172336,
          27.31078294458476,
          27.354404248997177,
          27.398025553409596,
          27.44164685782202,
          27.485268162234437,
          27.52888946664686,
          27.572510771059278,
          27.616132075471697,
          27.65975337988412,
          27.703374684296538,
          27.74699598870896,
          27.79061729312138,
          27.834238597533798,
          27.87785990194622,
          27.92148120635864,
          27.96510251077106,
          28.00872381518348,
          28.0523451195959,
          28.09596642400832,
          28.13958772842074,
          28.18320903283316,
          28.22683033724558,
          28.270451641658,
          28.314072946070418,
          28.35769425048284,
          28.401315554895262,
          28.44493685930768,
          28.4885581637201,
          28.532179468132522,
          28.57580077254494,
          28.619422076957363,
          28.663043381369782,
          28.7066646857822,
          28.75028599019462,
          28.793907294607042,
          28.837528599019464,
          28.881149903431883,
          28.9247712078443,
          28.968392512256724,
          29.012013816669143,
          29.055635121081565,
          29.099256425493984,
          29.142877729906402,
          29.18649903431882,
          29.230120338731243,
          29.273741643143666,
          29.317362947556084,
          29.360984251968503,
          29.404605556380925,
          29.448226860793344,
          29.491848165205766,
          29.535469469618185,
          29.579090774030604,
          29.622712078443023,
          29.666333382855445,
          29.709954687267867,
          29.753575991680286,
          29.797197296092705,
          29.840818600505127,
          29.884439904917546,
          29.928061209329968,
          29.971682513742387,
          30.015303818154806,
          30.058925122567224,
          30.102546426979647,
          30.14616773139207,
          30.189789035804488,
          30.233410340216906,
          30.27703164462933,
          30.320652949041747,
          30.36427425345417,
          30.40789555786659,
          30.451516862279007,
          30.495138166691426,
          30.538759471103848,
          30.58238077551627,
          30.62600207992869,
          30.669623384341108,
          30.713244688753527,
          30.75686599316595,
          30.80048729757837,
          30.84410860199079,
          30.88772990640321,
          30.931351210815627,
          30.97497251522805,
          31.01859381964047,
          31.06221512405289,
          31.10583642846531,
          31.14945773287773,
          31.19307903729015,
          31.236700341702573,
          31.28032164611499,
          31.32394295052741,
          31.36756425493983,
          31.41118555935225,
          31.454806863764674,
          31.498428168177092,
          31.54204947258951,
          31.58567077700193,
          31.629292081414352,
          31.672913385826774,
          31.716534690239193,
          31.760155994651612,
          31.80377729906403,
          31.847398603476453,
          31.89101990788887,
          31.934641212301294,
          31.978262516713713,
          32.02188382112613,
          32.06550512553855,
          32.109126429950976,
          32.152747734363395,
          32.19636903877581,
          32.23999034318823,
          32.28361164760065,
          32.32723295201308,
          32.370854256425496,
          32.414475560837914,
          32.45809686525033,
          32.50171816966275,
          32.54533947407518,
          32.588960778487596,
          32.632582082900015,
          32.676203387312434,
          32.71982469172485,
          32.76344599613728,
          32.8070673005497,
          32.850688604962116,
          32.894309909374535,
          32.93793121378695,
          32.98155251819938,
          33.0251738226118,
          33.06879512702422,
          33.112416431436635,
          33.156037735849054,
          33.19965904026148,
          33.2432803446739,
          33.28690164908632,
          33.330522953498736,
          33.374144257911155,
          33.41776556232358,
          33.461386866736,
          33.50500817114842,
          33.54862947556084,
          33.592250779973256,
          33.63587208438568,
          33.6794933887981,
          33.72311469321052,
          33.76673599762294,
          33.81035730203536,
          33.85397860644778,
          33.8975999108602,
          33.94122121527262,
          33.98484251968504,
          34.02846382409746,
          34.07208512850988,
          34.1157064329223,
          34.15932773733472,
          34.20294904174714,
          34.24657034615956,
          34.290191650571984,
          34.3338129549844,
          34.37743425939682,
          34.42105556380924,
          34.46467686822166,
          34.508298172634085,
          34.5519194770465,
          34.59554078145892,
          34.63916208587134,
          34.68278339028376,
          34.726404694696186,
          34.770025999108604,
          34.81364730352102,
          34.85726860793344,
          34.90088991234586,
          34.944511216758286,
          34.988132521170705,
          35.031753825583124,
          35.07537512999554,
          35.11899643440796,
          35.16261773882039,
          35.206239043232806,
          35.249860347645225,
          35.29348165205764,
          35.33710295647006,
          35.38072426088249,
          35.42434556529491,
          35.467966869707325,
          35.511588174119744,
          35.55520947853216,
          35.59883078294459,
          35.64245208735701,
          35.686073391769426,
          35.729694696181845,
          35.773316000594264,
          35.81693730500669,
          35.86055860941911,
          35.90417991383153,
          35.947801218243946,
          35.991422522656364,
          36.03504382706879,
          36.07866513148121,
          36.12228643589363,
          36.16590774030605,
          36.209529044718465,
          36.25315034913089,
          36.29677165354331,
          36.34039295795573,
          36.38401426236815,
          36.427635566780566,
          36.47125687119299,
          36.51487817560541,
          36.55849948001783,
          36.60212078443025,
          36.64574208884267,
          36.68936339325509,
          36.73298469766751,
          36.77660600207993,
          36.82022730649235,
          36.86384861090477,
          36.90746991531719,
          36.95109121972961,
          36.99471252414203,
          37.03833382855445,
          37.08195513296687,
          37.125576437379294,
          37.16919774179171,
          37.21281904620413,
          37.25644035061655,
          37.30006165502897,
          37.343682959441395,
          37.387304263853814,
          37.43092556826623,
          37.47454687267865,
          37.51816817709107,
          37.561789481503496,
          37.605410785915915,
          37.64903209032833,
          37.69265339474075,
          37.73627469915317,
          37.7798960035656,
          37.823517307978015,
          37.867138612390434,
          37.91075991680285,
          37.95438122121527,
          37.9980025256277,
          38.041623830040116,
          38.085245134452535,
          38.128866438864954,
          38.17248774327737,
          38.2161090476898,
          38.25973035210222,
          38.303351656514636,
          38.346972960927054,
          38.39059426533947,
          38.4342155697519,
          38.47783687416432,
          38.52145817857674,
          38.565079482989155,
          38.608700787401574,
          38.652322091814,
          38.69594339622642,
          38.73956470063884,
          38.783186005051256,
          38.826807309463675,
          38.8704286138761,
          38.91404991828852,
          38.95767122270094,
          39.00129252711336,
          39.044913831525776,
          39.0885351359382,
          39.13215644035061,
          39.17577774476304,
          39.21939904917546,
          39.263020353587876,
          39.3066416580003,
          39.35026296241272,
          39.39388426682514,
          39.43750557123756,
          39.48112687564998,
          39.5247481800624,
          39.568369484474815,
          39.61199078888724,
          39.655612093299666,
          39.69923339771208,
          39.742854702124504,
          39.786476006536915,
          39.83009731094934,
          39.87371861536176,
          39.91733991977418,
          39.960961224186605,
          40.00458252859902,
          40.04820383301144,
          40.09182513742386,
          40.13544644183628,
          40.179067746248705,
          40.22268905066112,
          40.26631035507354,
          40.30993165948596,
          40.35355296389838,
          40.397174268310806,
          40.440795572723225,
          40.484416877135644,
          40.52803818154806,
          40.57165948596048,
          40.61528079037291,
          40.65890209478532,
          40.702523399197744,
          40.74614470361016,
          40.78976600802258,
          40.83338731243501,
          40.87700861684742,
          40.920629921259845,
          40.964251225672264,
          41.00787253008468,
          41.05149383449711,
          41.09511513890953,
          41.138736443321946,
          41.182357747734365,
          41.22597905214678,
          41.26960035655921,
          41.31322166097162,
          41.35684296538405,
          41.40046426979647,
          41.444085574208884,
          41.48770687862131,
          41.53132818303372,
          41.57494948744615,
          41.618570791858566,
          41.662192096270985,
          41.70581340068341,
          41.74943470509583,
          41.79305600950825,
          41.83667731392067,
          41.880298618333086,
          41.92391992274551,
          41.96754122715792,
          42.01116253157035,
          42.05478383598277,
          42.09840514039519,
          42.14202644480761,
          42.18564774922003,
          42.22926905363245,
          42.27289035804487,
          42.31651166245729,
          42.36013296686971,
          42.403754271282125,
          42.44737557569455,
          42.49099688010697,
          42.53461818451939,
          42.578239488931814,
          42.621860793344226,
          42.66548209775665,
          42.70910340216907,
          42.75272470658149,
          42.79634601099391,
          42.839967315406334,
          42.88358861981875,
          42.92720992423117,
          42.97083122864359,
          43.014452533056016,
          43.05807383746843,
          43.10169514188085,
          43.14531644629327,
          43.18893775070569,
          43.23255905511812,
          43.27618035953053,
          43.319801663942954,
          43.36342296835537,
          43.40704427276779,
          43.45066557718022,
          43.49428688159263,
          43.537908186005055,
          43.58152949041747,
          43.62515079482989,
          43.66877209924232,
          43.71239340365473,
          43.756014708067156,
          43.799636012479574,
          43.84325731689199,
          43.88687862130442,
          43.93049992571684,
          43.974121230129256,
          44.017742534541675,
          44.061363838954094,
          44.10498514336652,
          44.14860644777893,
          44.19222775219136
         ],
         "xaxis": "x",
         "y": {
          "bdata": "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",
          "dtype": "f8"
         },
         "yaxis": "y"
        },
        {
         "legendgroup": "Average",
         "marker": {
          "color": "#636EFA",
          "symbol": "line-ns-open"
         },
         "mode": "markers",
         "name": "Average",
         "showlegend": false,
         "type": "scatter",
         "x": {
          "bdata": "Fw6ix3dhQkAN283yJHJBQMs9jbDckzxAJWpXonYFRECe53me53lAQO0etr4NmEFA001iEFi5REAAAAAAAIVDQEMWspCF7DpA/Sn1p9SfOUDtc0hNMB5GQBqkQRqkwT1AYhBYObRIQkDVk/HbpR4/QK+hvIbymjxAywOSda48P0CzLMuyLMs+QD5g9oDZAz1At23btm0LQEBVVVVVValCQGlL2pK2pDpAAAAAAAAsQUBvMEU+6wY9QK0pa8qaskJAVoZvRIFJP0AyMjIyMrI+QExnMZ3F9DlAy6BUmHg/OEB6nud5nmdBQK7sc0hNMDtAm81ms9lsNkCRz7rBFPk4QEL0+C4cRDlA9qGxPjTWO0BPIyz3NAI3QOEQDuEQDj1AiMkVxOQKPEAAAAAAAAA7QGg84xnPeDxAy7d8y7f8P0BXaqVWaiVDQOh5nud5nj1AhCIUoQhFO0Acx3Ecx3E9QAAAAAAAQEVA+e1ST8ZvQEBYpAw83Zo7QGDvmBrYOzxAJ3VfHlsRQkB6nud5nuc4QA==",
          "dtype": "f8"
         },
         "xaxis": "x",
         "y": [
          "Average",
          "Average",
          "Average",
          "Average",
          "Average",
          "Average",
          "Average",
          "Average",
          "Average",
          "Average",
          "Average",
          "Average",
          "Average",
          "Average",
          "Average",
          "Average",
          "Average",
          "Average",
          "Average",
          "Average",
          "Average",
          "Average",
          "Average",
          "Average",
          "Average",
          "Average",
          "Average",
          "Average",
          "Average",
          "Average",
          "Average",
          "Average",
          "Average",
          "Average",
          "Average",
          "Average",
          "Average",
          "Average",
          "Average",
          "Average",
          "Average",
          "Average",
          "Average",
          "Average",
          "Average",
          "Average",
          "Average",
          "Average",
          "Average",
          "Average"
         ],
         "yaxis": "y2"
        }
       ],
       "layout": {
        "barmode": "overlay",
        "hovermode": "closest",
        "legend": {
         "traceorder": "reversed"
        },
        "template": {
         "data": {
          "bar": [
           {
            "error_x": {
             "color": "#2a3f5f"
            },
            "error_y": {
             "color": "#2a3f5f"
            },
            "marker": {
             "line": {
              "color": "white",
              "width": 0.5
             },
             "pattern": {
              "fillmode": "overlay",
              "size": 10,
              "solidity": 0.2
             }
            },
            "type": "bar"
           }
          ],
          "barpolar": [
           {
            "marker": {
             "line": {
              "color": "white",
              "width": 0.5
             },
             "pattern": {
              "fillmode": "overlay",
              "size": 10,
              "solidity": 0.2
             }
            },
            "type": "barpolar"
           }
          ],
          "carpet": [
           {
            "aaxis": {
             "endlinecolor": "#2a3f5f",
             "gridcolor": "#C8D4E3",
             "linecolor": "#C8D4E3",
             "minorgridcolor": "#C8D4E3",
             "startlinecolor": "#2a3f5f"
            },
            "baxis": {
             "endlinecolor": "#2a3f5f",
             "gridcolor": "#C8D4E3",
             "linecolor": "#C8D4E3",
             "minorgridcolor": "#C8D4E3",
             "startlinecolor": "#2a3f5f"
            },
            "type": "carpet"
           }
          ],
          "choropleth": [
           {
            "colorbar": {
             "outlinewidth": 0,
             "ticks": ""
            },
            "type": "choropleth"
           }
          ],
          "contour": [
           {
            "colorbar": {
             "outlinewidth": 0,
             "ticks": ""
            },
            "colorscale": [
             [
              0,
              "#0d0887"
             ],
             [
              0.1111111111111111,
              "#46039f"
             ],
             [
              0.2222222222222222,
              "#7201a8"
             ],
             [
              0.3333333333333333,
              "#9c179e"
             ],
             [
              0.4444444444444444,
              "#bd3786"
             ],
             [
              0.5555555555555556,
              "#d8576b"
             ],
             [
              0.6666666666666666,
              "#ed7953"
             ],
             [
              0.7777777777777778,
              "#fb9f3a"
             ],
             [
              0.8888888888888888,
              "#fdca26"
             ],
             [
              1,
              "#f0f921"
             ]
            ],
            "type": "contour"
           }
          ],
          "contourcarpet": [
           {
            "colorbar": {
             "outlinewidth": 0,
             "ticks": ""
            },
            "type": "contourcarpet"
           }
          ],
          "heatmap": [
           {
            "colorbar": {
             "outlinewidth": 0,
             "ticks": ""
            },
            "colorscale": [
             [
              0,
              "#0d0887"
             ],
             [
              0.1111111111111111,
              "#46039f"
             ],
             [
              0.2222222222222222,
              "#7201a8"
             ],
             [
              0.3333333333333333,
              "#9c179e"
             ],
             [
              0.4444444444444444,
              "#bd3786"
             ],
             [
              0.5555555555555556,
              "#d8576b"
             ],
             [
              0.6666666666666666,
              "#ed7953"
             ],
             [
              0.7777777777777778,
              "#fb9f3a"
             ],
             [
              0.8888888888888888,
              "#fdca26"
             ],
             [
              1,
              "#f0f921"
             ]
            ],
            "type": "heatmap"
           }
          ],
          "histogram": [
           {
            "marker": {
             "pattern": {
              "fillmode": "overlay",
              "size": 10,
              "solidity": 0.2
             }
            },
            "type": "histogram"
           }
          ],
          "histogram2d": [
           {
            "colorbar": {
             "outlinewidth": 0,
             "ticks": ""
            },
            "colorscale": [
             [
              0,
              "#0d0887"
             ],
             [
              0.1111111111111111,
              "#46039f"
             ],
             [
              0.2222222222222222,
              "#7201a8"
             ],
             [
              0.3333333333333333,
              "#9c179e"
             ],
             [
              0.4444444444444444,
              "#bd3786"
             ],
             [
              0.5555555555555556,
              "#d8576b"
             ],
             [
              0.6666666666666666,
              "#ed7953"
             ],
             [
              0.7777777777777778,
              "#fb9f3a"
             ],
             [
              0.8888888888888888,
              "#fdca26"
             ],
             [
              1,
              "#f0f921"
             ]
            ],
            "type": "histogram2d"
           }
          ],
          "histogram2dcontour": [
           {
            "colorbar": {
             "outlinewidth": 0,
             "ticks": ""
            },
            "colorscale": [
             [
              0,
              "#0d0887"
             ],
             [
              0.1111111111111111,
              "#46039f"
             ],
             [
              0.2222222222222222,
              "#7201a8"
             ],
             [
              0.3333333333333333,
              "#9c179e"
             ],
             [
              0.4444444444444444,
              "#bd3786"
             ],
             [
              0.5555555555555556,
              "#d8576b"
             ],
             [
              0.6666666666666666,
              "#ed7953"
             ],
             [
              0.7777777777777778,
              "#fb9f3a"
             ],
             [
              0.8888888888888888,
              "#fdca26"
             ],
             [
              1,
              "#f0f921"
             ]
            ],
            "type": "histogram2dcontour"
           }
          ],
          "mesh3d": [
           {
            "colorbar": {
             "outlinewidth": 0,
             "ticks": ""
            },
            "type": "mesh3d"
           }
          ],
          "parcoords": [
           {
            "line": {
             "colorbar": {
              "outlinewidth": 0,
              "ticks": ""
             }
            },
            "type": "parcoords"
           }
          ],
          "pie": [
           {
            "automargin": true,
            "type": "pie"
           }
          ],
          "scatter": [
           {
            "fillpattern": {
             "fillmode": "overlay",
             "size": 10,
             "solidity": 0.2
            },
            "type": "scatter"
           }
          ],
          "scatter3d": [
           {
            "line": {
             "colorbar": {
              "outlinewidth": 0,
              "ticks": ""
             }
            },
            "marker": {
             "colorbar": {
              "outlinewidth": 0,
              "ticks": ""
             }
            },
            "type": "scatter3d"
           }
          ],
          "scattercarpet": [
           {
            "marker": {
             "colorbar": {
              "outlinewidth": 0,
              "ticks": ""
             }
            },
            "type": "scattercarpet"
           }
          ],
          "scattergeo": [
           {
            "marker": {
             "colorbar": {
              "outlinewidth": 0,
              "ticks": ""
             }
            },
            "type": "scattergeo"
           }
          ],
          "scattergl": [
           {
            "marker": {
             "colorbar": {
              "outlinewidth": 0,
              "ticks": ""
             }
            },
            "type": "scattergl"
           }
          ],
          "scattermap": [
           {
            "marker": {
             "colorbar": {
              "outlinewidth": 0,
              "ticks": ""
             }
            },
            "type": "scattermap"
           }
          ],
          "scattermapbox": [
           {
            "marker": {
             "colorbar": {
              "outlinewidth": 0,
              "ticks": ""
             }
            },
            "type": "scattermapbox"
           }
          ],
          "scatterpolar": [
           {
            "marker": {
             "colorbar": {
              "outlinewidth": 0,
              "ticks": ""
             }
            },
            "type": "scatterpolar"
           }
          ],
          "scatterpolargl": [
           {
            "marker": {
             "colorbar": {
              "outlinewidth": 0,
              "ticks": ""
             }
            },
            "type": "scatterpolargl"
           }
          ],
          "scatterternary": [
           {
            "marker": {
             "colorbar": {
              "outlinewidth": 0,
              "ticks": ""
             }
            },
            "type": "scatterternary"
           }
          ],
          "surface": [
           {
            "colorbar": {
             "outlinewidth": 0,
             "ticks": ""
            },
            "colorscale": [
             [
              0,
              "#0d0887"
             ],
             [
              0.1111111111111111,
              "#46039f"
             ],
             [
              0.2222222222222222,
              "#7201a8"
             ],
             [
              0.3333333333333333,
              "#9c179e"
             ],
             [
              0.4444444444444444,
              "#bd3786"
             ],
             [
              0.5555555555555556,
              "#d8576b"
             ],
             [
              0.6666666666666666,
              "#ed7953"
             ],
             [
              0.7777777777777778,
              "#fb9f3a"
             ],
             [
              0.8888888888888888,
              "#fdca26"
             ],
             [
              1,
              "#f0f921"
             ]
            ],
            "type": "surface"
           }
          ],
          "table": [
           {
            "cells": {
             "fill": {
              "color": "#EBF0F8"
             },
             "line": {
              "color": "white"
             }
            },
            "header": {
             "fill": {
              "color": "#C8D4E3"
             },
             "line": {
              "color": "white"
             }
            },
            "type": "table"
           }
          ]
         },
         "layout": {
          "annotationdefaults": {
           "arrowcolor": "#2a3f5f",
           "arrowhead": 0,
           "arrowwidth": 1
          },
          "autotypenumbers": "strict",
          "coloraxis": {
           "colorbar": {
            "outlinewidth": 0,
            "ticks": ""
           }
          },
          "colorscale": {
           "diverging": [
            [
             0,
             "#8e0152"
            ],
            [
             0.1,
             "#c51b7d"
            ],
            [
             0.2,
             "#de77ae"
            ],
            [
             0.3,
             "#f1b6da"
            ],
            [
             0.4,
             "#fde0ef"
            ],
            [
             0.5,
             "#f7f7f7"
            ],
            [
             0.6,
             "#e6f5d0"
            ],
            [
             0.7,
             "#b8e186"
            ],
            [
             0.8,
             "#7fbc41"
            ],
            [
             0.9,
             "#4d9221"
            ],
            [
             1,
             "#276419"
            ]
           ],
           "sequential": [
            [
             0,
             "#0d0887"
            ],
            [
             0.1111111111111111,
             "#46039f"
            ],
            [
             0.2222222222222222,
             "#7201a8"
            ],
            [
             0.3333333333333333,
             "#9c179e"
            ],
            [
             0.4444444444444444,
             "#bd3786"
            ],
            [
             0.5555555555555556,
             "#d8576b"
            ],
            [
             0.6666666666666666,
             "#ed7953"
            ],
            [
             0.7777777777777778,
             "#fb9f3a"
            ],
            [
             0.8888888888888888,
             "#fdca26"
            ],
            [
             1,
             "#f0f921"
            ]
           ],
           "sequentialminus": [
            [
             0,
             "#0d0887"
            ],
            [
             0.1111111111111111,
             "#46039f"
            ],
            [
             0.2222222222222222,
             "#7201a8"
            ],
            [
             0.3333333333333333,
             "#9c179e"
            ],
            [
             0.4444444444444444,
             "#bd3786"
            ],
            [
             0.5555555555555556,
             "#d8576b"
            ],
            [
             0.6666666666666666,
             "#ed7953"
            ],
            [
             0.7777777777777778,
             "#fb9f3a"
            ],
            [
             0.8888888888888888,
             "#fdca26"
            ],
            [
             1,
             "#f0f921"
            ]
           ]
          },
          "colorway": [
           "#636efa",
           "#EF553B",
           "#00cc96",
           "#ab63fa",
           "#FFA15A",
           "#19d3f3",
           "#FF6692",
           "#B6E880",
           "#FF97FF",
           "#FECB52"
          ],
          "font": {
           "color": "#2a3f5f"
          },
          "geo": {
           "bgcolor": "white",
           "lakecolor": "white",
           "landcolor": "white",
           "showlakes": true,
           "showland": true,
           "subunitcolor": "#C8D4E3"
          },
          "hoverlabel": {
           "align": "left"
          },
          "hovermode": "closest",
          "mapbox": {
           "style": "light"
          },
          "paper_bgcolor": "white",
          "plot_bgcolor": "white",
          "polar": {
           "angularaxis": {
            "gridcolor": "#EBF0F8",
            "linecolor": "#EBF0F8",
            "ticks": ""
           },
           "bgcolor": "white",
           "radialaxis": {
            "gridcolor": "#EBF0F8",
            "linecolor": "#EBF0F8",
            "ticks": ""
           }
          },
          "scene": {
           "xaxis": {
            "backgroundcolor": "white",
            "gridcolor": "#DFE8F3",
            "gridwidth": 2,
            "linecolor": "#EBF0F8",
            "showbackground": true,
            "ticks": "",
            "zerolinecolor": "#EBF0F8"
           },
           "yaxis": {
            "backgroundcolor": "white",
            "gridcolor": "#DFE8F3",
            "gridwidth": 2,
            "linecolor": "#EBF0F8",
            "showbackground": true,
            "ticks": "",
            "zerolinecolor": "#EBF0F8"
           },
           "zaxis": {
            "backgroundcolor": "white",
            "gridcolor": "#DFE8F3",
            "gridwidth": 2,
            "linecolor": "#EBF0F8",
            "showbackground": true,
            "ticks": "",
            "zerolinecolor": "#EBF0F8"
           }
          },
          "shapedefaults": {
           "line": {
            "color": "#2a3f5f"
           }
          },
          "ternary": {
           "aaxis": {
            "gridcolor": "#DFE8F3",
            "linecolor": "#A2B1C6",
            "ticks": ""
           },
           "baxis": {
            "gridcolor": "#DFE8F3",
            "linecolor": "#A2B1C6",
            "ticks": ""
           },
           "bgcolor": "white",
           "caxis": {
            "gridcolor": "#DFE8F3",
            "linecolor": "#A2B1C6",
            "ticks": ""
           }
          },
          "title": {
           "x": 0.05
          },
          "xaxis": {
           "automargin": true,
           "gridcolor": "#EBF0F8",
           "linecolor": "#EBF0F8",
           "ticks": "",
           "title": {
            "standoff": 15
           },
           "zerolinecolor": "#EBF0F8",
           "zerolinewidth": 2
          },
          "yaxis": {
           "automargin": true,
           "gridcolor": "#EBF0F8",
           "linecolor": "#EBF0F8",
           "ticks": "",
           "title": {
            "standoff": 15
           },
           "zerolinecolor": "#EBF0F8",
           "zerolinewidth": 2
          }
         }
        },
        "title": {
         "text": "Distribution of Top 50 Batsmen Averages"
        },
        "xaxis": {
         "anchor": "y2",
         "domain": [
          0,
          1
         ],
         "title": {
          "text": "Average"
         },
         "zeroline": false
        },
        "yaxis": {
         "anchor": "free",
         "domain": [
          0.35,
          1
         ],
         "position": 0,
         "title": {
          "text": "Density"
         }
        },
        "yaxis2": {
         "anchor": "x",
         "domain": [
          0,
          0.25
         ],
         "dtick": 1,
         "showticklabels": false
        }
       }
      }
     },
     "metadata": {},
     "output_type": "display_data"
    }
   ],
   "source": [
    "hist_data = [top50_batsman_summary['average']]\n",
    "group_labels = ['Average']\n",
    "colors = ['#636EFA']\n",
    "\n",
    "fig = ff.create_distplot(\n",
    "    hist_data,\n",
    "    group_labels,\n",
    "    bin_size=5,\n",
    "    curve_type='kde',\n",
    "    show_hist=True,\n",
    "    show_rug=True,\n",
    "    colors=colors\n",
    ")\n",
    "\n",
    "fig.update_layout(\n",
    "    title=\"Distribution of Top 50 Batsmen Averages\",\n",
    "    xaxis_title=\"Average\",\n",
    "    yaxis_title=\"Density\",\n",
    "    template='plotly_white'\n",
    ")\n",
    "\n",
    "fig.show()\n"
   ]
  },
  {
   "cell_type": "markdown",
   "id": "c3eb1fbf",
   "metadata": {},
   "source": [
    "<span style=\"font-size: 18px;\"> <b>Multiple data comparison"
   ]
  },
  {
   "cell_type": "code",
   "execution_count": 238,
   "id": "60f6d5de",
   "metadata": {},
   "outputs": [
    {
     "data": {
      "application/vnd.plotly.v1+json": {
       "config": {
        "plotlyServerURL": "https://plot.ly"
       },
       "data": [
        {
         "autobinx": false,
         "histnorm": "probability density",
         "legendgroup": "Average",
         "marker": {
          "color": "rgb(31, 119, 180)"
         },
         "name": "Average",
         "opacity": 0.7,
         "type": "histogram",
         "x": {
          "bdata": "Fw6ix3dhQkAN283yJHJBQMs9jbDckzxAJWpXonYFRECe53me53lAQO0etr4NmEFA001iEFi5REAAAAAAAIVDQEMWspCF7DpA/Sn1p9SfOUDtc0hNMB5GQBqkQRqkwT1AYhBYObRIQkDVk/HbpR4/QK+hvIbymjxAywOSda48P0CzLMuyLMs+QD5g9oDZAz1At23btm0LQEBVVVVVValCQGlL2pK2pDpAAAAAAAAsQUBvMEU+6wY9QK0pa8qaskJAVoZvRIFJP0AyMjIyMrI+QExnMZ3F9DlAy6BUmHg/OEB6nud5nmdBQK7sc0hNMDtAm81ms9lsNkCRz7rBFPk4QEL0+C4cRDlA9qGxPjTWO0BPIyz3NAI3QOEQDuEQDj1AiMkVxOQKPEAAAAAAAAA7QGg84xnPeDxAy7d8y7f8P0BXaqVWaiVDQOh5nud5nj1AhCIUoQhFO0Acx3Ecx3E9QAAAAAAAQEVA+e1ST8ZvQEBYpAw83Zo7QGDvmBrYOzxAJ3VfHlsRQkB6nud5nuc4QA==",
          "dtype": "f8"
         },
         "xaxis": "x",
         "xbins": {
          "end": 44.235849056603776,
          "size": 5,
          "start": 22.4251968503937
         },
         "yaxis": "y"
        },
        {
         "autobinx": false,
         "histnorm": "probability density",
         "legendgroup": "Strike_rate",
         "marker": {
          "color": "rgb(255, 127, 14)"
         },
         "name": "Strike_rate",
         "opacity": 0.7,
         "type": "histogram",
         "x": {
          "bdata": "aj0GNmEQYEAz5Tl4E91eQLuDK7HD+l9A4OgVccLtYEAP6oVHIZFgQEKeaNm4mmBAM9VY+pKSYkAV5rY05cNhQGWQz/C+iV9AOf2XFU9rYEDcrZWyoGFgQJzhfPuRFF5AzOSGSkiiYEBHKuZWZ+RgQKwO3ORoJV9A6b7f3pHqXUABOcUBOcVgQM5ccX5vV11AqfYluTDQYUAnsjHBpcdhQDmPaYGljmFAg/MxOB/zYUBA03MQe0FhQHkN5TWUh2BAwtljwtljYEBGhK1zosFeQJMeCr2qG19AG0yRz7r5XkB6T7o859VgQMr47VJPtl9ADQG/vQsoXUCk2Rmbos9iQGox6sM5Ml9A03FpRXeaYkBpDTNBLghgQNj+rtmFmWBAH1XeFjRaYECoN73pTaddQLj/IgwfdmFA4FiWdv4zX0Blo1NHg0NgQK09+Xcuh2RAsnry4ut7WkD5eITx8YhgQMncANI/tGBAwIABAwaMXEDxwQcffPBgQE7hTCA5VlxA6a1xNfm8XkBDaoLxVtZeQA==",
          "dtype": "f8"
         },
         "xaxis": "x",
         "xbins": {
          "end": 164.22442244224422,
          "size": 10,
          "start": 105.93627237014405
         },
         "yaxis": "y"
        },
        {
         "legendgroup": "Average",
         "marker": {
          "color": "rgb(31, 119, 180)"
         },
         "mode": "lines",
         "name": "Average",
         "showlegend": false,
         "type": "scatter",
         "x": [
          22.4251968503937,
          22.46881815480612,
          22.51243945921854,
          22.55606076363096,
          22.599682068043382,
          22.6433033724558,
          22.68692467686822,
          22.730545981280642,
          22.77416728569306,
          22.817788590105483,
          22.8614098945179,
          22.90503119893032,
          22.948652503342743,
          22.99227380775516,
          23.035895112167584,
          23.079516416580002,
          23.12313772099242,
          23.166759025404843,
          23.210380329817262,
          23.254001634229684,
          23.297622938642103,
          23.341244243054522,
          23.384865547466944,
          23.428486851879363,
          23.472108156291785,
          23.515729460704204,
          23.559350765116623,
          23.602972069529045,
          23.646593373941464,
          23.690214678353886,
          23.733835982766305,
          23.777457287178724,
          23.821078591591146,
          23.864699896003565,
          23.908321200415987,
          23.951942504828406,
          23.995563809240824,
          24.039185113653247,
          24.082806418065665,
          24.126427722478088,
          24.170049026890506,
          24.213670331302925,
          24.257291635715347,
          24.300912940127766,
          24.34453424454019,
          24.388155548952607,
          24.431776853365026,
          24.475398157777448,
          24.519019462189867,
          24.562640766602286,
          24.606262071014708,
          24.649883375427127,
          24.69350467983955,
          24.737125984251968,
          24.780747288664386,
          24.82436859307681,
          24.867989897489228,
          24.91161120190165,
          24.95523250631407,
          24.998853810726487,
          25.04247511513891,
          25.08609641955133,
          25.12971772396375,
          25.17333902837617,
          25.216960332788588,
          25.26058163720101,
          25.30420294161343,
          25.34782424602585,
          25.39144555043827,
          25.43506685485069,
          25.47868815926311,
          25.52230946367553,
          25.565930768087952,
          25.60955207250037,
          25.65317337691279,
          25.696794681325212,
          25.74041598573763,
          25.784037290150053,
          25.82765859456247,
          25.87127989897489,
          25.914901203387313,
          25.95852250779973,
          26.002143812212154,
          26.045765116624572,
          26.08938642103699,
          26.133007725449414,
          26.176629029861832,
          26.220250334274255,
          26.263871638686673,
          26.307492943099092,
          26.351114247511514,
          26.394735551923933,
          26.438356856336355,
          26.481978160748774,
          26.525599465161193,
          26.569220769573615,
          26.612842073986034,
          26.656463378398456,
          26.700084682810875,
          26.743705987223294,
          26.787327291635716,
          26.830948596048135,
          26.874569900460557,
          26.918191204872976,
          26.961812509285394,
          27.005433813697817,
          27.049055118110235,
          27.092676422522658,
          27.136297726935076,
          27.179919031347495,
          27.223540335759917,
          27.267161640172336,
          27.31078294458476,
          27.354404248997177,
          27.398025553409596,
          27.44164685782202,
          27.485268162234437,
          27.52888946664686,
          27.572510771059278,
          27.616132075471697,
          27.65975337988412,
          27.703374684296538,
          27.74699598870896,
          27.79061729312138,
          27.834238597533798,
          27.87785990194622,
          27.92148120635864,
          27.96510251077106,
          28.00872381518348,
          28.0523451195959,
          28.09596642400832,
          28.13958772842074,
          28.18320903283316,
          28.22683033724558,
          28.270451641658,
          28.314072946070418,
          28.35769425048284,
          28.401315554895262,
          28.44493685930768,
          28.4885581637201,
          28.532179468132522,
          28.57580077254494,
          28.619422076957363,
          28.663043381369782,
          28.7066646857822,
          28.75028599019462,
          28.793907294607042,
          28.837528599019464,
          28.881149903431883,
          28.9247712078443,
          28.968392512256724,
          29.012013816669143,
          29.055635121081565,
          29.099256425493984,
          29.142877729906402,
          29.18649903431882,
          29.230120338731243,
          29.273741643143666,
          29.317362947556084,
          29.360984251968503,
          29.404605556380925,
          29.448226860793344,
          29.491848165205766,
          29.535469469618185,
          29.579090774030604,
          29.622712078443023,
          29.666333382855445,
          29.709954687267867,
          29.753575991680286,
          29.797197296092705,
          29.840818600505127,
          29.884439904917546,
          29.928061209329968,
          29.971682513742387,
          30.015303818154806,
          30.058925122567224,
          30.102546426979647,
          30.14616773139207,
          30.189789035804488,
          30.233410340216906,
          30.27703164462933,
          30.320652949041747,
          30.36427425345417,
          30.40789555786659,
          30.451516862279007,
          30.495138166691426,
          30.538759471103848,
          30.58238077551627,
          30.62600207992869,
          30.669623384341108,
          30.713244688753527,
          30.75686599316595,
          30.80048729757837,
          30.84410860199079,
          30.88772990640321,
          30.931351210815627,
          30.97497251522805,
          31.01859381964047,
          31.06221512405289,
          31.10583642846531,
          31.14945773287773,
          31.19307903729015,
          31.236700341702573,
          31.28032164611499,
          31.32394295052741,
          31.36756425493983,
          31.41118555935225,
          31.454806863764674,
          31.498428168177092,
          31.54204947258951,
          31.58567077700193,
          31.629292081414352,
          31.672913385826774,
          31.716534690239193,
          31.760155994651612,
          31.80377729906403,
          31.847398603476453,
          31.89101990788887,
          31.934641212301294,
          31.978262516713713,
          32.02188382112613,
          32.06550512553855,
          32.109126429950976,
          32.152747734363395,
          32.19636903877581,
          32.23999034318823,
          32.28361164760065,
          32.32723295201308,
          32.370854256425496,
          32.414475560837914,
          32.45809686525033,
          32.50171816966275,
          32.54533947407518,
          32.588960778487596,
          32.632582082900015,
          32.676203387312434,
          32.71982469172485,
          32.76344599613728,
          32.8070673005497,
          32.850688604962116,
          32.894309909374535,
          32.93793121378695,
          32.98155251819938,
          33.0251738226118,
          33.06879512702422,
          33.112416431436635,
          33.156037735849054,
          33.19965904026148,
          33.2432803446739,
          33.28690164908632,
          33.330522953498736,
          33.374144257911155,
          33.41776556232358,
          33.461386866736,
          33.50500817114842,
          33.54862947556084,
          33.592250779973256,
          33.63587208438568,
          33.6794933887981,
          33.72311469321052,
          33.76673599762294,
          33.81035730203536,
          33.85397860644778,
          33.8975999108602,
          33.94122121527262,
          33.98484251968504,
          34.02846382409746,
          34.07208512850988,
          34.1157064329223,
          34.15932773733472,
          34.20294904174714,
          34.24657034615956,
          34.290191650571984,
          34.3338129549844,
          34.37743425939682,
          34.42105556380924,
          34.46467686822166,
          34.508298172634085,
          34.5519194770465,
          34.59554078145892,
          34.63916208587134,
          34.68278339028376,
          34.726404694696186,
          34.770025999108604,
          34.81364730352102,
          34.85726860793344,
          34.90088991234586,
          34.944511216758286,
          34.988132521170705,
          35.031753825583124,
          35.07537512999554,
          35.11899643440796,
          35.16261773882039,
          35.206239043232806,
          35.249860347645225,
          35.29348165205764,
          35.33710295647006,
          35.38072426088249,
          35.42434556529491,
          35.467966869707325,
          35.511588174119744,
          35.55520947853216,
          35.59883078294459,
          35.64245208735701,
          35.686073391769426,
          35.729694696181845,
          35.773316000594264,
          35.81693730500669,
          35.86055860941911,
          35.90417991383153,
          35.947801218243946,
          35.991422522656364,
          36.03504382706879,
          36.07866513148121,
          36.12228643589363,
          36.16590774030605,
          36.209529044718465,
          36.25315034913089,
          36.29677165354331,
          36.34039295795573,
          36.38401426236815,
          36.427635566780566,
          36.47125687119299,
          36.51487817560541,
          36.55849948001783,
          36.60212078443025,
          36.64574208884267,
          36.68936339325509,
          36.73298469766751,
          36.77660600207993,
          36.82022730649235,
          36.86384861090477,
          36.90746991531719,
          36.95109121972961,
          36.99471252414203,
          37.03833382855445,
          37.08195513296687,
          37.125576437379294,
          37.16919774179171,
          37.21281904620413,
          37.25644035061655,
          37.30006165502897,
          37.343682959441395,
          37.387304263853814,
          37.43092556826623,
          37.47454687267865,
          37.51816817709107,
          37.561789481503496,
          37.605410785915915,
          37.64903209032833,
          37.69265339474075,
          37.73627469915317,
          37.7798960035656,
          37.823517307978015,
          37.867138612390434,
          37.91075991680285,
          37.95438122121527,
          37.9980025256277,
          38.041623830040116,
          38.085245134452535,
          38.128866438864954,
          38.17248774327737,
          38.2161090476898,
          38.25973035210222,
          38.303351656514636,
          38.346972960927054,
          38.39059426533947,
          38.4342155697519,
          38.47783687416432,
          38.52145817857674,
          38.565079482989155,
          38.608700787401574,
          38.652322091814,
          38.69594339622642,
          38.73956470063884,
          38.783186005051256,
          38.826807309463675,
          38.8704286138761,
          38.91404991828852,
          38.95767122270094,
          39.00129252711336,
          39.044913831525776,
          39.0885351359382,
          39.13215644035061,
          39.17577774476304,
          39.21939904917546,
          39.263020353587876,
          39.3066416580003,
          39.35026296241272,
          39.39388426682514,
          39.43750557123756,
          39.48112687564998,
          39.5247481800624,
          39.568369484474815,
          39.61199078888724,
          39.655612093299666,
          39.69923339771208,
          39.742854702124504,
          39.786476006536915,
          39.83009731094934,
          39.87371861536176,
          39.91733991977418,
          39.960961224186605,
          40.00458252859902,
          40.04820383301144,
          40.09182513742386,
          40.13544644183628,
          40.179067746248705,
          40.22268905066112,
          40.26631035507354,
          40.30993165948596,
          40.35355296389838,
          40.397174268310806,
          40.440795572723225,
          40.484416877135644,
          40.52803818154806,
          40.57165948596048,
          40.61528079037291,
          40.65890209478532,
          40.702523399197744,
          40.74614470361016,
          40.78976600802258,
          40.83338731243501,
          40.87700861684742,
          40.920629921259845,
          40.964251225672264,
          41.00787253008468,
          41.05149383449711,
          41.09511513890953,
          41.138736443321946,
          41.182357747734365,
          41.22597905214678,
          41.26960035655921,
          41.31322166097162,
          41.35684296538405,
          41.40046426979647,
          41.444085574208884,
          41.48770687862131,
          41.53132818303372,
          41.57494948744615,
          41.618570791858566,
          41.662192096270985,
          41.70581340068341,
          41.74943470509583,
          41.79305600950825,
          41.83667731392067,
          41.880298618333086,
          41.92391992274551,
          41.96754122715792,
          42.01116253157035,
          42.05478383598277,
          42.09840514039519,
          42.14202644480761,
          42.18564774922003,
          42.22926905363245,
          42.27289035804487,
          42.31651166245729,
          42.36013296686971,
          42.403754271282125,
          42.44737557569455,
          42.49099688010697,
          42.53461818451939,
          42.578239488931814,
          42.621860793344226,
          42.66548209775665,
          42.70910340216907,
          42.75272470658149,
          42.79634601099391,
          42.839967315406334,
          42.88358861981875,
          42.92720992423117,
          42.97083122864359,
          43.014452533056016,
          43.05807383746843,
          43.10169514188085,
          43.14531644629327,
          43.18893775070569,
          43.23255905511812,
          43.27618035953053,
          43.319801663942954,
          43.36342296835537,
          43.40704427276779,
          43.45066557718022,
          43.49428688159263,
          43.537908186005055,
          43.58152949041747,
          43.62515079482989,
          43.66877209924232,
          43.71239340365473,
          43.756014708067156,
          43.799636012479574,
          43.84325731689199,
          43.88687862130442,
          43.93049992571684,
          43.974121230129256,
          44.017742534541675,
          44.061363838954094,
          44.10498514336652,
          44.14860644777893,
          44.19222775219136
         ],
         "xaxis": "x",
         "y": {
          "bdata": "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",
          "dtype": "f8"
         },
         "yaxis": "y"
        },
        {
         "legendgroup": "Strike_rate",
         "marker": {
          "color": "rgb(255, 127, 14)"
         },
         "mode": "lines",
         "name": "Strike_rate",
         "showlegend": false,
         "type": "scatter",
         "x": [
          105.93627237014405,
          106.05284867028826,
          106.16942497043246,
          106.28600127057665,
          106.40257757072085,
          106.51915387086505,
          106.63573017100926,
          106.75230647115346,
          106.86888277129765,
          106.98545907144185,
          107.10203537158606,
          107.21861167173026,
          107.33518797187446,
          107.45176427201866,
          107.56834057216285,
          107.68491687230706,
          107.80149317245126,
          107.91806947259546,
          108.03464577273967,
          108.15122207288385,
          108.26779837302806,
          108.38437467317226,
          108.50095097331646,
          108.61752727346067,
          108.73410357360486,
          108.85067987374906,
          108.96725617389326,
          109.08383247403746,
          109.20040877418167,
          109.31698507432586,
          109.43356137447006,
          109.55013767461426,
          109.66671397475847,
          109.78329027490267,
          109.89986657504686,
          110.01644287519106,
          110.13301917533526,
          110.24959547547947,
          110.36617177562367,
          110.48274807576786,
          110.59932437591206,
          110.71590067605626,
          110.83247697620047,
          110.94905327634467,
          111.06562957648887,
          111.18220587663306,
          111.29878217677727,
          111.41535847692147,
          111.53193477706567,
          111.64851107720987,
          111.76508737735406,
          111.88166367749827,
          111.99823997764247,
          112.11481627778667,
          112.23139257793088,
          112.34796887807506,
          112.46454517821927,
          112.58112147836347,
          112.69769777850767,
          112.81427407865188,
          112.93085037879607,
          113.04742667894027,
          113.16400297908447,
          113.28057927922868,
          113.39715557937288,
          113.51373187951708,
          113.63030817966127,
          113.74688447980547,
          113.86346077994968,
          113.98003708009388,
          114.09661338023808,
          114.21318968038227,
          114.32976598052647,
          114.44634228067068,
          114.56291858081488,
          114.67949488095908,
          114.79607118110329,
          114.91264748124748,
          115.02922378139168,
          115.14580008153588,
          115.26237638168008,
          115.37895268182427,
          115.49552898196848,
          115.61210528211268,
          115.72868158225688,
          115.84525788240109,
          115.96183418254529,
          116.07841048268948,
          116.19498678283368,
          116.31156308297788,
          116.42813938312209,
          116.54471568326628,
          116.66129198341048,
          116.77786828355468,
          116.89444458369888,
          117.01102088384309,
          117.12759718398729,
          117.24417348413148,
          117.36074978427568,
          117.47732608441989,
          117.59390238456409,
          117.71047868470829,
          117.82705498485248,
          117.94363128499668,
          118.06020758514089,
          118.17678388528509,
          118.2933601854293,
          118.4099364855735,
          118.52651278571769,
          118.64308908586189,
          118.75966538600609,
          118.8762416861503,
          118.99281798629448,
          119.10939428643869,
          119.22597058658289,
          119.34254688672709,
          119.4591231868713,
          119.5756994870155,
          119.69227578715969,
          119.80885208730389,
          119.9254283874481,
          120.0420046875923,
          120.15858098773649,
          120.27515728788069,
          120.39173358802489,
          120.5083098881691,
          120.6248861883133,
          120.7414624884575,
          120.85803878860169,
          120.97461508874589,
          121.0911913888901,
          121.2077676890343,
          121.3243439891785,
          121.44092028932269,
          121.5574965894669,
          121.6740728896111,
          121.7906491897553,
          121.9072254898995,
          122.0238017900437,
          122.1403780901879,
          122.2569543903321,
          122.3735306904763,
          122.4901069906205,
          122.60668329076469,
          122.7232595909089,
          122.8398358910531,
          122.9564121911973,
          123.0729884913415,
          123.18956479148571,
          123.30614109162991,
          123.4227173917741,
          123.5392936919183,
          123.6558699920625,
          123.77244629220671,
          123.8890225923509,
          124.0055988924951,
          124.1221751926393,
          124.2387514927835,
          124.35532779292771,
          124.47190409307191,
          124.5884803932161,
          124.7050566933603,
          124.82163299350451,
          124.93820929364871,
          125.0547855937929,
          125.1713618939371,
          125.2879381940813,
          125.40451449422551,
          125.52109079436971,
          125.63766709451392,
          125.7542433946581,
          125.87081969480231,
          125.98739599494651,
          126.10397229509071,
          126.2205485952349,
          126.3371248953791,
          126.45370119552331,
          126.57027749566751,
          126.68685379581171,
          126.80343009595592,
          126.92000639610012,
          127.03658269624431,
          127.15315899638851,
          127.26973529653272,
          127.38631159667692,
          127.50288789682111,
          127.61946419696531,
          127.73604049710951,
          127.85261679725372,
          127.96919309739792,
          128.08576939754212,
          128.20234569768633,
          128.31892199783053,
          128.4354982979747,
          128.5520745981189,
          128.6686508982631,
          128.7852271984073,
          128.90180349855152,
          129.01837979869572,
          129.13495609883992,
          129.25153239898412,
          129.36810869912833,
          129.48468499927253,
          129.6012612994167,
          129.71783759956094,
          129.8344138997051,
          129.95099019984931,
          130.06756649999352,
          130.18414280013772,
          130.30071910028192,
          130.41729540042613,
          130.53387170057033,
          130.65044800071453,
          130.76702430085874,
          130.8836006010029,
          131.0001769011471,
          131.11675320129132,
          131.23332950143552,
          131.34990580157972,
          131.46648210172393,
          131.58305840186813,
          131.69963470201233,
          131.81621100215654,
          131.93278730230074,
          132.04936360244494,
          132.16593990258912,
          132.28251620273332,
          132.39909250287752,
          132.51566880302173,
          132.63224510316593,
          132.74882140331013,
          132.86539770345433,
          132.98197400359854,
          133.09855030374274,
          133.21512660388692,
          133.33170290403112,
          133.44827920417532,
          133.56485550431952,
          133.68143180446373,
          133.79800810460793,
          133.91458440475213,
          134.03116070489634,
          134.14773700504054,
          134.26431330518474,
          134.38088960532895,
          134.49746590547312,
          134.61404220561732,
          134.73061850576153,
          134.84719480590573,
          134.96377110604993,
          135.08034740619414,
          135.19692370633834,
          135.31350000648254,
          135.43007630662675,
          135.54665260677095,
          135.66322890691515,
          135.77980520705933,
          135.89638150720353,
          136.01295780734773,
          136.12953410749193,
          136.24611040763614,
          136.36268670778034,
          136.47926300792454,
          136.59583930806875,
          136.71241560821295,
          136.82899190835715,
          136.94556820850136,
          137.06214450864553,
          137.17872080878973,
          137.29529710893394,
          137.41187340907814,
          137.52844970922234,
          137.64502600936655,
          137.76160230951075,
          137.87817860965495,
          137.99475490979916,
          138.11133120994333,
          138.22790751008756,
          138.34448381023174,
          138.46106011037594,
          138.57763641052014,
          138.69421271066435,
          138.81078901080855,
          138.92736531095275,
          139.04394161109695,
          139.16051791124116,
          139.27709421138536,
          139.39367051152954,
          139.51024681167374,
          139.62682311181794,
          139.74339941196214,
          139.85997571210635,
          139.97655201225055,
          140.09312831239475,
          140.20970461253896,
          140.32628091268316,
          140.44285721282733,
          140.55943351297157,
          140.67600981311574,
          140.79258611325994,
          140.90916241340415,
          141.02573871354835,
          141.14231501369255,
          141.25889131383676,
          141.37546761398096,
          141.49204391412516,
          141.60862021426937,
          141.72519651441354,
          141.84177281455777,
          141.95834911470195,
          142.07492541484615,
          142.19150171499035,
          142.30807801513456,
          142.42465431527876,
          142.54123061542296,
          142.65780691556716,
          142.77438321571134,
          142.89095951585557,
          143.00753581599974,
          143.12411211614395,
          143.24068841628815,
          143.35726471643235,
          143.47384101657656,
          143.59041731672076,
          143.70699361686496,
          143.82356991700917,
          143.94014621715337,
          144.05672251729757,
          144.17329881744178,
          144.28987511758595,
          144.40645141773018,
          144.52302771787436,
          144.63960401801856,
          144.75618031816276,
          144.87275661830697,
          144.98933291845117,
          145.10590921859534,
          145.22248551873957,
          145.33906181888375,
          145.45563811902795,
          145.57221441917216,
          145.68879071931636,
          145.80536701946056,
          145.92194331960476,
          146.03851961974897,
          146.15509591989317,
          146.27167222003737,
          146.38824852018158,
          146.50482482032578,
          146.62140112046995,
          146.7379774206142,
          146.85455372075836,
          146.97113002090256,
          147.08770632104677,
          147.20428262119097,
          147.32085892133517,
          147.43743522147938,
          147.55401152162358,
          147.67058782176778,
          147.78716412191199,
          147.90374042205616,
          148.02031672220036,
          148.13689302234457,
          148.25346932248877,
          148.37004562263297,
          148.48662192277718,
          148.60319822292138,
          148.71977452306558,
          148.83635082320978,
          148.95292712335396,
          149.0695034234982,
          149.18607972364237,
          149.30265602378657,
          149.41923232393077,
          149.53580862407497,
          149.65238492421918,
          149.76896122436338,
          149.88553752450758,
          150.0021138246518,
          150.118690124796,
          150.23526642494016,
          150.3518427250844,
          150.46841902522857,
          150.58499532537277,
          150.70157162551698,
          150.81814792566118,
          150.93472422580538,
          151.05130052594959,
          151.1678768260938,
          151.28445312623796,
          151.4010294263822,
          151.51760572652637,
          151.63418202667057,
          151.75075832681478,
          151.86733462695898,
          151.98391092710318,
          152.10048722724738,
          152.2170635273916,
          152.3336398275358,
          152.45021612768,
          152.56679242782417,
          152.6833687279684,
          152.79994502811257,
          152.91652132825678,
          153.03309762840098,
          153.14967392854518,
          153.2662502286894,
          153.3828265288336,
          153.4994028289778,
          153.615979129122,
          153.7325554292662,
          153.84913172941037,
          153.96570802955458,
          154.08228432969878,
          154.19886062984298,
          154.3154369299872,
          154.4320132301314,
          154.5485895302756,
          154.6651658304198,
          154.781742130564,
          154.8983184307082,
          155.0148947308524,
          155.13147103099658,
          155.2480473311408,
          155.36462363128499,
          155.4811999314292,
          155.5977762315734,
          155.7143525317176,
          155.8309288318618,
          155.947505132006,
          156.0640814321502,
          156.1806577322944,
          156.2972340324386,
          156.41381033258278,
          156.53038663272702,
          156.6469629328712,
          156.7635392330154,
          156.8801155331596,
          156.9966918333038,
          157.113268133448,
          157.2298444335922,
          157.3464207337364,
          157.46299703388058,
          157.57957333402481,
          157.696149634169,
          157.8127259343132,
          157.9293022344574,
          158.0458785346016,
          158.1624548347458,
          158.27903113489,
          158.3956074350342,
          158.5121837351784,
          158.6287600353226,
          158.7453363354668,
          158.86191263561102,
          158.9784889357552,
          159.0950652358994,
          159.2116415360436,
          159.3282178361878,
          159.444794136332,
          159.5613704364762,
          159.6779467366204,
          159.7945230367646,
          159.91109933690882,
          160.027675637053,
          160.1442519371972,
          160.2608282373414,
          160.3774045374856,
          160.4939808376298,
          160.610557137774,
          160.7271334379182,
          160.84370973806242,
          160.96028603820662,
          161.0768623383508,
          161.19343863849502,
          161.3100149386392,
          161.4265912387834,
          161.5431675389276,
          161.6597438390718,
          161.776320139216,
          161.89289643936021,
          162.00947273950442,
          162.12604903964862,
          162.24262533979282,
          162.35920163993703,
          162.4757779400812,
          162.5923542402254,
          162.7089305403696,
          162.8255068405138,
          162.942083140658,
          163.05865944080222,
          163.17523574094642,
          163.29181204109062,
          163.40838834123483,
          163.52496464137903,
          163.6415409415232,
          163.75811724166743,
          163.8746935418116,
          163.9912698419558,
          164.10784614210002
         ],
         "xaxis": "x",
         "y": {
          "bdata": "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",
          "dtype": "f8"
         },
         "yaxis": "y"
        },
        {
         "legendgroup": "Average",
         "marker": {
          "color": "rgb(31, 119, 180)",
          "symbol": "line-ns-open"
         },
         "mode": "markers",
         "name": "Average",
         "showlegend": false,
         "type": "scatter",
         "x": {
          "bdata": "Fw6ix3dhQkAN283yJHJBQMs9jbDckzxAJWpXonYFRECe53me53lAQO0etr4NmEFA001iEFi5REAAAAAAAIVDQEMWspCF7DpA/Sn1p9SfOUDtc0hNMB5GQBqkQRqkwT1AYhBYObRIQkDVk/HbpR4/QK+hvIbymjxAywOSda48P0CzLMuyLMs+QD5g9oDZAz1At23btm0LQEBVVVVVValCQGlL2pK2pDpAAAAAAAAsQUBvMEU+6wY9QK0pa8qaskJAVoZvRIFJP0AyMjIyMrI+QExnMZ3F9DlAy6BUmHg/OEB6nud5nmdBQK7sc0hNMDtAm81ms9lsNkCRz7rBFPk4QEL0+C4cRDlA9qGxPjTWO0BPIyz3NAI3QOEQDuEQDj1AiMkVxOQKPEAAAAAAAAA7QGg84xnPeDxAy7d8y7f8P0BXaqVWaiVDQOh5nud5nj1AhCIUoQhFO0Acx3Ecx3E9QAAAAAAAQEVA+e1ST8ZvQEBYpAw83Zo7QGDvmBrYOzxAJ3VfHlsRQkB6nud5nuc4QA==",
          "dtype": "f8"
         },
         "xaxis": "x",
         "y": [
          "Average",
          "Average",
          "Average",
          "Average",
          "Average",
          "Average",
          "Average",
          "Average",
          "Average",
          "Average",
          "Average",
          "Average",
          "Average",
          "Average",
          "Average",
          "Average",
          "Average",
          "Average",
          "Average",
          "Average",
          "Average",
          "Average",
          "Average",
          "Average",
          "Average",
          "Average",
          "Average",
          "Average",
          "Average",
          "Average",
          "Average",
          "Average",
          "Average",
          "Average",
          "Average",
          "Average",
          "Average",
          "Average",
          "Average",
          "Average",
          "Average",
          "Average",
          "Average",
          "Average",
          "Average",
          "Average",
          "Average",
          "Average",
          "Average",
          "Average"
         ],
         "yaxis": "y2"
        },
        {
         "legendgroup": "Strike_rate",
         "marker": {
          "color": "rgb(255, 127, 14)",
          "symbol": "line-ns-open"
         },
         "mode": "markers",
         "name": "Strike_rate",
         "showlegend": false,
         "type": "scatter",
         "x": {
          "bdata": "aj0GNmEQYEAz5Tl4E91eQLuDK7HD+l9A4OgVccLtYEAP6oVHIZFgQEKeaNm4mmBAM9VY+pKSYkAV5rY05cNhQGWQz/C+iV9AOf2XFU9rYEDcrZWyoGFgQJzhfPuRFF5AzOSGSkiiYEBHKuZWZ+RgQKwO3ORoJV9A6b7f3pHqXUABOcUBOcVgQM5ccX5vV11AqfYluTDQYUAnsjHBpcdhQDmPaYGljmFAg/MxOB/zYUBA03MQe0FhQHkN5TWUh2BAwtljwtljYEBGhK1zosFeQJMeCr2qG19AG0yRz7r5XkB6T7o859VgQMr47VJPtl9ADQG/vQsoXUCk2Rmbos9iQGox6sM5Ml9A03FpRXeaYkBpDTNBLghgQNj+rtmFmWBAH1XeFjRaYECoN73pTaddQLj/IgwfdmFA4FiWdv4zX0Blo1NHg0NgQK09+Xcuh2RAsnry4ut7WkD5eITx8YhgQMncANI/tGBAwIABAwaMXEDxwQcffPBgQE7hTCA5VlxA6a1xNfm8XkBDaoLxVtZeQA==",
          "dtype": "f8"
         },
         "xaxis": "x",
         "y": [
          "Strike_rate",
          "Strike_rate",
          "Strike_rate",
          "Strike_rate",
          "Strike_rate",
          "Strike_rate",
          "Strike_rate",
          "Strike_rate",
          "Strike_rate",
          "Strike_rate",
          "Strike_rate",
          "Strike_rate",
          "Strike_rate",
          "Strike_rate",
          "Strike_rate",
          "Strike_rate",
          "Strike_rate",
          "Strike_rate",
          "Strike_rate",
          "Strike_rate",
          "Strike_rate",
          "Strike_rate",
          "Strike_rate",
          "Strike_rate",
          "Strike_rate",
          "Strike_rate",
          "Strike_rate",
          "Strike_rate",
          "Strike_rate",
          "Strike_rate",
          "Strike_rate",
          "Strike_rate",
          "Strike_rate",
          "Strike_rate",
          "Strike_rate",
          "Strike_rate",
          "Strike_rate",
          "Strike_rate",
          "Strike_rate",
          "Strike_rate",
          "Strike_rate",
          "Strike_rate",
          "Strike_rate",
          "Strike_rate",
          "Strike_rate",
          "Strike_rate",
          "Strike_rate",
          "Strike_rate",
          "Strike_rate",
          "Strike_rate"
         ],
         "yaxis": "y2"
        }
       ],
       "layout": {
        "barmode": "overlay",
        "hovermode": "closest",
        "legend": {
         "traceorder": "reversed"
        },
        "template": {
         "data": {
          "bar": [
           {
            "error_x": {
             "color": "#2a3f5f"
            },
            "error_y": {
             "color": "#2a3f5f"
            },
            "marker": {
             "line": {
              "color": "#E5ECF6",
              "width": 0.5
             },
             "pattern": {
              "fillmode": "overlay",
              "size": 10,
              "solidity": 0.2
             }
            },
            "type": "bar"
           }
          ],
          "barpolar": [
           {
            "marker": {
             "line": {
              "color": "#E5ECF6",
              "width": 0.5
             },
             "pattern": {
              "fillmode": "overlay",
              "size": 10,
              "solidity": 0.2
             }
            },
            "type": "barpolar"
           }
          ],
          "carpet": [
           {
            "aaxis": {
             "endlinecolor": "#2a3f5f",
             "gridcolor": "white",
             "linecolor": "white",
             "minorgridcolor": "white",
             "startlinecolor": "#2a3f5f"
            },
            "baxis": {
             "endlinecolor": "#2a3f5f",
             "gridcolor": "white",
             "linecolor": "white",
             "minorgridcolor": "white",
             "startlinecolor": "#2a3f5f"
            },
            "type": "carpet"
           }
          ],
          "choropleth": [
           {
            "colorbar": {
             "outlinewidth": 0,
             "ticks": ""
            },
            "type": "choropleth"
           }
          ],
          "contour": [
           {
            "colorbar": {
             "outlinewidth": 0,
             "ticks": ""
            },
            "colorscale": [
             [
              0,
              "#0d0887"
             ],
             [
              0.1111111111111111,
              "#46039f"
             ],
             [
              0.2222222222222222,
              "#7201a8"
             ],
             [
              0.3333333333333333,
              "#9c179e"
             ],
             [
              0.4444444444444444,
              "#bd3786"
             ],
             [
              0.5555555555555556,
              "#d8576b"
             ],
             [
              0.6666666666666666,
              "#ed7953"
             ],
             [
              0.7777777777777778,
              "#fb9f3a"
             ],
             [
              0.8888888888888888,
              "#fdca26"
             ],
             [
              1,
              "#f0f921"
             ]
            ],
            "type": "contour"
           }
          ],
          "contourcarpet": [
           {
            "colorbar": {
             "outlinewidth": 0,
             "ticks": ""
            },
            "type": "contourcarpet"
           }
          ],
          "heatmap": [
           {
            "colorbar": {
             "outlinewidth": 0,
             "ticks": ""
            },
            "colorscale": [
             [
              0,
              "#0d0887"
             ],
             [
              0.1111111111111111,
              "#46039f"
             ],
             [
              0.2222222222222222,
              "#7201a8"
             ],
             [
              0.3333333333333333,
              "#9c179e"
             ],
             [
              0.4444444444444444,
              "#bd3786"
             ],
             [
              0.5555555555555556,
              "#d8576b"
             ],
             [
              0.6666666666666666,
              "#ed7953"
             ],
             [
              0.7777777777777778,
              "#fb9f3a"
             ],
             [
              0.8888888888888888,
              "#fdca26"
             ],
             [
              1,
              "#f0f921"
             ]
            ],
            "type": "heatmap"
           }
          ],
          "histogram": [
           {
            "marker": {
             "pattern": {
              "fillmode": "overlay",
              "size": 10,
              "solidity": 0.2
             }
            },
            "type": "histogram"
           }
          ],
          "histogram2d": [
           {
            "colorbar": {
             "outlinewidth": 0,
             "ticks": ""
            },
            "colorscale": [
             [
              0,
              "#0d0887"
             ],
             [
              0.1111111111111111,
              "#46039f"
             ],
             [
              0.2222222222222222,
              "#7201a8"
             ],
             [
              0.3333333333333333,
              "#9c179e"
             ],
             [
              0.4444444444444444,
              "#bd3786"
             ],
             [
              0.5555555555555556,
              "#d8576b"
             ],
             [
              0.6666666666666666,
              "#ed7953"
             ],
             [
              0.7777777777777778,
              "#fb9f3a"
             ],
             [
              0.8888888888888888,
              "#fdca26"
             ],
             [
              1,
              "#f0f921"
             ]
            ],
            "type": "histogram2d"
           }
          ],
          "histogram2dcontour": [
           {
            "colorbar": {
             "outlinewidth": 0,
             "ticks": ""
            },
            "colorscale": [
             [
              0,
              "#0d0887"
             ],
             [
              0.1111111111111111,
              "#46039f"
             ],
             [
              0.2222222222222222,
              "#7201a8"
             ],
             [
              0.3333333333333333,
              "#9c179e"
             ],
             [
              0.4444444444444444,
              "#bd3786"
             ],
             [
              0.5555555555555556,
              "#d8576b"
             ],
             [
              0.6666666666666666,
              "#ed7953"
             ],
             [
              0.7777777777777778,
              "#fb9f3a"
             ],
             [
              0.8888888888888888,
              "#fdca26"
             ],
             [
              1,
              "#f0f921"
             ]
            ],
            "type": "histogram2dcontour"
           }
          ],
          "mesh3d": [
           {
            "colorbar": {
             "outlinewidth": 0,
             "ticks": ""
            },
            "type": "mesh3d"
           }
          ],
          "parcoords": [
           {
            "line": {
             "colorbar": {
              "outlinewidth": 0,
              "ticks": ""
             }
            },
            "type": "parcoords"
           }
          ],
          "pie": [
           {
            "automargin": true,
            "type": "pie"
           }
          ],
          "scatter": [
           {
            "fillpattern": {
             "fillmode": "overlay",
             "size": 10,
             "solidity": 0.2
            },
            "type": "scatter"
           }
          ],
          "scatter3d": [
           {
            "line": {
             "colorbar": {
              "outlinewidth": 0,
              "ticks": ""
             }
            },
            "marker": {
             "colorbar": {
              "outlinewidth": 0,
              "ticks": ""
             }
            },
            "type": "scatter3d"
           }
          ],
          "scattercarpet": [
           {
            "marker": {
             "colorbar": {
              "outlinewidth": 0,
              "ticks": ""
             }
            },
            "type": "scattercarpet"
           }
          ],
          "scattergeo": [
           {
            "marker": {
             "colorbar": {
              "outlinewidth": 0,
              "ticks": ""
             }
            },
            "type": "scattergeo"
           }
          ],
          "scattergl": [
           {
            "marker": {
             "colorbar": {
              "outlinewidth": 0,
              "ticks": ""
             }
            },
            "type": "scattergl"
           }
          ],
          "scattermap": [
           {
            "marker": {
             "colorbar": {
              "outlinewidth": 0,
              "ticks": ""
             }
            },
            "type": "scattermap"
           }
          ],
          "scattermapbox": [
           {
            "marker": {
             "colorbar": {
              "outlinewidth": 0,
              "ticks": ""
             }
            },
            "type": "scattermapbox"
           }
          ],
          "scatterpolar": [
           {
            "marker": {
             "colorbar": {
              "outlinewidth": 0,
              "ticks": ""
             }
            },
            "type": "scatterpolar"
           }
          ],
          "scatterpolargl": [
           {
            "marker": {
             "colorbar": {
              "outlinewidth": 0,
              "ticks": ""
             }
            },
            "type": "scatterpolargl"
           }
          ],
          "scatterternary": [
           {
            "marker": {
             "colorbar": {
              "outlinewidth": 0,
              "ticks": ""
             }
            },
            "type": "scatterternary"
           }
          ],
          "surface": [
           {
            "colorbar": {
             "outlinewidth": 0,
             "ticks": ""
            },
            "colorscale": [
             [
              0,
              "#0d0887"
             ],
             [
              0.1111111111111111,
              "#46039f"
             ],
             [
              0.2222222222222222,
              "#7201a8"
             ],
             [
              0.3333333333333333,
              "#9c179e"
             ],
             [
              0.4444444444444444,
              "#bd3786"
             ],
             [
              0.5555555555555556,
              "#d8576b"
             ],
             [
              0.6666666666666666,
              "#ed7953"
             ],
             [
              0.7777777777777778,
              "#fb9f3a"
             ],
             [
              0.8888888888888888,
              "#fdca26"
             ],
             [
              1,
              "#f0f921"
             ]
            ],
            "type": "surface"
           }
          ],
          "table": [
           {
            "cells": {
             "fill": {
              "color": "#EBF0F8"
             },
             "line": {
              "color": "white"
             }
            },
            "header": {
             "fill": {
              "color": "#C8D4E3"
             },
             "line": {
              "color": "white"
             }
            },
            "type": "table"
           }
          ]
         },
         "layout": {
          "annotationdefaults": {
           "arrowcolor": "#2a3f5f",
           "arrowhead": 0,
           "arrowwidth": 1
          },
          "autotypenumbers": "strict",
          "coloraxis": {
           "colorbar": {
            "outlinewidth": 0,
            "ticks": ""
           }
          },
          "colorscale": {
           "diverging": [
            [
             0,
             "#8e0152"
            ],
            [
             0.1,
             "#c51b7d"
            ],
            [
             0.2,
             "#de77ae"
            ],
            [
             0.3,
             "#f1b6da"
            ],
            [
             0.4,
             "#fde0ef"
            ],
            [
             0.5,
             "#f7f7f7"
            ],
            [
             0.6,
             "#e6f5d0"
            ],
            [
             0.7,
             "#b8e186"
            ],
            [
             0.8,
             "#7fbc41"
            ],
            [
             0.9,
             "#4d9221"
            ],
            [
             1,
             "#276419"
            ]
           ],
           "sequential": [
            [
             0,
             "#0d0887"
            ],
            [
             0.1111111111111111,
             "#46039f"
            ],
            [
             0.2222222222222222,
             "#7201a8"
            ],
            [
             0.3333333333333333,
             "#9c179e"
            ],
            [
             0.4444444444444444,
             "#bd3786"
            ],
            [
             0.5555555555555556,
             "#d8576b"
            ],
            [
             0.6666666666666666,
             "#ed7953"
            ],
            [
             0.7777777777777778,
             "#fb9f3a"
            ],
            [
             0.8888888888888888,
             "#fdca26"
            ],
            [
             1,
             "#f0f921"
            ]
           ],
           "sequentialminus": [
            [
             0,
             "#0d0887"
            ],
            [
             0.1111111111111111,
             "#46039f"
            ],
            [
             0.2222222222222222,
             "#7201a8"
            ],
            [
             0.3333333333333333,
             "#9c179e"
            ],
            [
             0.4444444444444444,
             "#bd3786"
            ],
            [
             0.5555555555555556,
             "#d8576b"
            ],
            [
             0.6666666666666666,
             "#ed7953"
            ],
            [
             0.7777777777777778,
             "#fb9f3a"
            ],
            [
             0.8888888888888888,
             "#fdca26"
            ],
            [
             1,
             "#f0f921"
            ]
           ]
          },
          "colorway": [
           "#636efa",
           "#EF553B",
           "#00cc96",
           "#ab63fa",
           "#FFA15A",
           "#19d3f3",
           "#FF6692",
           "#B6E880",
           "#FF97FF",
           "#FECB52"
          ],
          "font": {
           "color": "#2a3f5f"
          },
          "geo": {
           "bgcolor": "white",
           "lakecolor": "white",
           "landcolor": "#E5ECF6",
           "showlakes": true,
           "showland": true,
           "subunitcolor": "white"
          },
          "hoverlabel": {
           "align": "left"
          },
          "hovermode": "closest",
          "mapbox": {
           "style": "light"
          },
          "paper_bgcolor": "white",
          "plot_bgcolor": "#E5ECF6",
          "polar": {
           "angularaxis": {
            "gridcolor": "white",
            "linecolor": "white",
            "ticks": ""
           },
           "bgcolor": "#E5ECF6",
           "radialaxis": {
            "gridcolor": "white",
            "linecolor": "white",
            "ticks": ""
           }
          },
          "scene": {
           "xaxis": {
            "backgroundcolor": "#E5ECF6",
            "gridcolor": "white",
            "gridwidth": 2,
            "linecolor": "white",
            "showbackground": true,
            "ticks": "",
            "zerolinecolor": "white"
           },
           "yaxis": {
            "backgroundcolor": "#E5ECF6",
            "gridcolor": "white",
            "gridwidth": 2,
            "linecolor": "white",
            "showbackground": true,
            "ticks": "",
            "zerolinecolor": "white"
           },
           "zaxis": {
            "backgroundcolor": "#E5ECF6",
            "gridcolor": "white",
            "gridwidth": 2,
            "linecolor": "white",
            "showbackground": true,
            "ticks": "",
            "zerolinecolor": "white"
           }
          },
          "shapedefaults": {
           "line": {
            "color": "#2a3f5f"
           }
          },
          "ternary": {
           "aaxis": {
            "gridcolor": "white",
            "linecolor": "white",
            "ticks": ""
           },
           "baxis": {
            "gridcolor": "white",
            "linecolor": "white",
            "ticks": ""
           },
           "bgcolor": "#E5ECF6",
           "caxis": {
            "gridcolor": "white",
            "linecolor": "white",
            "ticks": ""
           }
          },
          "title": {
           "x": 0.05
          },
          "xaxis": {
           "automargin": true,
           "gridcolor": "white",
           "linecolor": "white",
           "ticks": "",
           "title": {
            "standoff": 15
           },
           "zerolinecolor": "white",
           "zerolinewidth": 2
          },
          "yaxis": {
           "automargin": true,
           "gridcolor": "white",
           "linecolor": "white",
           "ticks": "",
           "title": {
            "standoff": 15
           },
           "zerolinecolor": "white",
           "zerolinewidth": 2
          }
         }
        },
        "xaxis": {
         "anchor": "y2",
         "domain": [
          0,
          1
         ],
         "zeroline": false
        },
        "yaxis": {
         "anchor": "free",
         "domain": [
          0.35,
          1
         ],
         "position": 0
        },
        "yaxis2": {
         "anchor": "x",
         "domain": [
          0,
          0.25
         ],
         "dtick": 1,
         "showticklabels": false
        }
       }
      }
     },
     "metadata": {},
     "output_type": "display_data"
    }
   ],
   "source": [
    "hist_data= [top50_batsman_summary['average'], top50_batsman_summary['strike_rate']]\n",
    "\n",
    "group_labels = ['Average', 'Strike_rate']\n",
    "\n",
    "fig = ff.create_distplot(hist_data, group_labels, bin_size=[5,10])\n",
    "\n",
    "\n",
    "fig.show()"
   ]
  },
  {
   "cell_type": "markdown",
   "id": "ddd356e9",
   "metadata": {},
   "source": [
    "## <b> <center>7. Histograms"
   ]
  },
  {
   "cell_type": "markdown",
   "id": "c479fbdb",
   "metadata": {},
   "source": [
    "A histogram is a graphical representation of the distribution of numerical data, where the data is grouped into continuous ranges called \"bins\"."
   ]
  },
  {
   "cell_type": "code",
   "execution_count": 239,
   "id": "d2d6d3bd",
   "metadata": {},
   "outputs": [
    {
     "data": {
      "text/html": [
       "<div>\n",
       "<style scoped>\n",
       "    .dataframe tbody tr th:only-of-type {\n",
       "        vertical-align: middle;\n",
       "    }\n",
       "\n",
       "    .dataframe tbody tr th {\n",
       "        vertical-align: top;\n",
       "    }\n",
       "\n",
       "    .dataframe thead th {\n",
       "        text-align: right;\n",
       "    }\n",
       "</style>\n",
       "<table border=\"1\" class=\"dataframe\">\n",
       "  <thead>\n",
       "    <tr style=\"text-align: right;\">\n",
       "      <th></th>\n",
       "      <th>batter</th>\n",
       "      <th>runs</th>\n",
       "      <th>balls</th>\n",
       "      <th>outs</th>\n",
       "      <th>strike_rate</th>\n",
       "      <th>average</th>\n",
       "    </tr>\n",
       "  </thead>\n",
       "  <tbody>\n",
       "    <tr>\n",
       "      <th>0</th>\n",
       "      <td>A Ashish Reddy</td>\n",
       "      <td>280</td>\n",
       "      <td>196</td>\n",
       "      <td>15</td>\n",
       "      <td>142.857143</td>\n",
       "      <td>18.666667</td>\n",
       "    </tr>\n",
       "    <tr>\n",
       "      <th>1</th>\n",
       "      <td>A Badoni</td>\n",
       "      <td>634</td>\n",
       "      <td>505</td>\n",
       "      <td>26</td>\n",
       "      <td>125.544554</td>\n",
       "      <td>24.384615</td>\n",
       "    </tr>\n",
       "    <tr>\n",
       "      <th>2</th>\n",
       "      <td>A Chandila</td>\n",
       "      <td>4</td>\n",
       "      <td>7</td>\n",
       "      <td>1</td>\n",
       "      <td>57.142857</td>\n",
       "      <td>4.000000</td>\n",
       "    </tr>\n",
       "    <tr>\n",
       "      <th>3</th>\n",
       "      <td>A Chopra</td>\n",
       "      <td>53</td>\n",
       "      <td>75</td>\n",
       "      <td>5</td>\n",
       "      <td>70.666667</td>\n",
       "      <td>10.600000</td>\n",
       "    </tr>\n",
       "    <tr>\n",
       "      <th>4</th>\n",
       "      <td>A Choudhary</td>\n",
       "      <td>25</td>\n",
       "      <td>20</td>\n",
       "      <td>2</td>\n",
       "      <td>125.000000</td>\n",
       "      <td>12.500000</td>\n",
       "    </tr>\n",
       "  </tbody>\n",
       "</table>\n",
       "</div>"
      ],
      "text/plain": [
       "           batter  runs  balls  outs  strike_rate    average\n",
       "0  A Ashish Reddy   280    196    15   142.857143  18.666667\n",
       "1        A Badoni   634    505    26   125.544554  24.384615\n",
       "2      A Chandila     4      7     1    57.142857   4.000000\n",
       "3        A Chopra    53     75     5    70.666667  10.600000\n",
       "4     A Choudhary    25     20     2   125.000000  12.500000"
      ]
     },
     "execution_count": 239,
     "metadata": {},
     "output_type": "execute_result"
    }
   ],
   "source": [
    "batsman_summary.head()\n"
   ]
  },
  {
   "cell_type": "markdown",
   "id": "116dfe2c",
   "metadata": {},
   "source": [
    "<span style=\"font-size: 18px;\"> <b>Plotting the Strike rate of the batsman using Histogram "
   ]
  },
  {
   "cell_type": "code",
   "execution_count": 240,
   "id": "c75c298d",
   "metadata": {},
   "outputs": [
    {
     "data": {
      "application/vnd.plotly.v1+json": {
       "config": {
        "plotlyServerURL": "https://plot.ly"
       },
       "data": [
        {
         "type": "histogram",
         "x": {
          "bdata": "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",
          "dtype": "f8"
         }
        }
       ],
       "layout": {
        "template": {
         "data": {
          "bar": [
           {
            "error_x": {
             "color": "#2a3f5f"
            },
            "error_y": {
             "color": "#2a3f5f"
            },
            "marker": {
             "line": {
              "color": "#E5ECF6",
              "width": 0.5
             },
             "pattern": {
              "fillmode": "overlay",
              "size": 10,
              "solidity": 0.2
             }
            },
            "type": "bar"
           }
          ],
          "barpolar": [
           {
            "marker": {
             "line": {
              "color": "#E5ECF6",
              "width": 0.5
             },
             "pattern": {
              "fillmode": "overlay",
              "size": 10,
              "solidity": 0.2
             }
            },
            "type": "barpolar"
           }
          ],
          "carpet": [
           {
            "aaxis": {
             "endlinecolor": "#2a3f5f",
             "gridcolor": "white",
             "linecolor": "white",
             "minorgridcolor": "white",
             "startlinecolor": "#2a3f5f"
            },
            "baxis": {
             "endlinecolor": "#2a3f5f",
             "gridcolor": "white",
             "linecolor": "white",
             "minorgridcolor": "white",
             "startlinecolor": "#2a3f5f"
            },
            "type": "carpet"
           }
          ],
          "choropleth": [
           {
            "colorbar": {
             "outlinewidth": 0,
             "ticks": ""
            },
            "type": "choropleth"
           }
          ],
          "contour": [
           {
            "colorbar": {
             "outlinewidth": 0,
             "ticks": ""
            },
            "colorscale": [
             [
              0,
              "#0d0887"
             ],
             [
              0.1111111111111111,
              "#46039f"
             ],
             [
              0.2222222222222222,
              "#7201a8"
             ],
             [
              0.3333333333333333,
              "#9c179e"
             ],
             [
              0.4444444444444444,
              "#bd3786"
             ],
             [
              0.5555555555555556,
              "#d8576b"
             ],
             [
              0.6666666666666666,
              "#ed7953"
             ],
             [
              0.7777777777777778,
              "#fb9f3a"
             ],
             [
              0.8888888888888888,
              "#fdca26"
             ],
             [
              1,
              "#f0f921"
             ]
            ],
            "type": "contour"
           }
          ],
          "contourcarpet": [
           {
            "colorbar": {
             "outlinewidth": 0,
             "ticks": ""
            },
            "type": "contourcarpet"
           }
          ],
          "heatmap": [
           {
            "colorbar": {
             "outlinewidth": 0,
             "ticks": ""
            },
            "colorscale": [
             [
              0,
              "#0d0887"
             ],
             [
              0.1111111111111111,
              "#46039f"
             ],
             [
              0.2222222222222222,
              "#7201a8"
             ],
             [
              0.3333333333333333,
              "#9c179e"
             ],
             [
              0.4444444444444444,
              "#bd3786"
             ],
             [
              0.5555555555555556,
              "#d8576b"
             ],
             [
              0.6666666666666666,
              "#ed7953"
             ],
             [
              0.7777777777777778,
              "#fb9f3a"
             ],
             [
              0.8888888888888888,
              "#fdca26"
             ],
             [
              1,
              "#f0f921"
             ]
            ],
            "type": "heatmap"
           }
          ],
          "histogram": [
           {
            "marker": {
             "pattern": {
              "fillmode": "overlay",
              "size": 10,
              "solidity": 0.2
             }
            },
            "type": "histogram"
           }
          ],
          "histogram2d": [
           {
            "colorbar": {
             "outlinewidth": 0,
             "ticks": ""
            },
            "colorscale": [
             [
              0,
              "#0d0887"
             ],
             [
              0.1111111111111111,
              "#46039f"
             ],
             [
              0.2222222222222222,
              "#7201a8"
             ],
             [
              0.3333333333333333,
              "#9c179e"
             ],
             [
              0.4444444444444444,
              "#bd3786"
             ],
             [
              0.5555555555555556,
              "#d8576b"
             ],
             [
              0.6666666666666666,
              "#ed7953"
             ],
             [
              0.7777777777777778,
              "#fb9f3a"
             ],
             [
              0.8888888888888888,
              "#fdca26"
             ],
             [
              1,
              "#f0f921"
             ]
            ],
            "type": "histogram2d"
           }
          ],
          "histogram2dcontour": [
           {
            "colorbar": {
             "outlinewidth": 0,
             "ticks": ""
            },
            "colorscale": [
             [
              0,
              "#0d0887"
             ],
             [
              0.1111111111111111,
              "#46039f"
             ],
             [
              0.2222222222222222,
              "#7201a8"
             ],
             [
              0.3333333333333333,
              "#9c179e"
             ],
             [
              0.4444444444444444,
              "#bd3786"
             ],
             [
              0.5555555555555556,
              "#d8576b"
             ],
             [
              0.6666666666666666,
              "#ed7953"
             ],
             [
              0.7777777777777778,
              "#fb9f3a"
             ],
             [
              0.8888888888888888,
              "#fdca26"
             ],
             [
              1,
              "#f0f921"
             ]
            ],
            "type": "histogram2dcontour"
           }
          ],
          "mesh3d": [
           {
            "colorbar": {
             "outlinewidth": 0,
             "ticks": ""
            },
            "type": "mesh3d"
           }
          ],
          "parcoords": [
           {
            "line": {
             "colorbar": {
              "outlinewidth": 0,
              "ticks": ""
             }
            },
            "type": "parcoords"
           }
          ],
          "pie": [
           {
            "automargin": true,
            "type": "pie"
           }
          ],
          "scatter": [
           {
            "fillpattern": {
             "fillmode": "overlay",
             "size": 10,
             "solidity": 0.2
            },
            "type": "scatter"
           }
          ],
          "scatter3d": [
           {
            "line": {
             "colorbar": {
              "outlinewidth": 0,
              "ticks": ""
             }
            },
            "marker": {
             "colorbar": {
              "outlinewidth": 0,
              "ticks": ""
             }
            },
            "type": "scatter3d"
           }
          ],
          "scattercarpet": [
           {
            "marker": {
             "colorbar": {
              "outlinewidth": 0,
              "ticks": ""
             }
            },
            "type": "scattercarpet"
           }
          ],
          "scattergeo": [
           {
            "marker": {
             "colorbar": {
              "outlinewidth": 0,
              "ticks": ""
             }
            },
            "type": "scattergeo"
           }
          ],
          "scattergl": [
           {
            "marker": {
             "colorbar": {
              "outlinewidth": 0,
              "ticks": ""
             }
            },
            "type": "scattergl"
           }
          ],
          "scattermap": [
           {
            "marker": {
             "colorbar": {
              "outlinewidth": 0,
              "ticks": ""
             }
            },
            "type": "scattermap"
           }
          ],
          "scattermapbox": [
           {
            "marker": {
             "colorbar": {
              "outlinewidth": 0,
              "ticks": ""
             }
            },
            "type": "scattermapbox"
           }
          ],
          "scatterpolar": [
           {
            "marker": {
             "colorbar": {
              "outlinewidth": 0,
              "ticks": ""
             }
            },
            "type": "scatterpolar"
           }
          ],
          "scatterpolargl": [
           {
            "marker": {
             "colorbar": {
              "outlinewidth": 0,
              "ticks": ""
             }
            },
            "type": "scatterpolargl"
           }
          ],
          "scatterternary": [
           {
            "marker": {
             "colorbar": {
              "outlinewidth": 0,
              "ticks": ""
             }
            },
            "type": "scatterternary"
           }
          ],
          "surface": [
           {
            "colorbar": {
             "outlinewidth": 0,
             "ticks": ""
            },
            "colorscale": [
             [
              0,
              "#0d0887"
             ],
             [
              0.1111111111111111,
              "#46039f"
             ],
             [
              0.2222222222222222,
              "#7201a8"
             ],
             [
              0.3333333333333333,
              "#9c179e"
             ],
             [
              0.4444444444444444,
              "#bd3786"
             ],
             [
              0.5555555555555556,
              "#d8576b"
             ],
             [
              0.6666666666666666,
              "#ed7953"
             ],
             [
              0.7777777777777778,
              "#fb9f3a"
             ],
             [
              0.8888888888888888,
              "#fdca26"
             ],
             [
              1,
              "#f0f921"
             ]
            ],
            "type": "surface"
           }
          ],
          "table": [
           {
            "cells": {
             "fill": {
              "color": "#EBF0F8"
             },
             "line": {
              "color": "white"
             }
            },
            "header": {
             "fill": {
              "color": "#C8D4E3"
             },
             "line": {
              "color": "white"
             }
            },
            "type": "table"
           }
          ]
         },
         "layout": {
          "annotationdefaults": {
           "arrowcolor": "#2a3f5f",
           "arrowhead": 0,
           "arrowwidth": 1
          },
          "autotypenumbers": "strict",
          "coloraxis": {
           "colorbar": {
            "outlinewidth": 0,
            "ticks": ""
           }
          },
          "colorscale": {
           "diverging": [
            [
             0,
             "#8e0152"
            ],
            [
             0.1,
             "#c51b7d"
            ],
            [
             0.2,
             "#de77ae"
            ],
            [
             0.3,
             "#f1b6da"
            ],
            [
             0.4,
             "#fde0ef"
            ],
            [
             0.5,
             "#f7f7f7"
            ],
            [
             0.6,
             "#e6f5d0"
            ],
            [
             0.7,
             "#b8e186"
            ],
            [
             0.8,
             "#7fbc41"
            ],
            [
             0.9,
             "#4d9221"
            ],
            [
             1,
             "#276419"
            ]
           ],
           "sequential": [
            [
             0,
             "#0d0887"
            ],
            [
             0.1111111111111111,
             "#46039f"
            ],
            [
             0.2222222222222222,
             "#7201a8"
            ],
            [
             0.3333333333333333,
             "#9c179e"
            ],
            [
             0.4444444444444444,
             "#bd3786"
            ],
            [
             0.5555555555555556,
             "#d8576b"
            ],
            [
             0.6666666666666666,
             "#ed7953"
            ],
            [
             0.7777777777777778,
             "#fb9f3a"
            ],
            [
             0.8888888888888888,
             "#fdca26"
            ],
            [
             1,
             "#f0f921"
            ]
           ],
           "sequentialminus": [
            [
             0,
             "#0d0887"
            ],
            [
             0.1111111111111111,
             "#46039f"
            ],
            [
             0.2222222222222222,
             "#7201a8"
            ],
            [
             0.3333333333333333,
             "#9c179e"
            ],
            [
             0.4444444444444444,
             "#bd3786"
            ],
            [
             0.5555555555555556,
             "#d8576b"
            ],
            [
             0.6666666666666666,
             "#ed7953"
            ],
            [
             0.7777777777777778,
             "#fb9f3a"
            ],
            [
             0.8888888888888888,
             "#fdca26"
            ],
            [
             1,
             "#f0f921"
            ]
           ]
          },
          "colorway": [
           "#636efa",
           "#EF553B",
           "#00cc96",
           "#ab63fa",
           "#FFA15A",
           "#19d3f3",
           "#FF6692",
           "#B6E880",
           "#FF97FF",
           "#FECB52"
          ],
          "font": {
           "color": "#2a3f5f"
          },
          "geo": {
           "bgcolor": "white",
           "lakecolor": "white",
           "landcolor": "#E5ECF6",
           "showlakes": true,
           "showland": true,
           "subunitcolor": "white"
          },
          "hoverlabel": {
           "align": "left"
          },
          "hovermode": "closest",
          "mapbox": {
           "style": "light"
          },
          "paper_bgcolor": "white",
          "plot_bgcolor": "#E5ECF6",
          "polar": {
           "angularaxis": {
            "gridcolor": "white",
            "linecolor": "white",
            "ticks": ""
           },
           "bgcolor": "#E5ECF6",
           "radialaxis": {
            "gridcolor": "white",
            "linecolor": "white",
            "ticks": ""
           }
          },
          "scene": {
           "xaxis": {
            "backgroundcolor": "#E5ECF6",
            "gridcolor": "white",
            "gridwidth": 2,
            "linecolor": "white",
            "showbackground": true,
            "ticks": "",
            "zerolinecolor": "white"
           },
           "yaxis": {
            "backgroundcolor": "#E5ECF6",
            "gridcolor": "white",
            "gridwidth": 2,
            "linecolor": "white",
            "showbackground": true,
            "ticks": "",
            "zerolinecolor": "white"
           },
           "zaxis": {
            "backgroundcolor": "#E5ECF6",
            "gridcolor": "white",
            "gridwidth": 2,
            "linecolor": "white",
            "showbackground": true,
            "ticks": "",
            "zerolinecolor": "white"
           }
          },
          "shapedefaults": {
           "line": {
            "color": "#2a3f5f"
           }
          },
          "ternary": {
           "aaxis": {
            "gridcolor": "white",
            "linecolor": "white",
            "ticks": ""
           },
           "baxis": {
            "gridcolor": "white",
            "linecolor": "white",
            "ticks": ""
           },
           "bgcolor": "#E5ECF6",
           "caxis": {
            "gridcolor": "white",
            "linecolor": "white",
            "ticks": ""
           }
          },
          "title": {
           "x": 0.05
          },
          "xaxis": {
           "automargin": true,
           "gridcolor": "white",
           "linecolor": "white",
           "ticks": "",
           "title": {
            "standoff": 15
           },
           "zerolinecolor": "white",
           "zerolinewidth": 2
          },
          "yaxis": {
           "automargin": true,
           "gridcolor": "white",
           "linecolor": "white",
           "ticks": "",
           "title": {
            "standoff": 15
           },
           "zerolinecolor": "white",
           "zerolinewidth": 2
          }
         }
        },
        "title": {
         "text": "Strike Rate Variations"
        },
        "xaxis": {
         "title": {
          "text": "Strike Rate"
         }
        },
        "yaxis": {
         "title": {
          "text": "Count"
         }
        }
       }
      }
     },
     "metadata": {},
     "output_type": "display_data"
    }
   ],
   "source": [
    "trace = go.Histogram(x=batsman_summary['strike_rate'])\n",
    "\n",
    "data = [trace]\n",
    "\n",
    "layout = go.Layout(title=\"Strike Rate Variations\",\n",
    "                   xaxis= dict(title = 'Strike Rate'),\n",
    "                   yaxis= dict(title = 'Count')) \n",
    "\n",
    "fig= go.Figure(data = data, layout = layout)\n",
    "\n",
    "fig.show()"
   ]
  },
  {
   "cell_type": "markdown",
   "id": "14d5cc15",
   "metadata": {},
   "source": [
    "<span style=\"font-size: 18px;\"> <b>Improving the Histogram using start, end and size"
   ]
  },
  {
   "cell_type": "code",
   "execution_count": 241,
   "id": "c558b942",
   "metadata": {},
   "outputs": [
    {
     "data": {
      "application/vnd.plotly.v1+json": {
       "config": {
        "plotlyServerURL": "https://plot.ly"
       },
       "data": [
        {
         "type": "histogram",
         "x": {
          "bdata": "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",
          "dtype": "f8"
         },
         "xbins": {
          "end": 305,
          "size": 10,
          "start": 0
         }
        }
       ],
       "layout": {
        "template": {
         "data": {
          "bar": [
           {
            "error_x": {
             "color": "#2a3f5f"
            },
            "error_y": {
             "color": "#2a3f5f"
            },
            "marker": {
             "line": {
              "color": "#E5ECF6",
              "width": 0.5
             },
             "pattern": {
              "fillmode": "overlay",
              "size": 10,
              "solidity": 0.2
             }
            },
            "type": "bar"
           }
          ],
          "barpolar": [
           {
            "marker": {
             "line": {
              "color": "#E5ECF6",
              "width": 0.5
             },
             "pattern": {
              "fillmode": "overlay",
              "size": 10,
              "solidity": 0.2
             }
            },
            "type": "barpolar"
           }
          ],
          "carpet": [
           {
            "aaxis": {
             "endlinecolor": "#2a3f5f",
             "gridcolor": "white",
             "linecolor": "white",
             "minorgridcolor": "white",
             "startlinecolor": "#2a3f5f"
            },
            "baxis": {
             "endlinecolor": "#2a3f5f",
             "gridcolor": "white",
             "linecolor": "white",
             "minorgridcolor": "white",
             "startlinecolor": "#2a3f5f"
            },
            "type": "carpet"
           }
          ],
          "choropleth": [
           {
            "colorbar": {
             "outlinewidth": 0,
             "ticks": ""
            },
            "type": "choropleth"
           }
          ],
          "contour": [
           {
            "colorbar": {
             "outlinewidth": 0,
             "ticks": ""
            },
            "colorscale": [
             [
              0,
              "#0d0887"
             ],
             [
              0.1111111111111111,
              "#46039f"
             ],
             [
              0.2222222222222222,
              "#7201a8"
             ],
             [
              0.3333333333333333,
              "#9c179e"
             ],
             [
              0.4444444444444444,
              "#bd3786"
             ],
             [
              0.5555555555555556,
              "#d8576b"
             ],
             [
              0.6666666666666666,
              "#ed7953"
             ],
             [
              0.7777777777777778,
              "#fb9f3a"
             ],
             [
              0.8888888888888888,
              "#fdca26"
             ],
             [
              1,
              "#f0f921"
             ]
            ],
            "type": "contour"
           }
          ],
          "contourcarpet": [
           {
            "colorbar": {
             "outlinewidth": 0,
             "ticks": ""
            },
            "type": "contourcarpet"
           }
          ],
          "heatmap": [
           {
            "colorbar": {
             "outlinewidth": 0,
             "ticks": ""
            },
            "colorscale": [
             [
              0,
              "#0d0887"
             ],
             [
              0.1111111111111111,
              "#46039f"
             ],
             [
              0.2222222222222222,
              "#7201a8"
             ],
             [
              0.3333333333333333,
              "#9c179e"
             ],
             [
              0.4444444444444444,
              "#bd3786"
             ],
             [
              0.5555555555555556,
              "#d8576b"
             ],
             [
              0.6666666666666666,
              "#ed7953"
             ],
             [
              0.7777777777777778,
              "#fb9f3a"
             ],
             [
              0.8888888888888888,
              "#fdca26"
             ],
             [
              1,
              "#f0f921"
             ]
            ],
            "type": "heatmap"
           }
          ],
          "histogram": [
           {
            "marker": {
             "pattern": {
              "fillmode": "overlay",
              "size": 10,
              "solidity": 0.2
             }
            },
            "type": "histogram"
           }
          ],
          "histogram2d": [
           {
            "colorbar": {
             "outlinewidth": 0,
             "ticks": ""
            },
            "colorscale": [
             [
              0,
              "#0d0887"
             ],
             [
              0.1111111111111111,
              "#46039f"
             ],
             [
              0.2222222222222222,
              "#7201a8"
             ],
             [
              0.3333333333333333,
              "#9c179e"
             ],
             [
              0.4444444444444444,
              "#bd3786"
             ],
             [
              0.5555555555555556,
              "#d8576b"
             ],
             [
              0.6666666666666666,
              "#ed7953"
             ],
             [
              0.7777777777777778,
              "#fb9f3a"
             ],
             [
              0.8888888888888888,
              "#fdca26"
             ],
             [
              1,
              "#f0f921"
             ]
            ],
            "type": "histogram2d"
           }
          ],
          "histogram2dcontour": [
           {
            "colorbar": {
             "outlinewidth": 0,
             "ticks": ""
            },
            "colorscale": [
             [
              0,
              "#0d0887"
             ],
             [
              0.1111111111111111,
              "#46039f"
             ],
             [
              0.2222222222222222,
              "#7201a8"
             ],
             [
              0.3333333333333333,
              "#9c179e"
             ],
             [
              0.4444444444444444,
              "#bd3786"
             ],
             [
              0.5555555555555556,
              "#d8576b"
             ],
             [
              0.6666666666666666,
              "#ed7953"
             ],
             [
              0.7777777777777778,
              "#fb9f3a"
             ],
             [
              0.8888888888888888,
              "#fdca26"
             ],
             [
              1,
              "#f0f921"
             ]
            ],
            "type": "histogram2dcontour"
           }
          ],
          "mesh3d": [
           {
            "colorbar": {
             "outlinewidth": 0,
             "ticks": ""
            },
            "type": "mesh3d"
           }
          ],
          "parcoords": [
           {
            "line": {
             "colorbar": {
              "outlinewidth": 0,
              "ticks": ""
             }
            },
            "type": "parcoords"
           }
          ],
          "pie": [
           {
            "automargin": true,
            "type": "pie"
           }
          ],
          "scatter": [
           {
            "fillpattern": {
             "fillmode": "overlay",
             "size": 10,
             "solidity": 0.2
            },
            "type": "scatter"
           }
          ],
          "scatter3d": [
           {
            "line": {
             "colorbar": {
              "outlinewidth": 0,
              "ticks": ""
             }
            },
            "marker": {
             "colorbar": {
              "outlinewidth": 0,
              "ticks": ""
             }
            },
            "type": "scatter3d"
           }
          ],
          "scattercarpet": [
           {
            "marker": {
             "colorbar": {
              "outlinewidth": 0,
              "ticks": ""
             }
            },
            "type": "scattercarpet"
           }
          ],
          "scattergeo": [
           {
            "marker": {
             "colorbar": {
              "outlinewidth": 0,
              "ticks": ""
             }
            },
            "type": "scattergeo"
           }
          ],
          "scattergl": [
           {
            "marker": {
             "colorbar": {
              "outlinewidth": 0,
              "ticks": ""
             }
            },
            "type": "scattergl"
           }
          ],
          "scattermap": [
           {
            "marker": {
             "colorbar": {
              "outlinewidth": 0,
              "ticks": ""
             }
            },
            "type": "scattermap"
           }
          ],
          "scattermapbox": [
           {
            "marker": {
             "colorbar": {
              "outlinewidth": 0,
              "ticks": ""
             }
            },
            "type": "scattermapbox"
           }
          ],
          "scatterpolar": [
           {
            "marker": {
             "colorbar": {
              "outlinewidth": 0,
              "ticks": ""
             }
            },
            "type": "scatterpolar"
           }
          ],
          "scatterpolargl": [
           {
            "marker": {
             "colorbar": {
              "outlinewidth": 0,
              "ticks": ""
             }
            },
            "type": "scatterpolargl"
           }
          ],
          "scatterternary": [
           {
            "marker": {
             "colorbar": {
              "outlinewidth": 0,
              "ticks": ""
             }
            },
            "type": "scatterternary"
           }
          ],
          "surface": [
           {
            "colorbar": {
             "outlinewidth": 0,
             "ticks": ""
            },
            "colorscale": [
             [
              0,
              "#0d0887"
             ],
             [
              0.1111111111111111,
              "#46039f"
             ],
             [
              0.2222222222222222,
              "#7201a8"
             ],
             [
              0.3333333333333333,
              "#9c179e"
             ],
             [
              0.4444444444444444,
              "#bd3786"
             ],
             [
              0.5555555555555556,
              "#d8576b"
             ],
             [
              0.6666666666666666,
              "#ed7953"
             ],
             [
              0.7777777777777778,
              "#fb9f3a"
             ],
             [
              0.8888888888888888,
              "#fdca26"
             ],
             [
              1,
              "#f0f921"
             ]
            ],
            "type": "surface"
           }
          ],
          "table": [
           {
            "cells": {
             "fill": {
              "color": "#EBF0F8"
             },
             "line": {
              "color": "white"
             }
            },
            "header": {
             "fill": {
              "color": "#C8D4E3"
             },
             "line": {
              "color": "white"
             }
            },
            "type": "table"
           }
          ]
         },
         "layout": {
          "annotationdefaults": {
           "arrowcolor": "#2a3f5f",
           "arrowhead": 0,
           "arrowwidth": 1
          },
          "autotypenumbers": "strict",
          "coloraxis": {
           "colorbar": {
            "outlinewidth": 0,
            "ticks": ""
           }
          },
          "colorscale": {
           "diverging": [
            [
             0,
             "#8e0152"
            ],
            [
             0.1,
             "#c51b7d"
            ],
            [
             0.2,
             "#de77ae"
            ],
            [
             0.3,
             "#f1b6da"
            ],
            [
             0.4,
             "#fde0ef"
            ],
            [
             0.5,
             "#f7f7f7"
            ],
            [
             0.6,
             "#e6f5d0"
            ],
            [
             0.7,
             "#b8e186"
            ],
            [
             0.8,
             "#7fbc41"
            ],
            [
             0.9,
             "#4d9221"
            ],
            [
             1,
             "#276419"
            ]
           ],
           "sequential": [
            [
             0,
             "#0d0887"
            ],
            [
             0.1111111111111111,
             "#46039f"
            ],
            [
             0.2222222222222222,
             "#7201a8"
            ],
            [
             0.3333333333333333,
             "#9c179e"
            ],
            [
             0.4444444444444444,
             "#bd3786"
            ],
            [
             0.5555555555555556,
             "#d8576b"
            ],
            [
             0.6666666666666666,
             "#ed7953"
            ],
            [
             0.7777777777777778,
             "#fb9f3a"
            ],
            [
             0.8888888888888888,
             "#fdca26"
            ],
            [
             1,
             "#f0f921"
            ]
           ],
           "sequentialminus": [
            [
             0,
             "#0d0887"
            ],
            [
             0.1111111111111111,
             "#46039f"
            ],
            [
             0.2222222222222222,
             "#7201a8"
            ],
            [
             0.3333333333333333,
             "#9c179e"
            ],
            [
             0.4444444444444444,
             "#bd3786"
            ],
            [
             0.5555555555555556,
             "#d8576b"
            ],
            [
             0.6666666666666666,
             "#ed7953"
            ],
            [
             0.7777777777777778,
             "#fb9f3a"
            ],
            [
             0.8888888888888888,
             "#fdca26"
            ],
            [
             1,
             "#f0f921"
            ]
           ]
          },
          "colorway": [
           "#636efa",
           "#EF553B",
           "#00cc96",
           "#ab63fa",
           "#FFA15A",
           "#19d3f3",
           "#FF6692",
           "#B6E880",
           "#FF97FF",
           "#FECB52"
          ],
          "font": {
           "color": "#2a3f5f"
          },
          "geo": {
           "bgcolor": "white",
           "lakecolor": "white",
           "landcolor": "#E5ECF6",
           "showlakes": true,
           "showland": true,
           "subunitcolor": "white"
          },
          "hoverlabel": {
           "align": "left"
          },
          "hovermode": "closest",
          "mapbox": {
           "style": "light"
          },
          "paper_bgcolor": "white",
          "plot_bgcolor": "#E5ECF6",
          "polar": {
           "angularaxis": {
            "gridcolor": "white",
            "linecolor": "white",
            "ticks": ""
           },
           "bgcolor": "#E5ECF6",
           "radialaxis": {
            "gridcolor": "white",
            "linecolor": "white",
            "ticks": ""
           }
          },
          "scene": {
           "xaxis": {
            "backgroundcolor": "#E5ECF6",
            "gridcolor": "white",
            "gridwidth": 2,
            "linecolor": "white",
            "showbackground": true,
            "ticks": "",
            "zerolinecolor": "white"
           },
           "yaxis": {
            "backgroundcolor": "#E5ECF6",
            "gridcolor": "white",
            "gridwidth": 2,
            "linecolor": "white",
            "showbackground": true,
            "ticks": "",
            "zerolinecolor": "white"
           },
           "zaxis": {
            "backgroundcolor": "#E5ECF6",
            "gridcolor": "white",
            "gridwidth": 2,
            "linecolor": "white",
            "showbackground": true,
            "ticks": "",
            "zerolinecolor": "white"
           }
          },
          "shapedefaults": {
           "line": {
            "color": "#2a3f5f"
           }
          },
          "ternary": {
           "aaxis": {
            "gridcolor": "white",
            "linecolor": "white",
            "ticks": ""
           },
           "baxis": {
            "gridcolor": "white",
            "linecolor": "white",
            "ticks": ""
           },
           "bgcolor": "#E5ECF6",
           "caxis": {
            "gridcolor": "white",
            "linecolor": "white",
            "ticks": ""
           }
          },
          "title": {
           "x": 0.05
          },
          "xaxis": {
           "automargin": true,
           "gridcolor": "white",
           "linecolor": "white",
           "ticks": "",
           "title": {
            "standoff": 15
           },
           "zerolinecolor": "white",
           "zerolinewidth": 2
          },
          "yaxis": {
           "automargin": true,
           "gridcolor": "white",
           "linecolor": "white",
           "ticks": "",
           "title": {
            "standoff": 15
           },
           "zerolinecolor": "white",
           "zerolinewidth": 2
          }
         }
        },
        "title": {
         "text": "Strike Rate Variations"
        },
        "xaxis": {
         "title": {
          "text": "Strike Rate"
         }
        },
        "yaxis": {
         "title": {
          "text": "Count"
         }
        }
       }
      }
     },
     "metadata": {},
     "output_type": "display_data"
    }
   ],
   "source": [
    "# Filter negatives (just in case)\n",
    "data = batsman_summary[batsman_summary['strike_rate'] >= 0]['strike_rate']\n",
    "\n",
    "trace = go.Histogram(x=batsman_summary['strike_rate'], \n",
    "                     xbins=dict(start=0, end=data.max()+5, size=10) )\n",
    "\n",
    "\n",
    "layout = go.Layout(title=\"Strike Rate Variations\",\n",
    "                   xaxis= dict(title = 'Strike Rate'),\n",
    "                   yaxis= dict(title = 'Count')) \n",
    "\n",
    "fig= go.Figure(data = [trace], layout = layout)\n",
    "\n",
    "fig.show()"
   ]
  },
  {
   "cell_type": "code",
   "execution_count": 242,
   "id": "0d9a8bbc",
   "metadata": {},
   "outputs": [
    {
     "data": {
      "application/vnd.plotly.v1+json": {
       "config": {
        "plotlyServerURL": "https://plot.ly"
       },
       "data": [
        {
         "type": "histogram",
         "x": {
          "bdata": "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",
          "dtype": "f8"
         },
         "xbins": {
          "end": 250,
          "size": 10,
          "start": 0
         }
        }
       ],
       "layout": {
        "template": {
         "data": {
          "bar": [
           {
            "error_x": {
             "color": "#2a3f5f"
            },
            "error_y": {
             "color": "#2a3f5f"
            },
            "marker": {
             "line": {
              "color": "#E5ECF6",
              "width": 0.5
             },
             "pattern": {
              "fillmode": "overlay",
              "size": 10,
              "solidity": 0.2
             }
            },
            "type": "bar"
           }
          ],
          "barpolar": [
           {
            "marker": {
             "line": {
              "color": "#E5ECF6",
              "width": 0.5
             },
             "pattern": {
              "fillmode": "overlay",
              "size": 10,
              "solidity": 0.2
             }
            },
            "type": "barpolar"
           }
          ],
          "carpet": [
           {
            "aaxis": {
             "endlinecolor": "#2a3f5f",
             "gridcolor": "white",
             "linecolor": "white",
             "minorgridcolor": "white",
             "startlinecolor": "#2a3f5f"
            },
            "baxis": {
             "endlinecolor": "#2a3f5f",
             "gridcolor": "white",
             "linecolor": "white",
             "minorgridcolor": "white",
             "startlinecolor": "#2a3f5f"
            },
            "type": "carpet"
           }
          ],
          "choropleth": [
           {
            "colorbar": {
             "outlinewidth": 0,
             "ticks": ""
            },
            "type": "choropleth"
           }
          ],
          "contour": [
           {
            "colorbar": {
             "outlinewidth": 0,
             "ticks": ""
            },
            "colorscale": [
             [
              0,
              "#0d0887"
             ],
             [
              0.1111111111111111,
              "#46039f"
             ],
             [
              0.2222222222222222,
              "#7201a8"
             ],
             [
              0.3333333333333333,
              "#9c179e"
             ],
             [
              0.4444444444444444,
              "#bd3786"
             ],
             [
              0.5555555555555556,
              "#d8576b"
             ],
             [
              0.6666666666666666,
              "#ed7953"
             ],
             [
              0.7777777777777778,
              "#fb9f3a"
             ],
             [
              0.8888888888888888,
              "#fdca26"
             ],
             [
              1,
              "#f0f921"
             ]
            ],
            "type": "contour"
           }
          ],
          "contourcarpet": [
           {
            "colorbar": {
             "outlinewidth": 0,
             "ticks": ""
            },
            "type": "contourcarpet"
           }
          ],
          "heatmap": [
           {
            "colorbar": {
             "outlinewidth": 0,
             "ticks": ""
            },
            "colorscale": [
             [
              0,
              "#0d0887"
             ],
             [
              0.1111111111111111,
              "#46039f"
             ],
             [
              0.2222222222222222,
              "#7201a8"
             ],
             [
              0.3333333333333333,
              "#9c179e"
             ],
             [
              0.4444444444444444,
              "#bd3786"
             ],
             [
              0.5555555555555556,
              "#d8576b"
             ],
             [
              0.6666666666666666,
              "#ed7953"
             ],
             [
              0.7777777777777778,
              "#fb9f3a"
             ],
             [
              0.8888888888888888,
              "#fdca26"
             ],
             [
              1,
              "#f0f921"
             ]
            ],
            "type": "heatmap"
           }
          ],
          "histogram": [
           {
            "marker": {
             "pattern": {
              "fillmode": "overlay",
              "size": 10,
              "solidity": 0.2
             }
            },
            "type": "histogram"
           }
          ],
          "histogram2d": [
           {
            "colorbar": {
             "outlinewidth": 0,
             "ticks": ""
            },
            "colorscale": [
             [
              0,
              "#0d0887"
             ],
             [
              0.1111111111111111,
              "#46039f"
             ],
             [
              0.2222222222222222,
              "#7201a8"
             ],
             [
              0.3333333333333333,
              "#9c179e"
             ],
             [
              0.4444444444444444,
              "#bd3786"
             ],
             [
              0.5555555555555556,
              "#d8576b"
             ],
             [
              0.6666666666666666,
              "#ed7953"
             ],
             [
              0.7777777777777778,
              "#fb9f3a"
             ],
             [
              0.8888888888888888,
              "#fdca26"
             ],
             [
              1,
              "#f0f921"
             ]
            ],
            "type": "histogram2d"
           }
          ],
          "histogram2dcontour": [
           {
            "colorbar": {
             "outlinewidth": 0,
             "ticks": ""
            },
            "colorscale": [
             [
              0,
              "#0d0887"
             ],
             [
              0.1111111111111111,
              "#46039f"
             ],
             [
              0.2222222222222222,
              "#7201a8"
             ],
             [
              0.3333333333333333,
              "#9c179e"
             ],
             [
              0.4444444444444444,
              "#bd3786"
             ],
             [
              0.5555555555555556,
              "#d8576b"
             ],
             [
              0.6666666666666666,
              "#ed7953"
             ],
             [
              0.7777777777777778,
              "#fb9f3a"
             ],
             [
              0.8888888888888888,
              "#fdca26"
             ],
             [
              1,
              "#f0f921"
             ]
            ],
            "type": "histogram2dcontour"
           }
          ],
          "mesh3d": [
           {
            "colorbar": {
             "outlinewidth": 0,
             "ticks": ""
            },
            "type": "mesh3d"
           }
          ],
          "parcoords": [
           {
            "line": {
             "colorbar": {
              "outlinewidth": 0,
              "ticks": ""
             }
            },
            "type": "parcoords"
           }
          ],
          "pie": [
           {
            "automargin": true,
            "type": "pie"
           }
          ],
          "scatter": [
           {
            "fillpattern": {
             "fillmode": "overlay",
             "size": 10,
             "solidity": 0.2
            },
            "type": "scatter"
           }
          ],
          "scatter3d": [
           {
            "line": {
             "colorbar": {
              "outlinewidth": 0,
              "ticks": ""
             }
            },
            "marker": {
             "colorbar": {
              "outlinewidth": 0,
              "ticks": ""
             }
            },
            "type": "scatter3d"
           }
          ],
          "scattercarpet": [
           {
            "marker": {
             "colorbar": {
              "outlinewidth": 0,
              "ticks": ""
             }
            },
            "type": "scattercarpet"
           }
          ],
          "scattergeo": [
           {
            "marker": {
             "colorbar": {
              "outlinewidth": 0,
              "ticks": ""
             }
            },
            "type": "scattergeo"
           }
          ],
          "scattergl": [
           {
            "marker": {
             "colorbar": {
              "outlinewidth": 0,
              "ticks": ""
             }
            },
            "type": "scattergl"
           }
          ],
          "scattermap": [
           {
            "marker": {
             "colorbar": {
              "outlinewidth": 0,
              "ticks": ""
             }
            },
            "type": "scattermap"
           }
          ],
          "scattermapbox": [
           {
            "marker": {
             "colorbar": {
              "outlinewidth": 0,
              "ticks": ""
             }
            },
            "type": "scattermapbox"
           }
          ],
          "scatterpolar": [
           {
            "marker": {
             "colorbar": {
              "outlinewidth": 0,
              "ticks": ""
             }
            },
            "type": "scatterpolar"
           }
          ],
          "scatterpolargl": [
           {
            "marker": {
             "colorbar": {
              "outlinewidth": 0,
              "ticks": ""
             }
            },
            "type": "scatterpolargl"
           }
          ],
          "scatterternary": [
           {
            "marker": {
             "colorbar": {
              "outlinewidth": 0,
              "ticks": ""
             }
            },
            "type": "scatterternary"
           }
          ],
          "surface": [
           {
            "colorbar": {
             "outlinewidth": 0,
             "ticks": ""
            },
            "colorscale": [
             [
              0,
              "#0d0887"
             ],
             [
              0.1111111111111111,
              "#46039f"
             ],
             [
              0.2222222222222222,
              "#7201a8"
             ],
             [
              0.3333333333333333,
              "#9c179e"
             ],
             [
              0.4444444444444444,
              "#bd3786"
             ],
             [
              0.5555555555555556,
              "#d8576b"
             ],
             [
              0.6666666666666666,
              "#ed7953"
             ],
             [
              0.7777777777777778,
              "#fb9f3a"
             ],
             [
              0.8888888888888888,
              "#fdca26"
             ],
             [
              1,
              "#f0f921"
             ]
            ],
            "type": "surface"
           }
          ],
          "table": [
           {
            "cells": {
             "fill": {
              "color": "#EBF0F8"
             },
             "line": {
              "color": "white"
             }
            },
            "header": {
             "fill": {
              "color": "#C8D4E3"
             },
             "line": {
              "color": "white"
             }
            },
            "type": "table"
           }
          ]
         },
         "layout": {
          "annotationdefaults": {
           "arrowcolor": "#2a3f5f",
           "arrowhead": 0,
           "arrowwidth": 1
          },
          "autotypenumbers": "strict",
          "coloraxis": {
           "colorbar": {
            "outlinewidth": 0,
            "ticks": ""
           }
          },
          "colorscale": {
           "diverging": [
            [
             0,
             "#8e0152"
            ],
            [
             0.1,
             "#c51b7d"
            ],
            [
             0.2,
             "#de77ae"
            ],
            [
             0.3,
             "#f1b6da"
            ],
            [
             0.4,
             "#fde0ef"
            ],
            [
             0.5,
             "#f7f7f7"
            ],
            [
             0.6,
             "#e6f5d0"
            ],
            [
             0.7,
             "#b8e186"
            ],
            [
             0.8,
             "#7fbc41"
            ],
            [
             0.9,
             "#4d9221"
            ],
            [
             1,
             "#276419"
            ]
           ],
           "sequential": [
            [
             0,
             "#0d0887"
            ],
            [
             0.1111111111111111,
             "#46039f"
            ],
            [
             0.2222222222222222,
             "#7201a8"
            ],
            [
             0.3333333333333333,
             "#9c179e"
            ],
            [
             0.4444444444444444,
             "#bd3786"
            ],
            [
             0.5555555555555556,
             "#d8576b"
            ],
            [
             0.6666666666666666,
             "#ed7953"
            ],
            [
             0.7777777777777778,
             "#fb9f3a"
            ],
            [
             0.8888888888888888,
             "#fdca26"
            ],
            [
             1,
             "#f0f921"
            ]
           ],
           "sequentialminus": [
            [
             0,
             "#0d0887"
            ],
            [
             0.1111111111111111,
             "#46039f"
            ],
            [
             0.2222222222222222,
             "#7201a8"
            ],
            [
             0.3333333333333333,
             "#9c179e"
            ],
            [
             0.4444444444444444,
             "#bd3786"
            ],
            [
             0.5555555555555556,
             "#d8576b"
            ],
            [
             0.6666666666666666,
             "#ed7953"
            ],
            [
             0.7777777777777778,
             "#fb9f3a"
            ],
            [
             0.8888888888888888,
             "#fdca26"
            ],
            [
             1,
             "#f0f921"
            ]
           ]
          },
          "colorway": [
           "#636efa",
           "#EF553B",
           "#00cc96",
           "#ab63fa",
           "#FFA15A",
           "#19d3f3",
           "#FF6692",
           "#B6E880",
           "#FF97FF",
           "#FECB52"
          ],
          "font": {
           "color": "#2a3f5f"
          },
          "geo": {
           "bgcolor": "white",
           "lakecolor": "white",
           "landcolor": "#E5ECF6",
           "showlakes": true,
           "showland": true,
           "subunitcolor": "white"
          },
          "hoverlabel": {
           "align": "left"
          },
          "hovermode": "closest",
          "mapbox": {
           "style": "light"
          },
          "paper_bgcolor": "white",
          "plot_bgcolor": "#E5ECF6",
          "polar": {
           "angularaxis": {
            "gridcolor": "white",
            "linecolor": "white",
            "ticks": ""
           },
           "bgcolor": "#E5ECF6",
           "radialaxis": {
            "gridcolor": "white",
            "linecolor": "white",
            "ticks": ""
           }
          },
          "scene": {
           "xaxis": {
            "backgroundcolor": "#E5ECF6",
            "gridcolor": "white",
            "gridwidth": 2,
            "linecolor": "white",
            "showbackground": true,
            "ticks": "",
            "zerolinecolor": "white"
           },
           "yaxis": {
            "backgroundcolor": "#E5ECF6",
            "gridcolor": "white",
            "gridwidth": 2,
            "linecolor": "white",
            "showbackground": true,
            "ticks": "",
            "zerolinecolor": "white"
           },
           "zaxis": {
            "backgroundcolor": "#E5ECF6",
            "gridcolor": "white",
            "gridwidth": 2,
            "linecolor": "white",
            "showbackground": true,
            "ticks": "",
            "zerolinecolor": "white"
           }
          },
          "shapedefaults": {
           "line": {
            "color": "#2a3f5f"
           }
          },
          "ternary": {
           "aaxis": {
            "gridcolor": "white",
            "linecolor": "white",
            "ticks": ""
           },
           "baxis": {
            "gridcolor": "white",
            "linecolor": "white",
            "ticks": ""
           },
           "bgcolor": "#E5ECF6",
           "caxis": {
            "gridcolor": "white",
            "linecolor": "white",
            "ticks": ""
           }
          },
          "title": {
           "x": 0.05
          },
          "xaxis": {
           "automargin": true,
           "gridcolor": "white",
           "linecolor": "white",
           "ticks": "",
           "title": {
            "standoff": 15
           },
           "zerolinecolor": "white",
           "zerolinewidth": 2
          },
          "yaxis": {
           "automargin": true,
           "gridcolor": "white",
           "linecolor": "white",
           "ticks": "",
           "title": {
            "standoff": 15
           },
           "zerolinecolor": "white",
           "zerolinewidth": 2
          }
         }
        },
        "title": {
         "text": "Strike Rate Variations"
        },
        "xaxis": {
         "title": {
          "text": "Strike Rate"
         }
        },
        "yaxis": {
         "title": {
          "text": "Count"
         }
        }
       }
      }
     },
     "metadata": {},
     "output_type": "display_data"
    }
   ],
   "source": [
    "# start with 50, end with 250\n",
    "data = batsman_summary[batsman_summary['strike_rate'] >= 0]['strike_rate']\n",
    "\n",
    "trace = go.Histogram(x=batsman_summary['strike_rate'], \n",
    "                     xbins=dict(start=0, end=250, size=10) )\n",
    "\n",
    "\n",
    "layout = go.Layout(title=\"Strike Rate Variations\",\n",
    "                   xaxis= dict(title = 'Strike Rate'),\n",
    "                   yaxis= dict(title = 'Count')) \n",
    "\n",
    "fig= go.Figure(data = [trace], layout = layout)\n",
    "\n",
    "fig.show()"
   ]
  },
  {
   "cell_type": "markdown",
   "id": "19bf8b06",
   "metadata": {},
   "source": [
    "## <b> <center>8. Heat Map"
   ]
  },
  {
   "cell_type": "markdown",
   "id": "623fc97d",
   "metadata": {},
   "source": [
    "<span style=\"font-size: 18px;\"> <b>Plotting Heat map on the sixes per over by teams"
   ]
  },
  {
   "cell_type": "code",
   "execution_count": 243,
   "id": "b72ad889",
   "metadata": {},
   "outputs": [
    {
     "data": {
      "text/html": [
       "<div>\n",
       "<style scoped>\n",
       "    .dataframe tbody tr th:only-of-type {\n",
       "        vertical-align: middle;\n",
       "    }\n",
       "\n",
       "    .dataframe tbody tr th {\n",
       "        vertical-align: top;\n",
       "    }\n",
       "\n",
       "    .dataframe thead th {\n",
       "        text-align: right;\n",
       "    }\n",
       "</style>\n",
       "<table border=\"1\" class=\"dataframe\">\n",
       "  <thead>\n",
       "    <tr style=\"text-align: right;\">\n",
       "      <th></th>\n",
       "      <th>batting_team</th>\n",
       "      <th>over</th>\n",
       "      <th>batsman_runs</th>\n",
       "    </tr>\n",
       "  </thead>\n",
       "  <tbody>\n",
       "    <tr>\n",
       "      <th>0</th>\n",
       "      <td>Chennai Super Kings</td>\n",
       "      <td>0</td>\n",
       "      <td>9</td>\n",
       "    </tr>\n",
       "    <tr>\n",
       "      <th>1</th>\n",
       "      <td>Chennai Super Kings</td>\n",
       "      <td>1</td>\n",
       "      <td>36</td>\n",
       "    </tr>\n",
       "    <tr>\n",
       "      <th>2</th>\n",
       "      <td>Chennai Super Kings</td>\n",
       "      <td>2</td>\n",
       "      <td>67</td>\n",
       "    </tr>\n",
       "    <tr>\n",
       "      <th>3</th>\n",
       "      <td>Chennai Super Kings</td>\n",
       "      <td>3</td>\n",
       "      <td>71</td>\n",
       "    </tr>\n",
       "    <tr>\n",
       "      <th>4</th>\n",
       "      <td>Chennai Super Kings</td>\n",
       "      <td>4</td>\n",
       "      <td>75</td>\n",
       "    </tr>\n",
       "  </tbody>\n",
       "</table>\n",
       "</div>"
      ],
      "text/plain": [
       "          batting_team  over  batsman_runs\n",
       "0  Chennai Super Kings     0             9\n",
       "1  Chennai Super Kings     1            36\n",
       "2  Chennai Super Kings     2            67\n",
       "3  Chennai Super Kings     3            71\n",
       "4  Chennai Super Kings     4            75"
      ]
     },
     "execution_count": 243,
     "metadata": {},
     "output_type": "execute_result"
    }
   ],
   "source": [
    "six = delivery[delivery['batsman_runs'] == 6]\n",
    "\n",
    "six = six.groupby(['batting_team', 'over'])['batsman_runs'].count().reset_index()\n",
    "\n",
    "six.head()"
   ]
  },
  {
   "cell_type": "code",
   "execution_count": 244,
   "id": "a915b56a",
   "metadata": {},
   "outputs": [
    {
     "data": {
      "text/plain": [
       "array(['Chennai Super Kings', 'Deccan Chargers', 'Delhi Capitals',\n",
       "       'Delhi Daredevils', 'Gujarat Lions', 'Gujarat Titans',\n",
       "       'Kings XI Punjab', 'Kochi Tuskers Kerala', 'Kolkata Knight Riders',\n",
       "       'Lucknow Super Giants', 'Mumbai Indians', 'Pune Warriors',\n",
       "       'Punjab Kings', 'Rajasthan Royals', 'Rising Pune Supergiant',\n",
       "       'Rising Pune Supergiants', 'Royal Challengers Bangalore',\n",
       "       'Royal Challengers Bengaluru', 'Sunrisers Hyderabad'], dtype=object)"
      ]
     },
     "execution_count": 244,
     "metadata": {},
     "output_type": "execute_result"
    }
   ],
   "source": [
    "six.batting_team.unique()"
   ]
  },
  {
   "cell_type": "code",
   "execution_count": 245,
   "id": "47f38766",
   "metadata": {},
   "outputs": [
    {
     "name": "stdout",
     "output_type": "stream",
     "text": [
      "['Chennai Super Kings' 'Sunrisers Hyderabad' 'Delhi Capitals'\n",
      " 'Gujarat Titans' 'Punjab Kings' 'Kochi Tuskers Kerala'\n",
      " 'Kolkata Knight Riders' 'Lucknow Super Giants' 'Mumbai Indians'\n",
      " 'Rising Pune Supergiant' 'Rajasthan Royals' 'Royal Challengers Bangalore']\n"
     ]
    }
   ],
   "source": [
    "# Full IPL team name normalization dictionary\n",
    "team_mapping = {\n",
    "    # Current standardized names\n",
    "    'Chennai Super Kings': 'Chennai Super Kings',\n",
    "    'Mumbai Indians': 'Mumbai Indians',\n",
    "    'Royal Challengers Bangalore': 'Royal Challengers Bangalore',\n",
    "    'Royal Challengers Bengaluru': 'Royal Challengers Bangalore',\n",
    "    'Kolkata Knight Riders': 'Kolkata Knight Riders',\n",
    "    'Sunrisers Hyderabad': 'Sunrisers Hyderabad',\n",
    "    'Delhi Capitals': 'Delhi Capitals',\n",
    "    'Delhi Daredevils': 'Delhi Capitals',\n",
    "    'Punjab Kings': 'Punjab Kings',\n",
    "    'Kings XI Punjab': 'Punjab Kings',\n",
    "    'Rajasthan Royals': 'Rajasthan Royals',\n",
    "    'Lucknow Super Giants': 'Lucknow Super Giants',\n",
    "\n",
    "    # Teams that existed for a few seasons\n",
    "    'Deccan Chargers': 'Sunrisers Hyderabad',  # Deccan Chargers became Sunrisers\n",
    "    'Gujarat Lions': 'Gujarat Titans',  # temporary team, map to Gujarat Titans\n",
    "    'Gujarat Titans': 'Gujarat Titans',\n",
    "    'Pune Warriors': 'Rising Pune Supergiant',  # both Pune teams\n",
    "    'Rising Pune Supergiant': 'Rising Pune Supergiant',\n",
    "    'Rising Pune Supergiants': 'Rising Pune Supergiant',\n",
    "    'Kochi Tuskers Kerala': 'Kochi Tuskers Kerala',  # only existed 2011, keep original\n",
    "}\n",
    "\n",
    "# Apply mapping\n",
    "six['batting_team'] = six['batting_team'].replace(team_mapping)\n",
    "\n",
    "# Verify normalization\n",
    "print(six['batting_team'].unique())\n"
   ]
  },
  {
   "cell_type": "code",
   "execution_count": 192,
   "id": "7567eb76",
   "metadata": {},
   "outputs": [
    {
     "data": {
      "application/vnd.plotly.v1+json": {
       "config": {
        "plotlyServerURL": "https://plot.ly"
       },
       "data": [
        {
         "type": "heatmap",
         "x": [
          "Chennai Super Kings",
          "Chennai Super Kings",
          "Chennai Super Kings",
          "Chennai Super Kings",
          "Chennai Super Kings",
          "Chennai Super Kings",
          "Chennai Super Kings",
          "Chennai Super Kings",
          "Chennai Super Kings",
          "Chennai Super Kings",
          "Chennai Super Kings",
          "Chennai Super Kings",
          "Chennai Super Kings",
          "Chennai Super Kings",
          "Chennai Super Kings",
          "Chennai Super Kings",
          "Chennai Super Kings",
          "Chennai Super Kings",
          "Chennai Super Kings",
          "Chennai Super Kings",
          "Sunrisers Hyderabad",
          "Sunrisers Hyderabad",
          "Sunrisers Hyderabad",
          "Sunrisers Hyderabad",
          "Sunrisers Hyderabad",
          "Sunrisers Hyderabad",
          "Sunrisers Hyderabad",
          "Sunrisers Hyderabad",
          "Sunrisers Hyderabad",
          "Sunrisers Hyderabad",
          "Sunrisers Hyderabad",
          "Sunrisers Hyderabad",
          "Sunrisers Hyderabad",
          "Sunrisers Hyderabad",
          "Sunrisers Hyderabad",
          "Sunrisers Hyderabad",
          "Sunrisers Hyderabad",
          "Sunrisers Hyderabad",
          "Sunrisers Hyderabad",
          "Sunrisers Hyderabad",
          "Delhi Capitals",
          "Delhi Capitals",
          "Delhi Capitals",
          "Delhi Capitals",
          "Delhi Capitals",
          "Delhi Capitals",
          "Delhi Capitals",
          "Delhi Capitals",
          "Delhi Capitals",
          "Delhi Capitals",
          "Delhi Capitals",
          "Delhi Capitals",
          "Delhi Capitals",
          "Delhi Capitals",
          "Delhi Capitals",
          "Delhi Capitals",
          "Delhi Capitals",
          "Delhi Capitals",
          "Delhi Capitals",
          "Delhi Capitals",
          "Delhi Capitals",
          "Delhi Capitals",
          "Delhi Capitals",
          "Delhi Capitals",
          "Delhi Capitals",
          "Delhi Capitals",
          "Delhi Capitals",
          "Delhi Capitals",
          "Delhi Capitals",
          "Delhi Capitals",
          "Delhi Capitals",
          "Delhi Capitals",
          "Delhi Capitals",
          "Delhi Capitals",
          "Delhi Capitals",
          "Delhi Capitals",
          "Delhi Capitals",
          "Delhi Capitals",
          "Delhi Capitals",
          "Delhi Capitals",
          "Gujarat Titans",
          "Gujarat Titans",
          "Gujarat Titans",
          "Gujarat Titans",
          "Gujarat Titans",
          "Gujarat Titans",
          "Gujarat Titans",
          "Gujarat Titans",
          "Gujarat Titans",
          "Gujarat Titans",
          "Gujarat Titans",
          "Gujarat Titans",
          "Gujarat Titans",
          "Gujarat Titans",
          "Gujarat Titans",
          "Gujarat Titans",
          "Gujarat Titans",
          "Gujarat Titans",
          "Gujarat Titans",
          "Gujarat Titans",
          "Gujarat Titans",
          "Gujarat Titans",
          "Gujarat Titans",
          "Gujarat Titans",
          "Gujarat Titans",
          "Gujarat Titans",
          "Gujarat Titans",
          "Gujarat Titans",
          "Gujarat Titans",
          "Gujarat Titans",
          "Gujarat Titans",
          "Gujarat Titans",
          "Gujarat Titans",
          "Gujarat Titans",
          "Gujarat Titans",
          "Gujarat Titans",
          "Gujarat Titans",
          "Gujarat Titans",
          "Gujarat Titans",
          "Gujarat Titans",
          "Punjab Kings",
          "Punjab Kings",
          "Punjab Kings",
          "Punjab Kings",
          "Punjab Kings",
          "Punjab Kings",
          "Punjab Kings",
          "Punjab Kings",
          "Punjab Kings",
          "Punjab Kings",
          "Punjab Kings",
          "Punjab Kings",
          "Punjab Kings",
          "Punjab Kings",
          "Punjab Kings",
          "Punjab Kings",
          "Punjab Kings",
          "Punjab Kings",
          "Punjab Kings",
          "Punjab Kings",
          "Kochi Tuskers Kerala",
          "Kochi Tuskers Kerala",
          "Kochi Tuskers Kerala",
          "Kochi Tuskers Kerala",
          "Kochi Tuskers Kerala",
          "Kochi Tuskers Kerala",
          "Kochi Tuskers Kerala",
          "Kochi Tuskers Kerala",
          "Kochi Tuskers Kerala",
          "Kochi Tuskers Kerala",
          "Kochi Tuskers Kerala",
          "Kochi Tuskers Kerala",
          "Kochi Tuskers Kerala",
          "Kochi Tuskers Kerala",
          "Kochi Tuskers Kerala",
          "Kochi Tuskers Kerala",
          "Kochi Tuskers Kerala",
          "Kochi Tuskers Kerala",
          "Kochi Tuskers Kerala",
          "Kolkata Knight Riders",
          "Kolkata Knight Riders",
          "Kolkata Knight Riders",
          "Kolkata Knight Riders",
          "Kolkata Knight Riders",
          "Kolkata Knight Riders",
          "Kolkata Knight Riders",
          "Kolkata Knight Riders",
          "Kolkata Knight Riders",
          "Kolkata Knight Riders",
          "Kolkata Knight Riders",
          "Kolkata Knight Riders",
          "Kolkata Knight Riders",
          "Kolkata Knight Riders",
          "Kolkata Knight Riders",
          "Kolkata Knight Riders",
          "Kolkata Knight Riders",
          "Kolkata Knight Riders",
          "Kolkata Knight Riders",
          "Kolkata Knight Riders",
          "Lucknow Super Giants",
          "Lucknow Super Giants",
          "Lucknow Super Giants",
          "Lucknow Super Giants",
          "Lucknow Super Giants",
          "Lucknow Super Giants",
          "Lucknow Super Giants",
          "Lucknow Super Giants",
          "Lucknow Super Giants",
          "Lucknow Super Giants",
          "Lucknow Super Giants",
          "Lucknow Super Giants",
          "Lucknow Super Giants",
          "Lucknow Super Giants",
          "Lucknow Super Giants",
          "Lucknow Super Giants",
          "Lucknow Super Giants",
          "Lucknow Super Giants",
          "Lucknow Super Giants",
          "Lucknow Super Giants",
          "Mumbai Indians",
          "Mumbai Indians",
          "Mumbai Indians",
          "Mumbai Indians",
          "Mumbai Indians",
          "Mumbai Indians",
          "Mumbai Indians",
          "Mumbai Indians",
          "Mumbai Indians",
          "Mumbai Indians",
          "Mumbai Indians",
          "Mumbai Indians",
          "Mumbai Indians",
          "Mumbai Indians",
          "Mumbai Indians",
          "Mumbai Indians",
          "Mumbai Indians",
          "Mumbai Indians",
          "Mumbai Indians",
          "Mumbai Indians",
          "Rising Pune Supergiant",
          "Rising Pune Supergiant",
          "Rising Pune Supergiant",
          "Rising Pune Supergiant",
          "Rising Pune Supergiant",
          "Rising Pune Supergiant",
          "Rising Pune Supergiant",
          "Rising Pune Supergiant",
          "Rising Pune Supergiant",
          "Rising Pune Supergiant",
          "Rising Pune Supergiant",
          "Rising Pune Supergiant",
          "Rising Pune Supergiant",
          "Rising Pune Supergiant",
          "Rising Pune Supergiant",
          "Rising Pune Supergiant",
          "Rising Pune Supergiant",
          "Rising Pune Supergiant",
          "Rising Pune Supergiant",
          "Rising Pune Supergiant",
          "Punjab Kings",
          "Punjab Kings",
          "Punjab Kings",
          "Punjab Kings",
          "Punjab Kings",
          "Punjab Kings",
          "Punjab Kings",
          "Punjab Kings",
          "Punjab Kings",
          "Punjab Kings",
          "Punjab Kings",
          "Punjab Kings",
          "Punjab Kings",
          "Punjab Kings",
          "Punjab Kings",
          "Punjab Kings",
          "Punjab Kings",
          "Punjab Kings",
          "Punjab Kings",
          "Punjab Kings",
          "Rajasthan Royals",
          "Rajasthan Royals",
          "Rajasthan Royals",
          "Rajasthan Royals",
          "Rajasthan Royals",
          "Rajasthan Royals",
          "Rajasthan Royals",
          "Rajasthan Royals",
          "Rajasthan Royals",
          "Rajasthan Royals",
          "Rajasthan Royals",
          "Rajasthan Royals",
          "Rajasthan Royals",
          "Rajasthan Royals",
          "Rajasthan Royals",
          "Rajasthan Royals",
          "Rajasthan Royals",
          "Rajasthan Royals",
          "Rajasthan Royals",
          "Rajasthan Royals",
          "Rising Pune Supergiant",
          "Rising Pune Supergiant",
          "Rising Pune Supergiant",
          "Rising Pune Supergiant",
          "Rising Pune Supergiant",
          "Rising Pune Supergiant",
          "Rising Pune Supergiant",
          "Rising Pune Supergiant",
          "Rising Pune Supergiant",
          "Rising Pune Supergiant",
          "Rising Pune Supergiant",
          "Rising Pune Supergiant",
          "Rising Pune Supergiant",
          "Rising Pune Supergiant",
          "Rising Pune Supergiant",
          "Rising Pune Supergiant",
          "Rising Pune Supergiant",
          "Rising Pune Supergiant",
          "Rising Pune Supergiant",
          "Rising Pune Supergiant",
          "Rising Pune Supergiant",
          "Rising Pune Supergiant",
          "Rising Pune Supergiant",
          "Rising Pune Supergiant",
          "Rising Pune Supergiant",
          "Rising Pune Supergiant",
          "Rising Pune Supergiant",
          "Rising Pune Supergiant",
          "Rising Pune Supergiant",
          "Rising Pune Supergiant",
          "Rising Pune Supergiant",
          "Rising Pune Supergiant",
          "Rising Pune Supergiant",
          "Rising Pune Supergiant",
          "Rising Pune Supergiant",
          "Rising Pune Supergiant",
          "Rising Pune Supergiant",
          "Royal Challengers Bangalore",
          "Royal Challengers Bangalore",
          "Royal Challengers Bangalore",
          "Royal Challengers Bangalore",
          "Royal Challengers Bangalore",
          "Royal Challengers Bangalore",
          "Royal Challengers Bangalore",
          "Royal Challengers Bangalore",
          "Royal Challengers Bangalore",
          "Royal Challengers Bangalore",
          "Royal Challengers Bangalore",
          "Royal Challengers Bangalore",
          "Royal Challengers Bangalore",
          "Royal Challengers Bangalore",
          "Royal Challengers Bangalore",
          "Royal Challengers Bangalore",
          "Royal Challengers Bangalore",
          "Royal Challengers Bangalore",
          "Royal Challengers Bangalore",
          "Royal Challengers Bangalore",
          "Royal Challengers Bangalore",
          "Royal Challengers Bangalore",
          "Royal Challengers Bangalore",
          "Royal Challengers Bangalore",
          "Royal Challengers Bangalore",
          "Royal Challengers Bangalore",
          "Royal Challengers Bangalore",
          "Royal Challengers Bangalore",
          "Royal Challengers Bangalore",
          "Royal Challengers Bangalore",
          "Royal Challengers Bangalore",
          "Royal Challengers Bangalore",
          "Royal Challengers Bangalore",
          "Royal Challengers Bangalore",
          "Royal Challengers Bangalore",
          "Royal Challengers Bangalore",
          "Royal Challengers Bangalore",
          "Royal Challengers Bangalore",
          "Royal Challengers Bangalore",
          "Royal Challengers Bangalore",
          "Sunrisers Hyderabad",
          "Sunrisers Hyderabad",
          "Sunrisers Hyderabad",
          "Sunrisers Hyderabad",
          "Sunrisers Hyderabad",
          "Sunrisers Hyderabad",
          "Sunrisers Hyderabad",
          "Sunrisers Hyderabad",
          "Sunrisers Hyderabad",
          "Sunrisers Hyderabad",
          "Sunrisers Hyderabad",
          "Sunrisers Hyderabad",
          "Sunrisers Hyderabad",
          "Sunrisers Hyderabad",
          "Sunrisers Hyderabad",
          "Sunrisers Hyderabad",
          "Sunrisers Hyderabad",
          "Sunrisers Hyderabad",
          "Sunrisers Hyderabad",
          "Sunrisers Hyderabad"
         ],
         "y": {
          "bdata": "AAECAwQFBgcICQoLDA0ODxAREhMAAQIDBAUGBwgJCgsMDQ4PEBESEwABAgMEBQYHCAkKCwwNDg8QERITAAECAwQFBgcICQoLDA0ODxAREhMAAQIDBAUGBwgJCgsMDQ4PEBESEwABAgMEBQYHCAkKCwwNDg8QERITAAECAwQFBgcICQoLDA0ODxAREhMAAQIDBAUGBwgJCgsMDQ4QERITAAECAwQFBgcICQoLDA0ODxAREhMAAQIDBAUGBwgJCgsMDQ4PEBESEwABAgMEBQYHCAkKCwwNDg8QERITAAECAwQFBgcICQoLDA0ODxAREhMAAQIDBAUGBwgJCgsMDQ4PEBESEwABAgMEBQYHCAkKCwwNDg8QERITAAIDBAUGCAkKCwwNDg8QERITAQIDBAUGBwgJCgsMDQ4PEBESEwABAgMEBQYHCAkKCwwNDg8QERITAAECAwQFBgcICQoLDA0ODxAREhMAAQIDBAUGBwgJCgsMDQ4PEBESEw==",
          "dtype": "i1"
         },
         "z": {
          "bdata": "CQAkAEMARwBLAFUAMAAoAEAAMABMAEwASwBWAFIAWgBXAH4AdACYAAMAFQALABEAGwAWAAsADQARAA4ADwAaABcAFgAUABUAJgAlABcAEwAHABEAHwAgACkAFgATABYAFQAUABUAFAAlABMAIAAhACQAJgAlAC0ADgAXACMALAAiACAAFwAfACQAHgAnACkALQAoACIAMwBAADQAQQBEAAQABgAOAAkACwAMAAoABgALAAgABQAHAAUACAAFAAUABwAJAAkABAAFAAcABgAHAAkACgAHAAYADAAIAA4ADwALAAwAFQARABIAGgAcACAAFQAhACoANAAwADUAKAAuADgALAAzADUAOgA+AD0AUQA1AEQASABRAAIABAADAAMAAwADAAIAAgABAAMAAQADAAIAAwAEAAMABAAFAAIAHwAzADsAQQA8AEoAMABEADsAPQBHAFMAWQBPAFgAaABnAGgAcgBUAAMABgAMAA4AEwATAAgAEAATABEADQAIABIAFAAZABgADgAVACEAFwAYACsAPgBKAFkAUgAnADMATwA4AEAAUgBVAGMAZABlAHQAkQCDAKMABQAGAAYABwAHAAMABQAKAAkABgANAAUACgANAA0AEAANAAwAEgATAAMAEQARABEAEQAXAAkADgAaABEAHAAYABQAFwAbACQAFAAlAB0AJAAdABsAKgA/ADgANwAnADgANgA1AEAAPQBJAEUAPgBVAE8AWwBhAFIAAQACAAUACAAGAAEAAwAIAAMAAgAHAAQABQAFAAIAAgAOAAsAAgABAAEABQAFAAQAAwABAAEAAgACAAEAAQAHAAYABgAJAAIACQAcACoAOwBFADsANgAeADgAQgBFAEkAOgBSAFYAVgBtAGgAeABzAHsABAAJAAoABQAFAAkABAAHAAwACQALAAcABQAHAAYADAAKAAsACwALAAwAKgA2AB8AOAAuACIAKgAsACYAKAAqADoAQQBNADgAOwBJAF4ATwA=",
          "dtype": "i2"
         }
        }
       ],
       "layout": {
        "template": {
         "data": {
          "bar": [
           {
            "error_x": {
             "color": "#2a3f5f"
            },
            "error_y": {
             "color": "#2a3f5f"
            },
            "marker": {
             "line": {
              "color": "#E5ECF6",
              "width": 0.5
             },
             "pattern": {
              "fillmode": "overlay",
              "size": 10,
              "solidity": 0.2
             }
            },
            "type": "bar"
           }
          ],
          "barpolar": [
           {
            "marker": {
             "line": {
              "color": "#E5ECF6",
              "width": 0.5
             },
             "pattern": {
              "fillmode": "overlay",
              "size": 10,
              "solidity": 0.2
             }
            },
            "type": "barpolar"
           }
          ],
          "carpet": [
           {
            "aaxis": {
             "endlinecolor": "#2a3f5f",
             "gridcolor": "white",
             "linecolor": "white",
             "minorgridcolor": "white",
             "startlinecolor": "#2a3f5f"
            },
            "baxis": {
             "endlinecolor": "#2a3f5f",
             "gridcolor": "white",
             "linecolor": "white",
             "minorgridcolor": "white",
             "startlinecolor": "#2a3f5f"
            },
            "type": "carpet"
           }
          ],
          "choropleth": [
           {
            "colorbar": {
             "outlinewidth": 0,
             "ticks": ""
            },
            "type": "choropleth"
           }
          ],
          "contour": [
           {
            "colorbar": {
             "outlinewidth": 0,
             "ticks": ""
            },
            "colorscale": [
             [
              0,
              "#0d0887"
             ],
             [
              0.1111111111111111,
              "#46039f"
             ],
             [
              0.2222222222222222,
              "#7201a8"
             ],
             [
              0.3333333333333333,
              "#9c179e"
             ],
             [
              0.4444444444444444,
              "#bd3786"
             ],
             [
              0.5555555555555556,
              "#d8576b"
             ],
             [
              0.6666666666666666,
              "#ed7953"
             ],
             [
              0.7777777777777778,
              "#fb9f3a"
             ],
             [
              0.8888888888888888,
              "#fdca26"
             ],
             [
              1,
              "#f0f921"
             ]
            ],
            "type": "contour"
           }
          ],
          "contourcarpet": [
           {
            "colorbar": {
             "outlinewidth": 0,
             "ticks": ""
            },
            "type": "contourcarpet"
           }
          ],
          "heatmap": [
           {
            "colorbar": {
             "outlinewidth": 0,
             "ticks": ""
            },
            "colorscale": [
             [
              0,
              "#0d0887"
             ],
             [
              0.1111111111111111,
              "#46039f"
             ],
             [
              0.2222222222222222,
              "#7201a8"
             ],
             [
              0.3333333333333333,
              "#9c179e"
             ],
             [
              0.4444444444444444,
              "#bd3786"
             ],
             [
              0.5555555555555556,
              "#d8576b"
             ],
             [
              0.6666666666666666,
              "#ed7953"
             ],
             [
              0.7777777777777778,
              "#fb9f3a"
             ],
             [
              0.8888888888888888,
              "#fdca26"
             ],
             [
              1,
              "#f0f921"
             ]
            ],
            "type": "heatmap"
           }
          ],
          "histogram": [
           {
            "marker": {
             "pattern": {
              "fillmode": "overlay",
              "size": 10,
              "solidity": 0.2
             }
            },
            "type": "histogram"
           }
          ],
          "histogram2d": [
           {
            "colorbar": {
             "outlinewidth": 0,
             "ticks": ""
            },
            "colorscale": [
             [
              0,
              "#0d0887"
             ],
             [
              0.1111111111111111,
              "#46039f"
             ],
             [
              0.2222222222222222,
              "#7201a8"
             ],
             [
              0.3333333333333333,
              "#9c179e"
             ],
             [
              0.4444444444444444,
              "#bd3786"
             ],
             [
              0.5555555555555556,
              "#d8576b"
             ],
             [
              0.6666666666666666,
              "#ed7953"
             ],
             [
              0.7777777777777778,
              "#fb9f3a"
             ],
             [
              0.8888888888888888,
              "#fdca26"
             ],
             [
              1,
              "#f0f921"
             ]
            ],
            "type": "histogram2d"
           }
          ],
          "histogram2dcontour": [
           {
            "colorbar": {
             "outlinewidth": 0,
             "ticks": ""
            },
            "colorscale": [
             [
              0,
              "#0d0887"
             ],
             [
              0.1111111111111111,
              "#46039f"
             ],
             [
              0.2222222222222222,
              "#7201a8"
             ],
             [
              0.3333333333333333,
              "#9c179e"
             ],
             [
              0.4444444444444444,
              "#bd3786"
             ],
             [
              0.5555555555555556,
              "#d8576b"
             ],
             [
              0.6666666666666666,
              "#ed7953"
             ],
             [
              0.7777777777777778,
              "#fb9f3a"
             ],
             [
              0.8888888888888888,
              "#fdca26"
             ],
             [
              1,
              "#f0f921"
             ]
            ],
            "type": "histogram2dcontour"
           }
          ],
          "mesh3d": [
           {
            "colorbar": {
             "outlinewidth": 0,
             "ticks": ""
            },
            "type": "mesh3d"
           }
          ],
          "parcoords": [
           {
            "line": {
             "colorbar": {
              "outlinewidth": 0,
              "ticks": ""
             }
            },
            "type": "parcoords"
           }
          ],
          "pie": [
           {
            "automargin": true,
            "type": "pie"
           }
          ],
          "scatter": [
           {
            "fillpattern": {
             "fillmode": "overlay",
             "size": 10,
             "solidity": 0.2
            },
            "type": "scatter"
           }
          ],
          "scatter3d": [
           {
            "line": {
             "colorbar": {
              "outlinewidth": 0,
              "ticks": ""
             }
            },
            "marker": {
             "colorbar": {
              "outlinewidth": 0,
              "ticks": ""
             }
            },
            "type": "scatter3d"
           }
          ],
          "scattercarpet": [
           {
            "marker": {
             "colorbar": {
              "outlinewidth": 0,
              "ticks": ""
             }
            },
            "type": "scattercarpet"
           }
          ],
          "scattergeo": [
           {
            "marker": {
             "colorbar": {
              "outlinewidth": 0,
              "ticks": ""
             }
            },
            "type": "scattergeo"
           }
          ],
          "scattergl": [
           {
            "marker": {
             "colorbar": {
              "outlinewidth": 0,
              "ticks": ""
             }
            },
            "type": "scattergl"
           }
          ],
          "scattermap": [
           {
            "marker": {
             "colorbar": {
              "outlinewidth": 0,
              "ticks": ""
             }
            },
            "type": "scattermap"
           }
          ],
          "scattermapbox": [
           {
            "marker": {
             "colorbar": {
              "outlinewidth": 0,
              "ticks": ""
             }
            },
            "type": "scattermapbox"
           }
          ],
          "scatterpolar": [
           {
            "marker": {
             "colorbar": {
              "outlinewidth": 0,
              "ticks": ""
             }
            },
            "type": "scatterpolar"
           }
          ],
          "scatterpolargl": [
           {
            "marker": {
             "colorbar": {
              "outlinewidth": 0,
              "ticks": ""
             }
            },
            "type": "scatterpolargl"
           }
          ],
          "scatterternary": [
           {
            "marker": {
             "colorbar": {
              "outlinewidth": 0,
              "ticks": ""
             }
            },
            "type": "scatterternary"
           }
          ],
          "surface": [
           {
            "colorbar": {
             "outlinewidth": 0,
             "ticks": ""
            },
            "colorscale": [
             [
              0,
              "#0d0887"
             ],
             [
              0.1111111111111111,
              "#46039f"
             ],
             [
              0.2222222222222222,
              "#7201a8"
             ],
             [
              0.3333333333333333,
              "#9c179e"
             ],
             [
              0.4444444444444444,
              "#bd3786"
             ],
             [
              0.5555555555555556,
              "#d8576b"
             ],
             [
              0.6666666666666666,
              "#ed7953"
             ],
             [
              0.7777777777777778,
              "#fb9f3a"
             ],
             [
              0.8888888888888888,
              "#fdca26"
             ],
             [
              1,
              "#f0f921"
             ]
            ],
            "type": "surface"
           }
          ],
          "table": [
           {
            "cells": {
             "fill": {
              "color": "#EBF0F8"
             },
             "line": {
              "color": "white"
             }
            },
            "header": {
             "fill": {
              "color": "#C8D4E3"
             },
             "line": {
              "color": "white"
             }
            },
            "type": "table"
           }
          ]
         },
         "layout": {
          "annotationdefaults": {
           "arrowcolor": "#2a3f5f",
           "arrowhead": 0,
           "arrowwidth": 1
          },
          "autotypenumbers": "strict",
          "coloraxis": {
           "colorbar": {
            "outlinewidth": 0,
            "ticks": ""
           }
          },
          "colorscale": {
           "diverging": [
            [
             0,
             "#8e0152"
            ],
            [
             0.1,
             "#c51b7d"
            ],
            [
             0.2,
             "#de77ae"
            ],
            [
             0.3,
             "#f1b6da"
            ],
            [
             0.4,
             "#fde0ef"
            ],
            [
             0.5,
             "#f7f7f7"
            ],
            [
             0.6,
             "#e6f5d0"
            ],
            [
             0.7,
             "#b8e186"
            ],
            [
             0.8,
             "#7fbc41"
            ],
            [
             0.9,
             "#4d9221"
            ],
            [
             1,
             "#276419"
            ]
           ],
           "sequential": [
            [
             0,
             "#0d0887"
            ],
            [
             0.1111111111111111,
             "#46039f"
            ],
            [
             0.2222222222222222,
             "#7201a8"
            ],
            [
             0.3333333333333333,
             "#9c179e"
            ],
            [
             0.4444444444444444,
             "#bd3786"
            ],
            [
             0.5555555555555556,
             "#d8576b"
            ],
            [
             0.6666666666666666,
             "#ed7953"
            ],
            [
             0.7777777777777778,
             "#fb9f3a"
            ],
            [
             0.8888888888888888,
             "#fdca26"
            ],
            [
             1,
             "#f0f921"
            ]
           ],
           "sequentialminus": [
            [
             0,
             "#0d0887"
            ],
            [
             0.1111111111111111,
             "#46039f"
            ],
            [
             0.2222222222222222,
             "#7201a8"
            ],
            [
             0.3333333333333333,
             "#9c179e"
            ],
            [
             0.4444444444444444,
             "#bd3786"
            ],
            [
             0.5555555555555556,
             "#d8576b"
            ],
            [
             0.6666666666666666,
             "#ed7953"
            ],
            [
             0.7777777777777778,
             "#fb9f3a"
            ],
            [
             0.8888888888888888,
             "#fdca26"
            ],
            [
             1,
             "#f0f921"
            ]
           ]
          },
          "colorway": [
           "#636efa",
           "#EF553B",
           "#00cc96",
           "#ab63fa",
           "#FFA15A",
           "#19d3f3",
           "#FF6692",
           "#B6E880",
           "#FF97FF",
           "#FECB52"
          ],
          "font": {
           "color": "#2a3f5f"
          },
          "geo": {
           "bgcolor": "white",
           "lakecolor": "white",
           "landcolor": "#E5ECF6",
           "showlakes": true,
           "showland": true,
           "subunitcolor": "white"
          },
          "hoverlabel": {
           "align": "left"
          },
          "hovermode": "closest",
          "mapbox": {
           "style": "light"
          },
          "paper_bgcolor": "white",
          "plot_bgcolor": "#E5ECF6",
          "polar": {
           "angularaxis": {
            "gridcolor": "white",
            "linecolor": "white",
            "ticks": ""
           },
           "bgcolor": "#E5ECF6",
           "radialaxis": {
            "gridcolor": "white",
            "linecolor": "white",
            "ticks": ""
           }
          },
          "scene": {
           "xaxis": {
            "backgroundcolor": "#E5ECF6",
            "gridcolor": "white",
            "gridwidth": 2,
            "linecolor": "white",
            "showbackground": true,
            "ticks": "",
            "zerolinecolor": "white"
           },
           "yaxis": {
            "backgroundcolor": "#E5ECF6",
            "gridcolor": "white",
            "gridwidth": 2,
            "linecolor": "white",
            "showbackground": true,
            "ticks": "",
            "zerolinecolor": "white"
           },
           "zaxis": {
            "backgroundcolor": "#E5ECF6",
            "gridcolor": "white",
            "gridwidth": 2,
            "linecolor": "white",
            "showbackground": true,
            "ticks": "",
            "zerolinecolor": "white"
           }
          },
          "shapedefaults": {
           "line": {
            "color": "#2a3f5f"
           }
          },
          "ternary": {
           "aaxis": {
            "gridcolor": "white",
            "linecolor": "white",
            "ticks": ""
           },
           "baxis": {
            "gridcolor": "white",
            "linecolor": "white",
            "ticks": ""
           },
           "bgcolor": "#E5ECF6",
           "caxis": {
            "gridcolor": "white",
            "linecolor": "white",
            "ticks": ""
           }
          },
          "title": {
           "x": 0.05
          },
          "xaxis": {
           "automargin": true,
           "gridcolor": "white",
           "linecolor": "white",
           "ticks": "",
           "title": {
            "standoff": 15
           },
           "zerolinecolor": "white",
           "zerolinewidth": 2
          },
          "yaxis": {
           "automargin": true,
           "gridcolor": "white",
           "linecolor": "white",
           "ticks": "",
           "title": {
            "standoff": 15
           },
           "zerolinecolor": "white",
           "zerolinewidth": 2
          }
         }
        },
        "title": {
         "text": "Six Heatmaps"
        },
        "yaxis": {
         "title": {
          "text": "Over"
         }
        }
       }
      }
     },
     "metadata": {},
     "output_type": "display_data"
    }
   ],
   "source": [
    "trace = go.Heatmap(x=six['batting_team'], y=six['over'], z=six['batsman_runs'])\n",
    "\n",
    "layout = go.Layout(title='Six Heatmaps', yaxis=dict(title='Over'))\n",
    "\n",
    "fig = go.Figure(data = [trace], layout = layout)\n",
    "\n",
    "fig.show()"
   ]
  },
  {
   "cell_type": "markdown",
   "id": "689a2a5f",
   "metadata": {},
   "source": [
    "<B>Improving the Heatmap"
   ]
  },
  {
   "cell_type": "code",
   "execution_count": 273,
   "id": "a7913efa",
   "metadata": {},
   "outputs": [
    {
     "data": {
      "application/vnd.plotly.v1+json": {
       "config": {
        "plotlyServerURL": "https://plot.ly"
       },
       "data": [
        {
         "colorbar": {
          "tickmode": "linear",
          "ticks": "outside",
          "title": {
           "text": "Number of Sixes"
          }
         },
         "colorscale": [
          [
           0,
           "rgb(165,0,38)"
          ],
          [
           0.1,
           "rgb(215,48,39)"
          ],
          [
           0.2,
           "rgb(244,109,67)"
          ],
          [
           0.3,
           "rgb(253,174,97)"
          ],
          [
           0.4,
           "rgb(254,224,144)"
          ],
          [
           0.5,
           "rgb(255,255,191)"
          ],
          [
           0.6,
           "rgb(224,243,248)"
          ],
          [
           0.7,
           "rgb(171,217,233)"
          ],
          [
           0.8,
           "rgb(116,173,209)"
          ],
          [
           0.9,
           "rgb(69,117,180)"
          ],
          [
           1,
           "rgb(49,54,149)"
          ]
         ],
         "hovertemplate": "<b>Team:</b> %{x}<br><b>Over:</b> %{y}<br><b>Sixes:</b> %{z}<extra></extra>",
         "text": {
          "bdata": "CQAkAEMARwBLAFUAMAAoAEAAMABMAEwASwBWAFIAWgBXAH4AdACYAAMAFQALABEAGwAWAAsADQARAA4ADwAaABcAFgAUABUAJgAlABcAEwAHABEAHwAgACkAFgATABYAFQAUABUAFAAlABMAIAAhACQAJgAlAC0ADgAXACMALAAiACAAFwAfACQAHgAnACkALQAoACIAMwBAADQAQQBEAAQABgAOAAkACwAMAAoABgALAAgABQAHAAUACAAFAAUABwAJAAkABAAFAAcABgAHAAkACgAHAAYADAAIAA4ADwALAAwAFQARABIAGgAcACAAFQAhACoANAAwADUAKAAuADgALAAzADUAOgA+AD0AUQA1AEQASABRAAIABAADAAMAAwADAAIAAgABAAMAAQADAAIAAwAEAAMABAAFAAIAHwAzADsAQQA8AEoAMABEADsAPQBHAFMAWQBPAFgAaABnAGgAcgBUAAMABgAMAA4AEwATAAgAEAATABEADQAIABIAFAAZABgADgAVACEAFwAYACsAPgBKAFkAUgAnADMATwA4AEAAUgBVAGMAZABlAHQAkQCDAKMABQAGAAYABwAHAAMABQAKAAkABgANAAUACgANAA0AEAANAAwAEgATAAMAEQARABEAEQAXAAkADgAaABEAHAAYABQAFwAbACQAFAAlAB0AJAAdABsAKgA/ADgANwAnADgANgA1AEAAPQBJAEUAPgBVAE8AWwBhAFIAAQACAAUACAAGAAEAAwAIAAMAAgAHAAQABQAFAAIAAgAOAAsAAgABAAEABQAFAAQAAwABAAEAAgACAAEAAQAHAAYABgAJAAIACQAcACoAOwBFADsANgAeADgAQgBFAEkAOgBSAFYAVgBtAGgAeABzAHsABAAJAAoABQAFAAkABAAHAAwACQALAAcABQAHAAYADAAKAAsACwALAAwAKgA2AB8AOAAuACIAKgAsACYAKAAqADoAQQBNADgAOwBJAF4ATwA=",
          "dtype": "i2"
         },
         "texttemplate": "%{text}",
         "type": "heatmap",
         "x": [
          "Chennai Super Kings",
          "Chennai Super Kings",
          "Chennai Super Kings",
          "Chennai Super Kings",
          "Chennai Super Kings",
          "Chennai Super Kings",
          "Chennai Super Kings",
          "Chennai Super Kings",
          "Chennai Super Kings",
          "Chennai Super Kings",
          "Chennai Super Kings",
          "Chennai Super Kings",
          "Chennai Super Kings",
          "Chennai Super Kings",
          "Chennai Super Kings",
          "Chennai Super Kings",
          "Chennai Super Kings",
          "Chennai Super Kings",
          "Chennai Super Kings",
          "Chennai Super Kings",
          "Sunrisers Hyderabad",
          "Sunrisers Hyderabad",
          "Sunrisers Hyderabad",
          "Sunrisers Hyderabad",
          "Sunrisers Hyderabad",
          "Sunrisers Hyderabad",
          "Sunrisers Hyderabad",
          "Sunrisers Hyderabad",
          "Sunrisers Hyderabad",
          "Sunrisers Hyderabad",
          "Sunrisers Hyderabad",
          "Sunrisers Hyderabad",
          "Sunrisers Hyderabad",
          "Sunrisers Hyderabad",
          "Sunrisers Hyderabad",
          "Sunrisers Hyderabad",
          "Sunrisers Hyderabad",
          "Sunrisers Hyderabad",
          "Sunrisers Hyderabad",
          "Sunrisers Hyderabad",
          "Delhi Capitals",
          "Delhi Capitals",
          "Delhi Capitals",
          "Delhi Capitals",
          "Delhi Capitals",
          "Delhi Capitals",
          "Delhi Capitals",
          "Delhi Capitals",
          "Delhi Capitals",
          "Delhi Capitals",
          "Delhi Capitals",
          "Delhi Capitals",
          "Delhi Capitals",
          "Delhi Capitals",
          "Delhi Capitals",
          "Delhi Capitals",
          "Delhi Capitals",
          "Delhi Capitals",
          "Delhi Capitals",
          "Delhi Capitals",
          "Delhi Capitals",
          "Delhi Capitals",
          "Delhi Capitals",
          "Delhi Capitals",
          "Delhi Capitals",
          "Delhi Capitals",
          "Delhi Capitals",
          "Delhi Capitals",
          "Delhi Capitals",
          "Delhi Capitals",
          "Delhi Capitals",
          "Delhi Capitals",
          "Delhi Capitals",
          "Delhi Capitals",
          "Delhi Capitals",
          "Delhi Capitals",
          "Delhi Capitals",
          "Delhi Capitals",
          "Delhi Capitals",
          "Delhi Capitals",
          "Gujarat Titans",
          "Gujarat Titans",
          "Gujarat Titans",
          "Gujarat Titans",
          "Gujarat Titans",
          "Gujarat Titans",
          "Gujarat Titans",
          "Gujarat Titans",
          "Gujarat Titans",
          "Gujarat Titans",
          "Gujarat Titans",
          "Gujarat Titans",
          "Gujarat Titans",
          "Gujarat Titans",
          "Gujarat Titans",
          "Gujarat Titans",
          "Gujarat Titans",
          "Gujarat Titans",
          "Gujarat Titans",
          "Gujarat Titans",
          "Gujarat Titans",
          "Gujarat Titans",
          "Gujarat Titans",
          "Gujarat Titans",
          "Gujarat Titans",
          "Gujarat Titans",
          "Gujarat Titans",
          "Gujarat Titans",
          "Gujarat Titans",
          "Gujarat Titans",
          "Gujarat Titans",
          "Gujarat Titans",
          "Gujarat Titans",
          "Gujarat Titans",
          "Gujarat Titans",
          "Gujarat Titans",
          "Gujarat Titans",
          "Gujarat Titans",
          "Gujarat Titans",
          "Gujarat Titans",
          "Punjab Kings",
          "Punjab Kings",
          "Punjab Kings",
          "Punjab Kings",
          "Punjab Kings",
          "Punjab Kings",
          "Punjab Kings",
          "Punjab Kings",
          "Punjab Kings",
          "Punjab Kings",
          "Punjab Kings",
          "Punjab Kings",
          "Punjab Kings",
          "Punjab Kings",
          "Punjab Kings",
          "Punjab Kings",
          "Punjab Kings",
          "Punjab Kings",
          "Punjab Kings",
          "Punjab Kings",
          "Kochi Tuskers Kerala",
          "Kochi Tuskers Kerala",
          "Kochi Tuskers Kerala",
          "Kochi Tuskers Kerala",
          "Kochi Tuskers Kerala",
          "Kochi Tuskers Kerala",
          "Kochi Tuskers Kerala",
          "Kochi Tuskers Kerala",
          "Kochi Tuskers Kerala",
          "Kochi Tuskers Kerala",
          "Kochi Tuskers Kerala",
          "Kochi Tuskers Kerala",
          "Kochi Tuskers Kerala",
          "Kochi Tuskers Kerala",
          "Kochi Tuskers Kerala",
          "Kochi Tuskers Kerala",
          "Kochi Tuskers Kerala",
          "Kochi Tuskers Kerala",
          "Kochi Tuskers Kerala",
          "Kolkata Knight Riders",
          "Kolkata Knight Riders",
          "Kolkata Knight Riders",
          "Kolkata Knight Riders",
          "Kolkata Knight Riders",
          "Kolkata Knight Riders",
          "Kolkata Knight Riders",
          "Kolkata Knight Riders",
          "Kolkata Knight Riders",
          "Kolkata Knight Riders",
          "Kolkata Knight Riders",
          "Kolkata Knight Riders",
          "Kolkata Knight Riders",
          "Kolkata Knight Riders",
          "Kolkata Knight Riders",
          "Kolkata Knight Riders",
          "Kolkata Knight Riders",
          "Kolkata Knight Riders",
          "Kolkata Knight Riders",
          "Kolkata Knight Riders",
          "Lucknow Super Giants",
          "Lucknow Super Giants",
          "Lucknow Super Giants",
          "Lucknow Super Giants",
          "Lucknow Super Giants",
          "Lucknow Super Giants",
          "Lucknow Super Giants",
          "Lucknow Super Giants",
          "Lucknow Super Giants",
          "Lucknow Super Giants",
          "Lucknow Super Giants",
          "Lucknow Super Giants",
          "Lucknow Super Giants",
          "Lucknow Super Giants",
          "Lucknow Super Giants",
          "Lucknow Super Giants",
          "Lucknow Super Giants",
          "Lucknow Super Giants",
          "Lucknow Super Giants",
          "Lucknow Super Giants",
          "Mumbai Indians",
          "Mumbai Indians",
          "Mumbai Indians",
          "Mumbai Indians",
          "Mumbai Indians",
          "Mumbai Indians",
          "Mumbai Indians",
          "Mumbai Indians",
          "Mumbai Indians",
          "Mumbai Indians",
          "Mumbai Indians",
          "Mumbai Indians",
          "Mumbai Indians",
          "Mumbai Indians",
          "Mumbai Indians",
          "Mumbai Indians",
          "Mumbai Indians",
          "Mumbai Indians",
          "Mumbai Indians",
          "Mumbai Indians",
          "Rising Pune Supergiant",
          "Rising Pune Supergiant",
          "Rising Pune Supergiant",
          "Rising Pune Supergiant",
          "Rising Pune Supergiant",
          "Rising Pune Supergiant",
          "Rising Pune Supergiant",
          "Rising Pune Supergiant",
          "Rising Pune Supergiant",
          "Rising Pune Supergiant",
          "Rising Pune Supergiant",
          "Rising Pune Supergiant",
          "Rising Pune Supergiant",
          "Rising Pune Supergiant",
          "Rising Pune Supergiant",
          "Rising Pune Supergiant",
          "Rising Pune Supergiant",
          "Rising Pune Supergiant",
          "Rising Pune Supergiant",
          "Rising Pune Supergiant",
          "Punjab Kings",
          "Punjab Kings",
          "Punjab Kings",
          "Punjab Kings",
          "Punjab Kings",
          "Punjab Kings",
          "Punjab Kings",
          "Punjab Kings",
          "Punjab Kings",
          "Punjab Kings",
          "Punjab Kings",
          "Punjab Kings",
          "Punjab Kings",
          "Punjab Kings",
          "Punjab Kings",
          "Punjab Kings",
          "Punjab Kings",
          "Punjab Kings",
          "Punjab Kings",
          "Punjab Kings",
          "Rajasthan Royals",
          "Rajasthan Royals",
          "Rajasthan Royals",
          "Rajasthan Royals",
          "Rajasthan Royals",
          "Rajasthan Royals",
          "Rajasthan Royals",
          "Rajasthan Royals",
          "Rajasthan Royals",
          "Rajasthan Royals",
          "Rajasthan Royals",
          "Rajasthan Royals",
          "Rajasthan Royals",
          "Rajasthan Royals",
          "Rajasthan Royals",
          "Rajasthan Royals",
          "Rajasthan Royals",
          "Rajasthan Royals",
          "Rajasthan Royals",
          "Rajasthan Royals",
          "Rising Pune Supergiant",
          "Rising Pune Supergiant",
          "Rising Pune Supergiant",
          "Rising Pune Supergiant",
          "Rising Pune Supergiant",
          "Rising Pune Supergiant",
          "Rising Pune Supergiant",
          "Rising Pune Supergiant",
          "Rising Pune Supergiant",
          "Rising Pune Supergiant",
          "Rising Pune Supergiant",
          "Rising Pune Supergiant",
          "Rising Pune Supergiant",
          "Rising Pune Supergiant",
          "Rising Pune Supergiant",
          "Rising Pune Supergiant",
          "Rising Pune Supergiant",
          "Rising Pune Supergiant",
          "Rising Pune Supergiant",
          "Rising Pune Supergiant",
          "Rising Pune Supergiant",
          "Rising Pune Supergiant",
          "Rising Pune Supergiant",
          "Rising Pune Supergiant",
          "Rising Pune Supergiant",
          "Rising Pune Supergiant",
          "Rising Pune Supergiant",
          "Rising Pune Supergiant",
          "Rising Pune Supergiant",
          "Rising Pune Supergiant",
          "Rising Pune Supergiant",
          "Rising Pune Supergiant",
          "Rising Pune Supergiant",
          "Rising Pune Supergiant",
          "Rising Pune Supergiant",
          "Rising Pune Supergiant",
          "Rising Pune Supergiant",
          "Royal Challengers Bangalore",
          "Royal Challengers Bangalore",
          "Royal Challengers Bangalore",
          "Royal Challengers Bangalore",
          "Royal Challengers Bangalore",
          "Royal Challengers Bangalore",
          "Royal Challengers Bangalore",
          "Royal Challengers Bangalore",
          "Royal Challengers Bangalore",
          "Royal Challengers Bangalore",
          "Royal Challengers Bangalore",
          "Royal Challengers Bangalore",
          "Royal Challengers Bangalore",
          "Royal Challengers Bangalore",
          "Royal Challengers Bangalore",
          "Royal Challengers Bangalore",
          "Royal Challengers Bangalore",
          "Royal Challengers Bangalore",
          "Royal Challengers Bangalore",
          "Royal Challengers Bangalore",
          "Royal Challengers Bangalore",
          "Royal Challengers Bangalore",
          "Royal Challengers Bangalore",
          "Royal Challengers Bangalore",
          "Royal Challengers Bangalore",
          "Royal Challengers Bangalore",
          "Royal Challengers Bangalore",
          "Royal Challengers Bangalore",
          "Royal Challengers Bangalore",
          "Royal Challengers Bangalore",
          "Royal Challengers Bangalore",
          "Royal Challengers Bangalore",
          "Royal Challengers Bangalore",
          "Royal Challengers Bangalore",
          "Royal Challengers Bangalore",
          "Royal Challengers Bangalore",
          "Royal Challengers Bangalore",
          "Royal Challengers Bangalore",
          "Royal Challengers Bangalore",
          "Royal Challengers Bangalore",
          "Sunrisers Hyderabad",
          "Sunrisers Hyderabad",
          "Sunrisers Hyderabad",
          "Sunrisers Hyderabad",
          "Sunrisers Hyderabad",
          "Sunrisers Hyderabad",
          "Sunrisers Hyderabad",
          "Sunrisers Hyderabad",
          "Sunrisers Hyderabad",
          "Sunrisers Hyderabad",
          "Sunrisers Hyderabad",
          "Sunrisers Hyderabad",
          "Sunrisers Hyderabad",
          "Sunrisers Hyderabad",
          "Sunrisers Hyderabad",
          "Sunrisers Hyderabad",
          "Sunrisers Hyderabad",
          "Sunrisers Hyderabad",
          "Sunrisers Hyderabad",
          "Sunrisers Hyderabad"
         ],
         "y": {
          "bdata": "AAECAwQFBgcICQoLDA0ODxAREhMAAQIDBAUGBwgJCgsMDQ4PEBESEwABAgMEBQYHCAkKCwwNDg8QERITAAECAwQFBgcICQoLDA0ODxAREhMAAQIDBAUGBwgJCgsMDQ4PEBESEwABAgMEBQYHCAkKCwwNDg8QERITAAECAwQFBgcICQoLDA0ODxAREhMAAQIDBAUGBwgJCgsMDQ4QERITAAECAwQFBgcICQoLDA0ODxAREhMAAQIDBAUGBwgJCgsMDQ4PEBESEwABAgMEBQYHCAkKCwwNDg8QERITAAECAwQFBgcICQoLDA0ODxAREhMAAQIDBAUGBwgJCgsMDQ4PEBESEwABAgMEBQYHCAkKCwwNDg8QERITAAIDBAUGCAkKCwwNDg8QERITAQIDBAUGBwgJCgsMDQ4PEBESEwABAgMEBQYHCAkKCwwNDg8QERITAAECAwQFBgcICQoLDA0ODxAREhMAAQIDBAUGBwgJCgsMDQ4PEBESEw==",
          "dtype": "i1"
         },
         "z": {
          "bdata": "CQAkAEMARwBLAFUAMAAoAEAAMABMAEwASwBWAFIAWgBXAH4AdACYAAMAFQALABEAGwAWAAsADQARAA4ADwAaABcAFgAUABUAJgAlABcAEwAHABEAHwAgACkAFgATABYAFQAUABUAFAAlABMAIAAhACQAJgAlAC0ADgAXACMALAAiACAAFwAfACQAHgAnACkALQAoACIAMwBAADQAQQBEAAQABgAOAAkACwAMAAoABgALAAgABQAHAAUACAAFAAUABwAJAAkABAAFAAcABgAHAAkACgAHAAYADAAIAA4ADwALAAwAFQARABIAGgAcACAAFQAhACoANAAwADUAKAAuADgALAAzADUAOgA+AD0AUQA1AEQASABRAAIABAADAAMAAwADAAIAAgABAAMAAQADAAIAAwAEAAMABAAFAAIAHwAzADsAQQA8AEoAMABEADsAPQBHAFMAWQBPAFgAaABnAGgAcgBUAAMABgAMAA4AEwATAAgAEAATABEADQAIABIAFAAZABgADgAVACEAFwAYACsAPgBKAFkAUgAnADMATwA4AEAAUgBVAGMAZABlAHQAkQCDAKMABQAGAAYABwAHAAMABQAKAAkABgANAAUACgANAA0AEAANAAwAEgATAAMAEQARABEAEQAXAAkADgAaABEAHAAYABQAFwAbACQAFAAlAB0AJAAdABsAKgA/ADgANwAnADgANgA1AEAAPQBJAEUAPgBVAE8AWwBhAFIAAQACAAUACAAGAAEAAwAIAAMAAgAHAAQABQAFAAIAAgAOAAsAAgABAAEABQAFAAQAAwABAAEAAgACAAEAAQAHAAYABgAJAAIACQAcACoAOwBFADsANgAeADgAQgBFAEkAOgBSAFYAVgBtAGgAeABzAHsABAAJAAoABQAFAAkABAAHAAwACQALAAcABQAHAAYADAAKAAsACwALAAwAKgA2AB8AOAAuACIAKgAsACYAKAAqADoAQQBNADgAOwBJAF4ATwA=",
          "dtype": "i2"
         }
        }
       ],
       "layout": {
        "height": 900,
        "margin": {
         "b": 80,
         "l": 80,
         "r": 40,
         "t": 80
        },
        "plot_bgcolor": "white",
        "template": {
         "data": {
          "bar": [
           {
            "error_x": {
             "color": "#2a3f5f"
            },
            "error_y": {
             "color": "#2a3f5f"
            },
            "marker": {
             "line": {
              "color": "white",
              "width": 0.5
             },
             "pattern": {
              "fillmode": "overlay",
              "size": 10,
              "solidity": 0.2
             }
            },
            "type": "bar"
           }
          ],
          "barpolar": [
           {
            "marker": {
             "line": {
              "color": "white",
              "width": 0.5
             },
             "pattern": {
              "fillmode": "overlay",
              "size": 10,
              "solidity": 0.2
             }
            },
            "type": "barpolar"
           }
          ],
          "carpet": [
           {
            "aaxis": {
             "endlinecolor": "#2a3f5f",
             "gridcolor": "#C8D4E3",
             "linecolor": "#C8D4E3",
             "minorgridcolor": "#C8D4E3",
             "startlinecolor": "#2a3f5f"
            },
            "baxis": {
             "endlinecolor": "#2a3f5f",
             "gridcolor": "#C8D4E3",
             "linecolor": "#C8D4E3",
             "minorgridcolor": "#C8D4E3",
             "startlinecolor": "#2a3f5f"
            },
            "type": "carpet"
           }
          ],
          "choropleth": [
           {
            "colorbar": {
             "outlinewidth": 0,
             "ticks": ""
            },
            "type": "choropleth"
           }
          ],
          "contour": [
           {
            "colorbar": {
             "outlinewidth": 0,
             "ticks": ""
            },
            "colorscale": [
             [
              0,
              "#0d0887"
             ],
             [
              0.1111111111111111,
              "#46039f"
             ],
             [
              0.2222222222222222,
              "#7201a8"
             ],
             [
              0.3333333333333333,
              "#9c179e"
             ],
             [
              0.4444444444444444,
              "#bd3786"
             ],
             [
              0.5555555555555556,
              "#d8576b"
             ],
             [
              0.6666666666666666,
              "#ed7953"
             ],
             [
              0.7777777777777778,
              "#fb9f3a"
             ],
             [
              0.8888888888888888,
              "#fdca26"
             ],
             [
              1,
              "#f0f921"
             ]
            ],
            "type": "contour"
           }
          ],
          "contourcarpet": [
           {
            "colorbar": {
             "outlinewidth": 0,
             "ticks": ""
            },
            "type": "contourcarpet"
           }
          ],
          "heatmap": [
           {
            "colorbar": {
             "outlinewidth": 0,
             "ticks": ""
            },
            "colorscale": [
             [
              0,
              "#0d0887"
             ],
             [
              0.1111111111111111,
              "#46039f"
             ],
             [
              0.2222222222222222,
              "#7201a8"
             ],
             [
              0.3333333333333333,
              "#9c179e"
             ],
             [
              0.4444444444444444,
              "#bd3786"
             ],
             [
              0.5555555555555556,
              "#d8576b"
             ],
             [
              0.6666666666666666,
              "#ed7953"
             ],
             [
              0.7777777777777778,
              "#fb9f3a"
             ],
             [
              0.8888888888888888,
              "#fdca26"
             ],
             [
              1,
              "#f0f921"
             ]
            ],
            "type": "heatmap"
           }
          ],
          "histogram": [
           {
            "marker": {
             "pattern": {
              "fillmode": "overlay",
              "size": 10,
              "solidity": 0.2
             }
            },
            "type": "histogram"
           }
          ],
          "histogram2d": [
           {
            "colorbar": {
             "outlinewidth": 0,
             "ticks": ""
            },
            "colorscale": [
             [
              0,
              "#0d0887"
             ],
             [
              0.1111111111111111,
              "#46039f"
             ],
             [
              0.2222222222222222,
              "#7201a8"
             ],
             [
              0.3333333333333333,
              "#9c179e"
             ],
             [
              0.4444444444444444,
              "#bd3786"
             ],
             [
              0.5555555555555556,
              "#d8576b"
             ],
             [
              0.6666666666666666,
              "#ed7953"
             ],
             [
              0.7777777777777778,
              "#fb9f3a"
             ],
             [
              0.8888888888888888,
              "#fdca26"
             ],
             [
              1,
              "#f0f921"
             ]
            ],
            "type": "histogram2d"
           }
          ],
          "histogram2dcontour": [
           {
            "colorbar": {
             "outlinewidth": 0,
             "ticks": ""
            },
            "colorscale": [
             [
              0,
              "#0d0887"
             ],
             [
              0.1111111111111111,
              "#46039f"
             ],
             [
              0.2222222222222222,
              "#7201a8"
             ],
             [
              0.3333333333333333,
              "#9c179e"
             ],
             [
              0.4444444444444444,
              "#bd3786"
             ],
             [
              0.5555555555555556,
              "#d8576b"
             ],
             [
              0.6666666666666666,
              "#ed7953"
             ],
             [
              0.7777777777777778,
              "#fb9f3a"
             ],
             [
              0.8888888888888888,
              "#fdca26"
             ],
             [
              1,
              "#f0f921"
             ]
            ],
            "type": "histogram2dcontour"
           }
          ],
          "mesh3d": [
           {
            "colorbar": {
             "outlinewidth": 0,
             "ticks": ""
            },
            "type": "mesh3d"
           }
          ],
          "parcoords": [
           {
            "line": {
             "colorbar": {
              "outlinewidth": 0,
              "ticks": ""
             }
            },
            "type": "parcoords"
           }
          ],
          "pie": [
           {
            "automargin": true,
            "type": "pie"
           }
          ],
          "scatter": [
           {
            "fillpattern": {
             "fillmode": "overlay",
             "size": 10,
             "solidity": 0.2
            },
            "type": "scatter"
           }
          ],
          "scatter3d": [
           {
            "line": {
             "colorbar": {
              "outlinewidth": 0,
              "ticks": ""
             }
            },
            "marker": {
             "colorbar": {
              "outlinewidth": 0,
              "ticks": ""
             }
            },
            "type": "scatter3d"
           }
          ],
          "scattercarpet": [
           {
            "marker": {
             "colorbar": {
              "outlinewidth": 0,
              "ticks": ""
             }
            },
            "type": "scattercarpet"
           }
          ],
          "scattergeo": [
           {
            "marker": {
             "colorbar": {
              "outlinewidth": 0,
              "ticks": ""
             }
            },
            "type": "scattergeo"
           }
          ],
          "scattergl": [
           {
            "marker": {
             "colorbar": {
              "outlinewidth": 0,
              "ticks": ""
             }
            },
            "type": "scattergl"
           }
          ],
          "scattermap": [
           {
            "marker": {
             "colorbar": {
              "outlinewidth": 0,
              "ticks": ""
             }
            },
            "type": "scattermap"
           }
          ],
          "scattermapbox": [
           {
            "marker": {
             "colorbar": {
              "outlinewidth": 0,
              "ticks": ""
             }
            },
            "type": "scattermapbox"
           }
          ],
          "scatterpolar": [
           {
            "marker": {
             "colorbar": {
              "outlinewidth": 0,
              "ticks": ""
             }
            },
            "type": "scatterpolar"
           }
          ],
          "scatterpolargl": [
           {
            "marker": {
             "colorbar": {
              "outlinewidth": 0,
              "ticks": ""
             }
            },
            "type": "scatterpolargl"
           }
          ],
          "scatterternary": [
           {
            "marker": {
             "colorbar": {
              "outlinewidth": 0,
              "ticks": ""
             }
            },
            "type": "scatterternary"
           }
          ],
          "surface": [
           {
            "colorbar": {
             "outlinewidth": 0,
             "ticks": ""
            },
            "colorscale": [
             [
              0,
              "#0d0887"
             ],
             [
              0.1111111111111111,
              "#46039f"
             ],
             [
              0.2222222222222222,
              "#7201a8"
             ],
             [
              0.3333333333333333,
              "#9c179e"
             ],
             [
              0.4444444444444444,
              "#bd3786"
             ],
             [
              0.5555555555555556,
              "#d8576b"
             ],
             [
              0.6666666666666666,
              "#ed7953"
             ],
             [
              0.7777777777777778,
              "#fb9f3a"
             ],
             [
              0.8888888888888888,
              "#fdca26"
             ],
             [
              1,
              "#f0f921"
             ]
            ],
            "type": "surface"
           }
          ],
          "table": [
           {
            "cells": {
             "fill": {
              "color": "#EBF0F8"
             },
             "line": {
              "color": "white"
             }
            },
            "header": {
             "fill": {
              "color": "#C8D4E3"
             },
             "line": {
              "color": "white"
             }
            },
            "type": "table"
           }
          ]
         },
         "layout": {
          "annotationdefaults": {
           "arrowcolor": "#2a3f5f",
           "arrowhead": 0,
           "arrowwidth": 1
          },
          "autotypenumbers": "strict",
          "coloraxis": {
           "colorbar": {
            "outlinewidth": 0,
            "ticks": ""
           }
          },
          "colorscale": {
           "diverging": [
            [
             0,
             "#8e0152"
            ],
            [
             0.1,
             "#c51b7d"
            ],
            [
             0.2,
             "#de77ae"
            ],
            [
             0.3,
             "#f1b6da"
            ],
            [
             0.4,
             "#fde0ef"
            ],
            [
             0.5,
             "#f7f7f7"
            ],
            [
             0.6,
             "#e6f5d0"
            ],
            [
             0.7,
             "#b8e186"
            ],
            [
             0.8,
             "#7fbc41"
            ],
            [
             0.9,
             "#4d9221"
            ],
            [
             1,
             "#276419"
            ]
           ],
           "sequential": [
            [
             0,
             "#0d0887"
            ],
            [
             0.1111111111111111,
             "#46039f"
            ],
            [
             0.2222222222222222,
             "#7201a8"
            ],
            [
             0.3333333333333333,
             "#9c179e"
            ],
            [
             0.4444444444444444,
             "#bd3786"
            ],
            [
             0.5555555555555556,
             "#d8576b"
            ],
            [
             0.6666666666666666,
             "#ed7953"
            ],
            [
             0.7777777777777778,
             "#fb9f3a"
            ],
            [
             0.8888888888888888,
             "#fdca26"
            ],
            [
             1,
             "#f0f921"
            ]
           ],
           "sequentialminus": [
            [
             0,
             "#0d0887"
            ],
            [
             0.1111111111111111,
             "#46039f"
            ],
            [
             0.2222222222222222,
             "#7201a8"
            ],
            [
             0.3333333333333333,
             "#9c179e"
            ],
            [
             0.4444444444444444,
             "#bd3786"
            ],
            [
             0.5555555555555556,
             "#d8576b"
            ],
            [
             0.6666666666666666,
             "#ed7953"
            ],
            [
             0.7777777777777778,
             "#fb9f3a"
            ],
            [
             0.8888888888888888,
             "#fdca26"
            ],
            [
             1,
             "#f0f921"
            ]
           ]
          },
          "colorway": [
           "#636efa",
           "#EF553B",
           "#00cc96",
           "#ab63fa",
           "#FFA15A",
           "#19d3f3",
           "#FF6692",
           "#B6E880",
           "#FF97FF",
           "#FECB52"
          ],
          "font": {
           "color": "#2a3f5f"
          },
          "geo": {
           "bgcolor": "white",
           "lakecolor": "white",
           "landcolor": "white",
           "showlakes": true,
           "showland": true,
           "subunitcolor": "#C8D4E3"
          },
          "hoverlabel": {
           "align": "left"
          },
          "hovermode": "closest",
          "mapbox": {
           "style": "light"
          },
          "paper_bgcolor": "white",
          "plot_bgcolor": "white",
          "polar": {
           "angularaxis": {
            "gridcolor": "#EBF0F8",
            "linecolor": "#EBF0F8",
            "ticks": ""
           },
           "bgcolor": "white",
           "radialaxis": {
            "gridcolor": "#EBF0F8",
            "linecolor": "#EBF0F8",
            "ticks": ""
           }
          },
          "scene": {
           "xaxis": {
            "backgroundcolor": "white",
            "gridcolor": "#DFE8F3",
            "gridwidth": 2,
            "linecolor": "#EBF0F8",
            "showbackground": true,
            "ticks": "",
            "zerolinecolor": "#EBF0F8"
           },
           "yaxis": {
            "backgroundcolor": "white",
            "gridcolor": "#DFE8F3",
            "gridwidth": 2,
            "linecolor": "#EBF0F8",
            "showbackground": true,
            "ticks": "",
            "zerolinecolor": "#EBF0F8"
           },
           "zaxis": {
            "backgroundcolor": "white",
            "gridcolor": "#DFE8F3",
            "gridwidth": 2,
            "linecolor": "#EBF0F8",
            "showbackground": true,
            "ticks": "",
            "zerolinecolor": "#EBF0F8"
           }
          },
          "shapedefaults": {
           "line": {
            "color": "#2a3f5f"
           }
          },
          "ternary": {
           "aaxis": {
            "gridcolor": "#DFE8F3",
            "linecolor": "#A2B1C6",
            "ticks": ""
           },
           "baxis": {
            "gridcolor": "#DFE8F3",
            "linecolor": "#A2B1C6",
            "ticks": ""
           },
           "bgcolor": "white",
           "caxis": {
            "gridcolor": "#DFE8F3",
            "linecolor": "#A2B1C6",
            "ticks": ""
           }
          },
          "title": {
           "x": 0.05
          },
          "xaxis": {
           "automargin": true,
           "gridcolor": "#EBF0F8",
           "linecolor": "#EBF0F8",
           "ticks": "",
           "title": {
            "standoff": 15
           },
           "zerolinecolor": "#EBF0F8",
           "zerolinewidth": 2
          },
          "yaxis": {
           "automargin": true,
           "gridcolor": "#EBF0F8",
           "linecolor": "#EBF0F8",
           "ticks": "",
           "title": {
            "standoff": 15
           },
           "zerolinecolor": "#EBF0F8",
           "zerolinewidth": 2
          }
         }
        },
        "title": {
         "font": {
          "color": "#2c3e50",
          "size": 22
         },
         "text": "🏏 Six Distribution Heatmap by Team and Over",
         "x": 0.5
        },
        "width": 1400,
        "xaxis": {
         "showgrid": false,
         "tickangle": 45,
         "tickfont": {
          "size": 12
         },
         "title": {
          "text": "Batting Team"
         }
        },
        "yaxis": {
         "dtick": 1,
         "tickfont": {
          "size": 12
         },
         "title": {
          "text": "Over"
         }
        }
       }
      }
     },
     "metadata": {},
     "output_type": "display_data"
    }
   ],
   "source": [
    "trace = go.Heatmap(\n",
    "    x=six['batting_team'],\n",
    "    y=six['over'],\n",
    "    z=six['batsman_runs'],\n",
    "    text=six['batsman_runs'],      # This adds numbers on cells\n",
    "    texttemplate=\"%{text}\",\n",
    "    colorscale='RdYlBu',              # 🔥 Better visual gradient (yellow→red)\n",
    "    hovertemplate=(\n",
    "        '<b>Team:</b> %{x}<br>'\n",
    "        '<b>Over:</b> %{y}<br>'\n",
    "        '<b>Sixes:</b> %{z}<extra></extra>'\n",
    "    ),\n",
    "    colorbar=dict(\n",
    "        title=dict(\n",
    "            text='Number of Sixes',   \n",
    "        ),\n",
    "        tickmode='linear',\n",
    "        ticks='outside'\n",
    "    )\n",
    ")\n",
    "\n",
    "layout = go.Layout(\n",
    "    title=dict(\n",
    "        text='🏏 Six Distribution Heatmap by Team and Over',\n",
    "        x=0.5,  # Center the title\n",
    "        font=dict(size=22, color='#2c3e50')\n",
    "    ),\n",
    "    xaxis=dict(\n",
    "        title='Batting Team',\n",
    "        tickangle=45,\n",
    "        tickfont=dict(size=12),\n",
    "        showgrid=False\n",
    "    ),\n",
    "    yaxis=dict(\n",
    "        title='Over',\n",
    "        tickfont=dict(size=12),\n",
    "        dtick = 1\n",
    "    ),\n",
    "    plot_bgcolor='white',\n",
    "    margin=dict(l=80, r=40, t=80, b=80)\n",
    ")\n",
    "\n",
    "fig = go.Figure(data=[trace], layout=layout)\n",
    "fig.update_layout(\n",
    "    template='plotly_white',           # Clean professional style\n",
    "    width=1400,\n",
    "    height=900\n",
    ")\n",
    "fig.show()\n"
   ]
  },
  {
   "cell_type": "markdown",
   "id": "9b7302de",
   "metadata": {},
   "source": [
    "<span style=\"font-size: 18px;\"> <b>Plotting 2 heatmap side by side  \n",
    "First: six count  \n",
    "Second: dot count"
   ]
  },
  {
   "cell_type": "code",
   "execution_count": 278,
   "id": "768e3060",
   "metadata": {},
   "outputs": [
    {
     "data": {
      "text/html": [
       "<div>\n",
       "<style scoped>\n",
       "    .dataframe tbody tr th:only-of-type {\n",
       "        vertical-align: middle;\n",
       "    }\n",
       "\n",
       "    .dataframe tbody tr th {\n",
       "        vertical-align: top;\n",
       "    }\n",
       "\n",
       "    .dataframe thead th {\n",
       "        text-align: right;\n",
       "    }\n",
       "</style>\n",
       "<table border=\"1\" class=\"dataframe\">\n",
       "  <thead>\n",
       "    <tr style=\"text-align: right;\">\n",
       "      <th></th>\n",
       "      <th>batting_team</th>\n",
       "      <th>over</th>\n",
       "      <th>batsman_runs</th>\n",
       "    </tr>\n",
       "  </thead>\n",
       "  <tbody>\n",
       "    <tr>\n",
       "      <th>0</th>\n",
       "      <td>Chennai Super Kings</td>\n",
       "      <td>0</td>\n",
       "      <td>927</td>\n",
       "    </tr>\n",
       "    <tr>\n",
       "      <th>1</th>\n",
       "      <td>Chennai Super Kings</td>\n",
       "      <td>1</td>\n",
       "      <td>846</td>\n",
       "    </tr>\n",
       "    <tr>\n",
       "      <th>2</th>\n",
       "      <td>Chennai Super Kings</td>\n",
       "      <td>2</td>\n",
       "      <td>741</td>\n",
       "    </tr>\n",
       "    <tr>\n",
       "      <th>3</th>\n",
       "      <td>Chennai Super Kings</td>\n",
       "      <td>3</td>\n",
       "      <td>697</td>\n",
       "    </tr>\n",
       "    <tr>\n",
       "      <th>4</th>\n",
       "      <td>Chennai Super Kings</td>\n",
       "      <td>4</td>\n",
       "      <td>666</td>\n",
       "    </tr>\n",
       "  </tbody>\n",
       "</table>\n",
       "</div>"
      ],
      "text/plain": [
       "          batting_team  over  batsman_runs\n",
       "0  Chennai Super Kings     0           927\n",
       "1  Chennai Super Kings     1           846\n",
       "2  Chennai Super Kings     2           741\n",
       "3  Chennai Super Kings     3           697\n",
       "4  Chennai Super Kings     4           666"
      ]
     },
     "execution_count": 278,
     "metadata": {},
     "output_type": "execute_result"
    }
   ],
   "source": [
    "dots = delivery[delivery['batsman_runs'] == 0]\n",
    "dots = dots.groupby(['batting_team', 'over'])['batsman_runs'].count().reset_index()\n",
    "\n",
    "dots.head()"
   ]
  },
  {
   "cell_type": "code",
   "execution_count": 279,
   "id": "d6e5faaa",
   "metadata": {},
   "outputs": [
    {
     "name": "stdout",
     "output_type": "stream",
     "text": [
      "['Chennai Super Kings' 'Sunrisers Hyderabad' 'Delhi Capitals'\n",
      " 'Gujarat Titans' 'Punjab Kings' 'Kochi Tuskers Kerala'\n",
      " 'Kolkata Knight Riders' 'Lucknow Super Giants' 'Mumbai Indians'\n",
      " 'Rising Pune Supergiant' 'Rajasthan Royals' 'Royal Challengers Bangalore']\n"
     ]
    }
   ],
   "source": [
    "# Full IPL team name normalization dictionary\n",
    "team_mapping = {\n",
    "    # Current standardized names\n",
    "    'Chennai Super Kings': 'Chennai Super Kings',\n",
    "    'Mumbai Indians': 'Mumbai Indians',\n",
    "    'Royal Challengers Bangalore': 'Royal Challengers Bangalore',\n",
    "    'Royal Challengers Bengaluru': 'Royal Challengers Bangalore',\n",
    "    'Kolkata Knight Riders': 'Kolkata Knight Riders',\n",
    "    'Sunrisers Hyderabad': 'Sunrisers Hyderabad',\n",
    "    'Delhi Capitals': 'Delhi Capitals',\n",
    "    'Delhi Daredevils': 'Delhi Capitals',\n",
    "    'Punjab Kings': 'Punjab Kings',\n",
    "    'Kings XI Punjab': 'Punjab Kings',\n",
    "    'Rajasthan Royals': 'Rajasthan Royals',\n",
    "    'Lucknow Super Giants': 'Lucknow Super Giants',\n",
    "\n",
    "    # Teams that existed for a few seasons\n",
    "    'Deccan Chargers': 'Sunrisers Hyderabad',  # Deccan Chargers became Sunrisers\n",
    "    'Gujarat Lions': 'Gujarat Titans',  # temporary team, map to Gujarat Titans\n",
    "    'Gujarat Titans': 'Gujarat Titans',\n",
    "    'Pune Warriors': 'Rising Pune Supergiant',  # both Pune teams\n",
    "    'Rising Pune Supergiant': 'Rising Pune Supergiant',\n",
    "    'Rising Pune Supergiants': 'Rising Pune Supergiant',\n",
    "    'Kochi Tuskers Kerala': 'Kochi Tuskers Kerala',  # only existed 2011, keep original\n",
    "}\n",
    "\n",
    "# Apply mapping\n",
    "dots['batting_team'] = dots['batting_team'].replace(team_mapping)\n",
    "\n",
    "# Verify normalization\n",
    "print(dots['batting_team'].unique())\n"
   ]
  },
  {
   "cell_type": "code",
   "execution_count": 283,
   "id": "4a0cb307",
   "metadata": {},
   "outputs": [
    {
     "name": "stderr",
     "output_type": "stream",
     "text": [
      "c:\\Program Files\\Python312\\Lib\\site-packages\\plotly\\tools.py:455: DeprecationWarning:\n",
      "\n",
      "plotly.tools.make_subplots is deprecated, please use plotly.subplots.make_subplots instead\n",
      "\n"
     ]
    },
    {
     "data": {
      "application/vnd.plotly.v1+json": {
       "config": {
        "plotlyServerURL": "https://plot.ly"
       },
       "data": [
        {
         "type": "heatmap",
         "x": [
          "Chennai Super Kings",
          "Chennai Super Kings",
          "Chennai Super Kings",
          "Chennai Super Kings",
          "Chennai Super Kings",
          "Chennai Super Kings",
          "Chennai Super Kings",
          "Chennai Super Kings",
          "Chennai Super Kings",
          "Chennai Super Kings",
          "Chennai Super Kings",
          "Chennai Super Kings",
          "Chennai Super Kings",
          "Chennai Super Kings",
          "Chennai Super Kings",
          "Chennai Super Kings",
          "Chennai Super Kings",
          "Chennai Super Kings",
          "Chennai Super Kings",
          "Chennai Super Kings",
          "Sunrisers Hyderabad",
          "Sunrisers Hyderabad",
          "Sunrisers Hyderabad",
          "Sunrisers Hyderabad",
          "Sunrisers Hyderabad",
          "Sunrisers Hyderabad",
          "Sunrisers Hyderabad",
          "Sunrisers Hyderabad",
          "Sunrisers Hyderabad",
          "Sunrisers Hyderabad",
          "Sunrisers Hyderabad",
          "Sunrisers Hyderabad",
          "Sunrisers Hyderabad",
          "Sunrisers Hyderabad",
          "Sunrisers Hyderabad",
          "Sunrisers Hyderabad",
          "Sunrisers Hyderabad",
          "Sunrisers Hyderabad",
          "Sunrisers Hyderabad",
          "Sunrisers Hyderabad",
          "Delhi Capitals",
          "Delhi Capitals",
          "Delhi Capitals",
          "Delhi Capitals",
          "Delhi Capitals",
          "Delhi Capitals",
          "Delhi Capitals",
          "Delhi Capitals",
          "Delhi Capitals",
          "Delhi Capitals",
          "Delhi Capitals",
          "Delhi Capitals",
          "Delhi Capitals",
          "Delhi Capitals",
          "Delhi Capitals",
          "Delhi Capitals",
          "Delhi Capitals",
          "Delhi Capitals",
          "Delhi Capitals",
          "Delhi Capitals",
          "Delhi Capitals",
          "Delhi Capitals",
          "Delhi Capitals",
          "Delhi Capitals",
          "Delhi Capitals",
          "Delhi Capitals",
          "Delhi Capitals",
          "Delhi Capitals",
          "Delhi Capitals",
          "Delhi Capitals",
          "Delhi Capitals",
          "Delhi Capitals",
          "Delhi Capitals",
          "Delhi Capitals",
          "Delhi Capitals",
          "Delhi Capitals",
          "Delhi Capitals",
          "Delhi Capitals",
          "Delhi Capitals",
          "Delhi Capitals",
          "Gujarat Titans",
          "Gujarat Titans",
          "Gujarat Titans",
          "Gujarat Titans",
          "Gujarat Titans",
          "Gujarat Titans",
          "Gujarat Titans",
          "Gujarat Titans",
          "Gujarat Titans",
          "Gujarat Titans",
          "Gujarat Titans",
          "Gujarat Titans",
          "Gujarat Titans",
          "Gujarat Titans",
          "Gujarat Titans",
          "Gujarat Titans",
          "Gujarat Titans",
          "Gujarat Titans",
          "Gujarat Titans",
          "Gujarat Titans",
          "Gujarat Titans",
          "Gujarat Titans",
          "Gujarat Titans",
          "Gujarat Titans",
          "Gujarat Titans",
          "Gujarat Titans",
          "Gujarat Titans",
          "Gujarat Titans",
          "Gujarat Titans",
          "Gujarat Titans",
          "Gujarat Titans",
          "Gujarat Titans",
          "Gujarat Titans",
          "Gujarat Titans",
          "Gujarat Titans",
          "Gujarat Titans",
          "Gujarat Titans",
          "Gujarat Titans",
          "Gujarat Titans",
          "Gujarat Titans",
          "Punjab Kings",
          "Punjab Kings",
          "Punjab Kings",
          "Punjab Kings",
          "Punjab Kings",
          "Punjab Kings",
          "Punjab Kings",
          "Punjab Kings",
          "Punjab Kings",
          "Punjab Kings",
          "Punjab Kings",
          "Punjab Kings",
          "Punjab Kings",
          "Punjab Kings",
          "Punjab Kings",
          "Punjab Kings",
          "Punjab Kings",
          "Punjab Kings",
          "Punjab Kings",
          "Punjab Kings",
          "Kochi Tuskers Kerala",
          "Kochi Tuskers Kerala",
          "Kochi Tuskers Kerala",
          "Kochi Tuskers Kerala",
          "Kochi Tuskers Kerala",
          "Kochi Tuskers Kerala",
          "Kochi Tuskers Kerala",
          "Kochi Tuskers Kerala",
          "Kochi Tuskers Kerala",
          "Kochi Tuskers Kerala",
          "Kochi Tuskers Kerala",
          "Kochi Tuskers Kerala",
          "Kochi Tuskers Kerala",
          "Kochi Tuskers Kerala",
          "Kochi Tuskers Kerala",
          "Kochi Tuskers Kerala",
          "Kochi Tuskers Kerala",
          "Kochi Tuskers Kerala",
          "Kochi Tuskers Kerala",
          "Kolkata Knight Riders",
          "Kolkata Knight Riders",
          "Kolkata Knight Riders",
          "Kolkata Knight Riders",
          "Kolkata Knight Riders",
          "Kolkata Knight Riders",
          "Kolkata Knight Riders",
          "Kolkata Knight Riders",
          "Kolkata Knight Riders",
          "Kolkata Knight Riders",
          "Kolkata Knight Riders",
          "Kolkata Knight Riders",
          "Kolkata Knight Riders",
          "Kolkata Knight Riders",
          "Kolkata Knight Riders",
          "Kolkata Knight Riders",
          "Kolkata Knight Riders",
          "Kolkata Knight Riders",
          "Kolkata Knight Riders",
          "Kolkata Knight Riders",
          "Lucknow Super Giants",
          "Lucknow Super Giants",
          "Lucknow Super Giants",
          "Lucknow Super Giants",
          "Lucknow Super Giants",
          "Lucknow Super Giants",
          "Lucknow Super Giants",
          "Lucknow Super Giants",
          "Lucknow Super Giants",
          "Lucknow Super Giants",
          "Lucknow Super Giants",
          "Lucknow Super Giants",
          "Lucknow Super Giants",
          "Lucknow Super Giants",
          "Lucknow Super Giants",
          "Lucknow Super Giants",
          "Lucknow Super Giants",
          "Lucknow Super Giants",
          "Lucknow Super Giants",
          "Lucknow Super Giants",
          "Mumbai Indians",
          "Mumbai Indians",
          "Mumbai Indians",
          "Mumbai Indians",
          "Mumbai Indians",
          "Mumbai Indians",
          "Mumbai Indians",
          "Mumbai Indians",
          "Mumbai Indians",
          "Mumbai Indians",
          "Mumbai Indians",
          "Mumbai Indians",
          "Mumbai Indians",
          "Mumbai Indians",
          "Mumbai Indians",
          "Mumbai Indians",
          "Mumbai Indians",
          "Mumbai Indians",
          "Mumbai Indians",
          "Mumbai Indians",
          "Rising Pune Supergiant",
          "Rising Pune Supergiant",
          "Rising Pune Supergiant",
          "Rising Pune Supergiant",
          "Rising Pune Supergiant",
          "Rising Pune Supergiant",
          "Rising Pune Supergiant",
          "Rising Pune Supergiant",
          "Rising Pune Supergiant",
          "Rising Pune Supergiant",
          "Rising Pune Supergiant",
          "Rising Pune Supergiant",
          "Rising Pune Supergiant",
          "Rising Pune Supergiant",
          "Rising Pune Supergiant",
          "Rising Pune Supergiant",
          "Rising Pune Supergiant",
          "Rising Pune Supergiant",
          "Rising Pune Supergiant",
          "Rising Pune Supergiant",
          "Punjab Kings",
          "Punjab Kings",
          "Punjab Kings",
          "Punjab Kings",
          "Punjab Kings",
          "Punjab Kings",
          "Punjab Kings",
          "Punjab Kings",
          "Punjab Kings",
          "Punjab Kings",
          "Punjab Kings",
          "Punjab Kings",
          "Punjab Kings",
          "Punjab Kings",
          "Punjab Kings",
          "Punjab Kings",
          "Punjab Kings",
          "Punjab Kings",
          "Punjab Kings",
          "Punjab Kings",
          "Rajasthan Royals",
          "Rajasthan Royals",
          "Rajasthan Royals",
          "Rajasthan Royals",
          "Rajasthan Royals",
          "Rajasthan Royals",
          "Rajasthan Royals",
          "Rajasthan Royals",
          "Rajasthan Royals",
          "Rajasthan Royals",
          "Rajasthan Royals",
          "Rajasthan Royals",
          "Rajasthan Royals",
          "Rajasthan Royals",
          "Rajasthan Royals",
          "Rajasthan Royals",
          "Rajasthan Royals",
          "Rajasthan Royals",
          "Rajasthan Royals",
          "Rajasthan Royals",
          "Rising Pune Supergiant",
          "Rising Pune Supergiant",
          "Rising Pune Supergiant",
          "Rising Pune Supergiant",
          "Rising Pune Supergiant",
          "Rising Pune Supergiant",
          "Rising Pune Supergiant",
          "Rising Pune Supergiant",
          "Rising Pune Supergiant",
          "Rising Pune Supergiant",
          "Rising Pune Supergiant",
          "Rising Pune Supergiant",
          "Rising Pune Supergiant",
          "Rising Pune Supergiant",
          "Rising Pune Supergiant",
          "Rising Pune Supergiant",
          "Rising Pune Supergiant",
          "Rising Pune Supergiant",
          "Rising Pune Supergiant",
          "Rising Pune Supergiant",
          "Rising Pune Supergiant",
          "Rising Pune Supergiant",
          "Rising Pune Supergiant",
          "Rising Pune Supergiant",
          "Rising Pune Supergiant",
          "Rising Pune Supergiant",
          "Rising Pune Supergiant",
          "Rising Pune Supergiant",
          "Rising Pune Supergiant",
          "Rising Pune Supergiant",
          "Rising Pune Supergiant",
          "Rising Pune Supergiant",
          "Rising Pune Supergiant",
          "Rising Pune Supergiant",
          "Rising Pune Supergiant",
          "Rising Pune Supergiant",
          "Rising Pune Supergiant",
          "Royal Challengers Bangalore",
          "Royal Challengers Bangalore",
          "Royal Challengers Bangalore",
          "Royal Challengers Bangalore",
          "Royal Challengers Bangalore",
          "Royal Challengers Bangalore",
          "Royal Challengers Bangalore",
          "Royal Challengers Bangalore",
          "Royal Challengers Bangalore",
          "Royal Challengers Bangalore",
          "Royal Challengers Bangalore",
          "Royal Challengers Bangalore",
          "Royal Challengers Bangalore",
          "Royal Challengers Bangalore",
          "Royal Challengers Bangalore",
          "Royal Challengers Bangalore",
          "Royal Challengers Bangalore",
          "Royal Challengers Bangalore",
          "Royal Challengers Bangalore",
          "Royal Challengers Bangalore",
          "Royal Challengers Bangalore",
          "Royal Challengers Bangalore",
          "Royal Challengers Bangalore",
          "Royal Challengers Bangalore",
          "Royal Challengers Bangalore",
          "Royal Challengers Bangalore",
          "Royal Challengers Bangalore",
          "Royal Challengers Bangalore",
          "Royal Challengers Bangalore",
          "Royal Challengers Bangalore",
          "Royal Challengers Bangalore",
          "Royal Challengers Bangalore",
          "Royal Challengers Bangalore",
          "Royal Challengers Bangalore",
          "Royal Challengers Bangalore",
          "Royal Challengers Bangalore",
          "Royal Challengers Bangalore",
          "Royal Challengers Bangalore",
          "Royal Challengers Bangalore",
          "Royal Challengers Bangalore",
          "Sunrisers Hyderabad",
          "Sunrisers Hyderabad",
          "Sunrisers Hyderabad",
          "Sunrisers Hyderabad",
          "Sunrisers Hyderabad",
          "Sunrisers Hyderabad",
          "Sunrisers Hyderabad",
          "Sunrisers Hyderabad",
          "Sunrisers Hyderabad",
          "Sunrisers Hyderabad",
          "Sunrisers Hyderabad",
          "Sunrisers Hyderabad",
          "Sunrisers Hyderabad",
          "Sunrisers Hyderabad",
          "Sunrisers Hyderabad",
          "Sunrisers Hyderabad",
          "Sunrisers Hyderabad",
          "Sunrisers Hyderabad",
          "Sunrisers Hyderabad",
          "Sunrisers Hyderabad"
         ],
         "xaxis": "x",
         "y": {
          "bdata": "AAECAwQFBgcICQoLDA0ODxAREhMAAQIDBAUGBwgJCgsMDQ4PEBESEwABAgMEBQYHCAkKCwwNDg8QERITAAECAwQFBgcICQoLDA0ODxAREhMAAQIDBAUGBwgJCgsMDQ4PEBESEwABAgMEBQYHCAkKCwwNDg8QERITAAECAwQFBgcICQoLDA0ODxAREhMAAQIDBAUGBwgJCgsMDQ4QERITAAECAwQFBgcICQoLDA0ODxAREhMAAQIDBAUGBwgJCgsMDQ4PEBESEwABAgMEBQYHCAkKCwwNDg8QERITAAECAwQFBgcICQoLDA0ODxAREhMAAQIDBAUGBwgJCgsMDQ4PEBESEwABAgMEBQYHCAkKCwwNDg8QERITAAIDBAUGCAkKCwwNDg8QERITAQIDBAUGBwgJCgsMDQ4PEBESEwABAgMEBQYHCAkKCwwNDg8QERITAAECAwQFBgcICQoLDA0ODxAREhMAAQIDBAUGBwgJCgsMDQ4PEBESEw==",
          "dtype": "i1"
         },
         "yaxis": "y",
         "z": [
          9,
          36,
          67,
          71,
          75,
          85,
          48,
          40,
          64,
          48,
          76,
          76,
          75,
          86,
          82,
          90,
          87,
          126,
          116,
          152,
          3,
          21,
          11,
          17,
          27,
          22,
          11,
          13,
          17,
          14,
          15,
          26,
          23,
          22,
          20,
          21,
          38,
          37,
          23,
          19,
          7,
          17,
          31,
          32,
          41,
          22,
          19,
          22,
          21,
          20,
          21,
          20,
          37,
          19,
          32,
          33,
          36,
          38,
          37,
          45,
          14,
          23,
          35,
          44,
          34,
          32,
          23,
          31,
          36,
          30,
          39,
          41,
          45,
          40,
          34,
          51,
          64,
          52,
          65,
          68,
          4,
          6,
          14,
          9,
          11,
          12,
          10,
          6,
          11,
          8,
          5,
          7,
          5,
          8,
          5,
          5,
          7,
          9,
          9,
          4,
          5,
          7,
          6,
          7,
          9,
          10,
          7,
          6,
          12,
          8,
          14,
          15,
          11,
          12,
          21,
          17,
          18,
          26,
          28,
          32,
          21,
          33,
          42,
          52,
          48,
          53,
          40,
          46,
          56,
          44,
          51,
          53,
          58,
          62,
          61,
          81,
          53,
          68,
          72,
          81,
          2,
          4,
          3,
          3,
          3,
          3,
          2,
          2,
          1,
          3,
          1,
          3,
          2,
          3,
          4,
          3,
          4,
          5,
          2,
          31,
          51,
          59,
          65,
          60,
          74,
          48,
          68,
          59,
          61,
          71,
          83,
          89,
          79,
          88,
          104,
          103,
          104,
          114,
          84,
          3,
          6,
          12,
          14,
          19,
          19,
          8,
          16,
          19,
          17,
          13,
          8,
          18,
          20,
          25,
          24,
          14,
          21,
          33,
          23,
          24,
          43,
          62,
          74,
          89,
          82,
          39,
          51,
          79,
          56,
          64,
          82,
          85,
          99,
          100,
          101,
          116,
          145,
          131,
          163,
          5,
          6,
          6,
          7,
          7,
          3,
          5,
          10,
          9,
          6,
          13,
          5,
          10,
          13,
          13,
          16,
          13,
          12,
          18,
          19,
          3,
          17,
          17,
          17,
          17,
          23,
          9,
          14,
          26,
          17,
          28,
          24,
          20,
          23,
          27,
          36,
          20,
          37,
          29,
          36,
          29,
          27,
          42,
          63,
          56,
          55,
          39,
          56,
          54,
          53,
          64,
          61,
          73,
          69,
          62,
          85,
          79,
          91,
          97,
          82,
          1,
          2,
          5,
          8,
          6,
          1,
          3,
          8,
          3,
          2,
          7,
          4,
          5,
          5,
          2,
          2,
          14,
          11,
          2,
          1,
          1,
          5,
          5,
          4,
          3,
          1,
          1,
          2,
          2,
          1,
          1,
          7,
          6,
          6,
          9,
          2,
          9,
          28,
          42,
          59,
          69,
          59,
          54,
          30,
          56,
          66,
          69,
          73,
          58,
          82,
          86,
          86,
          109,
          104,
          120,
          115,
          123,
          4,
          9,
          10,
          5,
          5,
          9,
          4,
          7,
          12,
          9,
          11,
          7,
          5,
          7,
          6,
          12,
          10,
          11,
          11,
          11,
          12,
          42,
          54,
          31,
          56,
          46,
          34,
          42,
          44,
          38,
          40,
          42,
          58,
          65,
          77,
          56,
          59,
          73,
          94,
          79
         ]
        },
        {
         "type": "heatmap",
         "x": [
          "Chennai Super Kings",
          "Chennai Super Kings",
          "Chennai Super Kings",
          "Chennai Super Kings",
          "Chennai Super Kings",
          "Chennai Super Kings",
          "Chennai Super Kings",
          "Chennai Super Kings",
          "Chennai Super Kings",
          "Chennai Super Kings",
          "Chennai Super Kings",
          "Chennai Super Kings",
          "Chennai Super Kings",
          "Chennai Super Kings",
          "Chennai Super Kings",
          "Chennai Super Kings",
          "Chennai Super Kings",
          "Chennai Super Kings",
          "Chennai Super Kings",
          "Chennai Super Kings",
          "Sunrisers Hyderabad",
          "Sunrisers Hyderabad",
          "Sunrisers Hyderabad",
          "Sunrisers Hyderabad",
          "Sunrisers Hyderabad",
          "Sunrisers Hyderabad",
          "Sunrisers Hyderabad",
          "Sunrisers Hyderabad",
          "Sunrisers Hyderabad",
          "Sunrisers Hyderabad",
          "Sunrisers Hyderabad",
          "Sunrisers Hyderabad",
          "Sunrisers Hyderabad",
          "Sunrisers Hyderabad",
          "Sunrisers Hyderabad",
          "Sunrisers Hyderabad",
          "Sunrisers Hyderabad",
          "Sunrisers Hyderabad",
          "Sunrisers Hyderabad",
          "Sunrisers Hyderabad",
          "Delhi Capitals",
          "Delhi Capitals",
          "Delhi Capitals",
          "Delhi Capitals",
          "Delhi Capitals",
          "Delhi Capitals",
          "Delhi Capitals",
          "Delhi Capitals",
          "Delhi Capitals",
          "Delhi Capitals",
          "Delhi Capitals",
          "Delhi Capitals",
          "Delhi Capitals",
          "Delhi Capitals",
          "Delhi Capitals",
          "Delhi Capitals",
          "Delhi Capitals",
          "Delhi Capitals",
          "Delhi Capitals",
          "Delhi Capitals",
          "Delhi Capitals",
          "Delhi Capitals",
          "Delhi Capitals",
          "Delhi Capitals",
          "Delhi Capitals",
          "Delhi Capitals",
          "Delhi Capitals",
          "Delhi Capitals",
          "Delhi Capitals",
          "Delhi Capitals",
          "Delhi Capitals",
          "Delhi Capitals",
          "Delhi Capitals",
          "Delhi Capitals",
          "Delhi Capitals",
          "Delhi Capitals",
          "Delhi Capitals",
          "Delhi Capitals",
          "Delhi Capitals",
          "Delhi Capitals",
          "Gujarat Titans",
          "Gujarat Titans",
          "Gujarat Titans",
          "Gujarat Titans",
          "Gujarat Titans",
          "Gujarat Titans",
          "Gujarat Titans",
          "Gujarat Titans",
          "Gujarat Titans",
          "Gujarat Titans",
          "Gujarat Titans",
          "Gujarat Titans",
          "Gujarat Titans",
          "Gujarat Titans",
          "Gujarat Titans",
          "Gujarat Titans",
          "Gujarat Titans",
          "Gujarat Titans",
          "Gujarat Titans",
          "Gujarat Titans",
          "Gujarat Titans",
          "Gujarat Titans",
          "Gujarat Titans",
          "Gujarat Titans",
          "Gujarat Titans",
          "Gujarat Titans",
          "Gujarat Titans",
          "Gujarat Titans",
          "Gujarat Titans",
          "Gujarat Titans",
          "Gujarat Titans",
          "Gujarat Titans",
          "Gujarat Titans",
          "Gujarat Titans",
          "Gujarat Titans",
          "Gujarat Titans",
          "Gujarat Titans",
          "Gujarat Titans",
          "Gujarat Titans",
          "Gujarat Titans",
          "Punjab Kings",
          "Punjab Kings",
          "Punjab Kings",
          "Punjab Kings",
          "Punjab Kings",
          "Punjab Kings",
          "Punjab Kings",
          "Punjab Kings",
          "Punjab Kings",
          "Punjab Kings",
          "Punjab Kings",
          "Punjab Kings",
          "Punjab Kings",
          "Punjab Kings",
          "Punjab Kings",
          "Punjab Kings",
          "Punjab Kings",
          "Punjab Kings",
          "Punjab Kings",
          "Punjab Kings",
          "Kochi Tuskers Kerala",
          "Kochi Tuskers Kerala",
          "Kochi Tuskers Kerala",
          "Kochi Tuskers Kerala",
          "Kochi Tuskers Kerala",
          "Kochi Tuskers Kerala",
          "Kochi Tuskers Kerala",
          "Kochi Tuskers Kerala",
          "Kochi Tuskers Kerala",
          "Kochi Tuskers Kerala",
          "Kochi Tuskers Kerala",
          "Kochi Tuskers Kerala",
          "Kochi Tuskers Kerala",
          "Kochi Tuskers Kerala",
          "Kochi Tuskers Kerala",
          "Kochi Tuskers Kerala",
          "Kochi Tuskers Kerala",
          "Kochi Tuskers Kerala",
          "Kochi Tuskers Kerala",
          "Kochi Tuskers Kerala",
          "Kolkata Knight Riders",
          "Kolkata Knight Riders",
          "Kolkata Knight Riders",
          "Kolkata Knight Riders",
          "Kolkata Knight Riders",
          "Kolkata Knight Riders",
          "Kolkata Knight Riders",
          "Kolkata Knight Riders",
          "Kolkata Knight Riders",
          "Kolkata Knight Riders",
          "Kolkata Knight Riders",
          "Kolkata Knight Riders",
          "Kolkata Knight Riders",
          "Kolkata Knight Riders",
          "Kolkata Knight Riders",
          "Kolkata Knight Riders",
          "Kolkata Knight Riders",
          "Kolkata Knight Riders",
          "Kolkata Knight Riders",
          "Kolkata Knight Riders",
          "Lucknow Super Giants",
          "Lucknow Super Giants",
          "Lucknow Super Giants",
          "Lucknow Super Giants",
          "Lucknow Super Giants",
          "Lucknow Super Giants",
          "Lucknow Super Giants",
          "Lucknow Super Giants",
          "Lucknow Super Giants",
          "Lucknow Super Giants",
          "Lucknow Super Giants",
          "Lucknow Super Giants",
          "Lucknow Super Giants",
          "Lucknow Super Giants",
          "Lucknow Super Giants",
          "Lucknow Super Giants",
          "Lucknow Super Giants",
          "Lucknow Super Giants",
          "Lucknow Super Giants",
          "Lucknow Super Giants",
          "Mumbai Indians",
          "Mumbai Indians",
          "Mumbai Indians",
          "Mumbai Indians",
          "Mumbai Indians",
          "Mumbai Indians",
          "Mumbai Indians",
          "Mumbai Indians",
          "Mumbai Indians",
          "Mumbai Indians",
          "Mumbai Indians",
          "Mumbai Indians",
          "Mumbai Indians",
          "Mumbai Indians",
          "Mumbai Indians",
          "Mumbai Indians",
          "Mumbai Indians",
          "Mumbai Indians",
          "Mumbai Indians",
          "Mumbai Indians",
          "Rising Pune Supergiant",
          "Rising Pune Supergiant",
          "Rising Pune Supergiant",
          "Rising Pune Supergiant",
          "Rising Pune Supergiant",
          "Rising Pune Supergiant",
          "Rising Pune Supergiant",
          "Rising Pune Supergiant",
          "Rising Pune Supergiant",
          "Rising Pune Supergiant",
          "Rising Pune Supergiant",
          "Rising Pune Supergiant",
          "Rising Pune Supergiant",
          "Rising Pune Supergiant",
          "Rising Pune Supergiant",
          "Rising Pune Supergiant",
          "Rising Pune Supergiant",
          "Rising Pune Supergiant",
          "Rising Pune Supergiant",
          "Rising Pune Supergiant",
          "Punjab Kings",
          "Punjab Kings",
          "Punjab Kings",
          "Punjab Kings",
          "Punjab Kings",
          "Punjab Kings",
          "Punjab Kings",
          "Punjab Kings",
          "Punjab Kings",
          "Punjab Kings",
          "Punjab Kings",
          "Punjab Kings",
          "Punjab Kings",
          "Punjab Kings",
          "Punjab Kings",
          "Punjab Kings",
          "Punjab Kings",
          "Punjab Kings",
          "Punjab Kings",
          "Punjab Kings",
          "Rajasthan Royals",
          "Rajasthan Royals",
          "Rajasthan Royals",
          "Rajasthan Royals",
          "Rajasthan Royals",
          "Rajasthan Royals",
          "Rajasthan Royals",
          "Rajasthan Royals",
          "Rajasthan Royals",
          "Rajasthan Royals",
          "Rajasthan Royals",
          "Rajasthan Royals",
          "Rajasthan Royals",
          "Rajasthan Royals",
          "Rajasthan Royals",
          "Rajasthan Royals",
          "Rajasthan Royals",
          "Rajasthan Royals",
          "Rajasthan Royals",
          "Rajasthan Royals",
          "Rising Pune Supergiant",
          "Rising Pune Supergiant",
          "Rising Pune Supergiant",
          "Rising Pune Supergiant",
          "Rising Pune Supergiant",
          "Rising Pune Supergiant",
          "Rising Pune Supergiant",
          "Rising Pune Supergiant",
          "Rising Pune Supergiant",
          "Rising Pune Supergiant",
          "Rising Pune Supergiant",
          "Rising Pune Supergiant",
          "Rising Pune Supergiant",
          "Rising Pune Supergiant",
          "Rising Pune Supergiant",
          "Rising Pune Supergiant",
          "Rising Pune Supergiant",
          "Rising Pune Supergiant",
          "Rising Pune Supergiant",
          "Rising Pune Supergiant",
          "Rising Pune Supergiant",
          "Rising Pune Supergiant",
          "Rising Pune Supergiant",
          "Rising Pune Supergiant",
          "Rising Pune Supergiant",
          "Rising Pune Supergiant",
          "Rising Pune Supergiant",
          "Rising Pune Supergiant",
          "Rising Pune Supergiant",
          "Rising Pune Supergiant",
          "Rising Pune Supergiant",
          "Rising Pune Supergiant",
          "Rising Pune Supergiant",
          "Rising Pune Supergiant",
          "Rising Pune Supergiant",
          "Rising Pune Supergiant",
          "Rising Pune Supergiant",
          "Rising Pune Supergiant",
          "Rising Pune Supergiant",
          "Rising Pune Supergiant",
          "Royal Challengers Bangalore",
          "Royal Challengers Bangalore",
          "Royal Challengers Bangalore",
          "Royal Challengers Bangalore",
          "Royal Challengers Bangalore",
          "Royal Challengers Bangalore",
          "Royal Challengers Bangalore",
          "Royal Challengers Bangalore",
          "Royal Challengers Bangalore",
          "Royal Challengers Bangalore",
          "Royal Challengers Bangalore",
          "Royal Challengers Bangalore",
          "Royal Challengers Bangalore",
          "Royal Challengers Bangalore",
          "Royal Challengers Bangalore",
          "Royal Challengers Bangalore",
          "Royal Challengers Bangalore",
          "Royal Challengers Bangalore",
          "Royal Challengers Bangalore",
          "Royal Challengers Bangalore",
          "Royal Challengers Bangalore",
          "Royal Challengers Bangalore",
          "Royal Challengers Bangalore",
          "Royal Challengers Bangalore",
          "Royal Challengers Bangalore",
          "Royal Challengers Bangalore",
          "Royal Challengers Bangalore",
          "Royal Challengers Bangalore",
          "Royal Challengers Bangalore",
          "Royal Challengers Bangalore",
          "Royal Challengers Bangalore",
          "Royal Challengers Bangalore",
          "Royal Challengers Bangalore",
          "Royal Challengers Bangalore",
          "Royal Challengers Bangalore",
          "Royal Challengers Bangalore",
          "Royal Challengers Bangalore",
          "Royal Challengers Bangalore",
          "Royal Challengers Bangalore",
          "Royal Challengers Bangalore",
          "Sunrisers Hyderabad",
          "Sunrisers Hyderabad",
          "Sunrisers Hyderabad",
          "Sunrisers Hyderabad",
          "Sunrisers Hyderabad",
          "Sunrisers Hyderabad",
          "Sunrisers Hyderabad",
          "Sunrisers Hyderabad",
          "Sunrisers Hyderabad",
          "Sunrisers Hyderabad",
          "Sunrisers Hyderabad",
          "Sunrisers Hyderabad",
          "Sunrisers Hyderabad",
          "Sunrisers Hyderabad",
          "Sunrisers Hyderabad",
          "Sunrisers Hyderabad",
          "Sunrisers Hyderabad",
          "Sunrisers Hyderabad",
          "Sunrisers Hyderabad",
          "Sunrisers Hyderabad"
         ],
         "xaxis": "x2",
         "y": {
          "bdata": "AAECAwQFBgcICQoLDA0ODxAREhMAAQIDBAUGBwgJCgsMDQ4PEBESEwABAgMEBQYHCAkKCwwNDg8QERITAAECAwQFBgcICQoLDA0ODxAREhMAAQIDBAUGBwgJCgsMDQ4PEBESEwABAgMEBQYHCAkKCwwNDg8QERITAAECAwQFBgcICQoLDA0ODxAREhMAAQIDBAUGBwgJCgsMDQ4PEBESEwABAgMEBQYHCAkKCwwNDg8QERITAAECAwQFBgcICQoLDA0ODxAREhMAAQIDBAUGBwgJCgsMDQ4PEBESEwABAgMEBQYHCAkKCwwNDg8QERITAAECAwQFBgcICQoLDA0ODxAREhMAAQIDBAUGBwgJCgsMDQ4PEBESEwABAgMEBQYHCAkKCwwNDg8QERITAAECAwQFBgcICQoLDA0ODxAREhMAAQIDBAUGBwgJCgsMDQ4PEBESEwABAgMEBQYHCAkKCwwNDg8QERITAAECAwQFBgcICQoLDA0ODxAREhM=",
          "dtype": "i1"
         },
         "yaxis": "y2",
         "z": [
          927,
          846,
          741,
          697,
          666,
          648,
          572,
          530,
          486,
          498,
          486,
          492,
          487,
          518,
          482,
          431,
          447,
          414,
          384,
          366,
          278,
          264,
          230,
          246,
          232,
          227,
          193,
          181,
          171,
          182,
          158,
          154,
          178,
          146,
          157,
          144,
          132,
          138,
          139,
          123,
          322,
          288,
          274,
          254,
          251,
          234,
          189,
          187,
          201,
          173,
          165,
          192,
          191,
          211,
          211,
          209,
          172,
          173,
          180,
          144,
          600,
          520,
          528,
          473,
          476,
          490,
          373,
          359,
          338,
          342,
          343,
          310,
          338,
          342,
          345,
          304,
          333,
          276,
          261,
          204,
          115,
          100,
          75,
          90,
          81,
          75,
          68,
          50,
          74,
          62,
          59,
          71,
          60,
          54,
          52,
          53,
          58,
          62,
          49,
          37,
          164,
          138,
          117,
          129,
          120,
          125,
          94,
          96,
          74,
          82,
          78,
          74,
          98,
          87,
          76,
          80,
          85,
          84,
          81,
          77,
          715,
          686,
          584,
          532,
          542,
          560,
          459,
          448,
          449,
          423,
          388,
          393,
          387,
          361,
          375,
          361,
          328,
          387,
          337,
          330,
          58,
          55,
          42,
          41,
          47,
          42,
          44,
          40,
          39,
          34,
          31,
          19,
          31,
          39,
          19,
          32,
          23,
          25,
          18,
          17,
          974,
          870,
          812,
          744,
          729,
          724,
          617,
          558,
          582,
          564,
          560,
          538,
          557,
          518,
          520,
          510,
          462,
          455,
          421,
          395,
          177,
          144,
          131,
          128,
          125,
          124,
          93,
          88,
          72,
          87,
          92,
          98,
          97,
          86,
          88,
          110,
          94,
          71,
          101,
          98,
          1026,
          971,
          817,
          815,
          784,
          721,
          641,
          600,
          587,
          562,
          601,
          553,
          574,
          542,
          544,
          538,
          533,
          517,
          490,
          448,
          169,
          159,
          132,
          142,
          143,
          144,
          129,
          115,
          115,
          111,
          121,
          99,
          113,
          97,
          111,
          80,
          113,
          85,
          93,
          81,
          200,
          185,
          161,
          162,
          155,
          149,
          134,
          121,
          129,
          139,
          132,
          126,
          117,
          127,
          137,
          136,
          131,
          115,
          121,
          112,
          855,
          789,
          685,
          649,
          631,
          632,
          526,
          498,
          501,
          447,
          490,
          467,
          476,
          454,
          485,
          422,
          414,
          423,
          393,
          327,
          63,
          44,
          38,
          36,
          36,
          37,
          34,
          35,
          43,
          30,
          33,
          28,
          33,
          31,
          32,
          29,
          29,
          34,
          28,
          28,
          57,
          48,
          39,
          42,
          38,
          34,
          33,
          24,
          24,
          35,
          26,
          20,
          22,
          26,
          27,
          27,
          23,
          20,
          23,
          15,
          897,
          845,
          742,
          725,
          702,
          666,
          577,
          520,
          543,
          502,
          488,
          480,
          478,
          469,
          478,
          477,
          451,
          432,
          404,
          367,
          41,
          38,
          39,
          32,
          50,
          37,
          23,
          30,
          31,
          31,
          39,
          28,
          30,
          20,
          33,
          23,
          31,
          33,
          37,
          29,
          678,
          582,
          505,
          501,
          500,
          467,
          425,
          389,
          372,
          374,
          394,
          354,
          384,
          346,
          341,
          376,
          365,
          340,
          335,
          315
         ]
        }
       ],
       "layout": {
        "annotations": [
         {
          "font": {
           "size": 16
          },
          "showarrow": false,
          "text": "6's",
          "x": 0.225,
          "xanchor": "center",
          "xref": "paper",
          "y": 1,
          "yanchor": "bottom",
          "yref": "paper"
         },
         {
          "font": {
           "size": 16
          },
          "showarrow": false,
          "text": "0's",
          "x": 0.775,
          "xanchor": "center",
          "xref": "paper",
          "y": 1,
          "yanchor": "bottom",
          "yref": "paper"
         }
        ],
        "template": {
         "data": {
          "bar": [
           {
            "error_x": {
             "color": "#2a3f5f"
            },
            "error_y": {
             "color": "#2a3f5f"
            },
            "marker": {
             "line": {
              "color": "#E5ECF6",
              "width": 0.5
             },
             "pattern": {
              "fillmode": "overlay",
              "size": 10,
              "solidity": 0.2
             }
            },
            "type": "bar"
           }
          ],
          "barpolar": [
           {
            "marker": {
             "line": {
              "color": "#E5ECF6",
              "width": 0.5
             },
             "pattern": {
              "fillmode": "overlay",
              "size": 10,
              "solidity": 0.2
             }
            },
            "type": "barpolar"
           }
          ],
          "carpet": [
           {
            "aaxis": {
             "endlinecolor": "#2a3f5f",
             "gridcolor": "white",
             "linecolor": "white",
             "minorgridcolor": "white",
             "startlinecolor": "#2a3f5f"
            },
            "baxis": {
             "endlinecolor": "#2a3f5f",
             "gridcolor": "white",
             "linecolor": "white",
             "minorgridcolor": "white",
             "startlinecolor": "#2a3f5f"
            },
            "type": "carpet"
           }
          ],
          "choropleth": [
           {
            "colorbar": {
             "outlinewidth": 0,
             "ticks": ""
            },
            "type": "choropleth"
           }
          ],
          "contour": [
           {
            "colorbar": {
             "outlinewidth": 0,
             "ticks": ""
            },
            "colorscale": [
             [
              0,
              "#0d0887"
             ],
             [
              0.1111111111111111,
              "#46039f"
             ],
             [
              0.2222222222222222,
              "#7201a8"
             ],
             [
              0.3333333333333333,
              "#9c179e"
             ],
             [
              0.4444444444444444,
              "#bd3786"
             ],
             [
              0.5555555555555556,
              "#d8576b"
             ],
             [
              0.6666666666666666,
              "#ed7953"
             ],
             [
              0.7777777777777778,
              "#fb9f3a"
             ],
             [
              0.8888888888888888,
              "#fdca26"
             ],
             [
              1,
              "#f0f921"
             ]
            ],
            "type": "contour"
           }
          ],
          "contourcarpet": [
           {
            "colorbar": {
             "outlinewidth": 0,
             "ticks": ""
            },
            "type": "contourcarpet"
           }
          ],
          "heatmap": [
           {
            "colorbar": {
             "outlinewidth": 0,
             "ticks": ""
            },
            "colorscale": [
             [
              0,
              "#0d0887"
             ],
             [
              0.1111111111111111,
              "#46039f"
             ],
             [
              0.2222222222222222,
              "#7201a8"
             ],
             [
              0.3333333333333333,
              "#9c179e"
             ],
             [
              0.4444444444444444,
              "#bd3786"
             ],
             [
              0.5555555555555556,
              "#d8576b"
             ],
             [
              0.6666666666666666,
              "#ed7953"
             ],
             [
              0.7777777777777778,
              "#fb9f3a"
             ],
             [
              0.8888888888888888,
              "#fdca26"
             ],
             [
              1,
              "#f0f921"
             ]
            ],
            "type": "heatmap"
           }
          ],
          "histogram": [
           {
            "marker": {
             "pattern": {
              "fillmode": "overlay",
              "size": 10,
              "solidity": 0.2
             }
            },
            "type": "histogram"
           }
          ],
          "histogram2d": [
           {
            "colorbar": {
             "outlinewidth": 0,
             "ticks": ""
            },
            "colorscale": [
             [
              0,
              "#0d0887"
             ],
             [
              0.1111111111111111,
              "#46039f"
             ],
             [
              0.2222222222222222,
              "#7201a8"
             ],
             [
              0.3333333333333333,
              "#9c179e"
             ],
             [
              0.4444444444444444,
              "#bd3786"
             ],
             [
              0.5555555555555556,
              "#d8576b"
             ],
             [
              0.6666666666666666,
              "#ed7953"
             ],
             [
              0.7777777777777778,
              "#fb9f3a"
             ],
             [
              0.8888888888888888,
              "#fdca26"
             ],
             [
              1,
              "#f0f921"
             ]
            ],
            "type": "histogram2d"
           }
          ],
          "histogram2dcontour": [
           {
            "colorbar": {
             "outlinewidth": 0,
             "ticks": ""
            },
            "colorscale": [
             [
              0,
              "#0d0887"
             ],
             [
              0.1111111111111111,
              "#46039f"
             ],
             [
              0.2222222222222222,
              "#7201a8"
             ],
             [
              0.3333333333333333,
              "#9c179e"
             ],
             [
              0.4444444444444444,
              "#bd3786"
             ],
             [
              0.5555555555555556,
              "#d8576b"
             ],
             [
              0.6666666666666666,
              "#ed7953"
             ],
             [
              0.7777777777777778,
              "#fb9f3a"
             ],
             [
              0.8888888888888888,
              "#fdca26"
             ],
             [
              1,
              "#f0f921"
             ]
            ],
            "type": "histogram2dcontour"
           }
          ],
          "mesh3d": [
           {
            "colorbar": {
             "outlinewidth": 0,
             "ticks": ""
            },
            "type": "mesh3d"
           }
          ],
          "parcoords": [
           {
            "line": {
             "colorbar": {
              "outlinewidth": 0,
              "ticks": ""
             }
            },
            "type": "parcoords"
           }
          ],
          "pie": [
           {
            "automargin": true,
            "type": "pie"
           }
          ],
          "scatter": [
           {
            "fillpattern": {
             "fillmode": "overlay",
             "size": 10,
             "solidity": 0.2
            },
            "type": "scatter"
           }
          ],
          "scatter3d": [
           {
            "line": {
             "colorbar": {
              "outlinewidth": 0,
              "ticks": ""
             }
            },
            "marker": {
             "colorbar": {
              "outlinewidth": 0,
              "ticks": ""
             }
            },
            "type": "scatter3d"
           }
          ],
          "scattercarpet": [
           {
            "marker": {
             "colorbar": {
              "outlinewidth": 0,
              "ticks": ""
             }
            },
            "type": "scattercarpet"
           }
          ],
          "scattergeo": [
           {
            "marker": {
             "colorbar": {
              "outlinewidth": 0,
              "ticks": ""
             }
            },
            "type": "scattergeo"
           }
          ],
          "scattergl": [
           {
            "marker": {
             "colorbar": {
              "outlinewidth": 0,
              "ticks": ""
             }
            },
            "type": "scattergl"
           }
          ],
          "scattermap": [
           {
            "marker": {
             "colorbar": {
              "outlinewidth": 0,
              "ticks": ""
             }
            },
            "type": "scattermap"
           }
          ],
          "scattermapbox": [
           {
            "marker": {
             "colorbar": {
              "outlinewidth": 0,
              "ticks": ""
             }
            },
            "type": "scattermapbox"
           }
          ],
          "scatterpolar": [
           {
            "marker": {
             "colorbar": {
              "outlinewidth": 0,
              "ticks": ""
             }
            },
            "type": "scatterpolar"
           }
          ],
          "scatterpolargl": [
           {
            "marker": {
             "colorbar": {
              "outlinewidth": 0,
              "ticks": ""
             }
            },
            "type": "scatterpolargl"
           }
          ],
          "scatterternary": [
           {
            "marker": {
             "colorbar": {
              "outlinewidth": 0,
              "ticks": ""
             }
            },
            "type": "scatterternary"
           }
          ],
          "surface": [
           {
            "colorbar": {
             "outlinewidth": 0,
             "ticks": ""
            },
            "colorscale": [
             [
              0,
              "#0d0887"
             ],
             [
              0.1111111111111111,
              "#46039f"
             ],
             [
              0.2222222222222222,
              "#7201a8"
             ],
             [
              0.3333333333333333,
              "#9c179e"
             ],
             [
              0.4444444444444444,
              "#bd3786"
             ],
             [
              0.5555555555555556,
              "#d8576b"
             ],
             [
              0.6666666666666666,
              "#ed7953"
             ],
             [
              0.7777777777777778,
              "#fb9f3a"
             ],
             [
              0.8888888888888888,
              "#fdca26"
             ],
             [
              1,
              "#f0f921"
             ]
            ],
            "type": "surface"
           }
          ],
          "table": [
           {
            "cells": {
             "fill": {
              "color": "#EBF0F8"
             },
             "line": {
              "color": "white"
             }
            },
            "header": {
             "fill": {
              "color": "#C8D4E3"
             },
             "line": {
              "color": "white"
             }
            },
            "type": "table"
           }
          ]
         },
         "layout": {
          "annotationdefaults": {
           "arrowcolor": "#2a3f5f",
           "arrowhead": 0,
           "arrowwidth": 1
          },
          "autotypenumbers": "strict",
          "coloraxis": {
           "colorbar": {
            "outlinewidth": 0,
            "ticks": ""
           }
          },
          "colorscale": {
           "diverging": [
            [
             0,
             "#8e0152"
            ],
            [
             0.1,
             "#c51b7d"
            ],
            [
             0.2,
             "#de77ae"
            ],
            [
             0.3,
             "#f1b6da"
            ],
            [
             0.4,
             "#fde0ef"
            ],
            [
             0.5,
             "#f7f7f7"
            ],
            [
             0.6,
             "#e6f5d0"
            ],
            [
             0.7,
             "#b8e186"
            ],
            [
             0.8,
             "#7fbc41"
            ],
            [
             0.9,
             "#4d9221"
            ],
            [
             1,
             "#276419"
            ]
           ],
           "sequential": [
            [
             0,
             "#0d0887"
            ],
            [
             0.1111111111111111,
             "#46039f"
            ],
            [
             0.2222222222222222,
             "#7201a8"
            ],
            [
             0.3333333333333333,
             "#9c179e"
            ],
            [
             0.4444444444444444,
             "#bd3786"
            ],
            [
             0.5555555555555556,
             "#d8576b"
            ],
            [
             0.6666666666666666,
             "#ed7953"
            ],
            [
             0.7777777777777778,
             "#fb9f3a"
            ],
            [
             0.8888888888888888,
             "#fdca26"
            ],
            [
             1,
             "#f0f921"
            ]
           ],
           "sequentialminus": [
            [
             0,
             "#0d0887"
            ],
            [
             0.1111111111111111,
             "#46039f"
            ],
            [
             0.2222222222222222,
             "#7201a8"
            ],
            [
             0.3333333333333333,
             "#9c179e"
            ],
            [
             0.4444444444444444,
             "#bd3786"
            ],
            [
             0.5555555555555556,
             "#d8576b"
            ],
            [
             0.6666666666666666,
             "#ed7953"
            ],
            [
             0.7777777777777778,
             "#fb9f3a"
            ],
            [
             0.8888888888888888,
             "#fdca26"
            ],
            [
             1,
             "#f0f921"
            ]
           ]
          },
          "colorway": [
           "#636efa",
           "#EF553B",
           "#00cc96",
           "#ab63fa",
           "#FFA15A",
           "#19d3f3",
           "#FF6692",
           "#B6E880",
           "#FF97FF",
           "#FECB52"
          ],
          "font": {
           "color": "#2a3f5f"
          },
          "geo": {
           "bgcolor": "white",
           "lakecolor": "white",
           "landcolor": "#E5ECF6",
           "showlakes": true,
           "showland": true,
           "subunitcolor": "white"
          },
          "hoverlabel": {
           "align": "left"
          },
          "hovermode": "closest",
          "mapbox": {
           "style": "light"
          },
          "paper_bgcolor": "white",
          "plot_bgcolor": "#E5ECF6",
          "polar": {
           "angularaxis": {
            "gridcolor": "white",
            "linecolor": "white",
            "ticks": ""
           },
           "bgcolor": "#E5ECF6",
           "radialaxis": {
            "gridcolor": "white",
            "linecolor": "white",
            "ticks": ""
           }
          },
          "scene": {
           "xaxis": {
            "backgroundcolor": "#E5ECF6",
            "gridcolor": "white",
            "gridwidth": 2,
            "linecolor": "white",
            "showbackground": true,
            "ticks": "",
            "zerolinecolor": "white"
           },
           "yaxis": {
            "backgroundcolor": "#E5ECF6",
            "gridcolor": "white",
            "gridwidth": 2,
            "linecolor": "white",
            "showbackground": true,
            "ticks": "",
            "zerolinecolor": "white"
           },
           "zaxis": {
            "backgroundcolor": "#E5ECF6",
            "gridcolor": "white",
            "gridwidth": 2,
            "linecolor": "white",
            "showbackground": true,
            "ticks": "",
            "zerolinecolor": "white"
           }
          },
          "shapedefaults": {
           "line": {
            "color": "#2a3f5f"
           }
          },
          "ternary": {
           "aaxis": {
            "gridcolor": "white",
            "linecolor": "white",
            "ticks": ""
           },
           "baxis": {
            "gridcolor": "white",
            "linecolor": "white",
            "ticks": ""
           },
           "bgcolor": "#E5ECF6",
           "caxis": {
            "gridcolor": "white",
            "linecolor": "white",
            "ticks": ""
           }
          },
          "title": {
           "x": 0.05
          },
          "xaxis": {
           "automargin": true,
           "gridcolor": "white",
           "linecolor": "white",
           "ticks": "",
           "title": {
            "standoff": 15
           },
           "zerolinecolor": "white",
           "zerolinewidth": 2
          },
          "yaxis": {
           "automargin": true,
           "gridcolor": "white",
           "linecolor": "white",
           "ticks": "",
           "title": {
            "standoff": 15
           },
           "zerolinecolor": "white",
           "zerolinewidth": 2
          }
         }
        },
        "xaxis": {
         "anchor": "y",
         "domain": [
          0,
          0.45
         ]
        },
        "xaxis2": {
         "anchor": "y2",
         "domain": [
          0.55,
          1
         ]
        },
        "yaxis": {
         "anchor": "x",
         "domain": [
          0,
          1
         ]
        },
        "yaxis2": {
         "anchor": "x2",
         "domain": [
          0,
          1
         ],
         "matches": "y",
         "showticklabels": false
        }
       }
      }
     },
     "metadata": {},
     "output_type": "display_data"
    }
   ],
   "source": [
    "from plotly import tools\n",
    "\n",
    "trace1 = go.Heatmap(x=six['batting_team'], y=six['over'], z=six['batsman_runs'].values.tolist())\n",
    "\n",
    "trace2 = go.Heatmap(x=dots['batting_team'], y= dots['over'], z=dots['batsman_runs'].values.tolist())\n",
    "\n",
    "fig = tools.make_subplots(rows=1, cols=2, subplot_titles=[\"6's\", \"0's\"], shared_yaxes= True)\n",
    "\n",
    "fig.append_trace(trace1,1,1)\n",
    "fig.append_trace(trace2,1,2)\n",
    "\n",
    "fig.show()"
   ]
  }
 ],
 "metadata": {
  "kernelspec": {
   "display_name": "Python 3",
   "language": "python",
   "name": "python3"
  },
  "language_info": {
   "codemirror_mode": {
    "name": "ipython",
    "version": 3
   },
   "file_extension": ".py",
   "mimetype": "text/x-python",
   "name": "python",
   "nbconvert_exporter": "python",
   "pygments_lexer": "ipython3",
   "version": "3.12.3"
  }
 },
 "nbformat": 4,
 "nbformat_minor": 5
}
