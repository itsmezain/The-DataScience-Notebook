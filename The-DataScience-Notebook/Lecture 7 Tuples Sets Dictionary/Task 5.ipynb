{
  "cells": [
    {
      "cell_type": "markdown",
      "metadata": {
        "id": "limD5IAfl-tz"
      },
      "source": [
        "# Tuple\n"
      ]
    },
    {
      "cell_type": "markdown",
      "metadata": {
        "id": "nSTn3CjbmB7q"
      },
      "source": [
        "### `Q1:` Join Tuples if similar initial element\n",
        "While working with Python tuples, we can have a problem in which we need to perform concatenation of records from the similarity of initial element. This problem can have applications in data domains such as Data Science.\n",
        "\n",
        "For eg.\n",
        "```\n",
        "Input  : test_list = [(5, 6), (5, 7), (5, 8), (6, 10), (7, 13)]\n",
        "Output : [(5, 6, 7, 8), (6, 10), (7, 13)]\n",
        "```"
      ]
    },
    {
      "cell_type": "code",
      "execution_count": 63,
      "metadata": {
        "id": "hwVeEvH9rJzU"
      },
      "outputs": [
        {
          "name": "stdout",
          "output_type": "stream",
          "text": [
            "{5, 6, 7}\n",
            "[(5, 6, 7, 8), (6, 10), (7, 8, 13)]\n"
          ]
        }
      ],
      "source": [
        "# write your code here\n",
        "test_list = [(5, 6), (7,8), (5, 7), (5, 8), (6, 10), (7, 13)]\n",
        "\n",
        "unique = []\n",
        "\n",
        "for i in test_list:\n",
        "    unique.append(i[0])\n",
        "\n",
        "unique = set(unique)\n",
        "print(unique)\n",
        "\n",
        "result = []\n",
        "for i in unique:\n",
        "    result.append([i])\n",
        "    for j in test_list:\n",
        "        if i == j[0]:\n",
        "            result[-1].append(j[1])\n",
        "\n",
        "result = list(map(tuple,result))\n",
        "print(result)"
      ]
    },
    {
      "cell_type": "markdown",
      "metadata": {
        "id": "ujQpZOFFmeha"
      },
      "source": [
        "### `Q2:` Multiply Adjacent elements (both side) and take sum of right and lest side multiplication result.\n",
        "\n",
        "\n",
        "For eg.\n",
        "```\n",
        "The original tuple : (1, 5, 7, 8, 10)\n",
        "Resultant tuple after multiplication :\n",
        "\n",
        "(1*5, 1*5+5*7, 7*5 + 7*8, 8*7 + 8*10, 10*8) -> (5, 40, 91, 136, 80)\n",
        "\n",
        "output-(5, 40, 91, 136, 80)\n",
        "```"
      ]
    },
    {
      "cell_type": "code",
      "execution_count": 33,
      "metadata": {
        "id": "N9lveEsArNVc"
      },
      "outputs": [
        {
          "name": "stdout",
          "output_type": "stream",
          "text": [
            "(1, 5, 7, 8, 10)\n",
            "[5, 35, 91, 136, 80]\n"
          ]
        }
      ],
      "source": [
        "# write your code here\n",
        "t = (1, 5, 7, 8, 10)\n",
        "output = list(t)\n",
        "print(t)\n",
        "for i in range(0,len(t)):\n",
        "    if i+1 < len(t) and i-1 > 0:\n",
        "        output[i] = ( t[i-1]* t[i] ) + ( t[i]*t[i+1] )\n",
        "    elif i-1 <= 0:\n",
        "        output[i] = t[i+1]* t[i]\n",
        "    else:\n",
        "        output[i] = t[i-1]* t[i]\n",
        "print(output)\n"
      ]
    },
    {
      "cell_type": "markdown",
      "metadata": {
        "id": "x0psnUiu2ZVp"
      },
      "source": [
        "### `Q3`: Check is tuples are same or not?\n",
        "Two tuples would be same if both tuples have same element at same index\n",
        "```\n",
        "t1 = (1,2,3,0)\n",
        "t2 = (0,1,2,3)\n",
        "\n",
        "t1 and t2 are not same\n",
        "```"
      ]
    },
    {
      "cell_type": "code",
      "execution_count": 5,
      "metadata": {
        "id": "JMVw9EhSrPEc"
      },
      "outputs": [
        {
          "name": "stdout",
          "output_type": "stream",
          "text": [
            "t1 and t2 are not same\n"
          ]
        }
      ],
      "source": [
        "# write your code here\n",
        "t1 = (1,2,3,0)\n",
        "t2 = (0,1,2,3)\n",
        "\n",
        "if t1 == t2:\n",
        "    print(\"t1 and t2 are same\")\n",
        "else:\n",
        "    print(\"t1 and t2 are not same\")"
      ]
    },
    {
      "cell_type": "markdown",
      "metadata": {
        "id": "aZ4rObHK4fCN"
      },
      "source": [
        "### `Q4`: Count no of tuples, list and set from a list\n",
        "```\n",
        "list1 = [{'hi', 'bye'},{'Geeks', 'forGeeks'},('a', 'b'),['hi', 'bye'],['a', 'b']]\n",
        "\n",
        "```\n",
        "`Output:`\n",
        "\n",
        "```\n",
        "List-2\n",
        "Set-2\n",
        "Tuples-1\n",
        "```"
      ]
    },
    {
      "cell_type": "code",
      "execution_count": 64,
      "metadata": {
        "id": "g_Bnuczk69tG"
      },
      "outputs": [
        {
          "name": "stdout",
          "output_type": "stream",
          "text": [
            "List-2\n",
            "Set-2\n",
            "Tuple-1\n",
            "\n"
          ]
        }
      ],
      "source": [
        "# write your code here\n",
        "\n",
        "list1 = [{'hi', 'bye'},{'Geeks', 'forGeeks'},('a', 'b'),['hi', 'bye'],['a', 'b']]\n",
        "\n",
        "num_list = num_set = num_tuple = 0\n",
        "for i in list1:\n",
        "    if type(i) == list:\n",
        "        num_list += 1\n",
        "    elif type(i) == set:\n",
        "        num_set += 1\n",
        "    else:\n",
        "        num_tuple += 1\n",
        "print(f\"List-{num_list}\\nSet-{num_set}\\nTuple-{num_tuple}\\n\")"
      ]
    },
    {
      "cell_type": "markdown",
      "metadata": {
        "id": "jInFNuit8hf1"
      },
      "source": [
        "### `Q5`: Shortlist Students for a Job role\n",
        "Ask user to input students record and store in tuples for each record. Then Ask user to input three things he wants in the candidate- Primary Skill, Higher Education, Year of Graduation.\n",
        "\n",
        "Show every students record in form of tuples if matches all required criteria.\n",
        "\n",
        "It is assumed that there will be only one primry skill.\n",
        "\n",
        "If no such candidate found, print `No such candidate`\n",
        "\n",
        "`Input:`\n",
        "```\n",
        "Enter No of records- 2\n",
        "Enter Details of student-1\n",
        "Enter Student name- Manohar\n",
        "Enter Higher Education- B.Tech\n",
        "Enter Primary Skill- Python\n",
        "Enter Year of Graduation- 2022\n",
        "Enter Details of student-2\n",
        "Enter Student name- Ponian\n",
        "Enter Higher Education- B.Sc.\n",
        "Enter Primary Skill- C++\n",
        "Enter Year of Graduation- 2020\n",
        "\n",
        "Enter Job Role Requirement\n",
        "Enter Skill- Python\n",
        "Enter Higher Education- B.Tech\n",
        "Enter Year of Graduation- 2022\n",
        "```\n",
        "\n",
        "`Output`\n",
        "```\n",
        "('Manohar', 'B.tech', 'Python', '2022')\n",
        "```\n"
      ]
    },
    {
      "cell_type": "code",
      "execution_count": 88,
      "metadata": {
        "id": "erh9QZaerSHk"
      },
      "outputs": [
        {
          "ename": "ValueError",
          "evalue": "invalid literal for int() with base 10: ''",
          "output_type": "error",
          "traceback": [
            "\u001b[1;31m---------------------------------------------------------------------------\u001b[0m",
            "\u001b[1;31mValueError\u001b[0m                                Traceback (most recent call last)",
            "Cell \u001b[1;32mIn[88], line 3\u001b[0m\n\u001b[0;32m      1\u001b[0m \u001b[38;5;66;03m# write your code here\u001b[39;00m\n\u001b[0;32m      2\u001b[0m students \u001b[38;5;241m=\u001b[39m []\n\u001b[1;32m----> 3\u001b[0m number_of_student \u001b[38;5;241m=\u001b[39m \u001b[38;5;28;43mint\u001b[39;49m\u001b[43m(\u001b[49m\u001b[38;5;28;43minput\u001b[39;49m\u001b[43m(\u001b[49m\u001b[38;5;124;43m\"\u001b[39;49m\u001b[38;5;124;43mEnter No if records- \u001b[39;49m\u001b[38;5;124;43m\"\u001b[39;49m\u001b[43m)\u001b[49m\u001b[43m)\u001b[49m\n\u001b[0;32m      5\u001b[0m \u001b[38;5;28;01mfor\u001b[39;00m i \u001b[38;5;129;01min\u001b[39;00m \u001b[38;5;28mrange\u001b[39m((number_of_student)):\n\u001b[0;32m      6\u001b[0m     \u001b[38;5;28mprint\u001b[39m(\u001b[38;5;124mf\u001b[39m\u001b[38;5;124m\"\u001b[39m\u001b[38;5;124mEnter Details of student- \u001b[39m\u001b[38;5;132;01m{\u001b[39;00mi\u001b[38;5;241m+\u001b[39m\u001b[38;5;241m1\u001b[39m\u001b[38;5;132;01m}\u001b[39;00m\u001b[38;5;124m\"\u001b[39m)\n",
            "\u001b[1;31mValueError\u001b[0m: invalid literal for int() with base 10: ''"
          ]
        }
      ],
      "source": [
        "# write your code here\n",
        "students = []\n",
        "number_of_student = int(input(\"Enter No if records- \"))\n",
        "\n",
        "for i in range((number_of_student)):\n",
        "    print(f\"Enter Details of student- {i+1}\")\n",
        "    name = input(\"Enter Students name- \")\n",
        "    education = input(\"Enter your higher education- \")\n",
        "    primary_skill = input(\"Enter Primary Skill- \")\n",
        "    year_pass = input(\"Enter Year Pass- \")\n",
        "    students.append((name,education,primary_skill,year_pass))\n",
        "\n",
        "print(\"\\nAll student records:\")\n",
        "print(students)\n",
        "\n",
        "job_role_req = []\n",
        "print(f\"Enter Job Role Requirement\")\n",
        "\n",
        "skill_req = input(\"Enter Skill- \")\n",
        "education_req = input(\"Enter Higher Education- \")\n",
        "year_req = input(\"Enter Year of Graduation- \")\n",
        "print(skill_req, education_req, year_req)\n",
        "\n",
        "found = False\n",
        "\n",
        "# Searching for matching students\n",
        "for student in students:\n",
        "    if student[1] == education_req and student[2] == skill_req and student[3] == year_req:\n",
        "        print(f\"Matching student: {student}\")\n",
        "        found = True\n",
        "        break  # If you only want the first match, use break\n",
        "\n",
        "# If no student matches the criteria\n",
        "if not found:\n",
        "    print(\"No such candidate.\")"
      ]
    },
    {
      "cell_type": "markdown",
      "metadata": {
        "id": "l4hLvwD2BeIN"
      },
      "source": [
        "# Set"
      ]
    },
    {
      "cell_type": "markdown",
      "metadata": {
        "id": "zCX0Sk2IBfu8"
      },
      "source": [
        "### `Q1:` Write a program to find set of common elements in three lists using sets.\n",
        "```\n",
        "Input : ar1 = [1, 5, 10, 20, 40, 80]\n",
        "        ar2 = [6, 7, 20, 80, 100]\n",
        "        ar3 = [3, 4, 15, 20, 30, 70, 80, 120]\n",
        "\n",
        "Output : [80, 20]\n",
        "```"
      ]
    },
    {
      "cell_type": "code",
      "execution_count": 91,
      "metadata": {
        "id": "rqATYpBUrUQU"
      },
      "outputs": [
        {
          "name": "stdout",
          "output_type": "stream",
          "text": [
            "{80, 20}\n"
          ]
        }
      ],
      "source": [
        "# write your code here\n",
        "\n",
        "ar1 = [1, 5, 10, 20, 40, 80]\n",
        "ar2 = [6, 7, 20, 80, 100]\n",
        "ar3 = [3, 4, 15, 20, 30, 70, 80, 120]\n",
        "\n",
        "output = []\n",
        "\n",
        "for i in ar1:\n",
        "    if i in ar2 and ar3:\n",
        "        output.append(i)\n",
        "\n",
        "for i in ar2:\n",
        "    if i in ar1 and ar3:\n",
        "        output.append(i)\n",
        "        \n",
        "for i in ar3:\n",
        "    if i in ar1 and ar2:\n",
        "        output.append(i)\n",
        "\n",
        "output = set(output)\n",
        "print(output)"
      ]
    },
    {
      "cell_type": "code",
      "execution_count": 92,
      "metadata": {},
      "outputs": [
        {
          "name": "stdout",
          "output_type": "stream",
          "text": [
            "{80, 20}\n"
          ]
        }
      ],
      "source": [
        "\n",
        "ar1 = [1, 5, 10, 20, 40, 80]\n",
        "ar2 = [6, 7, 20, 80, 100]\n",
        "ar3 = [3, 4, 15, 20, 30, 70, 80, 120]\n",
        "\n",
        "output = set(ar1) & set(ar2) & set(ar3)\n",
        "\n",
        "print(output)"
      ]
    },
    {
      "cell_type": "markdown",
      "metadata": {
        "id": "0gOVS-0yCYrK"
      },
      "source": [
        " ### `Q2:` Write a program to count unique number of vowels using sets in a given string. Lowercase and upercase vowels will be taken as different.\n",
        "\n",
        "`Input:`\n",
        "```\n",
        "Str1 = \"hands-on data science mentorship progrAm with live classes at affordable fee only on CampusX\"\n",
        "```\n",
        "`Output:`\n",
        "```\n",
        "No of unique vowels-6\n",
        "```"
      ]
    },
    {
      "cell_type": "code",
      "execution_count": 101,
      "metadata": {
        "id": "0vAlEAOzDihm"
      },
      "outputs": [
        {
          "name": "stdout",
          "output_type": "stream",
          "text": [
            "{'-', 's', 'c', 'o', 'C', 'X', 'v', 'i', 'u', 'm', 'f', 'A', 'g', 'p', 'h', 'b', 'e', 'a', 'y', 't', 'd', 'w', 'l', 'n', 'r'}\n",
            "{'O', 'A', 'o', 'e', 'E', 'I', 'a', 'i', 'U', 'u'}\n",
            "No of unique tuples-6\n"
          ]
        }
      ],
      "source": [
        "# write your code here\n",
        "Str1 = \"hands-on data science mentorship progrAm with live classes at affordable fee only on CampusX\"\n",
        "\n",
        "elem = set(''.join(Str1.split()))\n",
        "print(elem)\n",
        "\n",
        "vowels = set('aeiouAEIOU')\n",
        "print(vowels)\n",
        "\n",
        "num_of_vowels = 0\n",
        "for i in elem:\n",
        "    if i in vowels:\n",
        "        num_of_vowels += 1\n",
        "print(f\"No of unique tuples-{num_of_vowels}\")"
      ]
    },
    {
      "cell_type": "markdown",
      "metadata": {
        "id": "fqLZxiarEne5"
      },
      "source": [
        "### `Q3:` Write a program to Check if a given string is binary string of or not.\n",
        "\n",
        "A string is said to be binary if it's consists of only two unique characters.\n",
        "\n",
        "Take string input from user.\n",
        "\n",
        "```\n",
        "Input: str = \"01010101010\"\n",
        "Output: Yes\n",
        "\n",
        "Input: str = \"1222211\"\n",
        "Output: Yes\n",
        "\n",
        "Input: str = \"Campusx\"\n",
        "Output: No\n",
        "```"
      ]
    },
    {
      "cell_type": "code",
      "execution_count": 104,
      "metadata": {
        "id": "5M5v8LoYrXkE"
      },
      "outputs": [
        {
          "name": "stdout",
          "output_type": "stream",
          "text": [
            "N0\n"
          ]
        }
      ],
      "source": [
        "# write your code here\n",
        "\n",
        "str = \"01001010110111102\"\n",
        "no_of_char = set(str)\n",
        "\n",
        "if len(no_of_char) == 2:\n",
        "    print(\"Yes\")\n",
        "else:\n",
        "    print(\"N0\")"
      ]
    },
    {
      "cell_type": "markdown",
      "metadata": {
        "id": "xXS8wYH1mDqx"
      },
      "source": [
        "### `Q4`: find union of n arrays.\n",
        "\n",
        "**Example 1:**\n",
        "\n",
        "Input:\n",
        "```bash\n",
        "[[1, 2, 2, 4, 3, 6],\n",
        " [5, 1, 3, 4],\n",
        " [9, 5, 7, 1],\n",
        " [2, 4, 1, 3]]\n",
        "```\n",
        "\n",
        "Output:\n",
        "\n",
        "```bash\n",
        "[1, 2, 3, 4, 5, 6, 7, 9]\n",
        "```"
      ]
    },
    {
      "cell_type": "code",
      "execution_count": 111,
      "metadata": {
        "id": "FVNyK6MbncU8"
      },
      "outputs": [
        {
          "name": "stdout",
          "output_type": "stream",
          "text": [
            "{1, 2, 3, 4, 5, 6, 7, 9}\n"
          ]
        }
      ],
      "source": [
        "# write your code here\n",
        "arrays = [\n",
        "            [1, 2, 2, 4, 3, 6],\n",
        "            [5, 1, 3, 4],\n",
        "            [9, 5, 7, 1],\n",
        "            [2, 4, 1, 3]\n",
        "        ]\n",
        "\n",
        "output = set()\n",
        "\n",
        "for subarray in arrays:\n",
        "    output = output | set(subarray)\n",
        "print(output)"
      ]
    },
    {
      "cell_type": "markdown",
      "metadata": {
        "id": "T_Re21BdndOz"
      },
      "source": [
        "### `Q5`: Intersection of two lists. Intersection of two list means we need to take all those elements which are common to both of the initial lists and store them into another list. Only use using **list-comprehension**.\n",
        "\n",
        "**Example 1:**\n",
        "\n",
        "Input:\n",
        "```bash\n",
        "lst1 = {15, 9, 10, 56, 23, 78, 5, 4, 9}\n",
        "lst2 = {9, 4, 5, 36, 47, 26, 10, 45, 87}\n",
        "```\n",
        "\n",
        "Output:\n",
        "```bash\n",
        "[9, 10, 4, 5]\n",
        "```\n",
        "\n",
        "**Example 2:**\n",
        "\n",
        "Input:\n",
        "```bash\n",
        "lst1 = {4, 9, 1, 17, 11, 26, 28, 54, 69}\n",
        "lst2 = {9, 9, 74, 21, 45, 11, 63, 28, 26}\n",
        "```\n",
        "\n",
        "Output:\n",
        "```bash\n",
        "[9, 11, 26, 28]\n",
        "```"
      ]
    },
    {
      "cell_type": "code",
      "execution_count": 114,
      "metadata": {
        "id": "nWnL25ftoLVT"
      },
      "outputs": [
        {
          "name": "stdout",
          "output_type": "stream",
          "text": [
            "{9, 10, 4, 5}\n"
          ]
        }
      ],
      "source": [
        "# write your code here\n",
        "lst1 = {15, 9, 10, 56, 23, 78, 5, 4, 9}\n",
        "lst2 = {9, 4, 5, 36, 47, 26, 10, 45, 87}\n",
        "\n",
        "intersection = {x for x in lst1 if x in lst2}\n",
        "print(intersection)"
      ]
    },
    {
      "cell_type": "markdown",
      "metadata": {
        "id": "tD2RSYn1a8oA"
      },
      "source": [
        "# Dictionary"
      ]
    },
    {
      "cell_type": "markdown",
      "metadata": {
        "id": "7tUjHhcPbQzQ"
      },
      "source": [
        "### `Q1`: Key with maximum unique values\n",
        "\n",
        "Given a dictionary with values list, extract key whose value has most unique values.\n",
        "\n",
        "**Example 1:**\n",
        "\n",
        "Input:\n",
        "\n",
        "```bash\n",
        "test_dict = {\"CampusX\" : [5, 7, 9, 4, 0], \"is\" : [6, 7, 4, 3, 3], \"Best\" : [9, 9, 6, 5, 5]}\n",
        "```\n",
        "\n",
        "Output:\n",
        "```bash\n",
        "CampusX\n",
        "```\n",
        "\n",
        "**Example 2:**\n",
        "\n",
        "Input:\n",
        "```bash\n",
        "test_dict = {\"CampusX\" : [5, 7, 7, 7, 7], \"is\" : [6, 7, 7, 7], \"Best\" : [9, 9, 6, 5, 5]}\n",
        "```\n",
        "\n",
        "Output:\n",
        "```bash\n",
        "Best\n",
        "```"
      ]
    },
    {
      "cell_type": "code",
      "execution_count": 119,
      "metadata": {
        "id": "N8KHX863lNxL"
      },
      "outputs": [
        {
          "name": "stdout",
          "output_type": "stream",
          "text": [
            "{0, 4, 5, 7, 9}\n",
            "{3, 4, 6, 7}\n",
            "{9, 5, 6}\n",
            "CampusX\n"
          ]
        }
      ],
      "source": [
        "# write your code here\n",
        "\n",
        "test_dict = {\"CampusX\" : [5, 7, 9, 4, 0], \"is\" : [6, 7, 4, 3, 3], \"Best\" : [9, 9, 6, 5, 5]}\n",
        "\n",
        "output = \"\"\n",
        "max_num = -1\n",
        "\n",
        "for key,value in test_dict.items():\n",
        "    print(set(value))\n",
        "    if len(set(value)) > max_num:\n",
        "        max_num = len(set(value))\n",
        "        output = key\n",
        "print(output)"
      ]
    },
    {
      "cell_type": "markdown",
      "metadata": {
        "id": "_S5X6C84dWdJ"
      },
      "source": [
        "### `Q2`: Replace words from Dictionary. Given String, replace it’s words from lookup dictionary.\n",
        "\n",
        "**Example 1:**\n",
        "\n",
        "Input:\n",
        "\n",
        "```bash\n",
        "test_str = 'CampusX best for DS students.'\n",
        "repl_dict = {\"best\" : \"is the best channel\", \"DS\" : \"Data-Science\"}\n",
        "```\n",
        "\n",
        "Output:\n",
        "\n",
        "```bash\n",
        "CampusX is the best channel for Data-Science students.\n",
        "```\n",
        "\n",
        "**Example 2:**\n",
        "\n",
        "Input:\n",
        "```bash\n",
        "test_str = 'CampusX best for DS students.'\n",
        "repl_dict = {\"good\" : \"is the best channel\", \"ds\" : \"Data-Science\"}\n",
        "```\n",
        "\n",
        "Output:\n",
        "```bash\n",
        "CampusX best for DS students.\n",
        "```"
      ]
    },
    {
      "cell_type": "code",
      "execution_count": 125,
      "metadata": {
        "id": "BTAQ8qnrlOxr"
      },
      "outputs": [
        {
          "name": "stdout",
          "output_type": "stream",
          "text": [
            "CampusX is the best channel for Data-Science students. \n"
          ]
        }
      ],
      "source": [
        "# write your code here\n",
        "test_str = 'CampusX best for DS students.'\n",
        "repl_dict = {\"best\" : \"is the best channel\", \"DS\" : \"Data-Science\"}\n",
        "\n",
        "test_str = test_str.split()\n",
        "output = \"\"\n",
        "for i in test_str:\n",
        "    if i in repl_dict:\n",
        "        output += repl_dict[i] + \" \"\n",
        "    else:\n",
        "        output += i + \" \"\n",
        "\n",
        "print(output)"
      ]
    },
    {
      "cell_type": "markdown",
      "metadata": {
        "id": "55xgap3zfbcR"
      },
      "source": [
        "### `Q3`: Convert List to List of dictionaries. Given list values and keys list, convert these values to key value pairs in form of list of dictionaries.\n",
        "\n",
        "**Example 1:**\n",
        "\n",
        "Input:\n",
        "```bash\n",
        "test_list = [\"DataScience\", 3, \"is\", 8]\n",
        "key_list = [\"name\", \"id\"]\n",
        "```\n",
        "\n",
        "Output:\n",
        "\n",
        "```bash\n",
        "[{'name': 'DataScience', 'id': 3}, {'name': 'is', 'id': 8}]\n",
        "```\n",
        "\n",
        "**Example 2:**\n",
        "\n",
        "Input:\n",
        "```bash\n",
        "test_list = [\"CampusX\", 10]\n",
        "key_list = [\"name\", \"id\"]\n",
        "```\n",
        "\n",
        "Output:\n",
        "\n",
        "```bash\n",
        "[{'name': 'CampusX', 'id': 10}]\n",
        "```"
      ]
    },
    {
      "cell_type": "code",
      "execution_count": 140,
      "metadata": {
        "id": "jbCajI87lQFr"
      },
      "outputs": [
        {
          "name": "stdout",
          "output_type": "stream",
          "text": [
            "[{'name': 'DataScience', 'id': 3}, {'name': 'is', 'id': 8}]\n"
          ]
        }
      ],
      "source": [
        "# write your code here\n",
        "test_list = [\"DataScience\", 3, \"is\", 8]\n",
        "key_list = [\"name\", \"id\"]\n",
        "\n",
        "output = []\n",
        "for i in range(0,len(test_list),len(key_list)):\n",
        "    output.append(dict(zip(key_list,test_list[i: i+len(key_list)])))\n",
        "print(output)"
      ]
    },
    {
      "cell_type": "markdown",
      "metadata": {
        "id": "5RxBlLQahLkB"
      },
      "source": [
        "### `Q4`: Convert a list of Tuples into Dictionary.\n",
        "\n",
        "**Example 1:**\n",
        "\n",
        "Input:\n",
        "```bash\n",
        "[(\"akash\", 10), (\"gaurav\", 12), (\"anand\", 14), (\"suraj\", 20), (\"akhil\", 25), (\"ashish\", 30)]\n",
        "```\n",
        "\n",
        "Output:\n",
        "```bash\n",
        "{'akash': [10], 'gaurav': [12], 'anand': [14], 'suraj': [20], 'akhil': [25], 'ashish': [30]}\n",
        "```\n",
        "\n",
        "**Example 2:**\n",
        "\n",
        "Input:\n",
        "```bash\n",
        "[('A', 1), ('B', 2), ('C', 3)]\n",
        "```\n",
        "\n",
        "Output:\n",
        "```bash\n",
        "{'A': [1], 'B': [2], 'C': [3]}\n",
        "```"
      ]
    },
    {
      "cell_type": "code",
      "execution_count": 179,
      "metadata": {
        "id": "f1yz7inMlQ5N"
      },
      "outputs": [
        {
          "name": "stdout",
          "output_type": "stream",
          "text": [
            "{'akash': [10], 'gaurav': [12], 'anand': [14], 'suraj': [20], 'akhil': [25], 'ashish': [30, 20]}\n"
          ]
        }
      ],
      "source": [
        "# write your code here\n",
        "lst = [(\"akash\", 10), (\"gaurav\", 12), (\"anand\", 14), (\"suraj\", 20), (\"akhil\", 25), (\"ashish\", 30,20)]\n",
        "\n",
        "output_dict =  { i:j for i,*j in lst}\n",
        "print(output_dict)"
      ]
    },
    {
      "cell_type": "markdown",
      "metadata": {
        "id": "Fz8EzJD-kBkS"
      },
      "source": [
        "### `Q5`: Sort Dictionary key and values List.\n",
        "\n",
        "**Example 1:**\n",
        "\n",
        "Input:\n",
        "\n",
        "```bash\n",
        "{'c': [3], 'b': [12, 10], 'a': [19, 4]}\n",
        "```\n",
        "\n",
        "Output:\n",
        "\n",
        "```bash\n",
        "{'a': [4, 19], 'b': [10, 12], 'c': [3]}\n",
        "```\n",
        "\n",
        "**Example 2:**\n",
        "\n",
        "Input:\n",
        "\n",
        "```bash\n",
        "{'c': [10, 34, 3]}\n",
        "```\n",
        "\n",
        "Output:\n",
        "\n",
        "```bash\n",
        "{'c': [3, 10, 34]}\n",
        "```"
      ]
    },
    {
      "cell_type": "code",
      "execution_count": 169,
      "metadata": {
        "id": "x9UmJ4EQk7Pp"
      },
      "outputs": [
        {
          "name": "stdout",
          "output_type": "stream",
          "text": [
            "{'a': [4, 19], 'b': [10, 12], 'c': [3]}\n"
          ]
        }
      ],
      "source": [
        "# write your code here\n",
        "d = {'c': [3], 'b': [12, 10], 'a': [19, 4]}\n",
        "sorted_dict_key = sorted(d)\n",
        "\n",
        "output_dict = {}\n",
        "for key in sorted_dict_key:\n",
        "    output_dict[key] = sorted(d[key])\n",
        "print(output_dict)"
      ]
    }
  ],
  "metadata": {
    "colab": {
      "provenance": []
    },
    "kernelspec": {
      "display_name": "Python 3",
      "name": "python3"
    },
    "language_info": {
      "codemirror_mode": {
        "name": "ipython",
        "version": 3
      },
      "file_extension": ".py",
      "mimetype": "text/x-python",
      "name": "python",
      "nbconvert_exporter": "python",
      "pygments_lexer": "ipython3",
      "version": "3.12.0"
    }
  },
  "nbformat": 4,
  "nbformat_minor": 0
}
