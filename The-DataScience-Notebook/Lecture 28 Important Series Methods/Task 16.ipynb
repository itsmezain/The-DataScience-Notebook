{
  "cells": [
    {
      "cell_type": "code",
      "execution_count": 1,
      "metadata": {},
      "outputs": [],
      "source": [
        "import numpy as np\n",
        "import pandas as pd"
      ]
    },
    {
      "cell_type": "markdown",
      "metadata": {
        "id": "MetYTZJpYfdz"
      },
      "source": [
        "### `Q-1:` Write a program to create an empty series."
      ]
    },
    {
      "cell_type": "code",
      "execution_count": 2,
      "metadata": {
        "id": "KUcgT935YgC5"
      },
      "outputs": [
        {
          "data": {
            "text/plain": [
              "Series([], dtype: object)"
            ]
          },
          "execution_count": 2,
          "metadata": {},
          "output_type": "execute_result"
        }
      ],
      "source": [
        "# code here\n",
        "pd.Series([])"
      ]
    },
    {
      "cell_type": "markdown",
      "metadata": {
        "id": "jw5ybzU6YhOo"
      },
      "source": [
        "### `Q-2:` Write a Pandas program to add, subtract, multiple and divide two Pandas Series."
      ]
    },
    {
      "cell_type": "code",
      "execution_count": 4,
      "metadata": {
        "id": "EF3GgVFjYjwG"
      },
      "outputs": [
        {
          "name": "stdout",
          "output_type": "stream",
          "text": [
            "0     8\n",
            "1    10\n",
            "2    12\n",
            "3    12\n",
            "4     7\n",
            "5    12\n",
            "dtype: int64\n",
            "*************************\n",
            "0   -6\n",
            "1   -6\n",
            "2   -6\n",
            "3   -4\n",
            "4    3\n",
            "5    0\n",
            "dtype: int64\n",
            "*************************\n",
            "0     7\n",
            "1    16\n",
            "2    27\n",
            "3    32\n",
            "4    10\n",
            "5    36\n",
            "dtype: int64\n",
            "*************************\n",
            "0    0.142857\n",
            "1    0.250000\n",
            "2    0.333333\n",
            "3    0.500000\n",
            "4    2.500000\n",
            "5    1.000000\n",
            "dtype: float64\n"
          ]
        }
      ],
      "source": [
        "# code here\n",
        "a = pd.Series([1,2,3,4,5,6])\n",
        "b = pd.Series([7,8,9,8,2,6])\n",
        "\n",
        "print(a+b)\n",
        "print(\"*\" * 25)\n",
        "print(a-b)\n",
        "print(\"*\" * 25)\n",
        "print(a*b)\n",
        "print(\"*\" * 25)\n",
        "print(a/b)"
      ]
    },
    {
      "cell_type": "markdown",
      "metadata": {
        "id": "TZDp25jeYlB6"
      },
      "source": [
        "### `Q-3` Write a Pandas program to compare the elements of the two Pandas Series.\n",
        "Sample Series: [2, 4, 6, 8, 10], [1, 3, 5, 7, 10]\n",
        "\n"
      ]
    },
    {
      "cell_type": "code",
      "execution_count": null,
      "metadata": {
        "id": "gFNil8ruYp1y"
      },
      "outputs": [
        {
          "name": "stdout",
          "output_type": "stream",
          "text": [
            "0     True\n",
            "1     True\n",
            "2     True\n",
            "3     True\n",
            "4    False\n",
            "dtype: bool\n",
            "*************************\n",
            "0    False\n",
            "1    False\n",
            "2    False\n",
            "3    False\n",
            "4    False\n",
            "dtype: bool\n",
            "*************************\n",
            "0    False\n",
            "1    False\n",
            "2    False\n",
            "3    False\n",
            "4     True\n",
            "dtype: bool\n"
          ]
        }
      ],
      "source": [
        "# code here\n",
        "a = pd.Series([2,4,6,8,10])\n",
        "b = pd.Series([1, 3, 5, 7, 10])\n",
        "\n",
        "print(a > b)\n",
        "print(\"*\" * 25)\n",
        "print(a < b)\n",
        "print(\"*\" * 25)\n",
        "print(a == b)"
      ]
    },
    {
      "cell_type": "markdown",
      "metadata": {
        "id": "HlOBn_N6YrZz"
      },
      "source": [
        "### `Q-4.`Write a function to change the data type of given a column or a Series. Function takes series and data type as input, returns the converted series.\n",
        "```\n",
        "series = pd.Series([1,2,'Python', 2.0, True, 100])\n",
        "change to float type data\n",
        "```\n",
        "Note: Read about pd.to_numeric()"
      ]
    },
    {
      "cell_type": "code",
      "execution_count": 12,
      "metadata": {
        "id": "_SWQJCUJYwXm"
      },
      "outputs": [
        {
          "data": {
            "text/plain": [
              "0      1.0\n",
              "1      2.0\n",
              "2      NaN\n",
              "3      2.0\n",
              "4      1.0\n",
              "5    100.0\n",
              "dtype: float32"
            ]
          },
          "execution_count": 12,
          "metadata": {},
          "output_type": "execute_result"
        }
      ],
      "source": [
        "# code here\n",
        "\n",
        "def change_dtype(series):\n",
        "    return pd.to_numeric(series, errors=\"coerce\", downcast = \"float\")\n",
        "\n",
        "series = pd.Series([1,2,'Python', 2.0, True, 100])\n",
        "change_dtype(series)\n"
      ]
    },
    {
      "cell_type": "markdown",
      "metadata": {
        "id": "PGp3OqRIY0Va"
      },
      "source": [
        "Download data - https://drive.google.com/file/d/1LRhXwbEodeWXtzPhJCX0X9Lf_BECzvqb/view?usp=share_link\n",
        "All Batsman runs series in IPL 2008 to 2022.\n",
        "\n",
        "Below questions are based on this data."
      ]
    },
    {
      "cell_type": "code",
      "execution_count": 20,
      "metadata": {},
      "outputs": [
        {
          "data": {
            "text/plain": [
              "batter\n",
              "A Ashish Reddy    280\n",
              "A Badoni          161\n",
              "A Chandila          4\n",
              "A Chopra           53\n",
              "A Choudhary        25\n",
              "Name: batsman_run, dtype: int64"
            ]
          },
          "execution_count": 20,
          "metadata": {},
          "output_type": "execute_result"
        }
      ],
      "source": [
        "ipl_data = pd.read_csv('batsman_runs_series_for_Task.csv', index_col = \"batter\").squeeze()\n",
        "ipl_data.head(5)"
      ]
    },
    {
      "cell_type": "markdown",
      "metadata": {
        "id": "TxFkp-L4Y23d"
      },
      "source": [
        "### `Q-6` Find top 10 most run getter from the series."
      ]
    },
    {
      "cell_type": "code",
      "execution_count": 23,
      "metadata": {
        "id": "muBgocA6Y2Bg"
      },
      "outputs": [
        {
          "data": {
            "text/plain": [
              "batter\n",
              "V Kohli           6634\n",
              "S Dhawan          6244\n",
              "DA Warner         5883\n",
              "RG Sharma         5881\n",
              "SK Raina          5536\n",
              "AB de Villiers    5181\n",
              "CH Gayle          4997\n",
              "MS Dhoni          4978\n",
              "RV Uthappa        4954\n",
              "KD Karthik        4377\n",
              "Name: batsman_run, dtype: int64"
            ]
          },
          "execution_count": 23,
          "metadata": {},
          "output_type": "execute_result"
        }
      ],
      "source": [
        "# code here\n",
        "\n",
        "ipl_data.nlargest(10)"
      ]
    },
    {
      "cell_type": "markdown",
      "metadata": {
        "id": "GzlCFBM_Y83g"
      },
      "source": [
        "### `Q-7` No of players having runs above 3000"
      ]
    },
    {
      "cell_type": "code",
      "execution_count": 47,
      "metadata": {
        "id": "JdNchHRWY1B-"
      },
      "outputs": [
        {
          "data": {
            "text/plain": [
              "20"
            ]
          },
          "execution_count": 47,
          "metadata": {},
          "output_type": "execute_result"
        }
      ],
      "source": [
        "# code here\n",
        "len(ipl_data[ipl_data > 3000])"
      ]
    },
    {
      "cell_type": "markdown",
      "metadata": {
        "id": "pMBEoCL1Y-vh"
      },
      "source": [
        "### `Q-8` No of players having runs above mean value?"
      ]
    },
    {
      "cell_type": "code",
      "execution_count": 50,
      "metadata": {
        "id": "LgtViVFZZBIu"
      },
      "outputs": [
        {
          "data": {
            "text/plain": [
              "np.int64(128)"
            ]
          },
          "execution_count": 50,
          "metadata": {},
          "output_type": "execute_result"
        }
      ],
      "source": [
        "# code here\n",
        "\n",
        "ipl_data[ipl_data > ipl_data.mean()].count()"
      ]
    },
    {
      "cell_type": "markdown",
      "metadata": {
        "id": "OAB1CgdgZEqE"
      },
      "source": [
        "Download data - https://drive.google.com/file/d/1QZuZ5bypUInfVvarHACLAi8tXXHvb8xd/view?usp=share_link\n",
        "\n",
        "file name - items.csv\n",
        "\n"
      ]
    },
    {
      "cell_type": "markdown",
      "metadata": {
        "id": "1UTQQImxZGLu"
      },
      "source": [
        "### `Q-9`\n",
        "    i. Read `items.csv` making `item_name` as index.\n",
        "    ii. Show no of nan values\n",
        "    ii. Item price is given in $, so convert it to rupees without currency symbol.\n",
        "    iii. Make data type of newly made series as float.\n",
        "    iv. Fill nan with mean of the series\n",
        "\n",
        "\n",
        "How csv file looks\n",
        "\n",
        "```\n",
        "item_name\titem_price\n",
        "Chips and Fresh Tomato Salsa\t$2.39\n",
        "Izze\t$3.39\n",
        "Nantucket Nectar\t$3.39\n",
        "Chips and Tomatillo-Green Chili Salsa\t$2.39\n",
        "Chicken Bowl\t$16.98\n",
        "\n",
        "```"
      ]
    },
    {
      "cell_type": "code",
      "execution_count": 85,
      "metadata": {
        "id": "1xaWkoMJZFNK"
      },
      "outputs": [
        {
          "name": "stdout",
          "output_type": "stream",
          "text": [
            "item_name\n",
            "Chips and Fresh Tomato Salsa              $2.39 \n",
            "Izze                                      $3.39 \n",
            "Nantucket Nectar                          $3.39 \n",
            "Chips and Tomatillo-Green Chili Salsa     $2.39 \n",
            "Chicken Bowl                             $16.98 \n",
            "Name: item_price, dtype: object\n",
            "**************************************************\n",
            "No. of NaN values in the dataset : 50\n",
            "**************************************************\n",
            "item_name\n",
            "Chips and Fresh Tomato Salsa              203.15\n",
            "Izze                                      288.15\n",
            "Nantucket Nectar                          288.15\n",
            "Chips and Tomatillo-Green Chili Salsa     203.15\n",
            "Chicken Bowl                             1443.30\n",
            "Name: item_price, dtype: float64\n",
            "**************************************************\n",
            "Final Processed Data:\n",
            "item_name\n",
            "Chips and Fresh Tomato Salsa              203.15\n",
            "Izze                                      288.15\n",
            "Nantucket Nectar                          288.15\n",
            "Chips and Tomatillo-Green Chili Salsa     203.15\n",
            "Chicken Bowl                             1443.30\n",
            "Name: item_price, dtype: float64\n"
          ]
        }
      ],
      "source": [
        "# code here\n",
        "\n",
        "# i => Read `items.csv` making `item_name` as index.\n",
        "\n",
        "items = pd.read_csv('items_for_task.csv', index_col = \"item_name\").squeeze()\n",
        "print(items.head())\n",
        "\n",
        "# ii => Show no of nan values\n",
        "print(\"*\" * 50)\n",
        "null_count = items.isnull().sum()\n",
        "print('No. of NaN values in the dataset :', null_count) \n",
        "\n",
        "#  iii =>  Item price is given in $, so convert it to rupees without currency symbol.\n",
        "print(\"*\" * 50)\n",
        "items = items.str.replace('$', '').astype('float') * 85\n",
        "print(items.head())\n",
        "\n",
        "\n",
        "#   iv. Fill nan with mean of the series\n",
        "items.fillna(items.mean(), inplace=True)\n",
        "\n",
        "print(\"*\" * 50)\n",
        "print(\"Final Processed Data:\")\n",
        "print(items.head())"
      ]
    },
    {
      "cell_type": "markdown",
      "metadata": {
        "id": "UHc_4e9cZK8r"
      },
      "source": [
        "### `Q-10`:\n",
        "    i. Find mean price\n",
        "    ii. Find 30th and 6th percentile value\n",
        "    iii. Plot Histogram on price with bin size 50\n",
        "    iv. No of items price lies between [1000 to 2000]\n",
        "\n"
      ]
    },
    {
      "cell_type": "code",
      "execution_count": 101,
      "metadata": {
        "id": "Eh3xX9FpZNmE"
      },
      "outputs": [
        {
          "name": "stdout",
          "output_type": "stream",
          "text": [
            "634.3576771653544\n",
            "30th Percentile: 378.25\n",
            "6th Percentile: 106.25\n",
            "No. of items with price between ₹1000 to ₹2000: 142\n"
          ]
        },
        {
          "data": {
            "image/png": "[encoded data removed]",
            "text/plain": [
              "<Figure size 640x480 with 1 Axes>"
            ]
          },
          "metadata": {},
          "output_type": "display_data"
        }
      ],
      "source": [
        "# code here\n",
        "\n",
        "# i. Find mean price\n",
        "mean_price = items.mean()\n",
        "print(mean_price)\n",
        "\n",
        "\n",
        "# ii. Find 30th and 6th percentile value\n",
        "percentile_30 = np.percentile(items,30)\n",
        "percentile_6 = np.percentile(items,6)\n",
        "\n",
        "print(f\"30th Percentile: {percentile_30}\")\n",
        "print(f\"6th Percentile: {percentile_6}\")\n",
        "\n",
        "\n",
        "# iii. Plot Histogram on price with bin size 50\n",
        "import matplotlib.pyplot as plt\n",
        "items.plot(kind='hist')\n",
        "\n",
        "# iv. No of items price lies between [1000 to 2000]\n",
        "count_in_range = ((items >= 1000) & (items <= 2000)).sum()\n",
        "print(\"No. of items with price between ₹1000 to ₹2000:\", count_in_range)"
      ]
    }
  ],
  "metadata": {
    "colab": {
      "provenance": []
    },
    "kernelspec": {
      "display_name": "Python 3",
      "name": "python3"
    },
    "language_info": {
      "codemirror_mode": {
        "name": "ipython",
        "version": 3
      },
      "file_extension": ".py",
      "mimetype": "text/x-python",
      "name": "python",
      "nbconvert_exporter": "python",
      "pygments_lexer": "ipython3",
      "version": "3.12.3"
    }
  },
  "nbformat": 4,
  "nbformat_minor": 0
}
