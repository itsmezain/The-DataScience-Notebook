{
 "cells": [
  {
   "cell_type": "markdown",
   "metadata": {},
   "source": [
    "<H3>1- Consume Flask API from last video</h1>  \n",
    "-> There is  a two parts about the API **i) API Creation** and **ii) API Consumption**  \n",
    "  \n",
    "Example: IRCTC will crete the API and makemytrip will consume the API.\n",
    "\n",
    "In today session we will run two things  \n",
    "i) The API Creation from tomorrow  \n",
    "ii) The API Consumption from today  \n",
    "  \n",
    "---\n",
    "  \n",
    "So today we are gonna make a application based on tomorrow API's in  which there will be dropdown for the user to select the team1 and another dropdown for the user to select the team2 and then the user will click on the `find record` button and the record will be shown on the screen."
   ]
  },
  {
   "cell_type": "markdown",
   "metadata": {},
   "source": [
    "##### Now making the application for the API consumption  \n",
    "1. We create a new Flask app and using html we make a form with two dropdowns and a button.\n",
    "2. We will use the `requests` library to make a request to the API and get the data.  \n",
    "=> `requests` is a library that allows you to send HTTP requests using Python. The HTTP request returns a Response Object with all the response data (content, encoding, status, etc).\n",
    "3. We will use the `json` library to convert the response data into a dictionary becuase the response data is in the form of JSON.\n",
    "4. We will use Jinja template for loops to display the team name in the dropdowns.\n",
    "5. We will then select the two teams and click on the `find record` button and the record will be shown on the screen.\n",
    "6. We will use the Get method to get the team name into the `app.py` file and then use the `requests` library to make a request to the API (`http://127.0.0.1:5000/api/teamVteam?team1={team1}&team2={team2}`) and get the data.\n",
    "7. We will use the `json` library to convert the response data into a dictionary becuase the response data is in the form of JSON. "
   ]
  },
  {
   "cell_type": "code",
   "execution_count": null,
   "metadata": {},
   "outputs": [],
   "source": []
  },
  {
   "cell_type": "markdown",
   "metadata": {},
   "source": [
    "<h3>2- NumPy remaining topics</h3>"
   ]
  },
  {
   "cell_type": "code",
   "execution_count": 3,
   "metadata": {},
   "outputs": [],
   "source": [
    "import numpy as np\n",
    "import pandas as pd"
   ]
  },
  {
   "cell_type": "code",
   "execution_count": 4,
   "metadata": {},
   "outputs": [
    {
     "name": "stdout",
     "output_type": "stream",
     "text": [
      "[0. 1. 2. 3. 4. 5. 6. 7. 8. 9.]\n",
      "[0. 1. 2. 3. 4. 5. 6. 7. 8. 9.]\n"
     ]
    }
   ],
   "source": [
    "# plotting 3D graphs\n",
    "# meshgrids\n",
    "\n",
    "a = np.linspace(0,9,10)\n",
    "b = np.linspace(0,9,10)\n",
    "print(a)\n",
    "print(b)"
   ]
  },
  {
   "cell_type": "code",
   "execution_count": 5,
   "metadata": {},
   "outputs": [
    {
     "name": "stdout",
     "output_type": "stream",
     "text": [
      "[[0. 1. 2. 3. 4. 5. 6. 7. 8. 9.]\n",
      " [0. 1. 2. 3. 4. 5. 6. 7. 8. 9.]\n",
      " [0. 1. 2. 3. 4. 5. 6. 7. 8. 9.]\n",
      " [0. 1. 2. 3. 4. 5. 6. 7. 8. 9.]\n",
      " [0. 1. 2. 3. 4. 5. 6. 7. 8. 9.]\n",
      " [0. 1. 2. 3. 4. 5. 6. 7. 8. 9.]\n",
      " [0. 1. 2. 3. 4. 5. 6. 7. 8. 9.]\n",
      " [0. 1. 2. 3. 4. 5. 6. 7. 8. 9.]\n",
      " [0. 1. 2. 3. 4. 5. 6. 7. 8. 9.]\n",
      " [0. 1. 2. 3. 4. 5. 6. 7. 8. 9.]]\n",
      "********************\n",
      "[[0. 0. 0. 0. 0. 0. 0. 0. 0. 0.]\n",
      " [1. 1. 1. 1. 1. 1. 1. 1. 1. 1.]\n",
      " [2. 2. 2. 2. 2. 2. 2. 2. 2. 2.]\n",
      " [3. 3. 3. 3. 3. 3. 3. 3. 3. 3.]\n",
      " [4. 4. 4. 4. 4. 4. 4. 4. 4. 4.]\n",
      " [5. 5. 5. 5. 5. 5. 5. 5. 5. 5.]\n",
      " [6. 6. 6. 6. 6. 6. 6. 6. 6. 6.]\n",
      " [7. 7. 7. 7. 7. 7. 7. 7. 7. 7.]\n",
      " [8. 8. 8. 8. 8. 8. 8. 8. 8. 8.]\n",
      " [9. 9. 9. 9. 9. 9. 9. 9. 9. 9.]]\n"
     ]
    }
   ],
   "source": [
    "xx, yy = np.meshgrid(a,b)\n",
    "\n",
    "print(xx)\n",
    "print('*' * 20)\n",
    "print(yy)"
   ]
  },
  {
   "cell_type": "code",
   "execution_count": 6,
   "metadata": {},
   "outputs": [
    {
     "data": {
      "text/plain": [
       "<matplotlib.collections.PathCollection at 0x11a770e0>"
      ]
     },
     "execution_count": 6,
     "metadata": {},
     "output_type": "execute_result"
    },
    {
     "data": {
      "image/png": "[encoded data removed]",
      "text/plain": [
       "<Figure size 640x480 with 1 Axes>"
      ]
     },
     "metadata": {},
     "output_type": "display_data"
    }
   ],
   "source": [
    "import matplotlib.pyplot as plt\n",
    "plt.scatter(xx,yy)"
   ]
  },
  {
   "cell_type": "markdown",
   "metadata": {},
   "source": [
    "***ham grid ko bna paa rhe hai aur plot kar par rhe hai but iska benefit kya hai?***  \n",
    "\n",
    "Hrr point ko uda kar ek mathematical function me send kar skte ko aur uss mathematical function me bhejoge too 3d dimension me value mil jayega"
   ]
  },
  {
   "cell_type": "code",
   "execution_count": 7,
   "metadata": {},
   "outputs": [
    {
     "data": {
      "text/plain": [
       "array([[  0.,   1.,   4.,   9.,  16.,  25.,  36.,  49.,  64.,  81.],\n",
       "       [  1.,   2.,   5.,  10.,  17.,  26.,  37.,  50.,  65.,  82.],\n",
       "       [  4.,   5.,   8.,  13.,  20.,  29.,  40.,  53.,  68.,  85.],\n",
       "       [  9.,  10.,  13.,  18.,  25.,  34.,  45.,  58.,  73.,  90.],\n",
       "       [ 16.,  17.,  20.,  25.,  32.,  41.,  52.,  65.,  80.,  97.],\n",
       "       [ 25.,  26.,  29.,  34.,  41.,  50.,  61.,  74.,  89., 106.],\n",
       "       [ 36.,  37.,  40.,  45.,  52.,  61.,  72.,  85., 100., 117.],\n",
       "       [ 49.,  50.,  53.,  58.,  65.,  74.,  85.,  98., 113., 130.],\n",
       "       [ 64.,  65.,  68.,  73.,  80.,  89., 100., 113., 128., 145.],\n",
       "       [ 81.,  82.,  85.,  90.,  97., 106., 117., 130., 145., 162.]])"
      ]
     },
     "execution_count": 7,
     "metadata": {},
     "output_type": "execute_result"
    }
   ],
   "source": [
    "def func(x,y):\n",
    "    return x**2 + y**2\n",
    "\n",
    "zz = func(xx,yy)\n",
    "zz"
   ]
  },
  {
   "cell_type": "markdown",
   "metadata": {},
   "source": [
    "***Ab ham log 3d  graph plot karenge plotly library ka use karte huve, plotly ko detail me bdd me cover karenge***"
   ]
  },
  {
   "cell_type": "code",
   "execution_count": 8,
   "metadata": {},
   "outputs": [
    {
     "data": {
      "application/vnd.plotly.v1+json": {
       "config": {
        "plotlyServerURL": "https://plot.ly"
       },
       "data": [
        {
         "hovertemplate": "<extra></extra>",
         "legendgroup": "",
         "marker": {
          "color": "#636efa",
          "symbol": "circle"
         },
         "mode": "markers",
         "name": "",
         "scene": "scene",
         "showlegend": false,
         "type": "scatter3d"
        },
        {
         "type": "surface",
         "x": {
          "bdata": "AAAAAAAAAAAAAAAAAADwPwAAAAAAAABAAAAAAAAACEAAAAAAAAAQQAAAAAAAABRAAAAAAAAAGEAAAAAAAAAcQAAAAAAAACBAAAAAAAAAIkAAAAAAAAAAAAAAAAAAAPA/AAAAAAAAAEAAAAAAAAAIQAAAAAAAABBAAAAAAAAAFEAAAAAAAAAYQAAAAAAAABxAAAAAAAAAIEAAAAAAAAAiQAAAAAAAAAAAAAAAAAAA8D8AAAAAAAAAQAAAAAAAAAhAAAAAAAAAEEAAAAAAAAAUQAAAAAAAABhAAAAAAAAAHEAAAAAAAAAgQAAAAAAAACJAAAAAAAAAAAAAAAAAAADwPwAAAAAAAABAAAAAAAAACEAAAAAAAAAQQAAAAAAAABRAAAAAAAAAGEAAAAAAAAAcQAAAAAAAACBAAAAAAAAAIkAAAAAAAAAAAAAAAAAAAPA/AAAAAAAAAEAAAAAAAAAIQAAAAAAAABBAAAAAAAAAFEAAAAAAAAAYQAAAAAAAABxAAAAAAAAAIEAAAAAAAAAiQAAAAAAAAAAAAAAAAAAA8D8AAAAAAAAAQAAAAAAAAAhAAAAAAAAAEEAAAAAAAAAUQAAAAAAAABhAAAAAAAAAHEAAAAAAAAAgQAAAAAAAACJAAAAAAAAAAAAAAAAAAADwPwAAAAAAAABAAAAAAAAACEAAAAAAAAAQQAAAAAAAABRAAAAAAAAAGEAAAAAAAAAcQAAAAAAAACBAAAAAAAAAIkAAAAAAAAAAAAAAAAAAAPA/AAAAAAAAAEAAAAAAAAAIQAAAAAAAABBAAAAAAAAAFEAAAAAAAAAYQAAAAAAAABxAAAAAAAAAIEAAAAAAAAAiQAAAAAAAAAAAAAAAAAAA8D8AAAAAAAAAQAAAAAAAAAhAAAAAAAAAEEAAAAAAAAAUQAAAAAAAABhAAAAAAAAAHEAAAAAAAAAgQAAAAAAAACJAAAAAAAAAAAAAAAAAAADwPwAAAAAAAABAAAAAAAAACEAAAAAAAAAQQAAAAAAAABRAAAAAAAAAGEAAAAAAAAAcQAAAAAAAACBAAAAAAAAAIkA=",
          "dtype": "f8",
          "shape": "10, 10"
         },
         "y": {
          "bdata": "AAAAAAAAAAAAAAAAAAAAAAAAAAAAAAAAAAAAAAAAAAAAAAAAAAAAAAAAAAAAAAAAAAAAAAAAAAAAAAAAAAAAAAAAAAAAAAAAAAAAAAAAAAAAAAAAAADwPwAAAAAAAPA/AAAAAAAA8D8AAAAAAADwPwAAAAAAAPA/AAAAAAAA8D8AAAAAAADwPwAAAAAAAPA/AAAAAAAA8D8AAAAAAADwPwAAAAAAAABAAAAAAAAAAEAAAAAAAAAAQAAAAAAAAABAAAAAAAAAAEAAAAAAAAAAQAAAAAAAAABAAAAAAAAAAEAAAAAAAAAAQAAAAAAAAABAAAAAAAAACEAAAAAAAAAIQAAAAAAAAAhAAAAAAAAACEAAAAAAAAAIQAAAAAAAAAhAAAAAAAAACEAAAAAAAAAIQAAAAAAAAAhAAAAAAAAACEAAAAAAAAAQQAAAAAAAABBAAAAAAAAAEEAAAAAAAAAQQAAAAAAAABBAAAAAAAAAEEAAAAAAAAAQQAAAAAAAABBAAAAAAAAAEEAAAAAAAAAQQAAAAAAAABRAAAAAAAAAFEAAAAAAAAAUQAAAAAAAABRAAAAAAAAAFEAAAAAAAAAUQAAAAAAAABRAAAAAAAAAFEAAAAAAAAAUQAAAAAAAABRAAAAAAAAAGEAAAAAAAAAYQAAAAAAAABhAAAAAAAAAGEAAAAAAAAAYQAAAAAAAABhAAAAAAAAAGEAAAAAAAAAYQAAAAAAAABhAAAAAAAAAGEAAAAAAAAAcQAAAAAAAABxAAAAAAAAAHEAAAAAAAAAcQAAAAAAAABxAAAAAAAAAHEAAAAAAAAAcQAAAAAAAABxAAAAAAAAAHEAAAAAAAAAcQAAAAAAAACBAAAAAAAAAIEAAAAAAAAAgQAAAAAAAACBAAAAAAAAAIEAAAAAAAAAgQAAAAAAAACBAAAAAAAAAIEAAAAAAAAAgQAAAAAAAACBAAAAAAAAAIkAAAAAAAAAiQAAAAAAAACJAAAAAAAAAIkAAAAAAAAAiQAAAAAAAACJAAAAAAAAAIkAAAAAAAAAiQAAAAAAAACJAAAAAAAAAIkA=",
          "dtype": "f8",
          "shape": "10, 10"
         },
         "z": {
          "bdata": "AAAAAAAAAAAAAAAAAADwPwAAAAAAABBAAAAAAAAAIkAAAAAAAAAwQAAAAAAAADlAAAAAAAAAQkAAAAAAAIBIQAAAAAAAAFBAAAAAAABAVEAAAAAAAADwPwAAAAAAAABAAAAAAAAAFEAAAAAAAAAkQAAAAAAAADFAAAAAAAAAOkAAAAAAAIBCQAAAAAAAAElAAAAAAABAUEAAAAAAAIBUQAAAAAAAABBAAAAAAAAAFEAAAAAAAAAgQAAAAAAAACpAAAAAAAAANEAAAAAAAAA9QAAAAAAAAERAAAAAAACASkAAAAAAAABRQAAAAAAAQFVAAAAAAAAAIkAAAAAAAAAkQAAAAAAAACpAAAAAAAAAMkAAAAAAAAA5QAAAAAAAAEFAAAAAAACARkAAAAAAAABNQAAAAAAAQFJAAAAAAACAVkAAAAAAAAAwQAAAAAAAADFAAAAAAAAANEAAAAAAAAA5QAAAAAAAAEBAAAAAAACAREAAAAAAAABKQAAAAAAAQFBAAAAAAAAAVEAAAAAAAEBYQAAAAAAAADlAAAAAAAAAOkAAAAAAAAA9QAAAAAAAAEFAAAAAAACAREAAAAAAAABJQAAAAAAAgE5AAAAAAACAUkAAAAAAAEBWQAAAAAAAgFpAAAAAAAAAQkAAAAAAAIBCQAAAAAAAAERAAAAAAACARkAAAAAAAABKQAAAAAAAgE5AAAAAAAAAUkAAAAAAAEBVQAAAAAAAAFlAAAAAAABAXUAAAAAAAIBIQAAAAAAAAElAAAAAAACASkAAAAAAAABNQAAAAAAAQFBAAAAAAACAUkAAAAAAAEBVQAAAAAAAgFhAAAAAAABAXEAAAAAAAEBgQAAAAAAAAFBAAAAAAABAUEAAAAAAAABRQAAAAAAAQFJAAAAAAAAAVEAAAAAAAEBWQAAAAAAAAFlAAAAAAABAXEAAAAAAAABgQAAAAAAAIGJAAAAAAABAVEAAAAAAAIBUQAAAAAAAQFVAAAAAAACAVkAAAAAAAEBYQAAAAAAAgFpAAAAAAABAXUAAAAAAAEBgQAAAAAAAIGJAAAAAAABAZEA=",
          "dtype": "f8",
          "shape": "10, 10"
         }
        }
       ],
       "layout": {
        "legend": {
         "tracegroupgap": 0
        },
        "margin": {
         "t": 60
        },
        "scene": {
         "domain": {
          "x": [
           0,
           1
          ],
          "y": [
           0,
           1
          ]
         }
        },
        "template": {
         "data": {
          "bar": [
           {
            "error_x": {
             "color": "#2a3f5f"
            },
            "error_y": {
             "color": "#2a3f5f"
            },
            "marker": {
             "line": {
              "color": "#E5ECF6",
              "width": 0.5
             },
             "pattern": {
              "fillmode": "overlay",
              "size": 10,
              "solidity": 0.2
             }
            },
            "type": "bar"
           }
          ],
          "barpolar": [
           {
            "marker": {
             "line": {
              "color": "#E5ECF6",
              "width": 0.5
             },
             "pattern": {
              "fillmode": "overlay",
              "size": 10,
              "solidity": 0.2
             }
            },
            "type": "barpolar"
           }
          ],
          "carpet": [
           {
            "aaxis": {
             "endlinecolor": "#2a3f5f",
             "gridcolor": "white",
             "linecolor": "white",
             "minorgridcolor": "white",
             "startlinecolor": "#2a3f5f"
            },
            "baxis": {
             "endlinecolor": "#2a3f5f",
             "gridcolor": "white",
             "linecolor": "white",
             "minorgridcolor": "white",
             "startlinecolor": "#2a3f5f"
            },
            "type": "carpet"
           }
          ],
          "choropleth": [
           {
            "colorbar": {
             "outlinewidth": 0,
             "ticks": ""
            },
            "type": "choropleth"
           }
          ],
          "contour": [
           {
            "colorbar": {
             "outlinewidth": 0,
             "ticks": ""
            },
            "colorscale": [
             [
              0,
              "#0d0887"
             ],
             [
              0.1111111111111111,
              "#46039f"
             ],
             [
              0.2222222222222222,
              "#7201a8"
             ],
             [
              0.3333333333333333,
              "#9c179e"
             ],
             [
              0.4444444444444444,
              "#bd3786"
             ],
             [
              0.5555555555555556,
              "#d8576b"
             ],
             [
              0.6666666666666666,
              "#ed7953"
             ],
             [
              0.7777777777777778,
              "#fb9f3a"
             ],
             [
              0.8888888888888888,
              "#fdca26"
             ],
             [
              1,
              "#f0f921"
             ]
            ],
            "type": "contour"
           }
          ],
          "contourcarpet": [
           {
            "colorbar": {
             "outlinewidth": 0,
             "ticks": ""
            },
            "type": "contourcarpet"
           }
          ],
          "heatmap": [
           {
            "colorbar": {
             "outlinewidth": 0,
             "ticks": ""
            },
            "colorscale": [
             [
              0,
              "#0d0887"
             ],
             [
              0.1111111111111111,
              "#46039f"
             ],
             [
              0.2222222222222222,
              "#7201a8"
             ],
             [
              0.3333333333333333,
              "#9c179e"
             ],
             [
              0.4444444444444444,
              "#bd3786"
             ],
             [
              0.5555555555555556,
              "#d8576b"
             ],
             [
              0.6666666666666666,
              "#ed7953"
             ],
             [
              0.7777777777777778,
              "#fb9f3a"
             ],
             [
              0.8888888888888888,
              "#fdca26"
             ],
             [
              1,
              "#f0f921"
             ]
            ],
            "type": "heatmap"
           }
          ],
          "histogram": [
           {
            "marker": {
             "pattern": {
              "fillmode": "overlay",
              "size": 10,
              "solidity": 0.2
             }
            },
            "type": "histogram"
           }
          ],
          "histogram2d": [
           {
            "colorbar": {
             "outlinewidth": 0,
             "ticks": ""
            },
            "colorscale": [
             [
              0,
              "#0d0887"
             ],
             [
              0.1111111111111111,
              "#46039f"
             ],
             [
              0.2222222222222222,
              "#7201a8"
             ],
             [
              0.3333333333333333,
              "#9c179e"
             ],
             [
              0.4444444444444444,
              "#bd3786"
             ],
             [
              0.5555555555555556,
              "#d8576b"
             ],
             [
              0.6666666666666666,
              "#ed7953"
             ],
             [
              0.7777777777777778,
              "#fb9f3a"
             ],
             [
              0.8888888888888888,
              "#fdca26"
             ],
             [
              1,
              "#f0f921"
             ]
            ],
            "type": "histogram2d"
           }
          ],
          "histogram2dcontour": [
           {
            "colorbar": {
             "outlinewidth": 0,
             "ticks": ""
            },
            "colorscale": [
             [
              0,
              "#0d0887"
             ],
             [
              0.1111111111111111,
              "#46039f"
             ],
             [
              0.2222222222222222,
              "#7201a8"
             ],
             [
              0.3333333333333333,
              "#9c179e"
             ],
             [
              0.4444444444444444,
              "#bd3786"
             ],
             [
              0.5555555555555556,
              "#d8576b"
             ],
             [
              0.6666666666666666,
              "#ed7953"
             ],
             [
              0.7777777777777778,
              "#fb9f3a"
             ],
             [
              0.8888888888888888,
              "#fdca26"
             ],
             [
              1,
              "#f0f921"
             ]
            ],
            "type": "histogram2dcontour"
           }
          ],
          "mesh3d": [
           {
            "colorbar": {
             "outlinewidth": 0,
             "ticks": ""
            },
            "type": "mesh3d"
           }
          ],
          "parcoords": [
           {
            "line": {
             "colorbar": {
              "outlinewidth": 0,
              "ticks": ""
             }
            },
            "type": "parcoords"
           }
          ],
          "pie": [
           {
            "automargin": true,
            "type": "pie"
           }
          ],
          "scatter": [
           {
            "fillpattern": {
             "fillmode": "overlay",
             "size": 10,
             "solidity": 0.2
            },
            "type": "scatter"
           }
          ],
          "scatter3d": [
           {
            "line": {
             "colorbar": {
              "outlinewidth": 0,
              "ticks": ""
             }
            },
            "marker": {
             "colorbar": {
              "outlinewidth": 0,
              "ticks": ""
             }
            },
            "type": "scatter3d"
           }
          ],
          "scattercarpet": [
           {
            "marker": {
             "colorbar": {
              "outlinewidth": 0,
              "ticks": ""
             }
            },
            "type": "scattercarpet"
           }
          ],
          "scattergeo": [
           {
            "marker": {
             "colorbar": {
              "outlinewidth": 0,
              "ticks": ""
             }
            },
            "type": "scattergeo"
           }
          ],
          "scattergl": [
           {
            "marker": {
             "colorbar": {
              "outlinewidth": 0,
              "ticks": ""
             }
            },
            "type": "scattergl"
           }
          ],
          "scattermap": [
           {
            "marker": {
             "colorbar": {
              "outlinewidth": 0,
              "ticks": ""
             }
            },
            "type": "scattermap"
           }
          ],
          "scattermapbox": [
           {
            "marker": {
             "colorbar": {
              "outlinewidth": 0,
              "ticks": ""
             }
            },
            "type": "scattermapbox"
           }
          ],
          "scatterpolar": [
           {
            "marker": {
             "colorbar": {
              "outlinewidth": 0,
              "ticks": ""
             }
            },
            "type": "scatterpolar"
           }
          ],
          "scatterpolargl": [
           {
            "marker": {
             "colorbar": {
              "outlinewidth": 0,
              "ticks": ""
             }
            },
            "type": "scatterpolargl"
           }
          ],
          "scatterternary": [
           {
            "marker": {
             "colorbar": {
              "outlinewidth": 0,
              "ticks": ""
             }
            },
            "type": "scatterternary"
           }
          ],
          "surface": [
           {
            "colorbar": {
             "outlinewidth": 0,
             "ticks": ""
            },
            "colorscale": [
             [
              0,
              "#0d0887"
             ],
             [
              0.1111111111111111,
              "#46039f"
             ],
             [
              0.2222222222222222,
              "#7201a8"
             ],
             [
              0.3333333333333333,
              "#9c179e"
             ],
             [
              0.4444444444444444,
              "#bd3786"
             ],
             [
              0.5555555555555556,
              "#d8576b"
             ],
             [
              0.6666666666666666,
              "#ed7953"
             ],
             [
              0.7777777777777778,
              "#fb9f3a"
             ],
             [
              0.8888888888888888,
              "#fdca26"
             ],
             [
              1,
              "#f0f921"
             ]
            ],
            "type": "surface"
           }
          ],
          "table": [
           {
            "cells": {
             "fill": {
              "color": "#EBF0F8"
             },
             "line": {
              "color": "white"
             }
            },
            "header": {
             "fill": {
              "color": "#C8D4E3"
             },
             "line": {
              "color": "white"
             }
            },
            "type": "table"
           }
          ]
         },
         "layout": {
          "annotationdefaults": {
           "arrowcolor": "#2a3f5f",
           "arrowhead": 0,
           "arrowwidth": 1
          },
          "autotypenumbers": "strict",
          "coloraxis": {
           "colorbar": {
            "outlinewidth": 0,
            "ticks": ""
           }
          },
          "colorscale": {
           "diverging": [
            [
             0,
             "#8e0152"
            ],
            [
             0.1,
             "#c51b7d"
            ],
            [
             0.2,
             "#de77ae"
            ],
            [
             0.3,
             "#f1b6da"
            ],
            [
             0.4,
             "#fde0ef"
            ],
            [
             0.5,
             "#f7f7f7"
            ],
            [
             0.6,
             "#e6f5d0"
            ],
            [
             0.7,
             "#b8e186"
            ],
            [
             0.8,
             "#7fbc41"
            ],
            [
             0.9,
             "#4d9221"
            ],
            [
             1,
             "#276419"
            ]
           ],
           "sequential": [
            [
             0,
             "#0d0887"
            ],
            [
             0.1111111111111111,
             "#46039f"
            ],
            [
             0.2222222222222222,
             "#7201a8"
            ],
            [
             0.3333333333333333,
             "#9c179e"
            ],
            [
             0.4444444444444444,
             "#bd3786"
            ],
            [
             0.5555555555555556,
             "#d8576b"
            ],
            [
             0.6666666666666666,
             "#ed7953"
            ],
            [
             0.7777777777777778,
             "#fb9f3a"
            ],
            [
             0.8888888888888888,
             "#fdca26"
            ],
            [
             1,
             "#f0f921"
            ]
           ],
           "sequentialminus": [
            [
             0,
             "#0d0887"
            ],
            [
             0.1111111111111111,
             "#46039f"
            ],
            [
             0.2222222222222222,
             "#7201a8"
            ],
            [
             0.3333333333333333,
             "#9c179e"
            ],
            [
             0.4444444444444444,
             "#bd3786"
            ],
            [
             0.5555555555555556,
             "#d8576b"
            ],
            [
             0.6666666666666666,
             "#ed7953"
            ],
            [
             0.7777777777777778,
             "#fb9f3a"
            ],
            [
             0.8888888888888888,
             "#fdca26"
            ],
            [
             1,
             "#f0f921"
            ]
           ]
          },
          "colorway": [
           "#636efa",
           "#EF553B",
           "#00cc96",
           "#ab63fa",
           "#FFA15A",
           "#19d3f3",
           "#FF6692",
           "#B6E880",
           "#FF97FF",
           "#FECB52"
          ],
          "font": {
           "color": "#2a3f5f"
          },
          "geo": {
           "bgcolor": "white",
           "lakecolor": "white",
           "landcolor": "#E5ECF6",
           "showlakes": true,
           "showland": true,
           "subunitcolor": "white"
          },
          "hoverlabel": {
           "align": "left"
          },
          "hovermode": "closest",
          "mapbox": {
           "style": "light"
          },
          "paper_bgcolor": "white",
          "plot_bgcolor": "#E5ECF6",
          "polar": {
           "angularaxis": {
            "gridcolor": "white",
            "linecolor": "white",
            "ticks": ""
           },
           "bgcolor": "#E5ECF6",
           "radialaxis": {
            "gridcolor": "white",
            "linecolor": "white",
            "ticks": ""
           }
          },
          "scene": {
           "xaxis": {
            "backgroundcolor": "#E5ECF6",
            "gridcolor": "white",
            "gridwidth": 2,
            "linecolor": "white",
            "showbackground": true,
            "ticks": "",
            "zerolinecolor": "white"
           },
           "yaxis": {
            "backgroundcolor": "#E5ECF6",
            "gridcolor": "white",
            "gridwidth": 2,
            "linecolor": "white",
            "showbackground": true,
            "ticks": "",
            "zerolinecolor": "white"
           },
           "zaxis": {
            "backgroundcolor": "#E5ECF6",
            "gridcolor": "white",
            "gridwidth": 2,
            "linecolor": "white",
            "showbackground": true,
            "ticks": "",
            "zerolinecolor": "white"
           }
          },
          "shapedefaults": {
           "line": {
            "color": "#2a3f5f"
           }
          },
          "ternary": {
           "aaxis": {
            "gridcolor": "white",
            "linecolor": "white",
            "ticks": ""
           },
           "baxis": {
            "gridcolor": "white",
            "linecolor": "white",
            "ticks": ""
           },
           "bgcolor": "#E5ECF6",
           "caxis": {
            "gridcolor": "white",
            "linecolor": "white",
            "ticks": ""
           }
          },
          "title": {
           "x": 0.05
          },
          "xaxis": {
           "automargin": true,
           "gridcolor": "white",
           "linecolor": "white",
           "ticks": "",
           "title": {
            "standoff": 15
           },
           "zerolinecolor": "white",
           "zerolinewidth": 2
          },
          "yaxis": {
           "automargin": true,
           "gridcolor": "white",
           "linecolor": "white",
           "ticks": "",
           "title": {
            "standoff": 15
           },
           "zerolinecolor": "white",
           "zerolinewidth": 2
          }
         }
        }
       }
      }
     },
     "metadata": {},
     "output_type": "display_data"
    }
   ],
   "source": [
    "import plotly.express as px\n",
    "import plotly.graph_objects as go\n",
    "\n",
    "fig = px.scatter_3d()\n",
    "\n",
    "fig.add_trace(go.Surface(x = xx, y= yy, z= zz))\n",
    "\n",
    "fig.show()"
   ]
  },
  {
   "cell_type": "markdown",
   "metadata": {},
   "source": [
    "***This is a section of a parabola***"
   ]
  },
  {
   "cell_type": "code",
   "execution_count": 9,
   "metadata": {},
   "outputs": [
    {
     "name": "stdout",
     "output_type": "stream",
     "text": [
      "[-10.  -9.  -8.  -7.  -6.  -5.  -4.  -3.  -2.  -1.   0.   1.   2.   3.\n",
      "   4.   5.   6.   7.   8.   9.]\n",
      "[-10.  -9.  -8.  -7.  -6.  -5.  -4.  -3.  -2.  -1.   0.   1.   2.   3.\n",
      "   4.   5.   6.   7.   8.   9.]\n",
      "[[-10.  -9.  -8.  -7.  -6.  -5.  -4.  -3.  -2.  -1.   0.   1.   2.   3.\n",
      "    4.   5.   6.   7.   8.   9.]\n",
      " [-10.  -9.  -8.  -7.  -6.  -5.  -4.  -3.  -2.  -1.   0.   1.   2.   3.\n",
      "    4.   5.   6.   7.   8.   9.]\n",
      " [-10.  -9.  -8.  -7.  -6.  -5.  -4.  -3.  -2.  -1.   0.   1.   2.   3.\n",
      "    4.   5.   6.   7.   8.   9.]\n",
      " [-10.  -9.  -8.  -7.  -6.  -5.  -4.  -3.  -2.  -1.   0.   1.   2.   3.\n",
      "    4.   5.   6.   7.   8.   9.]\n",
      " [-10.  -9.  -8.  -7.  -6.  -5.  -4.  -3.  -2.  -1.   0.   1.   2.   3.\n",
      "    4.   5.   6.   7.   8.   9.]\n",
      " [-10.  -9.  -8.  -7.  -6.  -5.  -4.  -3.  -2.  -1.   0.   1.   2.   3.\n",
      "    4.   5.   6.   7.   8.   9.]\n",
      " [-10.  -9.  -8.  -7.  -6.  -5.  -4.  -3.  -2.  -1.   0.   1.   2.   3.\n",
      "    4.   5.   6.   7.   8.   9.]\n",
      " [-10.  -9.  -8.  -7.  -6.  -5.  -4.  -3.  -2.  -1.   0.   1.   2.   3.\n",
      "    4.   5.   6.   7.   8.   9.]\n",
      " [-10.  -9.  -8.  -7.  -6.  -5.  -4.  -3.  -2.  -1.   0.   1.   2.   3.\n",
      "    4.   5.   6.   7.   8.   9.]\n",
      " [-10.  -9.  -8.  -7.  -6.  -5.  -4.  -3.  -2.  -1.   0.   1.   2.   3.\n",
      "    4.   5.   6.   7.   8.   9.]\n",
      " [-10.  -9.  -8.  -7.  -6.  -5.  -4.  -3.  -2.  -1.   0.   1.   2.   3.\n",
      "    4.   5.   6.   7.   8.   9.]\n",
      " [-10.  -9.  -8.  -7.  -6.  -5.  -4.  -3.  -2.  -1.   0.   1.   2.   3.\n",
      "    4.   5.   6.   7.   8.   9.]\n",
      " [-10.  -9.  -8.  -7.  -6.  -5.  -4.  -3.  -2.  -1.   0.   1.   2.   3.\n",
      "    4.   5.   6.   7.   8.   9.]\n",
      " [-10.  -9.  -8.  -7.  -6.  -5.  -4.  -3.  -2.  -1.   0.   1.   2.   3.\n",
      "    4.   5.   6.   7.   8.   9.]\n",
      " [-10.  -9.  -8.  -7.  -6.  -5.  -4.  -3.  -2.  -1.   0.   1.   2.   3.\n",
      "    4.   5.   6.   7.   8.   9.]\n",
      " [-10.  -9.  -8.  -7.  -6.  -5.  -4.  -3.  -2.  -1.   0.   1.   2.   3.\n",
      "    4.   5.   6.   7.   8.   9.]\n",
      " [-10.  -9.  -8.  -7.  -6.  -5.  -4.  -3.  -2.  -1.   0.   1.   2.   3.\n",
      "    4.   5.   6.   7.   8.   9.]\n",
      " [-10.  -9.  -8.  -7.  -6.  -5.  -4.  -3.  -2.  -1.   0.   1.   2.   3.\n",
      "    4.   5.   6.   7.   8.   9.]\n",
      " [-10.  -9.  -8.  -7.  -6.  -5.  -4.  -3.  -2.  -1.   0.   1.   2.   3.\n",
      "    4.   5.   6.   7.   8.   9.]\n",
      " [-10.  -9.  -8.  -7.  -6.  -5.  -4.  -3.  -2.  -1.   0.   1.   2.   3.\n",
      "    4.   5.   6.   7.   8.   9.]]\n",
      "********************\n",
      "[[-10. -10. -10. -10. -10. -10. -10. -10. -10. -10. -10. -10. -10. -10.\n",
      "  -10. -10. -10. -10. -10. -10.]\n",
      " [ -9.  -9.  -9.  -9.  -9.  -9.  -9.  -9.  -9.  -9.  -9.  -9.  -9.  -9.\n",
      "   -9.  -9.  -9.  -9.  -9.  -9.]\n",
      " [ -8.  -8.  -8.  -8.  -8.  -8.  -8.  -8.  -8.  -8.  -8.  -8.  -8.  -8.\n",
      "   -8.  -8.  -8.  -8.  -8.  -8.]\n",
      " [ -7.  -7.  -7.  -7.  -7.  -7.  -7.  -7.  -7.  -7.  -7.  -7.  -7.  -7.\n",
      "   -7.  -7.  -7.  -7.  -7.  -7.]\n",
      " [ -6.  -6.  -6.  -6.  -6.  -6.  -6.  -6.  -6.  -6.  -6.  -6.  -6.  -6.\n",
      "   -6.  -6.  -6.  -6.  -6.  -6.]\n",
      " [ -5.  -5.  -5.  -5.  -5.  -5.  -5.  -5.  -5.  -5.  -5.  -5.  -5.  -5.\n",
      "   -5.  -5.  -5.  -5.  -5.  -5.]\n",
      " [ -4.  -4.  -4.  -4.  -4.  -4.  -4.  -4.  -4.  -4.  -4.  -4.  -4.  -4.\n",
      "   -4.  -4.  -4.  -4.  -4.  -4.]\n",
      " [ -3.  -3.  -3.  -3.  -3.  -3.  -3.  -3.  -3.  -3.  -3.  -3.  -3.  -3.\n",
      "   -3.  -3.  -3.  -3.  -3.  -3.]\n",
      " [ -2.  -2.  -2.  -2.  -2.  -2.  -2.  -2.  -2.  -2.  -2.  -2.  -2.  -2.\n",
      "   -2.  -2.  -2.  -2.  -2.  -2.]\n",
      " [ -1.  -1.  -1.  -1.  -1.  -1.  -1.  -1.  -1.  -1.  -1.  -1.  -1.  -1.\n",
      "   -1.  -1.  -1.  -1.  -1.  -1.]\n",
      " [  0.   0.   0.   0.   0.   0.   0.   0.   0.   0.   0.   0.   0.   0.\n",
      "    0.   0.   0.   0.   0.   0.]\n",
      " [  1.   1.   1.   1.   1.   1.   1.   1.   1.   1.   1.   1.   1.   1.\n",
      "    1.   1.   1.   1.   1.   1.]\n",
      " [  2.   2.   2.   2.   2.   2.   2.   2.   2.   2.   2.   2.   2.   2.\n",
      "    2.   2.   2.   2.   2.   2.]\n",
      " [  3.   3.   3.   3.   3.   3.   3.   3.   3.   3.   3.   3.   3.   3.\n",
      "    3.   3.   3.   3.   3.   3.]\n",
      " [  4.   4.   4.   4.   4.   4.   4.   4.   4.   4.   4.   4.   4.   4.\n",
      "    4.   4.   4.   4.   4.   4.]\n",
      " [  5.   5.   5.   5.   5.   5.   5.   5.   5.   5.   5.   5.   5.   5.\n",
      "    5.   5.   5.   5.   5.   5.]\n",
      " [  6.   6.   6.   6.   6.   6.   6.   6.   6.   6.   6.   6.   6.   6.\n",
      "    6.   6.   6.   6.   6.   6.]\n",
      " [  7.   7.   7.   7.   7.   7.   7.   7.   7.   7.   7.   7.   7.   7.\n",
      "    7.   7.   7.   7.   7.   7.]\n",
      " [  8.   8.   8.   8.   8.   8.   8.   8.   8.   8.   8.   8.   8.   8.\n",
      "    8.   8.   8.   8.   8.   8.]\n",
      " [  9.   9.   9.   9.   9.   9.   9.   9.   9.   9.   9.   9.   9.   9.\n",
      "    9.   9.   9.   9.   9.   9.]]\n"
     ]
    }
   ],
   "source": [
    "a = np.linspace(-10,9,20)\n",
    "b = np.linspace(-10,9,20)\n",
    "print(a)\n",
    "print(b)\n",
    "\n",
    "xx, yy = np.meshgrid(a,b)\n",
    "\n",
    "print(xx)\n",
    "print('*' * 20)\n",
    "print(yy)"
   ]
  },
  {
   "cell_type": "code",
   "execution_count": 10,
   "metadata": {},
   "outputs": [
    {
     "data": {
      "text/plain": [
       "<matplotlib.collections.PathCollection at 0x158959a0>"
      ]
     },
     "execution_count": 10,
     "metadata": {},
     "output_type": "execute_result"
    },
    {
     "data": {
      "image/png": "[encoded data removed]",
      "text/plain": [
       "<Figure size 640x480 with 1 Axes>"
      ]
     },
     "metadata": {},
     "output_type": "display_data"
    }
   ],
   "source": [
    "plt.scatter(xx,yy)"
   ]
  },
  {
   "cell_type": "code",
   "execution_count": 11,
   "metadata": {},
   "outputs": [
    {
     "name": "stdout",
     "output_type": "stream",
     "text": [
      "[[200. 181. 164. 149. 136. 125. 116. 109. 104. 101. 100. 101. 104. 109.\n",
      "  116. 125. 136. 149. 164. 181.]\n",
      " [181. 162. 145. 130. 117. 106.  97.  90.  85.  82.  81.  82.  85.  90.\n",
      "   97. 106. 117. 130. 145. 162.]\n",
      " [164. 145. 128. 113. 100.  89.  80.  73.  68.  65.  64.  65.  68.  73.\n",
      "   80.  89. 100. 113. 128. 145.]\n",
      " [149. 130. 113.  98.  85.  74.  65.  58.  53.  50.  49.  50.  53.  58.\n",
      "   65.  74.  85.  98. 113. 130.]\n",
      " [136. 117. 100.  85.  72.  61.  52.  45.  40.  37.  36.  37.  40.  45.\n",
      "   52.  61.  72.  85. 100. 117.]\n",
      " [125. 106.  89.  74.  61.  50.  41.  34.  29.  26.  25.  26.  29.  34.\n",
      "   41.  50.  61.  74.  89. 106.]\n",
      " [116.  97.  80.  65.  52.  41.  32.  25.  20.  17.  16.  17.  20.  25.\n",
      "   32.  41.  52.  65.  80.  97.]\n",
      " [109.  90.  73.  58.  45.  34.  25.  18.  13.  10.   9.  10.  13.  18.\n",
      "   25.  34.  45.  58.  73.  90.]\n",
      " [104.  85.  68.  53.  40.  29.  20.  13.   8.   5.   4.   5.   8.  13.\n",
      "   20.  29.  40.  53.  68.  85.]\n",
      " [101.  82.  65.  50.  37.  26.  17.  10.   5.   2.   1.   2.   5.  10.\n",
      "   17.  26.  37.  50.  65.  82.]\n",
      " [100.  81.  64.  49.  36.  25.  16.   9.   4.   1.   0.   1.   4.   9.\n",
      "   16.  25.  36.  49.  64.  81.]\n",
      " [101.  82.  65.  50.  37.  26.  17.  10.   5.   2.   1.   2.   5.  10.\n",
      "   17.  26.  37.  50.  65.  82.]\n",
      " [104.  85.  68.  53.  40.  29.  20.  13.   8.   5.   4.   5.   8.  13.\n",
      "   20.  29.  40.  53.  68.  85.]\n",
      " [109.  90.  73.  58.  45.  34.  25.  18.  13.  10.   9.  10.  13.  18.\n",
      "   25.  34.  45.  58.  73.  90.]\n",
      " [116.  97.  80.  65.  52.  41.  32.  25.  20.  17.  16.  17.  20.  25.\n",
      "   32.  41.  52.  65.  80.  97.]\n",
      " [125. 106.  89.  74.  61.  50.  41.  34.  29.  26.  25.  26.  29.  34.\n",
      "   41.  50.  61.  74.  89. 106.]\n",
      " [136. 117. 100.  85.  72.  61.  52.  45.  40.  37.  36.  37.  40.  45.\n",
      "   52.  61.  72.  85. 100. 117.]\n",
      " [149. 130. 113.  98.  85.  74.  65.  58.  53.  50.  49.  50.  53.  58.\n",
      "   65.  74.  85.  98. 113. 130.]\n",
      " [164. 145. 128. 113. 100.  89.  80.  73.  68.  65.  64.  65.  68.  73.\n",
      "   80.  89. 100. 113. 128. 145.]\n",
      " [181. 162. 145. 130. 117. 106.  97.  90.  85.  82.  81.  82.  85.  90.\n",
      "   97. 106. 117. 130. 145. 162.]]\n"
     ]
    }
   ],
   "source": [
    "def func(x,y):\n",
    "    return x**2 + y**2\n",
    "\n",
    "zz = func(xx,yy)\n",
    "print(zz)"
   ]
  },
  {
   "cell_type": "code",
   "execution_count": 12,
   "metadata": {},
   "outputs": [
    {
     "data": {
      "application/vnd.plotly.v1+json": {
       "config": {
        "plotlyServerURL": "https://plot.ly"
       },
       "data": [
        {
         "hovertemplate": "<extra></extra>",
         "legendgroup": "",
         "marker": {
          "color": "#636efa",
          "symbol": "circle"
         },
         "mode": "markers",
         "name": "",
         "scene": "scene",
         "showlegend": false,
         "type": "scatter3d"
        },
        {
         "type": "surface",
         "x": {
          "bdata": "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",
          "dtype": "f8",
          "shape": "20, 20"
         },
         "y": {
          "bdata": "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",
          "dtype": "f8",
          "shape": "20, 20"
         },
         "z": {
          "bdata": "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",
          "dtype": "f8",
          "shape": "20, 20"
         }
        }
       ],
       "layout": {
        "legend": {
         "tracegroupgap": 0
        },
        "margin": {
         "t": 60
        },
        "scene": {
         "domain": {
          "x": [
           0,
           1
          ],
          "y": [
           0,
           1
          ]
         }
        },
        "template": {
         "data": {
          "bar": [
           {
            "error_x": {
             "color": "#2a3f5f"
            },
            "error_y": {
             "color": "#2a3f5f"
            },
            "marker": {
             "line": {
              "color": "#E5ECF6",
              "width": 0.5
             },
             "pattern": {
              "fillmode": "overlay",
              "size": 10,
              "solidity": 0.2
             }
            },
            "type": "bar"
           }
          ],
          "barpolar": [
           {
            "marker": {
             "line": {
              "color": "#E5ECF6",
              "width": 0.5
             },
             "pattern": {
              "fillmode": "overlay",
              "size": 10,
              "solidity": 0.2
             }
            },
            "type": "barpolar"
           }
          ],
          "carpet": [
           {
            "aaxis": {
             "endlinecolor": "#2a3f5f",
             "gridcolor": "white",
             "linecolor": "white",
             "minorgridcolor": "white",
             "startlinecolor": "#2a3f5f"
            },
            "baxis": {
             "endlinecolor": "#2a3f5f",
             "gridcolor": "white",
             "linecolor": "white",
             "minorgridcolor": "white",
             "startlinecolor": "#2a3f5f"
            },
            "type": "carpet"
           }
          ],
          "choropleth": [
           {
            "colorbar": {
             "outlinewidth": 0,
             "ticks": ""
            },
            "type": "choropleth"
           }
          ],
          "contour": [
           {
            "colorbar": {
             "outlinewidth": 0,
             "ticks": ""
            },
            "colorscale": [
             [
              0,
              "#0d0887"
             ],
             [
              0.1111111111111111,
              "#46039f"
             ],
             [
              0.2222222222222222,
              "#7201a8"
             ],
             [
              0.3333333333333333,
              "#9c179e"
             ],
             [
              0.4444444444444444,
              "#bd3786"
             ],
             [
              0.5555555555555556,
              "#d8576b"
             ],
             [
              0.6666666666666666,
              "#ed7953"
             ],
             [
              0.7777777777777778,
              "#fb9f3a"
             ],
             [
              0.8888888888888888,
              "#fdca26"
             ],
             [
              1,
              "#f0f921"
             ]
            ],
            "type": "contour"
           }
          ],
          "contourcarpet": [
           {
            "colorbar": {
             "outlinewidth": 0,
             "ticks": ""
            },
            "type": "contourcarpet"
           }
          ],
          "heatmap": [
           {
            "colorbar": {
             "outlinewidth": 0,
             "ticks": ""
            },
            "colorscale": [
             [
              0,
              "#0d0887"
             ],
             [
              0.1111111111111111,
              "#46039f"
             ],
             [
              0.2222222222222222,
              "#7201a8"
             ],
             [
              0.3333333333333333,
              "#9c179e"
             ],
             [
              0.4444444444444444,
              "#bd3786"
             ],
             [
              0.5555555555555556,
              "#d8576b"
             ],
             [
              0.6666666666666666,
              "#ed7953"
             ],
             [
              0.7777777777777778,
              "#fb9f3a"
             ],
             [
              0.8888888888888888,
              "#fdca26"
             ],
             [
              1,
              "#f0f921"
             ]
            ],
            "type": "heatmap"
           }
          ],
          "histogram": [
           {
            "marker": {
             "pattern": {
              "fillmode": "overlay",
              "size": 10,
              "solidity": 0.2
             }
            },
            "type": "histogram"
           }
          ],
          "histogram2d": [
           {
            "colorbar": {
             "outlinewidth": 0,
             "ticks": ""
            },
            "colorscale": [
             [
              0,
              "#0d0887"
             ],
             [
              0.1111111111111111,
              "#46039f"
             ],
             [
              0.2222222222222222,
              "#7201a8"
             ],
             [
              0.3333333333333333,
              "#9c179e"
             ],
             [
              0.4444444444444444,
              "#bd3786"
             ],
             [
              0.5555555555555556,
              "#d8576b"
             ],
             [
              0.6666666666666666,
              "#ed7953"
             ],
             [
              0.7777777777777778,
              "#fb9f3a"
             ],
             [
              0.8888888888888888,
              "#fdca26"
             ],
             [
              1,
              "#f0f921"
             ]
            ],
            "type": "histogram2d"
           }
          ],
          "histogram2dcontour": [
           {
            "colorbar": {
             "outlinewidth": 0,
             "ticks": ""
            },
            "colorscale": [
             [
              0,
              "#0d0887"
             ],
             [
              0.1111111111111111,
              "#46039f"
             ],
             [
              0.2222222222222222,
              "#7201a8"
             ],
             [
              0.3333333333333333,
              "#9c179e"
             ],
             [
              0.4444444444444444,
              "#bd3786"
             ],
             [
              0.5555555555555556,
              "#d8576b"
             ],
             [
              0.6666666666666666,
              "#ed7953"
             ],
             [
              0.7777777777777778,
              "#fb9f3a"
             ],
             [
              0.8888888888888888,
              "#fdca26"
             ],
             [
              1,
              "#f0f921"
             ]
            ],
            "type": "histogram2dcontour"
           }
          ],
          "mesh3d": [
           {
            "colorbar": {
             "outlinewidth": 0,
             "ticks": ""
            },
            "type": "mesh3d"
           }
          ],
          "parcoords": [
           {
            "line": {
             "colorbar": {
              "outlinewidth": 0,
              "ticks": ""
             }
            },
            "type": "parcoords"
           }
          ],
          "pie": [
           {
            "automargin": true,
            "type": "pie"
           }
          ],
          "scatter": [
           {
            "fillpattern": {
             "fillmode": "overlay",
             "size": 10,
             "solidity": 0.2
            },
            "type": "scatter"
           }
          ],
          "scatter3d": [
           {
            "line": {
             "colorbar": {
              "outlinewidth": 0,
              "ticks": ""
             }
            },
            "marker": {
             "colorbar": {
              "outlinewidth": 0,
              "ticks": ""
             }
            },
            "type": "scatter3d"
           }
          ],
          "scattercarpet": [
           {
            "marker": {
             "colorbar": {
              "outlinewidth": 0,
              "ticks": ""
             }
            },
            "type": "scattercarpet"
           }
          ],
          "scattergeo": [
           {
            "marker": {
             "colorbar": {
              "outlinewidth": 0,
              "ticks": ""
             }
            },
            "type": "scattergeo"
           }
          ],
          "scattergl": [
           {
            "marker": {
             "colorbar": {
              "outlinewidth": 0,
              "ticks": ""
             }
            },
            "type": "scattergl"
           }
          ],
          "scattermap": [
           {
            "marker": {
             "colorbar": {
              "outlinewidth": 0,
              "ticks": ""
             }
            },
            "type": "scattermap"
           }
          ],
          "scattermapbox": [
           {
            "marker": {
             "colorbar": {
              "outlinewidth": 0,
              "ticks": ""
             }
            },
            "type": "scattermapbox"
           }
          ],
          "scatterpolar": [
           {
            "marker": {
             "colorbar": {
              "outlinewidth": 0,
              "ticks": ""
             }
            },
            "type": "scatterpolar"
           }
          ],
          "scatterpolargl": [
           {
            "marker": {
             "colorbar": {
              "outlinewidth": 0,
              "ticks": ""
             }
            },
            "type": "scatterpolargl"
           }
          ],
          "scatterternary": [
           {
            "marker": {
             "colorbar": {
              "outlinewidth": 0,
              "ticks": ""
             }
            },
            "type": "scatterternary"
           }
          ],
          "surface": [
           {
            "colorbar": {
             "outlinewidth": 0,
             "ticks": ""
            },
            "colorscale": [
             [
              0,
              "#0d0887"
             ],
             [
              0.1111111111111111,
              "#46039f"
             ],
             [
              0.2222222222222222,
              "#7201a8"
             ],
             [
              0.3333333333333333,
              "#9c179e"
             ],
             [
              0.4444444444444444,
              "#bd3786"
             ],
             [
              0.5555555555555556,
              "#d8576b"
             ],
             [
              0.6666666666666666,
              "#ed7953"
             ],
             [
              0.7777777777777778,
              "#fb9f3a"
             ],
             [
              0.8888888888888888,
              "#fdca26"
             ],
             [
              1,
              "#f0f921"
             ]
            ],
            "type": "surface"
           }
          ],
          "table": [
           {
            "cells": {
             "fill": {
              "color": "#EBF0F8"
             },
             "line": {
              "color": "white"
             }
            },
            "header": {
             "fill": {
              "color": "#C8D4E3"
             },
             "line": {
              "color": "white"
             }
            },
            "type": "table"
           }
          ]
         },
         "layout": {
          "annotationdefaults": {
           "arrowcolor": "#2a3f5f",
           "arrowhead": 0,
           "arrowwidth": 1
          },
          "autotypenumbers": "strict",
          "coloraxis": {
           "colorbar": {
            "outlinewidth": 0,
            "ticks": ""
           }
          },
          "colorscale": {
           "diverging": [
            [
             0,
             "#8e0152"
            ],
            [
             0.1,
             "#c51b7d"
            ],
            [
             0.2,
             "#de77ae"
            ],
            [
             0.3,
             "#f1b6da"
            ],
            [
             0.4,
             "#fde0ef"
            ],
            [
             0.5,
             "#f7f7f7"
            ],
            [
             0.6,
             "#e6f5d0"
            ],
            [
             0.7,
             "#b8e186"
            ],
            [
             0.8,
             "#7fbc41"
            ],
            [
             0.9,
             "#4d9221"
            ],
            [
             1,
             "#276419"
            ]
           ],
           "sequential": [
            [
             0,
             "#0d0887"
            ],
            [
             0.1111111111111111,
             "#46039f"
            ],
            [
             0.2222222222222222,
             "#7201a8"
            ],
            [
             0.3333333333333333,
             "#9c179e"
            ],
            [
             0.4444444444444444,
             "#bd3786"
            ],
            [
             0.5555555555555556,
             "#d8576b"
            ],
            [
             0.6666666666666666,
             "#ed7953"
            ],
            [
             0.7777777777777778,
             "#fb9f3a"
            ],
            [
             0.8888888888888888,
             "#fdca26"
            ],
            [
             1,
             "#f0f921"
            ]
           ],
           "sequentialminus": [
            [
             0,
             "#0d0887"
            ],
            [
             0.1111111111111111,
             "#46039f"
            ],
            [
             0.2222222222222222,
             "#7201a8"
            ],
            [
             0.3333333333333333,
             "#9c179e"
            ],
            [
             0.4444444444444444,
             "#bd3786"
            ],
            [
             0.5555555555555556,
             "#d8576b"
            ],
            [
             0.6666666666666666,
             "#ed7953"
            ],
            [
             0.7777777777777778,
             "#fb9f3a"
            ],
            [
             0.8888888888888888,
             "#fdca26"
            ],
            [
             1,
             "#f0f921"
            ]
           ]
          },
          "colorway": [
           "#636efa",
           "#EF553B",
           "#00cc96",
           "#ab63fa",
           "#FFA15A",
           "#19d3f3",
           "#FF6692",
           "#B6E880",
           "#FF97FF",
           "#FECB52"
          ],
          "font": {
           "color": "#2a3f5f"
          },
          "geo": {
           "bgcolor": "white",
           "lakecolor": "white",
           "landcolor": "#E5ECF6",
           "showlakes": true,
           "showland": true,
           "subunitcolor": "white"
          },
          "hoverlabel": {
           "align": "left"
          },
          "hovermode": "closest",
          "mapbox": {
           "style": "light"
          },
          "paper_bgcolor": "white",
          "plot_bgcolor": "#E5ECF6",
          "polar": {
           "angularaxis": {
            "gridcolor": "white",
            "linecolor": "white",
            "ticks": ""
           },
           "bgcolor": "#E5ECF6",
           "radialaxis": {
            "gridcolor": "white",
            "linecolor": "white",
            "ticks": ""
           }
          },
          "scene": {
           "xaxis": {
            "backgroundcolor": "#E5ECF6",
            "gridcolor": "white",
            "gridwidth": 2,
            "linecolor": "white",
            "showbackground": true,
            "ticks": "",
            "zerolinecolor": "white"
           },
           "yaxis": {
            "backgroundcolor": "#E5ECF6",
            "gridcolor": "white",
            "gridwidth": 2,
            "linecolor": "white",
            "showbackground": true,
            "ticks": "",
            "zerolinecolor": "white"
           },
           "zaxis": {
            "backgroundcolor": "#E5ECF6",
            "gridcolor": "white",
            "gridwidth": 2,
            "linecolor": "white",
            "showbackground": true,
            "ticks": "",
            "zerolinecolor": "white"
           }
          },
          "shapedefaults": {
           "line": {
            "color": "#2a3f5f"
           }
          },
          "ternary": {
           "aaxis": {
            "gridcolor": "white",
            "linecolor": "white",
            "ticks": ""
           },
           "baxis": {
            "gridcolor": "white",
            "linecolor": "white",
            "ticks": ""
           },
           "bgcolor": "#E5ECF6",
           "caxis": {
            "gridcolor": "white",
            "linecolor": "white",
            "ticks": ""
           }
          },
          "title": {
           "x": 0.05
          },
          "xaxis": {
           "automargin": true,
           "gridcolor": "white",
           "linecolor": "white",
           "ticks": "",
           "title": {
            "standoff": 15
           },
           "zerolinecolor": "white",
           "zerolinewidth": 2
          },
          "yaxis": {
           "automargin": true,
           "gridcolor": "white",
           "linecolor": "white",
           "ticks": "",
           "title": {
            "standoff": 15
           },
           "zerolinecolor": "white",
           "zerolinewidth": 2
          }
         }
        }
       }
      }
     },
     "metadata": {},
     "output_type": "display_data"
    }
   ],
   "source": [
    "fig = px.scatter_3d()\n",
    "\n",
    "fig.add_trace(go.Surface(x = xx, y= yy, z= zz))\n",
    "\n",
    "fig.show()"
   ]
  },
  {
   "cell_type": "code",
   "execution_count": 13,
   "metadata": {},
   "outputs": [
    {
     "name": "stdout",
     "output_type": "stream",
     "text": [
      "[[-50. -47. -44. -41. -38. -35. -32. -29. -26. -23. -20. -17. -14. -11.\n",
      "   -8.  -5.  -2.   1.   4.   7.]\n",
      " [-48. -45. -42. -39. -36. -33. -30. -27. -24. -21. -18. -15. -12.  -9.\n",
      "   -6.  -3.   0.   3.   6.   9.]\n",
      " [-46. -43. -40. -37. -34. -31. -28. -25. -22. -19. -16. -13. -10.  -7.\n",
      "   -4.  -1.   2.   5.   8.  11.]\n",
      " [-44. -41. -38. -35. -32. -29. -26. -23. -20. -17. -14. -11.  -8.  -5.\n",
      "   -2.   1.   4.   7.  10.  13.]\n",
      " [-42. -39. -36. -33. -30. -27. -24. -21. -18. -15. -12.  -9.  -6.  -3.\n",
      "    0.   3.   6.   9.  12.  15.]\n",
      " [-40. -37. -34. -31. -28. -25. -22. -19. -16. -13. -10.  -7.  -4.  -1.\n",
      "    2.   5.   8.  11.  14.  17.]\n",
      " [-38. -35. -32. -29. -26. -23. -20. -17. -14. -11.  -8.  -5.  -2.   1.\n",
      "    4.   7.  10.  13.  16.  19.]\n",
      " [-36. -33. -30. -27. -24. -21. -18. -15. -12.  -9.  -6.  -3.   0.   3.\n",
      "    6.   9.  12.  15.  18.  21.]\n",
      " [-34. -31. -28. -25. -22. -19. -16. -13. -10.  -7.  -4.  -1.   2.   5.\n",
      "    8.  11.  14.  17.  20.  23.]\n",
      " [-32. -29. -26. -23. -20. -17. -14. -11.  -8.  -5.  -2.   1.   4.   7.\n",
      "   10.  13.  16.  19.  22.  25.]\n",
      " [-30. -27. -24. -21. -18. -15. -12.  -9.  -6.  -3.   0.   3.   6.   9.\n",
      "   12.  15.  18.  21.  24.  27.]\n",
      " [-28. -25. -22. -19. -16. -13. -10.  -7.  -4.  -1.   2.   5.   8.  11.\n",
      "   14.  17.  20.  23.  26.  29.]\n",
      " [-26. -23. -20. -17. -14. -11.  -8.  -5.  -2.   1.   4.   7.  10.  13.\n",
      "   16.  19.  22.  25.  28.  31.]\n",
      " [-24. -21. -18. -15. -12.  -9.  -6.  -3.   0.   3.   6.   9.  12.  15.\n",
      "   18.  21.  24.  27.  30.  33.]\n",
      " [-22. -19. -16. -13. -10.  -7.  -4.  -1.   2.   5.   8.  11.  14.  17.\n",
      "   20.  23.  26.  29.  32.  35.]\n",
      " [-20. -17. -14. -11.  -8.  -5.  -2.   1.   4.   7.  10.  13.  16.  19.\n",
      "   22.  25.  28.  31.  34.  37.]\n",
      " [-18. -15. -12.  -9.  -6.  -3.   0.   3.   6.   9.  12.  15.  18.  21.\n",
      "   24.  27.  30.  33.  36.  39.]\n",
      " [-16. -13. -10.  -7.  -4.  -1.   2.   5.   8.  11.  14.  17.  20.  23.\n",
      "   26.  29.  32.  35.  38.  41.]\n",
      " [-14. -11.  -8.  -5.  -2.   1.   4.   7.  10.  13.  16.  19.  22.  25.\n",
      "   28.  31.  34.  37.  40.  43.]\n",
      " [-12.  -9.  -6.  -3.   0.   3.   6.   9.  12.  15.  18.  21.  24.  27.\n",
      "   30.  33.  36.  39.  42.  45.]]\n"
     ]
    }
   ],
   "source": [
    "def func(x,y):\n",
    "    return 3*x + 2*y\n",
    "\n",
    "zz = func(xx,yy)\n",
    "print(zz)"
   ]
  },
  {
   "cell_type": "code",
   "execution_count": 14,
   "metadata": {},
   "outputs": [
    {
     "data": {
      "application/vnd.plotly.v1+json": {
       "config": {
        "plotlyServerURL": "https://plot.ly"
       },
       "data": [
        {
         "hovertemplate": "<extra></extra>",
         "legendgroup": "",
         "marker": {
          "color": "#636efa",
          "symbol": "circle"
         },
         "mode": "markers",
         "name": "",
         "scene": "scene",
         "showlegend": false,
         "type": "scatter3d"
        },
        {
         "type": "surface",
         "x": {
          "bdata": "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",
          "dtype": "f8",
          "shape": "20, 20"
         },
         "y": {
          "bdata": "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",
          "dtype": "f8",
          "shape": "20, 20"
         },
         "z": {
          "bdata": "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",
          "dtype": "f8",
          "shape": "20, 20"
         }
        }
       ],
       "layout": {
        "legend": {
         "tracegroupgap": 0
        },
        "margin": {
         "t": 60
        },
        "scene": {
         "domain": {
          "x": [
           0,
           1
          ],
          "y": [
           0,
           1
          ]
         }
        },
        "template": {
         "data": {
          "bar": [
           {
            "error_x": {
             "color": "#2a3f5f"
            },
            "error_y": {
             "color": "#2a3f5f"
            },
            "marker": {
             "line": {
              "color": "#E5ECF6",
              "width": 0.5
             },
             "pattern": {
              "fillmode": "overlay",
              "size": 10,
              "solidity": 0.2
             }
            },
            "type": "bar"
           }
          ],
          "barpolar": [
           {
            "marker": {
             "line": {
              "color": "#E5ECF6",
              "width": 0.5
             },
             "pattern": {
              "fillmode": "overlay",
              "size": 10,
              "solidity": 0.2
             }
            },
            "type": "barpolar"
           }
          ],
          "carpet": [
           {
            "aaxis": {
             "endlinecolor": "#2a3f5f",
             "gridcolor": "white",
             "linecolor": "white",
             "minorgridcolor": "white",
             "startlinecolor": "#2a3f5f"
            },
            "baxis": {
             "endlinecolor": "#2a3f5f",
             "gridcolor": "white",
             "linecolor": "white",
             "minorgridcolor": "white",
             "startlinecolor": "#2a3f5f"
            },
            "type": "carpet"
           }
          ],
          "choropleth": [
           {
            "colorbar": {
             "outlinewidth": 0,
             "ticks": ""
            },
            "type": "choropleth"
           }
          ],
          "contour": [
           {
            "colorbar": {
             "outlinewidth": 0,
             "ticks": ""
            },
            "colorscale": [
             [
              0,
              "#0d0887"
             ],
             [
              0.1111111111111111,
              "#46039f"
             ],
             [
              0.2222222222222222,
              "#7201a8"
             ],
             [
              0.3333333333333333,
              "#9c179e"
             ],
             [
              0.4444444444444444,
              "#bd3786"
             ],
             [
              0.5555555555555556,
              "#d8576b"
             ],
             [
              0.6666666666666666,
              "#ed7953"
             ],
             [
              0.7777777777777778,
              "#fb9f3a"
             ],
             [
              0.8888888888888888,
              "#fdca26"
             ],
             [
              1,
              "#f0f921"
             ]
            ],
            "type": "contour"
           }
          ],
          "contourcarpet": [
           {
            "colorbar": {
             "outlinewidth": 0,
             "ticks": ""
            },
            "type": "contourcarpet"
           }
          ],
          "heatmap": [
           {
            "colorbar": {
             "outlinewidth": 0,
             "ticks": ""
            },
            "colorscale": [
             [
              0,
              "#0d0887"
             ],
             [
              0.1111111111111111,
              "#46039f"
             ],
             [
              0.2222222222222222,
              "#7201a8"
             ],
             [
              0.3333333333333333,
              "#9c179e"
             ],
             [
              0.4444444444444444,
              "#bd3786"
             ],
             [
              0.5555555555555556,
              "#d8576b"
             ],
             [
              0.6666666666666666,
              "#ed7953"
             ],
             [
              0.7777777777777778,
              "#fb9f3a"
             ],
             [
              0.8888888888888888,
              "#fdca26"
             ],
             [
              1,
              "#f0f921"
             ]
            ],
            "type": "heatmap"
           }
          ],
          "histogram": [
           {
            "marker": {
             "pattern": {
              "fillmode": "overlay",
              "size": 10,
              "solidity": 0.2
             }
            },
            "type": "histogram"
           }
          ],
          "histogram2d": [
           {
            "colorbar": {
             "outlinewidth": 0,
             "ticks": ""
            },
            "colorscale": [
             [
              0,
              "#0d0887"
             ],
             [
              0.1111111111111111,
              "#46039f"
             ],
             [
              0.2222222222222222,
              "#7201a8"
             ],
             [
              0.3333333333333333,
              "#9c179e"
             ],
             [
              0.4444444444444444,
              "#bd3786"
             ],
             [
              0.5555555555555556,
              "#d8576b"
             ],
             [
              0.6666666666666666,
              "#ed7953"
             ],
             [
              0.7777777777777778,
              "#fb9f3a"
             ],
             [
              0.8888888888888888,
              "#fdca26"
             ],
             [
              1,
              "#f0f921"
             ]
            ],
            "type": "histogram2d"
           }
          ],
          "histogram2dcontour": [
           {
            "colorbar": {
             "outlinewidth": 0,
             "ticks": ""
            },
            "colorscale": [
             [
              0,
              "#0d0887"
             ],
             [
              0.1111111111111111,
              "#46039f"
             ],
             [
              0.2222222222222222,
              "#7201a8"
             ],
             [
              0.3333333333333333,
              "#9c179e"
             ],
             [
              0.4444444444444444,
              "#bd3786"
             ],
             [
              0.5555555555555556,
              "#d8576b"
             ],
             [
              0.6666666666666666,
              "#ed7953"
             ],
             [
              0.7777777777777778,
              "#fb9f3a"
             ],
             [
              0.8888888888888888,
              "#fdca26"
             ],
             [
              1,
              "#f0f921"
             ]
            ],
            "type": "histogram2dcontour"
           }
          ],
          "mesh3d": [
           {
            "colorbar": {
             "outlinewidth": 0,
             "ticks": ""
            },
            "type": "mesh3d"
           }
          ],
          "parcoords": [
           {
            "line": {
             "colorbar": {
              "outlinewidth": 0,
              "ticks": ""
             }
            },
            "type": "parcoords"
           }
          ],
          "pie": [
           {
            "automargin": true,
            "type": "pie"
           }
          ],
          "scatter": [
           {
            "fillpattern": {
             "fillmode": "overlay",
             "size": 10,
             "solidity": 0.2
            },
            "type": "scatter"
           }
          ],
          "scatter3d": [
           {
            "line": {
             "colorbar": {
              "outlinewidth": 0,
              "ticks": ""
             }
            },
            "marker": {
             "colorbar": {
              "outlinewidth": 0,
              "ticks": ""
             }
            },
            "type": "scatter3d"
           }
          ],
          "scattercarpet": [
           {
            "marker": {
             "colorbar": {
              "outlinewidth": 0,
              "ticks": ""
             }
            },
            "type": "scattercarpet"
           }
          ],
          "scattergeo": [
           {
            "marker": {
             "colorbar": {
              "outlinewidth": 0,
              "ticks": ""
             }
            },
            "type": "scattergeo"
           }
          ],
          "scattergl": [
           {
            "marker": {
             "colorbar": {
              "outlinewidth": 0,
              "ticks": ""
             }
            },
            "type": "scattergl"
           }
          ],
          "scattermap": [
           {
            "marker": {
             "colorbar": {
              "outlinewidth": 0,
              "ticks": ""
             }
            },
            "type": "scattermap"
           }
          ],
          "scattermapbox": [
           {
            "marker": {
             "colorbar": {
              "outlinewidth": 0,
              "ticks": ""
             }
            },
            "type": "scattermapbox"
           }
          ],
          "scatterpolar": [
           {
            "marker": {
             "colorbar": {
              "outlinewidth": 0,
              "ticks": ""
             }
            },
            "type": "scatterpolar"
           }
          ],
          "scatterpolargl": [
           {
            "marker": {
             "colorbar": {
              "outlinewidth": 0,
              "ticks": ""
             }
            },
            "type": "scatterpolargl"
           }
          ],
          "scatterternary": [
           {
            "marker": {
             "colorbar": {
              "outlinewidth": 0,
              "ticks": ""
             }
            },
            "type": "scatterternary"
           }
          ],
          "surface": [
           {
            "colorbar": {
             "outlinewidth": 0,
             "ticks": ""
            },
            "colorscale": [
             [
              0,
              "#0d0887"
             ],
             [
              0.1111111111111111,
              "#46039f"
             ],
             [
              0.2222222222222222,
              "#7201a8"
             ],
             [
              0.3333333333333333,
              "#9c179e"
             ],
             [
              0.4444444444444444,
              "#bd3786"
             ],
             [
              0.5555555555555556,
              "#d8576b"
             ],
             [
              0.6666666666666666,
              "#ed7953"
             ],
             [
              0.7777777777777778,
              "#fb9f3a"
             ],
             [
              0.8888888888888888,
              "#fdca26"
             ],
             [
              1,
              "#f0f921"
             ]
            ],
            "type": "surface"
           }
          ],
          "table": [
           {
            "cells": {
             "fill": {
              "color": "#EBF0F8"
             },
             "line": {
              "color": "white"
             }
            },
            "header": {
             "fill": {
              "color": "#C8D4E3"
             },
             "line": {
              "color": "white"
             }
            },
            "type": "table"
           }
          ]
         },
         "layout": {
          "annotationdefaults": {
           "arrowcolor": "#2a3f5f",
           "arrowhead": 0,
           "arrowwidth": 1
          },
          "autotypenumbers": "strict",
          "coloraxis": {
           "colorbar": {
            "outlinewidth": 0,
            "ticks": ""
           }
          },
          "colorscale": {
           "diverging": [
            [
             0,
             "#8e0152"
            ],
            [
             0.1,
             "#c51b7d"
            ],
            [
             0.2,
             "#de77ae"
            ],
            [
             0.3,
             "#f1b6da"
            ],
            [
             0.4,
             "#fde0ef"
            ],
            [
             0.5,
             "#f7f7f7"
            ],
            [
             0.6,
             "#e6f5d0"
            ],
            [
             0.7,
             "#b8e186"
            ],
            [
             0.8,
             "#7fbc41"
            ],
            [
             0.9,
             "#4d9221"
            ],
            [
             1,
             "#276419"
            ]
           ],
           "sequential": [
            [
             0,
             "#0d0887"
            ],
            [
             0.1111111111111111,
             "#46039f"
            ],
            [
             0.2222222222222222,
             "#7201a8"
            ],
            [
             0.3333333333333333,
             "#9c179e"
            ],
            [
             0.4444444444444444,
             "#bd3786"
            ],
            [
             0.5555555555555556,
             "#d8576b"
            ],
            [
             0.6666666666666666,
             "#ed7953"
            ],
            [
             0.7777777777777778,
             "#fb9f3a"
            ],
            [
             0.8888888888888888,
             "#fdca26"
            ],
            [
             1,
             "#f0f921"
            ]
           ],
           "sequentialminus": [
            [
             0,
             "#0d0887"
            ],
            [
             0.1111111111111111,
             "#46039f"
            ],
            [
             0.2222222222222222,
             "#7201a8"
            ],
            [
             0.3333333333333333,
             "#9c179e"
            ],
            [
             0.4444444444444444,
             "#bd3786"
            ],
            [
             0.5555555555555556,
             "#d8576b"
            ],
            [
             0.6666666666666666,
             "#ed7953"
            ],
            [
             0.7777777777777778,
             "#fb9f3a"
            ],
            [
             0.8888888888888888,
             "#fdca26"
            ],
            [
             1,
             "#f0f921"
            ]
           ]
          },
          "colorway": [
           "#636efa",
           "#EF553B",
           "#00cc96",
           "#ab63fa",
           "#FFA15A",
           "#19d3f3",
           "#FF6692",
           "#B6E880",
           "#FF97FF",
           "#FECB52"
          ],
          "font": {
           "color": "#2a3f5f"
          },
          "geo": {
           "bgcolor": "white",
           "lakecolor": "white",
           "landcolor": "#E5ECF6",
           "showlakes": true,
           "showland": true,
           "subunitcolor": "white"
          },
          "hoverlabel": {
           "align": "left"
          },
          "hovermode": "closest",
          "mapbox": {
           "style": "light"
          },
          "paper_bgcolor": "white",
          "plot_bgcolor": "#E5ECF6",
          "polar": {
           "angularaxis": {
            "gridcolor": "white",
            "linecolor": "white",
            "ticks": ""
           },
           "bgcolor": "#E5ECF6",
           "radialaxis": {
            "gridcolor": "white",
            "linecolor": "white",
            "ticks": ""
           }
          },
          "scene": {
           "xaxis": {
            "backgroundcolor": "#E5ECF6",
            "gridcolor": "white",
            "gridwidth": 2,
            "linecolor": "white",
            "showbackground": true,
            "ticks": "",
            "zerolinecolor": "white"
           },
           "yaxis": {
            "backgroundcolor": "#E5ECF6",
            "gridcolor": "white",
            "gridwidth": 2,
            "linecolor": "white",
            "showbackground": true,
            "ticks": "",
            "zerolinecolor": "white"
           },
           "zaxis": {
            "backgroundcolor": "#E5ECF6",
            "gridcolor": "white",
            "gridwidth": 2,
            "linecolor": "white",
            "showbackground": true,
            "ticks": "",
            "zerolinecolor": "white"
           }
          },
          "shapedefaults": {
           "line": {
            "color": "#2a3f5f"
           }
          },
          "ternary": {
           "aaxis": {
            "gridcolor": "white",
            "linecolor": "white",
            "ticks": ""
           },
           "baxis": {
            "gridcolor": "white",
            "linecolor": "white",
            "ticks": ""
           },
           "bgcolor": "#E5ECF6",
           "caxis": {
            "gridcolor": "white",
            "linecolor": "white",
            "ticks": ""
           }
          },
          "title": {
           "x": 0.05
          },
          "xaxis": {
           "automargin": true,
           "gridcolor": "white",
           "linecolor": "white",
           "ticks": "",
           "title": {
            "standoff": 15
           },
           "zerolinecolor": "white",
           "zerolinewidth": 2
          },
          "yaxis": {
           "automargin": true,
           "gridcolor": "white",
           "linecolor": "white",
           "ticks": "",
           "title": {
            "standoff": 15
           },
           "zerolinecolor": "white",
           "zerolinewidth": 2
          }
         }
        }
       }
      }
     },
     "metadata": {},
     "output_type": "display_data"
    }
   ],
   "source": [
    "fig = px.scatter_3d()\n",
    "\n",
    "fig.add_trace(go.Surface(x = xx, y= yy, z= zz))\n",
    "\n",
    "fig.show()"
   ]
  },
  {
   "cell_type": "code",
   "execution_count": 15,
   "metadata": {},
   "outputs": [
    {
     "name": "stdout",
     "output_type": "stream",
     "text": [
      "[[-19.45597889 -20.41211849 -20.98935825 -20.6569866  -19.7205845\n",
      "  -19.04107573 -19.2431975  -20.14112001 -20.90929743 -20.84147098\n",
      "  -20.         -19.15852902 -19.09070257 -19.85887999 -20.7568025\n",
      "  -20.95892427 -20.2794155  -19.3430134  -19.01064175 -19.58788151]\n",
      " [-17.45597889 -18.41211849 -18.98935825 -18.6569866  -17.7205845\n",
      "  -17.04107573 -17.2431975  -18.14112001 -18.90929743 -18.84147098\n",
      "  -18.         -17.15852902 -17.09070257 -17.85887999 -18.7568025\n",
      "  -18.95892427 -18.2794155  -17.3430134  -17.01064175 -17.58788151]\n",
      " [-15.45597889 -16.41211849 -16.98935825 -16.6569866  -15.7205845\n",
      "  -15.04107573 -15.2431975  -16.14112001 -16.90929743 -16.84147098\n",
      "  -16.         -15.15852902 -15.09070257 -15.85887999 -16.7568025\n",
      "  -16.95892427 -16.2794155  -15.3430134  -15.01064175 -15.58788151]\n",
      " [-13.45597889 -14.41211849 -14.98935825 -14.6569866  -13.7205845\n",
      "  -13.04107573 -13.2431975  -14.14112001 -14.90929743 -14.84147098\n",
      "  -14.         -13.15852902 -13.09070257 -13.85887999 -14.7568025\n",
      "  -14.95892427 -14.2794155  -13.3430134  -13.01064175 -13.58788151]\n",
      " [-11.45597889 -12.41211849 -12.98935825 -12.6569866  -11.7205845\n",
      "  -11.04107573 -11.2431975  -12.14112001 -12.90929743 -12.84147098\n",
      "  -12.         -11.15852902 -11.09070257 -11.85887999 -12.7568025\n",
      "  -12.95892427 -12.2794155  -11.3430134  -11.01064175 -11.58788151]\n",
      " [ -9.45597889 -10.41211849 -10.98935825 -10.6569866   -9.7205845\n",
      "   -9.04107573  -9.2431975  -10.14112001 -10.90929743 -10.84147098\n",
      "  -10.          -9.15852902  -9.09070257  -9.85887999 -10.7568025\n",
      "  -10.95892427 -10.2794155   -9.3430134   -9.01064175  -9.58788151]\n",
      " [ -7.45597889  -8.41211849  -8.98935825  -8.6569866   -7.7205845\n",
      "   -7.04107573  -7.2431975   -8.14112001  -8.90929743  -8.84147098\n",
      "   -8.          -7.15852902  -7.09070257  -7.85887999  -8.7568025\n",
      "   -8.95892427  -8.2794155   -7.3430134   -7.01064175  -7.58788151]\n",
      " [ -5.45597889  -6.41211849  -6.98935825  -6.6569866   -5.7205845\n",
      "   -5.04107573  -5.2431975   -6.14112001  -6.90929743  -6.84147098\n",
      "   -6.          -5.15852902  -5.09070257  -5.85887999  -6.7568025\n",
      "   -6.95892427  -6.2794155   -5.3430134   -5.01064175  -5.58788151]\n",
      " [ -3.45597889  -4.41211849  -4.98935825  -4.6569866   -3.7205845\n",
      "   -3.04107573  -3.2431975   -4.14112001  -4.90929743  -4.84147098\n",
      "   -4.          -3.15852902  -3.09070257  -3.85887999  -4.7568025\n",
      "   -4.95892427  -4.2794155   -3.3430134   -3.01064175  -3.58788151]\n",
      " [ -1.45597889  -2.41211849  -2.98935825  -2.6569866   -1.7205845\n",
      "   -1.04107573  -1.2431975   -2.14112001  -2.90929743  -2.84147098\n",
      "   -2.          -1.15852902  -1.09070257  -1.85887999  -2.7568025\n",
      "   -2.95892427  -2.2794155   -1.3430134   -1.01064175  -1.58788151]\n",
      " [  0.54402111  -0.41211849  -0.98935825  -0.6569866    0.2794155\n",
      "    0.95892427   0.7568025   -0.14112001  -0.90929743  -0.84147098\n",
      "    0.           0.84147098   0.90929743   0.14112001  -0.7568025\n",
      "   -0.95892427  -0.2794155    0.6569866    0.98935825   0.41211849]\n",
      " [  2.54402111   1.58788151   1.01064175   1.3430134    2.2794155\n",
      "    2.95892427   2.7568025    1.85887999   1.09070257   1.15852902\n",
      "    2.           2.84147098   2.90929743   2.14112001   1.2431975\n",
      "    1.04107573   1.7205845    2.6569866    2.98935825   2.41211849]\n",
      " [  4.54402111   3.58788151   3.01064175   3.3430134    4.2794155\n",
      "    4.95892427   4.7568025    3.85887999   3.09070257   3.15852902\n",
      "    4.           4.84147098   4.90929743   4.14112001   3.2431975\n",
      "    3.04107573   3.7205845    4.6569866    4.98935825   4.41211849]\n",
      " [  6.54402111   5.58788151   5.01064175   5.3430134    6.2794155\n",
      "    6.95892427   6.7568025    5.85887999   5.09070257   5.15852902\n",
      "    6.           6.84147098   6.90929743   6.14112001   5.2431975\n",
      "    5.04107573   5.7205845    6.6569866    6.98935825   6.41211849]\n",
      " [  8.54402111   7.58788151   7.01064175   7.3430134    8.2794155\n",
      "    8.95892427   8.7568025    7.85887999   7.09070257   7.15852902\n",
      "    8.           8.84147098   8.90929743   8.14112001   7.2431975\n",
      "    7.04107573   7.7205845    8.6569866    8.98935825   8.41211849]\n",
      " [ 10.54402111   9.58788151   9.01064175   9.3430134   10.2794155\n",
      "   10.95892427  10.7568025    9.85887999   9.09070257   9.15852902\n",
      "   10.          10.84147098  10.90929743  10.14112001   9.2431975\n",
      "    9.04107573   9.7205845   10.6569866   10.98935825  10.41211849]\n",
      " [ 12.54402111  11.58788151  11.01064175  11.3430134   12.2794155\n",
      "   12.95892427  12.7568025   11.85887999  11.09070257  11.15852902\n",
      "   12.          12.84147098  12.90929743  12.14112001  11.2431975\n",
      "   11.04107573  11.7205845   12.6569866   12.98935825  12.41211849]\n",
      " [ 14.54402111  13.58788151  13.01064175  13.3430134   14.2794155\n",
      "   14.95892427  14.7568025   13.85887999  13.09070257  13.15852902\n",
      "   14.          14.84147098  14.90929743  14.14112001  13.2431975\n",
      "   13.04107573  13.7205845   14.6569866   14.98935825  14.41211849]\n",
      " [ 16.54402111  15.58788151  15.01064175  15.3430134   16.2794155\n",
      "   16.95892427  16.7568025   15.85887999  15.09070257  15.15852902\n",
      "   16.          16.84147098  16.90929743  16.14112001  15.2431975\n",
      "   15.04107573  15.7205845   16.6569866   16.98935825  16.41211849]\n",
      " [ 18.54402111  17.58788151  17.01064175  17.3430134   18.2794155\n",
      "   18.95892427  18.7568025   17.85887999  17.09070257  17.15852902\n",
      "   18.          18.84147098  18.90929743  18.14112001  17.2431975\n",
      "   17.04107573  17.7205845   18.6569866   18.98935825  18.41211849]]\n"
     ]
    }
   ],
   "source": [
    "def func(x,y):\n",
    "    return np.sin(x) + 2*y\n",
    "\n",
    "zz = func(xx,yy)\n",
    "print(zz)"
   ]
  },
  {
   "cell_type": "code",
   "execution_count": 16,
   "metadata": {},
   "outputs": [
    {
     "data": {
      "application/vnd.plotly.v1+json": {
       "config": {
        "plotlyServerURL": "https://plot.ly"
       },
       "data": [
        {
         "hovertemplate": "<extra></extra>",
         "legendgroup": "",
         "marker": {
          "color": "#636efa",
          "symbol": "circle"
         },
         "mode": "markers",
         "name": "",
         "scene": "scene",
         "showlegend": false,
         "type": "scatter3d"
        },
        {
         "type": "surface",
         "x": {
          "bdata": "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",
          "dtype": "f8",
          "shape": "20, 20"
         },
         "y": {
          "bdata": "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",
          "dtype": "f8",
          "shape": "20, 20"
         },
         "z": {
          "bdata": "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",
          "dtype": "f8",
          "shape": "20, 20"
         }
        }
       ],
       "layout": {
        "legend": {
         "tracegroupgap": 0
        },
        "margin": {
         "t": 60
        },
        "scene": {
         "domain": {
          "x": [
           0,
           1
          ],
          "y": [
           0,
           1
          ]
         }
        },
        "template": {
         "data": {
          "bar": [
           {
            "error_x": {
             "color": "#2a3f5f"
            },
            "error_y": {
             "color": "#2a3f5f"
            },
            "marker": {
             "line": {
              "color": "#E5ECF6",
              "width": 0.5
             },
             "pattern": {
              "fillmode": "overlay",
              "size": 10,
              "solidity": 0.2
             }
            },
            "type": "bar"
           }
          ],
          "barpolar": [
           {
            "marker": {
             "line": {
              "color": "#E5ECF6",
              "width": 0.5
             },
             "pattern": {
              "fillmode": "overlay",
              "size": 10,
              "solidity": 0.2
             }
            },
            "type": "barpolar"
           }
          ],
          "carpet": [
           {
            "aaxis": {
             "endlinecolor": "#2a3f5f",
             "gridcolor": "white",
             "linecolor": "white",
             "minorgridcolor": "white",
             "startlinecolor": "#2a3f5f"
            },
            "baxis": {
             "endlinecolor": "#2a3f5f",
             "gridcolor": "white",
             "linecolor": "white",
             "minorgridcolor": "white",
             "startlinecolor": "#2a3f5f"
            },
            "type": "carpet"
           }
          ],
          "choropleth": [
           {
            "colorbar": {
             "outlinewidth": 0,
             "ticks": ""
            },
            "type": "choropleth"
           }
          ],
          "contour": [
           {
            "colorbar": {
             "outlinewidth": 0,
             "ticks": ""
            },
            "colorscale": [
             [
              0,
              "#0d0887"
             ],
             [
              0.1111111111111111,
              "#46039f"
             ],
             [
              0.2222222222222222,
              "#7201a8"
             ],
             [
              0.3333333333333333,
              "#9c179e"
             ],
             [
              0.4444444444444444,
              "#bd3786"
             ],
             [
              0.5555555555555556,
              "#d8576b"
             ],
             [
              0.6666666666666666,
              "#ed7953"
             ],
             [
              0.7777777777777778,
              "#fb9f3a"
             ],
             [
              0.8888888888888888,
              "#fdca26"
             ],
             [
              1,
              "#f0f921"
             ]
            ],
            "type": "contour"
           }
          ],
          "contourcarpet": [
           {
            "colorbar": {
             "outlinewidth": 0,
             "ticks": ""
            },
            "type": "contourcarpet"
           }
          ],
          "heatmap": [
           {
            "colorbar": {
             "outlinewidth": 0,
             "ticks": ""
            },
            "colorscale": [
             [
              0,
              "#0d0887"
             ],
             [
              0.1111111111111111,
              "#46039f"
             ],
             [
              0.2222222222222222,
              "#7201a8"
             ],
             [
              0.3333333333333333,
              "#9c179e"
             ],
             [
              0.4444444444444444,
              "#bd3786"
             ],
             [
              0.5555555555555556,
              "#d8576b"
             ],
             [
              0.6666666666666666,
              "#ed7953"
             ],
             [
              0.7777777777777778,
              "#fb9f3a"
             ],
             [
              0.8888888888888888,
              "#fdca26"
             ],
             [
              1,
              "#f0f921"
             ]
            ],
            "type": "heatmap"
           }
          ],
          "histogram": [
           {
            "marker": {
             "pattern": {
              "fillmode": "overlay",
              "size": 10,
              "solidity": 0.2
             }
            },
            "type": "histogram"
           }
          ],
          "histogram2d": [
           {
            "colorbar": {
             "outlinewidth": 0,
             "ticks": ""
            },
            "colorscale": [
             [
              0,
              "#0d0887"
             ],
             [
              0.1111111111111111,
              "#46039f"
             ],
             [
              0.2222222222222222,
              "#7201a8"
             ],
             [
              0.3333333333333333,
              "#9c179e"
             ],
             [
              0.4444444444444444,
              "#bd3786"
             ],
             [
              0.5555555555555556,
              "#d8576b"
             ],
             [
              0.6666666666666666,
              "#ed7953"
             ],
             [
              0.7777777777777778,
              "#fb9f3a"
             ],
             [
              0.8888888888888888,
              "#fdca26"
             ],
             [
              1,
              "#f0f921"
             ]
            ],
            "type": "histogram2d"
           }
          ],
          "histogram2dcontour": [
           {
            "colorbar": {
             "outlinewidth": 0,
             "ticks": ""
            },
            "colorscale": [
             [
              0,
              "#0d0887"
             ],
             [
              0.1111111111111111,
              "#46039f"
             ],
             [
              0.2222222222222222,
              "#7201a8"
             ],
             [
              0.3333333333333333,
              "#9c179e"
             ],
             [
              0.4444444444444444,
              "#bd3786"
             ],
             [
              0.5555555555555556,
              "#d8576b"
             ],
             [
              0.6666666666666666,
              "#ed7953"
             ],
             [
              0.7777777777777778,
              "#fb9f3a"
             ],
             [
              0.8888888888888888,
              "#fdca26"
             ],
             [
              1,
              "#f0f921"
             ]
            ],
            "type": "histogram2dcontour"
           }
          ],
          "mesh3d": [
           {
            "colorbar": {
             "outlinewidth": 0,
             "ticks": ""
            },
            "type": "mesh3d"
           }
          ],
          "parcoords": [
           {
            "line": {
             "colorbar": {
              "outlinewidth": 0,
              "ticks": ""
             }
            },
            "type": "parcoords"
           }
          ],
          "pie": [
           {
            "automargin": true,
            "type": "pie"
           }
          ],
          "scatter": [
           {
            "fillpattern": {
             "fillmode": "overlay",
             "size": 10,
             "solidity": 0.2
            },
            "type": "scatter"
           }
          ],
          "scatter3d": [
           {
            "line": {
             "colorbar": {
              "outlinewidth": 0,
              "ticks": ""
             }
            },
            "marker": {
             "colorbar": {
              "outlinewidth": 0,
              "ticks": ""
             }
            },
            "type": "scatter3d"
           }
          ],
          "scattercarpet": [
           {
            "marker": {
             "colorbar": {
              "outlinewidth": 0,
              "ticks": ""
             }
            },
            "type": "scattercarpet"
           }
          ],
          "scattergeo": [
           {
            "marker": {
             "colorbar": {
              "outlinewidth": 0,
              "ticks": ""
             }
            },
            "type": "scattergeo"
           }
          ],
          "scattergl": [
           {
            "marker": {
             "colorbar": {
              "outlinewidth": 0,
              "ticks": ""
             }
            },
            "type": "scattergl"
           }
          ],
          "scattermap": [
           {
            "marker": {
             "colorbar": {
              "outlinewidth": 0,
              "ticks": ""
             }
            },
            "type": "scattermap"
           }
          ],
          "scattermapbox": [
           {
            "marker": {
             "colorbar": {
              "outlinewidth": 0,
              "ticks": ""
             }
            },
            "type": "scattermapbox"
           }
          ],
          "scatterpolar": [
           {
            "marker": {
             "colorbar": {
              "outlinewidth": 0,
              "ticks": ""
             }
            },
            "type": "scatterpolar"
           }
          ],
          "scatterpolargl": [
           {
            "marker": {
             "colorbar": {
              "outlinewidth": 0,
              "ticks": ""
             }
            },
            "type": "scatterpolargl"
           }
          ],
          "scatterternary": [
           {
            "marker": {
             "colorbar": {
              "outlinewidth": 0,
              "ticks": ""
             }
            },
            "type": "scatterternary"
           }
          ],
          "surface": [
           {
            "colorbar": {
             "outlinewidth": 0,
             "ticks": ""
            },
            "colorscale": [
             [
              0,
              "#0d0887"
             ],
             [
              0.1111111111111111,
              "#46039f"
             ],
             [
              0.2222222222222222,
              "#7201a8"
             ],
             [
              0.3333333333333333,
              "#9c179e"
             ],
             [
              0.4444444444444444,
              "#bd3786"
             ],
             [
              0.5555555555555556,
              "#d8576b"
             ],
             [
              0.6666666666666666,
              "#ed7953"
             ],
             [
              0.7777777777777778,
              "#fb9f3a"
             ],
             [
              0.8888888888888888,
              "#fdca26"
             ],
             [
              1,
              "#f0f921"
             ]
            ],
            "type": "surface"
           }
          ],
          "table": [
           {
            "cells": {
             "fill": {
              "color": "#EBF0F8"
             },
             "line": {
              "color": "white"
             }
            },
            "header": {
             "fill": {
              "color": "#C8D4E3"
             },
             "line": {
              "color": "white"
             }
            },
            "type": "table"
           }
          ]
         },
         "layout": {
          "annotationdefaults": {
           "arrowcolor": "#2a3f5f",
           "arrowhead": 0,
           "arrowwidth": 1
          },
          "autotypenumbers": "strict",
          "coloraxis": {
           "colorbar": {
            "outlinewidth": 0,
            "ticks": ""
           }
          },
          "colorscale": {
           "diverging": [
            [
             0,
             "#8e0152"
            ],
            [
             0.1,
             "#c51b7d"
            ],
            [
             0.2,
             "#de77ae"
            ],
            [
             0.3,
             "#f1b6da"
            ],
            [
             0.4,
             "#fde0ef"
            ],
            [
             0.5,
             "#f7f7f7"
            ],
            [
             0.6,
             "#e6f5d0"
            ],
            [
             0.7,
             "#b8e186"
            ],
            [
             0.8,
             "#7fbc41"
            ],
            [
             0.9,
             "#4d9221"
            ],
            [
             1,
             "#276419"
            ]
           ],
           "sequential": [
            [
             0,
             "#0d0887"
            ],
            [
             0.1111111111111111,
             "#46039f"
            ],
            [
             0.2222222222222222,
             "#7201a8"
            ],
            [
             0.3333333333333333,
             "#9c179e"
            ],
            [
             0.4444444444444444,
             "#bd3786"
            ],
            [
             0.5555555555555556,
             "#d8576b"
            ],
            [
             0.6666666666666666,
             "#ed7953"
            ],
            [
             0.7777777777777778,
             "#fb9f3a"
            ],
            [
             0.8888888888888888,
             "#fdca26"
            ],
            [
             1,
             "#f0f921"
            ]
           ],
           "sequentialminus": [
            [
             0,
             "#0d0887"
            ],
            [
             0.1111111111111111,
             "#46039f"
            ],
            [
             0.2222222222222222,
             "#7201a8"
            ],
            [
             0.3333333333333333,
             "#9c179e"
            ],
            [
             0.4444444444444444,
             "#bd3786"
            ],
            [
             0.5555555555555556,
             "#d8576b"
            ],
            [
             0.6666666666666666,
             "#ed7953"
            ],
            [
             0.7777777777777778,
             "#fb9f3a"
            ],
            [
             0.8888888888888888,
             "#fdca26"
            ],
            [
             1,
             "#f0f921"
            ]
           ]
          },
          "colorway": [
           "#636efa",
           "#EF553B",
           "#00cc96",
           "#ab63fa",
           "#FFA15A",
           "#19d3f3",
           "#FF6692",
           "#B6E880",
           "#FF97FF",
           "#FECB52"
          ],
          "font": {
           "color": "#2a3f5f"
          },
          "geo": {
           "bgcolor": "white",
           "lakecolor": "white",
           "landcolor": "#E5ECF6",
           "showlakes": true,
           "showland": true,
           "subunitcolor": "white"
          },
          "hoverlabel": {
           "align": "left"
          },
          "hovermode": "closest",
          "mapbox": {
           "style": "light"
          },
          "paper_bgcolor": "white",
          "plot_bgcolor": "#E5ECF6",
          "polar": {
           "angularaxis": {
            "gridcolor": "white",
            "linecolor": "white",
            "ticks": ""
           },
           "bgcolor": "#E5ECF6",
           "radialaxis": {
            "gridcolor": "white",
            "linecolor": "white",
            "ticks": ""
           }
          },
          "scene": {
           "xaxis": {
            "backgroundcolor": "#E5ECF6",
            "gridcolor": "white",
            "gridwidth": 2,
            "linecolor": "white",
            "showbackground": true,
            "ticks": "",
            "zerolinecolor": "white"
           },
           "yaxis": {
            "backgroundcolor": "#E5ECF6",
            "gridcolor": "white",
            "gridwidth": 2,
            "linecolor": "white",
            "showbackground": true,
            "ticks": "",
            "zerolinecolor": "white"
           },
           "zaxis": {
            "backgroundcolor": "#E5ECF6",
            "gridcolor": "white",
            "gridwidth": 2,
            "linecolor": "white",
            "showbackground": true,
            "ticks": "",
            "zerolinecolor": "white"
           }
          },
          "shapedefaults": {
           "line": {
            "color": "#2a3f5f"
           }
          },
          "ternary": {
           "aaxis": {
            "gridcolor": "white",
            "linecolor": "white",
            "ticks": ""
           },
           "baxis": {
            "gridcolor": "white",
            "linecolor": "white",
            "ticks": ""
           },
           "bgcolor": "#E5ECF6",
           "caxis": {
            "gridcolor": "white",
            "linecolor": "white",
            "ticks": ""
           }
          },
          "title": {
           "x": 0.05
          },
          "xaxis": {
           "automargin": true,
           "gridcolor": "white",
           "linecolor": "white",
           "ticks": "",
           "title": {
            "standoff": 15
           },
           "zerolinecolor": "white",
           "zerolinewidth": 2
          },
          "yaxis": {
           "automargin": true,
           "gridcolor": "white",
           "linecolor": "white",
           "ticks": "",
           "title": {
            "standoff": 15
           },
           "zerolinecolor": "white",
           "zerolinewidth": 2
          }
         }
        }
       }
      }
     },
     "metadata": {},
     "output_type": "display_data"
    }
   ],
   "source": [
    "fig = px.scatter_3d()\n",
    "\n",
    "fig.add_trace(go.Surface(x = xx, y= yy, z= zz))\n",
    "\n",
    "fig.show()"
   ]
  },
  {
   "cell_type": "code",
   "execution_count": 17,
   "metadata": {},
   "outputs": [
    {
     "name": "stdout",
     "output_type": "stream",
     "text": [
      "[[        nan         nan         nan         nan         nan         nan\n",
      "          nan         nan         nan         nan        -inf  0.54402111\n",
      "   1.23716829  1.6426334   1.93031547  2.15345902  2.33578058  2.48993126\n",
      "   2.62346265  2.74124569]\n",
      " [        nan         nan         nan         nan         nan         nan\n",
      "          nan         nan         nan         nan        -inf -0.41211849\n",
      "   0.2810287   0.6864938   0.97417588  1.19731943  1.37964098  1.53379166\n",
      "   1.66732306  1.78510609]\n",
      " [        nan         nan         nan         nan         nan         nan\n",
      "          nan         nan         nan         nan        -inf -0.98935825\n",
      "  -0.29621107  0.10925404  0.39693611  0.62007967  0.80240122  0.9565519\n",
      "   1.0900833   1.20786633]\n",
      " [        nan         nan         nan         nan         nan         nan\n",
      "          nan         nan         nan         nan        -inf -0.6569866\n",
      "   0.03616058  0.44162569  0.72930776  0.95245131  1.13477287  1.28892355\n",
      "   1.42245494  1.54023798]\n",
      " [        nan         nan         nan         nan         nan         nan\n",
      "          nan         nan         nan         nan        -inf  0.2794155\n",
      "   0.97256268  1.37802779  1.66570986  1.88885341  2.07117497  2.22532565\n",
      "   2.35885704  2.47664008]\n",
      " [        nan         nan         nan         nan         nan         nan\n",
      "          nan         nan         nan         nan        -inf  0.95892427\n",
      "   1.65207146  2.05753656  2.34521864  2.56836219  2.75068374  2.90483442\n",
      "   3.03836582  3.15614885]\n",
      " [        nan         nan         nan         nan         nan         nan\n",
      "          nan         nan         nan         nan        -inf  0.7568025\n",
      "   1.44994968  1.85541478  2.14309686  2.36624041  2.54856196  2.70271264\n",
      "   2.83624404  2.95402707]\n",
      " [        nan         nan         nan         nan         nan         nan\n",
      "          nan         nan         nan         nan        -inf -0.14112001\n",
      "   0.55202717  0.95749228  1.24517435  1.4683179   1.65063946  1.80479014\n",
      "   1.93832153  2.05610457]\n",
      " [        nan         nan         nan         nan         nan         nan\n",
      "          nan         nan         nan         nan        -inf -0.90929743\n",
      "  -0.21615025  0.18931486  0.47699693  0.70014049  0.88246204  1.03661272\n",
      "   1.17014411  1.28792715]\n",
      " [        nan         nan         nan         nan         nan         nan\n",
      "          nan         nan         nan         nan        -inf -0.84147098\n",
      "  -0.1483238   0.2571413   0.54482338  0.76796693  0.95028848  1.10443916\n",
      "   1.23797056  1.35575359]\n",
      " [        nan         nan         nan         nan         nan         nan\n",
      "          nan         nan         nan         nan        -inf  0.\n",
      "   0.69314718  1.09861229  1.38629436  1.60943791  1.79175947  1.94591015\n",
      "   2.07944154  2.19722458]\n",
      " [        nan         nan         nan         nan         nan         nan\n",
      "          nan         nan         nan         nan        -inf  0.84147098\n",
      "   1.53461817  1.94008327  2.22776535  2.4509089   2.63323045  2.78738113\n",
      "   2.92091253  3.03869556]\n",
      " [        nan         nan         nan         nan         nan         nan\n",
      "          nan         nan         nan         nan        -inf  0.90929743\n",
      "   1.60244461  2.00790972  2.29559179  2.51873534  2.7010569   2.85520758\n",
      "   2.98873897  3.106522  ]\n",
      " [        nan         nan         nan         nan         nan         nan\n",
      "          nan         nan         nan         nan        -inf  0.14112001\n",
      "   0.83426719  1.2397323   1.52741437  1.75055792  1.93287948  2.08703016\n",
      "   2.22056155  2.33834459]\n",
      " [        nan         nan         nan         nan         nan         nan\n",
      "          nan         nan         nan         nan        -inf -0.7568025\n",
      "  -0.06365531  0.34180979  0.62949187  0.85263542  1.03495697  1.18910765\n",
      "   1.32263905  1.44042208]\n",
      " [        nan         nan         nan         nan         nan         nan\n",
      "          nan         nan         nan         nan        -inf -0.95892427\n",
      "  -0.26577709  0.13968801  0.42737009  0.65051364  0.83283519  0.98698587\n",
      "   1.12051727  1.2383003 ]\n",
      " [        nan         nan         nan         nan         nan         nan\n",
      "          nan         nan         nan         nan        -inf -0.2794155\n",
      "   0.41373168  0.81919679  1.10687886  1.33002241  1.51234397  1.66649465\n",
      "   1.80002604  1.91780908]\n",
      " [        nan         nan         nan         nan         nan         nan\n",
      "          nan         nan         nan         nan        -inf  0.6569866\n",
      "   1.35013378  1.75559889  2.04328096  2.26642451  2.44874607  2.60289675\n",
      "   2.73642814  2.85421118]\n",
      " [        nan         nan         nan         nan         nan         nan\n",
      "          nan         nan         nan         nan        -inf  0.98935825\n",
      "   1.68250543  2.08797054  2.37565261  2.59879616  2.78111772  2.9352684\n",
      "   3.06879979  3.18658282]\n",
      " [        nan         nan         nan         nan         nan         nan\n",
      "          nan         nan         nan         nan        -inf  0.41211849\n",
      "   1.10526567  1.51073077  1.79841285  2.0215564   2.20387795  2.35802863\n",
      "   2.49156003  2.60934306]]\n"
     ]
    },
    {
     "name": "stderr",
     "output_type": "stream",
     "text": [
      "C:\\Users\\Lappy\\AppData\\Local\\Temp\\ipykernel_5588\\1543828590.py:2: RuntimeWarning:\n",
      "\n",
      "divide by zero encountered in log\n",
      "\n",
      "C:\\Users\\Lappy\\AppData\\Local\\Temp\\ipykernel_5588\\1543828590.py:2: RuntimeWarning:\n",
      "\n",
      "invalid value encountered in log\n",
      "\n"
     ]
    }
   ],
   "source": [
    "def func(x,y):\n",
    "    return np.log(x) + np.sin(y)\n",
    "\n",
    "zz = func(xx,yy)\n",
    "print(zz)"
   ]
  },
  {
   "cell_type": "code",
   "execution_count": 18,
   "metadata": {},
   "outputs": [
    {
     "data": {
      "application/vnd.plotly.v1+json": {
       "config": {
        "plotlyServerURL": "https://plot.ly"
       },
       "data": [
        {
         "hovertemplate": "<extra></extra>",
         "legendgroup": "",
         "marker": {
          "color": "#636efa",
          "symbol": "circle"
         },
         "mode": "markers",
         "name": "",
         "scene": "scene",
         "showlegend": false,
         "type": "scatter3d"
        },
        {
         "type": "surface",
         "x": {
          "bdata": "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",
          "dtype": "f8",
          "shape": "20, 20"
         },
         "y": {
          "bdata": "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",
          "dtype": "f8",
          "shape": "20, 20"
         },
         "z": {
          "bdata": "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",
          "dtype": "f8",
          "shape": "20, 20"
         }
        }
       ],
       "layout": {
        "legend": {
         "tracegroupgap": 0
        },
        "margin": {
         "t": 60
        },
        "scene": {
         "domain": {
          "x": [
           0,
           1
          ],
          "y": [
           0,
           1
          ]
         }
        },
        "template": {
         "data": {
          "bar": [
           {
            "error_x": {
             "color": "#2a3f5f"
            },
            "error_y": {
             "color": "#2a3f5f"
            },
            "marker": {
             "line": {
              "color": "#E5ECF6",
              "width": 0.5
             },
             "pattern": {
              "fillmode": "overlay",
              "size": 10,
              "solidity": 0.2
             }
            },
            "type": "bar"
           }
          ],
          "barpolar": [
           {
            "marker": {
             "line": {
              "color": "#E5ECF6",
              "width": 0.5
             },
             "pattern": {
              "fillmode": "overlay",
              "size": 10,
              "solidity": 0.2
             }
            },
            "type": "barpolar"
           }
          ],
          "carpet": [
           {
            "aaxis": {
             "endlinecolor": "#2a3f5f",
             "gridcolor": "white",
             "linecolor": "white",
             "minorgridcolor": "white",
             "startlinecolor": "#2a3f5f"
            },
            "baxis": {
             "endlinecolor": "#2a3f5f",
             "gridcolor": "white",
             "linecolor": "white",
             "minorgridcolor": "white",
             "startlinecolor": "#2a3f5f"
            },
            "type": "carpet"
           }
          ],
          "choropleth": [
           {
            "colorbar": {
             "outlinewidth": 0,
             "ticks": ""
            },
            "type": "choropleth"
           }
          ],
          "contour": [
           {
            "colorbar": {
             "outlinewidth": 0,
             "ticks": ""
            },
            "colorscale": [
             [
              0,
              "#0d0887"
             ],
             [
              0.1111111111111111,
              "#46039f"
             ],
             [
              0.2222222222222222,
              "#7201a8"
             ],
             [
              0.3333333333333333,
              "#9c179e"
             ],
             [
              0.4444444444444444,
              "#bd3786"
             ],
             [
              0.5555555555555556,
              "#d8576b"
             ],
             [
              0.6666666666666666,
              "#ed7953"
             ],
             [
              0.7777777777777778,
              "#fb9f3a"
             ],
             [
              0.8888888888888888,
              "#fdca26"
             ],
             [
              1,
              "#f0f921"
             ]
            ],
            "type": "contour"
           }
          ],
          "contourcarpet": [
           {
            "colorbar": {
             "outlinewidth": 0,
             "ticks": ""
            },
            "type": "contourcarpet"
           }
          ],
          "heatmap": [
           {
            "colorbar": {
             "outlinewidth": 0,
             "ticks": ""
            },
            "colorscale": [
             [
              0,
              "#0d0887"
             ],
             [
              0.1111111111111111,
              "#46039f"
             ],
             [
              0.2222222222222222,
              "#7201a8"
             ],
             [
              0.3333333333333333,
              "#9c179e"
             ],
             [
              0.4444444444444444,
              "#bd3786"
             ],
             [
              0.5555555555555556,
              "#d8576b"
             ],
             [
              0.6666666666666666,
              "#ed7953"
             ],
             [
              0.7777777777777778,
              "#fb9f3a"
             ],
             [
              0.8888888888888888,
              "#fdca26"
             ],
             [
              1,
              "#f0f921"
             ]
            ],
            "type": "heatmap"
           }
          ],
          "histogram": [
           {
            "marker": {
             "pattern": {
              "fillmode": "overlay",
              "size": 10,
              "solidity": 0.2
             }
            },
            "type": "histogram"
           }
          ],
          "histogram2d": [
           {
            "colorbar": {
             "outlinewidth": 0,
             "ticks": ""
            },
            "colorscale": [
             [
              0,
              "#0d0887"
             ],
             [
              0.1111111111111111,
              "#46039f"
             ],
             [
              0.2222222222222222,
              "#7201a8"
             ],
             [
              0.3333333333333333,
              "#9c179e"
             ],
             [
              0.4444444444444444,
              "#bd3786"
             ],
             [
              0.5555555555555556,
              "#d8576b"
             ],
             [
              0.6666666666666666,
              "#ed7953"
             ],
             [
              0.7777777777777778,
              "#fb9f3a"
             ],
             [
              0.8888888888888888,
              "#fdca26"
             ],
             [
              1,
              "#f0f921"
             ]
            ],
            "type": "histogram2d"
           }
          ],
          "histogram2dcontour": [
           {
            "colorbar": {
             "outlinewidth": 0,
             "ticks": ""
            },
            "colorscale": [
             [
              0,
              "#0d0887"
             ],
             [
              0.1111111111111111,
              "#46039f"
             ],
             [
              0.2222222222222222,
              "#7201a8"
             ],
             [
              0.3333333333333333,
              "#9c179e"
             ],
             [
              0.4444444444444444,
              "#bd3786"
             ],
             [
              0.5555555555555556,
              "#d8576b"
             ],
             [
              0.6666666666666666,
              "#ed7953"
             ],
             [
              0.7777777777777778,
              "#fb9f3a"
             ],
             [
              0.8888888888888888,
              "#fdca26"
             ],
             [
              1,
              "#f0f921"
             ]
            ],
            "type": "histogram2dcontour"
           }
          ],
          "mesh3d": [
           {
            "colorbar": {
             "outlinewidth": 0,
             "ticks": ""
            },
            "type": "mesh3d"
           }
          ],
          "parcoords": [
           {
            "line": {
             "colorbar": {
              "outlinewidth": 0,
              "ticks": ""
             }
            },
            "type": "parcoords"
           }
          ],
          "pie": [
           {
            "automargin": true,
            "type": "pie"
           }
          ],
          "scatter": [
           {
            "fillpattern": {
             "fillmode": "overlay",
             "size": 10,
             "solidity": 0.2
            },
            "type": "scatter"
           }
          ],
          "scatter3d": [
           {
            "line": {
             "colorbar": {
              "outlinewidth": 0,
              "ticks": ""
             }
            },
            "marker": {
             "colorbar": {
              "outlinewidth": 0,
              "ticks": ""
             }
            },
            "type": "scatter3d"
           }
          ],
          "scattercarpet": [
           {
            "marker": {
             "colorbar": {
              "outlinewidth": 0,
              "ticks": ""
             }
            },
            "type": "scattercarpet"
           }
          ],
          "scattergeo": [
           {
            "marker": {
             "colorbar": {
              "outlinewidth": 0,
              "ticks": ""
             }
            },
            "type": "scattergeo"
           }
          ],
          "scattergl": [
           {
            "marker": {
             "colorbar": {
              "outlinewidth": 0,
              "ticks": ""
             }
            },
            "type": "scattergl"
           }
          ],
          "scattermap": [
           {
            "marker": {
             "colorbar": {
              "outlinewidth": 0,
              "ticks": ""
             }
            },
            "type": "scattermap"
           }
          ],
          "scattermapbox": [
           {
            "marker": {
             "colorbar": {
              "outlinewidth": 0,
              "ticks": ""
             }
            },
            "type": "scattermapbox"
           }
          ],
          "scatterpolar": [
           {
            "marker": {
             "colorbar": {
              "outlinewidth": 0,
              "ticks": ""
             }
            },
            "type": "scatterpolar"
           }
          ],
          "scatterpolargl": [
           {
            "marker": {
             "colorbar": {
              "outlinewidth": 0,
              "ticks": ""
             }
            },
            "type": "scatterpolargl"
           }
          ],
          "scatterternary": [
           {
            "marker": {
             "colorbar": {
              "outlinewidth": 0,
              "ticks": ""
             }
            },
            "type": "scatterternary"
           }
          ],
          "surface": [
           {
            "colorbar": {
             "outlinewidth": 0,
             "ticks": ""
            },
            "colorscale": [
             [
              0,
              "#0d0887"
             ],
             [
              0.1111111111111111,
              "#46039f"
             ],
             [
              0.2222222222222222,
              "#7201a8"
             ],
             [
              0.3333333333333333,
              "#9c179e"
             ],
             [
              0.4444444444444444,
              "#bd3786"
             ],
             [
              0.5555555555555556,
              "#d8576b"
             ],
             [
              0.6666666666666666,
              "#ed7953"
             ],
             [
              0.7777777777777778,
              "#fb9f3a"
             ],
             [
              0.8888888888888888,
              "#fdca26"
             ],
             [
              1,
              "#f0f921"
             ]
            ],
            "type": "surface"
           }
          ],
          "table": [
           {
            "cells": {
             "fill": {
              "color": "#EBF0F8"
             },
             "line": {
              "color": "white"
             }
            },
            "header": {
             "fill": {
              "color": "#C8D4E3"
             },
             "line": {
              "color": "white"
             }
            },
            "type": "table"
           }
          ]
         },
         "layout": {
          "annotationdefaults": {
           "arrowcolor": "#2a3f5f",
           "arrowhead": 0,
           "arrowwidth": 1
          },
          "autotypenumbers": "strict",
          "coloraxis": {
           "colorbar": {
            "outlinewidth": 0,
            "ticks": ""
           }
          },
          "colorscale": {
           "diverging": [
            [
             0,
             "#8e0152"
            ],
            [
             0.1,
             "#c51b7d"
            ],
            [
             0.2,
             "#de77ae"
            ],
            [
             0.3,
             "#f1b6da"
            ],
            [
             0.4,
             "#fde0ef"
            ],
            [
             0.5,
             "#f7f7f7"
            ],
            [
             0.6,
             "#e6f5d0"
            ],
            [
             0.7,
             "#b8e186"
            ],
            [
             0.8,
             "#7fbc41"
            ],
            [
             0.9,
             "#4d9221"
            ],
            [
             1,
             "#276419"
            ]
           ],
           "sequential": [
            [
             0,
             "#0d0887"
            ],
            [
             0.1111111111111111,
             "#46039f"
            ],
            [
             0.2222222222222222,
             "#7201a8"
            ],
            [
             0.3333333333333333,
             "#9c179e"
            ],
            [
             0.4444444444444444,
             "#bd3786"
            ],
            [
             0.5555555555555556,
             "#d8576b"
            ],
            [
             0.6666666666666666,
             "#ed7953"
            ],
            [
             0.7777777777777778,
             "#fb9f3a"
            ],
            [
             0.8888888888888888,
             "#fdca26"
            ],
            [
             1,
             "#f0f921"
            ]
           ],
           "sequentialminus": [
            [
             0,
             "#0d0887"
            ],
            [
             0.1111111111111111,
             "#46039f"
            ],
            [
             0.2222222222222222,
             "#7201a8"
            ],
            [
             0.3333333333333333,
             "#9c179e"
            ],
            [
             0.4444444444444444,
             "#bd3786"
            ],
            [
             0.5555555555555556,
             "#d8576b"
            ],
            [
             0.6666666666666666,
             "#ed7953"
            ],
            [
             0.7777777777777778,
             "#fb9f3a"
            ],
            [
             0.8888888888888888,
             "#fdca26"
            ],
            [
             1,
             "#f0f921"
            ]
           ]
          },
          "colorway": [
           "#636efa",
           "#EF553B",
           "#00cc96",
           "#ab63fa",
           "#FFA15A",
           "#19d3f3",
           "#FF6692",
           "#B6E880",
           "#FF97FF",
           "#FECB52"
          ],
          "font": {
           "color": "#2a3f5f"
          },
          "geo": {
           "bgcolor": "white",
           "lakecolor": "white",
           "landcolor": "#E5ECF6",
           "showlakes": true,
           "showland": true,
           "subunitcolor": "white"
          },
          "hoverlabel": {
           "align": "left"
          },
          "hovermode": "closest",
          "mapbox": {
           "style": "light"
          },
          "paper_bgcolor": "white",
          "plot_bgcolor": "#E5ECF6",
          "polar": {
           "angularaxis": {
            "gridcolor": "white",
            "linecolor": "white",
            "ticks": ""
           },
           "bgcolor": "#E5ECF6",
           "radialaxis": {
            "gridcolor": "white",
            "linecolor": "white",
            "ticks": ""
           }
          },
          "scene": {
           "xaxis": {
            "backgroundcolor": "#E5ECF6",
            "gridcolor": "white",
            "gridwidth": 2,
            "linecolor": "white",
            "showbackground": true,
            "ticks": "",
            "zerolinecolor": "white"
           },
           "yaxis": {
            "backgroundcolor": "#E5ECF6",
            "gridcolor": "white",
            "gridwidth": 2,
            "linecolor": "white",
            "showbackground": true,
            "ticks": "",
            "zerolinecolor": "white"
           },
           "zaxis": {
            "backgroundcolor": "#E5ECF6",
            "gridcolor": "white",
            "gridwidth": 2,
            "linecolor": "white",
            "showbackground": true,
            "ticks": "",
            "zerolinecolor": "white"
           }
          },
          "shapedefaults": {
           "line": {
            "color": "#2a3f5f"
           }
          },
          "ternary": {
           "aaxis": {
            "gridcolor": "white",
            "linecolor": "white",
            "ticks": ""
           },
           "baxis": {
            "gridcolor": "white",
            "linecolor": "white",
            "ticks": ""
           },
           "bgcolor": "#E5ECF6",
           "caxis": {
            "gridcolor": "white",
            "linecolor": "white",
            "ticks": ""
           }
          },
          "title": {
           "x": 0.05
          },
          "xaxis": {
           "automargin": true,
           "gridcolor": "white",
           "linecolor": "white",
           "ticks": "",
           "title": {
            "standoff": 15
           },
           "zerolinecolor": "white",
           "zerolinewidth": 2
          },
          "yaxis": {
           "automargin": true,
           "gridcolor": "white",
           "linecolor": "white",
           "ticks": "",
           "title": {
            "standoff": 15
           },
           "zerolinecolor": "white",
           "zerolinewidth": 2
          }
         }
        }
       }
      }
     },
     "metadata": {},
     "output_type": "display_data"
    }
   ],
   "source": [
    "fig = px.scatter_3d()\n",
    "\n",
    "fig.add_trace(go.Surface(x = xx, y= yy, z= zz))\n",
    "\n",
    "fig.show()"
   ]
  },
  {
   "cell_type": "code",
   "execution_count": null,
   "metadata": {},
   "outputs": [],
   "source": []
  },
  {
   "cell_type": "markdown",
   "metadata": {},
   "source": [
    "##### working with random\n",
    "a) randint  \n",
    "b) seed  \n",
    "c) shuffle  \n",
    "d) choice "
   ]
  },
  {
   "cell_type": "code",
   "execution_count": 19,
   "metadata": {},
   "outputs": [
    {
     "data": {
      "text/plain": [
       "array([[[0.07689351, 0.0173425 ],\n",
       "        [0.23406078, 0.17501072],\n",
       "        [0.81182982, 0.03113256]],\n",
       "\n",
       "       [[0.8009193 , 0.93458734],\n",
       "        [0.24983666, 0.94108856],\n",
       "        [0.3941189 , 0.91087303]]])"
      ]
     },
     "execution_count": 19,
     "metadata": {},
     "output_type": "execute_result"
    }
   ],
   "source": [
    "np.random.random((2,3,2))"
   ]
  },
  {
   "cell_type": "code",
   "execution_count": 38,
   "metadata": {},
   "outputs": [
    {
     "data": {
      "text/plain": [
       "array([[45, 48, 65],\n",
       "       [68, 68, 10],\n",
       "       [84, 22, 37],\n",
       "       [88, 71, 89]], dtype=int32)"
      ]
     },
     "execution_count": 38,
     "metadata": {},
     "output_type": "execute_result"
    }
   ],
   "source": [
    "np.random.seed(0) # seed se randomness constant kar skte hai\n",
    "np.random.randint(1,100,12).reshape(4,3) # randint se integer numbers generate hote hai "
   ]
  },
  {
   "cell_type": "code",
   "execution_count": null,
   "metadata": {},
   "outputs": [
    {
     "data": {
      "text/plain": [
       "array([[45, 48, 65],\n",
       "       [68, 68, 10],\n",
       "       [84, 22, 37],\n",
       "       [88, 71, 89]], dtype=int32)"
      ]
     },
     "execution_count": 45,
     "metadata": {},
     "output_type": "execute_result"
    }
   ],
   "source": [
    "np.random.seed(0) # reproducibility ke kaam aata hai seed\n",
    "np.random.randint(1,100,12).reshape(4,3)"
   ]
  },
  {
   "cell_type": "code",
   "execution_count": null,
   "metadata": {},
   "outputs": [
    {
     "data": {
      "text/plain": [
       "array([100,  33,  67,  89,  41,  12])"
      ]
     },
     "execution_count": 47,
     "metadata": {},
     "output_type": "execute_result"
    }
   ],
   "source": [
    "a = np.array([12,41,33,67,89,100]) # shuffle kar skte hia (order change kar skte hai)\n",
    "np.random.shuffle(a)\n",
    "a"
   ]
  },
  {
   "cell_type": "code",
   "execution_count": null,
   "metadata": {},
   "outputs": [
    {
     "data": {
      "text/plain": [
       "array([ 33,  67, 100])"
      ]
     },
     "execution_count": 64,
     "metadata": {},
     "output_type": "execute_result"
    }
   ],
   "source": [
    "np.random.choice(a,3) # Given array me se diye huve numbers ko choice kar skte hai"
   ]
  },
  {
   "cell_type": "code",
   "execution_count": 65,
   "metadata": {},
   "outputs": [
    {
     "data": {
      "text/plain": [
       "array([ 41, 100,  41])"
      ]
     },
     "execution_count": 65,
     "metadata": {},
     "output_type": "execute_result"
    }
   ],
   "source": [
    "np.random.choice(a,3, replace=True)"
   ]
  },
  {
   "cell_type": "markdown",
   "metadata": {},
   "source": [
    "#### working with images => images are basically numpy arrays\n",
    "\n",
    "**image you have a image of 800*800 then you have total 6,40,000 pixels in your image and these pixels have a value between `0-255`**\n",
    "\n",
    "**aur joo colour photograph hota hia uska shape aisa hota hai 800\\*800\\*3, 3=> RGB, isme total pixels 6,40,000*3 pixels honge**"
   ]
  },
  {
   "cell_type": "markdown",
   "metadata": {},
   "source": [
    "***Jb aap image ko load karte ho uske you can change into the numoy array and it will behave like an Numpy array => This field is known as Computer vision.***"
   ]
  },
  {
   "cell_type": "code",
   "execution_count": 9,
   "metadata": {},
   "outputs": [],
   "source": [
    "# for loading the image we are gonna the OpenCV library \n",
    "\n",
    "import cv2"
   ]
  },
  {
   "cell_type": "code",
   "execution_count": 46,
   "metadata": {},
   "outputs": [
    {
     "name": "stdout",
     "output_type": "stream",
     "text": [
      "<class 'numpy.ndarray'>\n",
      "(290, 323, 3)\n",
      "[[[251 249 247]\n",
      "  [251 249 247]\n",
      "  [251 249 247]\n",
      "  ...\n",
      "  [249 247 245]\n",
      "  [249 247 245]\n",
      "  [249 247 245]]\n",
      "\n",
      " [[251 249 247]\n",
      "  [251 249 247]\n",
      "  [251 249 247]\n",
      "  ...\n",
      "  [249 247 245]\n",
      "  [249 247 245]\n",
      "  [249 247 245]]\n",
      "\n",
      " [[251 249 247]\n",
      "  [251 249 247]\n",
      "  [250 249 246]\n",
      "  ...\n",
      "  [249 247 245]\n",
      "  [249 247 245]\n",
      "  [247 245 243]]\n",
      "\n",
      " ...\n",
      "\n",
      " [[187 187 187]\n",
      "  [187 187 187]\n",
      "  [187 187 187]\n",
      "  ...\n",
      "  [187 187 187]\n",
      "  [187 187 187]\n",
      "  [187 187 187]]\n",
      "\n",
      " [[186 186 186]\n",
      "  [186 186 186]\n",
      "  [186 186 186]\n",
      "  ...\n",
      "  [186 186 186]\n",
      "  [186 186 186]\n",
      "  [186 186 186]]\n",
      "\n",
      " [[186 186 186]\n",
      "  [186 186 186]\n",
      "  [186 186 186]\n",
      "  ...\n",
      "  [186 186 186]\n",
      "  [186 186 186]\n",
      "  [186 186 186]]]\n"
     ]
    }
   ],
   "source": [
    "# read the image\n",
    "image_array = cv2.imread('Capture.png')\n",
    "print(type(image_array))\n",
    "print(image_array.shape)\n",
    "print(image_array)\n"
   ]
  },
  {
   "cell_type": "code",
   "execution_count": 29,
   "metadata": {},
   "outputs": [
    {
     "data": {
      "text/plain": [
       "<matplotlib.image.AxesImage at 0x10ff7a10>"
      ]
     },
     "execution_count": 29,
     "metadata": {},
     "output_type": "execute_result"
    },
    {
     "data": {
      "image/png": "[encoded data removed]",
      "text/plain": [
       "<Figure size 640x480 with 1 Axes>"
      ]
     },
     "metadata": {},
     "output_type": "display_data"
    }
   ],
   "source": [
    "# show image\n",
    "import matplotlib.pyplot as plt\n",
    "plt.imshow(image_array)"
   ]
  },
  {
   "cell_type": "markdown",
   "metadata": {},
   "source": [
    "***Notice that the color in this image is differ from the original image bcz imread color channel in reverse order in BGR (you cna change that but we are learning numpy here not computer vision)***"
   ]
  },
  {
   "cell_type": "code",
   "execution_count": 33,
   "metadata": {},
   "outputs": [
    {
     "data": {
      "text/plain": [
       "<matplotlib.image.AxesImage at 0x110276e0>"
      ]
     },
     "execution_count": 33,
     "metadata": {},
     "output_type": "execute_result"
    },
    {
     "data": {
      "image/png": "[encoded data removed]",
      "text/plain": [
       "<Figure size 640x480 with 1 Axes>"
      ]
     },
     "metadata": {},
     "output_type": "display_data"
    }
   ],
   "source": [
    "# flip\n",
    "import numpy as np\n",
    "plt.imshow(np.flip(image_array, axis = 1))\n"
   ]
  },
  {
   "cell_type": "code",
   "execution_count": null,
   "metadata": {},
   "outputs": [
    {
     "data": {
      "text/plain": [
       "<matplotlib.image.AxesImage at 0x11157260>"
      ]
     },
     "execution_count": 34,
     "metadata": {},
     "output_type": "execute_result"
    },
    {
     "data": {
      "image/png": "[encoded data removed]",
      "text/plain": [
       "<Figure size 640x480 with 1 Axes>"
      ]
     },
     "metadata": {},
     "output_type": "display_data"
    }
   ],
   "source": [
    "# clip => fade the image (brightness km kar date hai)\n",
    "plt.imshow(np.clip(image_array,0,100))"
   ]
  },
  {
   "cell_type": "code",
   "execution_count": 35,
   "metadata": {},
   "outputs": [
    {
     "data": {
      "text/plain": [
       "<matplotlib.image.AxesImage at 0x11071d30>"
      ]
     },
     "execution_count": 35,
     "metadata": {},
     "output_type": "execute_result"
    },
    {
     "data": {
      "image/png": "[encoded data removed]",
      "text/plain": [
       "<Figure size 640x480 with 1 Axes>"
      ]
     },
     "metadata": {},
     "output_type": "display_data"
    }
   ],
   "source": [
    "# negative\n",
    "plt.imshow(255-image_array)"
   ]
  },
  {
   "cell_type": "code",
   "execution_count": 39,
   "metadata": {},
   "outputs": [
    {
     "data": {
      "text/plain": [
       "<matplotlib.image.AxesImage at 0x13e990d0>"
      ]
     },
     "execution_count": 39,
     "metadata": {},
     "output_type": "execute_result"
    },
    {
     "data": {
      "image/png": "[encoded data removed]",
      "text/plain": [
       "<Figure size 640x480 with 1 Axes>"
      ]
     },
     "metadata": {},
     "output_type": "display_data"
    }
   ],
   "source": [
    "# trim\n",
    "plt.imshow(image_array[20:900,100:900,::])"
   ]
  },
  {
   "cell_type": "code",
   "execution_count": 43,
   "metadata": {},
   "outputs": [
    {
     "data": {
      "text/plain": [
       "(array([6.00000e+01, 3.60000e+01, 4.80000e+01, 9.90000e+01, 5.50000e+01,\n",
       "        6.30000e+01, 3.90000e+01, 7.00000e+01, 3.90000e+01, 6.60000e+01,\n",
       "        4.20000e+01, 3.90000e+01, 2.10000e+01, 2.20000e+01, 6.10000e+01,\n",
       "        1.80000e+01, 2.70000e+01, 3.90000e+01, 2.70000e+01, 2.70000e+01,\n",
       "        4.50000e+01, 3.00000e+01, 2.90000e+01, 3.00000e+01, 1.70000e+01,\n",
       "        1.90000e+01, 1.20000e+01, 1.90000e+01, 1.10000e+01, 2.30000e+01,\n",
       "        2.80000e+01, 3.30000e+01, 3.50000e+01, 2.00000e+01, 1.50000e+01,\n",
       "        2.60000e+01, 1.70000e+01, 2.60000e+01, 1.40000e+01, 2.60000e+01,\n",
       "        2.20000e+01, 1.30000e+01, 3.70000e+01, 4.80000e+01, 3.50000e+01,\n",
       "        3.30000e+01, 2.40000e+01, 2.70000e+01, 3.50000e+01, 3.00000e+01,\n",
       "        4.20000e+01, 2.40000e+01, 3.60000e+01, 2.20000e+01, 4.60000e+01,\n",
       "        2.80000e+01, 4.60000e+01, 5.10000e+01, 4.10000e+01, 3.90000e+01,\n",
       "        3.50000e+01, 5.30000e+01, 2.20000e+01, 4.40000e+01, 5.30000e+01,\n",
       "        6.50000e+01, 6.90000e+01, 5.50000e+01, 6.60000e+01, 5.50000e+01,\n",
       "        7.60000e+01, 8.80000e+01, 3.70000e+01, 6.20000e+01, 9.20000e+01,\n",
       "        7.70000e+01, 4.90000e+01, 5.60000e+01, 7.40000e+01, 7.80000e+01,\n",
       "        8.60000e+01, 9.00000e+01, 7.00000e+01, 8.50000e+01, 1.01000e+02,\n",
       "        7.60000e+01, 5.60000e+01, 5.70000e+01, 8.20000e+01, 9.30000e+01,\n",
       "        8.10000e+01, 9.20000e+01, 9.60000e+01, 1.01000e+02, 9.70000e+01,\n",
       "        8.70000e+01, 7.70000e+01, 1.04000e+02, 8.10000e+01, 9.80000e+01,\n",
       "        1.13000e+02, 9.70000e+01, 7.30000e+01, 1.11000e+02, 6.20000e+01,\n",
       "        1.15000e+02, 8.10000e+01, 1.10000e+02, 5.60000e+01, 1.05000e+02,\n",
       "        7.30000e+01, 9.80000e+01, 1.04000e+02, 8.90000e+01, 8.50000e+01,\n",
       "        5.70000e+01, 1.07000e+02, 5.90000e+01, 7.50000e+01, 9.60000e+01,\n",
       "        8.50000e+01, 7.40000e+01, 6.00000e+01, 7.60000e+01, 9.30000e+01,\n",
       "        6.80000e+01, 5.60000e+01, 6.10000e+01, 5.80000e+01, 5.50000e+01,\n",
       "        6.30000e+01, 6.60000e+01, 7.40000e+01, 7.30000e+01, 5.60000e+01,\n",
       "        7.20000e+01, 1.05000e+02, 6.70000e+01, 6.90000e+01, 7.60000e+01,\n",
       "        7.70000e+01, 5.80000e+01, 6.70000e+01, 6.90000e+01, 7.00000e+01,\n",
       "        9.60000e+01, 6.40000e+01, 8.70000e+01, 8.20000e+01, 9.90000e+01,\n",
       "        6.90000e+01, 9.10000e+01, 9.40000e+01, 7.90000e+01, 7.40000e+01,\n",
       "        8.90000e+01, 9.90000e+01, 1.11000e+02, 8.80000e+01, 8.30000e+01,\n",
       "        1.21000e+02, 1.47000e+02, 1.38000e+02, 2.09000e+02, 2.01000e+02,\n",
       "        1.86000e+02, 2.12000e+02, 2.25000e+02, 1.63000e+02, 1.57000e+02,\n",
       "        1.02000e+02, 1.55000e+02, 1.16000e+02, 1.18000e+02, 1.44000e+02,\n",
       "        1.29000e+02, 1.47000e+02, 1.44000e+02, 1.21000e+02, 1.07000e+02,\n",
       "        1.65000e+02, 1.09000e+02, 8.60000e+01, 1.21000e+02, 1.78000e+02,\n",
       "        2.14000e+02, 2.13400e+03, 1.96100e+03, 9.68000e+02, 1.84700e+03,\n",
       "        1.84900e+03, 1.82900e+03, 2.12600e+03, 2.12000e+03, 2.36500e+03,\n",
       "        1.83900e+03, 1.72000e+03, 1.76800e+03, 1.71200e+03, 1.95000e+03,\n",
       "        2.14100e+03, 2.22400e+03, 2.22400e+03, 1.74500e+03, 1.67000e+03,\n",
       "        1.72300e+03, 1.72600e+03, 1.08400e+03, 2.11200e+03, 2.08900e+03,\n",
       "        2.09200e+03, 1.83900e+03, 1.73800e+03, 1.74600e+03, 1.87100e+03,\n",
       "        1.93000e+03, 2.09200e+03, 2.16700e+03, 2.30400e+03, 1.59800e+03,\n",
       "        1.56100e+03, 1.58700e+03, 1.77300e+03, 2.04500e+03, 2.14800e+03,\n",
       "        2.14700e+03, 1.13700e+03, 2.02000e+03, 1.94300e+03, 1.95100e+03,\n",
       "        1.98500e+03, 2.14500e+03, 1.92700e+03, 1.81100e+03, 1.84200e+03,\n",
       "        1.87600e+03, 1.85600e+03, 1.84300e+03, 1.91700e+03, 1.91900e+03,\n",
       "        1.94300e+03, 1.99900e+03, 2.01600e+03, 1.99600e+03, 2.09800e+03,\n",
       "        1.63100e+03, 2.63800e+03, 2.74100e+03, 2.95000e+03, 3.44400e+03,\n",
       "        4.11100e+03, 3.44000e+03, 5.22900e+03, 4.94700e+03, 1.24389e+05]),\n",
       " array([  0.,   1.,   2.,   3.,   4.,   5.,   6.,   7.,   8.,   9.,  10.,\n",
       "         11.,  12.,  13.,  14.,  15.,  16.,  17.,  18.,  19.,  20.,  21.,\n",
       "         22.,  23.,  24.,  25.,  26.,  27.,  28.,  29.,  30.,  31.,  32.,\n",
       "         33.,  34.,  35.,  36.,  37.,  38.,  39.,  40.,  41.,  42.,  43.,\n",
       "         44.,  45.,  46.,  47.,  48.,  49.,  50.,  51.,  52.,  53.,  54.,\n",
       "         55.,  56.,  57.,  58.,  59.,  60.,  61.,  62.,  63.,  64.,  65.,\n",
       "         66.,  67.,  68.,  69.,  70.,  71.,  72.,  73.,  74.,  75.,  76.,\n",
       "         77.,  78.,  79.,  80.,  81.,  82.,  83.,  84.,  85.,  86.,  87.,\n",
       "         88.,  89.,  90.,  91.,  92.,  93.,  94.,  95.,  96.,  97.,  98.,\n",
       "         99., 100., 101., 102., 103., 104., 105., 106., 107., 108., 109.,\n",
       "        110., 111., 112., 113., 114., 115., 116., 117., 118., 119., 120.,\n",
       "        121., 122., 123., 124., 125., 126., 127., 128., 129., 130., 131.,\n",
       "        132., 133., 134., 135., 136., 137., 138., 139., 140., 141., 142.,\n",
       "        143., 144., 145., 146., 147., 148., 149., 150., 151., 152., 153.,\n",
       "        154., 155., 156., 157., 158., 159., 160., 161., 162., 163., 164.,\n",
       "        165., 166., 167., 168., 169., 170., 171., 172., 173., 174., 175.,\n",
       "        176., 177., 178., 179., 180., 181., 182., 183., 184., 185., 186.,\n",
       "        187., 188., 189., 190., 191., 192., 193., 194., 195., 196., 197.,\n",
       "        198., 199., 200., 201., 202., 203., 204., 205., 206., 207., 208.,\n",
       "        209., 210., 211., 212., 213., 214., 215., 216., 217., 218., 219.,\n",
       "        220., 221., 222., 223., 224., 225., 226., 227., 228., 229., 230.,\n",
       "        231., 232., 233., 234., 235., 236., 237., 238., 239., 240., 241.,\n",
       "        242., 243., 244., 245., 246., 247., 248., 249., 250., 251., 252.,\n",
       "        253., 254., 255.]),\n",
       " <BarContainer object of 255 artists>)"
      ]
     },
     "execution_count": 43,
     "metadata": {},
     "output_type": "execute_result"
    },
    {
     "data": {
      "image/png": "[encoded data removed]",
      "text/plain": [
       "<Figure size 640x480 with 1 Axes>"
      ]
     },
     "metadata": {},
     "output_type": "display_data"
    }
   ],
   "source": [
    "# plot histogram => to study histogram of your pixel (used in high level editing)\n",
    "plt.hist(image_array.flatten(), bins=255)"
   ]
  },
  {
   "cell_type": "code",
   "execution_count": 83,
   "metadata": {},
   "outputs": [
    {
     "data": {
      "image/png": "[encoded data removed]",
      "text/plain": [
       "<Figure size 1000x500 with 1 Axes>"
      ]
     },
     "metadata": {},
     "output_type": "display_data"
    }
   ],
   "source": [
    "import cv2\n",
    "import numpy as np\n",
    "import matplotlib.pyplot as plt\n",
    "\n",
    "# Image Load\n",
    "image_array = cv2.imread('Capture.png')  # BGR format\n",
    "b, g, r = cv2.split(image_array)  # Split into B, G, R channels\n",
    "\n",
    "# Plot Histograms\n",
    "plt.figure(figsize=(10,5))\n",
    "plt.hist(r.flatten(), bins=255, color='red', alpha=0.5, label='Red Channel')\n",
    "plt.hist(g.flatten(), bins=255, color='green', alpha=0.5, label='Green Channel')\n",
    "plt.hist(b.flatten(), bins=255, color='blue', alpha=0.5, label='Blue Channel')\n",
    "\n",
    "plt.legend()\n",
    "plt.title(\"Histogram of RGB Channels\")\n",
    "plt.xlabel(\"Pixel Intensity\")\n",
    "plt.ylabel(\"Frequency\")\n",
    "plt.show()\n"
   ]
  },
  {
   "cell_type": "code",
   "execution_count": null,
   "metadata": {},
   "outputs": [],
   "source": [
    "# More manipulations\n",
    "# https://www.analyticsvidhya.com/blog/2021/05/image-processing-using-numpy-with-practical-implementation-and-code/"
   ]
  },
  {
   "cell_type": "code",
   "execution_count": null,
   "metadata": {},
   "outputs": [
    {
     "name": "stdout",
     "output_type": "stream",
     "text": [
      "<class 'numpy.ndarray'>\n",
      "<class 'numpy.str_'>\n"
     ]
    },
    {
     "data": {
      "text/plain": [
       "array(['1', 'hello', 'True', '1.5'], dtype='<U32')"
      ]
     },
     "execution_count": 55,
     "metadata": {},
     "output_type": "execute_result"
    }
   ],
   "source": [
    "# structured arrays\n",
    "a = np.array([1,\"hello\",True,1.5])\n",
    "print(type(a))\n",
    "print(type(a[3])) \n",
    "a"
   ]
  },
  {
   "cell_type": "markdown",
   "metadata": {},
   "source": [
    "In the above output U32 means that the datatype of the array is unicode string jiska maximum length 32 character hai.  \n",
    "\n",
    "\n",
    "***Note that every element in the array is a string and not a number. But we created the array with numbers but numpy is a homogenous array so it converted all the numbers to strings.***"
   ]
  },
  {
   "cell_type": "markdown",
   "metadata": {},
   "source": [
    "*Technically you are created a homogenous array still*"
   ]
  },
  {
   "cell_type": "code",
   "execution_count": 61,
   "metadata": {},
   "outputs": [
    {
     "data": {
      "text/plain": [
       "dtype([('name', '<U32'), ('IQ', '<i4'), ('cgpa', '<f4'), ('placed', '?')])"
      ]
     },
     "execution_count": 61,
     "metadata": {},
     "output_type": "execute_result"
    }
   ],
   "source": [
    "# name(string),IQ(integer),cgpa(float),placed(Boolean) using structured arrays\n",
    "\n",
    "# We firstly defined the data type of the array\n",
    "\n",
    "dt = np.dtype(\n",
    "    [\n",
    "        ('name','U32'),\n",
    "        ('IQ',np.int32),\n",
    "        ('cgpa',np.float32),\n",
    "        ('placed',np.bool_)\n",
    "    ]\n",
    ")\n",
    "\n",
    "dt"
   ]
  },
  {
   "cell_type": "code",
   "execution_count": 67,
   "metadata": {},
   "outputs": [
    {
     "data": {
      "text/plain": [
       "array([('Ali', 108, 9.6,  True), ('Zain',  98, 6.6, False),\n",
       "       ('Syed',  90, 9.2,  True)],\n",
       "      dtype=[('name', '<U32'), ('IQ', '<i4'), ('cgpa', '<f4'), ('placed', '?')])"
      ]
     },
     "execution_count": 67,
     "metadata": {},
     "output_type": "execute_result"
    }
   ],
   "source": [
    "stu = np.array(\n",
    "    [\n",
    "        ('Ali',108,9.6,True),\n",
    "        ('Zain',98,6.6,False),\n",
    "        ('Syed',90,9.2,True)\n",
    "        \n",
    "    ],dtype = dt\n",
    ")\n",
    "\n",
    "stu"
   ]
  },
  {
   "cell_type": "code",
   "execution_count": 75,
   "metadata": {},
   "outputs": [
    {
     "name": "stdout",
     "output_type": "stream",
     "text": [
      "Ali\n",
      "('Ali', 108, 9.6, True)\n",
      "('Zain', 98, 6.6, False)\n",
      "('Syed', 90, 9.2, True)\n",
      "['Ali' 'Zain' 'Syed']\n",
      "[9.6 6.6 9.2]\n",
      "[ True False  True]\n"
     ]
    }
   ],
   "source": [
    "print(stu[0][0])\n",
    "print(stu[0])\n",
    "print(stu[1])\n",
    "print(stu[2])\n",
    "print(stu['name'])\n",
    "print(stu['cgpa'])\n",
    "print(stu['placed'])"
   ]
  },
  {
   "cell_type": "markdown",
   "metadata": {},
   "source": [
    "***Pandas dataFrame is based on the numpy structure arrays and this NumPy structure is the based on the C structure.***"
   ]
  },
  {
   "cell_type": "code",
   "execution_count": 77,
   "metadata": {},
   "outputs": [],
   "source": [
    "# save and load the numpy object\n",
    "\n",
    "np.save('student.npy',stu)"
   ]
  },
  {
   "cell_type": "code",
   "execution_count": null,
   "metadata": {},
   "outputs": [],
   "source": [
    "a = np.load('student.npy') # iss code ko dusare file me use karke data ko import karenge"
   ]
  },
  {
   "cell_type": "code",
   "execution_count": 79,
   "metadata": {},
   "outputs": [
    {
     "data": {
      "text/plain": [
       "array(['Ali', 'Zain', 'Syed'], dtype='<U32')"
      ]
     },
     "execution_count": 79,
     "metadata": {},
     "output_type": "execute_result"
    }
   ],
   "source": [
    "a['name']"
   ]
  },
  {
   "cell_type": "code",
   "execution_count": 82,
   "metadata": {},
   "outputs": [
    {
     "data": {
      "text/plain": [
       "np.void(('Ali', 108, 9.6, True), dtype=[('name', '<U32'), ('IQ', '<i4'), ('cgpa', '<f4'), ('placed', '?')])"
      ]
     },
     "execution_count": 82,
     "metadata": {},
     "output_type": "execute_result"
    }
   ],
   "source": [
    "a[0]"
   ]
  },
  {
   "cell_type": "code",
   "execution_count": null,
   "metadata": {},
   "outputs": [],
   "source": []
  }
 ],
 "metadata": {
  "kernelspec": {
   "display_name": "Python 3",
   "language": "python",
   "name": "python3"
  },
  "language_info": {
   "codemirror_mode": {
    "name": "ipython",
    "version": 3
   },
   "file_extension": ".py",
   "mimetype": "text/x-python",
   "name": "python",
   "nbconvert_exporter": "python",
   "pygments_lexer": "ipython3",
   "version": "3.12.3"
  }
 },
 "nbformat": 4,
 "nbformat_minor": 2
}
