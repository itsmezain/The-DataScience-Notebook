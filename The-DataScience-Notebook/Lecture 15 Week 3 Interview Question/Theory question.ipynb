{
 "cells": [
  {
   "cell_type": "markdown",
   "metadata": {},
   "source": [
    "\n",
    "### `1. What is a decorator in Python?`\n",
    "\n"
   ]
  },
  {
   "cell_type": "markdown",
   "metadata": {},
   "source": [
    "Python offers a unique feature called decorators.\n",
    "\n",
    "Let's start with an analogy before getting to the technical definition of the decorators. When we mention the word \"decorator\", what enters your mind? Well, likely something that adds beauty to an existing object. An example is when we hang a picture frame to a wall to enhance the room.\n",
    "\n",
    "Decorators in Python add some feature or functionality to an existing function without altering it.\n",
    "\n",
    "Let's say we have the following simple function that takes two numbers as parameters and divides them.\n",
    "\n",
    "\n",
    "```\n",
    "def divide(first, second):\n",
    "    print (\"The result is:\", first/second)\n",
    "```\n",
    "Now if we call this function by passing the two values 16 and 4, it will return the following output:\n",
    "\n",
    "\n",
    "```\n",
    "divide(16, 4)\n",
    "```\n",
    "The output is:\n",
    "\n",
    "`The result is: 4.0`\n",
    "\n"
   ]
  },
  {
   "cell_type": "code",
   "execution_count": 1,
   "metadata": {},
   "outputs": [
    {
     "name": "stdout",
     "output_type": "stream",
     "text": [
      "The result is: 4.0\n"
     ]
    }
   ],
   "source": [
    "def divide(first, second):\n",
    "    print (\"The result is:\", first/second)\n",
    "\n",
    "divide(16, 4)\n"
   ]
  },
  {
   "cell_type": "markdown",
   "metadata": {},
   "source": [
    "What will happen if we pass the number 4 first, and 16 after? The answer will be 0.25. But we don't want it to happen. We want a scenario where if we see that first < second, we swap the numbers and divide them. But we aren't allowed to change the function.\n",
    "\n",
    "Let's create a decorator that will take the function as a parameter. This decorator will add the swipe functionality to our function.\n",
    "\n",
    "```\n",
    "def swipe_decorator(func):\n",
    "    def swipe(first, second):\n",
    "        if first < second:\n",
    "            first, second = second, first\n",
    "        return func(first, second)\n",
    "\n",
    "    return swipe\n",
    "```\n",
    "\n",
    "Now we have generated a decorator for the divide() function. Let's see how it works.\n",
    "\n",
    "```\n",
    "divide = swipe_decorator(divide)\n",
    "divide(4, 16)\n",
    "```\n",
    "The output is:\n",
    "```\n",
    "The result is: 4.0\n",
    "```\n",
    "\n",
    "We have passed the function as a parameter to the decorator. The decorator \"swiped our values\" and returned the function with swiped values. After that, we invoked the returned function to generate the output as expected.\n",
    "\n"
   ]
  },
  {
   "cell_type": "code",
   "execution_count": 3,
   "metadata": {},
   "outputs": [
    {
     "name": "stdout",
     "output_type": "stream",
     "text": [
      "The result is: 0.25\n",
      "The result is: 4.0\n"
     ]
    }
   ],
   "source": [
    "# Func refrencinf this divide function\n",
    "\n",
    "def divide(first, second):\n",
    "    print (\"The result is:\", first/second)\n",
    "\n",
    "def swipe_decorator(func):\n",
    "    def swipe(first, second):\n",
    "        if first < second:\n",
    "            first, second = second, first\n",
    "        return func(first, second)\n",
    "    return swipe\n",
    "\n",
    "\n",
    "divide(4, 16) # Undecorated\n",
    "\n",
    "divide = swipe_decorator(divide) # Decorated\n",
    "\n",
    "# Decorated\n",
    "divide(4, 16)"
   ]
  },
  {
   "cell_type": "code",
   "execution_count": null,
   "metadata": {},
   "outputs": [],
   "source": []
  },
  {
   "cell_type": "code",
   "execution_count": 4,
   "metadata": {},
   "outputs": [
    {
     "name": "stdout",
     "output_type": "stream",
     "text": [
      "The result is: 0.4\n"
     ]
    }
   ],
   "source": [
    "def divide(first, second):\n",
    "    print (\"The result is:\", first/second)\n",
    "\n",
    "divide(4,10) # Bigger/smaller"
   ]
  },
  {
   "cell_type": "code",
   "execution_count": 5,
   "metadata": {},
   "outputs": [
    {
     "name": "stdout",
     "output_type": "stream",
     "text": [
      "The result is: 4.0\n"
     ]
    }
   ],
   "source": [
    "# Another way of doing the same thing\n",
    "\n",
    "def swipe_decorator(func):\n",
    "    def swipe(first, second):\n",
    "        if first < second:\n",
    "            first, second = second, first\n",
    "        return func(first, second)\n",
    "    return swipe\n",
    "\n",
    "@swipe_decorator # divide = swipe_decorator(divide) \n",
    "def divide(first, second):\n",
    "    print (\"The result is:\", first/second)\n",
    "\n",
    "\n",
    "\n",
    "divide(4, 16)"
   ]
  },
  {
   "cell_type": "markdown",
   "metadata": {},
   "source": [
    "### `2. How can you determine whether a class is a subclass of another class?`\n",
    "\n",
    "---\n",
    "\n",
    "\n",
    "\n"
   ]
  },
  {
   "cell_type": "markdown",
   "metadata": {},
   "source": [
    "Ans: \n",
    "\n",
    "This is accomplished by utilising a Python function called issubclass(). The function returns true or false depending on if a class is a child of another class, indicating whether it is."
   ]
  },
  {
   "cell_type": "code",
   "execution_count": 6,
   "metadata": {},
   "outputs": [
    {
     "name": "stdout",
     "output_type": "stream",
     "text": [
      "False\n",
      "True\n"
     ]
    }
   ],
   "source": [
    "class ABC:\n",
    "    pass\n",
    "\n",
    "class PQR(ABC):\n",
    "    pass\n",
    "\n",
    "print(issubclass(ABC, PQR)) # False as ABC is not the child class of PQR\n",
    "print(issubclass(PQR, ABC)) # True as PQR is a child os ABC"
   ]
  },
  {
   "cell_type": "markdown",
   "metadata": {},
   "source": [
    "### `3.What does Python's MRO (Method Resolution Order) mean?`\n",
    "\n",
    "\n"
   ]
  },
  {
   "cell_type": "markdown",
   "metadata": {},
   "source": [
    "Ans:\n",
    "\n",
    "Method Resolution Order is referred to as MRO.\n",
    "A class inherits from many classes under multiple inheritance.\n",
    "If we attempt to access a method by building an object from the child class, the methods of the child class are first searched for the method.\n",
    "If the method is not found in the child class, the inheritance classes are searched from left to right.\n",
    "\n",
    "The `show` method is present in both the `Father` and `Mother` classes in the example presented below.\n",
    "\n",
    "In MRO, methods and variables are searched from left to right because while conducting inheritance, `Father` class is written first and `Mother` class is written afterwards. So firstly `Father` class will be searched for `show` method if found then will get executed if not, `Mother` class will be searched."
   ]
  },
  {
   "cell_type": "code",
   "execution_count": 7,
   "metadata": {},
   "outputs": [
    {
     "name": "stdout",
     "output_type": "stream",
     "text": [
      "You are in Son Class Constructor\n",
      "Father Class instance Method\n"
     ]
    }
   ],
   "source": [
    "# Example code\n",
    "class Father:\n",
    "  def __init__(self):\n",
    "    print('You are in Father Class Constructor')\n",
    "   \n",
    "  def show(self):\n",
    "    print(\"Father Class instance Method\")\n",
    "         \n",
    "class Mother:\n",
    "  def __init__(self):\n",
    "    print(\"You are in Mother Class Constructor\")\n",
    "   \n",
    "  def show(self):\n",
    "    print(\"Mother Class instance Method\")\n",
    "         \n",
    "class Son(Father, Mother):\n",
    "    def __init__(self):\n",
    "        print(\"You are in Son Class Constructor\")\n",
    "     \n",
    "son = Son()\n",
    "son.show()"
   ]
  },
  {
   "cell_type": "markdown",
   "metadata": {},
   "source": [
    "### **`5. What is the difference between OOP and SOP?`**\n",
    "\n",
    "| Object Oriented Programming | Structural Programming|\n",
    "| :-- | :-- |\n",
    "| Object-Oriented Programming is a type of programming which is based on objects rather than just functions and procedures | Provides logical structure to a program where programs are divided functions |\n",
    "| Bottom-up approach | Top-down approach |\n",
    "| Provides data hiding | Does not provide data hiding |\n",
    "| Can solve problems of any complexity | Can solve moderate problems |\n",
    "| Code can be reused thereby reducing redundancy | Does not support code reusability |\n",
    "\n",
    "### **`6. Can you call the base class method without creating an instance?`**\n",
    "\n",
    "Yes, you can call the base class without instantiating it if:\n",
    "- It is a static method\n",
    "- The base class is inherited by some other subclass\n",
    "\n",
    "### **`7. What are the limitations of inheritance?`**\n",
    "\n",
    "- Increases the time and effort required to execute a program as it requires jumping back and forth between different classes.\n",
    "- The parent class and the child class get tightly coupled.\n",
    "- Any modifications to the program would require changes both in the parent as well as the child class\n",
    "- Needs careful implementation else would lead to incorrect results\n",
    "\n",
    "### **`8. What is the difference between range() and xrange()?`**\n",
    "\n",
    "- range() creates a static list that can be iterated through while checking some conditions. This is a function that returns a list with integer sequences.\n",
    "- xrange() is same in functionality as range() but it does not return a list, instead it returns an object of xrange(). xrange() is used in generators for yielding.\n",
    "\n",
    "| range() | xrange() |\n",
    "| :-- | :-- |\n",
    "| In Python 3, xrange() is not supported; instead, the range() function is used to iterate in for loops. | The xrange() function is used in Python 2 to iterate in for loops.\n",
    "| It returns a list. | It returns a generator object as it doesn’t really generate a static list at the run time. |\n",
    "| It takes more memory as it keeps the entire list of iterating numbers in memory. | It takes less memory as it keeps only one number at a time in memory. |"
   ]
  },
  {
   "cell_type": "markdown",
   "metadata": {},
   "source": [
    "### **`9. How to override the way objects are printed?`**\n",
    "\n",
    "Use the `__str__` and the `__repr__` dunder methods.\n",
    "\n",
    "Here’s an example that demonstrates how an instance from the Person class can be nicely formatted when printed to the console."
   ]
  },
  {
   "cell_type": "code",
   "execution_count": 8,
   "metadata": {},
   "outputs": [
    {
     "data": {
      "text/plain": [
       "John Doe (30)"
      ]
     },
     "execution_count": 8,
     "metadata": {},
     "output_type": "execute_result"
    }
   ],
   "source": [
    "class Person:\n",
    "    def __init__(self, first_name, last_name, age):\n",
    "        self.first_name = first_name\n",
    "        self.last_name = last_name\n",
    "        self.age = age\n",
    "\n",
    "    def __str__(self):\n",
    "        return f\"{self.first_name} {self.last_name} ({self.age})\"\n",
    "\t\t\t\t\n",
    "    def __repr__(self):\n",
    "        return f\"{self.first_name} {self.last_name} ({self.age})\"\n",
    "\n",
    "person = Person(\"John\", \"Doe\", 30) # thanks to __str__\n",
    "person"
   ]
  },
  {
   "cell_type": "markdown",
   "metadata": {},
   "source": [
    "### **`10. What is the difference between a class method, a static method and an instance method?`**\n",
    "\n"
   ]
  },
  {
   "cell_type": "markdown",
   "metadata": {},
   "source": [
    "Let’s begin by writing a (Python 3) class that contains simple examples\n",
    "for all three method types:\n",
    "```\n",
    "class MyClass:\n",
    "\n",
    "    def method(self):\n",
    "        return 'instance method called', self\n",
    "\n",
    "    @classmethod\n",
    "    def classmethod(cls):\n",
    "        return 'class method called', cls\n",
    "\n",
    "    @staticmethod\n",
    "    def staticmethod():\n",
    "        return 'static method called'\n",
    "```\n",
    "\n",
    "**`Instance Methods`**\n",
    "\n",
    "The first method on `MyClass`, called `method`, is a regular instance method. That’s the basic, no-frills method type you’ll use most of the time. You can see the method takes one parameter, self, which points to an instance of MyClass when the method is called. But of course, instance methods can accept more than just one parameter.\n",
    "\n",
    "Through the self parameter, instance methods can freely access attributes and other methods on the same object. This gives them a lot of power when it comes to modifying an object’s state.\n",
    "\n",
    "Not only can they modify object state, instance methods can also access the class itself through the `self.__class__` attribute. This means instance methods can also modify class state.  This makes instance methods powerful in terms of access restrictions—they can freely modify state on the object instance and on the class itself.\n",
    "\n",
    "\n"
   ]
  },
  {
   "cell_type": "markdown",
   "metadata": {},
   "source": [
    "**`Class Methods`**\n",
    "\n",
    "Let’s compare that to the second method, `MyClass.classmethod`. I marked this method with a [`@classmethod`](https://docs.python.org/3/library/functions.html#classmethod) decorator to flag it as a class method. Instead of accepting a self parameter, class methods take a `cls` parameter that points to the class—and *not* the object instance—when the method is called.\n",
    "\n",
    "Since the class method only has access to this `cls` argument, it can’t modify object instance state. That would require access to self. However, class methods can still modify class state that applies across all instances of the class."
   ]
  },
  {
   "cell_type": "markdown",
   "metadata": {},
   "source": [
    "**Let’s See Them in Action!**\n",
    "\n",
    "Let’s take a look at how these methods behave in action when we call them. We’ll start by creating an instance of the class and then calling the three different methods on it.\n",
    "\n",
    "`MyClass` was set up in such a way that each method’s implementation returns a tuple containing information we can use to trace what’s going on and which parts of the class or object that method can access.\n"
   ]
  },
  {
   "cell_type": "code",
   "execution_count": 9,
   "metadata": {},
   "outputs": [],
   "source": [
    "# Class\n",
    "\n",
    "class MyClass:\n",
    "\n",
    "    def method(self):\n",
    "        return 'instance method called', self\n",
    "\n",
    "    @classmethod\n",
    "    def classmethod(cls):\n",
    "        return 'class method called', cls\n",
    "\n",
    "    @staticmethod\n",
    "    def staticmethod():\n",
    "        return 'static method called'\n"
   ]
  },
  {
   "cell_type": "markdown",
   "metadata": {},
   "source": [
    "Here’s what happens when we call an instance method:"
   ]
  },
  {
   "cell_type": "code",
   "execution_count": 10,
   "metadata": {},
   "outputs": [
    {
     "data": {
      "text/plain": [
       "('instance method called', <__main__.MyClass at 0x85a3710>)"
      ]
     },
     "execution_count": 10,
     "metadata": {},
     "output_type": "execute_result"
    }
   ],
   "source": [
    "obj = MyClass()\n",
    "obj.method()"
   ]
  },
  {
   "cell_type": "markdown",
   "metadata": {},
   "source": [
    "This confirms that, in this case, the instance method called method has access to the object instance (printed as `<MyClass instance>`) via the self argument.\n",
    "\n",
    "When the method is called, Python replaces the `self` argument with the instance object, `obj`. \n",
    "\n",
    "We could ignore the syntactic sugar provided by the `obj.method()` **dot-call syntax** and pass the instance object manually to get the same result:\n",
    "```\n",
    "MyClass.method(obj)\n",
    "```\n"
   ]
  },
  {
   "cell_type": "code",
   "execution_count": 11,
   "metadata": {},
   "outputs": [
    {
     "data": {
      "text/plain": [
       "('instance method called', <__main__.MyClass at 0x85a3710>)"
      ]
     },
     "execution_count": 11,
     "metadata": {},
     "output_type": "execute_result"
    }
   ],
   "source": [
    "MyClass.method(obj)"
   ]
  },
  {
   "cell_type": "code",
   "execution_count": 12,
   "metadata": {},
   "outputs": [
    {
     "data": {
      "text/plain": [
       "__main__.MyClass"
      ]
     },
     "execution_count": 12,
     "metadata": {},
     "output_type": "execute_result"
    }
   ],
   "source": [
    "type(obj)"
   ]
  },
  {
   "cell_type": "markdown",
   "metadata": {},
   "source": [
    "Let’s try out the **class method** next:\n"
   ]
  },
  {
   "cell_type": "markdown",
   "metadata": {},
   "source": [
    "Calling `classmethod()` showed us that it doesn’t have access to the `<MyClass instance>` object, but only to the `<class MyClass>` object, representing the class itself (**everything in Python is an object, even classes themselves**).\n",
    "\n",
    "Notice how Python automatically passes the class as the first argument to the function when we call `MyClass.classmethod()`. Calling a method in Python through the **dot syntax** triggers this behavior. The `self` parameter on instance methods works the same way.\n",
    "\n",
    "Please note that naming these parameters `self` and `cls` is just a convention. You could just as easily name them `the_object` and `the_class` and get the same result. All that matters is that they’re positioned first in the parameter list for that particular method."
   ]
  },
  {
   "cell_type": "markdown",
   "metadata": {},
   "source": [
    "Time to call the **static method** now:\n"
   ]
  },
  {
   "cell_type": "code",
   "execution_count": 14,
   "metadata": {},
   "outputs": [
    {
     "data": {
      "text/plain": [
       "'static method called'"
      ]
     },
     "execution_count": 14,
     "metadata": {},
     "output_type": "execute_result"
    }
   ],
   "source": [
    "obj.staticmethod()"
   ]
  },
  {
   "cell_type": "markdown",
   "metadata": {},
   "source": [
    "Did you see how we called `staticmethod()` on the object and were able to do so successfully? Some developers are surprised when they learn that it’s possible to call a static method on an object instance.\n",
    "\n",
    "Behind the scenes, Python simply enforces the access restrictions by\n",
    "not passing in the `self` or the `cls` argument when a static method gets\n",
    "called using the dot syntax\n",
    "\n",
    "This confirms that static methods can neither access the object instance state nor the class state. They work like regular functions but belong to the class’ (and every instance’s) namespace.\n",
    "\n",
    "Now, let’s take a look at what happens when we attempt to call these\n",
    "methods on the class itself, **without creating an object instance** beforehand:"
   ]
  },
  {
   "cell_type": "code",
   "execution_count": 15,
   "metadata": {},
   "outputs": [
    {
     "name": "stdout",
     "output_type": "stream",
     "text": [
      "('class method called', <class '__main__.MyClass'>)\n",
      "static method called\n"
     ]
    },
    {
     "ename": "TypeError",
     "evalue": "MyClass.method() missing 1 required positional argument: 'self'",
     "output_type": "error",
     "traceback": [
      "\u001b[1;31m---------------------------------------------------------------------------\u001b[0m",
      "\u001b[1;31mTypeError\u001b[0m                                 Traceback (most recent call last)",
      "Cell \u001b[1;32mIn[15], line 6\u001b[0m\n\u001b[0;32m      4\u001b[0m \u001b[38;5;28mprint\u001b[39m(MyClass\u001b[38;5;241m.\u001b[39mstaticmethod())\n\u001b[0;32m      5\u001b[0m \u001b[38;5;66;03m#Instance Method\u001b[39;00m\n\u001b[1;32m----> 6\u001b[0m \u001b[38;5;28mprint\u001b[39m(\u001b[43mMyClass\u001b[49m\u001b[38;5;241;43m.\u001b[39;49m\u001b[43mmethod\u001b[49m\u001b[43m(\u001b[49m\u001b[43m)\u001b[49m)\n",
      "\u001b[1;31mTypeError\u001b[0m: MyClass.method() missing 1 required positional argument: 'self'"
     ]
    }
   ],
   "source": [
    "# Class Method\n",
    "print(MyClass.classmethod())\n",
    "# Static method\n",
    "print(MyClass.staticmethod())\n",
    "#Instance Method\n",
    "print(MyClass.method())"
   ]
  },
  {
   "cell_type": "markdown",
   "metadata": {},
   "source": [
    "We were able to call `classmethod()` and `staticmethod(`) just fine, but attempting to call the instance method `method()` failed with a `TypeError`.\n",
    "\n",
    "This is to be expected. This time we didn’t create an object instance and tried calling an instance function directly on the class blueprint itself. This means there is no way for Python to populate the `self` argument and therefore the call fails with a `TypeError exception`.\n",
    "\n",
    "This should make the distinction between these three method types a\n",
    "little more clear"
   ]
  },
  {
   "cell_type": "markdown",
   "metadata": {},
   "source": [
    "**Key Takeaways**\n",
    "* Instance methods need a class instance and can access the instance through `self`.\n",
    "* Class methods don’t need a class instance. They can’t access the\n",
    "instance (`self`) but they have access to the class itself via `cls`.\n",
    "* Static methods don’t have access to `cls or self`. They work like\n",
    "regular functions but belong to the class’ namespace.\n",
    "* Static and class methods communicate and (to a certain degree)\n",
    "enforce developer intent about class design. This can have definite maintenance benefits.\n"
   ]
  }
 ],
 "metadata": {
  "kernelspec": {
   "display_name": "Python 3",
   "language": "python",
   "name": "python3"
  },
  "language_info": {
   "codemirror_mode": {
    "name": "ipython",
    "version": 3
   },
   "file_extension": ".py",
   "mimetype": "text/x-python",
   "name": "python",
   "nbconvert_exporter": "python",
   "pygments_lexer": "ipython3",
   "version": "3.12.0"
  }
 },
 "nbformat": 4,
 "nbformat_minor": 2
}
