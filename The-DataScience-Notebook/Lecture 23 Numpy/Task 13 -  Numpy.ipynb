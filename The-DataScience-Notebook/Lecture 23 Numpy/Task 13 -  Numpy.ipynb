{
  "cells": [
    {
      "cell_type": "markdown",
      "metadata": {
        "id": "6WdKdPGx-tnY"
      },
      "source": [
        "**Note: In Data Science googling is a very important skill. If you find some difficulties to solve the problem, google it and try to find some clues to solve.**"
      ]
    },
    {
      "cell_type": "code",
      "execution_count": 2,
      "metadata": {
        "id": "-J4F1ysN4mLk"
      },
      "outputs": [],
      "source": [
        "import numpy as np"
      ]
    },
    {
      "cell_type": "markdown",
      "metadata": {
        "id": "a_K8IH-C6HDK"
      },
      "source": [
        "### `Q-1` Create a null vector of size 10 but the fifth value which is 1.\n",
        "\n"
      ]
    },
    {
      "cell_type": "code",
      "execution_count": 2,
      "metadata": {
        "id": "sTF03KsZ6QUI"
      },
      "outputs": [
        {
          "data": {
            "text/plain": [
              "array([3.19172376e-316, 1.77863633e-322, 0.00000000e+000, 0.00000000e+000,\n",
              "       1.00000000e+000, 1.57434397e+161, 3.27055180e+179, 5.00229395e-090,\n",
              "       5.04050571e+174, 1.69111913e-306])"
            ]
          },
          "execution_count": 2,
          "metadata": {},
          "output_type": "execute_result"
        }
      ],
      "source": [
        "# Code here\n",
        "arr = np.empty(10)\n",
        "arr[4] = 1\n",
        "arr"
      ]
    },
    {
      "cell_type": "markdown",
      "metadata": {},
      "source": [
        "<Center>OR</center>"
      ]
    },
    {
      "cell_type": "code",
      "execution_count": 4,
      "metadata": {},
      "outputs": [
        {
          "data": {
            "text/plain": [
              "array([0., 0., 0., 0., 1., 0., 0., 0., 0., 0.])"
            ]
          },
          "execution_count": 4,
          "metadata": {},
          "output_type": "execute_result"
        }
      ],
      "source": [
        "arr = np.zeros(10)\n",
        "arr[4] = 1\n",
        "arr"
      ]
    },
    {
      "cell_type": "markdown",
      "metadata": {
        "id": "TEiG25rS6S1i"
      },
      "source": [
        "### `Q-2` Ask user to input two numbers a, b. Write a program to generate a random array of shape (a, b) and print the array and avg of the array."
      ]
    },
    {
      "cell_type": "code",
      "execution_count": null,
      "metadata": {
        "id": "ihwn4oOH6Vh7"
      },
      "outputs": [
        {
          "name": "stdout",
          "output_type": "stream",
          "text": [
            "[[0.87761651 0.69405498 0.45246326 0.86290569]\n",
            " [0.27126953 0.29112423 0.98187756 0.84142524]\n",
            " [0.40603395 0.81403336 0.90076434 0.67567766]\n",
            " [0.62689348 0.36897798 0.60179713 0.46285714]]\n",
            "The average of the array is :0.6331107523542383\n"
          ]
        }
      ],
      "source": [
        "# Code here\n",
        "a = int(input(\"Enter first number : \"))\n",
        "b = int(input(\"Enter second number : \"))\n",
        "\n",
        "arr = np.random.random((a, b))\n",
        "print(arr)\n",
        "print(f\"The average of the array is : {np.mean(arr)}\")"
      ]
    },
    {
      "cell_type": "markdown",
      "metadata": {
        "id": "2iEeybS06ZSq"
      },
      "source": [
        "### ` Q-3`Write a function to create a 2d array with 1 on the border and 0 inside. Take 2-D array shape as (a,b) as parameter to function.\n",
        "\n",
        "Eg.-\n",
        "```\n",
        "[[1,1,1,1],\n",
        "[1,0,0,1],\n",
        "[1,0,0,1],\n",
        "[1,1,1,1]]\n",
        "```"
      ]
    },
    {
      "cell_type": "code",
      "execution_count": 132,
      "metadata": {
        "id": "gEKndkDU6ZSs"
      },
      "outputs": [
        {
          "name": "stdout",
          "output_type": "stream",
          "text": [
            "[[1. 1. 1. 1.]\n",
            " [1. 0. 0. 1.]\n",
            " [1. 0. 0. 1.]\n",
            " [1. 1. 1. 1.]]\n"
          ]
        }
      ],
      "source": [
        "# Code here\n",
        "\n",
        "\n",
        "def create_matrix(a, b):\n",
        "    arr = np.zeros((a, b))\n",
        "    arr[0] = 1\n",
        "    arr[-1] = 1\n",
        "    arr[:, 0] = 1\n",
        "    arr[:, -1] = 1\n",
        "\n",
        "    return arr\n",
        "\n",
        "\n",
        "arr = create_matrix(4,4)\n",
        "print(arr)"
      ]
    },
    {
      "cell_type": "markdown",
      "metadata": {
        "id": "QRJicQ8j6ZlE"
      },
      "source": [
        "### `Q-4` Create a vector of size 10 with values ranging from 0 to 1, both excluded.\n"
      ]
    },
    {
      "cell_type": "code",
      "execution_count": null,
      "metadata": {
        "id": "eC4XLhDq6ZlF"
      },
      "outputs": [
        {
          "name": "stdout",
          "output_type": "stream",
          "text": [
            "[0.  0.1 0.2 0.3 0.4 0.5 0.6 0.7 0.8 0.9]\n"
          ]
        }
      ],
      "source": [
        "# Code here\n",
        "\n",
        "arr = np.linspace(0, 1, 10, endpoint=False)\n",
        "print(arr)"
      ]
    },
    {
      "cell_type": "markdown",
      "metadata": {},
      "source": [
        "<center>OR</center>\n"
      ]
    },
    {
      "cell_type": "code",
      "execution_count": null,
      "metadata": {},
      "outputs": [
        {
          "name": "stdout",
          "output_type": "stream",
          "text": [
            "Generated vector using random uniform: [0.65268375 0.55767956 0.40708466 0.06674903 0.87103202 0.24627858\n",
            " 0.5774888  0.27407173 0.34878231 0.98215984]\n"
          ]
        }
      ],
      "source": [
        "vector = np.random.uniform(0, 1, 10)\n",
        "\n",
        "print(\"Generated vector using random uniform:\", vector)"
      ]
    },
    {
      "cell_type": "markdown",
      "metadata": {
        "id": "vb4jK4yQ6Zs2"
      },
      "source": [
        "### `Q-5` Can you create a identity mattrix of shape (3,4). If yes write code for it."
      ]
    },
    {
      "cell_type": "code",
      "execution_count": 24,
      "metadata": {
        "id": "DTV_AbMS6Zs4"
      },
      "outputs": [
        {
          "name": "stdout",
          "output_type": "stream",
          "text": [
            "[[1. 0. 0. 0.]\n",
            " [0. 1. 0. 0.]\n",
            " [0. 0. 1. 0.]\n",
            " [0. 0. 0. 1.]]\n"
          ]
        }
      ],
      "source": [
        "# Code here\n",
        "\n",
        "arr = np.identity(4)\n",
        "print(arr)"
      ]
    },
    {
      "cell_type": "code",
      "execution_count": null,
      "metadata": {},
      "outputs": [],
      "source": [
        "# So we cannot create a identity matrix of 3*4 bcz identity matrix is square in shape"
      ]
    },
    {
      "cell_type": "markdown",
      "metadata": {
        "id": "QtjAFm5PEntK"
      },
      "source": [
        "### `Q-6:` Create a 5x5 matrix with row values ranging from 0 to 4."
      ]
    },
    {
      "cell_type": "code",
      "execution_count": null,
      "metadata": {},
      "outputs": [
        {
          "name": "stdout",
          "output_type": "stream",
          "text": [
            "[[0 1 2 3 4]\n",
            " [0 1 2 3 4]\n",
            " [0 1 2 3 4]\n",
            " [0 1 2 3 4]\n",
            " [0 1 2 3 4]]\n"
          ]
        }
      ],
      "source": [
        "arr = np.zeros((5, 5), dtype=np.int32)\n",
        "arr += np.arange(5)\n",
        "print(arr)"
      ]
    },
    {
      "cell_type": "markdown",
      "metadata": {
        "id": "KPpvxKjVHnyx"
      },
      "source": [
        "### `Q-7:`  Consider a random integer (in range 1 to 100) vector with shape `(10,2)` representing coordinates, and coordinates of a point as array is given. Create an array of distance of each point in the random vectros from the given point. Distance array should be interger type.\n",
        "\n",
        "```\n",
        "point = np.array([2,3])\n",
        "```\n"
      ]
    },
    {
      "cell_type": "code",
      "execution_count": null,
      "metadata": {
        "id": "X7KGnWLNIM6f"
      },
      "outputs": [
        {
          "name": "stdout",
          "output_type": "stream",
          "text": [
            "Random points:\n",
            "[[ 8 44]\n",
            " [51 78]\n",
            " [80 63]\n",
            " [50 41]\n",
            " [46 62]\n",
            " [41 95]\n",
            " [ 8 66]\n",
            " [68 88]\n",
            " [26  7]\n",
            " [18 39]]\n",
            "Given point : \n",
            "[2 3]\n",
            "Distances:\n",
            "[ 41  89  98  61  73  99  63 107  24  39]\n"
          ]
        }
      ],
      "source": [
        "# code here\n",
        "\n",
        "# Generate random vector of shape (10, 2) with integers in the range 1 to 100\n",
        "arr = np.random.randint(1, 101, size=(10, 2))\n",
        "print(\"Random points:\")\n",
        "print(arr)\n",
        "\n",
        "# Given point\n",
        "point = np.array([2, 3])\n",
        "print(\"Given point : \")\n",
        "print(point)\n",
        "\n",
        "# # Calculate the Euclidean distance from the given point to each point in the random vector\n",
        "distances = np.sqrt(np.sum((arr - point) ** 2, axis=1))\n",
        "\n",
        "# Convert the distances to integers\n",
        "distances = distances.astype(np.int32)\n",
        "\n",
        "print(\"Distances:\")\n",
        "print(distances)"
      ]
    },
    {
      "cell_type": "markdown",
      "metadata": {
        "id": "tajOFJlCDwTr"
      },
      "source": [
        "### `Q-8:` Consider a (6,7,8) shape array, what is the index (x,y,z) of the 100th element?"
      ]
    },
    {
      "cell_type": "code",
      "execution_count": null,
      "metadata": {
        "id": "qH4oxvs0D3Ra"
      },
      "outputs": [
        {
          "name": "stdout",
          "output_type": "stream",
          "text": [
            "(1, 5, 3)\n"
          ]
        }
      ],
      "source": [
        "# Code here\n",
        "\n",
        "count = 0\n",
        "flag = False\n",
        "for i in range(6):\n",
        "    for j in range(7):\n",
        "        for k in range(8):\n",
        "            count += 1\n",
        "            if count == 100:\n",
        "                print(f\"({i}, {j}, {k})\")\n",
        "                flag = True\n",
        "                break\n",
        "        if flag:\n",
        "            break\n",
        "    if flag:\n",
        "        break"
      ]
    },
    {
      "cell_type": "markdown",
      "metadata": {},
      "source": [
        "<center>OR</center>"
      ]
    },
    {
      "cell_type": "code",
      "execution_count": null,
      "metadata": {},
      "outputs": [
        {
          "data": {
            "text/plain": [
              "(1, 5, 3)"
            ]
          },
          "execution_count": 20,
          "metadata": {},
          "output_type": "execute_result"
        }
      ],
      "source": [
        "index = 99\n",
        "shape = (6, 7, 8)\n",
        "\n",
        "ans_index = np.unravel_index(index, shape)\n",
        "ans_index"
      ]
    },
    {
      "cell_type": "code",
      "execution_count": null,
      "metadata": {},
      "outputs": [
        {
          "name": "stdout",
          "output_type": "stream",
          "text": [
            "[[[0. 0. 0. 0. 0. 0. 0. 0.]\n",
            "  [0. 0. 0. 0. 0. 0. 0. 0.]\n",
            "  [0. 0. 0. 0. 0. 0. 0. 0.]\n",
            "  [0. 0. 0. 0. 0. 0. 0. 0.]\n",
            "  [0. 0. 0. 0. 0. 0. 0. 0.]\n",
            "  [0. 0. 0. 0. 0. 0. 0. 0.]\n",
            "  [0. 0. 0. 0. 0. 0. 0. 0.]]\n",
            "\n",
            " [[0. 0. 0. 0. 0. 0. 0. 0.]\n",
            "  [0. 0. 0. 0. 0. 0. 0. 0.]\n",
            "  [0. 0. 0. 0. 0. 0. 0. 0.]\n",
            "  [0. 0. 0. 0. 0. 0. 0. 0.]\n",
            "  [0. 0. 0. 0. 0. 0. 0. 0.]\n",
            "  [0. 0. 0. 0. 0. 0. 0. 0.]\n",
            "  [0. 0. 0. 0. 0. 0. 0. 0.]]\n",
            "\n",
            " [[0. 0. 0. 0. 0. 0. 0. 0.]\n",
            "  [0. 0. 0. 0. 0. 0. 0. 0.]\n",
            "  [0. 0. 0. 0. 0. 0. 0. 0.]\n",
            "  [0. 0. 0. 0. 0. 0. 0. 0.]\n",
            "  [0. 0. 0. 0. 0. 0. 0. 0.]\n",
            "  [0. 0. 0. 0. 0. 0. 0. 0.]\n",
            "  [0. 0. 0. 0. 0. 0. 0. 0.]]\n",
            "\n",
            " [[0. 0. 0. 0. 0. 0. 0. 0.]\n",
            "  [0. 0. 0. 0. 0. 0. 0. 0.]\n",
            "  [0. 0. 0. 0. 0. 0. 0. 0.]\n",
            "  [0. 0. 0. 0. 0. 0. 0. 0.]\n",
            "  [0. 0. 0. 0. 0. 0. 0. 0.]\n",
            "  [0. 0. 0. 0. 0. 0. 0. 0.]\n",
            "  [0. 0. 0. 0. 0. 0. 0. 0.]]\n",
            "\n",
            " [[0. 0. 0. 0. 0. 0. 0. 0.]\n",
            "  [0. 0. 0. 0. 0. 0. 0. 0.]\n",
            "  [0. 0. 0. 0. 0. 0. 0. 0.]\n",
            "  [0. 0. 0. 0. 0. 0. 0. 0.]\n",
            "  [0. 0. 0. 0. 0. 0. 0. 0.]\n",
            "  [0. 0. 0. 0. 0. 0. 0. 0.]\n",
            "  [0. 0. 0. 0. 0. 0. 0. 0.]]\n",
            "\n",
            " [[0. 0. 0. 0. 0. 0. 0. 0.]\n",
            "  [0. 0. 0. 0. 0. 0. 0. 0.]\n",
            "  [0. 0. 0. 0. 0. 0. 0. 0.]\n",
            "  [0. 0. 0. 0. 0. 0. 0. 0.]\n",
            "  [0. 0. 0. 0. 0. 0. 0. 0.]\n",
            "  [0. 0. 0. 0. 0. 0. 0. 0.]\n",
            "  [0. 0. 0. 0. 0. 0. 0. 0.]]]\n",
            "****************************************************************************************************\n",
            "[[[0. 0. 0. 0. 0. 0. 0. 0.]\n",
            "  [0. 0. 0. 0. 0. 0. 0. 0.]\n",
            "  [0. 0. 0. 0. 0. 0. 0. 0.]\n",
            "  [0. 0. 0. 0. 0. 0. 0. 0.]\n",
            "  [0. 0. 0. 0. 0. 0. 0. 0.]\n",
            "  [0. 0. 0. 0. 0. 0. 0. 0.]\n",
            "  [0. 0. 0. 0. 0. 0. 0. 0.]]\n",
            "\n",
            " [[0. 0. 0. 0. 0. 0. 0. 0.]\n",
            "  [0. 0. 0. 0. 0. 0. 0. 0.]\n",
            "  [0. 0. 0. 0. 0. 0. 0. 0.]\n",
            "  [0. 0. 0. 0. 0. 0. 0. 0.]\n",
            "  [0. 0. 0. 0. 0. 0. 0. 0.]\n",
            "  [0. 0. 0. 1. 0. 0. 0. 0.]\n",
            "  [0. 0. 0. 0. 0. 0. 0. 0.]]\n",
            "\n",
            " [[0. 0. 0. 0. 0. 0. 0. 0.]\n",
            "  [0. 0. 0. 0. 0. 0. 0. 0.]\n",
            "  [0. 0. 0. 0. 0. 0. 0. 0.]\n",
            "  [0. 0. 0. 0. 0. 0. 0. 0.]\n",
            "  [0. 0. 0. 0. 0. 0. 0. 0.]\n",
            "  [0. 0. 0. 0. 0. 0. 0. 0.]\n",
            "  [0. 0. 0. 0. 0. 0. 0. 0.]]\n",
            "\n",
            " [[0. 0. 0. 0. 0. 0. 0. 0.]\n",
            "  [0. 0. 0. 0. 0. 0. 0. 0.]\n",
            "  [0. 0. 0. 0. 0. 0. 0. 0.]\n",
            "  [0. 0. 0. 0. 0. 0. 0. 0.]\n",
            "  [0. 0. 0. 0. 0. 0. 0. 0.]\n",
            "  [0. 0. 0. 0. 0. 0. 0. 0.]\n",
            "  [0. 0. 0. 0. 0. 0. 0. 0.]]\n",
            "\n",
            " [[0. 0. 0. 0. 0. 0. 0. 0.]\n",
            "  [0. 0. 0. 0. 0. 0. 0. 0.]\n",
            "  [0. 0. 0. 0. 0. 0. 0. 0.]\n",
            "  [0. 0. 0. 0. 0. 0. 0. 0.]\n",
            "  [0. 0. 0. 0. 0. 0. 0. 0.]\n",
            "  [0. 0. 0. 0. 0. 0. 0. 0.]\n",
            "  [0. 0. 0. 0. 0. 0. 0. 0.]]\n",
            "\n",
            " [[0. 0. 0. 0. 0. 0. 0. 0.]\n",
            "  [0. 0. 0. 0. 0. 0. 0. 0.]\n",
            "  [0. 0. 0. 0. 0. 0. 0. 0.]\n",
            "  [0. 0. 0. 0. 0. 0. 0. 0.]\n",
            "  [0. 0. 0. 0. 0. 0. 0. 0.]\n",
            "  [0. 0. 0. 0. 0. 0. 0. 0.]\n",
            "  [0. 0. 0. 0. 0. 0. 0. 0.]]]\n"
          ]
        }
      ],
      "source": [
        "# verification\n",
        "\n",
        "arr = np.zeros((6, 7, 8))\n",
        "\n",
        "print(arr)\n",
        "\n",
        "arr[1, 5, 3] = 1\n",
        "print(\"*\" * 100)\n",
        "print(arr)"
      ]
    },
    {
      "cell_type": "markdown",
      "metadata": {
        "id": "9LxBAbT2Pw33"
      },
      "source": [
        "### `Q-9:` Arrays\n",
        "\n",
        "You are given a space separated list of numbers. Your task is to print a reversed NumPy array with the element type float.\n",
        "\n"
      ]
    },
    {
      "cell_type": "markdown",
      "metadata": {
        "id": "JJpqVms2Nq7L"
      },
      "source": [
        "**Input Format:**\n",
        "\n",
        "A single line of input containing space separated numbers.\n",
        "\n",
        "**Output Format:**\n",
        "\n",
        "Print the reverse NumPy array with type float.\n",
        "\n",
        "**Example 1:**\n",
        "\n",
        "Input:\n",
        "\n",
        "```bash\n",
        "1 2 3 4 -8 -10\n",
        "```\n",
        "\n",
        "Output:\n",
        "\n",
        "```bash\n",
        "[-10.  -8.   4.   3.   2.   1.]\n",
        "```"
      ]
    },
    {
      "cell_type": "code",
      "execution_count": null,
      "metadata": {
        "id": "7iQyg6ChNl3j"
      },
      "outputs": [
        {
          "name": "stdout",
          "output_type": "stream",
          "text": [
            "[-10.  -8.   4.   3.   2.   1.]\n"
          ]
        }
      ],
      "source": [
        "# Code here\n",
        "\n",
        "input_line = input(\"Enter space-separated numbers: \")\n",
        "\n",
        "numbers = list(map(int, input_line.split()))\n",
        "\n",
        "np_array = np.array(numbers)\n",
        "\n",
        "reversed_array = np_array[::-1].astype(float)\n",
        "\n",
        "print(reversed_array)"
      ]
    },
    {
      "cell_type": "markdown",
      "metadata": {
        "id": "TPxD7jM8Sjz9"
      },
      "source": [
        "### `Q-10:` Elements count\n",
        "\n",
        "Count the number of elements of a numpy array.\n",
        "\n"
      ]
    },
    {
      "cell_type": "markdown",
      "metadata": {
        "id": "oHTiTz_jNkAU"
      },
      "source": [
        "**Example 1:**\n",
        "\n",
        "Input:\n",
        "```bash\n",
        "np.array([])\n",
        "```\n",
        "\n",
        "Output:\n",
        "```bash\n",
        "elements_count :  0\n",
        "```\n",
        "\n",
        "**Example 2:**\n",
        "\n",
        "Input:\n",
        "```bash\n",
        "np.array([1, 2])\n",
        "```\n",
        "\n",
        "Output:\n",
        "```bash\n",
        "elements_count :  2\n",
        "```"
      ]
    },
    {
      "cell_type": "code",
      "execution_count": 32,
      "metadata": {
        "id": "RG0H2I-TNeGN"
      },
      "outputs": [
        {
          "name": "stdout",
          "output_type": "stream",
          "text": [
            "0\n"
          ]
        }
      ],
      "source": [
        "# Code here\n",
        "\n",
        "arr = np.array([])\n",
        "\n",
        "print(len(arr))"
      ]
    },
    {
      "cell_type": "markdown",
      "metadata": {},
      "source": [
        "<center>OR</center>"
      ]
    },
    {
      "cell_type": "code",
      "execution_count": 34,
      "metadata": {},
      "outputs": [
        {
          "name": "stdout",
          "output_type": "stream",
          "text": [
            "0\n"
          ]
        }
      ],
      "source": [
        "print(arr.size)"
      ]
    },
    {
      "cell_type": "markdown",
      "metadata": {},
      "source": [
        "In the context of NumPy arrays, both `len()` and `arr.size` can be used to get the size of an array, but they serve different purposes and behave differently depending on the type of array you're working with. Let's explore both in detail:\n",
        "\n",
        "### 1. **`len()`**\n",
        "- **`len(arr)`** returns the length of the first dimension (axis 0) of the array. For a 1D array, this gives the total number of elements. However, for a multi-dimensional array, it will only give you the number of elements along the first axis (the number of rows in a 2D array, for example).\n",
        "- **For 1D arrays**: `len()` will give the total number of elements.\n",
        "- **For 2D or higher-dimensional arrays**: `len()` only gives the size of the first dimension (rows for a 2D array).\n",
        "\n",
        "### 2. **`arr.size`**\n",
        "- **`arr.size`** returns the **total number of elements** in the array, regardless of its shape. It calculates the product of the dimensions of the array. This works universally for all array shapes.\n",
        "  \n",
        "### Example:\n",
        "\n",
        "```python\n",
        "import numpy as np\n",
        "\n",
        "# Create an empty 1D array\n",
        "arr = np.array([])\n",
        "\n",
        "print(\"len(arr):\", len(arr))        # Length of the first dimension (rows)\n",
        "print(\"arr.size:\", arr.size)        # Total number of elements\n",
        "```\n",
        "\n",
        "#### Output:\n",
        "```\n",
        "len(arr): 0\n",
        "arr.size: 0\n",
        "```\n",
        "\n",
        "Both `len(arr)` and `arr.size` return `0` for an empty array because there are no elements in the array. However, the difference becomes more noticeable with non-empty arrays.\n",
        "\n",
        "### Example with 2D array:\n",
        "\n",
        "```python\n",
        "arr_2d = np.array([[1, 2, 3], [4, 5, 6]])\n",
        "\n",
        "print(\"len(arr_2d):\", len(arr_2d))      # Length of the first dimension (rows)\n",
        "print(\"arr_2d.size:\", arr_2d.size)      # Total number of elements\n",
        "```\n",
        "\n",
        "#### Output:\n",
        "```\n",
        "len(arr_2d): 2\n",
        "arr_2d.size: 6\n",
        "```\n",
        "\n",
        "- **`len(arr_2d)`** gives the number of rows (which is `2`), because it looks at the first dimension.\n",
        "- **`arr_2d.size`** gives the total number of elements (`6`), which is the product of the dimensions (2 rows * 3 columns).\n",
        "\n",
        "### **Which one is better?**\n",
        "\n",
        "- **`len()`** is more useful when you are specifically interested in the size of the first dimension (e.g., number of rows in a 2D array).\n",
        "- **`arr.size`** is better if you want to get the total number of elements in the array, regardless of the number of dimensions.\n",
        "\n",
        "For general use, **`arr.size`** is more versatile because it works consistently across arrays of any shape, while `len()` is limited to the first dimension.\n",
        "\n",
        "### Conclusion:\n",
        "- **`arr.size`** is the better option when you need the total number of elements in the array.\n",
        "- **`len(arr)`** is useful when you specifically need the length of the first dimension (i.e., the number of rows in a 2D array)."
      ]
    },
    {
      "cell_type": "code",
      "execution_count": null,
      "metadata": {},
      "outputs": [],
      "source": []
    },
    {
      "cell_type": "code",
      "execution_count": null,
      "metadata": {},
      "outputs": [],
      "source": []
    },
    {
      "cell_type": "markdown",
      "metadata": {
        "id": "pwgPz-3l5ic5"
      },
      "source": [
        "### `Q-11:` Softmax function\n",
        "\n",
        "Create a Python function to calculate the Softmax of the given numpy 1D array. The function only accepts the numpy 1D array, otherwise raise error.\n",
        "\n",
        "$$\\Large \\sigma(\\vec z)_i = \\frac{e^{z_i}}{\\sum_{j=i}^{K}{e^{z_j}}}$$\n",
        "\n",
        "https://en.wikipedia.org/wiki/Softmax_function\n",
        "\n"
      ]
    },
    {
      "cell_type": "markdown",
      "metadata": {
        "id": "eZ3WJt6UM1ul"
      },
      "source": [
        "**Example 1:**\n",
        "\n",
        "Input:\n",
        "```bash\n",
        "[86.03331084 37.7285648  48.64908087 87.16563062 38.40852563 37.20006318]\n",
        "```\n",
        "\n",
        "Output:\n",
        "```bash\n",
        "[2.43733249e-01, 2.56112115e-22, 1.41628284e-17, 7.56266751e-01,\n",
        "       5.05514197e-22, 1.50974911e-22]\n",
        "```\n",
        "\n",
        "**Example 2:**\n",
        "\n",
        "Input:\n",
        "```bash\n",
        "[33.17344305 45.61961654 82.05405781 80.9647098  68.82830233 91.52064278]\n",
        "```\n",
        "\n",
        "Output:\n",
        "```bash\n",
        "[4.57181035e-26, 1.16249923e-20, 7.73872596e-05, 2.60358426e-05,\n",
        "       1.39571531e-10, 9.99896577e-01]\n",
        "```"
      ]
    },
    {
      "cell_type": "code",
      "execution_count": null,
      "metadata": {
        "id": "VNzj05lkNaNi"
      },
      "outputs": [
        {
          "name": "stdout",
          "output_type": "stream",
          "text": [
            "Softmax\n",
            "[2.43733248e-01 2.56112114e-22 1.41628283e-17 7.56266752e-01\n",
            " 5.05514197e-22 1.50974911e-22]\n"
          ]
        }
      ],
      "source": [
        "# Code here\n",
        "\n",
        "\n",
        "def softmax(arr):\n",
        "    if not isinstance(arr, np.ndarray):\n",
        "        raise TypeError(\"Input must be a numpy array.\")\n",
        "    elif arr.ndim != 1:\n",
        "        raise ValueError(\"Input must be a 1D numpy array.\")\n",
        "\n",
        "    return np.exp(arr) / np.sum(np.exp(arr))\n",
        "\n",
        "\n",
        "arr = np.array(\n",
        "    [86.03331084, 37.7285648, 48.64908087, 87.16563062, 38.40852563, 37.20006318]\n",
        ")\n",
        "\n",
        "softmax_output = softmax(arr)\n",
        "print(\"Softmax\")\n",
        "print(softmax_output)"
      ]
    },
    {
      "cell_type": "markdown",
      "metadata": {
        "id": "k4JWSwWu_HXg"
      },
      "source": [
        "### `Q-12:` Vertical stack\n",
        "\n",
        "Write a python function that accepts infinite number of numpy arrays and do the vertical stack to them. Then return that new array as result. The function only accepts the numpy array, otherwise raise error.\n",
        "\n"
      ]
    },
    {
      "cell_type": "markdown",
      "metadata": {
        "id": "XhhV3mraNAWr"
      },
      "source": [
        "**Example 1:**\n",
        "\n",
        "Input:\n",
        "```bash\n",
        "a= [[0 1 2 3 4]\n",
        " [5 6 7 8 9]]\n",
        "\n",
        "b= [[1 1 1 1 1]\n",
        " [1 1 1 1 1]]\n",
        "```\n",
        "\n",
        "Output:\n",
        "\n",
        "```bash\n",
        "[[0 1 2 3 4]\n",
        " [5 6 7 8 9]\n",
        " [1 1 1 1 1]\n",
        " [1 1 1 1 1]]\n",
        "```\n",
        "\n",
        "**Example 2:**\n",
        "\n",
        "Input:\n",
        "```bash\n",
        "a= [[0 1 2 3 4]\n",
        " [5 6 7 8 9]]\n",
        "\n",
        "b= [[1 1 1 1 1]\n",
        " [1 1 1 1 1]]\n",
        "\n",
        "c= [[0.10117373 0.1677244  0.73764059 0.83166097 0.48985695]\n",
        " [0.44581567 0.13502419 0.55692335 0.16479622 0.61193593]]\n",
        "```\n",
        "\n",
        "Output:\n",
        "```bash\n",
        "[[0.         1.         2.         3.         4.        ]\n",
        " [5.         6.         7.         8.         9.        ]\n",
        " [1.         1.         1.         1.         1.        ]\n",
        " [1.         1.         1.         1.         1.        ]\n",
        " [0.10117373 0.1677244  0.73764059 0.83166097 0.48985695]\n",
        " [0.44581567 0.13502419 0.55692335 0.16479622 0.61193593]]\n",
        "```"
      ]
    },
    {
      "cell_type": "code",
      "execution_count": null,
      "metadata": {
        "id": "dhtnbSj6NP8z"
      },
      "outputs": [
        {
          "name": "stdout",
          "output_type": "stream",
          "text": [
            "[[0.         1.         2.         3.         4.        ]\n",
            " [5.         6.         7.         8.         9.        ]\n",
            " [1.         1.         1.         1.         1.        ]\n",
            " [1.         1.         1.         1.         1.        ]\n",
            " [0.10117373 0.1677244  0.73764059 0.83166097 0.48985695]\n",
            " [0.44581567 0.13502419 0.55692335 0.16479622 0.61193593]]\n"
          ]
        }
      ],
      "source": [
        "# Code here\n",
        "\n",
        "\n",
        "def vstacking(*arrays):\n",
        "    \"\"\"Stacks the input arrays vertically.\"\"\"\n",
        "\n",
        "    for arr in arrays:\n",
        "        if not isinstance(arr, np.ndarray):\n",
        "            raise TypeError(\"All inputs must be numpy arrays.\")\n",
        "    return np.vstack(arrays)\n",
        "\n",
        "\n",
        "a = np.array([[0, 1, 2, 3, 4], [5, 6, 7, 8, 9]])\n",
        "\n",
        "b = np.array([[1, 1, 1, 1, 1], [1, 1, 1, 1, 1]])\n",
        "\n",
        "c = np.array(\n",
        "    [\n",
        "        [0.10117373, 0.1677244, 0.73764059, 0.83166097, 0.48985695],\n",
        "        [0.44581567, 0.13502419, 0.55692335, 0.16479622, 0.61193593],\n",
        "    ]\n",
        ")\n",
        "\n",
        "result_array = vstacking(a, b, c)\n",
        "print(result_array)"
      ]
    },
    {
      "cell_type": "markdown",
      "metadata": {
        "id": "3mk8T6CuC2DP"
      },
      "source": [
        "### `Q-13:` Dates\n",
        "\n",
        "Create a python function named **date_array** that accepts two dates as string format and returns a numpy array of dates between those 2 dates. The function only accept 2 strings, otherwise raise error. The date format should be like this only: `2022-12-6`. The end date should be included and for simplicity, choose dates from a same year.\n",
        "\n"
      ]
    },
    {
      "cell_type": "markdown",
      "metadata": {
        "id": "E3IgjnTTNFEk"
      },
      "source": [
        "**Example 1:**\n",
        "\n",
        "Input:\n",
        "```bash\n",
        "date_array(start = '2020-09-15', end = '2020-09-25')\n",
        "```\n",
        "\n",
        "Output:\n",
        "```bash\n",
        "['2020-09-15', '2020-09-16', '2020-09-17', '2020-09-18',\n",
        " '2020-09-19', '2020-09-20', '2020-09-21', '2020-09-22',\n",
        " '2020-09-23', '2020-09-24', '2020-09-25']\n",
        "```\n",
        "\n",
        "**Example 2:**\n",
        "\n",
        "Input:\n",
        "```bash\n",
        "date_array(start = '2022-12-01', end = '2022-12-06')\n",
        "```\n",
        "\n",
        "Output:\n",
        "```bash\n",
        "['2022-12-01', '2022-12-02', '2022-12-03', '2022-12-04', '2022-12-05', '2022-12-06']\n",
        "```\n",
        "\n",
        "**Example 3:**\n",
        "\n",
        "Input:\n",
        "```bash\n",
        "date_array(start = '2020-11-25', end = '2020-11-30')\n",
        "```\n",
        "\n",
        "Output:\n",
        "```bash\n",
        "['2020-11-25', '2020-11-26', '2020-11-27', '2020-11-28',\n",
        " '2020-11-29', '2020-11-30']\n",
        "```"
      ]
    },
    {
      "cell_type": "code",
      "execution_count": null,
      "metadata": {
        "id": "Yj5PBfQQNTnL"
      },
      "outputs": [
        {
          "name": "stdout",
          "output_type": "stream",
          "text": [
            "['2020-09-15' '2020-09-16' '2020-09-17' '2020-09-18' '2020-09-19'\n",
            " '2020-09-20' '2020-09-21' '2020-09-22' '2020-09-23' '2020-09-24'\n",
            " '2020-09-25']\n"
          ]
        }
      ],
      "source": [
        "# Code here\n",
        "\n",
        "\n",
        "def date_array(start, end):\n",
        "    if not isinstance(start, str) and isinstance(end, str):\n",
        "        raise TypeError(\"Both inputs must be strings in the format YYYY-MM-DD\")\n",
        "\n",
        "    try:\n",
        "        start_date = np.datetime64(start, \"D\")\n",
        "        end_date = np.datetime64(end, \"D\")\n",
        "    except Exception as e:\n",
        "        raise ValueError(\"Invalid date format. Use YYYY-MM-DD\") from e\n",
        "    else:\n",
        "        dates = np.arange(\n",
        "            start_date, end_date + np.timedelta64(1, \"D\"), np.timedelta64(1, \"D\")\n",
        "        )\n",
        "\n",
        "    return dates\n",
        "\n",
        "\n",
        "start = \"2020-09-15\"\n",
        "end = \"2020-09-25\"\n",
        "print(date_array(start, end))"
      ]
    },
    {
      "cell_type": "code",
      "execution_count": null,
      "metadata": {},
      "outputs": [],
      "source": []
    },
    {
      "cell_type": "markdown",
      "metadata": {},
      "source": [
        "Below is one complete solution using NumPy only. This solution does the following:\n",
        "\n",
        "1. **Validates Input:**  \n",
        "   - Checks that both inputs are strings.\n",
        "   - Attempts to convert the strings to NumPy datetime64 objects with day resolution.\n",
        "   - Optionally verifies that both dates are in the same year (as per the problem requirement).\n",
        "\n",
        "2. **Creates the Date Array:**  \n",
        "   - Uses `np.arange` with a step of 1 day (`np.timedelta64(1, 'D')`) from the start date to the end date + 1 day (since `arange` is exclusive on the stop value).\n",
        "   - Converts the resulting array to strings using `np.datetime_as_string`.\n",
        "\n",
        "Here’s the code:\n",
        "\n",
        "```python\n",
        "import numpy as np\n",
        "\n",
        "def date_array(start, end):\n",
        "    # Ensure both inputs are strings\n",
        "    if not (isinstance(start, str) and isinstance(end, str)):\n",
        "        raise TypeError(\"Both inputs must be strings in the format YYYY-MM-DD\")\n",
        "    \n",
        "    try:\n",
        "        # Convert the input strings to numpy datetime64 objects (with day resolution)\n",
        "        start_date = np.datetime64(start, 'D')\n",
        "        end_date = np.datetime64(end, 'D')\n",
        "    except Exception as e:\n",
        "        raise ValueError(\"Invalid date format. Use YYYY-MM-DD\") from e\n",
        "    \n",
        "    # Optional: ensure the dates are in the same year\n",
        "    if start_date.astype('datetime64[Y]') != end_date.astype('datetime64[Y]'):\n",
        "        raise ValueError(\"Both dates must be in the same year.\")\n",
        "    \n",
        "    # Create an array of dates from start_date to end_date (inclusive)\n",
        "    dates = np.arange(start_date, end_date + np.timedelta64(1, 'D'), np.timedelta64(1, 'D'))\n",
        "    \n",
        "    # Convert the datetime64 array to an array of strings (if needed)\n",
        "    return np.datetime_as_string(dates, unit='D')\n",
        "\n",
        "\n",
        "# Example usage:\n",
        "\n",
        "print(date_array('2020-09-15', '2020-09-25'))\n",
        "# Output:\n",
        "# ['2020-09-15' '2020-09-16' '2020-09-17' '2020-09-18' '2020-09-19'\n",
        "#  '2020-09-20' '2020-09-21' '2020-09-22' '2020-09-23' '2020-09-24'\n",
        "#  '2020-09-25']\n",
        "\n",
        "print(date_array('2022-12-01', '2022-12-06'))\n",
        "# Output:\n",
        "# ['2022-12-01' '2022-12-02' '2022-12-03' '2022-12-04' '2022-12-05'\n",
        "#  '2022-12-06']\n",
        "\n",
        "print(date_array('2020-11-25', '2020-11-30'))\n",
        "# Output:\n",
        "# ['2020-11-25' '2020-11-26' '2020-11-27' '2020-11-28' '2020-11-29'\n",
        "#  '2020-11-30']\n",
        "```\n",
        "\n",
        "### Explanation\n",
        "\n",
        "- **Input Validation:**  \n",
        "  The function first ensures that both `start` and `end` are strings. If not, it raises a `TypeError`.\n",
        "\n",
        "- **Date Conversion:**  \n",
        "  The strings are converted into `np.datetime64` objects (with unit `'D'` for day). If conversion fails (e.g., due to wrong format), a `ValueError` is raised.\n",
        "\n",
        "- **Same-Year Check:**  \n",
        "  The dates are converted to year-level resolution (using `astype('datetime64[Y]')`) to ensure they belong to the same year. If not, a `ValueError` is raised.\n",
        "\n",
        "- **Date Range Generation:**  \n",
        "  The function uses `np.arange` to generate dates from `start_date` up to (and including) `end_date`. Since `np.arange` is exclusive on the end, we add one day to include the end date.\n",
        "\n",
        "- **Conversion to String:**  \n",
        "  Finally, `np.datetime_as_string` converts the datetime array into an array of strings.\n",
        "\n",
        "This solution uses only NumPy to perform all operations and meets the requirements of the question. Enjoy coding!"
      ]
    },
    {
      "cell_type": "markdown",
      "metadata": {},
      "source": [
        "`numpy.datetime64` is a NumPy data type designed to represent dates and times in a compact and efficient way, especially when you need to perform vectorized operations over large datasets. Let’s break down its features and how it works, particularly in the context of the code you saw:\n",
        "\n",
        "---\n",
        "\n",
        "### **1. What is `numpy.datetime64`?**\n",
        "\n",
        "- **Representation:**  \n",
        "  `numpy.datetime64` stores dates (and optionally times) in a fixed, precise format. Unlike Python’s built-in `datetime` module, it is implemented in C, which makes it very efficient for array operations.\n",
        "\n",
        "- **Precision:**  \n",
        "  When you create a `numpy.datetime64` object, you can specify the precision (or “unit”) of the time data. Common units include:\n",
        "  - **`'Y'`** for year,\n",
        "  - **`'M'`** for month,\n",
        "  - **`'D'`** for day,\n",
        "  - **`'h'`** for hour,\n",
        "  - **`'m'`** for minute,\n",
        "  - **`'s'`** for second, etc.\n",
        "\n",
        "  For example, if you write:\n",
        "  ```python\n",
        "  np.datetime64('2020-09-15', 'D')\n",
        "  ```\n",
        "  it represents September 15, 2020, with a day-level resolution (ignoring any time information).\n",
        "\n",
        "---\n",
        "\n",
        "### **2. How do you create and use `numpy.datetime64`?**\n",
        "\n",
        "- **Creation:**  \n",
        "  You can convert a date string to a `datetime64` object by passing the string to `np.datetime64`:\n",
        "  ```python\n",
        "  date = np.datetime64('2020-09-15')\n",
        "  ```\n",
        "  By default, if you don't specify a unit, NumPy uses a default (often `'D'` for dates).\n",
        "\n",
        "- **Arithmetic with Dates:**  \n",
        "  You can perform arithmetic with `numpy.datetime64` objects. For example, to add one day, you use a `numpy.timedelta64` object:\n",
        "  ```python\n",
        "  one_day = np.timedelta64(1, 'D')\n",
        "  next_day = date + one_day  # This gives you 2020-09-16 as a datetime64 object.\n",
        "  ```\n",
        "\n",
        "- **Generating Ranges of Dates:**  \n",
        "  One of the powerful features is using `np.arange` to generate a range of dates. For example:\n",
        "  ```python\n",
        "  start_date = np.datetime64('2020-09-15', 'D')\n",
        "  end_date = np.datetime64('2020-09-25', 'D')\n",
        "  dates = np.arange(start_date, end_date + np.timedelta64(1, 'D'), np.timedelta64(1, 'D'))\n",
        "  ```\n",
        "  Here, `np.arange` creates an array of dates starting from `start_date` up to (but not including) `end_date + 1 day`. This ensures the end date is included in the resulting array.\n",
        "\n",
        "- **Conversion to String:**  \n",
        "  Often, you might want to display these dates as strings. You can use `np.datetime_as_string` to convert the `datetime64` array back into an array of formatted strings:\n",
        "  ```python\n",
        "  dates_str = np.datetime_as_string(dates, unit='D')\n",
        "  ```\n",
        "\n",
        "---\n",
        "\n",
        "### **3. How Does This Relate to Your Code?**\n",
        "\n",
        "In your function `date_array`, the process is:\n",
        "1. **Input Validation:**  \n",
        "   The function ensures that the inputs are strings in the expected format.\n",
        "\n",
        "2. **Conversion:**  \n",
        "   It converts the input strings into `numpy.datetime64` objects using a day-level resolution (the `'D'` unit). This makes sure that only the date part is used, not the time.\n",
        "\n",
        "3. **Generating the Range:**  \n",
        "   `np.arange` is used with a step of one day (`np.timedelta64(1, 'D')`). This creates an array of dates from the start date up to and including the end date.\n",
        "\n",
        "4. **Final Conversion:**  \n",
        "   The resulting array of `datetime64` objects is converted to strings for easier reading.\n",
        "\n",
        "---\n",
        "\n",
        "### **Example in Context:**\n",
        "\n",
        "```python\n",
        "import numpy as np\n",
        "\n",
        "def date_array(start, end):\n",
        "    # Convert input strings to datetime64 objects with day precision\n",
        "    start_date = np.datetime64(start, 'D')\n",
        "    end_date = np.datetime64(end, 'D')\n",
        "    \n",
        "    # Generate dates from start_date to end_date (inclusive)\n",
        "    dates = np.arange(start_date, end_date + np.timedelta64(1, 'D'), np.timedelta64(1, 'D'))\n",
        "    \n",
        "    # Convert the datetime64 array to an array of strings\n",
        "    return np.datetime_as_string(dates, unit='D')\n",
        "\n",
        "# Usage:\n",
        "result = date_array('2020-09-15', '2020-09-25')\n",
        "print(result)\n",
        "```\n",
        "\n",
        "This will output:\n",
        "```\n",
        "['2020-09-15' '2020-09-16' '2020-09-17' '2020-09-18' '2020-09-19'\n",
        " '2020-09-20' '2020-09-21' '2020-09-22' '2020-09-23' '2020-09-24'\n",
        " '2020-09-25']\n",
        "```\n",
        "\n",
        "---\n",
        "\n",
        "### **Summary**\n",
        "\n",
        "- **`numpy.datetime64`** is a specialized data type for handling dates and times efficiently in NumPy.\n",
        "- It supports arithmetic operations when paired with `numpy.timedelta64`.\n",
        "- You can create ranges of dates using functions like `np.arange`.\n",
        "- In your code, it allows you to convert date strings into date objects, generate a sequence of dates, and then convert that sequence back to readable strings.\n",
        "\n",
        "This should help clarify how `numpy.datetime64` works and how it is used in the provided code!"
      ]
    },
    {
      "cell_type": "code",
      "execution_count": null,
      "metadata": {},
      "outputs": [],
      "source": []
    },
    {
      "cell_type": "markdown",
      "metadata": {
        "id": "bcEp0wTWQijK"
      },
      "source": [
        "### `Q-14:` Subtract the mean of each row from a matrix."
      ]
    },
    {
      "cell_type": "code",
      "execution_count": null,
      "metadata": {
        "id": "rpILVGcgQzMo"
      },
      "outputs": [
        {
          "name": "stdout",
          "output_type": "stream",
          "text": [
            "[[2.]\n",
            " [5.]\n",
            " [8.]]\n"
          ]
        },
        {
          "data": {
            "text/plain": [
              "array([[-1.,  0.,  1.],\n",
              "       [-1.,  0.,  1.],\n",
              "       [-1.,  0.,  1.]])"
            ]
          },
          "execution_count": 85,
          "metadata": {},
          "output_type": "execute_result"
        }
      ],
      "source": [
        "# code here\n",
        "\n",
        "matrix = np.array([[1, 2, 3], [4, 5, 6], [7, 8, 9]])\n",
        "\n",
        "mean_matrix = np.mean(matrix, axis=1, keepdims=True)\n",
        "print(mean_matrix)\n",
        "\n",
        "matrix = matrix - mean_matrix\n",
        "matrix"
      ]
    },
    {
      "cell_type": "markdown",
      "metadata": {},
      "source": [
        "The issue is with the shape of `mean_matrix`. When you compute the mean without keeping dimensions, you get a 1D array of shape `(3,)` rather than a 2D column vector of shape `(3,1)`. In your subtraction, NumPy will broadcast the 1D array across the columns, subtracting the same three values from every row rather than subtracting each row's mean from that row.\n",
        "\n",
        "To fix this, you should compute the row means with `keepdims=True` so that the resulting array retains a second dimension and can be broadcast correctly.\n",
        "\n",
        "For example, change:\n",
        "\n",
        "```python\n",
        "mean_matrix = np.mean(matrix, axis=1)\n",
        "```\n",
        "\n",
        "to:\n",
        "\n",
        "```python\n",
        "mean_matrix = np.mean(matrix, axis=1, keepdims=True)\n",
        "```\n",
        "\n",
        "Then, subtracting will work as intended:\n",
        "\n",
        "```python\n",
        "import numpy as np\n",
        "\n",
        "matrix = np.array([[1, 2, 3],\n",
        "                   [4, 5, 6],\n",
        "                   [7, 8, 9]])\n",
        "\n",
        "mean_matrix = np.mean(matrix, axis=1, keepdims=True)\n",
        "print(\"Row means:\\n\", mean_matrix)\n",
        "\n",
        "result = matrix - mean_matrix\n",
        "print(result)\n",
        "```\n",
        "\n",
        "This will yield the desired output:\n",
        "\n",
        "```\n",
        "[[-1.  0.  1.]\n",
        " [-1.  0.  1.]\n",
        " [-1.  0.  1.]]\n",
        "```\n",
        "\n",
        "In summary, the code is failing because of the broadcasting issue due to the wrong shape of `mean_matrix`."
      ]
    },
    {
      "cell_type": "code",
      "execution_count": null,
      "metadata": {},
      "outputs": [],
      "source": []
    },
    {
      "cell_type": "markdown",
      "metadata": {
        "id": "A-dMVlPPSBTT"
      },
      "source": [
        "### `Q-15:` Swap column-1 of array with column-2 in the array."
      ]
    },
    {
      "cell_type": "code",
      "execution_count": null,
      "metadata": {
        "id": "3RtngM9-Q6S7"
      },
      "outputs": [
        {
          "name": "stdout",
          "output_type": "stream",
          "text": [
            "Before : \n",
            "[[1 2 3]\n",
            " [4 5 6]\n",
            " [7 8 9]]\n",
            "After : \n"
          ]
        },
        {
          "data": {
            "text/plain": [
              "array([[2, 1, 3],\n",
              "       [5, 4, 6],\n",
              "       [8, 7, 9]])"
            ]
          },
          "execution_count": 90,
          "metadata": {},
          "output_type": "execute_result"
        }
      ],
      "source": [
        "# Code here\n",
        "\n",
        "def swap_column(arr):\n",
        "    arr[:,[0,1]] = arr[:,[1,0]]\n",
        "    return arr \n",
        "    \n",
        "\n",
        "arr = np.array([[1, 2, 3], [4, 5, 6], [7, 8, 9]])\n",
        "print(\"Before : \")\n",
        "print(arr)\n",
        "print(\"After : \")\n",
        "swap_column(arr)"
      ]
    },
    {
      "cell_type": "markdown",
      "metadata": {
        "id": "cB4VMexvS6Zi"
      },
      "source": [
        "### `Q-16:` Replace odd elements in arrays with -1."
      ]
    },
    {
      "cell_type": "code",
      "execution_count": 98,
      "metadata": {
        "id": "Bt83nXEVS5O4"
      },
      "outputs": [
        {
          "data": {
            "text/plain": [
              "array([[ 0,  1,  2,  3],\n",
              "       [ 4,  5,  6,  7],\n",
              "       [ 8,  9, 10, 11],\n",
              "       [12, 13, 14, 15],\n",
              "       [16, 17, 18, 19]])"
            ]
          },
          "execution_count": 98,
          "metadata": {},
          "output_type": "execute_result"
        }
      ],
      "source": [
        "# Code here \n",
        "arr = np.arange(20).reshape(-1,4)\n",
        "arr"
      ]
    },
    {
      "cell_type": "code",
      "execution_count": 99,
      "metadata": {
        "id": "1ZlvMaXLVyoW"
      },
      "outputs": [
        {
          "name": "stdout",
          "output_type": "stream",
          "text": [
            "[[ 0 -1  2 -1]\n",
            " [ 4 -1  6 -1]\n",
            " [ 8 -1 10 -1]\n",
            " [12 -1 14 -1]\n",
            " [16 -1 18 -1]]\n"
          ]
        }
      ],
      "source": [
        "arr[arr % 2 != 0] = -1\n",
        "print(arr)"
      ]
    },
    {
      "cell_type": "markdown",
      "metadata": {
        "id": "kf_qvmBxWIT_"
      },
      "source": [
        "### `Q-17:` Given two arrays of same shape make an array of max out of two arrays. (Numpy way)\n",
        "```\n",
        "a=np.array([6,3,1,5,8])\n",
        "b=np.array([3,2,1,7,2])\n",
        "\n",
        "Result-> [6 3 1 7 8]\n",
        "```"
      ]
    },
    {
      "cell_type": "code",
      "execution_count": 97,
      "metadata": {
        "id": "TB9ZvF-EZSfu"
      },
      "outputs": [
        {
          "data": {
            "text/plain": [
              "array([6, 3, 1, 7, 8])"
            ]
          },
          "execution_count": 97,
          "metadata": {},
          "output_type": "execute_result"
        }
      ],
      "source": [
        "# Code here\n",
        "a = np.array([6, 3, 1, 5, 8])\n",
        "b = np.array([3, 2, 1, 7, 2])\n",
        "\n",
        "c = np.max( (a,b), axis = 0)\n",
        "c"
      ]
    },
    {
      "cell_type": "markdown",
      "metadata": {
        "id": "iOQLUIeGc3zA"
      },
      "source": [
        "### `Q-18` Answer below asked questions on given array:\n",
        "1. Fetch Every alternate column of the array\n",
        "2. Normalise the given array\n",
        "\n",
        "https://en.wikipedia.org/wiki/Normalization_(statistics)\n",
        "\n",
        "There are different form of normalisation for this question use below formula.\n",
        "\n",
        "$$\\large X_{normalized} = \\frac{X - X_{min}}{X_{max} - X_{min}}$$\n",
        "\n",
        "```python\n",
        "arr1=np.random.randint(low=1, high=10000, size=40).reshape(8,5)\n",
        "```\n"
      ]
    },
    {
      "cell_type": "code",
      "execution_count": 102,
      "metadata": {
        "colab": {
          "base_uri": "https://localhost:8080/"
        },
        "id": "vjSm18k3d_1p",
        "outputId": "83d23b61-d2ae-41bc-e91e-0e0722667521"
      },
      "outputs": [
        {
          "data": {
            "text/plain": [
              "array([[6938, 9727, 3420, 4316, 7796],\n",
              "       [6826,  443, 2028, 8787, 6048],\n",
              "       [2922, 7319, 6775, 3130, 4450],\n",
              "       [3986, 9199, 2324, 7599, 7925],\n",
              "       [5384, 7527, 3159, 1763, 8348],\n",
              "       [7597, 1342, 1538, 2291, 1153],\n",
              "       [2980, 5303, 3047, 9820, 2099],\n",
              "       [7275, 9782, 8566, 3652,  104]])"
            ]
          },
          "execution_count": 102,
          "metadata": {},
          "output_type": "execute_result"
        }
      ],
      "source": [
        "# Given\n",
        "arr1 = np.random.randint(low=1, high=10000, size=40).reshape(8, 5)\n",
        "arr1"
      ]
    },
    {
      "cell_type": "code",
      "execution_count": 104,
      "metadata": {
        "id": "d7u8DB47eBfQ"
      },
      "outputs": [
        {
          "data": {
            "text/plain": [
              "array([[6938, 3420, 7796],\n",
              "       [6826, 2028, 6048],\n",
              "       [2922, 6775, 4450],\n",
              "       [3986, 2324, 7925],\n",
              "       [5384, 3159, 8348],\n",
              "       [7597, 1538, 1153],\n",
              "       [2980, 3047, 2099],\n",
              "       [7275, 8566,  104]])"
            ]
          },
          "execution_count": 104,
          "metadata": {},
          "output_type": "execute_result"
        }
      ],
      "source": [
        "# Code here\n",
        "\n",
        "arr1[:,::2]"
      ]
    },
    {
      "cell_type": "code",
      "execution_count": 114,
      "metadata": {},
      "outputs": [
        {
          "data": {
            "text/plain": [
              "array([[0.70337587, 0.99042816, 0.34129271, 0.43351173, 0.79168382],\n",
              "       [0.6918485 , 0.0348909 , 0.19802388, 0.89368053, 0.61177439],\n",
              "       [0.29003705, 0.74258954, 0.68659942, 0.31144504, 0.44730342],\n",
              "       [0.39954714, 0.93608481, 0.22848909, 0.77140799, 0.80496089],\n",
              "       [0.54343351, 0.76399753, 0.31442981, 0.17074928, 0.84849732],\n",
              "       [0.77120214, 0.12741869, 0.1475916 , 0.22509263, 0.10796624],\n",
              "       [0.29600659, 0.53509675, 0.30290243, 1.        , 0.20533141],\n",
              "       [0.73806093, 0.99608893, 0.87093454, 0.36517085, 0.        ]])"
            ]
          },
          "execution_count": 114,
          "metadata": {},
          "output_type": "execute_result"
        }
      ],
      "source": [
        "def normalized(arr):\n",
        "    return (arr - np.min(arr)) / (np.max(arr) - np.min(arr))\n",
        "\n",
        "normalized(arr1)"
      ]
    },
    {
      "cell_type": "markdown",
      "metadata": {
        "id": "jCzsVEKLgGNo"
      },
      "source": [
        "### `Q-19:` Write a function which will accept 2 arguments.\n",
        "First: A 1D numpy array arr\n",
        "\n",
        "Second: An integer n {Please make sure n<=len(arr)}\n",
        "\n",
        "Output: The output should be the nth largest item out of the array\n",
        "```\n",
        "# Example1 : arr=(12,34,40,7,1,0) and n=3, the output should be 12\n",
        "# Example2 : arr=(12,34,40,7,1,0) and n=1, the output should be 40\n",
        "```"
      ]
    },
    {
      "cell_type": "code",
      "execution_count": 118,
      "metadata": {
        "id": "J4AzkDk7gXSG"
      },
      "outputs": [
        {
          "data": {
            "text/plain": [
              "12"
            ]
          },
          "execution_count": 118,
          "metadata": {},
          "output_type": "execute_result"
        }
      ],
      "source": [
        "# Code here\n",
        "\n",
        "input_num = list(map(int,input(\"Enter number separated by spaces\").split( )))\n",
        "arr = np.array(input_num)\n",
        "\n",
        "n = int(input(\"Enter a number to find the nth largest number in the array : \"))\n",
        "\n",
        "sorted_array = np.sort(arr)\n",
        "sorted_array[n]\n"
      ]
    },
    {
      "cell_type": "markdown",
      "metadata": {
        "id": "ja0xPCgjhBsg"
      },
      "source": [
        "### `Q-20:` Create the following pattern without hardcoding. Use only numpy functions and the below input array a.\n",
        "```\n",
        "# Input: a = np.array([1,2,3])\n",
        "# Output: array([1, 1, 1, 2, 2, 2, 3, 3, 3, 1, 2, 3, 1, 2, 3, 1, 2, 3])\n",
        "```"
      ]
    },
    {
      "cell_type": "code",
      "execution_count": 130,
      "metadata": {
        "id": "CndS8TTNhG0F"
      },
      "outputs": [
        {
          "data": {
            "text/plain": [
              "array([1, 1, 1, 2, 2, 2, 3, 3, 3, 1, 2, 3, 1, 2, 3, 1, 2, 3])"
            ]
          },
          "execution_count": 130,
          "metadata": {},
          "output_type": "execute_result"
        }
      ],
      "source": [
        "# code here\n",
        "\n",
        "a = np.array([1,2,3])\n",
        "result_array = np.concatenate((np.repeat(a,np.size(a)),np.tile(a,np.size(a))))\n",
        "result_array"
      ]
    }
  ],
  "metadata": {
    "colab": {
      "provenance": []
    },
    "kernelspec": {
      "display_name": "Python 3",
      "name": "python3"
    },
    "language_info": {
      "codemirror_mode": {
        "name": "ipython",
        "version": 3
      },
      "file_extension": ".py",
      "mimetype": "text/x-python",
      "name": "python",
      "nbconvert_exporter": "python",
      "pygments_lexer": "ipython3",
      "version": "3.12.0"
    }
  },
  "nbformat": 4,
  "nbformat_minor": 0
}
