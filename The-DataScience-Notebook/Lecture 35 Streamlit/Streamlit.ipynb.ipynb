{
 "cells": [
  {
   "cell_type": "markdown",
   "metadata": {},
   "source": [
    "<h1><center><b> Streamlit"
   ]
  },
  {
   "cell_type": "markdown",
   "metadata": {},
   "source": [
    "**We are gonna build a dashboard using Streamlit on the India Startup funding dataset.**"
   ]
  },
  {
   "cell_type": "markdown",
   "metadata": {},
   "source": [
    "<center><b>Plan of action:"
   ]
  },
  {
   "cell_type": "markdown",
   "metadata": {},
   "source": [
    "\n",
    "1. Company POV  \n",
    "* Name  \n",
    "* Founders  \n",
    "* Industry  \n",
    "* Subindustry  \n",
    "* Location  \n",
    "* Funding Rounds  \n",
    "  - Stage  \n",
    "  - Investors  \n",
    "  - Date  \n",
    "* Similar company  \n",
    "2. Investor POV  \n",
    "* Name  \n",
    "* Recent Investments  \n",
    "* Biggest investments  \n",
    "* Generally invests in ...  \n",
    "* sector \\-\\>pie  \n",
    "* stage \\-\\>pie  \n",
    "* city \\-\\> pie  \n",
    "* YoY investment graph  \n",
    "* Similar Investors  \n",
    "3. General Analysis  \n",
    "* MoM chart \\-\\> Total \\+ Count  \n",
    "* Cards \\-\\> Total \\+ Max \\+ Avg \\-\\> Total funded startups  \n",
    "* Sector Analysis Pie \\-\\> top sectors(Count \\+ Sum)   \n",
    "* Type of funding  \n",
    "* City wise funding  \n",
    "* Top Startups \\-\\> year wise \\-\\> Overall  \n",
    "* Top investors  \n",
    "* Funding Heatmap\n",
    "```"
   ]
  },
  {
   "cell_type": "code",
   "execution_count": null,
   "metadata": {},
   "outputs": [],
   "source": []
  },
  {
   "cell_type": "code",
   "execution_count": null,
   "metadata": {},
   "outputs": [],
   "source": []
  },
  {
   "cell_type": "code",
   "execution_count": null,
   "metadata": {},
   "outputs": [],
   "source": []
  }
 ],
 "metadata": {
  "kernelspec": {
   "display_name": "Python 3",
   "language": "python",
   "name": "python3"
  },
  "language_info": {
   "name": "python",
   "version": "3.12.3"
  }
 },
 "nbformat": 4,
 "nbformat_minor": 2
}
