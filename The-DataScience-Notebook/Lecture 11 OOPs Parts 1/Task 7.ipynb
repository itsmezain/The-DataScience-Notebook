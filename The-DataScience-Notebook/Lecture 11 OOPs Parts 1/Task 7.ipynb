{
  "cells": [
    {
      "cell_type": "markdown",
      "metadata": {
        "id": "FyUJ3PRAsPr4"
      },
      "source": [
        "## `Q-1:` Rectangle Class\n",
        "1. Write a Rectangle class in Python language, allowing you to build a rectangle with length and width attributes.\n",
        "\n",
        "2. Create a Perimeter() method to calculate the perimeter of the rectangle and a Area() method to calculate the area of ​​the rectangle.\n",
        "\n",
        "3. Create a method display() that display the length, width, perimeter and area of an object created using an instantiation on rectangle class."
      ]
    },
    {
      "cell_type": "markdown",
      "metadata": {
        "id": "GxUtOqJfssFK"
      },
      "source": [
        "Eg.\n",
        "After making above classes and methods, on executing below code:-\n",
        "```\n",
        "my_rectangle = Rectangle(3 , 4)\n",
        "my_rectangle.display()\n",
        "```\n",
        "\n",
        "`Output:`\n",
        "```\n",
        "The length of rectangle is:  3\n",
        "The width of rectangle is:  4\n",
        "The perimeter of rectangle is:  14\n",
        "The area of rectangle is:  12\n",
        "```\n"
      ]
    },
    {
      "cell_type": "code",
      "execution_count": 110,
      "metadata": {
        "id": "92_QT-Uj6NBg"
      },
      "outputs": [
        {
          "name": "stdout",
          "output_type": "stream",
          "text": [
            "The length of rectangle is: 3\n",
            "The width of rectangle is: 4\n",
            "The perimeter of rectangle is: 12\n",
            "The area of rectangle is: 14\n"
          ]
        }
      ],
      "source": [
        "# write your code here\n",
        "\n",
        "class Rectangle:\n",
        "    \n",
        "    def __init__(self, l, b):\n",
        "        self.__length = l\n",
        "        self.__breadth = b\n",
        "        \n",
        "    def __area(self):\n",
        "        return self.__length * self.__breadth\n",
        "    \n",
        "    def __perimeter(self):\n",
        "        return (self.__length + self.__breadth) * 2\n",
        "    \n",
        "    def display(self):\n",
        "        print(f\"The length of rectangle is: {self.__length}\")\n",
        "        print(f\"The width of rectangle is: {self.__breadth}\")\n",
        "        print(f\"The perimeter of rectangle is:\",self.__area())\n",
        "        print(f\"The area of rectangle is: {self.__perimeter()}\")\n",
        "        \n",
        "my_rectangle = Rectangle(3,4)\n",
        "my_rectangle.display()"
      ]
    },
    {
      "cell_type": "markdown",
      "metadata": {
        "id": "r_GxrS0Vrdom"
      },
      "source": [
        "## `Q-2: Bank Class`\n",
        "\n",
        "1. Create a Python class called `BankAccount` which represents a bank account, having as attributes: `accountNumber` (numeric type), `name` (name of the account owner as string type), `balance`.\n",
        "2. Create a constructor with parameters: `accountNumber, name, balance`.\n",
        "3. Create a `Deposit()` method which manages the deposit actions.\n",
        "4. Create a `Withdrawal()` method  which manages withdrawals actions.\n",
        "5. Create an `bankFees()` method to apply the bank fees with a percentage of 5% of the balance account.\n",
        "6. Create a `display()` method to display account details.\n",
        "Give the complete code for the  BankAccount class."
      ]
    },
    {
      "cell_type": "markdown",
      "metadata": {
        "id": "qvVkOUJgvTV_"
      },
      "source": [
        "Eg.\n",
        "After making above classes and methods, on executing below code:-\n",
        "```\n",
        "newAccount = BankAccount(2178514584, \"Mandy\" , 2800)\n",
        "\n",
        "newAccount.Withdrawal(700)\n",
        "\n",
        "newAccount.Deposit(1000)\n",
        "\n",
        "newAccount.display()\n",
        "```\n",
        "\n",
        "`Output:`\n",
        "```\n",
        "Account Number :  2178514584\n",
        "Account Name :  Mandy\n",
        "Account Balance :  3100 ₹\n",
        "```"
      ]
    },
    {
      "cell_type": "code",
      "execution_count": 113,
      "metadata": {
        "id": "fUQOmQyA6YDR"
      },
      "outputs": [
        {
          "name": "stdout",
          "output_type": "stream",
          "text": [
            "Account Number :  2178514584\n",
            "Account Name :  Mandy\n",
            "Account Balance :  3100 ₹\n"
          ]
        }
      ],
      "source": [
        "# write your code here\n",
        "class BankAccount:\n",
        "    \n",
        "    def __init__(self,account_number,name,balance):\n",
        "        self.__accountNumber = account_number\n",
        "        self.__name = name\n",
        "        self.__balance = balance\n",
        "    \n",
        "    def deposit(self,amount):\n",
        "        self.__balance += amount\n",
        "        \n",
        "    def withdraw(self,amount):\n",
        "        if amount <= self.__balance:\n",
        "            self.__balance -= amount\n",
        "        else:\n",
        "            print(\"Insufficient balance\")\n",
        "\n",
        "    def __bank_fees(self):\n",
        "        self.__balance -= self.__balance * 0.05\n",
        "        \n",
        "    def display(self):\n",
        "        print(f\"Account Number :  {self.__accountNumber}\")\n",
        "        print(f\"Account Name :  {self.__name}\")\n",
        "        print(f\"Account Balance :  {self.__balance} \\u20B9\")\n",
        "        \n",
        "newAccount = BankAccount(2178514584, \"Mandy\" , 2800)\n",
        "\n",
        "newAccount.withdraw(700)\n",
        "\n",
        "newAccount.deposit(1000)\n",
        "\n",
        "newAccount.display()\n",
        "    "
      ]
    },
    {
      "cell_type": "markdown",
      "metadata": {
        "id": "QovcQAZTrgGU"
      },
      "source": [
        "## `Q-3:Computation class`\n",
        "\n",
        "1. Create a `Computation` class with a default constructor (without parameters) allowing to perform various calculations on integers numbers.\n",
        "2. Create a method called `Factorial()` which allows to calculate the factorial of an integer n. Integer n as parameter for this method\n",
        "\n",
        "3. Create a method called `naturalSum()` allowing to calculate the sum of the first n integers 1 + 2 + 3 + .. + n. Integer n as parameter for this method.\n",
        "\n",
        "4. Create a method called `testPrime()` in  the Calculation class to test the primality of a given integer n, n is Prime or Not? Integer n as parameter for this method.\n",
        "\n",
        "5. Create  a method called `testPrims()` allowing to test if two numbers are prime between them. Two integers are prime to one another if they have only `1` as their common divisor. Eg. 4 and 9 are prime to each other.\n",
        "\n",
        "5. Create a `tableMult()` method which creates and displays the multiplication table of a given integer. Then create an `allTablesMult()` method to display all the integer multiplication tables 1, 2, 3, ..., 9.\n",
        "\n",
        "6. Create a static `listDiv()` method that gets all the divisors of a given integer on new list called  Ldiv. Create another `listDivPrim()` method that gets all the prime divisors of a given integer."
      ]
    },
    {
      "cell_type": "code",
      "execution_count": 49,
      "metadata": {
        "id": "YEkPH70l6Z-o"
      },
      "outputs": [
        {
          "name": "stdout",
          "output_type": "stream",
          "text": [
            "120\n",
            "15\n",
            "False\n",
            "True\n",
            "-------------------Table of 4.--------------------\n",
            "                    4 * 1 = 4                     \n",
            "                    4 * 2 = 8                     \n",
            "                    4 * 3 = 12                    \n",
            "                    4 * 4 = 16                    \n",
            "                    4 * 5 = 20                    \n",
            "                    4 * 6 = 24                    \n",
            "                    4 * 7 = 28                    \n",
            "                    4 * 8 = 32                    \n",
            "                    4 * 9 = 36                    \n",
            "                   4 * 10 = 40                    \n",
            "--------------------------------------------------\n",
            "[1, 2, 5, 10]\n",
            "[2, 5]\n"
          ]
        }
      ],
      "source": [
        "# write your code here\n",
        "\n",
        "class Computation:\n",
        "    \n",
        "    def factorial(self, n):\n",
        "        if n == 0 or n == 1:\n",
        "            return 1\n",
        "        else:\n",
        "            return n * self.factorial(n-1)\n",
        "    \n",
        "    def naturalSum(self, n):\n",
        "        return sum(range(1, n+1))\n",
        "    \n",
        "    def testPrime(self, n):\n",
        "        if n <= 1:\n",
        "            return False\n",
        "        for i in range(2, int(n**0.5) + 1):\n",
        "            if n % i == 0:\n",
        "                return False\n",
        "        return True\n",
        "    \n",
        "    def testPrimes(self,n,m):\n",
        "        def gcd(a, b):\n",
        "            while b:\n",
        "                a, b = b, a % b\n",
        "            return a\n",
        "        \n",
        "        return gcd(n, m) == 1\n",
        "    \n",
        "    def tableMult(self,n):\n",
        "        print(f\"Table of {n}.\".center(50,\"-\"))\n",
        "        for i in range(1,11):\n",
        "            print(f\"{n} * {i} = {i*n}\".center(50,\" \"))\n",
        "        print(\"-\"*50)\n",
        "        \n",
        "    def allTableMult(self):\n",
        "        for i in range(1,11):\n",
        "            print(f\"Table of {i}\".center(50,\"-\"))\n",
        "            for j in range(1,11):\n",
        "                print(f\"{i} * {j} = {i*j}\".center(50,\" \"))\n",
        "            print(\"-\"*50)\n",
        "    \n",
        "    def listdiv(self,n):\n",
        "        Ldiv = []\n",
        "        for i in range(1,n+1):\n",
        "            if n % i == 0:\n",
        "                Ldiv.append(i)\n",
        "        return Ldiv\n",
        "                \n",
        "    def list_div_prime(self,n):\n",
        "        Lprime_div = []\n",
        "        for i in range(1,n+1):\n",
        "            if n % i == 0:\n",
        "                if self.testPrime(i):\n",
        "                    Lprime_div.append(i)\n",
        "        return Lprime_div\n",
        "    \n",
        "cal = Computation()\n",
        "\n",
        "print(cal.factorial(5))\n",
        "print(cal.naturalSum(5))\n",
        "print(cal.testPrime(6))\n",
        "print(cal.testPrimes(4,9))\n",
        "cal.tableMult(4)\n",
        "# cal.allTableMult()\n",
        "print(cal.listdiv(10))\n",
        "print(cal.list_div_prime(100))\n"
      ]
    },
    {
      "cell_type": "markdown",
      "metadata": {
        "id": "0yn23_oEriXa"
      },
      "source": [
        "## `Q-4`: Build flashcard using class in Python.\n",
        "\n",
        "Build a flashcard using class in python. A flashcard is a card having information on both sides, which can be used as an aid in memoization. Flashcards usually have a question on one side and an answer on the other.\n",
        "\n",
        "**Example 1:**\n",
        "\n",
        "Approach:\n",
        "\n",
        "- Create a class named FlashCard.\n",
        "- Initialize dictionary fruits using __init__() method. Here you have to define fruit name as key and it's color as value. E.g., {\"Banana\": \"yellow\", \"Strawberries\": \"pink\"}\n",
        "- Now randomly choose a pair from fruits by using _random_ module and store the key in variable _fruit_ and _value_ in variable color.\n",
        "- Now prompt the user to answer the color of the randomly chosen fruit.\n",
        "- If correct print correct else print wrong.\n",
        "\n",
        "Output:\n",
        "```bash\n",
        "welcome to fruit quiz\n",
        "What is the color of Strawberries\n",
        "pink\n",
        "Correct answer\n",
        "Enter 0, if you want to play again: 0\n",
        "What is the color of watermelon\n",
        "green\n",
        "Correct answer\n",
        "Enter 0, if you want to play again: 1\n",
        "```"
      ]
    },
    {
      "cell_type": "code",
      "execution_count": 61,
      "metadata": {
        "id": "vCrUF6VU6l6w"
      },
      "outputs": [
        {
          "name": "stdout",
          "output_type": "stream",
          "text": [
            "{'Banana': 'yellow', 'Mango': 'yellow', 'Orange': 'Orange', 'Dragoan Fruit': 'Pink', 'Strawberries': 'pink'}\n",
            "Your answer is correct\n",
            "{'Banana': 'yellow', 'Mango': 'yellow', 'Orange': 'Orange', 'Dragoan Fruit': 'Pink', 'Strawberries': 'pink'}\n",
            "Your answer is correct\n",
            "{'Banana': 'yellow', 'Mango': 'yellow', 'Orange': 'Orange', 'Dragoan Fruit': 'Pink', 'Strawberries': 'pink'}\n",
            "Your answer is incorrect\n"
          ]
        }
      ],
      "source": [
        "# write your code here\n",
        "\n",
        "import random\n",
        "\n",
        "class FlashCard():\n",
        "    \n",
        "    def __init__(self):\n",
        "        self.__dict = {\"Banana\": \"yellow\", \"Mango\":\"yellow\", \"Orange\":\"Orange\", \"Dragoan Fruit\": \"Pink\", \"Strawberries\": \"pink\"}\n",
        "        \n",
        "    \n",
        "    def quiz(self):\n",
        "        \n",
        "        random_fruit = random.choice(list(self.__dict.keys()))\n",
        "        answer = input(f\"What is the color of {random_fruit}: \")\n",
        "        if answer.lower() == self.__dict[random_fruit].lower():\n",
        "            print(\"Your answer is correct\")\n",
        "        else:\n",
        "            print(\"Your answer is incorrect\")\n",
        "        inp = input(\"Enter 0, if you want to play again\")\n",
        "        if '0' == inp:\n",
        "            self.quiz()\n",
        "    \n",
        "game = FlashCard()\n",
        "game.quiz()"
      ]
    },
    {
      "cell_type": "markdown",
      "metadata": {
        "id": "GN2r0jbRewYr"
      },
      "source": [
        "## `Q-5:` Problem 5 based on OOP Python.\n",
        "\n",
        "TechWorld, a technology training center, wants to allocate courses for instructors. An instructor is identified by name, technology skills, experience and average feedback. An instructor is allocated a course, if he/she satisfies the below two conditions:\n",
        "- eligibility criteria:\n",
        "    - if experience is more than 3 years, average feedback should be 4.5 or more\n",
        "    - if experience is 3 years or less, average feedback should be 4 or more\n",
        "- he/she should posses the technology skill for the course\n",
        "\n",
        "Identify the class name and attributes to represent instructors. Write a Python program to implement the class chosen with its attributes and methods.\n",
        "\n",
        "**Note:**\n",
        "- Consider all instance variables to be private and methods to be public.\n",
        "- An instructor may have multiple technology skills, so consider instance variable, technology_skill to be a list.\n",
        "- *check_eligibility()*: Return true if eligibility criteria is satisfied by the instructor. Else, return false\n",
        "- *allocate_course(technology)*: Return true if the course which requires the given technology can be allocated to the instructor. Else, return false.\n",
        "\n",
        "Represent a few objects of the class, initialize instance variables using setter methods, invoke\n",
        "appropriate methods and test your program."
      ]
    },
    {
      "cell_type": "code",
      "execution_count": 115,
      "metadata": {
        "id": "pdMFuVFnlvKL"
      },
      "outputs": [
        {
          "name": "stdout",
          "output_type": "stream",
          "text": [
            "Instructor is eligible.\n",
            "Course allocated.\n"
          ]
        }
      ],
      "source": [
        "# write your code here\n",
        "\n",
        "class Instructor:\n",
        "    \n",
        "    def __init__(self,name:str, tech_skills:list, exp:int, avg_feedback: int):\n",
        "        self.__name = name\n",
        "        self.__tech_skills = tech_skills\n",
        "        self.__exp = exp\n",
        "        self.__avg_feedback = avg_feedback\n",
        "        \n",
        "    def check_eligibility(self):\n",
        "        if (self.__exp > 3 and self.__avg_feedback >= 4.5) or (self.__exp <= 3 and self.__avg_feedback >= 4.0):\n",
        "            return True\n",
        "        else:\n",
        "            return False\n",
        "        \n",
        "    def allocate_course(self,tech):\n",
        "        is_eligible = self.check_eligibility()\n",
        "        \n",
        "        if tech in self.__tech_skills and is_eligible:\n",
        "            return True\n",
        "        else:\n",
        "            return False\n",
        "        \n",
        "instructor1 = Instructor(\"Zain\",[\"Python\", \"Java\", \"C++\"],4,4.6)\n",
        "\n",
        "if instructor1.check_eligibility():\n",
        "    print(\"Instructor is eligible.\")\n",
        "else:\n",
        "    print(\"Instructor is not eligible.\")\n",
        "\n",
        "if instructor1.allocate_course(\"Python\"):\n",
        "    print(\"Course allocated.\")\n",
        "else:\n",
        "    print(\"Course not allocated.\")      "
      ]
    }
  ],
  "metadata": {
    "colab": {
      "provenance": []
    },
    "kernelspec": {
      "display_name": "Python 3",
      "name": "python3"
    },
    "language_info": {
      "codemirror_mode": {
        "name": "ipython",
        "version": 3
      },
      "file_extension": ".py",
      "mimetype": "text/x-python",
      "name": "python",
      "nbconvert_exporter": "python",
      "pygments_lexer": "ipython3",
      "version": "3.12.0"
    }
  },
  "nbformat": 4,
  "nbformat_minor": 0
}
