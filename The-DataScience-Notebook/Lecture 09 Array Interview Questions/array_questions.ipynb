{
 "cells": [
  {
   "cell_type": "markdown",
   "metadata": {},
   "source": [
    "## Points to remember\n",
    "\n",
    "- Codes asked are relatively easier in comparison to SDE roles\n",
    "- Pythonic syntax is preferred in most companies\n",
    "- Focus is on optimized code\n",
    "- Start with the simplest solution and then improve\n",
    "- A lot of questions are repeated so mugging up the approaches help\n",
    "- Build intuition using Python Tutor"
   ]
  },
  {
   "cell_type": "code",
   "execution_count": 23,
   "metadata": {},
   "outputs": [
    {
     "name": "stdout",
     "output_type": "stream",
     "text": [
      "[4, 7, -1, 6, -11, 14, 3]\n"
     ]
    }
   ],
   "source": [
    "# 10. Maximum sum subarray (MOST IMPORTANT)\n",
    "\n",
    "l = [-2,4,7,-1,6,-11,14,3,-1,-6]\n",
    "\n",
    "# Brute Force\n",
    "max_sum = float('-inf')\n",
    "for i in range(len(l)):\n",
    "    subarray = []\n",
    "    for j in range(i,len(l)):\n",
    "        subarray.append(l[j])\n",
    "        if sum(subarray) > max_sum:\n",
    "            max_sum = sum(subarray)\n",
    "            answer = subarray.copy()\n",
    "\n",
    "    \n",
    "print(answer)\n"
   ]
  },
  {
   "cell_type": "code",
   "execution_count": 88,
   "metadata": {},
   "outputs": [
    {
     "name": "stdout",
     "output_type": "stream",
     "text": [
      "[4, 7, -1, 6, -11, 14, 3]\n"
     ]
    }
   ],
   "source": [
    "# Kadane's Algorithms\n",
    "l = [-2,4,7,-1,6,-11,14,3,-1,-6]\n",
    "\n",
    "curr_sum = 0\n",
    "curr_subarray = []\n",
    "best_sum = float('-inf')\n",
    "\n",
    "for i in l:\n",
    "    curr_sum = max(curr_sum+i, i)\n",
    "    \n",
    "    if curr_sum > i:\n",
    "        curr_subarray.append(i)\n",
    "    else:\n",
    "        curr_subarray =[i]\n",
    "    \n",
    "    if curr_sum > best_sum:\n",
    "        best_sum = curr_sum\n",
    "        best_subarray = curr_subarray.copy()\n",
    "        \n",
    "print(best_subarray)"
   ]
  },
  {
   "cell_type": "code",
   "execution_count": 1,
   "metadata": {},
   "outputs": [
    {
     "name": "stdout",
     "output_type": "stream",
     "text": [
      "[4, 7, -1, 6, -11, 14, 3]\n"
     ]
    }
   ],
   "source": [
    "l = [-2, 4, 7, -1, 6, -11, 14, 3, -1, -6]\n",
    "\n",
    "curr_sum = 0\n",
    "best_sum = float('-inf')\n",
    "start, end, temp_start = 0, 0, 0\n",
    "\n",
    "for i in range(len(l)):\n",
    "    if curr_sum + l[i] > l[i]:\n",
    "        curr_sum += l[i]\n",
    "    else:\n",
    "        curr_sum = l[i]\n",
    "        temp_start = i\n",
    "    \n",
    "    if curr_sum > best_sum:\n",
    "        best_sum = curr_sum\n",
    "        start = temp_start\n",
    "        end = i\n",
    "\n",
    "# Output the best subarray\n",
    "best_subarray = l[start:end+1]\n",
    "print(best_subarray)\n"
   ]
  },
  {
   "cell_type": "code",
   "execution_count": null,
   "metadata": {},
   "outputs": [],
   "source": []
  },
  {
   "cell_type": "code",
   "execution_count": 194,
   "metadata": {},
   "outputs": [
    {
     "name": "stdout",
     "output_type": "stream",
     "text": [
      "[5]\n"
     ]
    }
   ],
   "source": [
    "# 9. Find element with left side smaller/right side greater in an array\n",
    "\n",
    "l = [3,1,2,5,8,7,9]\n",
    "\n",
    "# brute force\n",
    "\n",
    "answer = []\n",
    "\n",
    "for i in range(1,len(l)-1):\n",
    "    num = l[i]\n",
    "    flag = True\n",
    "    \n",
    "    for j in range(0, i):\n",
    "        if num < l[j]:  # Element is not larger than all left-side elements\n",
    "            flag = False\n",
    "            break\n",
    "\n",
    "    if not flag:\n",
    "        continue\n",
    "    \n",
    "    # Check right side\n",
    "    for k in range(i + 1, len(l)):\n",
    "        if num > l[k]:  # Element is not smaller than all right-side elements\n",
    "            flag = False\n",
    "            break\n",
    "\n",
    "    if flag:\n",
    "        answer.append(l[i])\n",
    "        \n",
    "print(answer)"
   ]
  },
  {
   "cell_type": "code",
   "execution_count": 204,
   "metadata": {},
   "outputs": [
    {
     "name": "stdout",
     "output_type": "stream",
     "text": [
      "[11, 11, 11, 15]\n",
      "[2, 2, 2, 15]\n",
      "[]\n"
     ]
    }
   ],
   "source": [
    "# Prefix sum and suffix sum\n",
    "answer = []\n",
    "\n",
    "l = [11,7,2,15]\n",
    "prefix_max = [0]* len(l)\n",
    "suffix_min  = [0]* len(l)\n",
    "\n",
    "prefix_max[0] = l[0]\n",
    "suffix_min [-1] = l[-1]\n",
    "\n",
    "for i in range(1,len(l)):\n",
    "    prefix_max[i] = max(prefix_max[i-1],l[i])\n",
    "\n",
    "print(prefix_max)\n",
    "    \n",
    "for i in range(len(l)-2,-1,-1):\n",
    "    suffix_min[i] = min(suffix_min[i+1], l[i])\n",
    "print(suffix_min)\n",
    "    \n",
    "\n",
    "for i in range(1,len(l)-1):\n",
    "    if prefix_max[i-1] < l[i] < suffix_min[i+1]:\n",
    "        answer.append(l[i])\n",
    "        \n",
    "print(answer)"
   ]
  },
  {
   "cell_type": "code",
   "execution_count": null,
   "metadata": {},
   "outputs": [],
   "source": []
  },
  {
   "cell_type": "code",
   "execution_count": 62,
   "metadata": {},
   "outputs": [
    {
     "name": "stdout",
     "output_type": "stream",
     "text": [
      "3 4\n"
     ]
    }
   ],
   "source": [
    "# 8. Find continuous subarray with a given sum(given non-negative numbers)\n",
    "# return the starting and ending index of the subarray\n",
    "# return 1st subarray in case of multiple\n",
    "\n",
    "L = [1,22,13,7,9,11,10]\n",
    "S = 16\n",
    "\n",
    "i = 0\n",
    "j = 1\n",
    "while i < len(L):\n",
    "    sum_array = sum(L[i:j+1])\n",
    "    \n",
    "    if sum_array == S:\n",
    "        break\n",
    "    elif sum_array < S:\n",
    "        j += 1\n",
    "    else:\n",
    "        i += 1\n",
    "print(i,j)    \n",
    "    \n",
    "    "
   ]
  },
  {
   "cell_type": "code",
   "execution_count": 61,
   "metadata": {},
   "outputs": [
    {
     "name": "stdout",
     "output_type": "stream",
     "text": [
      "3 4\n"
     ]
    }
   ],
   "source": [
    "# SLiding Window \n",
    "L = [1,22,13,7,9,11,10]\n",
    "S = 16\n",
    "\n",
    "i = 0\n",
    "j = 0\n",
    "sum_array = L[0]\n",
    "while i < len(L) or j < len(L)-1:\n",
    "    if sum_array == S:\n",
    "        break\n",
    "    elif sum_array < S:\n",
    "        j += 1\n",
    "        sum_array += L[j]\n",
    "    else:\n",
    "        sum_array -= L[i]\n",
    "        \n",
    "        \n",
    "print(i,j) "
   ]
  },
  {
   "cell_type": "code",
   "execution_count": 1,
   "metadata": {},
   "outputs": [
    {
     "name": "stdout",
     "output_type": "stream",
     "text": [
      "3 4\n"
     ]
    }
   ],
   "source": [
    "# Dictionary method useful when there are negative values involved\n",
    "\n",
    "L = [1,22,13,7,9,11,10]\n",
    "S = 16\n",
    "\n",
    "d = {}\n",
    "curr_sum = 0\n",
    "\n",
    "for i in range(len(L)):\n",
    "    curr_sum += L[i]\n",
    "    \n",
    "    if (curr_sum - S) in d:\n",
    "        print(d[curr_sum - S]+1,i)\n",
    "        break\n",
    "    \n",
    "    d[curr_sum] = i"
   ]
  },
  {
   "cell_type": "code",
   "execution_count": 4,
   "metadata": {},
   "outputs": [
    {
     "name": "stdout",
     "output_type": "stream",
     "text": [
      "3\n",
      "8\n"
     ]
    }
   ],
   "source": [
    "# 7. Find intersection of 2 sorted arrays\n",
    "\n",
    "a = [1,2,3,4,5,8]\n",
    "b = [3,6,7,8]\n",
    "b = set(b)\n",
    "\n",
    "for i in a:\n",
    "    if i in b:\n",
    "        print(i)\n",
    "        \n",
    "# space complexity => O(m)\n",
    "# time complexity => O(n+m)"
   ]
  },
  {
   "cell_type": "code",
   "execution_count": 3,
   "metadata": {},
   "outputs": [
    {
     "name": "stdout",
     "output_type": "stream",
     "text": [
      "[3, 8]\n"
     ]
    }
   ],
   "source": [
    "a = [1,2,3,4,5,8]\n",
    "b = [3,6,7,8]\n",
    "\n",
    "i, j = 0, 0\n",
    "result = []\n",
    "\n",
    "    # Iterate over both arrays while pointers are within bounds\n",
    "while i < len(a) and j < len(b):\n",
    "    if a[i] == b[j]:\n",
    "        result.append(a[i])  # Found common element, add to result\n",
    "        i += 1  # Move both pointers forward\n",
    "        j += 1\n",
    "    elif a[i] < b[j]:\n",
    "        i += 1  # Move pointer for array 'a' forward\n",
    "    else:\n",
    "        j += 1  # Move pointer for array 'b' forward\n",
    "\n",
    "\n",
    "print(result)"
   ]
  },
  {
   "cell_type": "code",
   "execution_count": 34,
   "metadata": {},
   "outputs": [
    {
     "name": "stdout",
     "output_type": "stream",
     "text": [
      "[3, 4, 5, 1, 2]\n"
     ]
    }
   ],
   "source": [
    "# Q6- Rotate array to left by d items\n",
    "\n",
    "L = [1, 2, 3, 4, 5]\n",
    "rotate = 2\n",
    "rotate = rotate % len(L)\n",
    "ans = [0] * len(L)  # Correct initialization of the list\n",
    "\n",
    "for i in range(len(L)):\n",
    "    ans[i] = L[(i + rotate) % len(L)]  # Update logic for left rotation\n",
    "\n",
    "print(ans)"
   ]
  },
  {
   "cell_type": "code",
   "execution_count": 38,
   "metadata": {},
   "outputs": [
    {
     "name": "stdout",
     "output_type": "stream",
     "text": [
      "[3, 4, 5, 1, 2]\n"
     ]
    }
   ],
   "source": [
    "L = [1, 2, 3, 4, 5]\n",
    "rotate = 2\n",
    "rotate = rotate % len(L)  # Ensure rotate is within bounds\n",
    "\n",
    "# Reverse the first part\n",
    "L[:rotate] = reversed(L[:rotate])\n",
    "# Reverse the second part\n",
    "L[rotate:] = reversed(L[rotate:])\n",
    "# Reverse the entire list\n",
    "L = list(reversed(L))\n",
    "\n",
    "print(L)\n"
   ]
  },
  {
   "cell_type": "code",
   "execution_count": 39,
   "metadata": {},
   "outputs": [
    {
     "name": "stdout",
     "output_type": "stream",
     "text": [
      "1\n",
      "4\n",
      "5\n"
     ]
    }
   ],
   "source": [
    "# 5. Find duplicates in an array\n",
    "L = [1,1,2,3,4,4,5,5]\n",
    "\n",
    "d = {}\n",
    "\n",
    "for i in L:\n",
    "    if i in d:\n",
    "        d[i] = d[i] + 1\n",
    "    else:\n",
    "        d[i] = 1\n",
    "\n",
    "for i in d:\n",
    "    if d[i] > 1:\n",
    "        print(i)"
   ]
  },
  {
   "cell_type": "code",
   "execution_count": 2,
   "metadata": {},
   "outputs": [
    {
     "name": "stdout",
     "output_type": "stream",
     "text": [
      "1\n"
     ]
    }
   ],
   "source": [
    "# 4. Find the first element to occur k times in an array\n",
    "\n",
    "L = [1,1,2,3,4,4,5,5]\n",
    "\n",
    "k = 2\n",
    "\n",
    "d = {}\n",
    "\n",
    "for i in L:\n",
    "    if i in d:\n",
    "        d[i] = d[i] + 1\n",
    "        if d[i] == k:\n",
    "            print(i)\n",
    "            break\n",
    "    else:\n",
    "        d[i] = 1\n",
    "        "
   ]
  },
  {
   "cell_type": "code",
   "execution_count": 3,
   "metadata": {},
   "outputs": [
    {
     "name": "stdout",
     "output_type": "stream",
     "text": [
      "54\n"
     ]
    }
   ],
   "source": [
    "# 3. Find Min/Max in a given array\n",
    "\n",
    "L = [21,1,34,23,54,11,10]\n",
    "\n",
    "max_val = L[0]\n",
    "\n",
    "for i in L:\n",
    "    if max_val < i:\n",
    "        max_val = i\n",
    "\n",
    "print(max_val)"
   ]
  },
  {
   "cell_type": "code",
   "execution_count": 12,
   "metadata": {},
   "outputs": [
    {
     "name": "stdout",
     "output_type": "stream",
     "text": [
      "List is sorted\n"
     ]
    }
   ],
   "source": [
    "# 2. Check if an array is sorted\n",
    "L = [1,2,3,4,5]\n",
    "\n",
    "flag = True\n",
    "\n",
    "for i in range(len(L)-1):\n",
    "    if L[i] > L[i+1]:\n",
    "        flag = False\n",
    "        break\n",
    "    \n",
    "if flag == False:\n",
    "    print(\"List is not sorted\")\n",
    "else:\n",
    "    print(\"List is sorted\")"
   ]
  },
  {
   "cell_type": "code",
   "execution_count": 15,
   "metadata": {},
   "outputs": [
    {
     "name": "stdout",
     "output_type": "stream",
     "text": [
      "23\n"
     ]
    }
   ],
   "source": [
    "# 1. Find the kth largest/smallest item from a list\n",
    "\n",
    "L = [12,23,1,4,56,34,22,3]\n",
    "k=3\n",
    "\n",
    "L.sort(reverse=True)\n",
    "print(L[2])\n"
   ]
  }
 ],
 "metadata": {
  "kernelspec": {
   "display_name": "Python 3",
   "language": "python",
   "name": "python3"
  },
  "language_info": {
   "codemirror_mode": {
    "name": "ipython",
    "version": 3
   },
   "file_extension": ".py",
   "mimetype": "text/x-python",
   "name": "python",
   "nbconvert_exporter": "python",
   "pygments_lexer": "ipython3",
   "version": "3.12.0"
  }
 },
 "nbformat": 4,
 "nbformat_minor": 2
}
