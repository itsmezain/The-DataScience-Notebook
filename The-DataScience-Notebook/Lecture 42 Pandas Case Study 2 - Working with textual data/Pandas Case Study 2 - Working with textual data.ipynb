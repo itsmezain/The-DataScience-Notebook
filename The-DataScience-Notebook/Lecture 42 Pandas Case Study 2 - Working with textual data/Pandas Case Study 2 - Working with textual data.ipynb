{
 "cells": [
  {
   "cell_type": "markdown",
   "id": "b14a3021",
   "metadata": {},
   "source": [
    "<h2> <b> Working With Textual Data"
   ]
  },
  {
   "cell_type": "code",
   "execution_count": null,
   "id": "ceb5462f",
   "metadata": {},
   "outputs": [],
   "source": []
  },
  {
   "cell_type": "code",
   "execution_count": null,
   "id": "8b127fb9",
   "metadata": {},
   "outputs": [],
   "source": []
  }
 ],
 "metadata": {
  "kernelspec": {
   "display_name": "base",
   "language": "python",
   "name": "python3"
  },
  "language_info": {
   "name": "python",
   "version": "3.12.7"
  }
 },
 "nbformat": 4,
 "nbformat_minor": 5
}
