{
 "cells": [
  {
   "cell_type": "markdown",
   "metadata": {
    "id": "A05OG15VqOPF"
   },
   "source": [
    "# Task : Session 1\n",
    "Solve these questions own your own and try to test yourself what you have learned in the session.\n",
    "\n",
    "Happy Learning!"
   ]
  },
  {
   "cell_type": "markdown",
   "metadata": {
    "id": "2doIXf8bqe9_"
   },
   "source": [
    "### Q1 :- Print the given strings as per stated format.\n",
    "\n",
    "**Given strings**:\n",
    "```\n",
    "\"Data\" \"Science\" \"Mentorship\" \"Program\"\n",
    "\"By\" \"CampusX\"\n",
    "```\n",
    "**Output**:\n",
    "```\n",
    "Data-Science-Mentorship-Program-started-By-CampusX\n",
    "```\n",
    "\n",
    "Concept- [Seperator and End]"
   ]
  },
  {
   "cell_type": "code",
   "execution_count": 1,
   "metadata": {
    "id": "-em6d3KErDtp"
   },
   "outputs": [
    {
     "name": "stdout",
     "output_type": "stream",
     "text": [
      "Data-Science-Mentorship-Program-By-CampusX"
     ]
    }
   ],
   "source": [
    "print(\"Data\",\"Science\",\"Mentorship\",\"Program\",\"By\",\"CampusX\", sep=\"-\", end = \"\")\n"
   ]
  },
  {
   "cell_type": "markdown",
   "metadata": {
    "id": "1KUpN7ZTrC3_"
   },
   "source": [
    "### Q2:- Write a program that will convert celsius value to fahrenheit."
   ]
  },
  {
   "cell_type": "code",
   "execution_count": 2,
   "metadata": {
    "id": "yxKYhYQiqWfj"
   },
   "outputs": [
    {
     "name": "stdout",
     "output_type": "stream",
     "text": [
      "172.4\n"
     ]
    }
   ],
   "source": [
    "celsius = float(input(\"Enter temperature in Celsius: \"))\n",
    "fahrenheit = (9/5) * celsius + 32.0\n",
    "print(fahrenheit)"
   ]
  },
  {
   "cell_type": "markdown",
   "metadata": {
    "id": "RLrOBBJurLB2"
   },
   "source": [
    "### Q3:- Take 2 numbers as input from the user.Write a program to swap the numbers without using any special python syntax."
   ]
  },
  {
   "cell_type": "code",
   "execution_count": 3,
   "metadata": {
    "id": "yPn7if0TrJ4F"
   },
   "outputs": [
    {
     "name": "stdout",
     "output_type": "stream",
     "text": [
      "Values before swapping : a = 7 , b = 8\n",
      "Values after swapping : a = 8 , b = 7\n"
     ]
    }
   ],
   "source": [
    "a = int(input(\"Enter first number\"))\n",
    "b = int(input(\"Enter second number\"))\n",
    "print(f\"Values before swapping : a = {a} , b = {b}\")\n",
    "temp = a\n",
    "a = b\n",
    "b = temp\n",
    "print(f\"Values after swapping : a = {a} , b = {b}\")\n"
   ]
  },
  {
   "cell_type": "markdown",
   "metadata": {
    "id": "waLCP1bjr7ML"
   },
   "source": [
    "### Q4:- Write a program to find the euclidean distance between two coordinates.Take both the coordinates from the user as input."
   ]
  },
  {
   "cell_type": "code",
   "execution_count": null,
   "metadata": {
    "id": "Pl1Sv-xnrxnH"
   },
   "outputs": [
    {
     "name": "stdout",
     "output_type": "stream",
     "text": [
      "Point p : 0.0,0.0\n",
      "Point q : 2.0,2.0\n",
      "Distance between p and q : 2.83\n"
     ]
    }
   ],
   "source": [
    "p1 = float(input(\"Enter coordinates of p of x axis :\"))\n",
    "p2 = float(input(\"Enter coordinates of p of y axis :\"))\n",
    "q1 = float(input(\"Enter coordinates of q x axis :\"))\n",
    "q2 = float(input(\"Enter coordinates of q y axis :\"))\n",
    "print(f\"Point p : {p1},{p2}\\nPoint q : {q1},{q2}\")\n",
    "distance = ((p1 - q1)** 2 + (p2 - q2)** 2)** 0.5\n",
    "\n",
    "print(f\"Distance between p and q : {distance}\")\n",
    "print(f\"Distance between p and q : {round(distance,2)}\")"
   ]
  },
  {
   "cell_type": "markdown",
   "metadata": {
    "id": "VLrhg-FRsHjR"
   },
   "source": [
    "### Q5:- Write a program to find the simple interest when the value of principle,rate of interest and time period is provided by the user.\n"
   ]
  },
  {
   "cell_type": "code",
   "execution_count": 6,
   "metadata": {
    "id": "s40DlReZsTmY"
   },
   "outputs": [
    {
     "name": "stdout",
     "output_type": "stream",
     "text": [
      "Principle amount : 2000.0\n",
      "Rate of Interest : 3.0\n",
      "Time period : 10.0\n",
      "SI 600.0\n"
     ]
    }
   ],
   "source": [
    "principle = float(input(\"Enter Principal :\"))\n",
    "rate = float(input(\"Enter Rate of Interest in % p.a : \"))\n",
    "time = float(input(\"Enter Time period in years : \"))\n",
    "\n",
    "si = (principle * rate * time) / 100\n",
    "print(f\"Principle amount : {principle}\\nRate of Interest : {rate}\\nTime period : {time}\\nSI {si}\")"
   ]
  },
  {
   "cell_type": "markdown",
   "metadata": {
    "id": "LMy0BTUktYKa"
   },
   "source": [
    "### Q6:- Write a program that will tell the number of dogs and chicken are there when the user will provide the value of total heads and legs.\n",
    "\n",
    "For example:\n",
    "Input:\n",
    "heads -> 4\n",
    "legs -> 12\n",
    "<br>\n",
    "Output:\n",
    "dogs -> 2\n",
    "chicken -> 2\n",
    "\n",
    "\n",
    "\n"
   ]
  },
  {
   "cell_type": "code",
   "execution_count": null,
   "metadata": {
    "id": "XSBvJoA4tXaG"
   },
   "outputs": [
    {
     "name": "stdout",
     "output_type": "stream",
     "text": [
      "Chickens : 2\n",
      "Dogs : 2\n"
     ]
    }
   ],
   "source": [
    "heads = int(input(\"Enter number of heads\"))\n",
    "legs = int(input(\"Enter number of legs\"))\n",
    "\n",
    "# head = 4 and leg = 10\n",
    "# so my equations will be c + d = 4 ==> c = 4 - d (put this in equation 2 and solve this )\n",
    "# and second equation will be 2c + 4d = 10\n",
    "\n",
    "chickens = (4 * heads - legs) // 2\n",
    "dogs = heads - chickens\n",
    "\n",
    "print(f\"Chickens : {chickens}\\nDogs : {dogs}\")"
   ]
  },
  {
   "cell_type": "code",
   "execution_count": 5,
   "metadata": {},
   "outputs": [
    {
     "name": "stdout",
     "output_type": "stream",
     "text": [
      "Chickens : 3.0\n",
      "Dogs : 1.0\n"
     ]
    }
   ],
   "source": [
    "heads = int(input(\"Enter number of heads\"))\n",
    "legs = int(input(\"Enter number of legs\"))\n",
    "\n",
    "# head = 4 and leg = 10\n",
    "# so my equations will be c + d = 4 ==> c = 4 - d (put this in equation 2 and solve this ) (c = heads - d)\n",
    "# and second equation will be 2c + 4d = 10\n",
    "# now putting eq i on ii then 2* (4 - d) + 4d = 10\n",
    "# 8 - 2d + 4d = 10\n",
    "# 2 * head + 2d = leg (here replace 4 with head for generalaization and 20 wtih leg)\n",
    "# d = (leg - 2 * head)/2\n",
    "\n",
    "# Calculate number of dogs and chickens\n",
    "dogs = (legs - 2 * heads) / 2\n",
    "chickens = heads - dog\n",
    "print(f\"Chickens : {chickens}\\nDogs : {dogs}\")\n",
    "\n"
   ]
  },
  {
   "cell_type": "markdown",
   "metadata": {
    "id": "gJ7C5kZYt4BP"
   },
   "source": [
    "### Q7:- Write a program to find the sum of squares of first n natural numbers where n will be provided by the user."
   ]
  },
  {
   "cell_type": "code",
   "execution_count": 10,
   "metadata": {
    "id": "_tHsmEHzt2nX"
   },
   "outputs": [
    {
     "name": "stdout",
     "output_type": "stream",
     "text": [
      "Sum of 5 natural number using for loop is : 55\n",
      "Sum of 5 natural number using formula is : 55\n"
     ]
    }
   ],
   "source": [
    "n = int(input(\"Value of n : \"))\n",
    "sum = 0\n",
    "\n",
    "for i in range(1, n+1):\n",
    "    sum = sum + i*i\n",
    "print(f\"Sum of {n} natural number using for loop is : {sum}\")\n",
    "\n",
    "sum = (n * (n+1) * (2*n+1)) //6\n",
    "print(f\"Sum of {n} natural number using formula is : {sum}\")"
   ]
  },
  {
   "cell_type": "markdown",
   "metadata": {
    "id": "FHrMM7g-yG1h"
   },
   "source": [
    "### Q8:- Given the first 2 terms of an Arithmetic Series.Find the Nth term of the series. Assume all inputs are provided by the user."
   ]
  },
  {
   "cell_type": "code",
   "execution_count": 12,
   "metadata": {
    "id": "go4_kmZmyVSx"
   },
   "outputs": [
    {
     "name": "stdout",
     "output_type": "stream",
     "text": [
      "10th term using loop : 37\n",
      "10th term using formula : 37\n"
     ]
    }
   ],
   "source": [
    "a = int(input(\"Enter the first term : \"))\n",
    "b = int(input(\"Enter the second term:\"))\n",
    "n = int(input(\"Enter the value of  N :\"))\n",
    "d = b - a\n",
    "\n",
    "term = a\n",
    "for i in range(1,n):\n",
    "    term = term + d\n",
    "print(f\"{n}th term using loop : {term}\")\n",
    "\n",
    "term = a + ( n - 1) * d\n",
    "print(f\"{n}th term using formula : {term}\")\n"
   ]
  },
  {
   "cell_type": "markdown",
   "metadata": {
    "id": "QgyRX_es1oum"
   },
   "source": [
    "### Q9:- Given 2 fractions, find the sum of those 2 fractions.Take the numerator and denominator values of the fractions from the user."
   ]
  },
  {
   "cell_type": "code",
   "execution_count": 17,
   "metadata": {
    "id": "X05xqFS1yW16"
   },
   "outputs": [
    {
     "name": "stdout",
     "output_type": "stream",
     "text": [
      "1.0\n"
     ]
    }
   ],
   "source": [
    "n1 = float(input(\"Enter Numerator of first number: \"))\n",
    "d1 = float(input(\"Enter denominator of first number: \"))\n",
    "n2 = float(input(\"Enter Numerator of second number: \"))\n",
    "d2 = float(input(\"Enter denominator of second number: \"))\n",
    "\n",
    "if d1 != d2:\n",
    "    d = d1 * d2\n",
    "    n = (n1 * d2) + (n2 * d1)\n",
    "else:\n",
    "    d = d1\n",
    "    n = n1 + n2\n",
    "sum = n / d\n",
    "print(sum)"
   ]
  },
  {
   "cell_type": "markdown",
   "metadata": {
    "id": "eaql38ln13u7"
   },
   "source": [
    "### Q10:- Given the height, width and breadth of a milk tank, you have to find out how many glasses of milk can be obtained? Assume all the inputs are provided by the user.\n",
    "\n",
    "\n",
    "\n",
    "Input:<br>\n",
    "Dimensions of the milk tank<br>\n",
    "H = 20cm, L = 20cm, B = 20cm\n",
    "<br><br>\n",
    "Dimensions of the glass<br>\n",
    "h = 3cm, r = 1cm"
   ]
  },
  {
   "cell_type": "code",
   "execution_count": 19,
   "metadata": {
    "id": "FePZqno74eWv"
   },
   "outputs": [
    {
     "name": "stdout",
     "output_type": "stream",
     "text": [
      "Number of glasses that can be obtained from the milk tank is : 636942\n"
     ]
    }
   ],
   "source": [
    "h = float(input(\"Enter the height of milk tank in cm:\"))\n",
    "l = float(input(\"Enter the length of milk tank in cm:\"))\n",
    "b = float(input(\"Enter the length of milk tank in cm: \"))\n",
    "\n",
    "h_glass = float(input(\"Enter the height of the glass in cm:\"))\n",
    "\n",
    "r_glass = float(input(\"Enter the radius of the glass in cm:\"))\n",
    "\n",
    "volume_tank = h * l * b\n",
    "\n",
    "volume_glass = (h_glass * 3.14 * r_glass * r_glass)\n",
    "\n",
    "no_of_glasses = (int) (volume_tank // volume_glass)\n",
    "\n",
    "print(f\"Number of glasses that can be obtained from the milk tank is : {no_of_glasses}\")\n",
    "\n"
   ]
  }
 ],
 "metadata": {
  "colab": {
   "provenance": []
  },
  "kernelspec": {
   "display_name": "Python 3",
   "name": "python3"
  },
  "language_info": {
   "codemirror_mode": {
    "name": "ipython",
    "version": 3
   },
   "file_extension": ".py",
   "mimetype": "text/x-python",
   "name": "python",
   "nbconvert_exporter": "python",
   "pygments_lexer": "ipython3",
   "version": "3.12.0"
  }
 },
 "nbformat": 4,
 "nbformat_minor": 0
}
