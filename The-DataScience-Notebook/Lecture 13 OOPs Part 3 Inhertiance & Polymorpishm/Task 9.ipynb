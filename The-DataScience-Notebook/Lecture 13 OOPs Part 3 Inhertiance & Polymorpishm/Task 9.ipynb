{
  "cells": [
    {
      "cell_type": "markdown",
      "metadata": {
        "id": "BCleRtX43caS"
      },
      "source": [
        "### `Problem-1:` Class inheritence\n",
        "\n",
        "Create a **Bus** child class that inherits from the Vehicle class. The default fare charge of any vehicle is seating capacity * 100. If Vehicle is Bus instance, we need to add an extra 10% on full fare as a maintenance charge. So total fare for bus instance will become the final amount = total fare + 10% of the total fare.\n",
        "\n",
        "Note: The bus seating capacity is 50. so the final fare amount should be 5500. You need to override the fare() method of a Vehicle class in Bus class."
      ]
    },
    {
      "cell_type": "code",
      "execution_count": 6,
      "metadata": {
        "colab": {
          "base_uri": "https://localhost:8080/"
        },
        "id": "6jVFCXKz3YZI",
        "outputId": "a8649209-08e2-4f60-a914-74a914dd697e"
      },
      "outputs": [
        {
          "name": "stdout",
          "output_type": "stream",
          "text": [
            "Total Bus fare is: 5500\n"
          ]
        }
      ],
      "source": [
        "# Write code here\n",
        "\n",
        "class Vehicle:\n",
        "    \n",
        "    def __init__(self, seating_capacity):\n",
        "        self.seating_capacity = seating_capacity\n",
        "        \n",
        "    \n",
        "    def total_fare(self):\n",
        "        return self.seating_capacity * 100\n",
        "\n",
        "class Bus(Vehicle):\n",
        "    \n",
        "    def total_fare(self):\n",
        "        return super().total_fare() + (0.10 * super().total_fare())\n",
        "    \n",
        "bus = Bus(50)\n",
        "print(\"Total Bus fare is:\", int(bus.total_fare()))"
      ]
    },
    {
      "cell_type": "markdown",
      "metadata": {
        "id": "KBbGNTtQ47mJ"
      },
      "source": [
        "### `Problem-2:` Class Inheritence\n",
        "\n",
        "Create a Bus class that inherits from the Vehicle class. Give the capacity argument of *Bus.seating_capacity()* a default value of 50.\n",
        "\n",
        "Use the following code for your parent Vehicle class."
      ]
    },
    {
      "cell_type": "markdown",
      "metadata": {
        "id": "MwOnYE_14M-r"
      },
      "source": [
        "```python\n",
        "class Vehicle:\n",
        "    def __init__(self, name, max_speed, mileage):\n",
        "        self.name = name\n",
        "        self.max_speed = max_speed\n",
        "        self.mileage = mileage\n",
        "\n",
        "    def seating_capacity(self, capacity):\n",
        "        return f\"The seating capacity of a {self.name} is {capacity} passengers.\"\n",
        "``` "
      ]
    },
    {
      "cell_type": "code",
      "execution_count": 21,
      "metadata": {},
      "outputs": [
        {
          "name": "stdout",
          "output_type": "stream",
          "text": [
            "The seating capacity of a School Volvo is 50 passengers.\n"
          ]
        }
      ],
      "source": [
        "class Vehicle:\n",
        "    def __init__(self, name, max_speed, mileage):\n",
        "        self.name = name\n",
        "        self.max_speed = max_speed\n",
        "        self.mileage = mileage\n",
        "\n",
        "    def seating_capacity(self, capacity):\n",
        "        return f\"The seating capacity of a {self.name} is {capacity} passengers.\"\n",
        "    \n",
        "class Bus(Vehicle):\n",
        "    \n",
        "    def seating_capacity(self, capacity = 50):\n",
        "        return super().seating_capacity(capacity)\n",
        "    \n",
        "# Driver code:\n",
        "school_bus = Bus(\"School Volvo\", 180, 12)\n",
        "print(school_bus.seating_capacity())"
      ]
    },
    {
      "cell_type": "markdown",
      "metadata": {
        "id": "ExIxsv4y-oEd"
      },
      "source": [
        "### `Problem-3:` Write a program that has a class Point. Define another class Location which has two objects (Location & Destination) of class Point. Also define a function in Location that prints the reflection of Destination on the x axis."
      ]
    },
    {
      "cell_type": "code",
      "execution_count": 25,
      "metadata": {
        "id": "yT2QtzQp5VAB"
      },
      "outputs": [
        {
          "data": {
            "text/plain": [
              "'The reflection is (5, -7)'"
            ]
          },
          "execution_count": 25,
          "metadata": {},
          "output_type": "execute_result"
        }
      ],
      "source": [
        "class Point:\n",
        "    \n",
        "    def __init__(self,x,y):\n",
        "        self.x = x\n",
        "        self.y = y\n",
        "\n",
        "    def __str__(self) -> str:\n",
        "        return '({}, {})'.format(self.x, self.y)\n",
        "    \n",
        "    \n",
        "class Location:\n",
        "    \n",
        "    def __init__(self,location,destination):\n",
        "        self.location = location\n",
        "        self.destination = destination\n",
        "    \n",
        "    def show(self):\n",
        "        print(\"source is : \",self.location)\n",
        "        print(\"destination is : \",self.destination)\n",
        "           \n",
        "    def reflection(self):\n",
        "        return f\"The reflection is ({self.destination.x}, {- self.destination.y})\"\n",
        "    \n",
        "    \n",
        "# Driver code:\n",
        "origin_point = Point(2, 3)\n",
        "destination_point = Point(5, 7)\n",
        "loc = Location(origin_point, destination_point)\n",
        "loc.reflection()"
      ]
    },
    {
      "cell_type": "markdown",
      "metadata": {
        "id": "OcQhJvXVALgp"
      },
      "source": [
        "### `Problem-4:` Write a program that has an abstract class Polygon. Derive two classes Rectangle and Triamgle from Polygon and write methods to get the details of their dimensions and hence calculate the area."
      ]
    },
    {
      "cell_type": "code",
      "execution_count": 27,
      "metadata": {
        "id": "9IMrtdUH__eA"
      },
      "outputs": [
        {
          "name": "stdout",
          "output_type": "stream",
          "text": [
            "Rectangle Area: 15\n",
            "Triangle Area: 24\n"
          ]
        }
      ],
      "source": [
        "from abc import ABC,abstractmethod\n",
        "\n",
        "class Polygon(ABC):\n",
        "    \n",
        "    @abstractmethod\n",
        "    def get_data(self):\n",
        "        pass\n",
        "    \n",
        "    @abstractmethod\n",
        "    def area(self):\n",
        "        pass\n",
        "    \n",
        "\n",
        "class Rectangle(Polygon):\n",
        "    \n",
        "    def get_data(self,length,breadth):\n",
        "        self.length = length\n",
        "        self.breadth = breadth\n",
        "    \n",
        "    def area(self):\n",
        "        return self.length * self.breadth\n",
        "\n",
        "class Triangle(Polygon):\n",
        "    \n",
        "    def get_data(self,base,height):\n",
        "        self.base = base\n",
        "        self.height = height\n",
        "    \n",
        "    def area(self):\n",
        "        return self.base * self.height\n",
        "    \n",
        "# Driver code:\n",
        "rectangle = Rectangle()\n",
        "rectangle.get_data(5,3)\n",
        "triangle = Triangle()\n",
        "triangle.get_data(4,6)\n",
        "print(f\"Rectangle Area: {rectangle.area()}\")\n",
        "print(f\"Triangle Area: {triangle.area()}\")"
      ]
    },
    {
      "cell_type": "markdown",
      "metadata": {
        "id": "sEsGEqOHCSWG"
      },
      "source": [
        "### `Problem-5:` Write a program with class Bill. The users have the option to pay the bill either by cheque or by cash. Use the inheritance to model this situation."
      ]
    },
    {
      "cell_type": "code",
      "execution_count": 47,
      "metadata": {
        "id": "l0WFyP2PB3nf"
      },
      "outputs": [],
      "source": [
        "class Bill:\n",
        "    \n",
        "    def __init__(self,items,price):\n",
        "        self.total = 0\n",
        "        self.items = items\n",
        "        self.price = price\n",
        "        \n",
        "        self.total = sum(self.price)\n",
        "        \n",
        "    def display(self):\n",
        "        print(\"Item \\tPrice\")\n",
        "        for i in range(len(self.items)):\n",
        "            print(self.items[i],'\\t',self.price[i])\n",
        "        print('*'*50)\n",
        "    \n",
        "        print(f\"Total {self.total}\")\n",
        "        \n",
        "class ChequePayment(Bill):\n",
        "    \n",
        "    def __init__(self,items,price,cno,bank_name):\n",
        "        super().__init__(items,price)\n",
        "        self.cno = cno\n",
        "        self.bank_name = bank_name\n",
        "\n",
        "    def show_bill_payment(self):\n",
        "        super().display()\n",
        "        print(f\"Cheque number : {self.cno}\")\n",
        "        print(f\"Bank name : {self.bank_name}\")\n",
        "    \n",
        "class CashPayment(Bill):\n",
        "    \n",
        "    def __init__(self,items,price,deno,value):\n",
        "        super().__init__(items,price)\n",
        "        self.deno = deno\n",
        "        self.value = value\n",
        "    \n",
        "    def show_bill_payment(self):\n",
        "        super().display()\n",
        "        for i in range(len(self.deno)):\n",
        "            print(f\"{self.deno[i]} * {self.value[i]} = {self.deno[i] * self.value[i]}\")\n",
        "            \n",
        "            \n"
      ]
    },
    {
      "cell_type": "code",
      "execution_count": 49,
      "metadata": {},
      "outputs": [
        {
          "name": "stdout",
          "output_type": "stream",
          "text": [
            "Item \tPrice\n",
            "HDD \t 5000\n",
            "RAM \t 600\n",
            "Printer \t 2000\n",
            "Pen Drive \t 300\n",
            "**************************************************\n",
            "Total 7900\n",
            "Cheque number : CNQ1234556\n",
            "Bank name : Canara\n"
          ]
        }
      ],
      "source": [
        "items = ['HDD','RAM','Printer','Pen Drive']\n",
        "price = [5000,600,2000,300]\n",
        "option = int(input(\"Would you like to pay by cheque or cash(1/2) : \"))\n",
        "\n",
        "if option == 1:\n",
        "    name = input(\"Enter the name of the bank : \")\n",
        "    cno = input(\"Enter the cheque number : \")\n",
        "    cheque = ChequePayment(items,price,cno,name)\n",
        "    cheque.show_bill_payment()\n",
        "    \n",
        "else:\n",
        "    deno = [5000, 2000,6000,800]\n",
        "    value = [1,1,1,20,4,5]\n",
        "    cash = CashPayment(items, price,deno,value)\n",
        "    cash.show_bill_payment()\n"
      ]
    },
    {
      "cell_type": "markdown",
      "metadata": {
        "id": "v1M5Yh9ZZO0z"
      },
      "source": [
        "### `Q-6:` FlexibleDict\n",
        "As of now we are accessing values from dictionary with exact keys. Now we want to amend accessing values functionality. if a dict have key `1` (int) the even if we try to access values by giving `'1'` (1 as str) as key, we should get the same result and vice versa.\n",
        "\n",
        "Write a class `FlexibleDict` upon builtin `dict` class with above required functionality.\n",
        "\n",
        "Hint- `dict[key] => dict.__getitem__(key)`"
      ]
    },
    {
      "cell_type": "markdown",
      "metadata": {
        "id": "uajGeWegbfda"
      },
      "source": [
        "Ex.\n",
        "```\n",
        "fd = FlexibleDict()\n",
        "fd['a'] = 100\n",
        "print(fd['a']) # Like regular dict\n",
        "\n",
        "fd[5] = 500\n",
        "print(fd[5]) # Like regular dict\n",
        "\n",
        "fd[1] = 100\n",
        "print(fd['1']) # actual Key is int but still trying to access through str key.\n",
        "fd['1'] = 100\n",
        "print(fd[1])\n",
        "\n",
        "```\n",
        "`Output:`\n",
        "```\n",
        "100\n",
        "500\n",
        "100\n",
        "100\n",
        "\n",
        "```"
      ]
    },
    {
      "cell_type": "code",
      "execution_count": null,
      "metadata": {
        "id": "OHLbOtCxZ2nw"
      },
      "outputs": [],
      "source": []
    }
  ],
  "metadata": {
    "colab": {
      "collapsed_sections": [
        "BCleRtX43caS",
        "KBbGNTtQ47mJ",
        "ExIxsv4y-oEd",
        "OcQhJvXVALgp",
        "sEsGEqOHCSWG",
        "v1M5Yh9ZZO0z"
      ],
      "provenance": []
    },
    "kernelspec": {
      "display_name": "Python 3",
      "name": "python3"
    },
    "language_info": {
      "codemirror_mode": {
        "name": "ipython",
        "version": 3
      },
      "file_extension": ".py",
      "mimetype": "text/x-python",
      "name": "python",
      "nbconvert_exporter": "python",
      "pygments_lexer": "ipython3",
      "version": "3.12.0"
    }
  },
  "nbformat": 4,
  "nbformat_minor": 0
}
