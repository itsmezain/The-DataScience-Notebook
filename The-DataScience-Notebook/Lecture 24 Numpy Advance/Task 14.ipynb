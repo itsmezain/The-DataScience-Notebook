{
  "cells": [
    {
      "cell_type": "code",
      "execution_count": 1,
      "metadata": {},
      "outputs": [],
      "source": [
        "import numpy as np"
      ]
    },
    {
      "cell_type": "markdown",
      "metadata": {
        "id": "1uamk9vAix0o"
      },
      "source": [
        "### `Q-1:` Find the nearest element in the array to a given integer.\n",
        "```\n",
        "Ex:-\n",
        "a=23 and array - [10 17 24 31 38 45 52 59].\n",
        "Nearest element is 24\n",
        "```\n",
        "Hint: Read about this function `argmin()`"
      ]
    },
    {
      "cell_type": "code",
      "execution_count": null,
      "metadata": {
        "id": "ddkpbpR6iySZ"
      },
      "outputs": [
        {
          "name": "stdout",
          "output_type": "stream",
          "text": [
            "[10 17 24 31 45 52 59]\n",
            "24\n"
          ]
        }
      ],
      "source": [
        "# code here\n",
        "\n",
        "arr = np.array([10, 17, 24, 31, 45, 52, 59])\n",
        "print(arr)  # [10 17 24 31 45 52 59]\n",
        "a = 23\n",
        "sub_arr = arr - a\n",
        "sub_arr[sub_arr < 0] *= -1\n",
        "\n",
        "print(arr[np.argmin(sub_arr)])"
      ]
    },
    {
      "cell_type": "markdown",
      "metadata": {},
      "source": [
        "<center>OR</center>"
      ]
    },
    {
      "cell_type": "code",
      "execution_count": null,
      "metadata": {},
      "outputs": [
        {
          "name": "stdout",
          "output_type": "stream",
          "text": [
            "Nearest element is 24\n"
          ]
        }
      ],
      "source": [
        "def nearest_element(target, arr):\n",
        "    # Convert arr to a NumPy array (if it isn't already)\n",
        "    arr = np.array(arr)\n",
        "    # Calculate the absolute difference between each element and the target\n",
        "    differences = np.abs(arr - target)\n",
        "    # Find the index of the minimum difference\n",
        "    index = np.argmin(differences)\n",
        "    # Return the element at that index\n",
        "    return arr[index]\n",
        "\n",
        "\n",
        "# Example usage:\n",
        "target = 23\n",
        "array = [10, 17, 24, 31, 38, 45, 52, 59]\n",
        "print(\"Nearest element is\", nearest_element(target, array))"
      ]
    },
    {
      "cell_type": "markdown",
      "metadata": {
        "id": "Y1QkHyPpizyp"
      },
      "source": [
        "### `Q-2:` Replace multiples of 3 or 5 as 0 in the given array.\n",
        "```\n",
        "arr=[1 2 3 4 5 6 7 9]\n",
        "\n",
        "result-> [1 2 0 4 0 0 7 0]\n",
        "```"
      ]
    },
    {
      "cell_type": "code",
      "execution_count": null,
      "metadata": {
        "id": "JjtxMlhWi25l"
      },
      "outputs": [
        {
          "data": {
            "text/plain": [
              "array([1, 2, 0, 4, 0, 0, 7, 0])"
            ]
          },
          "execution_count": 12,
          "metadata": {},
          "output_type": "execute_result"
        }
      ],
      "source": [
        "# code here\n",
        "\n",
        "arr = np.array([1, 2, 3, 4, 5, 6, 7, 9])\n",
        "\n",
        "arr[(arr % 3 == 0) | (arr % 5 == 0)] = 0\n",
        "arr"
      ]
    },
    {
      "cell_type": "markdown",
      "metadata": {
        "id": "Pi_dZSwTi4OI"
      },
      "source": [
        "### `Q-3:` Use Fancy Indexing.\n",
        "1. Double the array elements at  given indexes\n",
        "```\n",
        "arr = np.arrange(10)\n",
        "indexes = [0,3,4,9]\n",
        "```\n",
        "Result -> `[ 0  1  2  6  8  5  6  7  8 18]`\n",
        "\n",
        "2. Using a given array make a different array as in below example\n",
        "```\n",
        "array = [1,2,3]\n",
        "result array -> [1 1 1 2 2 2 3 3 3]\n",
        "```\n",
        "* Internal-repetion should be as length of the array.\n",
        "\n",
        "Hint:\n",
        "```\n",
        "if a is an array\n",
        "a = [2,4]\n",
        "a[[1,1,0,1]] will result in-> [4 4 2 4]\n",
        "```"
      ]
    },
    {
      "cell_type": "code",
      "execution_count": null,
      "metadata": {},
      "outputs": [
        {
          "data": {
            "text/plain": [
              "array([ 0,  1,  2,  6,  8,  5,  6,  7,  8, 18])"
            ]
          },
          "execution_count": 16,
          "metadata": {},
          "output_type": "execute_result"
        }
      ],
      "source": [
        "# code here\n",
        "# 1 =>\n",
        "arr = np.arange(10)\n",
        "indexes = [0, 3, 4, 9]\n",
        "\n",
        "arr[indexes] *= 2\n",
        "arr"
      ]
    },
    {
      "cell_type": "code",
      "execution_count": null,
      "metadata": {},
      "outputs": [
        {
          "data": {
            "text/plain": [
              "array([1, 1, 1, 2, 2, 2, 3, 3, 3])"
            ]
          },
          "execution_count": 19,
          "metadata": {},
          "output_type": "execute_result"
        }
      ],
      "source": [
        "# 2 ==> using repeat\n",
        "arr = np.array([1, 2, 3])\n",
        "result_arr = np.repeat(arr, np.size(arr))\n",
        "result_arr"
      ]
    },
    {
      "cell_type": "code",
      "execution_count": null,
      "metadata": {},
      "outputs": [
        {
          "data": {
            "text/plain": [
              "array([1, 1, 1, 1, 2, 2, 2, 2, 3, 3, 3, 3, 4, 4, 4, 4])"
            ]
          },
          "execution_count": 18,
          "metadata": {},
          "output_type": "execute_result"
        }
      ],
      "source": [
        "# using fancy indexing\n",
        "\n",
        "arr = np.array([1, 2, 3])\n",
        "indexes = []\n",
        "for i in range(len(arr)):\n",
        "    indexes.extend([i] * len(arr))\n",
        "\n",
        "arr[indexes]"
      ]
    },
    {
      "cell_type": "markdown",
      "metadata": {
        "id": "UDehG0tFi89i"
      },
      "source": [
        "### `Q-4:` Your are given an array which is havig some nan value. You job is to fill those nan values with most common element in the array.\n",
        "```\n",
        "arr=np.array([[1,2,np.nan],[4,2,6],[np.nan,np.nan,5]])\n",
        "\n",
        "```"
      ]
    },
    {
      "cell_type": "code",
      "execution_count": null,
      "metadata": {
        "id": "YH13A6w9jEyu"
      },
      "outputs": [
        {
          "name": "stdout",
          "output_type": "stream",
          "text": [
            "The mode of the array is ModeResult(mode=2.0, count=2)\n"
          ]
        },
        {
          "data": {
            "text/plain": [
              "array([[1., 2., 2.],\n",
              "       [4., 2., 6.],\n",
              "       [2., 2., 5.]])"
            ]
          },
          "execution_count": 30,
          "metadata": {},
          "output_type": "execute_result"
        }
      ],
      "source": [
        "# code here\n",
        "from scipy import stats\n",
        "\n",
        "arr = np.array([[1, 2, np.nan], [4, 2, 6], [np.nan, np.nan, 5]])\n",
        "\n",
        "mode_result = stats.mode(arr, nan_policy=\"omit\", axis=None)\n",
        "print(f\"The mode of the array is {mode_result}\")\n",
        "arr[np.isnan(arr)] = mode_result[0]\n",
        "\n",
        "arr"
      ]
    },
    {
      "cell_type": "markdown",
      "metadata": {},
      "source": [
        "<center>OR</center>"
      ]
    },
    {
      "cell_type": "code",
      "execution_count": 42,
      "metadata": {},
      "outputs": [
        {
          "name": "stdout",
          "output_type": "stream",
          "text": [
            "Values : [1. 2. 4. 5. 6.] \n",
            "\n",
            "Counts : [1 2 1 1 1]\n",
            "2.0\n"
          ]
        },
        {
          "data": {
            "text/plain": [
              "array([[1., 2., 2.],\n",
              "       [4., 2., 6.],\n",
              "       [2., 2., 5.]])"
            ]
          },
          "execution_count": 42,
          "metadata": {},
          "output_type": "execute_result"
        }
      ],
      "source": [
        "arr = np.array([[1, 2, np.nan], [4, 2, 6], [np.nan, np.nan, 5]])\n",
        "\n",
        "# Flatten the array and remove NaN values to calculate the mode\n",
        "arr_flat = arr[~np.isnan(arr)]  # Remove NaNs\n",
        "\n",
        "values, counts = np.unique(arr_flat, return_counts=True)\n",
        "print(f\"Values : {values} \\n\\nCounts : {counts}\")\n",
        "\n",
        "mode_index = np.nanargmax(counts)\n",
        "mode_value = values[mode_index]\n",
        "print(mode_value)\n",
        "\n",
        "arr[np.isnan(arr)] = mode_value\n",
        "arr"
      ]
    },
    {
      "cell_type": "markdown",
      "metadata": {
        "id": "Tk2JnioUjJ_t"
      },
      "source": [
        "### `Q-5:` Write a NumPy program\n",
        "\n",
        "- to find the missing data in a given array. Return a boolean matrix.\n",
        "- also try to fill those missing values with 0. For that, you can use `np.nan_to_num(a)`\n",
        "\n",
        "```python\n",
        "import numpy as np\n",
        "\n",
        "np.array([[3, 2, np.nan, 1],\n",
        "          [10, 12, 10, 9],\n",
        "          [5, np.nan, 1, np.nan]])\n",
        "```"
      ]
    },
    {
      "cell_type": "code",
      "execution_count": 48,
      "metadata": {
        "id": "nPEBTQJ_jJZe"
      },
      "outputs": [
        {
          "name": "stdout",
          "output_type": "stream",
          "text": [
            "[[False False  True False]\n",
            " [False False False False]\n",
            " [False  True False  True]]\n"
          ]
        }
      ],
      "source": [
        "# code here\n",
        "\n",
        "# 1 =>\n",
        "arr = np.array([[3, 2, np.nan, 1], [10, 12, 10, 9], [5, np.nan, 1, np.nan]])\n",
        "\n",
        "print(np.isnan(arr))"
      ]
    },
    {
      "cell_type": "code",
      "execution_count": 50,
      "metadata": {},
      "outputs": [
        {
          "data": {
            "text/plain": [
              "array([[ 3.,  2.,  0.,  1.],\n",
              "       [10., 12., 10.,  9.],\n",
              "       [ 5.,  0.,  1.,  0.]])"
            ]
          },
          "execution_count": 50,
          "metadata": {},
          "output_type": "execute_result"
        }
      ],
      "source": [
        "arr = np.nan_to_num(arr, nan = 0.0)\n",
        "arr"
      ]
    },
    {
      "cell_type": "markdown",
      "metadata": {
        "id": "FFUnZtG7jNBH"
      },
      "source": [
        "### `Q-6:` Given two arrays, X and Y, construct the Cauchy matrix C.\n",
        "`Cij =1/(xi - yj)`\n",
        "\n",
        "http://en.wikipedia.org/wiki/Cauchy_matrix\n",
        "```\n",
        "x = numpy.array([1,2,3,4]).reshape((-1, 1))\n",
        "y = numpy.array([5,6,7])\n",
        "```"
      ]
    },
    {
      "cell_type": "code",
      "execution_count": 53,
      "metadata": {
        "id": "pQXHa38TjVEh"
      },
      "outputs": [
        {
          "data": {
            "text/plain": [
              "array([[-0.25      , -0.2       , -0.16666667],\n",
              "       [-0.33333333, -0.25      , -0.2       ],\n",
              "       [-0.5       , -0.33333333, -0.25      ],\n",
              "       [-1.        , -0.5       , -0.33333333]])"
            ]
          },
          "execution_count": 53,
          "metadata": {},
          "output_type": "execute_result"
        }
      ],
      "source": [
        "# code here\n",
        "\n",
        "x = np.array([1,2,3,4]).reshape((-1, 1))\n",
        "y = np.array([5,6,7])\n",
        "\n",
        "Cij = 1/ (x - y)\n",
        "Cij"
      ]
    },
    {
      "cell_type": "markdown",
      "metadata": {
        "id": "EbkHZCF1jWNc"
      },
      "source": [
        "### `Q-7:` Plot this below equation.\n",
        "\n",
        "$$\\large y = \\frac{e^x - e^{-x}}{e^x + e^{-x}}$$\n",
        "\n",
        "**Note: This equation is called tanh activation function. In deep learning, many times this function is used. If you find some difference between the sigmoid function and this tanh function, note that to your notebook.**"
      ]
    },
    {
      "cell_type": "code",
      "execution_count": 71,
      "metadata": {
        "id": "n6OcN--FjbLC"
      },
      "outputs": [
        {
          "data": {
            "image/png": "[encoded data removed]",
            "text/plain": [
              "<Figure size 640x480 with 1 Axes>"
            ]
          },
          "metadata": {},
          "output_type": "display_data"
        }
      ],
      "source": [
        "# code here\n",
        "import matplotlib.pyplot as plt\n",
        "\n",
        "x = np.linspace(-30, 30, 100)\n",
        "y =( np.exp(x) - np.exp(-x) )/ (np.exp(x) + np.exp(-x))\n",
        "\n",
        "plt.plot(x,y)\n",
        "plt.title(\"Tanh Activation function graph\")\n",
        "\n",
        "plt.plot(x, y, label=r'$y = \\frac{e^x - e^{-x}}{e^x + e^{-x}}$')\n",
        "plt.title(label='Plot of Hyperbolic Tangent Function')\n",
        "plt.xlabel(xlabel='X')\n",
        "plt.ylabel(ylabel='Y')\n",
        "plt.legend()\n",
        "plt.grid()\n",
        "plt.show()"
      ]
    },
    {
      "cell_type": "code",
      "execution_count": null,
      "metadata": {},
      "outputs": [
        {
          "data": {
            "image/png": "[encoded data removed]",
            "text/plain": [
              "<Figure size 800x600 with 1 Axes>"
            ]
          },
          "metadata": {},
          "output_type": "display_data"
        }
      ],
      "source": [
        "# Create a high-resolution x array and compute tanh using the definition (or np.tanh)\n",
        "x = np.linspace(-10, 10, 1000)\n",
        "y = (np.exp(x) - np.exp(-x)) / (np.exp(x) + np.exp(-x))  # Alternatively: y = np.tanh(x)\n",
        "\n",
        "# Create a figure and axis for plotting\n",
        "fig, ax = plt.subplots(figsize=(8, 6))\n",
        "\n",
        "# Plot the tanh function with a label\n",
        "ax.plot(x, y, label=r'$y = \\frac{e^x - e^{-x}}{e^x + e^{-x}}$', color='blue')\n",
        "\n",
        "# Set titles and labels\n",
        "ax.set_title(\"Plot of Hyperbolic Tangent Function\", fontsize=14)\n",
        "ax.set_xlabel(\"X\", fontsize=12)\n",
        "ax.set_ylabel(\"Y\", fontsize=12)\n",
        "\n",
        "# Add a legend\n",
        "ax.legend(loc='upper left')\n",
        "\n",
        "# Add gridlines\n",
        "ax.grid(True, which='both', linestyle='--', linewidth=0.5)\n",
        "\n",
        "# Move spines to center (x=0, y=0)\n",
        "ax.spines['left'].set_position('zero')\n",
        "ax.spines['bottom'].set_position('zero')\n",
        "\n",
        "# Hide the top and right spines\n",
        "ax.spines['right'].set_color('none')\n",
        "ax.spines['top'].set_color('none')\n",
        "\n",
        "# Optionally, adjust the ticks so they appear only on the left and bottom\n",
        "ax.xaxis.set_ticks_position('bottom')\n",
        "ax.yaxis.set_ticks_position('left')\n",
        "\n",
        "plt.show()\n"
      ]
    },
    {
      "cell_type": "markdown",
      "metadata": {
        "id": "xujS-pu4jciH"
      },
      "source": [
        "### `Q-8:` Plot the below equation.\n",
        "\n",
        "$$\\large y = \\sqrt{36 - (x - 4)^2} + 2$$\n",
        "\n",
        "The range of x should be between -2 to 10. $x ∈ [-2, 10]$\n",
        "\n"
      ]
    },
    {
      "cell_type": "code",
      "execution_count": 65,
      "metadata": {
        "id": "7CagwKP_jhIQ"
      },
      "outputs": [
        {
          "data": {
            "text/plain": [
              "[<matplotlib.lines.Line2D at 0x1ffa8da0>]"
            ]
          },
          "execution_count": 65,
          "metadata": {},
          "output_type": "execute_result"
        },
        {
          "data": {
            "image/png": "[encoded data removed]",
            "text/plain": [
              "<Figure size 640x480 with 1 Axes>"
            ]
          },
          "metadata": {},
          "output_type": "display_data"
        }
      ],
      "source": [
        "# code here \n",
        "\n",
        "x = np.linspace(-2,10,100)\n",
        "y = np.sqrt(36-(x-4)**2) + 2\n",
        "\n",
        "plt.plot(x,y)\n"
      ]
    },
    {
      "cell_type": "markdown",
      "metadata": {
        "id": "Jf14pxCfjiX1"
      },
      "source": [
        "### `Q-9:` Write a program implement Boradcasting Rule to check if two array can be added or not.\n",
        "Given tuples of shapes.\n",
        "```\n",
        "shape of a- (3,2,2)\n",
        "shape of b- (2,2)\n",
        "\n",
        "check_broadcast(a, b) -> return Boolean (True if can broadcasted, False other wise.)\n",
        "```"
      ]
    },
    {
      "cell_type": "code",
      "execution_count": 70,
      "metadata": {
        "id": "qSKGG0Yajlc8"
      },
      "outputs": [
        {
          "name": "stdout",
          "output_type": "stream",
          "text": [
            "True\n"
          ]
        }
      ],
      "source": [
        "# code here\n",
        "\n",
        "\n",
        "def check_broadcasting(arr1, arr2):\n",
        "    try:\n",
        "        np.broadcast_shapes(arr1.shape, arr2.shape)  # Only checks shapes, avoids computation\n",
        "        return True\n",
        "    except ValueError:\n",
        "        return False\n",
        "\n",
        "\n",
        "arr1 = np.arange(12).reshape(3, 2, 2)\n",
        "arr2 = np.arange(4).reshape(2, 2)\n",
        "print(check_broadcasting(arr1, arr2))  # Output: True"
      ]
    },
    {
      "cell_type": "markdown",
      "metadata": {},
      "source": [
        "<center>OR</center>"
      ]
    },
    {
      "cell_type": "code",
      "execution_count": null,
      "metadata": {},
      "outputs": [],
      "source": [
        "# Array of Shape:\n",
        "#   4 3 1 5\n",
        "#       2 5\n",
        "\n",
        "# Algorithm:\n",
        "# 1 ==> First align the both shape\n",
        "# 2 ==> Loop for both shape from behind\n",
        "# 3 ==>     If two number are  not equal then neither of them is 1 then return False\n",
        "#       return true"
      ]
    },
    {
      "cell_type": "code",
      "execution_count": 99,
      "metadata": {},
      "outputs": [
        {
          "data": {
            "text/plain": [
              "False"
            ]
          },
          "execution_count": 99,
          "metadata": {},
          "output_type": "execute_result"
        }
      ],
      "source": [
        "def check_broadcast(arr1, arr2):\n",
        "    a = arr1[::-1]\n",
        "    b = arr2[::-1]\n",
        "    \n",
        "    for i in zip(a,b):\n",
        "        if i[0] != i[1] and i[0] != 1 and i[1] != 1:\n",
        "            return False\n",
        "    return True\n",
        "    \n",
        "check_broadcast((4,3,3,5),(2,5))"
      ]
    }
  ],
  "metadata": {
    "colab": {
      "provenance": []
    },
    "kernelspec": {
      "display_name": "Python 3",
      "name": "python3"
    },
    "language_info": {
      "codemirror_mode": {
        "name": "ipython",
        "version": 3
      },
      "file_extension": ".py",
      "mimetype": "text/x-python",
      "name": "python",
      "nbconvert_exporter": "python",
      "pygments_lexer": "ipython3",
      "version": "3.12.0"
    }
  },
  "nbformat": 4,
  "nbformat_minor": 0
}
