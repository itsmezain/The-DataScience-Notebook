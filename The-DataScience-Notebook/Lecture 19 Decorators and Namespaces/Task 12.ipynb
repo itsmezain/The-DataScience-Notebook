{
  "cells": [
    {
      "cell_type": "markdown",
      "metadata": {
        "id": "hM8V4LxHKV6x"
      },
      "source": [
        "## Namespace and Scope"
      ]
    },
    {
      "cell_type": "markdown",
      "metadata": {
        "id": "Kl3s2TonKYgY"
      },
      "source": [
        "### `Q1:` Write `Person` Class as given below and then display it's namespace.\n",
        "\n"
      ]
    },
    {
      "cell_type": "markdown",
      "metadata": {
        "id": "grudG97hL83C"
      },
      "source": [
        "```\n",
        "Class Name - Person\n",
        "\n",
        "Attributes:\n",
        "name - public\n",
        "state - public\n",
        "city - private\n",
        "age - private\n",
        "\n",
        "Methods:\n",
        "address - public\n",
        "It give address of the person as \"<name>, <city>, <state>\"\n",
        "```"
      ]
    },
    {
      "cell_type": "code",
      "execution_count": 3,
      "metadata": {
        "id": "BRq-I4jmKX0U"
      },
      "outputs": [
        {
          "data": {
            "text/plain": [
              "mappingproxy({'__module__': '__main__',\n",
              "              '__init__': <function __main__.Person.__init__(self, name, state, city, age)>,\n",
              "              'address': <function __main__.Person.address(self)>,\n",
              "              '__dict__': <attribute '__dict__' of 'Person' objects>,\n",
              "              '__weakref__': <attribute '__weakref__' of 'Person' objects>,\n",
              "              '__doc__': None})"
            ]
          },
          "execution_count": 3,
          "metadata": {},
          "output_type": "execute_result"
        }
      ],
      "source": [
        "#Write your code here\n",
        "class Person:\n",
        "    \n",
        "    def __init__(self,name,state,city,age):\n",
        "        self.name = name\n",
        "        self.state = state\n",
        "        self.__city = city\n",
        "        self.__age = age\n",
        "        \n",
        "    def address(self):\n",
        "        print(f\"{self.name}, {self.__city}, {self.state}\")\n",
        "\n",
        "person = Person(\"Zain\",\"Uttar Pradesh\", \"Allahabad\", \"18\")\n",
        "\n",
        "Person.__dict__\n"
      ]
    },
    {
      "cell_type": "markdown",
      "metadata": {
        "id": "NLtOPOXDL_zB"
      },
      "source": [
        "### `Q2:` Write a program to show namespace of object/instance of above(Person) class."
      ]
    },
    {
      "cell_type": "code",
      "execution_count": 33,
      "metadata": {
        "id": "w3fj9tf0MJ3Z"
      },
      "outputs": [
        {
          "data": {
            "text/plain": [
              "{'name': 'Zain',\n",
              " 'state': 'Uttar Pradesh',\n",
              " '_Person__city': 'Allahabad',\n",
              " '_Person__age': '18'}"
            ]
          },
          "execution_count": 33,
          "metadata": {},
          "output_type": "execute_result"
        }
      ],
      "source": [
        "#Write your code here\n",
        "\n",
        "\n",
        "class Person:\n",
        "    \n",
        "    def __init__(self,name,state,city,age):\n",
        "        self.name = name\n",
        "        self.state = state\n",
        "        self.__city = city\n",
        "        self.__age = age\n",
        "        \n",
        "    def address(self):\n",
        "        print(f\"{self.name}, {self.__city}, {self.state}\")\n",
        "\n",
        "person = Person(\"Zain\",\"Uttar Pradesh\", \"Allahabad\", \"18\")\n",
        "\n",
        "person.__dict__\n"
      ]
    },
    {
      "cell_type": "markdown",
      "metadata": {
        "id": "rRnCZmlUY8sn"
      },
      "source": [
        "### `Q3:` Write a recursive program to to calculate `gcd` and print no. of function calls taken to find the solution.\n",
        "```\n",
        "gcd(5,10) -> result in 5 as gcd and function call 4\n",
        "```"
      ]
    },
    {
      "cell_type": "code",
      "execution_count": 36,
      "metadata": {
        "id": "jYiVzxhUZRln"
      },
      "outputs": [
        {
          "name": "stdout",
          "output_type": "stream",
          "text": [
            "9\n",
            "6\n"
          ]
        }
      ],
      "source": [
        "# time complexity => O(min(a,b))\n",
        "no_of_call = 0\n",
        "def gcd(a,b):\n",
        "    global no_of_call \n",
        "    no_of_call += 1\n",
        "    if b == a:\n",
        "        return a\n",
        "    elif a > b:\n",
        "        return gcd(a-b,b)\n",
        "    else:\n",
        "        return gcd(b-a,a)\n",
        "\n",
        "print(gcd(45,54))\n",
        "print(no_of_call)"
      ]
    },
    {
      "cell_type": "code",
      "execution_count": 42,
      "metadata": {},
      "outputs": [
        {
          "name": "stdout",
          "output_type": "stream",
          "text": [
            "9\n",
            "4\n"
          ]
        }
      ],
      "source": [
        "# time complexity => O(log(min(a,b)))\n",
        "\n",
        "no_of_call = 0\n",
        "def gcd(a,b):\n",
        "    global no_of_call \n",
        "    no_of_call += 1\n",
        "    if b == 0:\n",
        "        return a\n",
        "    else:\n",
        "        return gcd(b, a % b)\n",
        "\n",
        "print(gcd(45,54))\n",
        "print(no_of_call)"
      ]
    },
    {
      "cell_type": "markdown",
      "metadata": {
        "id": "FbDepR9QNGnh"
      },
      "source": [
        "## Itterator And Generator"
      ]
    },
    {
      "cell_type": "markdown",
      "metadata": {
        "id": "Nj5WaR_4NJTu"
      },
      "source": [
        "### `Q4:` Create MyEnumerate class,\n",
        "Create your own `MyEnumerate` class such that someone can use it instead of enumerate. It will need to return a `tuple` with each iteration, with the first element in the tuple being the `index` (starting with 0) and the second element being the `current element` from the underlying data structure. Trying to use `MyEnumerate` with a noniterable argument will result in an error.\n",
        "\n",
        "```\n",
        "for index, letter in MyEnumerate('abc'):\n",
        "    print(f'{index} : {letter}')\n",
        "```\n",
        "\n",
        "Output:\n",
        "```\n",
        "0 : a\n",
        "1 : b\n",
        "2 : c\n",
        "```"
      ]
    },
    {
      "cell_type": "code",
      "execution_count": 51,
      "metadata": {
        "id": "6zjcm2gxNbfJ"
      },
      "outputs": [
        {
          "name": "stdout",
          "output_type": "stream",
          "text": [
            "0 : a\n",
            "1 : b\n",
            "2 : c\n"
          ]
        }
      ],
      "source": [
        "# Write your code here\n",
        "\n",
        "from collections.abc import Iterator\n",
        "class MyEnumerate:\n",
        "    \n",
        "    def __init__(self,l):\n",
        "        self.index = -1\n",
        "        self.l = l\n",
        "        self.validate()\n",
        "        \n",
        "    def validate(self):\n",
        "        if (isinstance(self.l, Iterator)):\n",
        "            raise ValueError(\"Input should be an iterable\")\n",
        "        \n",
        "    def __iter__(self):\n",
        "        return self\n",
        "\n",
        "    def __next__(self):\n",
        "        self.index += 1\n",
        "        if self.index >= len(self.l):  # Handling StopIteration properly\n",
        "            raise StopIteration\n",
        "        return (self.index, self.l[self.index])  # Returning the tuple\n",
        "            \n",
        "for index, letter in MyEnumerate('abc'):\n",
        "    print(f'{index} : {letter}')\n",
        "    \n"
      ]
    },
    {
      "cell_type": "markdown",
      "metadata": {
        "id": "U2Ai7rVDOLBw"
      },
      "source": [
        "### `Q5:` Iterate in circle\n",
        "Define a class, `Circle`, that takes two arguments when defined: a sequence and a number. The idea is that the object will then return elements the defined number of times. If the number is greater than the number of elements, then the sequence  repeats as necessary. You can define an another class used as a helper (like I call `CircleIterator`).\n",
        "\n",
        "```\n",
        "c = Circle('abc', 5)\n",
        "d = Circle('abc', 7)\n",
        "print(list(c))\n",
        "print(list(d))\n",
        "```\n",
        "\n",
        "Output\n",
        "```\n",
        "[a, b, c, a, b]\n",
        "[a, b, c, a, b, c, a]\n",
        "```"
      ]
    },
    {
      "cell_type": "code",
      "execution_count": 64,
      "metadata": {
        "id": "iwcTy1HyO5hs"
      },
      "outputs": [
        {
          "name": "stdout",
          "output_type": "stream",
          "text": [
            "['a', 'b', 'c', 'a', 'b']\n",
            "['a', 'b', 'c', 'a', 'b', 'c', 'a']\n"
          ]
        }
      ],
      "source": [
        "# Write your code here\n",
        "\n",
        "class Circle:\n",
        "    def __init__(self, seq, n):\n",
        "        self.seq = seq\n",
        "        self.num = n\n",
        "        self.index = -1\n",
        "    def __iter__(self):\n",
        "        return self\n",
        "    \n",
        "    def __next__(self):\n",
        "        self.index += 1\n",
        "        if self.index < self.num:\n",
        "            return self.seq[self.index % len(self.seq)]\n",
        "        else:\n",
        "            raise StopIteration\n",
        "        \n",
        "c = Circle('abc', 5)\n",
        "d = Circle('abc', 7)\n",
        "print(list(c))\n",
        "print(list(d))\n"
      ]
    },
    {
      "cell_type": "markdown",
      "metadata": {
        "id": "17KyhciKQnAE"
      },
      "source": [
        "### `Q6:` Generator time elapsed\n",
        "Write a generator function whose argument must be iterable. With each iteration, the generator will return a two-element tuple. The first element in the tuple will be an integer indicating how many seconds have passed since the previous iteration. The tuple’s second element will be the next item from the passed argument.\n",
        "\n",
        "Note that the timing should be relative to the previous iteration, not when the\n",
        "generator was first created or invoked. Thus the timing number in the first iteration\n",
        "will be 0\n",
        "\n",
        "```\n",
        "for t in elapsed_since('abcd'):\n",
        "    print(t)\n",
        "    time.sleep(2)\n",
        "```\n",
        "\n",
        "Output:\n",
        "```\n",
        "(0.0, 'a')\n",
        "(2.005651817999933, 'b')\n",
        "(2.0023095009998997, 'c')\n",
        "(2.001949742000079, 'd')\n",
        "```\n",
        "Note: Your output may differ because of diffrent system has different processing configuration."
      ]
    },
    {
      "cell_type": "code",
      "execution_count": 91,
      "metadata": {
        "id": "UkH1tj9zQ-gc"
      },
      "outputs": [],
      "source": [
        "# Write yor code\n",
        "\n",
        "import time\n",
        "def elapsed_since(l):\n",
        "    previous_time  = time.time()\n",
        "    for _ in l:\n",
        "        current_time = time.time()\n",
        "        yield ( current_time - previous_time, _)\n",
        "        previous_time = current_time"
      ]
    },
    {
      "cell_type": "code",
      "execution_count": 92,
      "metadata": {
        "colab": {
          "base_uri": "https://localhost:8080/"
        },
        "id": "i0X6JreBRlYG",
        "outputId": "f7bae901-6522-4cb7-bea2-5587cebd478a"
      },
      "outputs": [
        {
          "name": "stdout",
          "output_type": "stream",
          "text": [
            "(0.0, 'a')\n",
            "(2.003279447555542, 'b')\n",
            "(2.0003297328948975, 'c')\n",
            "(2.0005433559417725, 'd')\n"
          ]
        }
      ],
      "source": [
        "for t in elapsed_since('abcd'):\n",
        "    print(t)\n",
        "    time.sleep(2)"
      ]
    },
    {
      "cell_type": "markdown",
      "metadata": {
        "id": "fXr3OJxJSC1j"
      },
      "source": [
        "## Decorators"
      ]
    },
    {
      "cell_type": "markdown",
      "metadata": {
        "id": "xSjvwAt-SFhi"
      },
      "source": [
        "### `Q7:` Write a Python program to make a chain of function decorators (bold, italic, underline etc.) on a given function which prints \"hello world\"\n",
        "\n",
        "```\n",
        "def hello():\n",
        "    return \"hello world\"\n",
        "```\n",
        "\n",
        "```\n",
        "bold - wrap string with <b> tag. <b>Str</b>\n",
        "italic - wrap string with <i> tag. <i>Str</i>\n",
        "underline- wrap string with <u> tag. <u>Str</u>\n",
        "```"
      ]
    },
    {
      "cell_type": "code",
      "execution_count": 105,
      "metadata": {
        "id": "prVeZGYlSorr"
      },
      "outputs": [],
      "source": [
        "#Write your code here\n",
        "\n",
        "def bold(func):\n",
        "    def wrapper():\n",
        "        result = func()\n",
        "        return f\"<b> {result} </b>\"\n",
        "    return wrapper\n",
        "    \n",
        "def italic(func):\n",
        "    def wrapper():\n",
        "        result = func()\n",
        "        return f\"<i> {result} </i>\"\n",
        "    return wrapper\n",
        "\n",
        "def underline(func):\n",
        "    def wrapper():\n",
        "        result = func()\n",
        "        return f\"<u> {result} </u>\"\n",
        "    return wrapper    "
      ]
    },
    {
      "cell_type": "code",
      "execution_count": 106,
      "metadata": {
        "colab": {
          "base_uri": "https://localhost:8080/"
        },
        "id": "50wGH6zmSEv4",
        "outputId": "263dd662-7c5a-4f72-b394-71e04486d662"
      },
      "outputs": [
        {
          "data": {
            "text/plain": [
              "'<b> <i> <u> hello world </u> </i> </b>'"
            ]
          },
          "execution_count": 106,
          "metadata": {},
          "output_type": "execute_result"
        }
      ],
      "source": [
        "@bold\n",
        "@italic\n",
        "@underline\n",
        "def hello():\n",
        "    return \"hello world\"\n",
        "\n",
        "hello()"
      ]
    },
    {
      "cell_type": "markdown",
      "metadata": {
        "id": "miKBwPy4TQWa"
      },
      "source": [
        "### `Q8:` Write a decorator called `printer` which causes any decorated function to print their return values. If the return value of a given function is `None`, printer should do nothing.\n",
        "\n"
      ]
    },
    {
      "cell_type": "code",
      "execution_count": 149,
      "metadata": {
        "id": "05s0poRoT9II"
      },
      "outputs": [],
      "source": [
        "#Write your code here\n",
        "\n",
        "def printer(func):\n",
        "    def wrapper():\n",
        "        result = func()\n",
        "        if result is not None:\n",
        "            print(result)\n",
        "    return wrapper"
      ]
    },
    {
      "cell_type": "code",
      "execution_count": 151,
      "metadata": {
        "colab": {
          "base_uri": "https://localhost:8080/"
        },
        "id": "U86ZE73WT-ux",
        "outputId": "c9ffa235-861c-4e07-fa29-c05d4346a10f"
      },
      "outputs": [
        {
          "name": "stdout",
          "output_type": "stream",
          "text": [
            "Hello, World!\n"
          ]
        }
      ],
      "source": [
        "@printer\n",
        "def greet():\n",
        "    return \"Hello, World!\"\n",
        "\n",
        "@printer\n",
        "def say_nothing():\n",
        "    pass\n",
        "\n",
        "# Driver Code\n",
        "greet()\n",
        "say_nothing()"
      ]
    },
    {
      "cell_type": "markdown",
      "metadata": {
        "id": "DWJLjPOnURua"
      },
      "source": [
        "### `Q9:` Make a decorator which calls a given function twice. You can assume the functions don't return anything important, but they may take arguments.\n",
        "```\n",
        "#Lets say given function\n",
        "def hello(string):\n",
        "    print(string)\n",
        "\n",
        "#on calling after specified decorator is inplaced\n",
        "hello('hello')\n",
        "```\n",
        "\n",
        "Output:\n",
        "```\n",
        "hello\n",
        "hello\n",
        "```"
      ]
    },
    {
      "cell_type": "code",
      "execution_count": 154,
      "metadata": {
        "id": "e38y0cz7UTdD"
      },
      "outputs": [],
      "source": [
        "#Write your cod here\n",
        "def call_twice(func):\n",
        "    def wrapper(*args, **kwargs):\n",
        "        func(*args,**kwargs)\n",
        "        func(*args,**kwargs)\n",
        "    return wrapper"
      ]
    },
    {
      "cell_type": "code",
      "execution_count": 176,
      "metadata": {
        "colab": {
          "base_uri": "https://localhost:8080/"
        },
        "id": "6uLp_cHcUVXR",
        "outputId": "ec5be948-1f60-49a6-a691-3aaba8b54c99"
      },
      "outputs": [
        {
          "name": "stdout",
          "output_type": "stream",
          "text": [
            "hello\n",
            "hello\n"
          ]
        }
      ],
      "source": [
        "@call_twice\n",
        "def hello(string):\n",
        "    print(string)\n",
        "\n",
        "#on calling after specified decorator is inplaced\n",
        "hello('hello')"
      ]
    },
    {
      "cell_type": "markdown",
      "metadata": {
        "id": "8btcQI9pWi2w"
      },
      "source": [
        "### `Q10:` Write a decorator which doubles the return value of any function. And test that decoratos is working correctly or not using `asert`.\n",
        "\n",
        "```\n",
        "add(2,3) -> result in 10. Without decorator it should be 5.\n",
        "```"
      ]
    },
    {
      "cell_type": "code",
      "execution_count": 185,
      "metadata": {
        "id": "nG6S_zQ9XFb3"
      },
      "outputs": [],
      "source": [
        "# Write your code here\n",
        "def double(func):\n",
        "    def wrapper(*args):\n",
        "        result = func(*args)\n",
        "        return result*2\n",
        "    return wrapper"
      ]
    },
    {
      "cell_type": "code",
      "execution_count": 191,
      "metadata": {
        "id": "s16-A_RpXp2K"
      },
      "outputs": [
        {
          "name": "stdout",
          "output_type": "stream",
          "text": [
            "10\n",
            "Values are matching\n"
          ]
        }
      ],
      "source": [
        "@double\n",
        "def add(a,b):\n",
        "    return a +b\n",
        "\n",
        "print(add(2,3))\n",
        "\n",
        "assert add(2,3) == 10, \"Values are not matching\"\n",
        "print(\"Values are matching\")"
      ]
    },
    {
      "cell_type": "markdown",
      "metadata": {},
      "source": [
        "# **🔍 Complete Notes on `assert` in Python**  \n",
        "\n",
        "The `assert` statement in Python is used for debugging and ensuring code correctness by validating assumptions. If the assertion fails, Python raises an `AssertionError`.  \n",
        "\n",
        "---\n",
        "\n",
        "## **🔹 What is `assert` in Python?**  \n",
        "`assert` is a built-in statement that checks whether a given condition is `True`. If the condition is `False`, it raises an `AssertionError` exception, optionally with a custom error message.  \n",
        "\n",
        "🔹 **Syntax of `assert`**\n",
        "```python\n",
        "assert condition, \"Optional error message\"\n",
        "```\n",
        "- If `condition` evaluates to `True`: Nothing happens.\n",
        "- If `condition` evaluates to `False`: `AssertionError` is raised.\n",
        "\n",
        "---\n",
        "\n",
        "## **🔹 Basic Example**\n",
        "```python\n",
        "x = 10\n",
        "assert x > 0  # ✅ Passes because x > 0\n",
        "\n",
        "assert x < 0  # ❌ Fails, raises AssertionError\n",
        "```\n",
        "🔴 **Output:**\n",
        "```\n",
        "Traceback (most recent call last):\n",
        "  File \"<stdin>\", line 3, in <module>\n",
        "AssertionError\n",
        "```\n",
        "\n",
        "---\n",
        "\n",
        "## **🔹 Using `assert` with a Custom Message**\n",
        "```python\n",
        "age = 15\n",
        "assert age >= 18, \"You must be 18 or older to register.\"\n",
        "```\n",
        "🔴 **Output:**\n",
        "```\n",
        "Traceback (most recent call last):\n",
        "  File \"<stdin>\", line 2, in <module>\n",
        "AssertionError: You must be 18 or older to register.\n",
        "```\n",
        "\n",
        "---\n",
        "\n",
        "## **🔹 Using `assert` in Functions**\n",
        "### ✅ **Example 1: Checking Input Validity**\n",
        "```python\n",
        "def divide(a, b):\n",
        "    assert b != 0, \"Denominator cannot be zero\"\n",
        "    return a / b\n",
        "\n",
        "print(divide(10, 2))  # ✅ Works fine\n",
        "print(divide(10, 0))  # ❌ AssertionError: Denominator cannot be zero\n",
        "```\n",
        "\n",
        "---\n",
        "\n",
        "### ✅ **Example 2: Ensuring Correct Function Output**\n",
        "```python\n",
        "def square(n):\n",
        "    return n * n\n",
        "\n",
        "assert square(3) == 9, \"Incorrect result\"\n",
        "assert square(-4) == 16, \"Incorrect result\"\n",
        "assert square(5) == 25, \"Incorrect result\"\n",
        "```\n",
        "✅ No error means all assertions passed.\n",
        "\n",
        "---\n",
        "\n",
        "## **🔹 Disabling `assert` in Production Code**\n",
        "Python allows disabling assertions using the `-O` (optimize) flag. When optimization is enabled:\n",
        "- `assert` statements are ignored (no runtime cost).\n",
        "- The program runs faster.\n",
        "\n",
        "### ✅ **Disabling Assertions Using `-O`**\n",
        "```sh\n",
        "python -O my_script.py\n",
        "```\n",
        "🚀 **Best Practice:**  \n",
        "- Use `assert` **only for debugging**.  \n",
        "- **Never rely on `assert` for actual error handling** (use `raise` instead).\n",
        "\n",
        "---\n",
        "\n",
        "## **🔹 When to Use `assert`?**\n",
        "✅ **Good Uses of `assert`:**  \n",
        "✔ Checking function preconditions (e.g., inputs must be positive).  \n",
        "✔ Debugging during development.  \n",
        "✔ Verifying assumptions in critical calculations.  \n",
        "\n",
        "❌ **Bad Uses of `assert`:**  \n",
        "❌ Handling user input validation (use `if-else` and `raise`).  \n",
        "❌ Replacing exception handling mechanisms.  \n",
        "\n",
        "---\n",
        "\n",
        "## **🔹 `assert` vs. `if-else` Exception Handling**\n",
        "🔹 **Using `assert` (not recommended for production):**\n",
        "```python\n",
        "def get_price(price):\n",
        "    assert price >= 0, \"Price cannot be negative\"\n",
        "    return price\n",
        "```\n",
        "🔹 **Using `if-else` with `raise` (better for production):**\n",
        "```python\n",
        "def get_price(price):\n",
        "    if price < 0:\n",
        "        raise ValueError(\"Price cannot be negative\")\n",
        "    return price\n",
        "```\n",
        "✅ `raise` is better because it always executes, even when running Python with `-O`.\n",
        "\n",
        "---\n",
        "\n",
        "## **🔹 `assert` with Multiple Conditions**\n",
        "```python\n",
        "x = 5\n",
        "y = -2\n",
        "assert x > 0 and y > 0, \"Both x and y must be positive\"\n",
        "```\n",
        "🔴 **Output:**\n",
        "```\n",
        "AssertionError: Both x and y must be positive\n",
        "```\n",
        "\n",
        "---\n",
        "\n",
        "## **🔹 `assert` in Unit Testing**\n",
        "Assertions are widely used in unit testing to verify expected behavior.\n",
        "\n",
        "🔹 **Using `assert` in a Test Function**\n",
        "```python\n",
        "def test_sum():\n",
        "    assert sum([1, 2, 3]) == 6, \"Test Failed\"\n",
        "\n",
        "test_sum()  # ✅ No error means test passed\n",
        "```\n",
        "🔹 **Using `assert` with `unittest`**\n",
        "```python\n",
        "import unittest\n",
        "\n",
        "class TestMath(unittest.TestCase):\n",
        "    def test_addition(self):\n",
        "        self.assertEqual(2 + 2, 4)\n",
        "\n",
        "if __name__ == \"__main__\":\n",
        "    unittest.main()\n",
        "```\n",
        "✅ `assertEqual()` is used instead of `assert`.\n",
        "\n",
        "---\n",
        "\n",
        "## **🔹 Summary**\n",
        "| Feature | Description |\n",
        "|---------|-------------|\n",
        "| **Purpose** | Debugging and ensuring correctness |\n",
        "| **Syntax** | `assert condition, \"Optional error message\"` |\n",
        "| **Raises** | `AssertionError` if condition is `False` |\n",
        "| **Use Cases** | Debugging, verifying assumptions, internal checks |\n",
        "| **Not for** | User input validation, production error handling |\n",
        "| **Disabled with** | `python -O script.py` |\n",
        "\n",
        "✅ **Key Takeaways:**  \n",
        "✔ `assert` is useful for debugging but should not replace error handling.  \n",
        "✔ Assertions can be disabled in production using `-O`.  \n",
        "✔ Always use `if-else` and `raise` for critical checks.  \n",
        "\n",
        "🚀 **Best Practice:** Use `assert` for development but rely on proper error handling in production!"
      ]
    }
  ],
  "metadata": {
    "colab": {
      "provenance": []
    },
    "kernelspec": {
      "display_name": "Python 3",
      "name": "python3"
    },
    "language_info": {
      "codemirror_mode": {
        "name": "ipython",
        "version": 3
      },
      "file_extension": ".py",
      "mimetype": "text/x-python",
      "name": "python",
      "nbconvert_exporter": "python",
      "pygments_lexer": "ipython3",
      "version": "3.12.0"
    }
  },
  "nbformat": 4,
  "nbformat_minor": 0
}
