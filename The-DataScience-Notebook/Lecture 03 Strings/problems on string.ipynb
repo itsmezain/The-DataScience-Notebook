{
 "cells": [
  {
   "cell_type": "code",
   "execution_count": 2,
   "metadata": {},
   "outputs": [
    {
     "name": "stdout",
     "output_type": "stream",
     "text": [
      "The number of character in the Hello world Zain is 16\n"
     ]
    }
   ],
   "source": [
    "# Find the length of a given string without using the len() function\n",
    "\n",
    "s = input(\"Enter the string\")\n",
    "\n",
    "num = 0\n",
    "for i in s:\n",
    "    num += 1\n",
    "    \n",
    "print(\"The number of character in the {} is {}\".format(s,num))"
   ]
  },
  {
   "cell_type": "code",
   "execution_count": 4,
   "metadata": {},
   "outputs": [
    {
     "name": "stdout",
     "output_type": "stream",
     "text": [
      "The username extract from the email is zain\n"
     ]
    }
   ],
   "source": [
    "# Extract username from a given email.\n",
    "# Eg if the email is nitish24singh@gmail.com\n",
    "# then the username should be nitish24singh\n",
    "\n",
    "s = input(\"Enter the email : \")\n",
    "\n",
    "username = s.split(\"@\")[0]\n",
    "print(\"The username extract from the email is {}\".format(username))\n",
    "\n"
   ]
  },
  {
   "cell_type": "code",
   "execution_count": 8,
   "metadata": {},
   "outputs": [
    {
     "name": "stdout",
     "output_type": "stream",
     "text": [
      "The number of w in the helloww is 2\n"
     ]
    }
   ],
   "source": [
    "# Count the frequency of a particular character in a provided string.\n",
    "# Eg 'hello how are you' is the string, the frequency of h in this string is 2.\n",
    "\n",
    "s = input(\"Enter the string : \")\n",
    "c = input(\"Enter the character you want to find the character : \")\n",
    "\n",
    "print(\"The number of {} in the {} is {}\".format(c,s,s.count(c)))"
   ]
  },
  {
   "cell_type": "code",
   "execution_count": 12,
   "metadata": {},
   "outputs": [
    {
     "name": "stdout",
     "output_type": "stream",
     "text": [
      "ello\n"
     ]
    }
   ],
   "source": [
    "# Write a program which can remove a particular character from a string.\n",
    "\n",
    "s = input(\"Enter the string : \")\n",
    "c = input(\"Enter the character you want to remove from the string : \")\n",
    "\n",
    "new_s = \"\"\n",
    "\n",
    "for i in s:\n",
    "    if i == c:\n",
    "        continue\n",
    "    new_s += i\n",
    "    \n",
    "print(new_s)"
   ]
  },
  {
   "cell_type": "code",
   "execution_count": 17,
   "metadata": {},
   "outputs": [
    {
     "name": "stdout",
     "output_type": "stream",
     "text": [
      "The given string is panlindrome\n"
     ]
    }
   ],
   "source": [
    "# Write a program that can check whether a given string is palindrome or not.\n",
    "# abba\n",
    "# malayalam\n",
    "\n",
    "s = input(\"Enter the string : \")\n",
    "if s == s[::-1]:\n",
    "    print(\"The given string is panlindrome\")\n",
    "else:\n",
    "    print(\"The given string is not a paliindrome\")"
   ]
  },
  {
   "cell_type": "code",
   "execution_count": 19,
   "metadata": {},
   "outputs": [
    {
     "name": "stdout",
     "output_type": "stream",
     "text": [
      "The number of word in the string is 2\n"
     ]
    }
   ],
   "source": [
    "# Write a program to count the number of words in a string without split()\n",
    "\n",
    "s = input(\"Enter the string : \")\n",
    "\n",
    "count_word = 0\n",
    "\n",
    "if s != \"\":\n",
    "    count_word += 1 \n",
    "\n",
    "for i in s:\n",
    "    if i == \" \":\n",
    "        count_word += 1\n",
    "\n",
    "print(\"The number of word in the string is {}\".format(count_word))\n"
   ]
  },
  {
   "cell_type": "code",
   "execution_count": 25,
   "metadata": {},
   "outputs": [
    {
     "name": "stdout",
     "output_type": "stream",
     "text": [
      "Hello World Zain\n"
     ]
    }
   ],
   "source": [
    "# Write a python program to convert a string to title case without using the title()\n",
    "s = input(\"Enter the string : \")\n",
    "title_s = ''\n",
    "\n",
    "capital = True\n",
    "for i in s:\n",
    "    if i == ' ':\n",
    "        capital = True\n",
    "        title_s += i\n",
    "    elif capital == True:\n",
    "        title_s += i.upper()\n",
    "        capital = False\n",
    "    else:\n",
    "        title_s += i.lower()\n",
    "print(title_s)"
   ]
  },
  {
   "cell_type": "code",
   "execution_count": 35,
   "metadata": {},
   "outputs": [
    {
     "data": {
      "text/plain": [
       "'321'"
      ]
     },
     "execution_count": 35,
     "metadata": {},
     "output_type": "execute_result"
    }
   ],
   "source": [
    "# Write a program that can convert an integer to string.\n",
    "\n",
    "num = int(input(\"Entre the number : \"))\n",
    "\n",
    "digits = '0123456789'\n",
    "s = ''\n",
    "while num > 0:\n",
    "    dig = num % 10\n",
    "    s = digits[dig] + s\n",
    "    num = num // 10\n",
    "s"
   ]
  }
 ],
 "metadata": {
  "kernelspec": {
   "display_name": "Python 3",
   "language": "python",
   "name": "python3"
  },
  "language_info": {
   "codemirror_mode": {
    "name": "ipython",
    "version": 3
   },
   "file_extension": ".py",
   "mimetype": "text/x-python",
   "name": "python",
   "nbconvert_exporter": "python",
   "pygments_lexer": "ipython3",
   "version": "3.12.0"
  }
 },
 "nbformat": 4,
 "nbformat_minor": 2
}
