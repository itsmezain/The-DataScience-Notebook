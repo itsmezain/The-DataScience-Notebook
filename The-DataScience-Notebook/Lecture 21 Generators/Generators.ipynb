{
 "cells": [
  {
   "cell_type": "markdown",
   "metadata": {},
   "source": [
    "<center><h1>Generators</h1></center>"
   ]
  },
  {
   "cell_type": "markdown",
   "metadata": {},
   "source": [
    "## What is a Generator\n",
    "\n",
    "Python generators are a simple way of creating iterators. "
   ]
  },
  {
   "cell_type": "code",
   "execution_count": 1,
   "metadata": {},
   "outputs": [],
   "source": [
    "# iterable\n",
    "class mera_range:\n",
    "    \n",
    "    def __init__(self,start,end):\n",
    "        self.start = start\n",
    "        self.end = end\n",
    "        \n",
    "    def __iter__(self):\n",
    "        return mera_iterator(self)\n",
    "    \n",
    "\n",
    "# iterator\n",
    "class mera_iterator:\n",
    "    \n",
    "    def __init__(self,iterable_obj):\n",
    "        self.iterable = iterable_obj\n",
    "    \n",
    "    def __iter__(self):\n",
    "        return self\n",
    "    \n",
    "    def __next__(self):\n",
    "        \n",
    "        if self.iterable.start >= self.iterable.end:\n",
    "            raise StopIteration\n",
    "        \n",
    "        current = self.iterable.start\n",
    "        self.iterable.start+=1\n",
    "        return current"
   ]
  },
  {
   "cell_type": "markdown",
   "metadata": {},
   "source": [
    "## The Why => Iterators are used"
   ]
  },
  {
   "cell_type": "code",
   "execution_count": 3,
   "metadata": {},
   "outputs": [
    {
     "name": "stdout",
     "output_type": "stream",
     "text": [
      "800984\n"
     ]
    },
    {
     "data": {
      "text/plain": [
       "48"
      ]
     },
     "execution_count": 3,
     "metadata": {},
     "output_type": "execute_result"
    }
   ],
   "source": [
    "L = [x for x in range(100000)]\n",
    "\n",
    "#for i in L:\n",
    "    #print(i**2)\n",
    "    \n",
    "import sys\n",
    "print(sys.getsizeof(L))\n",
    "\n",
    "x = range(10000000)\n",
    "\n",
    "#for i in x:\n",
    "    #print(i**2)\n",
    "sys.getsizeof(x)"
   ]
  },
  {
   "cell_type": "markdown",
   "metadata": {},
   "source": [
    "## A Simple Example"
   ]
  },
  {
   "cell_type": "code",
   "execution_count": 4,
   "metadata": {},
   "outputs": [],
   "source": [
    "def gen_demo():\n",
    "    # generators me return keyword nhi use hota balki yield use hota hai\n",
    "    yield \"firststatement\"\n",
    "    yield \"secondstatement\"\n",
    "    yield \"thirdstatement\""
   ]
  },
  {
   "cell_type": "code",
   "execution_count": 12,
   "metadata": {},
   "outputs": [
    {
     "name": "stdout",
     "output_type": "stream",
     "text": [
      "<generator object gen_demo at 0x0000000007F35220>\n",
      "firststatement\n",
      "secondstatement\n",
      "thirdstatement\n"
     ]
    }
   ],
   "source": [
    "gen = gen_demo() # iss statement se function calling nhi ho rhe hai gen_demo() function call tbhi hoga jb next() call karenge \n",
    "print(gen)\n",
    "print((next(gen)))\n",
    "print((next(gen)))\n",
    "print((next(gen)))\n",
    "# print((next(gen))) => isme error aaega\n"
   ]
  },
  {
   "cell_type": "code",
   "execution_count": 21,
   "metadata": {},
   "outputs": [
    {
     "name": "stdout",
     "output_type": "stream",
     "text": [
      "firststatement\n",
      "secondstatement\n",
      "thirdstatement\n"
     ]
    }
   ],
   "source": [
    "# upar cell ka same kaam loop se bhi kar skte\n",
    " \n",
    "gen = gen_demo() # iss statement se function calling nhi ho rhe hai gen_demo() function call tbhi hoga jb for loop chal rha hia \n",
    "for i in gen:\n",
    "    print(i)"
   ]
  },
  {
   "cell_type": "code",
   "execution_count": 28,
   "metadata": {},
   "outputs": [
    {
     "name": "stdout",
     "output_type": "stream",
     "text": [
      "secondstatement\n",
      "thirdstatement\n"
     ]
    }
   ],
   "source": [
    "# upar cell ka same kaam loop se bhi kar skte\n",
    " \n",
    "gen = gen_demo() # iss statement se function calling nhi ho rhe hai gen_demo() function call tbhi hoga jb for loop chal rha hia \n",
    "for i in gen:\n",
    "    for j in gen:\n",
    "        print(j)\n",
    "    # print(i)\n",
    "    \n",
    "# notice ke loop 3*3 times nhi chala kyuki yoeld ydd rkhte hai kaha tkk loop chal gya hai iss liye woo sif teen brr print kar rhe hai \n",
    "\n",
    "# DRY \n",
    "# 1 -outter loop => call gen_demo() then inner loop call the gen_demo() so that why secondstatement print huva\n",
    "\n",
    "# 2 - inner  loop => call gen_demo() then so that why thirdstatement print huva\n",
    "\n",
    "# 3- outter loop => me first statement store iss liye first statement print huve"
   ]
  },
  {
   "cell_type": "markdown",
   "metadata": {},
   "source": [
    "## Python Tutor Demo (yield vs return)"
   ]
  },
  {
   "cell_type": "code",
   "execution_count": null,
   "metadata": {},
   "outputs": [],
   "source": []
  },
  {
   "cell_type": "markdown",
   "metadata": {},
   "source": [
    "## Example 2"
   ]
  },
  {
   "cell_type": "code",
   "execution_count": 30,
   "metadata": {},
   "outputs": [],
   "source": [
    "def square(num):\n",
    "    for i in range(1,num+1):\n",
    "        yield i**2"
   ]
  },
  {
   "cell_type": "code",
   "execution_count": 33,
   "metadata": {},
   "outputs": [
    {
     "name": "stdout",
     "output_type": "stream",
     "text": [
      "1\n",
      "4\n",
      "9\n",
      "16\n",
      "25\n",
      "36\n",
      "49\n",
      "64\n",
      "81\n",
      "100\n"
     ]
    }
   ],
   "source": [
    "gen = square(10)\n",
    "\n",
    "print(next(gen))\n",
    "print(next(gen))\n",
    "print(next(gen))\n",
    "print(next(gen))\n",
    "# yaha par 4 brr next kar karne par bhi yield ke wajah se generator function ne apne state ko ydd rkhna aur aage se loop ko run kiya\n",
    "for i in gen:\n",
    "    print(i)"
   ]
  },
  {
   "cell_type": "markdown",
   "metadata": {},
   "source": [
    "## Range Function using Generator"
   ]
  },
  {
   "cell_type": "code",
   "execution_count": null,
   "metadata": {},
   "outputs": [],
   "source": [
    "def mera_range(start,end):\n",
    "    \n",
    "    for i in range(start,end):\n",
    "        yield i"
   ]
  },
  {
   "cell_type": "code",
   "execution_count": 35,
   "metadata": {},
   "outputs": [
    {
     "name": "stdout",
     "output_type": "stream",
     "text": [
      "11\n",
      "12\n",
      "13\n",
      "14\n",
      "15\n",
      "16\n",
      "17\n",
      "18\n",
      "19\n",
      "20\n",
      "21\n",
      "22\n",
      "23\n",
      "24\n"
     ]
    }
   ],
   "source": [
    "gen = mera_range(11,25)\n",
    "\n",
    "for i in gen:\n",
    "    print(i)"
   ]
  },
  {
   "cell_type": "markdown",
   "metadata": {},
   "source": [
    "<center> OR"
   ]
  },
  {
   "cell_type": "code",
   "execution_count": 36,
   "metadata": {},
   "outputs": [
    {
     "name": "stdout",
     "output_type": "stream",
     "text": [
      "11\n",
      "12\n",
      "13\n",
      "14\n",
      "15\n",
      "16\n",
      "17\n",
      "18\n",
      "19\n",
      "20\n",
      "21\n",
      "22\n",
      "23\n",
      "24\n"
     ]
    }
   ],
   "source": [
    "for i in mera_range(11,25):\n",
    "    print(i)"
   ]
  },
  {
   "cell_type": "markdown",
   "metadata": {},
   "source": [
    "## Generator Expression"
   ]
  },
  {
   "cell_type": "code",
   "execution_count": 42,
   "metadata": {},
   "outputs": [
    {
     "name": "stdout",
     "output_type": "stream",
     "text": [
      "920\n"
     ]
    }
   ],
   "source": [
    "# list comprehension\n",
    "\n",
    "l = [i**2 for i in range(1,101)] \n",
    "\n",
    "print(sys.getsizeof(l))"
   ]
  },
  {
   "cell_type": "code",
   "execution_count": 43,
   "metadata": {},
   "outputs": [
    {
     "name": "stdout",
     "output_type": "stream",
     "text": [
      "200\n"
     ]
    }
   ],
   "source": [
    "# generator expression\n",
    "gen = (i**2 for i in range(1,101))\n",
    "print(sys.getsizeof(gen))"
   ]
  },
  {
   "cell_type": "markdown",
   "metadata": {},
   "source": [
    "## Practical Example"
   ]
  },
  {
   "cell_type": "code",
   "execution_count": null,
   "metadata": {},
   "outputs": [],
   "source": [
    "import os\n",
    "import cv2\n",
    "\n",
    "def image_data_reader(folder_path):\n",
    "\n",
    "    for file in os.listdir(folder_path):\n",
    "        f_array = cv2.imread(os.path.join(folder_path,file))\n",
    "        yield f_array\n",
    "        \n",
    "gen = image_data_reader('C:/Users/91842/emotion-detector/train/Sad')\n",
    "\n",
    "next(gen)\n",
    "next(gen)\n",
    "\n",
    "next(gen)\n",
    "next(gen)"
   ]
  },
  {
   "cell_type": "markdown",
   "metadata": {},
   "source": [
    "Upar code me ek function hai image_data_reader() jo ek generator hai. Ye generator ek ek karke images ko read karta hai.\n",
    "\n",
    "hamare folder me image 20GB ka data ho aur hamare RAM sif 8GB ke ho too ek sath data ko RAM me load nhi kar payenge iss liye generator ek ek kar ke data ko read karta hai using next()."
   ]
  },
  {
   "cell_type": "markdown",
   "metadata": {},
   "source": [
    "## Benefits of using a Generator"
   ]
  },
  {
   "cell_type": "markdown",
   "metadata": {},
   "source": [
    "#### 1. Ease of Implementation"
   ]
  },
  {
   "cell_type": "code",
   "execution_count": 44,
   "metadata": {},
   "outputs": [],
   "source": [
    "class mera_range:\n",
    "    \n",
    "    def __init__(self,start,end):\n",
    "        self.start = start\n",
    "        self.end = end\n",
    "        \n",
    "    def __iter__(self):\n",
    "        return mera_iterator(self)"
   ]
  },
  {
   "cell_type": "code",
   "execution_count": 45,
   "metadata": {},
   "outputs": [],
   "source": [
    "# iterator\n",
    "class mera_iterator:\n",
    "    \n",
    "    def __init__(self,iterable_obj):\n",
    "        self.iterable = iterable_obj\n",
    "    \n",
    "    def __iter__(self):\n",
    "        return self\n",
    "    \n",
    "    def __next__(self):\n",
    "        \n",
    "        if self.iterable.start >= self.iterable.end:\n",
    "            raise StopIteration\n",
    "        \n",
    "        current = self.iterable.start\n",
    "        self.iterable.start+=1\n",
    "        return current"
   ]
  },
  {
   "cell_type": "code",
   "execution_count": 46,
   "metadata": {},
   "outputs": [],
   "source": [
    "def mera_range(start,end):\n",
    "    \n",
    "    for i in range(start,end):\n",
    "        yield i"
   ]
  },
  {
   "cell_type": "markdown",
   "metadata": {},
   "source": [
    "#### 2. Memory Efficient"
   ]
  },
  {
   "cell_type": "code",
   "execution_count": 47,
   "metadata": {},
   "outputs": [
    {
     "name": "stdout",
     "output_type": "stream",
     "text": [
      "Size of L in memory 800984\n",
      "Size of gen in memory 192\n"
     ]
    }
   ],
   "source": [
    "L = [x for x in range(100000)]\n",
    "gen = (x for x in range(100000))\n",
    "\n",
    "import sys\n",
    "\n",
    "print('Size of L in memory',sys.getsizeof(L))\n",
    "print('Size of gen in memory',sys.getsizeof(gen))"
   ]
  },
  {
   "cell_type": "markdown",
   "metadata": {},
   "source": [
    "#### 3. Representing Infinite Streams"
   ]
  },
  {
   "cell_type": "code",
   "execution_count": 48,
   "metadata": {},
   "outputs": [],
   "source": [
    "def all_even():\n",
    "    n = 0\n",
    "    while True:\n",
    "        yield n\n",
    "        n += 2"
   ]
  },
  {
   "cell_type": "code",
   "execution_count": 49,
   "metadata": {},
   "outputs": [
    {
     "data": {
      "text/plain": [
       "2"
      ]
     },
     "execution_count": 49,
     "metadata": {},
     "output_type": "execute_result"
    }
   ],
   "source": [
    "even_num_gen = all_even()\n",
    "next(even_num_gen)\n",
    "next(even_num_gen)"
   ]
  },
  {
   "cell_type": "markdown",
   "metadata": {},
   "source": [
    "#### 4. Chaining Generators"
   ]
  },
  {
   "cell_type": "code",
   "execution_count": 50,
   "metadata": {},
   "outputs": [
    {
     "name": "stdout",
     "output_type": "stream",
     "text": [
      "4895\n"
     ]
    }
   ],
   "source": [
    "def fibonacci_numbers(nums):\n",
    "    x, y = 0, 1\n",
    "    for _ in range(nums):\n",
    "        x, y = y, x+y\n",
    "        yield x\n",
    "\n",
    "def square(nums):\n",
    "    for num in nums:\n",
    "        yield num**2\n",
    "\n",
    "print(sum(square(fibonacci_numbers(10))))"
   ]
  },
  {
   "cell_type": "markdown",
   "metadata": {},
   "source": [
    "Here's a comprehensive and detailed explanation of **Generators in Python**, covering every aspect so that nothing is left to learn on this topic.\n",
    "\n",
    "---\n",
    "\n",
    "# **Generators in Python**\n",
    "## **1. What are Generators?**\n",
    "A **generator** in Python is a **special type of iterator** that allows you to iterate over data **without storing it all in memory**. Instead of returning all values at once (like lists), **generators produce values one at a time**, making them **memory-efficient**.\n",
    "\n",
    "Generators are created using:\n",
    "1. **Generator functions** (using `yield`)\n",
    "2. **Generator expressions** (similar to list comprehensions but with `()`)\n",
    "\n",
    "---\n",
    "\n",
    "## **2. How Generators Work?**\n",
    "- Unlike normal functions, **generators don’t return values** with `return`, they use `yield`.\n",
    "- The `yield` statement **pauses** the function’s execution, **saves its state**, and returns a value.\n",
    "- The function **resumes from where it was paused** when `next()` is called again.\n",
    "\n",
    "### **Example: Basic Generator**\n",
    "```python\n",
    "def my_generator():\n",
    "    yield 1\n",
    "    yield 2\n",
    "    yield 3\n",
    "\n",
    "gen = my_generator()\n",
    "print(next(gen))  # Output: 1\n",
    "print(next(gen))  # Output: 2\n",
    "print(next(gen))  # Output: 3\n",
    "print(next(gen))  # Raises StopIteration\n",
    "```\n",
    "🔹 **Key points:**\n",
    "- `yield` pauses execution and remembers where it left off.\n",
    "- Calling `next()` resumes execution from the last `yield` statement.\n",
    "- A `StopIteration` exception is raised when the generator is exhausted.\n",
    "\n",
    "---\n",
    "\n",
    "## **3. Generator vs Normal Function**\n",
    "| Feature | Normal Function | Generator Function |\n",
    "|---------|----------------|--------------------|\n",
    "| Returns | `return` (exits after returning) | `yield` (pauses & resumes) |\n",
    "| Memory Usage | Stores all values in memory | Generates values one at a time |\n",
    "| Execution | Runs completely when called | Runs only when `next()` is called |\n",
    "| Speed | Can be slow for large data | More efficient for large data |\n",
    "\n",
    "### **Example Comparison**\n",
    "#### **Using a Normal Function (Consumes More Memory)**\n",
    "```python\n",
    "def square_numbers(n):\n",
    "    result = []\n",
    "    for i in range(n):\n",
    "        result.append(i * i)\n",
    "    return result\n",
    "\n",
    "print(square_numbers(5))  # Output: [0, 1, 4, 9, 16]\n",
    "```\n",
    "- The **entire list** is stored in memory at once.\n",
    "\n",
    "#### **Using a Generator (More Memory-Efficient)**\n",
    "```python\n",
    "def square_numbers(n):\n",
    "    for i in range(n):\n",
    "        yield i * i\n",
    "\n",
    "gen = square_numbers(5)\n",
    "print(list(gen))  # Output: [0, 1, 4, 9, 16]\n",
    "```\n",
    "- Values are **generated on demand**, saving memory.\n",
    "\n",
    "---\n",
    "\n",
    "## **4. Creating Generators**\n",
    "### **A. Using `yield` in Functions**\n",
    "A function with `yield` **automatically becomes a generator**.\n",
    "```python\n",
    "def count_up_to(n):\n",
    "    count = 1\n",
    "    while count <= n:\n",
    "        yield count\n",
    "        count += 1\n",
    "\n",
    "counter = count_up_to(5)\n",
    "for num in counter:\n",
    "    print(num)  # Output: 1 2 3 4 5\n",
    "```\n",
    "- Each `yield` **pauses execution** and returns the value.\n",
    "- **Iteration resumes from the last `yield` statement**.\n",
    "\n",
    "---\n",
    "\n",
    "### **B. Generator Expressions (Similar to List Comprehensions)**\n",
    "Instead of:\n",
    "```python\n",
    "nums = (x*x for x in range(5))\n",
    "```\n",
    "We could write:\n",
    "```python\n",
    "nums = [x*x for x in range(5)]\n",
    "```\n",
    "🔹 **Key Difference:** The first is a **generator expression** (doesn't store values in memory), while the second is a **list comprehension** (stores all values at once).\n",
    "\n",
    "#### **Example: Generator Expression**\n",
    "```python\n",
    "gen = (x**2 for x in range(5))\n",
    "print(next(gen))  # Output: 0\n",
    "print(next(gen))  # Output: 1\n",
    "print(next(gen))  # Output: 4\n",
    "```\n",
    "---\n",
    "\n",
    "## **5. Memory Efficiency of Generators**\n",
    "Generators are useful when working with **large data**.\n",
    "\n",
    "### **Example: Without Generator (Consumes More Memory)**\n",
    "```python\n",
    "import sys\n",
    "numbers = [x for x in range(1000000)]\n",
    "print(sys.getsizeof(numbers))  # Output: ~8MB\n",
    "```\n",
    "### **Example: With Generator (Consumes Less Memory)**\n",
    "```python\n",
    "numbers_gen = (x for x in range(1000000))\n",
    "print(sys.getsizeof(numbers_gen))  # Output: ~112 bytes\n",
    "```\n",
    "💡 **Takeaway:** The generator **only stores the logic** and produces values **on demand**.\n",
    "\n",
    "---\n",
    "\n",
    "## **6. `yield` vs `return`**\n",
    "| Feature | `return` | `yield` |\n",
    "|---------|---------|---------|\n",
    "| Stops execution? | Yes | No, pauses execution |\n",
    "| Memory | Stores all values | Generates values on demand |\n",
    "| Used in? | Normal functions | Generator functions |\n",
    "| Resumable? | No | Yes |\n",
    "\n",
    "Example:\n",
    "```python\n",
    "def test_return():\n",
    "    return 1\n",
    "    return 2  # This will never execute\n",
    "\n",
    "print(test_return())  # Output: 1\n",
    "```\n",
    "```python\n",
    "def test_yield():\n",
    "    yield 1\n",
    "    yield 2\n",
    "\n",
    "gen = test_yield()\n",
    "print(next(gen))  # Output: 1\n",
    "print(next(gen))  # Output: 2\n",
    "```\n",
    "\n",
    "---\n",
    "\n",
    "## **7. Generator Methods: `send()`, `throw()`, `close()`**\n",
    "### **A. `send(value)` – Sending Data to Generators**\n",
    "- `send()` allows **sending a value** to a generator.\n",
    "- The **value replaces the `yield` expression**.\n",
    "\n",
    "```python\n",
    "def my_generator():\n",
    "    val = yield \"Hello\"\n",
    "    print(\"Received:\", val)\n",
    "\n",
    "gen = my_generator()\n",
    "print(next(gen))   # Output: Hello\n",
    "print(gen.send(\"World\"))  # Output: Received: World\n",
    "```\n",
    "\n",
    "### **B. `throw(exception_type)` – Raising an Exception in Generators**\n",
    "- This **injects an exception** into a generator.\n",
    "```python\n",
    "def my_generator():\n",
    "    try:\n",
    "        yield \"Hello\"\n",
    "    except ValueError:\n",
    "        yield \"ValueError caught\"\n",
    "\n",
    "gen = my_generator()\n",
    "print(next(gen))   # Output: Hello\n",
    "print(gen.throw(ValueError))  # Output: ValueError caught\n",
    "```\n",
    "\n",
    "### **C. `close()` – Closing a Generator**\n",
    "- `close()` **stops execution** of a generator.\n",
    "```python\n",
    "def my_generator():\n",
    "    yield \"Hello\"\n",
    "    yield \"World\"\n",
    "\n",
    "gen = my_generator()\n",
    "print(next(gen))  # Output: Hello\n",
    "gen.close()  # Stops the generator\n",
    "print(next(gen))  # Raises StopIteration\n",
    "```\n",
    "\n",
    "---\n",
    "\n",
    "## **8. Real-World Use Cases**\n",
    "1. **Reading Large Files Efficiently**\n",
    "```python\n",
    "def read_large_file(filename):\n",
    "    with open(filename, \"r\") as file:\n",
    "        for line in file:\n",
    "            yield line.strip()\n",
    "\n",
    "for line in read_large_file(\"large.txt\"):\n",
    "    print(line)\n",
    "```\n",
    "2. **Infinite Sequences (Lazy Evaluation)**\n",
    "```python\n",
    "def infinite_counter():\n",
    "    num = 0\n",
    "    while True:\n",
    "        yield num\n",
    "        num += 1\n",
    "\n",
    "counter = infinite_counter()\n",
    "print(next(counter))  # Output: 0\n",
    "print(next(counter))  # Output: 1\n",
    "```\n",
    "3. **Efficient Fibonacci Generator**\n",
    "```python\n",
    "def fibonacci():\n",
    "    a, b = 0, 1\n",
    "    while True:\n",
    "        yield a\n",
    "        a, b = b, a + b\n",
    "\n",
    "fib = fibonacci()\n",
    "print(next(fib))  # Output: 0\n",
    "print(next(fib))  # Output: 1\n",
    "print(next(fib))  # Output: 1\n",
    "```\n",
    "\n",
    "---\n",
    "\n",
    "## **9. Summary**\n",
    "| Feature | Generators |\n",
    "|---------|-----------|\n",
    "| Created using | `yield` or generator expressions |\n",
    "| Memory Usage | Low (doesn’t store all values) |\n",
    "| Execution | Lazy evaluation (on demand) |\n",
    "| Supports `next()` | Yes |\n",
    "| Can be resumed | Yes (remembers state) |\n",
    "\n",
    "✅ **Generators are best for handling large data and infinite sequences efficiently!** 🚀"
   ]
  },
  {
   "cell_type": "markdown",
   "metadata": {},
   "source": [
    "#### Data Pipelines  \n",
    "\n",
    "**Chaining generators creates efficient data processing pipelines.**\n",
    "\n",
    "Example:\n",
    "\n",
    "```Python\n",
    "\n",
    "def data_source():\n",
    "   for i in range(1000000):\n",
    "        yield i\n",
    "\n",
    "def data_transformer(source):\n",
    "    for data in source:\n",
    "        yield data * 2\n",
    "\n",
    "def data_consumer(transformed_data):\n",
    "    for item in transformed_data:\n",
    "        print(item)\n",
    "\n",
    "data = data_source()\n",
    "transformed = data_transformer(data)\n",
    "data_consumer(transformed)\n",
    "```\n"
   ]
  }
 ],
 "metadata": {
  "kernelspec": {
   "display_name": "Python 3",
   "language": "python",
   "name": "python3"
  },
  "language_info": {
   "codemirror_mode": {
    "name": "ipython",
    "version": 3
   },
   "file_extension": ".py",
   "mimetype": "text/x-python",
   "name": "python",
   "nbconvert_exporter": "python",
   "pygments_lexer": "ipython3",
   "version": "3.12.0"
  }
 },
 "nbformat": 4,
 "nbformat_minor": 2
}
